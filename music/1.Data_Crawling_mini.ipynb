{
 "cells": [
  {
   "cell_type": "code",
   "execution_count": 1,
   "metadata": {
    "ExecuteTime": {
     "end_time": "2019-04-28T06:18:47.064889Z",
     "start_time": "2019-04-28T06:18:44.395817Z"
    }
   },
   "outputs": [],
   "source": [
    "from selenium import webdriver\n",
    "\n",
    "#opt.add_argument('headless')\n",
    "#opt = webdriver.ChromeOptions()\n",
    "#dr=webdriver.Chrome('C:/Users/wjssm/Documents/chromedriver.exe',chrome_options = opt) #nothings happen\n",
    "dr = webdriver.Chrome('C:/Users/wjssm/Documents/chromedriver.exe')\n"
   ]
  },
  {
   "cell_type": "code",
   "execution_count": 164,
   "metadata": {
    "ExecuteTime": {
     "end_time": "2019-04-28T07:02:46.808395Z",
     "start_time": "2019-04-28T07:02:44.158927Z"
    }
   },
   "outputs": [],
   "source": [
    "pageNo = str(100)\n",
    "dr.get('https://music.bugs.co.kr/newest/album/kpoppicked?page='+pageNo)"
   ]
  },
  {
   "cell_type": "markdown",
   "metadata": {},
   "source": [
    "- 한 페이지당 7 x 10 70개의 앨범\n",
    "- 대략 100~110 만 긁어보자"
   ]
  },
  {
   "cell_type": "markdown",
   "metadata": {},
   "source": [
    "`고민거리`\n",
    "- 새로운 노래가 업데이트 되면 페이지도 달라지는 거 아닌가..?"
   ]
  },
  {
   "cell_type": "code",
   "execution_count": 3,
   "metadata": {
    "ExecuteTime": {
     "end_time": "2019-04-28T06:18:59.280079Z",
     "start_time": "2019-04-28T06:18:58.256546Z"
    }
   },
   "outputs": [],
   "source": [
    "import pandas as pd\n",
    "import numpy as np"
   ]
  },
  {
   "cell_type": "markdown",
   "metadata": {},
   "source": [
    "# 연습"
   ]
  },
  {
   "cell_type": "code",
   "execution_count": 165,
   "metadata": {
    "ExecuteTime": {
     "end_time": "2019-04-28T07:02:46.956676Z",
     "start_time": "2019-04-28T07:02:46.812365Z"
    }
   },
   "outputs": [],
   "source": [
    "container = dr.find_element_by_id('container')\n",
    "section = container.find_element_by_css_selector('section[class = \"sectionPadding\"]')\n",
    "div  = section.find_element_by_css_selector('div')\n",
    "lis = div.find_elements_by_css_selector('li')"
   ]
  },
  {
   "cell_type": "code",
   "execution_count": 166,
   "metadata": {
    "ExecuteTime": {
     "end_time": "2019-04-28T07:02:46.964287Z",
     "start_time": "2019-04-28T07:02:46.961185Z"
    }
   },
   "outputs": [],
   "source": [
    "music_info = {}"
   ]
  },
  {
   "cell_type": "markdown",
   "metadata": {},
   "source": [
    "## artist"
   ]
  },
  {
   "cell_type": "code",
   "execution_count": 167,
   "metadata": {
    "ExecuteTime": {
     "end_time": "2019-04-28T07:02:50.301987Z",
     "start_time": "2019-04-28T07:02:50.207829Z"
    }
   },
   "outputs": [
    {
     "data": {
      "text/plain": [
       "{'artist': ['박지윤']}"
      ]
     },
     "execution_count": 167,
     "metadata": {},
     "output_type": "execute_result"
    }
   ],
   "source": [
    "fig = lis[1].find_element_by_css_selector('figcaption')\n",
    "\n",
    "p = fig.find_element_by_css_selector('p[class = \"artist\"]')\n",
    "\n",
    "try : #링크로 걸려있는 artist\n",
    "    music_info['artist'] = [p.find_element_by_css_selector('a').text]\n",
    "    \n",
    "except :\n",
    "    music_info['artist'] = [p.find_element_by_css_selector('span').text]\n",
    "music_info\n"
   ]
  },
  {
   "cell_type": "markdown",
   "metadata": {},
   "source": [
    "## 앨범명"
   ]
  },
  {
   "cell_type": "code",
   "execution_count": 168,
   "metadata": {
    "ExecuteTime": {
     "end_time": "2019-04-28T07:02:52.803201Z",
     "start_time": "2019-04-28T07:02:52.766818Z"
    }
   },
   "outputs": [
    {
     "data": {
      "text/plain": [
       "{'artist': ['박지윤'], 'album_title': ['Journey']}"
      ]
     },
     "execution_count": 168,
     "metadata": {},
     "output_type": "execute_result"
    }
   ],
   "source": [
    "#album title\n",
    "a = fig.find_element_by_css_selector('a')\n",
    "music_info['album_title'] = [a.get_attribute('title')]\n",
    "music_info"
   ]
  },
  {
   "cell_type": "markdown",
   "metadata": {},
   "source": [
    "## 앨범 클릭"
   ]
  },
  {
   "cell_type": "code",
   "execution_count": 169,
   "metadata": {
    "ExecuteTime": {
     "end_time": "2019-04-28T07:02:56.106485Z",
     "start_time": "2019-04-28T07:02:53.734410Z"
    }
   },
   "outputs": [],
   "source": [
    "#click 앨범 정보 페이지로 이동\n",
    "a.click()"
   ]
  },
  {
   "cell_type": "markdown",
   "metadata": {},
   "source": [
    "## 앨범 정보"
   ]
  },
  {
   "cell_type": "code",
   "execution_count": 170,
   "metadata": {
    "ExecuteTime": {
     "end_time": "2019-04-28T07:02:57.515324Z",
     "start_time": "2019-04-28T07:02:57.353003Z"
    }
   },
   "outputs": [],
   "source": [
    "div = dr.find_element_by_class_name('basicInfo')\n",
    "tbody = div.find_element_by_css_selector('tbody')\n",
    "trs = tbody.find_elements_by_css_selector('tr')"
   ]
  },
  {
   "cell_type": "code",
   "execution_count": 171,
   "metadata": {
    "ExecuteTime": {
     "end_time": "2019-04-28T07:02:58.448896Z",
     "start_time": "2019-04-28T07:02:57.774442Z"
    }
   },
   "outputs": [
    {
     "data": {
      "text/plain": [
       "{'artist': ['박지윤'],\n",
       " 'album_title': ['Journey'],\n",
       " '앨범 종류': ['싱글'],\n",
       " '발매일': ['2018.07.29'],\n",
       " '스타일': ['연주 음악'],\n",
       " '기획사': ['박지윤크리에이티브'],\n",
       " '유통사': ['Sony Music'],\n",
       " '재생 시간': ['08:00']}"
      ]
     },
     "execution_count": 171,
     "metadata": {},
     "output_type": "execute_result"
    }
   ],
   "source": [
    "for tr in trs[1:] : #except artist\n",
    "    th = tr.find_element_by_css_selector('th')\n",
    "    td = tr.find_element_by_css_selector('td')\n",
    "    \n",
    "    music_info[th.text] = [td.text]\n",
    "    \n",
    "music_info"
   ]
  },
  {
   "cell_type": "markdown",
   "metadata": {},
   "source": [
    "## 수록곡"
   ]
  },
  {
   "cell_type": "code",
   "execution_count": 172,
   "metadata": {
    "ExecuteTime": {
     "end_time": "2019-04-28T07:03:00.460206Z",
     "start_time": "2019-04-28T07:03:00.390996Z"
    }
   },
   "outputs": [
    {
     "data": {
      "text/plain": [
       "{'artist': ['박지윤'],\n",
       " 'album_title': ['Journey'],\n",
       " '앨범 종류': ['싱글'],\n",
       " '발매일': ['2018.07.29'],\n",
       " '스타일': ['연주 음악'],\n",
       " '기획사': ['박지윤크리에이티브'],\n",
       " '유통사': ['Sony Music'],\n",
       " '재생 시간': ['08:00'],\n",
       " 'n': ['(2)']}"
      ]
     },
     "execution_count": 172,
     "metadata": {},
     "output_type": "execute_result"
    }
   ],
   "source": [
    "section = dr.find_element_by_css_selector('section[class = \"sectionPadding contents track\"]')\n",
    "music_info['n'] = [section.find_element_by_css_selector('p').text] #수록곡 개수\n",
    "music_info"
   ]
  },
  {
   "cell_type": "code",
   "execution_count": 173,
   "metadata": {
    "ExecuteTime": {
     "end_time": "2019-04-28T07:03:02.607644Z",
     "start_time": "2019-04-28T07:03:02.558963Z"
    }
   },
   "outputs": [],
   "source": [
    "table = section.find_element_by_css_selector('table')\n",
    "tbd = table.find_element_by_css_selector('tbody')\n",
    "trs = tbd.find_elements_by_css_selector('tr')"
   ]
  },
  {
   "cell_type": "code",
   "execution_count": 174,
   "metadata": {
    "ExecuteTime": {
     "end_time": "2019-04-28T07:03:03.479492Z",
     "start_time": "2019-04-28T07:03:03.117851Z"
    }
   },
   "outputs": [],
   "source": [
    "music_list = []\n",
    "for tr in trs :\n",
    "    ps = tr.find_elements_by_css_selector('p')\n",
    "    \n",
    "    aa = []\n",
    "    #서비스를 지원하지 않는 곡들 처리\n",
    "    try :\n",
    "        tr.find_element_by_css_selector('input[disabled = \"disabled\"]')\n",
    "    except :\n",
    "        \n",
    "        for p in ps :\n",
    "            \n",
    "            aa.append(p.text)\n",
    "        \n",
    "        music_list.append(aa)"
   ]
  },
  {
   "cell_type": "code",
   "execution_count": 175,
   "metadata": {
    "ExecuteTime": {
     "end_time": "2019-04-28T07:03:06.345147Z",
     "start_time": "2019-04-28T07:03:06.326727Z"
    }
   },
   "outputs": [
    {
     "data": {
      "text/html": [
       "<div>\n",
       "<style scoped>\n",
       "    .dataframe tbody tr th:only-of-type {\n",
       "        vertical-align: middle;\n",
       "    }\n",
       "\n",
       "    .dataframe tbody tr th {\n",
       "        vertical-align: top;\n",
       "    }\n",
       "\n",
       "    .dataframe thead th {\n",
       "        text-align: right;\n",
       "    }\n",
       "</style>\n",
       "<table border=\"1\" class=\"dataframe\">\n",
       "  <thead>\n",
       "    <tr style=\"text-align: right;\">\n",
       "      <th></th>\n",
       "      <th>title_song_or_not</th>\n",
       "      <th>title</th>\n",
       "      <th>artist</th>\n",
       "      <th>bugs_score</th>\n",
       "    </tr>\n",
       "  </thead>\n",
       "  <tbody>\n",
       "    <tr>\n",
       "      <th>0</th>\n",
       "      <td>1</td>\n",
       "      <td>Letter from</td>\n",
       "      <td>박지윤</td>\n",
       "      <td>선호도 5점</td>\n",
       "    </tr>\n",
       "    <tr>\n",
       "      <th>1</th>\n",
       "      <td>1\\n[타이틀곡]</td>\n",
       "      <td>Journey</td>\n",
       "      <td>박지윤</td>\n",
       "      <td>선호도 5점</td>\n",
       "    </tr>\n",
       "  </tbody>\n",
       "</table>\n",
       "</div>"
      ],
      "text/plain": [
       "  title_song_or_not        title artist bugs_score\n",
       "0                 1  Letter from    박지윤     선호도 5점\n",
       "1         1\\n[타이틀곡]      Journey    박지윤     선호도 5점"
      ]
     },
     "execution_count": 175,
     "metadata": {},
     "output_type": "execute_result"
    }
   ],
   "source": [
    "d1 = pd.DataFrame(music_list,columns = ['title_song_or_not','title','artist','bugs_score'])\n",
    "d1"
   ]
  },
  {
   "cell_type": "code",
   "execution_count": 176,
   "metadata": {
    "ExecuteTime": {
     "end_time": "2019-04-28T07:03:06.775236Z",
     "start_time": "2019-04-28T07:03:06.767302Z"
    }
   },
   "outputs": [
    {
     "data": {
      "text/plain": [
       "dict_keys(['artist', 'album_title', '앨범 종류', '발매일', '스타일', '기획사', '유통사', '재생 시간', 'n'])"
      ]
     },
     "execution_count": 176,
     "metadata": {},
     "output_type": "execute_result"
    }
   ],
   "source": [
    "music_info.keys()"
   ]
  },
  {
   "cell_type": "code",
   "execution_count": 177,
   "metadata": {
    "ExecuteTime": {
     "end_time": "2019-04-28T07:03:07.453854Z",
     "start_time": "2019-04-28T07:03:07.448234Z"
    }
   },
   "outputs": [
    {
     "data": {
      "text/plain": [
       "{'artist': ['박지윤'],\n",
       " 'album_title': ['Journey'],\n",
       " '앨범 종류': ['싱글'],\n",
       " '발매일': ['2018.07.29'],\n",
       " '스타일': ['연주 음악'],\n",
       " '기획사': ['박지윤크리에이티브'],\n",
       " '유통사': ['Sony Music'],\n",
       " '재생 시간': ['08:00'],\n",
       " 'n': ['(2)']}"
      ]
     },
     "execution_count": 177,
     "metadata": {},
     "output_type": "execute_result"
    }
   ],
   "source": [
    "music_info"
   ]
  },
  {
   "cell_type": "code",
   "execution_count": 178,
   "metadata": {
    "ExecuteTime": {
     "end_time": "2019-04-28T07:03:08.560849Z",
     "start_time": "2019-04-28T07:03:08.536230Z"
    }
   },
   "outputs": [
    {
     "data": {
      "text/html": [
       "<div>\n",
       "<style scoped>\n",
       "    .dataframe tbody tr th:only-of-type {\n",
       "        vertical-align: middle;\n",
       "    }\n",
       "\n",
       "    .dataframe tbody tr th {\n",
       "        vertical-align: top;\n",
       "    }\n",
       "\n",
       "    .dataframe thead th {\n",
       "        text-align: right;\n",
       "    }\n",
       "</style>\n",
       "<table border=\"1\" class=\"dataframe\">\n",
       "  <thead>\n",
       "    <tr style=\"text-align: right;\">\n",
       "      <th></th>\n",
       "      <th>artist</th>\n",
       "      <th>album_title</th>\n",
       "      <th>앨범 종류</th>\n",
       "      <th>발매일</th>\n",
       "      <th>스타일</th>\n",
       "      <th>기획사</th>\n",
       "      <th>유통사</th>\n",
       "      <th>재생 시간</th>\n",
       "      <th>n</th>\n",
       "    </tr>\n",
       "  </thead>\n",
       "  <tbody>\n",
       "    <tr>\n",
       "      <th>0</th>\n",
       "      <td>박지윤</td>\n",
       "      <td>Journey</td>\n",
       "      <td>싱글</td>\n",
       "      <td>2018.07.29</td>\n",
       "      <td>연주 음악</td>\n",
       "      <td>박지윤크리에이티브</td>\n",
       "      <td>Sony Music</td>\n",
       "      <td>08:00</td>\n",
       "      <td>(2)</td>\n",
       "    </tr>\n",
       "    <tr>\n",
       "      <th>1</th>\n",
       "      <td>박지윤</td>\n",
       "      <td>Journey</td>\n",
       "      <td>싱글</td>\n",
       "      <td>2018.07.29</td>\n",
       "      <td>연주 음악</td>\n",
       "      <td>박지윤크리에이티브</td>\n",
       "      <td>Sony Music</td>\n",
       "      <td>08:00</td>\n",
       "      <td>(2)</td>\n",
       "    </tr>\n",
       "  </tbody>\n",
       "</table>\n",
       "</div>"
      ],
      "text/plain": [
       "  artist album_title 앨범 종류         발매일    스타일        기획사         유통사  재생 시간  \\\n",
       "0    박지윤     Journey    싱글  2018.07.29  연주 음악  박지윤크리에이티브  Sony Music  08:00   \n",
       "1    박지윤     Journey    싱글  2018.07.29  연주 음악  박지윤크리에이티브  Sony Music  08:00   \n",
       "\n",
       "     n  \n",
       "0  (2)  \n",
       "1  (2)  "
      ]
     },
     "execution_count": 178,
     "metadata": {},
     "output_type": "execute_result"
    }
   ],
   "source": [
    "d2 = pd.DataFrame(music_info)\n",
    "d2 = pd.DataFrame(np.repeat(np.array(d2),len(d1), axis = 0),\n",
    "                  columns = music_info.keys())\n",
    "d2"
   ]
  },
  {
   "cell_type": "code",
   "execution_count": 179,
   "metadata": {
    "ExecuteTime": {
     "end_time": "2019-04-28T07:03:09.867390Z",
     "start_time": "2019-04-28T07:03:09.848920Z"
    }
   },
   "outputs": [
    {
     "data": {
      "text/html": [
       "<div>\n",
       "<style scoped>\n",
       "    .dataframe tbody tr th:only-of-type {\n",
       "        vertical-align: middle;\n",
       "    }\n",
       "\n",
       "    .dataframe tbody tr th {\n",
       "        vertical-align: top;\n",
       "    }\n",
       "\n",
       "    .dataframe thead th {\n",
       "        text-align: right;\n",
       "    }\n",
       "</style>\n",
       "<table border=\"1\" class=\"dataframe\">\n",
       "  <thead>\n",
       "    <tr style=\"text-align: right;\">\n",
       "      <th></th>\n",
       "      <th>title_song_or_not</th>\n",
       "      <th>title</th>\n",
       "      <th>artist</th>\n",
       "      <th>bugs_score</th>\n",
       "      <th>artist</th>\n",
       "      <th>album_title</th>\n",
       "      <th>앨범 종류</th>\n",
       "      <th>발매일</th>\n",
       "      <th>스타일</th>\n",
       "      <th>기획사</th>\n",
       "      <th>유통사</th>\n",
       "      <th>재생 시간</th>\n",
       "      <th>n</th>\n",
       "    </tr>\n",
       "  </thead>\n",
       "  <tbody>\n",
       "    <tr>\n",
       "      <th>0</th>\n",
       "      <td>1</td>\n",
       "      <td>Letter from</td>\n",
       "      <td>박지윤</td>\n",
       "      <td>선호도 5점</td>\n",
       "      <td>박지윤</td>\n",
       "      <td>Journey</td>\n",
       "      <td>싱글</td>\n",
       "      <td>2018.07.29</td>\n",
       "      <td>연주 음악</td>\n",
       "      <td>박지윤크리에이티브</td>\n",
       "      <td>Sony Music</td>\n",
       "      <td>08:00</td>\n",
       "      <td>(2)</td>\n",
       "    </tr>\n",
       "    <tr>\n",
       "      <th>1</th>\n",
       "      <td>1\\n[타이틀곡]</td>\n",
       "      <td>Journey</td>\n",
       "      <td>박지윤</td>\n",
       "      <td>선호도 5점</td>\n",
       "      <td>박지윤</td>\n",
       "      <td>Journey</td>\n",
       "      <td>싱글</td>\n",
       "      <td>2018.07.29</td>\n",
       "      <td>연주 음악</td>\n",
       "      <td>박지윤크리에이티브</td>\n",
       "      <td>Sony Music</td>\n",
       "      <td>08:00</td>\n",
       "      <td>(2)</td>\n",
       "    </tr>\n",
       "  </tbody>\n",
       "</table>\n",
       "</div>"
      ],
      "text/plain": [
       "  title_song_or_not        title artist bugs_score artist album_title 앨범 종류  \\\n",
       "0                 1  Letter from    박지윤     선호도 5점    박지윤     Journey    싱글   \n",
       "1         1\\n[타이틀곡]      Journey    박지윤     선호도 5점    박지윤     Journey    싱글   \n",
       "\n",
       "          발매일    스타일        기획사         유통사  재생 시간    n  \n",
       "0  2018.07.29  연주 음악  박지윤크리에이티브  Sony Music  08:00  (2)  \n",
       "1  2018.07.29  연주 음악  박지윤크리에이티브  Sony Music  08:00  (2)  "
      ]
     },
     "execution_count": 179,
     "metadata": {},
     "output_type": "execute_result"
    }
   ],
   "source": [
    "d3 = pd.concat([d1,d2], axis = 1)\n",
    "d3"
   ]
  },
  {
   "cell_type": "code",
   "execution_count": 163,
   "metadata": {
    "ExecuteTime": {
     "end_time": "2019-04-28T07:02:30.254578Z",
     "start_time": "2019-04-28T07:02:30.247442Z"
    }
   },
   "outputs": [],
   "source": [
    "d5 = d3.copy()"
   ]
  },
  {
   "cell_type": "code",
   "execution_count": 107,
   "metadata": {
    "ExecuteTime": {
     "end_time": "2019-04-28T06:57:01.304247Z",
     "start_time": "2019-04-28T06:57:01.281831Z"
    }
   },
   "outputs": [
    {
     "data": {
      "text/html": [
       "<div>\n",
       "<style scoped>\n",
       "    .dataframe tbody tr th:only-of-type {\n",
       "        vertical-align: middle;\n",
       "    }\n",
       "\n",
       "    .dataframe tbody tr th {\n",
       "        vertical-align: top;\n",
       "    }\n",
       "\n",
       "    .dataframe thead th {\n",
       "        text-align: right;\n",
       "    }\n",
       "</style>\n",
       "<table border=\"1\" class=\"dataframe\">\n",
       "  <thead>\n",
       "    <tr style=\"text-align: right;\">\n",
       "      <th></th>\n",
       "      <th>album_title</th>\n",
       "      <th>artist</th>\n",
       "      <th>artist</th>\n",
       "      <th>bugs_score</th>\n",
       "      <th>n</th>\n",
       "      <th>title</th>\n",
       "      <th>title_song_or_not</th>\n",
       "      <th>고음질</th>\n",
       "      <th>기획사</th>\n",
       "      <th>발매일</th>\n",
       "      <th>스타일</th>\n",
       "      <th>앨범 종류</th>\n",
       "      <th>유통사</th>\n",
       "      <th>장르</th>\n",
       "      <th>재생 시간</th>\n",
       "    </tr>\n",
       "  </thead>\n",
       "  <tbody>\n",
       "    <tr>\n",
       "      <th>0</th>\n",
       "      <td>귀띔</td>\n",
       "      <td>위아영 (WeAreYoung)</td>\n",
       "      <td>위아영 (WeAreYoung)</td>\n",
       "      <td>선호도 5점</td>\n",
       "      <td>(2)</td>\n",
       "      <td>귀띔</td>\n",
       "      <td>1\\n[타이틀곡]</td>\n",
       "      <td>FLAC 16bit, 24bit24bit FLAC 음원 스펙트로그램 보기 하이 레졸루션</td>\n",
       "      <td>엠와이뮤직</td>\n",
       "      <td>2018.07.29</td>\n",
       "      <td>포크 팝, 인디 팝</td>\n",
       "      <td>싱글</td>\n",
       "      <td>㈜ 카카오 M</td>\n",
       "      <td>인디, 발라드/댄스/팝</td>\n",
       "      <td>06:28</td>\n",
       "    </tr>\n",
       "    <tr>\n",
       "      <th>1</th>\n",
       "      <td>귀띔</td>\n",
       "      <td>위아영 (WeAreYoung)</td>\n",
       "      <td>위아영 (WeAreYoung)</td>\n",
       "      <td>선호도 1점</td>\n",
       "      <td>(2)</td>\n",
       "      <td>귀띔 (Inst.)</td>\n",
       "      <td>2</td>\n",
       "      <td>FLAC 16bit, 24bit24bit FLAC 음원 스펙트로그램 보기 하이 레졸루션</td>\n",
       "      <td>엠와이뮤직</td>\n",
       "      <td>2018.07.29</td>\n",
       "      <td>포크 팝, 인디 팝</td>\n",
       "      <td>싱글</td>\n",
       "      <td>㈜ 카카오 M</td>\n",
       "      <td>인디, 발라드/댄스/팝</td>\n",
       "      <td>06:28</td>\n",
       "    </tr>\n",
       "  </tbody>\n",
       "</table>\n",
       "</div>"
      ],
      "text/plain": [
       "  album_title            artist            artist bugs_score    n       title  \\\n",
       "0          귀띔  위아영 (WeAreYoung)  위아영 (WeAreYoung)     선호도 5점  (2)          귀띔   \n",
       "1          귀띔  위아영 (WeAreYoung)  위아영 (WeAreYoung)     선호도 1점  (2)  귀띔 (Inst.)   \n",
       "\n",
       "  title_song_or_not                                               고음질    기획사  \\\n",
       "0         1\\n[타이틀곡]  FLAC 16bit, 24bit24bit FLAC 음원 스펙트로그램 보기 하이 레졸루션  엠와이뮤직   \n",
       "1                 2  FLAC 16bit, 24bit24bit FLAC 음원 스펙트로그램 보기 하이 레졸루션  엠와이뮤직   \n",
       "\n",
       "          발매일         스타일 앨범 종류      유통사            장르  재생 시간  \n",
       "0  2018.07.29  포크 팝, 인디 팝    싱글  ㈜ 카카오 M  인디, 발라드/댄스/팝  06:28  \n",
       "1  2018.07.29  포크 팝, 인디 팝    싱글  ㈜ 카카오 M  인디, 발라드/댄스/팝  06:28  "
      ]
     },
     "execution_count": 107,
     "metadata": {},
     "output_type": "execute_result"
    }
   ],
   "source": [
    "d5.sort_index(axis=1)"
   ]
  },
  {
   "cell_type": "code",
   "execution_count": 184,
   "metadata": {
    "ExecuteTime": {
     "end_time": "2019-04-28T07:04:08.255990Z",
     "start_time": "2019-04-28T07:04:08.245518Z"
    }
   },
   "outputs": [
    {
     "data": {
      "text/html": [
       "<div>\n",
       "<style scoped>\n",
       "    .dataframe tbody tr th:only-of-type {\n",
       "        vertical-align: middle;\n",
       "    }\n",
       "\n",
       "    .dataframe tbody tr th {\n",
       "        vertical-align: top;\n",
       "    }\n",
       "\n",
       "    .dataframe thead th {\n",
       "        text-align: right;\n",
       "    }\n",
       "</style>\n",
       "<table border=\"1\" class=\"dataframe\">\n",
       "  <thead>\n",
       "    <tr style=\"text-align: right;\">\n",
       "      <th></th>\n",
       "      <th>id</th>\n",
       "      <th>quantity</th>\n",
       "      <th>a2</th>\n",
       "      <th>a3</th>\n",
       "    </tr>\n",
       "  </thead>\n",
       "  <tbody>\n",
       "    <tr>\n",
       "      <th>0</th>\n",
       "      <td>4</td>\n",
       "      <td>4675</td>\n",
       "      <td>0</td>\n",
       "      <td>34</td>\n",
       "    </tr>\n",
       "    <tr>\n",
       "      <th>1</th>\n",
       "      <td>5</td>\n",
       "      <td>56</td>\n",
       "      <td>45</td>\n",
       "      <td>78</td>\n",
       "    </tr>\n",
       "    <tr>\n",
       "      <th>2</th>\n",
       "      <td>6</td>\n",
       "      <td>2</td>\n",
       "      <td>2</td>\n",
       "      <td>34</td>\n",
       "    </tr>\n",
       "  </tbody>\n",
       "</table>\n",
       "</div>"
      ],
      "text/plain": [
       "   id  quantity  a2  a3\n",
       "0   4      4675   0  34\n",
       "1   5        56  45  78\n",
       "2   6         2   2  34"
      ]
     },
     "execution_count": 184,
     "metadata": {},
     "output_type": "execute_result"
    }
   ],
   "source": [
    "df_june"
   ]
  },
  {
   "cell_type": "code",
   "execution_count": 194,
   "metadata": {
    "ExecuteTime": {
     "end_time": "2019-04-28T07:06:05.124172Z",
     "start_time": "2019-04-28T07:06:05.111187Z"
    }
   },
   "outputs": [
    {
     "data": {
      "text/html": [
       "<div>\n",
       "<style scoped>\n",
       "    .dataframe tbody tr th:only-of-type {\n",
       "        vertical-align: middle;\n",
       "    }\n",
       "\n",
       "    .dataframe tbody tr th {\n",
       "        vertical-align: top;\n",
       "    }\n",
       "\n",
       "    .dataframe thead th {\n",
       "        text-align: right;\n",
       "    }\n",
       "</style>\n",
       "<table border=\"1\" class=\"dataframe\">\n",
       "  <thead>\n",
       "    <tr style=\"text-align: right;\">\n",
       "      <th></th>\n",
       "      <th>quantity</th>\n",
       "      <th>a1</th>\n",
       "      <th>id</th>\n",
       "    </tr>\n",
       "  </thead>\n",
       "  <tbody>\n",
       "    <tr>\n",
       "      <th>0</th>\n",
       "      <td>6</td>\n",
       "      <td>79</td>\n",
       "      <td>1</td>\n",
       "    </tr>\n",
       "    <tr>\n",
       "      <th>1</th>\n",
       "      <td>6</td>\n",
       "      <td>563</td>\n",
       "      <td>2</td>\n",
       "    </tr>\n",
       "    <tr>\n",
       "      <th>2</th>\n",
       "      <td>7</td>\n",
       "      <td>152</td>\n",
       "      <td>3</td>\n",
       "    </tr>\n",
       "    <tr>\n",
       "      <th>3</th>\n",
       "      <td>2</td>\n",
       "      <td>12</td>\n",
       "      <td>7</td>\n",
       "    </tr>\n",
       "  </tbody>\n",
       "</table>\n",
       "</div>"
      ],
      "text/plain": [
       "   quantity   a1  id\n",
       "0         6   79   1\n",
       "1         6  563   2\n",
       "2         7  152   3\n",
       "3         2   12   7"
      ]
     },
     "execution_count": 194,
     "metadata": {},
     "output_type": "execute_result"
    }
   ],
   "source": [
    "df_may = pd.DataFrame({'quantity' : [6,6,7,2], 'a1' : [79,563,152,12],'id' : [1,2,3,7]})\n",
    "df_may"
   ]
  },
  {
   "cell_type": "code",
   "execution_count": 195,
   "metadata": {
    "ExecuteTime": {
     "end_time": "2019-04-28T07:06:08.985480Z",
     "start_time": "2019-04-28T07:06:08.968157Z"
    }
   },
   "outputs": [
    {
     "data": {
      "text/html": [
       "<div>\n",
       "<style scoped>\n",
       "    .dataframe tbody tr th:only-of-type {\n",
       "        vertical-align: middle;\n",
       "    }\n",
       "\n",
       "    .dataframe tbody tr th {\n",
       "        vertical-align: top;\n",
       "    }\n",
       "\n",
       "    .dataframe thead th {\n",
       "        text-align: right;\n",
       "    }\n",
       "</style>\n",
       "<table border=\"1\" class=\"dataframe\">\n",
       "  <thead>\n",
       "    <tr style=\"text-align: right;\">\n",
       "      <th></th>\n",
       "      <th>a1</th>\n",
       "      <th>a2</th>\n",
       "      <th>a3</th>\n",
       "      <th>id</th>\n",
       "      <th>quantity</th>\n",
       "    </tr>\n",
       "  </thead>\n",
       "  <tbody>\n",
       "    <tr>\n",
       "      <th>0</th>\n",
       "      <td>NaN</td>\n",
       "      <td>0.0</td>\n",
       "      <td>34.0</td>\n",
       "      <td>4</td>\n",
       "      <td>4675</td>\n",
       "    </tr>\n",
       "    <tr>\n",
       "      <th>1</th>\n",
       "      <td>NaN</td>\n",
       "      <td>45.0</td>\n",
       "      <td>78.0</td>\n",
       "      <td>5</td>\n",
       "      <td>56</td>\n",
       "    </tr>\n",
       "    <tr>\n",
       "      <th>2</th>\n",
       "      <td>NaN</td>\n",
       "      <td>2.0</td>\n",
       "      <td>34.0</td>\n",
       "      <td>6</td>\n",
       "      <td>2</td>\n",
       "    </tr>\n",
       "    <tr>\n",
       "      <th>3</th>\n",
       "      <td>79.0</td>\n",
       "      <td>NaN</td>\n",
       "      <td>NaN</td>\n",
       "      <td>1</td>\n",
       "      <td>6</td>\n",
       "    </tr>\n",
       "    <tr>\n",
       "      <th>4</th>\n",
       "      <td>563.0</td>\n",
       "      <td>NaN</td>\n",
       "      <td>NaN</td>\n",
       "      <td>2</td>\n",
       "      <td>6</td>\n",
       "    </tr>\n",
       "    <tr>\n",
       "      <th>5</th>\n",
       "      <td>152.0</td>\n",
       "      <td>NaN</td>\n",
       "      <td>NaN</td>\n",
       "      <td>3</td>\n",
       "      <td>7</td>\n",
       "    </tr>\n",
       "    <tr>\n",
       "      <th>6</th>\n",
       "      <td>12.0</td>\n",
       "      <td>NaN</td>\n",
       "      <td>NaN</td>\n",
       "      <td>7</td>\n",
       "      <td>2</td>\n",
       "    </tr>\n",
       "  </tbody>\n",
       "</table>\n",
       "</div>"
      ],
      "text/plain": [
       "      a1    a2    a3  id  quantity\n",
       "0    NaN   0.0  34.0   4      4675\n",
       "1    NaN  45.0  78.0   5        56\n",
       "2    NaN   2.0  34.0   6         2\n",
       "3   79.0   NaN   NaN   1         6\n",
       "4  563.0   NaN   NaN   2         6\n",
       "5  152.0   NaN   NaN   3         7\n",
       "6   12.0   NaN   NaN   7         2"
      ]
     },
     "execution_count": 195,
     "metadata": {},
     "output_type": "execute_result"
    }
   ],
   "source": [
    "pd.concat([df_june, df_may], sort = True).reset_index(drop = True)"
   ]
  },
  {
   "cell_type": "code",
   "execution_count": 199,
   "metadata": {
    "ExecuteTime": {
     "end_time": "2019-04-28T07:07:17.246472Z",
     "start_time": "2019-04-28T07:07:17.230927Z"
    }
   },
   "outputs": [
    {
     "data": {
      "text/html": [
       "<div>\n",
       "<style scoped>\n",
       "    .dataframe tbody tr th:only-of-type {\n",
       "        vertical-align: middle;\n",
       "    }\n",
       "\n",
       "    .dataframe tbody tr th {\n",
       "        vertical-align: top;\n",
       "    }\n",
       "\n",
       "    .dataframe thead th {\n",
       "        text-align: right;\n",
       "    }\n",
       "</style>\n",
       "<table border=\"1\" class=\"dataframe\">\n",
       "  <thead>\n",
       "    <tr style=\"text-align: right;\">\n",
       "      <th></th>\n",
       "      <th>title_song_or_not</th>\n",
       "      <th>title</th>\n",
       "      <th>artist</th>\n",
       "      <th>bugs_score</th>\n",
       "      <th>artist</th>\n",
       "      <th>album_title</th>\n",
       "      <th>앨범 종류</th>\n",
       "      <th>발매일</th>\n",
       "      <th>스타일</th>\n",
       "      <th>기획사</th>\n",
       "      <th>유통사</th>\n",
       "      <th>재생 시간</th>\n",
       "      <th>n</th>\n",
       "    </tr>\n",
       "  </thead>\n",
       "  <tbody>\n",
       "    <tr>\n",
       "      <th>0</th>\n",
       "      <td>1</td>\n",
       "      <td>Letter from</td>\n",
       "      <td>박지윤</td>\n",
       "      <td>선호도 5점</td>\n",
       "      <td>박지윤</td>\n",
       "      <td>Journey</td>\n",
       "      <td>싱글</td>\n",
       "      <td>2018.07.29</td>\n",
       "      <td>연주 음악</td>\n",
       "      <td>박지윤크리에이티브</td>\n",
       "      <td>Sony Music</td>\n",
       "      <td>08:00</td>\n",
       "      <td>(2)</td>\n",
       "    </tr>\n",
       "    <tr>\n",
       "      <th>1</th>\n",
       "      <td>1\\n[타이틀곡]</td>\n",
       "      <td>Journey</td>\n",
       "      <td>박지윤</td>\n",
       "      <td>선호도 5점</td>\n",
       "      <td>박지윤</td>\n",
       "      <td>Journey</td>\n",
       "      <td>싱글</td>\n",
       "      <td>2018.07.29</td>\n",
       "      <td>연주 음악</td>\n",
       "      <td>박지윤크리에이티브</td>\n",
       "      <td>Sony Music</td>\n",
       "      <td>08:00</td>\n",
       "      <td>(2)</td>\n",
       "    </tr>\n",
       "  </tbody>\n",
       "</table>\n",
       "</div>"
      ],
      "text/plain": [
       "  title_song_or_not        title artist bugs_score artist album_title 앨범 종류  \\\n",
       "0                 1  Letter from    박지윤     선호도 5점    박지윤     Journey    싱글   \n",
       "1         1\\n[타이틀곡]      Journey    박지윤     선호도 5점    박지윤     Journey    싱글   \n",
       "\n",
       "          발매일    스타일        기획사         유통사  재생 시간    n  \n",
       "0  2018.07.29  연주 음악  박지윤크리에이티브  Sony Music  08:00  (2)  \n",
       "1  2018.07.29  연주 음악  박지윤크리에이티브  Sony Music  08:00  (2)  "
      ]
     },
     "execution_count": 199,
     "metadata": {},
     "output_type": "execute_result"
    }
   ],
   "source": [
    "d3"
   ]
  },
  {
   "cell_type": "code",
   "execution_count": 229,
   "metadata": {
    "ExecuteTime": {
     "end_time": "2019-04-28T07:16:18.899061Z",
     "start_time": "2019-04-28T07:16:18.880277Z"
    }
   },
   "outputs": [
    {
     "data": {
      "text/html": [
       "<div>\n",
       "<style scoped>\n",
       "    .dataframe tbody tr th:only-of-type {\n",
       "        vertical-align: middle;\n",
       "    }\n",
       "\n",
       "    .dataframe tbody tr th {\n",
       "        vertical-align: top;\n",
       "    }\n",
       "\n",
       "    .dataframe thead th {\n",
       "        text-align: right;\n",
       "    }\n",
       "</style>\n",
       "<table border=\"1\" class=\"dataframe\">\n",
       "  <thead>\n",
       "    <tr style=\"text-align: right;\">\n",
       "      <th></th>\n",
       "      <th>title_song_or_not</th>\n",
       "      <th>title</th>\n",
       "      <th>artist</th>\n",
       "      <th>bugs_score</th>\n",
       "      <th>artist</th>\n",
       "      <th>album_title</th>\n",
       "      <th>앨범 종류</th>\n",
       "      <th>발매일</th>\n",
       "      <th>장르</th>\n",
       "      <th>스타일</th>\n",
       "      <th>기획사</th>\n",
       "      <th>유통사</th>\n",
       "      <th>재생 시간</th>\n",
       "      <th>고음질</th>\n",
       "      <th>n</th>\n",
       "    </tr>\n",
       "  </thead>\n",
       "  <tbody>\n",
       "  </tbody>\n",
       "</table>\n",
       "</div>"
      ],
      "text/plain": [
       "Empty DataFrame\n",
       "Columns: [title_song_or_not, title, artist, bugs_score, artist, album_title, 앨범 종류, 발매일, 장르, 스타일, 기획사, 유통사, 재생 시간, 고음질, n]\n",
       "Index: []"
      ]
     },
     "execution_count": 229,
     "metadata": {},
     "output_type": "execute_result"
    }
   ],
   "source": [
    "d4 = pd.DataFrame(columns = ['title_song_or_not', 'title', 'artist', 'bugs_score', 'artist',\n",
    "       'album_title', '앨범 종류', '발매일', '장르', '스타일', '기획사', '유통사', '재생 시간',\n",
    "       '고음질', 'n'])\n",
    "d4."
   ]
  },
  {
   "cell_type": "code",
   "execution_count": 230,
   "metadata": {
    "ExecuteTime": {
     "end_time": "2019-04-28T07:16:30.500498Z",
     "start_time": "2019-04-28T07:16:30.477630Z"
    }
   },
   "outputs": [
    {
     "data": {
      "text/html": [
       "<div>\n",
       "<style scoped>\n",
       "    .dataframe tbody tr th:only-of-type {\n",
       "        vertical-align: middle;\n",
       "    }\n",
       "\n",
       "    .dataframe tbody tr th {\n",
       "        vertical-align: top;\n",
       "    }\n",
       "\n",
       "    .dataframe thead th {\n",
       "        text-align: right;\n",
       "    }\n",
       "</style>\n",
       "<table border=\"1\" class=\"dataframe\">\n",
       "  <thead>\n",
       "    <tr style=\"text-align: right;\">\n",
       "      <th></th>\n",
       "      <th>title_song_or_not</th>\n",
       "      <th>title</th>\n",
       "      <th>artist</th>\n",
       "      <th>bugs_score</th>\n",
       "      <th>artist</th>\n",
       "      <th>album_title</th>\n",
       "      <th>앨범 종류</th>\n",
       "      <th>발매일</th>\n",
       "      <th>스타일</th>\n",
       "      <th>기획사</th>\n",
       "      <th>유통사</th>\n",
       "      <th>재생 시간</th>\n",
       "      <th>n</th>\n",
       "      <th>장르</th>\n",
       "      <th>고음질</th>\n",
       "    </tr>\n",
       "  </thead>\n",
       "  <tbody>\n",
       "    <tr>\n",
       "      <th>0</th>\n",
       "      <td>1</td>\n",
       "      <td>Letter from</td>\n",
       "      <td>박지윤</td>\n",
       "      <td>선호도 5점</td>\n",
       "      <td>박지윤</td>\n",
       "      <td>Journey</td>\n",
       "      <td>싱글</td>\n",
       "      <td>2018.07.29</td>\n",
       "      <td>연주 음악</td>\n",
       "      <td>박지윤크리에이티브</td>\n",
       "      <td>Sony Music</td>\n",
       "      <td>08:00</td>\n",
       "      <td>(2)</td>\n",
       "      <td>NaN</td>\n",
       "      <td>NaN</td>\n",
       "    </tr>\n",
       "    <tr>\n",
       "      <th>1</th>\n",
       "      <td>1\\n[타이틀곡]</td>\n",
       "      <td>Journey</td>\n",
       "      <td>박지윤</td>\n",
       "      <td>선호도 5점</td>\n",
       "      <td>박지윤</td>\n",
       "      <td>Journey</td>\n",
       "      <td>싱글</td>\n",
       "      <td>2018.07.29</td>\n",
       "      <td>연주 음악</td>\n",
       "      <td>박지윤크리에이티브</td>\n",
       "      <td>Sony Music</td>\n",
       "      <td>08:00</td>\n",
       "      <td>(2)</td>\n",
       "      <td>NaN</td>\n",
       "      <td>NaN</td>\n",
       "    </tr>\n",
       "  </tbody>\n",
       "</table>\n",
       "</div>"
      ],
      "text/plain": [
       "  title_song_or_not        title artist bugs_score artist album_title 앨범 종류  \\\n",
       "0                 1  Letter from    박지윤     선호도 5점    박지윤     Journey    싱글   \n",
       "1         1\\n[타이틀곡]      Journey    박지윤     선호도 5점    박지윤     Journey    싱글   \n",
       "\n",
       "          발매일    스타일        기획사         유통사  재생 시간    n  장르  고음질  \n",
       "0  2018.07.29  연주 음악  박지윤크리에이티브  Sony Music  08:00  (2) NaN  NaN  \n",
       "1  2018.07.29  연주 음악  박지윤크리에이티브  Sony Music  08:00  (2) NaN  NaN  "
      ]
     },
     "execution_count": 230,
     "metadata": {},
     "output_type": "execute_result"
    }
   ],
   "source": [
    "d3"
   ]
  },
  {
   "cell_type": "code",
   "execution_count": 232,
   "metadata": {
    "ExecuteTime": {
     "end_time": "2019-04-28T07:17:38.014274Z",
     "start_time": "2019-04-28T07:17:38.007265Z"
    }
   },
   "outputs": [
    {
     "data": {
      "text/plain": [
       "(2, 15)"
      ]
     },
     "execution_count": 232,
     "metadata": {},
     "output_type": "execute_result"
    }
   ],
   "source": [
    "d3.shape"
   ]
  },
  {
   "cell_type": "code",
   "execution_count": 233,
   "metadata": {
    "ExecuteTime": {
     "end_time": "2019-04-28T07:17:43.598205Z",
     "start_time": "2019-04-28T07:17:43.591300Z"
    }
   },
   "outputs": [
    {
     "data": {
      "text/plain": [
       "(0, 15)"
      ]
     },
     "execution_count": 233,
     "metadata": {},
     "output_type": "execute_result"
    }
   ],
   "source": [
    "d4.shape"
   ]
  },
  {
   "cell_type": "code",
   "execution_count": 231,
   "metadata": {
    "ExecuteTime": {
     "end_time": "2019-04-28T07:16:42.082830Z",
     "start_time": "2019-04-28T07:16:42.062383Z"
    }
   },
   "outputs": [
    {
     "ename": "AssertionError",
     "evalue": "Number of manager items must equal union of block items\n# manager items: 14, # tot_items: 15",
     "output_type": "error",
     "traceback": [
      "\u001b[1;31m---------------------------------------------------------------------------\u001b[0m",
      "\u001b[1;31mAssertionError\u001b[0m                            Traceback (most recent call last)",
      "\u001b[1;32m<ipython-input-231-bd325bd91a90>\u001b[0m in \u001b[0;36m<module>\u001b[1;34m\u001b[0m\n\u001b[1;32m----> 1\u001b[1;33m \u001b[0mpd\u001b[0m\u001b[1;33m.\u001b[0m\u001b[0mconcat\u001b[0m\u001b[1;33m(\u001b[0m\u001b[1;33m[\u001b[0m\u001b[0md4\u001b[0m\u001b[1;33m,\u001b[0m \u001b[0md3\u001b[0m\u001b[1;33m]\u001b[0m\u001b[1;33m,\u001b[0m \u001b[0msort\u001b[0m \u001b[1;33m=\u001b[0m \u001b[1;32mTrue\u001b[0m\u001b[1;33m)\u001b[0m\u001b[1;33m.\u001b[0m\u001b[0mreset_index\u001b[0m\u001b[1;33m(\u001b[0m\u001b[0mdrop\u001b[0m \u001b[1;33m=\u001b[0m \u001b[1;32mTrue\u001b[0m\u001b[1;33m)\u001b[0m\u001b[1;33m\u001b[0m\u001b[1;33m\u001b[0m\u001b[0m\n\u001b[0m",
      "\u001b[1;32m~\\Anaconda3\\lib\\site-packages\\pandas\\core\\reshape\\concat.py\u001b[0m in \u001b[0;36mconcat\u001b[1;34m(objs, axis, join, join_axes, ignore_index, keys, levels, names, verify_integrity, sort, copy)\u001b[0m\n\u001b[0;32m    224\u001b[0m                        \u001b[0mverify_integrity\u001b[0m\u001b[1;33m=\u001b[0m\u001b[0mverify_integrity\u001b[0m\u001b[1;33m,\u001b[0m\u001b[1;33m\u001b[0m\u001b[1;33m\u001b[0m\u001b[0m\n\u001b[0;32m    225\u001b[0m                        copy=copy, sort=sort)\n\u001b[1;32m--> 226\u001b[1;33m     \u001b[1;32mreturn\u001b[0m \u001b[0mop\u001b[0m\u001b[1;33m.\u001b[0m\u001b[0mget_result\u001b[0m\u001b[1;33m(\u001b[0m\u001b[1;33m)\u001b[0m\u001b[1;33m\u001b[0m\u001b[1;33m\u001b[0m\u001b[0m\n\u001b[0m\u001b[0;32m    227\u001b[0m \u001b[1;33m\u001b[0m\u001b[0m\n\u001b[0;32m    228\u001b[0m \u001b[1;33m\u001b[0m\u001b[0m\n",
      "\u001b[1;32m~\\Anaconda3\\lib\\site-packages\\pandas\\core\\reshape\\concat.py\u001b[0m in \u001b[0;36mget_result\u001b[1;34m(self)\u001b[0m\n\u001b[0;32m    421\u001b[0m             new_data = concatenate_block_managers(\n\u001b[0;32m    422\u001b[0m                 \u001b[0mmgrs_indexers\u001b[0m\u001b[1;33m,\u001b[0m \u001b[0mself\u001b[0m\u001b[1;33m.\u001b[0m\u001b[0mnew_axes\u001b[0m\u001b[1;33m,\u001b[0m \u001b[0mconcat_axis\u001b[0m\u001b[1;33m=\u001b[0m\u001b[0mself\u001b[0m\u001b[1;33m.\u001b[0m\u001b[0maxis\u001b[0m\u001b[1;33m,\u001b[0m\u001b[1;33m\u001b[0m\u001b[1;33m\u001b[0m\u001b[0m\n\u001b[1;32m--> 423\u001b[1;33m                 copy=self.copy)\n\u001b[0m\u001b[0;32m    424\u001b[0m             \u001b[1;32mif\u001b[0m \u001b[1;32mnot\u001b[0m \u001b[0mself\u001b[0m\u001b[1;33m.\u001b[0m\u001b[0mcopy\u001b[0m\u001b[1;33m:\u001b[0m\u001b[1;33m\u001b[0m\u001b[1;33m\u001b[0m\u001b[0m\n\u001b[0;32m    425\u001b[0m                 \u001b[0mnew_data\u001b[0m\u001b[1;33m.\u001b[0m\u001b[0m_consolidate_inplace\u001b[0m\u001b[1;33m(\u001b[0m\u001b[1;33m)\u001b[0m\u001b[1;33m\u001b[0m\u001b[1;33m\u001b[0m\u001b[0m\n",
      "\u001b[1;32m~\\Anaconda3\\lib\\site-packages\\pandas\\core\\internals.py\u001b[0m in \u001b[0;36mconcatenate_block_managers\u001b[1;34m(mgrs_indexers, axes, concat_axis, copy)\u001b[0m\n\u001b[0;32m   5423\u001b[0m         \u001b[0mblocks\u001b[0m\u001b[1;33m.\u001b[0m\u001b[0mappend\u001b[0m\u001b[1;33m(\u001b[0m\u001b[0mb\u001b[0m\u001b[1;33m)\u001b[0m\u001b[1;33m\u001b[0m\u001b[1;33m\u001b[0m\u001b[0m\n\u001b[0;32m   5424\u001b[0m \u001b[1;33m\u001b[0m\u001b[0m\n\u001b[1;32m-> 5425\u001b[1;33m     \u001b[1;32mreturn\u001b[0m \u001b[0mBlockManager\u001b[0m\u001b[1;33m(\u001b[0m\u001b[0mblocks\u001b[0m\u001b[1;33m,\u001b[0m \u001b[0maxes\u001b[0m\u001b[1;33m)\u001b[0m\u001b[1;33m\u001b[0m\u001b[1;33m\u001b[0m\u001b[0m\n\u001b[0m\u001b[0;32m   5426\u001b[0m \u001b[1;33m\u001b[0m\u001b[0m\n\u001b[0;32m   5427\u001b[0m \u001b[1;33m\u001b[0m\u001b[0m\n",
      "\u001b[1;32m~\\Anaconda3\\lib\\site-packages\\pandas\\core\\internals.py\u001b[0m in \u001b[0;36m__init__\u001b[1;34m(self, blocks, axes, do_integrity_check)\u001b[0m\n\u001b[0;32m   3280\u001b[0m \u001b[1;33m\u001b[0m\u001b[0m\n\u001b[0;32m   3281\u001b[0m         \u001b[1;32mif\u001b[0m \u001b[0mdo_integrity_check\u001b[0m\u001b[1;33m:\u001b[0m\u001b[1;33m\u001b[0m\u001b[1;33m\u001b[0m\u001b[0m\n\u001b[1;32m-> 3282\u001b[1;33m             \u001b[0mself\u001b[0m\u001b[1;33m.\u001b[0m\u001b[0m_verify_integrity\u001b[0m\u001b[1;33m(\u001b[0m\u001b[1;33m)\u001b[0m\u001b[1;33m\u001b[0m\u001b[1;33m\u001b[0m\u001b[0m\n\u001b[0m\u001b[0;32m   3283\u001b[0m \u001b[1;33m\u001b[0m\u001b[0m\n\u001b[0;32m   3284\u001b[0m         \u001b[0mself\u001b[0m\u001b[1;33m.\u001b[0m\u001b[0m_consolidate_check\u001b[0m\u001b[1;33m(\u001b[0m\u001b[1;33m)\u001b[0m\u001b[1;33m\u001b[0m\u001b[1;33m\u001b[0m\u001b[0m\n",
      "\u001b[1;32m~\\Anaconda3\\lib\\site-packages\\pandas\\core\\internals.py\u001b[0m in \u001b[0;36m_verify_integrity\u001b[1;34m(self)\u001b[0m\n\u001b[0;32m   3496\u001b[0m                                  \u001b[1;34m'block items\\n# manager items: {0}, # '\u001b[0m\u001b[1;33m\u001b[0m\u001b[1;33m\u001b[0m\u001b[0m\n\u001b[0;32m   3497\u001b[0m                                  'tot_items: {1}'.format(\n\u001b[1;32m-> 3498\u001b[1;33m                                      len(self.items), tot_items))\n\u001b[0m\u001b[0;32m   3499\u001b[0m \u001b[1;33m\u001b[0m\u001b[0m\n\u001b[0;32m   3500\u001b[0m     def apply(self, f, axes=None, filter=None, do_integrity_check=False,\n",
      "\u001b[1;31mAssertionError\u001b[0m: Number of manager items must equal union of block items\n# manager items: 14, # tot_items: 15"
     ]
    }
   ],
   "source": [
    "pd.concat([d4, d3], sort = True).reset_index(drop = True)"
   ]
  },
  {
   "cell_type": "markdown",
   "metadata": {},
   "source": [
    "# 한 페이지짜리 함수"
   ]
  },
  {
   "cell_type": "code",
   "execution_count": 227,
   "metadata": {
    "ExecuteTime": {
     "end_time": "2019-04-28T07:15:45.032469Z",
     "start_time": "2019-04-28T07:15:45.007869Z"
    }
   },
   "outputs": [],
   "source": [
    "def crawling_one_page(pageNo) :\n",
    "    pageNo = str(pageNo)\n",
    "    d4 = pd.DataFrame(columns = ['title_song_or_not', 'title', 'artist', 'bugs_score', 'artist',\n",
    "       'album_title', '앨범 종류', '발매일', '장르', '스타일', '기획사', '유통사', '재생 시간',\n",
    "       '고음질', 'n'])#final_dataframe\n",
    "    \n",
    "    for idx in range(70) :\n",
    "        \n",
    "        dr.get('https://music.bugs.co.kr/newest/album/kpoppicked?page='+pageNo)\n",
    "    \n",
    "        container = dr.find_element_by_id('container')\n",
    "        section = container.find_element_by_css_selector('section[class = \"sectionPadding\"]')\n",
    "        div  = section.find_element_by_css_selector('div')\n",
    "        li = div.find_elements_by_css_selector('li')[idx]\n",
    "    \n",
    "        music_info = {}\n",
    "        \n",
    "        \n",
    "        fig = li.find_element_by_css_selector('figcaption')\n",
    "        \n",
    "        #artist\n",
    "        p = fig.find_element_by_css_selector('p[class = \"artist\"]')\n",
    "\n",
    "        try : #링크로 걸려있는 artist\n",
    "            music_info['artist'] = [p.find_element_by_css_selector('a').text]\n",
    "\n",
    "        except :\n",
    "            music_info['artist'] = [p.find_element_by_css_selector('span').text]\n",
    "            \n",
    "        #album title\n",
    "        a = fig.find_element_by_css_selector('a')\n",
    "        music_info['album_title'] = [a.get_attribute('title')]\n",
    "        \n",
    "        #click 앨범 정보 페이지로 이동\n",
    "        a.click()\n",
    "        \n",
    "        div = dr.find_element_by_class_name('basicInfo')\n",
    "        tbody = div.find_element_by_css_selector('tbody')\n",
    "        trs = tbody.find_elements_by_css_selector('tr')\n",
    "        \n",
    "\n",
    "        for tr in trs[1:] : #except artist\n",
    "            th = tr.find_element_by_css_selector('th')\n",
    "            td = tr.find_element_by_css_selector('td')\n",
    "\n",
    "            music_info[th.text] = [td.text]\n",
    "\n",
    "        \n",
    "        #수록곡\n",
    "        section = dr.find_element_by_css_selector('section[class = \"sectionPadding contents track\"]')\n",
    "        music_info['n'] = [section.find_element_by_css_selector('p').text] #수록곡 개수\n",
    "        \n",
    "        table = section.find_element_by_css_selector('table')\n",
    "        tbd = table.find_element_by_css_selector('tbody')\n",
    "        trs = tbd.find_elements_by_css_selector('tr')\n",
    "        \n",
    "        music_list = []\n",
    "        for tr in trs :\n",
    "            ps = tr.find_elements_by_css_selector('p')\n",
    "\n",
    "            aa = []\n",
    "            #서비스를 지원하지 않는 곡들 처리\n",
    "            try :\n",
    "                tr.find_element_by_css_selector('input[disabled = \"disabled\"]')\n",
    "            except :\n",
    "\n",
    "                for p in ps :\n",
    "\n",
    "                    aa.append(p.text)\n",
    "\n",
    "                music_list.append(aa)\n",
    "                \n",
    "        d1 = pd.DataFrame(music_list,columns = ['title_song_or_not','title','artist','bugs_score'])\n",
    "        d2 = pd.DataFrame(music_info)\n",
    "        d2 = pd.DataFrame(np.repeat(np.array(d2),len(d1), axis = 0), columns = music_info.keys())\n",
    "        d3 = pd.concat([d1,d2], axis = 1)\n",
    "        \n",
    "        d4 = pd.concat([d4,d3], sort = False).reset_index(drop = True)\n",
    "        \n",
    "        if((idx+1) % 5 == 0) : #다섯번째마다 저장\n",
    "            print(idx+1, 'album...')\n",
    "            d4.to_csv('pageNo_'+pageNo+'_'+(idx+1)+'.csv')\n",
    "        "
   ]
  },
  {
   "cell_type": "code",
   "execution_count": 228,
   "metadata": {
    "ExecuteTime": {
     "end_time": "2019-04-28T07:16:05.523682Z",
     "start_time": "2019-04-28T07:15:52.133402Z"
    }
   },
   "outputs": [
    {
     "ename": "AssertionError",
     "evalue": "Number of manager items must equal union of block items\n# manager items: 14, # tot_items: 15",
     "output_type": "error",
     "traceback": [
      "\u001b[1;31m---------------------------------------------------------------------------\u001b[0m",
      "\u001b[1;31mAssertionError\u001b[0m                            Traceback (most recent call last)",
      "\u001b[1;32m<ipython-input-228-55f7145d18b6>\u001b[0m in \u001b[0;36m<module>\u001b[1;34m\u001b[0m\n\u001b[1;32m----> 1\u001b[1;33m \u001b[0mcrawling_one_page\u001b[0m\u001b[1;33m(\u001b[0m\u001b[1;36m100\u001b[0m\u001b[1;33m)\u001b[0m\u001b[1;33m\u001b[0m\u001b[1;33m\u001b[0m\u001b[0m\n\u001b[0m",
      "\u001b[1;32m<ipython-input-227-e2a0343aace5>\u001b[0m in \u001b[0;36mcrawling_one_page\u001b[1;34m(pageNo)\u001b[0m\n\u001b[0;32m     76\u001b[0m         \u001b[0md3\u001b[0m \u001b[1;33m=\u001b[0m \u001b[0mpd\u001b[0m\u001b[1;33m.\u001b[0m\u001b[0mconcat\u001b[0m\u001b[1;33m(\u001b[0m\u001b[1;33m[\u001b[0m\u001b[0md1\u001b[0m\u001b[1;33m,\u001b[0m\u001b[0md2\u001b[0m\u001b[1;33m]\u001b[0m\u001b[1;33m,\u001b[0m \u001b[0maxis\u001b[0m \u001b[1;33m=\u001b[0m \u001b[1;36m1\u001b[0m\u001b[1;33m)\u001b[0m\u001b[1;33m\u001b[0m\u001b[1;33m\u001b[0m\u001b[0m\n\u001b[0;32m     77\u001b[0m \u001b[1;33m\u001b[0m\u001b[0m\n\u001b[1;32m---> 78\u001b[1;33m         \u001b[0md4\u001b[0m \u001b[1;33m=\u001b[0m \u001b[0mpd\u001b[0m\u001b[1;33m.\u001b[0m\u001b[0mconcat\u001b[0m\u001b[1;33m(\u001b[0m\u001b[1;33m[\u001b[0m\u001b[0md4\u001b[0m\u001b[1;33m,\u001b[0m\u001b[0md3\u001b[0m\u001b[1;33m]\u001b[0m\u001b[1;33m,\u001b[0m \u001b[0msort\u001b[0m \u001b[1;33m=\u001b[0m \u001b[1;32mFalse\u001b[0m\u001b[1;33m)\u001b[0m\u001b[1;33m.\u001b[0m\u001b[0mreset_index\u001b[0m\u001b[1;33m(\u001b[0m\u001b[0mdrop\u001b[0m \u001b[1;33m=\u001b[0m \u001b[1;32mTrue\u001b[0m\u001b[1;33m)\u001b[0m\u001b[1;33m\u001b[0m\u001b[1;33m\u001b[0m\u001b[0m\n\u001b[0m\u001b[0;32m     79\u001b[0m \u001b[1;33m\u001b[0m\u001b[0m\n\u001b[0;32m     80\u001b[0m         \u001b[1;32mif\u001b[0m\u001b[1;33m(\u001b[0m\u001b[1;33m(\u001b[0m\u001b[0midx\u001b[0m\u001b[1;33m+\u001b[0m\u001b[1;36m1\u001b[0m\u001b[1;33m)\u001b[0m \u001b[1;33m%\u001b[0m \u001b[1;36m5\u001b[0m \u001b[1;33m==\u001b[0m \u001b[1;36m0\u001b[0m\u001b[1;33m)\u001b[0m \u001b[1;33m:\u001b[0m \u001b[1;31m#다섯번째마다 저장\u001b[0m\u001b[1;33m\u001b[0m\u001b[1;33m\u001b[0m\u001b[0m\n",
      "\u001b[1;32m~\\Anaconda3\\lib\\site-packages\\pandas\\core\\reshape\\concat.py\u001b[0m in \u001b[0;36mconcat\u001b[1;34m(objs, axis, join, join_axes, ignore_index, keys, levels, names, verify_integrity, sort, copy)\u001b[0m\n\u001b[0;32m    224\u001b[0m                        \u001b[0mverify_integrity\u001b[0m\u001b[1;33m=\u001b[0m\u001b[0mverify_integrity\u001b[0m\u001b[1;33m,\u001b[0m\u001b[1;33m\u001b[0m\u001b[1;33m\u001b[0m\u001b[0m\n\u001b[0;32m    225\u001b[0m                        copy=copy, sort=sort)\n\u001b[1;32m--> 226\u001b[1;33m     \u001b[1;32mreturn\u001b[0m \u001b[0mop\u001b[0m\u001b[1;33m.\u001b[0m\u001b[0mget_result\u001b[0m\u001b[1;33m(\u001b[0m\u001b[1;33m)\u001b[0m\u001b[1;33m\u001b[0m\u001b[1;33m\u001b[0m\u001b[0m\n\u001b[0m\u001b[0;32m    227\u001b[0m \u001b[1;33m\u001b[0m\u001b[0m\n\u001b[0;32m    228\u001b[0m \u001b[1;33m\u001b[0m\u001b[0m\n",
      "\u001b[1;32m~\\Anaconda3\\lib\\site-packages\\pandas\\core\\reshape\\concat.py\u001b[0m in \u001b[0;36mget_result\u001b[1;34m(self)\u001b[0m\n\u001b[0;32m    421\u001b[0m             new_data = concatenate_block_managers(\n\u001b[0;32m    422\u001b[0m                 \u001b[0mmgrs_indexers\u001b[0m\u001b[1;33m,\u001b[0m \u001b[0mself\u001b[0m\u001b[1;33m.\u001b[0m\u001b[0mnew_axes\u001b[0m\u001b[1;33m,\u001b[0m \u001b[0mconcat_axis\u001b[0m\u001b[1;33m=\u001b[0m\u001b[0mself\u001b[0m\u001b[1;33m.\u001b[0m\u001b[0maxis\u001b[0m\u001b[1;33m,\u001b[0m\u001b[1;33m\u001b[0m\u001b[1;33m\u001b[0m\u001b[0m\n\u001b[1;32m--> 423\u001b[1;33m                 copy=self.copy)\n\u001b[0m\u001b[0;32m    424\u001b[0m             \u001b[1;32mif\u001b[0m \u001b[1;32mnot\u001b[0m \u001b[0mself\u001b[0m\u001b[1;33m.\u001b[0m\u001b[0mcopy\u001b[0m\u001b[1;33m:\u001b[0m\u001b[1;33m\u001b[0m\u001b[1;33m\u001b[0m\u001b[0m\n\u001b[0;32m    425\u001b[0m                 \u001b[0mnew_data\u001b[0m\u001b[1;33m.\u001b[0m\u001b[0m_consolidate_inplace\u001b[0m\u001b[1;33m(\u001b[0m\u001b[1;33m)\u001b[0m\u001b[1;33m\u001b[0m\u001b[1;33m\u001b[0m\u001b[0m\n",
      "\u001b[1;32m~\\Anaconda3\\lib\\site-packages\\pandas\\core\\internals.py\u001b[0m in \u001b[0;36mconcatenate_block_managers\u001b[1;34m(mgrs_indexers, axes, concat_axis, copy)\u001b[0m\n\u001b[0;32m   5423\u001b[0m         \u001b[0mblocks\u001b[0m\u001b[1;33m.\u001b[0m\u001b[0mappend\u001b[0m\u001b[1;33m(\u001b[0m\u001b[0mb\u001b[0m\u001b[1;33m)\u001b[0m\u001b[1;33m\u001b[0m\u001b[1;33m\u001b[0m\u001b[0m\n\u001b[0;32m   5424\u001b[0m \u001b[1;33m\u001b[0m\u001b[0m\n\u001b[1;32m-> 5425\u001b[1;33m     \u001b[1;32mreturn\u001b[0m \u001b[0mBlockManager\u001b[0m\u001b[1;33m(\u001b[0m\u001b[0mblocks\u001b[0m\u001b[1;33m,\u001b[0m \u001b[0maxes\u001b[0m\u001b[1;33m)\u001b[0m\u001b[1;33m\u001b[0m\u001b[1;33m\u001b[0m\u001b[0m\n\u001b[0m\u001b[0;32m   5426\u001b[0m \u001b[1;33m\u001b[0m\u001b[0m\n\u001b[0;32m   5427\u001b[0m \u001b[1;33m\u001b[0m\u001b[0m\n",
      "\u001b[1;32m~\\Anaconda3\\lib\\site-packages\\pandas\\core\\internals.py\u001b[0m in \u001b[0;36m__init__\u001b[1;34m(self, blocks, axes, do_integrity_check)\u001b[0m\n\u001b[0;32m   3280\u001b[0m \u001b[1;33m\u001b[0m\u001b[0m\n\u001b[0;32m   3281\u001b[0m         \u001b[1;32mif\u001b[0m \u001b[0mdo_integrity_check\u001b[0m\u001b[1;33m:\u001b[0m\u001b[1;33m\u001b[0m\u001b[1;33m\u001b[0m\u001b[0m\n\u001b[1;32m-> 3282\u001b[1;33m             \u001b[0mself\u001b[0m\u001b[1;33m.\u001b[0m\u001b[0m_verify_integrity\u001b[0m\u001b[1;33m(\u001b[0m\u001b[1;33m)\u001b[0m\u001b[1;33m\u001b[0m\u001b[1;33m\u001b[0m\u001b[0m\n\u001b[0m\u001b[0;32m   3283\u001b[0m \u001b[1;33m\u001b[0m\u001b[0m\n\u001b[0;32m   3284\u001b[0m         \u001b[0mself\u001b[0m\u001b[1;33m.\u001b[0m\u001b[0m_consolidate_check\u001b[0m\u001b[1;33m(\u001b[0m\u001b[1;33m)\u001b[0m\u001b[1;33m\u001b[0m\u001b[1;33m\u001b[0m\u001b[0m\n",
      "\u001b[1;32m~\\Anaconda3\\lib\\site-packages\\pandas\\core\\internals.py\u001b[0m in \u001b[0;36m_verify_integrity\u001b[1;34m(self)\u001b[0m\n\u001b[0;32m   3496\u001b[0m                                  \u001b[1;34m'block items\\n# manager items: {0}, # '\u001b[0m\u001b[1;33m\u001b[0m\u001b[1;33m\u001b[0m\u001b[0m\n\u001b[0;32m   3497\u001b[0m                                  'tot_items: {1}'.format(\n\u001b[1;32m-> 3498\u001b[1;33m                                      len(self.items), tot_items))\n\u001b[0m\u001b[0;32m   3499\u001b[0m \u001b[1;33m\u001b[0m\u001b[0m\n\u001b[0;32m   3500\u001b[0m     def apply(self, f, axes=None, filter=None, do_integrity_check=False,\n",
      "\u001b[1;31mAssertionError\u001b[0m: Number of manager items must equal union of block items\n# manager items: 14, # tot_items: 15"
     ]
    }
   ],
   "source": [
    "crawling_one_page(100)"
   ]
  },
  {
   "cell_type": "markdown",
   "metadata": {},
   "source": [
    "# checking"
   ]
  },
  {
   "cell_type": "code",
   "execution_count": 38,
   "metadata": {
    "ExecuteTime": {
     "end_time": "2019-04-28T06:31:45.679078Z",
     "start_time": "2019-04-28T06:31:45.669790Z"
    }
   },
   "outputs": [
    {
     "data": {
      "text/plain": [
       "['.ipynb_checkpoints', '1.Data_Crawling_mini.ipynb', 'pageNo_100.csv']"
      ]
     },
     "execution_count": 38,
     "metadata": {},
     "output_type": "execute_result"
    }
   ],
   "source": [
    "import os\n",
    "os.listdir('./')"
   ]
  },
  {
   "cell_type": "code",
   "execution_count": 40,
   "metadata": {
    "ExecuteTime": {
     "end_time": "2019-04-28T06:32:16.224979Z",
     "start_time": "2019-04-28T06:32:16.198128Z"
    }
   },
   "outputs": [
    {
     "data": {
      "text/html": [
       "<div>\n",
       "<style scoped>\n",
       "    .dataframe tbody tr th:only-of-type {\n",
       "        vertical-align: middle;\n",
       "    }\n",
       "\n",
       "    .dataframe tbody tr th {\n",
       "        vertical-align: top;\n",
       "    }\n",
       "\n",
       "    .dataframe thead th {\n",
       "        text-align: right;\n",
       "    }\n",
       "</style>\n",
       "<table border=\"1\" class=\"dataframe\">\n",
       "  <thead>\n",
       "    <tr style=\"text-align: right;\">\n",
       "      <th></th>\n",
       "      <th>Unnamed: 0</th>\n",
       "      <th>title_song_or_not</th>\n",
       "      <th>title</th>\n",
       "      <th>artist</th>\n",
       "      <th>bugs_score</th>\n",
       "      <th>artist.1</th>\n",
       "      <th>album_title</th>\n",
       "      <th>앨범 종류</th>\n",
       "      <th>발매일</th>\n",
       "      <th>장르</th>\n",
       "      <th>스타일</th>\n",
       "      <th>기획사</th>\n",
       "      <th>유통사</th>\n",
       "      <th>재생 시간</th>\n",
       "      <th>고음질</th>\n",
       "      <th>n</th>\n",
       "    </tr>\n",
       "  </thead>\n",
       "  <tbody>\n",
       "    <tr>\n",
       "      <th>0</th>\n",
       "      <td>0</td>\n",
       "      <td>1\\r\\n[타이틀곡]</td>\n",
       "      <td>우린 나란히 앉아 (With 정소안, 변흥수)</td>\n",
       "      <td>새봄(Saevom)</td>\n",
       "      <td>선호도 5점</td>\n",
       "      <td>새봄(Saevom)</td>\n",
       "      <td>우린 나란히 앉아</td>\n",
       "      <td>싱글</td>\n",
       "      <td>2018.07.29</td>\n",
       "      <td>인디, 발라드/댄스/팝</td>\n",
       "      <td>인디 팝</td>\n",
       "      <td>어느새봄</td>\n",
       "      <td>포크라노스</td>\n",
       "      <td>03:44</td>\n",
       "      <td>FLAC 16bit</td>\n",
       "      <td>(1)</td>\n",
       "    </tr>\n",
       "  </tbody>\n",
       "</table>\n",
       "</div>"
      ],
      "text/plain": [
       "   Unnamed: 0 title_song_or_not                      title      artist  \\\n",
       "0           0       1\\r\\n[타이틀곡]  우린 나란히 앉아 (With 정소안, 변흥수)  새봄(Saevom)   \n",
       "\n",
       "  bugs_score    artist.1 album_title 앨범 종류         발매일            장르   스타일  \\\n",
       "0     선호도 5점  새봄(Saevom)   우린 나란히 앉아    싱글  2018.07.29  인디, 발라드/댄스/팝  인디 팝   \n",
       "\n",
       "    기획사    유통사  재생 시간         고음질    n  \n",
       "0  어느새봄  포크라노스  03:44  FLAC 16bit  (1)  "
      ]
     },
     "execution_count": 40,
     "metadata": {},
     "output_type": "execute_result"
    }
   ],
   "source": [
    "df = pd.read_csv('./pageNo_100.csv')\n",
    "df"
   ]
  }
 ],
 "metadata": {
  "hide_input": false,
  "kernelspec": {
   "display_name": "Python 3",
   "language": "python",
   "name": "python3"
  },
  "language_info": {
   "codemirror_mode": {
    "name": "ipython",
    "version": 3
   },
   "file_extension": ".py",
   "mimetype": "text/x-python",
   "name": "python",
   "nbconvert_exporter": "python",
   "pygments_lexer": "ipython3",
   "version": "3.7.1"
  },
  "toc": {
   "base_numbering": 1,
   "nav_menu": {},
   "number_sections": true,
   "sideBar": true,
   "skip_h1_title": false,
   "title_cell": "Table of Contents",
   "title_sidebar": "Contents",
   "toc_cell": false,
   "toc_position": {},
   "toc_section_display": true,
   "toc_window_display": true
  }
 },
 "nbformat": 4,
 "nbformat_minor": 2
}
