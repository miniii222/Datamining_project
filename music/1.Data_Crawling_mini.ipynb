{
 "cells": [
  {
   "cell_type": "code",
   "execution_count": 1,
   "metadata": {
    "ExecuteTime": {
     "end_time": "2019-04-27T12:57:45.188031Z",
     "start_time": "2019-04-27T12:57:42.468887Z"
    }
   },
   "outputs": [],
   "source": [
    "from selenium import webdriver\n",
    "\n",
    "#opt.add_argument('headless')\n",
    "#opt = webdriver.ChromeOptions()\n",
    "#dr=webdriver.Chrome('C:/Users/wjssm/Documents/chromedriver.exe',chrome_options = opt) #nothings happen\n",
    "\n",
    "dr = webdriver.Chrome('C:/Users/wjssm/Documents/chromedriver.exe')\n"
   ]
  },
  {
   "cell_type": "code",
   "execution_count": 2,
   "metadata": {
    "ExecuteTime": {
     "end_time": "2019-04-27T12:57:51.793992Z",
     "start_time": "2019-04-27T12:57:45.193048Z"
    }
   },
   "outputs": [],
   "source": [
    "pageNo = str(100)\n",
    "dr.get('https://music.bugs.co.kr/newest/album/kpoppicked?page='+pageNo)"
   ]
  },
  {
   "cell_type": "markdown",
   "metadata": {},
   "source": [
    "- 한 페이지당 7 x 10 70개의 앨범\n",
    "- 대략 100~110 만 긁어보자"
   ]
  },
  {
   "cell_type": "markdown",
   "metadata": {},
   "source": [
    "`고민거리`\n",
    "- 새로운 노래가 업데이트 되면 페이지도 달라지는 거 아닌가..?"
   ]
  },
  {
   "cell_type": "code",
   "execution_count": 3,
   "metadata": {
    "ExecuteTime": {
     "end_time": "2019-04-27T12:57:56.019009Z",
     "start_time": "2019-04-27T12:57:52.541588Z"
    }
   },
   "outputs": [],
   "source": [
    "import pandas as pd\n",
    "import numpy as np"
   ]
  },
  {
   "cell_type": "code",
   "execution_count": 4,
   "metadata": {
    "ExecuteTime": {
     "end_time": "2019-04-27T12:57:56.093482Z",
     "start_time": "2019-04-27T12:57:56.025013Z"
    }
   },
   "outputs": [
    {
     "data": {
      "text/html": [
       "<div>\n",
       "<style scoped>\n",
       "    .dataframe tbody tr th:only-of-type {\n",
       "        vertical-align: middle;\n",
       "    }\n",
       "\n",
       "    .dataframe tbody tr th {\n",
       "        vertical-align: top;\n",
       "    }\n",
       "\n",
       "    .dataframe thead th {\n",
       "        text-align: right;\n",
       "    }\n",
       "</style>\n",
       "<table border=\"1\" class=\"dataframe\">\n",
       "  <thead>\n",
       "    <tr style=\"text-align: right;\">\n",
       "      <th></th>\n",
       "      <th>album_title</th>\n",
       "      <th>artist</th>\n",
       "      <th>type</th>\n",
       "      <th>date</th>\n",
       "      <th>genre</th>\n",
       "      <th>style</th>\n",
       "      <th>agency</th>\n",
       "      <th>distributor</th>\n",
       "      <th>album_playtime</th>\n",
       "      <th>number</th>\n",
       "      <th>title</th>\n",
       "      <th>n</th>\n",
       "      <th>title_song_or_not</th>\n",
       "      <th>bugs_score</th>\n",
       "    </tr>\n",
       "  </thead>\n",
       "  <tbody>\n",
       "  </tbody>\n",
       "</table>\n",
       "</div>"
      ],
      "text/plain": [
       "Empty DataFrame\n",
       "Columns: [album_title, artist, type, date, genre, style, agency, distributor, album_playtime, number, title, n, title_song_or_not, bugs_score]\n",
       "Index: []"
      ]
     },
     "execution_count": 4,
     "metadata": {},
     "output_type": "execute_result"
    }
   ],
   "source": [
    "df  = pd.DataFrame(columns = ['album_title','artist','type','date','genre','style','agency',\n",
    "                             'distributor','album_playtime','number','title','n','title_song_or_not','bugs_score'])\n",
    "df"
   ]
  },
  {
   "cell_type": "markdown",
   "metadata": {},
   "source": [
    "# 연습"
   ]
  },
  {
   "cell_type": "code",
   "execution_count": 5,
   "metadata": {
    "ExecuteTime": {
     "end_time": "2019-04-27T12:57:57.909616Z",
     "start_time": "2019-04-27T12:57:57.836283Z"
    }
   },
   "outputs": [],
   "source": [
    "container = dr.find_element_by_id('container')\n",
    "section = container.find_element_by_css_selector('section[class = \"sectionPadding\"]')\n",
    "div  = section.find_element_by_css_selector('div')\n",
    "lis = div.find_elements_by_css_selector('li')"
   ]
  },
  {
   "cell_type": "code",
   "execution_count": 6,
   "metadata": {
    "ExecuteTime": {
     "end_time": "2019-04-27T12:57:58.170765Z",
     "start_time": "2019-04-27T12:57:58.164809Z"
    }
   },
   "outputs": [],
   "source": [
    "music_info = {}"
   ]
  },
  {
   "cell_type": "markdown",
   "metadata": {},
   "source": [
    "## 앨범명"
   ]
  },
  {
   "cell_type": "code",
   "execution_count": 7,
   "metadata": {
    "ExecuteTime": {
     "end_time": "2019-04-27T12:57:58.852961Z",
     "start_time": "2019-04-27T12:57:58.803376Z"
    }
   },
   "outputs": [
    {
     "data": {
      "text/plain": [
       "{'album_title': ['Miss']}"
      ]
     },
     "execution_count": 7,
     "metadata": {},
     "output_type": "execute_result"
    }
   ],
   "source": [
    "fig = lis[0].find_element_by_css_selector('figcaption')\n",
    "a = fig.find_element_by_css_selector('a')\n",
    "music_info['album_title'] = [a.get_attribute('title')]\n",
    "music_info"
   ]
  },
  {
   "cell_type": "markdown",
   "metadata": {},
   "source": [
    "## 앨범 클릭"
   ]
  },
  {
   "cell_type": "code",
   "execution_count": 8,
   "metadata": {
    "ExecuteTime": {
     "end_time": "2019-04-27T12:58:02.228155Z",
     "start_time": "2019-04-27T12:57:59.609037Z"
    }
   },
   "outputs": [],
   "source": [
    "#click 앨범 정보 페이지로 이동\n",
    "a.click()"
   ]
  },
  {
   "cell_type": "markdown",
   "metadata": {},
   "source": [
    "## 앨범 정보"
   ]
  },
  {
   "cell_type": "code",
   "execution_count": 9,
   "metadata": {
    "ExecuteTime": {
     "end_time": "2019-04-27T12:58:03.271492Z",
     "start_time": "2019-04-27T12:58:03.217847Z"
    }
   },
   "outputs": [],
   "source": [
    "div = dr.find_element_by_class_name('basicInfo')\n",
    "tbody = div.find_element_by_css_selector('tbody')\n",
    "trs = tbody.find_elements_by_css_selector('tr')"
   ]
  },
  {
   "cell_type": "code",
   "execution_count": 10,
   "metadata": {
    "ExecuteTime": {
     "end_time": "2019-04-27T12:58:04.442091Z",
     "start_time": "2019-04-27T12:58:04.154721Z"
    }
   },
   "outputs": [
    {
     "data": {
      "text/plain": [
       "{'album_title': ['Miss'],\n",
       " 'artist': ['싱글'],\n",
       " 'type': ['2018.07.29'],\n",
       " 'date': ['인디, 발라드/댄스/팝'],\n",
       " 'genre': ['발라드, 인디 팝'],\n",
       " 'style': ['레이블 숲'],\n",
       " 'agency': ['NHN벅스'],\n",
       " 'distributor': ['03:21']}"
      ]
     },
     "execution_count": 10,
     "metadata": {},
     "output_type": "execute_result"
    }
   ],
   "source": [
    "#artist는 link 걸려 있는 것도 있고, 아닌 것도 있고\n",
    "try :\n",
    "    #link\n",
    "    a = trs[0].find_element_by_css_selector('a')\n",
    "    music_info['artist'] = a.text\n",
    "    \n",
    "except :\n",
    "    #not\n",
    "    td = trs[0].find_element_by_css_selector('td')\n",
    "    music_info['artist'] = td.text\n",
    "\n",
    "columns = ['artist','type','date','genre','style','agency','distributor','album_playtime']\n",
    "\n",
    "for i in range(1,8) :\n",
    "    td = trs[i].find_element_by_css_selector('td')\n",
    "    music_info[columns[i-1]] = [td.text]\n",
    "    \n",
    "    \n",
    "music_info"
   ]
  },
  {
   "cell_type": "markdown",
   "metadata": {},
   "source": [
    "## 수록곡"
   ]
  },
  {
   "cell_type": "code",
   "execution_count": 11,
   "metadata": {
    "ExecuteTime": {
     "end_time": "2019-04-27T12:58:05.704837Z",
     "start_time": "2019-04-27T12:58:05.650008Z"
    }
   },
   "outputs": [
    {
     "data": {
      "text/plain": [
       "{'album_title': ['Miss'],\n",
       " 'artist': ['싱글'],\n",
       " 'type': ['2018.07.29'],\n",
       " 'date': ['인디, 발라드/댄스/팝'],\n",
       " 'genre': ['발라드, 인디 팝'],\n",
       " 'style': ['레이블 숲'],\n",
       " 'agency': ['NHN벅스'],\n",
       " 'distributor': ['03:21'],\n",
       " 'n': ['(1)']}"
      ]
     },
     "execution_count": 11,
     "metadata": {},
     "output_type": "execute_result"
    }
   ],
   "source": [
    "section = dr.find_element_by_css_selector('section[class = \"sectionPadding contents track\"]')\n",
    "music_info['n'] = [section.find_element_by_css_selector('p').text] #수록곡 개수\n",
    "music_info"
   ]
  },
  {
   "cell_type": "code",
   "execution_count": 12,
   "metadata": {
    "ExecuteTime": {
     "end_time": "2019-04-27T12:58:06.342485Z",
     "start_time": "2019-04-27T12:58:06.289343Z"
    }
   },
   "outputs": [],
   "source": [
    "table = section.find_element_by_css_selector('table')\n",
    "tbd = table.find_element_by_css_selector('tbody')\n",
    "trs = tbd.find_elements_by_css_selector('tr')"
   ]
  },
  {
   "cell_type": "code",
   "execution_count": 13,
   "metadata": {
    "ExecuteTime": {
     "end_time": "2019-04-27T12:58:06.865557Z",
     "start_time": "2019-04-27T12:58:06.699204Z"
    }
   },
   "outputs": [],
   "source": [
    "music_list = []\n",
    "for tr in trs :\n",
    "    ps = tr.find_elements_by_css_selector('p')\n",
    "    \n",
    "    aa = []\n",
    "    #서비스를 지원하지 않는 곡들 처리\n",
    "    try :\n",
    "        tr.find_element_by_css_selector('input[disabled = \"disabled\"]')\n",
    "    except :\n",
    "        \n",
    "        for p in ps :\n",
    "            \n",
    "            aa.append(p.text)\n",
    "        \n",
    "        music_list.append(aa)"
   ]
  },
  {
   "cell_type": "code",
   "execution_count": 14,
   "metadata": {
    "ExecuteTime": {
     "end_time": "2019-04-27T12:58:07.043195Z",
     "start_time": "2019-04-27T12:58:07.026500Z"
    }
   },
   "outputs": [
    {
     "data": {
      "text/html": [
       "<div>\n",
       "<style scoped>\n",
       "    .dataframe tbody tr th:only-of-type {\n",
       "        vertical-align: middle;\n",
       "    }\n",
       "\n",
       "    .dataframe tbody tr th {\n",
       "        vertical-align: top;\n",
       "    }\n",
       "\n",
       "    .dataframe thead th {\n",
       "        text-align: right;\n",
       "    }\n",
       "</style>\n",
       "<table border=\"1\" class=\"dataframe\">\n",
       "  <thead>\n",
       "    <tr style=\"text-align: right;\">\n",
       "      <th></th>\n",
       "      <th>title_song_or_not</th>\n",
       "      <th>title</th>\n",
       "      <th>artist</th>\n",
       "      <th>bugs_score</th>\n",
       "    </tr>\n",
       "  </thead>\n",
       "  <tbody>\n",
       "    <tr>\n",
       "      <th>0</th>\n",
       "      <td>1\\n[타이틀곡]</td>\n",
       "      <td>Miss</td>\n",
       "      <td>남소현</td>\n",
       "      <td>선호도 5점</td>\n",
       "    </tr>\n",
       "  </tbody>\n",
       "</table>\n",
       "</div>"
      ],
      "text/plain": [
       "  title_song_or_not title artist bugs_score\n",
       "0         1\\n[타이틀곡]  Miss    남소현     선호도 5점"
      ]
     },
     "execution_count": 14,
     "metadata": {},
     "output_type": "execute_result"
    }
   ],
   "source": [
    "d1 = pd.DataFrame(music_list,columns = ['title_song_or_not','title','artist','bugs_score'])\n",
    "d1"
   ]
  },
  {
   "cell_type": "code",
   "execution_count": 15,
   "metadata": {
    "ExecuteTime": {
     "end_time": "2019-04-27T12:58:07.739734Z",
     "start_time": "2019-04-27T12:58:07.731593Z"
    }
   },
   "outputs": [
    {
     "data": {
      "text/plain": [
       "dict_keys(['album_title', 'artist', 'type', 'date', 'genre', 'style', 'agency', 'distributor', 'n'])"
      ]
     },
     "execution_count": 15,
     "metadata": {},
     "output_type": "execute_result"
    }
   ],
   "source": [
    "music_info.keys()"
   ]
  },
  {
   "cell_type": "code",
   "execution_count": 20,
   "metadata": {
    "ExecuteTime": {
     "end_time": "2019-04-27T12:58:59.492887Z",
     "start_time": "2019-04-27T12:58:59.483684Z"
    }
   },
   "outputs": [
    {
     "data": {
      "text/plain": [
       "{'album_title': ['Miss'],\n",
       " 'artist': ['싱글'],\n",
       " 'type': ['2018.07.29'],\n",
       " 'date': ['인디, 발라드/댄스/팝'],\n",
       " 'genre': ['발라드, 인디 팝'],\n",
       " 'style': ['레이블 숲'],\n",
       " 'agency': ['NHN벅스'],\n",
       " 'distributor': ['03:21'],\n",
       " 'n': ['(1)']}"
      ]
     },
     "execution_count": 20,
     "metadata": {},
     "output_type": "execute_result"
    }
   ],
   "source": [
    "music_info"
   ]
  },
  {
   "cell_type": "code",
   "execution_count": 16,
   "metadata": {
    "ExecuteTime": {
     "end_time": "2019-04-27T12:58:08.157813Z",
     "start_time": "2019-04-27T12:58:08.132960Z"
    }
   },
   "outputs": [
    {
     "data": {
      "text/html": [
       "<div>\n",
       "<style scoped>\n",
       "    .dataframe tbody tr th:only-of-type {\n",
       "        vertical-align: middle;\n",
       "    }\n",
       "\n",
       "    .dataframe tbody tr th {\n",
       "        vertical-align: top;\n",
       "    }\n",
       "\n",
       "    .dataframe thead th {\n",
       "        text-align: right;\n",
       "    }\n",
       "</style>\n",
       "<table border=\"1\" class=\"dataframe\">\n",
       "  <thead>\n",
       "    <tr style=\"text-align: right;\">\n",
       "      <th></th>\n",
       "      <th>album_title</th>\n",
       "      <th>type</th>\n",
       "      <th>date</th>\n",
       "      <th>genre</th>\n",
       "      <th>style</th>\n",
       "      <th>agency</th>\n",
       "      <th>distributor</th>\n",
       "      <th>album_playtime</th>\n",
       "      <th>n</th>\n",
       "    </tr>\n",
       "  </thead>\n",
       "  <tbody>\n",
       "    <tr>\n",
       "      <th>0</th>\n",
       "      <td>Miss</td>\n",
       "      <td>싱글</td>\n",
       "      <td>2018.07.29</td>\n",
       "      <td>인디, 발라드/댄스/팝</td>\n",
       "      <td>발라드, 인디 팝</td>\n",
       "      <td>레이블 숲</td>\n",
       "      <td>NHN벅스</td>\n",
       "      <td>03:21</td>\n",
       "      <td>(1)</td>\n",
       "    </tr>\n",
       "  </tbody>\n",
       "</table>\n",
       "</div>"
      ],
      "text/plain": [
       "  album_title type        date         genre      style agency distributor  \\\n",
       "0        Miss   싱글  2018.07.29  인디, 발라드/댄스/팝  발라드, 인디 팝  레이블 숲       NHN벅스   \n",
       "\n",
       "  album_playtime    n  \n",
       "0          03:21  (1)  "
      ]
     },
     "execution_count": 16,
     "metadata": {},
     "output_type": "execute_result"
    }
   ],
   "source": [
    "d2 = pd.DataFrame(music_info)\n",
    "d2 = pd.DataFrame(np.repeat(np.array(d2),len(d1), axis = 0),\n",
    "                  columns = ['album_title','type','date','genre','style','agency','distributor','album_playtime','n'])\n",
    "d2"
   ]
  },
  {
   "cell_type": "code",
   "execution_count": 17,
   "metadata": {
    "ExecuteTime": {
     "end_time": "2019-04-27T12:58:08.485182Z",
     "start_time": "2019-04-27T12:58:08.460061Z"
    }
   },
   "outputs": [
    {
     "data": {
      "text/html": [
       "<div>\n",
       "<style scoped>\n",
       "    .dataframe tbody tr th:only-of-type {\n",
       "        vertical-align: middle;\n",
       "    }\n",
       "\n",
       "    .dataframe tbody tr th {\n",
       "        vertical-align: top;\n",
       "    }\n",
       "\n",
       "    .dataframe thead th {\n",
       "        text-align: right;\n",
       "    }\n",
       "</style>\n",
       "<table border=\"1\" class=\"dataframe\">\n",
       "  <thead>\n",
       "    <tr style=\"text-align: right;\">\n",
       "      <th></th>\n",
       "      <th>title_song_or_not</th>\n",
       "      <th>title</th>\n",
       "      <th>artist</th>\n",
       "      <th>bugs_score</th>\n",
       "      <th>album_title</th>\n",
       "      <th>type</th>\n",
       "      <th>date</th>\n",
       "      <th>genre</th>\n",
       "      <th>style</th>\n",
       "      <th>agency</th>\n",
       "      <th>distributor</th>\n",
       "      <th>album_playtime</th>\n",
       "      <th>n</th>\n",
       "    </tr>\n",
       "  </thead>\n",
       "  <tbody>\n",
       "    <tr>\n",
       "      <th>0</th>\n",
       "      <td>1\\n[타이틀곡]</td>\n",
       "      <td>Miss</td>\n",
       "      <td>남소현</td>\n",
       "      <td>선호도 5점</td>\n",
       "      <td>Miss</td>\n",
       "      <td>싱글</td>\n",
       "      <td>2018.07.29</td>\n",
       "      <td>인디, 발라드/댄스/팝</td>\n",
       "      <td>발라드, 인디 팝</td>\n",
       "      <td>레이블 숲</td>\n",
       "      <td>NHN벅스</td>\n",
       "      <td>03:21</td>\n",
       "      <td>(1)</td>\n",
       "    </tr>\n",
       "  </tbody>\n",
       "</table>\n",
       "</div>"
      ],
      "text/plain": [
       "  title_song_or_not title artist bugs_score album_title type        date  \\\n",
       "0         1\\n[타이틀곡]  Miss    남소현     선호도 5점        Miss   싱글  2018.07.29   \n",
       "\n",
       "          genre      style agency distributor album_playtime    n  \n",
       "0  인디, 발라드/댄스/팝  발라드, 인디 팝  레이블 숲       NHN벅스          03:21  (1)  "
      ]
     },
     "execution_count": 17,
     "metadata": {},
     "output_type": "execute_result"
    }
   ],
   "source": [
    "d3 = pd.concat([d1,d2], axis = 1)\n",
    "d3"
   ]
  },
  {
   "cell_type": "code",
   "execution_count": 18,
   "metadata": {
    "ExecuteTime": {
     "end_time": "2019-04-27T12:58:08.824783Z",
     "start_time": "2019-04-27T12:58:08.804106Z"
    }
   },
   "outputs": [
    {
     "data": {
      "text/html": [
       "<div>\n",
       "<style scoped>\n",
       "    .dataframe tbody tr th:only-of-type {\n",
       "        vertical-align: middle;\n",
       "    }\n",
       "\n",
       "    .dataframe tbody tr th {\n",
       "        vertical-align: top;\n",
       "    }\n",
       "\n",
       "    .dataframe thead th {\n",
       "        text-align: right;\n",
       "    }\n",
       "</style>\n",
       "<table border=\"1\" class=\"dataframe\">\n",
       "  <thead>\n",
       "    <tr style=\"text-align: right;\">\n",
       "      <th></th>\n",
       "      <th>title_song_or_not</th>\n",
       "      <th>title</th>\n",
       "      <th>artist</th>\n",
       "      <th>bugs_score</th>\n",
       "      <th>album_title</th>\n",
       "      <th>type</th>\n",
       "      <th>date</th>\n",
       "      <th>genre</th>\n",
       "      <th>style</th>\n",
       "      <th>agency</th>\n",
       "      <th>distributor</th>\n",
       "      <th>album_playtime</th>\n",
       "      <th>n</th>\n",
       "    </tr>\n",
       "  </thead>\n",
       "  <tbody>\n",
       "    <tr>\n",
       "      <th>0</th>\n",
       "      <td>1\\n[타이틀곡]</td>\n",
       "      <td>Miss</td>\n",
       "      <td>남소현</td>\n",
       "      <td>선호도 5점</td>\n",
       "      <td>Miss</td>\n",
       "      <td>싱글</td>\n",
       "      <td>2018.07.29</td>\n",
       "      <td>인디, 발라드/댄스/팝</td>\n",
       "      <td>발라드, 인디 팝</td>\n",
       "      <td>레이블 숲</td>\n",
       "      <td>NHN벅스</td>\n",
       "      <td>03:21</td>\n",
       "      <td>(1)</td>\n",
       "    </tr>\n",
       "  </tbody>\n",
       "</table>\n",
       "</div>"
      ],
      "text/plain": [
       "  title_song_or_not title artist bugs_score album_title type        date  \\\n",
       "0         1\\n[타이틀곡]  Miss    남소현     선호도 5점        Miss   싱글  2018.07.29   \n",
       "\n",
       "          genre      style agency distributor album_playtime    n  \n",
       "0  인디, 발라드/댄스/팝  발라드, 인디 팝  레이블 숲       NHN벅스          03:21  (1)  "
      ]
     },
     "execution_count": 18,
     "metadata": {},
     "output_type": "execute_result"
    }
   ],
   "source": [
    "d5 = pd.DataFrame()\n",
    "d5 = pd.concat([d5,d3], axis = 0)\n",
    "d5"
   ]
  },
  {
   "cell_type": "markdown",
   "metadata": {},
   "source": [
    "# 한 페이지짜리 함수"
   ]
  },
  {
   "cell_type": "code",
   "execution_count": 23,
   "metadata": {
    "ExecuteTime": {
     "end_time": "2019-04-27T13:00:16.137504Z",
     "start_time": "2019-04-27T13:00:16.116205Z"
    }
   },
   "outputs": [],
   "source": [
    "def crawling_one_page(pageNo) :\n",
    "    pageNo = str(pageNo)\n",
    "    dr.get('https://music.bugs.co.kr/newest/album/kpoppicked?page='+pageNo)\n",
    "    \n",
    "    container = dr.find_element_by_id('container')\n",
    "    section = container.find_element_by_css_selector('section[class = \"sectionPadding\"]')\n",
    "    div  = section.find_element_by_css_selector('div')\n",
    "    lis = div.find_elements_by_css_selector('li')\n",
    "    \n",
    "    music_info = {}\n",
    "    d4 = pd.DataFrame()#final_dataframe\n",
    "    \n",
    "    for li in lis :\n",
    "        \n",
    "        #album title\n",
    "        fig = li.find_element_by_css_selector('figcaption')\n",
    "        a = fig.find_element_by_css_selector('a')\n",
    "        music_info['album_title'] = [a.get_attribute('title')]\n",
    "        \n",
    "        #click 앨범 정보 페이지로 이동\n",
    "        a.click()\n",
    "        \n",
    "        div = dr.find_element_by_class_name('basicInfo')\n",
    "        tbody = div.find_element_by_css_selector('tbody')\n",
    "        trs = tbody.find_elements_by_css_selector('tr')\n",
    "        \n",
    "        #artist는 link 걸려 있는 것도 있고, 아닌 것도 있고\n",
    "        try :\n",
    "            #link\n",
    "            a = trs[0].find_element_by_css_selector('a')\n",
    "            music_info['artist'] = a.text\n",
    "\n",
    "        except :\n",
    "            #not\n",
    "            td = trs[0].find_element_by_css_selector('td')\n",
    "            music_info['artist'] = td.text\n",
    "\n",
    "        columns = ['type','date','genre','style','agency','distributor','album_playtime']\n",
    "\n",
    "        for i in range(1,8) :\n",
    "            td = trs[i].find_element_by_css_selector('td')\n",
    "            music_info[columns[i-1]] = [td.text]\n",
    "\n",
    "        \n",
    "        #수록곡\n",
    "        section = dr.find_element_by_css_selector('section[class = \"sectionPadding contents track\"]')\n",
    "        music_info['n'] = [section.find_element_by_css_selector('p').text] #수록곡 개수\n",
    "        \n",
    "        table = section.find_element_by_css_selector('table')\n",
    "        tbd = table.find_element_by_css_selector('tbody')\n",
    "        trs = tbd.find_elements_by_css_selector('tr')\n",
    "        \n",
    "        music_list = []\n",
    "        for tr in trs :\n",
    "            ps = tr.find_elements_by_css_selector('p')\n",
    "\n",
    "            aa = []\n",
    "            #서비스를 지원하지 않는 곡들 처리\n",
    "            try :\n",
    "                tr.find_element_by_css_selector('input[disabled = \"disabled\"]')\n",
    "            except :\n",
    "\n",
    "                for p in ps :\n",
    "\n",
    "                    aa.append(p.text)\n",
    "\n",
    "                music_list.append(aa)\n",
    "                \n",
    "        d1 = pd.DataFrame(music_list,columns = ['title_song_or_not','title','artist','bugs_score'])\n",
    "        print(d1)\n",
    "        d2 = pd.DataFrame(music_info)\n",
    "        print(d2)\n",
    "        d2 = pd.DataFrame(np.repeat(np.array(d2),len(d1), axis = 0),\n",
    "                  columns = ['album_title','type','date','genre','style','agency','distributor','album_playtime','n'])\n",
    "\n",
    "        print(d2)\n",
    "        d3 = pd.concat([d1,d2], axis = 1)\n",
    "        print(d3)\n",
    "        d4 = pd.concat([d4,d3], axis = 0)\n",
    "        d4.to_csv('pageNo_'+pageNo+'.csv')"
   ]
  },
  {
   "cell_type": "code",
   "execution_count": 24,
   "metadata": {
    "ExecuteTime": {
     "end_time": "2019-04-27T13:00:22.239837Z",
     "start_time": "2019-04-27T13:00:17.307499Z"
    }
   },
   "outputs": [
    {
     "name": "stdout",
     "output_type": "stream",
     "text": [
      "  title_song_or_not title artist bugs_score\n",
      "0         1\\n[타이틀곡]  Miss    남소현     선호도 5점\n",
      "  album_title artist type        date         genre      style agency  \\\n",
      "0        Miss    남소현   싱글  2018.07.29  인디, 발라드/댄스/팝  발라드, 인디 팝  레이블 숲   \n",
      "\n",
      "  distributor album_playtime    n  \n",
      "0       NHN벅스          03:21  (1)  \n"
     ]
    },
    {
     "ename": "ValueError",
     "evalue": "Shape of passed values is (10, 1), indices imply (9, 1)",
     "output_type": "error",
     "traceback": [
      "\u001b[1;31m---------------------------------------------------------------------------\u001b[0m",
      "\u001b[1;31mValueError\u001b[0m                                Traceback (most recent call last)",
      "\u001b[1;32m~\\Anaconda3\\lib\\site-packages\\pandas\\core\\internals.py\u001b[0m in \u001b[0;36mcreate_block_manager_from_blocks\u001b[1;34m(blocks, axes)\u001b[0m\n\u001b[0;32m   4856\u001b[0m                 blocks = [make_block(values=blocks[0],\n\u001b[1;32m-> 4857\u001b[1;33m                                      placement=slice(0, len(axes[0])))]\n\u001b[0m\u001b[0;32m   4858\u001b[0m \u001b[1;33m\u001b[0m\u001b[0m\n",
      "\u001b[1;32m~\\Anaconda3\\lib\\site-packages\\pandas\\core\\internals.py\u001b[0m in \u001b[0;36mmake_block\u001b[1;34m(values, placement, klass, ndim, dtype, fastpath)\u001b[0m\n\u001b[0;32m   3204\u001b[0m \u001b[1;33m\u001b[0m\u001b[0m\n\u001b[1;32m-> 3205\u001b[1;33m     \u001b[1;32mreturn\u001b[0m \u001b[0mklass\u001b[0m\u001b[1;33m(\u001b[0m\u001b[0mvalues\u001b[0m\u001b[1;33m,\u001b[0m \u001b[0mndim\u001b[0m\u001b[1;33m=\u001b[0m\u001b[0mndim\u001b[0m\u001b[1;33m,\u001b[0m \u001b[0mplacement\u001b[0m\u001b[1;33m=\u001b[0m\u001b[0mplacement\u001b[0m\u001b[1;33m)\u001b[0m\u001b[1;33m\u001b[0m\u001b[1;33m\u001b[0m\u001b[0m\n\u001b[0m\u001b[0;32m   3206\u001b[0m \u001b[1;33m\u001b[0m\u001b[0m\n",
      "\u001b[1;32m~\\Anaconda3\\lib\\site-packages\\pandas\\core\\internals.py\u001b[0m in \u001b[0;36m__init__\u001b[1;34m(self, values, placement, ndim)\u001b[0m\n\u001b[0;32m   2302\u001b[0m         super(ObjectBlock, self).__init__(values, ndim=ndim,\n\u001b[1;32m-> 2303\u001b[1;33m                                           placement=placement)\n\u001b[0m\u001b[0;32m   2304\u001b[0m \u001b[1;33m\u001b[0m\u001b[0m\n",
      "\u001b[1;32m~\\Anaconda3\\lib\\site-packages\\pandas\\core\\internals.py\u001b[0m in \u001b[0;36m__init__\u001b[1;34m(self, values, placement, ndim)\u001b[0m\n\u001b[0;32m    124\u001b[0m                 \u001b[1;34m'Wrong number of items passed {val}, placement implies '\u001b[0m\u001b[1;33m\u001b[0m\u001b[1;33m\u001b[0m\u001b[0m\n\u001b[1;32m--> 125\u001b[1;33m                 '{mgr}'.format(val=len(self.values), mgr=len(self.mgr_locs)))\n\u001b[0m\u001b[0;32m    126\u001b[0m \u001b[1;33m\u001b[0m\u001b[0m\n",
      "\u001b[1;31mValueError\u001b[0m: Wrong number of items passed 10, placement implies 9",
      "\nDuring handling of the above exception, another exception occurred:\n",
      "\u001b[1;31mValueError\u001b[0m                                Traceback (most recent call last)",
      "\u001b[1;32m<ipython-input-24-55f7145d18b6>\u001b[0m in \u001b[0;36m<module>\u001b[1;34m\u001b[0m\n\u001b[1;32m----> 1\u001b[1;33m \u001b[0mcrawling_one_page\u001b[0m\u001b[1;33m(\u001b[0m\u001b[1;36m100\u001b[0m\u001b[1;33m)\u001b[0m\u001b[1;33m\u001b[0m\u001b[1;33m\u001b[0m\u001b[0m\n\u001b[0m",
      "\u001b[1;32m<ipython-input-23-42352786b2ed>\u001b[0m in \u001b[0;36mcrawling_one_page\u001b[1;34m(pageNo)\u001b[0m\n\u001b[0;32m     72\u001b[0m         \u001b[0mprint\u001b[0m\u001b[1;33m(\u001b[0m\u001b[0md2\u001b[0m\u001b[1;33m)\u001b[0m\u001b[1;33m\u001b[0m\u001b[1;33m\u001b[0m\u001b[0m\n\u001b[0;32m     73\u001b[0m         d2 = pd.DataFrame(np.repeat(np.array(d2),len(d1), axis = 0),\n\u001b[1;32m---> 74\u001b[1;33m                   columns = ['album_title','type','date','genre','style','agency','distributor','album_playtime','n'])\n\u001b[0m\u001b[0;32m     75\u001b[0m \u001b[1;33m\u001b[0m\u001b[0m\n\u001b[0;32m     76\u001b[0m         \u001b[0mprint\u001b[0m\u001b[1;33m(\u001b[0m\u001b[0md2\u001b[0m\u001b[1;33m)\u001b[0m\u001b[1;33m\u001b[0m\u001b[1;33m\u001b[0m\u001b[0m\n",
      "\u001b[1;32m~\\Anaconda3\\lib\\site-packages\\pandas\\core\\frame.py\u001b[0m in \u001b[0;36m__init__\u001b[1;34m(self, data, index, columns, dtype, copy)\u001b[0m\n\u001b[0;32m    377\u001b[0m             \u001b[1;32melse\u001b[0m\u001b[1;33m:\u001b[0m\u001b[1;33m\u001b[0m\u001b[1;33m\u001b[0m\u001b[0m\n\u001b[0;32m    378\u001b[0m                 mgr = self._init_ndarray(data, index, columns, dtype=dtype,\n\u001b[1;32m--> 379\u001b[1;33m                                          copy=copy)\n\u001b[0m\u001b[0;32m    380\u001b[0m         \u001b[1;32melif\u001b[0m \u001b[0misinstance\u001b[0m\u001b[1;33m(\u001b[0m\u001b[0mdata\u001b[0m\u001b[1;33m,\u001b[0m \u001b[1;33m(\u001b[0m\u001b[0mlist\u001b[0m\u001b[1;33m,\u001b[0m \u001b[0mtypes\u001b[0m\u001b[1;33m.\u001b[0m\u001b[0mGeneratorType\u001b[0m\u001b[1;33m)\u001b[0m\u001b[1;33m)\u001b[0m\u001b[1;33m:\u001b[0m\u001b[1;33m\u001b[0m\u001b[1;33m\u001b[0m\u001b[0m\n\u001b[0;32m    381\u001b[0m             \u001b[1;32mif\u001b[0m \u001b[0misinstance\u001b[0m\u001b[1;33m(\u001b[0m\u001b[0mdata\u001b[0m\u001b[1;33m,\u001b[0m \u001b[0mtypes\u001b[0m\u001b[1;33m.\u001b[0m\u001b[0mGeneratorType\u001b[0m\u001b[1;33m)\u001b[0m\u001b[1;33m:\u001b[0m\u001b[1;33m\u001b[0m\u001b[1;33m\u001b[0m\u001b[0m\n",
      "\u001b[1;32m~\\Anaconda3\\lib\\site-packages\\pandas\\core\\frame.py\u001b[0m in \u001b[0;36m_init_ndarray\u001b[1;34m(self, values, index, columns, dtype, copy)\u001b[0m\n\u001b[0;32m    534\u001b[0m             \u001b[0mvalues\u001b[0m \u001b[1;33m=\u001b[0m \u001b[0mmaybe_infer_to_datetimelike\u001b[0m\u001b[1;33m(\u001b[0m\u001b[0mvalues\u001b[0m\u001b[1;33m)\u001b[0m\u001b[1;33m\u001b[0m\u001b[1;33m\u001b[0m\u001b[0m\n\u001b[0;32m    535\u001b[0m \u001b[1;33m\u001b[0m\u001b[0m\n\u001b[1;32m--> 536\u001b[1;33m         \u001b[1;32mreturn\u001b[0m \u001b[0mcreate_block_manager_from_blocks\u001b[0m\u001b[1;33m(\u001b[0m\u001b[1;33m[\u001b[0m\u001b[0mvalues\u001b[0m\u001b[1;33m]\u001b[0m\u001b[1;33m,\u001b[0m \u001b[1;33m[\u001b[0m\u001b[0mcolumns\u001b[0m\u001b[1;33m,\u001b[0m \u001b[0mindex\u001b[0m\u001b[1;33m]\u001b[0m\u001b[1;33m)\u001b[0m\u001b[1;33m\u001b[0m\u001b[1;33m\u001b[0m\u001b[0m\n\u001b[0m\u001b[0;32m    537\u001b[0m \u001b[1;33m\u001b[0m\u001b[0m\n\u001b[0;32m    538\u001b[0m     \u001b[1;33m@\u001b[0m\u001b[0mproperty\u001b[0m\u001b[1;33m\u001b[0m\u001b[1;33m\u001b[0m\u001b[0m\n",
      "\u001b[1;32m~\\Anaconda3\\lib\\site-packages\\pandas\\core\\internals.py\u001b[0m in \u001b[0;36mcreate_block_manager_from_blocks\u001b[1;34m(blocks, axes)\u001b[0m\n\u001b[0;32m   4864\u001b[0m         \u001b[0mblocks\u001b[0m \u001b[1;33m=\u001b[0m \u001b[1;33m[\u001b[0m\u001b[0mgetattr\u001b[0m\u001b[1;33m(\u001b[0m\u001b[0mb\u001b[0m\u001b[1;33m,\u001b[0m \u001b[1;34m'values'\u001b[0m\u001b[1;33m,\u001b[0m \u001b[0mb\u001b[0m\u001b[1;33m)\u001b[0m \u001b[1;32mfor\u001b[0m \u001b[0mb\u001b[0m \u001b[1;32min\u001b[0m \u001b[0mblocks\u001b[0m\u001b[1;33m]\u001b[0m\u001b[1;33m\u001b[0m\u001b[1;33m\u001b[0m\u001b[0m\n\u001b[0;32m   4865\u001b[0m         \u001b[0mtot_items\u001b[0m \u001b[1;33m=\u001b[0m \u001b[0msum\u001b[0m\u001b[1;33m(\u001b[0m\u001b[0mb\u001b[0m\u001b[1;33m.\u001b[0m\u001b[0mshape\u001b[0m\u001b[1;33m[\u001b[0m\u001b[1;36m0\u001b[0m\u001b[1;33m]\u001b[0m \u001b[1;32mfor\u001b[0m \u001b[0mb\u001b[0m \u001b[1;32min\u001b[0m \u001b[0mblocks\u001b[0m\u001b[1;33m)\u001b[0m\u001b[1;33m\u001b[0m\u001b[1;33m\u001b[0m\u001b[0m\n\u001b[1;32m-> 4866\u001b[1;33m         \u001b[0mconstruction_error\u001b[0m\u001b[1;33m(\u001b[0m\u001b[0mtot_items\u001b[0m\u001b[1;33m,\u001b[0m \u001b[0mblocks\u001b[0m\u001b[1;33m[\u001b[0m\u001b[1;36m0\u001b[0m\u001b[1;33m]\u001b[0m\u001b[1;33m.\u001b[0m\u001b[0mshape\u001b[0m\u001b[1;33m[\u001b[0m\u001b[1;36m1\u001b[0m\u001b[1;33m:\u001b[0m\u001b[1;33m]\u001b[0m\u001b[1;33m,\u001b[0m \u001b[0maxes\u001b[0m\u001b[1;33m,\u001b[0m \u001b[0me\u001b[0m\u001b[1;33m)\u001b[0m\u001b[1;33m\u001b[0m\u001b[1;33m\u001b[0m\u001b[0m\n\u001b[0m\u001b[0;32m   4867\u001b[0m \u001b[1;33m\u001b[0m\u001b[0m\n\u001b[0;32m   4868\u001b[0m \u001b[1;33m\u001b[0m\u001b[0m\n",
      "\u001b[1;32m~\\Anaconda3\\lib\\site-packages\\pandas\\core\\internals.py\u001b[0m in \u001b[0;36mconstruction_error\u001b[1;34m(tot_items, block_shape, axes, e)\u001b[0m\n\u001b[0;32m   4841\u001b[0m         \u001b[1;32mraise\u001b[0m \u001b[0mValueError\u001b[0m\u001b[1;33m(\u001b[0m\u001b[1;34m\"Empty data passed with indices specified.\"\u001b[0m\u001b[1;33m)\u001b[0m\u001b[1;33m\u001b[0m\u001b[1;33m\u001b[0m\u001b[0m\n\u001b[0;32m   4842\u001b[0m     raise ValueError(\"Shape of passed values is {0}, indices imply {1}\".format(\n\u001b[1;32m-> 4843\u001b[1;33m         passed, implied))\n\u001b[0m\u001b[0;32m   4844\u001b[0m \u001b[1;33m\u001b[0m\u001b[0m\n\u001b[0;32m   4845\u001b[0m \u001b[1;33m\u001b[0m\u001b[0m\n",
      "\u001b[1;31mValueError\u001b[0m: Shape of passed values is (10, 1), indices imply (9, 1)"
     ]
    }
   ],
   "source": [
    "crawling_one_page(100)"
   ]
  }
 ],
 "metadata": {
  "hide_input": false,
  "kernelspec": {
   "display_name": "Python 3",
   "language": "python",
   "name": "python3"
  },
  "language_info": {
   "codemirror_mode": {
    "name": "ipython",
    "version": 3
   },
   "file_extension": ".py",
   "mimetype": "text/x-python",
   "name": "python",
   "nbconvert_exporter": "python",
   "pygments_lexer": "ipython3",
   "version": "3.7.1"
  },
  "toc": {
   "base_numbering": 1,
   "nav_menu": {},
   "number_sections": true,
   "sideBar": true,
   "skip_h1_title": false,
   "title_cell": "Table of Contents",
   "title_sidebar": "Contents",
   "toc_cell": false,
   "toc_position": {},
   "toc_section_display": true,
   "toc_window_display": true
  }
 },
 "nbformat": 4,
 "nbformat_minor": 2
}
