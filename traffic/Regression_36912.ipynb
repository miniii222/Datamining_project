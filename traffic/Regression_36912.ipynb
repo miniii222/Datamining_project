{
 "cells": [
  {
   "cell_type": "code",
   "execution_count": 1,
   "metadata": {},
   "outputs": [
    {
     "name": "stdout",
     "output_type": "stream",
     "text": [
      "Index(['date', 'days', 'road_name', 'link_id', 'start_point', 'end_point',\n",
      "       'direction', 'road_length', 'road_num', 'road_type', 'urban_suburb',\n",
      "       'district', 'time', 'value', 'temperature', 'wind', 'rain', 'snow',\n",
      "       'SO2', 'CO', 'O3', 'NO2', 'PM10', 'PM2.5', 'cctv', 'kids',\n",
      "       'speed_limit', 'entrance', 'signal', 'special', 'vacation'],\n",
      "      dtype='object')\n"
     ]
    }
   ],
   "source": [
    "import glob\n",
    "import numpy as np\n",
    "import pandas as pd\n",
    "from sklearn.model_selection import train_test_split\n",
    "from sklearn.metrics import mean_squared_error , r2_score\n",
    "\n",
    "car = pd.read_csv(\"car_speed_36912.csv\")\n",
    "print(car.columns)"
   ]
  },
  {
   "cell_type": "code",
   "execution_count": 5,
   "metadata": {},
   "outputs": [
    {
     "name": "stdout",
     "output_type": "stream",
     "text": [
      "<class 'pandas.core.frame.DataFrame'>\n",
      "RangeIndex: 4089876 entries, 0 to 4089875\n",
      "Data columns (total 31 columns):\n",
      "date            int64\n",
      "days            object\n",
      "road_name       object\n",
      "link_id         int64\n",
      "start_point     object\n",
      "end_point       object\n",
      "direction       object\n",
      "road_length     int64\n",
      "road_num        float64\n",
      "road_type       object\n",
      "urban_suburb    object\n",
      "district        object\n",
      "time            int64\n",
      "value           float64\n",
      "temperature     float64\n",
      "wind            float64\n",
      "rain            float64\n",
      "snow            float64\n",
      "SO2             float64\n",
      "CO              float64\n",
      "O3              float64\n",
      "NO2             float64\n",
      "PM10            float64\n",
      "PM2.5           float64\n",
      "cctv            float64\n",
      "kids            float64\n",
      "speed_limit     float64\n",
      "entrance        float64\n",
      "signal          float64\n",
      "special         int64\n",
      "vacation        int64\n",
      "dtypes: float64(17), int64(6), object(8)\n",
      "memory usage: 967.3+ MB\n"
     ]
    },
    {
     "data": {
      "text/plain": [
       "False"
      ]
     },
     "execution_count": 5,
     "metadata": {},
     "output_type": "execute_result"
    }
   ],
   "source": [
    "car.info()"
   ]
  },
  {
   "cell_type": "code",
   "execution_count": 7,
   "metadata": {},
   "outputs": [
    {
     "name": "stdout",
     "output_type": "stream",
     "text": [
      "(4089876, 31)\n"
     ]
    },
    {
     "data": {
      "text/html": [
       "<div>\n",
       "<style scoped>\n",
       "    .dataframe tbody tr th:only-of-type {\n",
       "        vertical-align: middle;\n",
       "    }\n",
       "\n",
       "    .dataframe tbody tr th {\n",
       "        vertical-align: top;\n",
       "    }\n",
       "\n",
       "    .dataframe thead th {\n",
       "        text-align: right;\n",
       "    }\n",
       "</style>\n",
       "<table border=\"1\" class=\"dataframe\">\n",
       "  <thead>\n",
       "    <tr style=\"text-align: right;\">\n",
       "      <th></th>\n",
       "      <th>date</th>\n",
       "      <th>days</th>\n",
       "      <th>road_name</th>\n",
       "      <th>link_id</th>\n",
       "      <th>start_point</th>\n",
       "      <th>end_point</th>\n",
       "      <th>direction</th>\n",
       "      <th>road_length</th>\n",
       "      <th>road_num</th>\n",
       "      <th>road_type</th>\n",
       "      <th>...</th>\n",
       "      <th>NO2</th>\n",
       "      <th>PM10</th>\n",
       "      <th>PM2.5</th>\n",
       "      <th>cctv</th>\n",
       "      <th>kids</th>\n",
       "      <th>speed_limit</th>\n",
       "      <th>entrance</th>\n",
       "      <th>signal</th>\n",
       "      <th>special</th>\n",
       "      <th>vacation</th>\n",
       "    </tr>\n",
       "  </thead>\n",
       "  <tbody>\n",
       "    <tr>\n",
       "      <th>0</th>\n",
       "      <td>20180313</td>\n",
       "      <td>6</td>\n",
       "      <td>4.19로</td>\n",
       "      <td>1080012200</td>\n",
       "      <td>아카데미하우스</td>\n",
       "      <td>국립4.19묘지</td>\n",
       "      <td>0</td>\n",
       "      <td>1179</td>\n",
       "      <td>1.0</td>\n",
       "      <td>2</td>\n",
       "      <td>...</td>\n",
       "      <td>0.072</td>\n",
       "      <td>108.0</td>\n",
       "      <td>69.0</td>\n",
       "      <td>0.0</td>\n",
       "      <td>0.0</td>\n",
       "      <td>40.0</td>\n",
       "      <td>25.0</td>\n",
       "      <td>8.0</td>\n",
       "      <td>0</td>\n",
       "      <td>0</td>\n",
       "    </tr>\n",
       "    <tr>\n",
       "      <th>1</th>\n",
       "      <td>20180313</td>\n",
       "      <td>6</td>\n",
       "      <td>4.19로</td>\n",
       "      <td>1080012200</td>\n",
       "      <td>아카데미하우스</td>\n",
       "      <td>국립4.19묘지</td>\n",
       "      <td>0</td>\n",
       "      <td>1179</td>\n",
       "      <td>1.0</td>\n",
       "      <td>2</td>\n",
       "      <td>...</td>\n",
       "      <td>0.070</td>\n",
       "      <td>111.0</td>\n",
       "      <td>66.0</td>\n",
       "      <td>0.0</td>\n",
       "      <td>0.0</td>\n",
       "      <td>40.0</td>\n",
       "      <td>25.0</td>\n",
       "      <td>8.0</td>\n",
       "      <td>0</td>\n",
       "      <td>0</td>\n",
       "    </tr>\n",
       "    <tr>\n",
       "      <th>2</th>\n",
       "      <td>20180313</td>\n",
       "      <td>6</td>\n",
       "      <td>4.19로</td>\n",
       "      <td>1080012200</td>\n",
       "      <td>아카데미하우스</td>\n",
       "      <td>국립4.19묘지</td>\n",
       "      <td>0</td>\n",
       "      <td>1179</td>\n",
       "      <td>1.0</td>\n",
       "      <td>2</td>\n",
       "      <td>...</td>\n",
       "      <td>0.056</td>\n",
       "      <td>79.0</td>\n",
       "      <td>50.0</td>\n",
       "      <td>0.0</td>\n",
       "      <td>0.0</td>\n",
       "      <td>40.0</td>\n",
       "      <td>25.0</td>\n",
       "      <td>8.0</td>\n",
       "      <td>0</td>\n",
       "      <td>0</td>\n",
       "    </tr>\n",
       "    <tr>\n",
       "      <th>3</th>\n",
       "      <td>20180313</td>\n",
       "      <td>6</td>\n",
       "      <td>4.19로</td>\n",
       "      <td>1080012200</td>\n",
       "      <td>아카데미하우스</td>\n",
       "      <td>국립4.19묘지</td>\n",
       "      <td>0</td>\n",
       "      <td>1179</td>\n",
       "      <td>1.0</td>\n",
       "      <td>2</td>\n",
       "      <td>...</td>\n",
       "      <td>0.065</td>\n",
       "      <td>82.0</td>\n",
       "      <td>49.0</td>\n",
       "      <td>0.0</td>\n",
       "      <td>0.0</td>\n",
       "      <td>40.0</td>\n",
       "      <td>25.0</td>\n",
       "      <td>8.0</td>\n",
       "      <td>0</td>\n",
       "      <td>0</td>\n",
       "    </tr>\n",
       "    <tr>\n",
       "      <th>4</th>\n",
       "      <td>20180313</td>\n",
       "      <td>6</td>\n",
       "      <td>4.19로</td>\n",
       "      <td>1080012200</td>\n",
       "      <td>아카데미하우스</td>\n",
       "      <td>국립4.19묘지</td>\n",
       "      <td>0</td>\n",
       "      <td>1179</td>\n",
       "      <td>1.0</td>\n",
       "      <td>2</td>\n",
       "      <td>...</td>\n",
       "      <td>0.024</td>\n",
       "      <td>33.0</td>\n",
       "      <td>15.0</td>\n",
       "      <td>0.0</td>\n",
       "      <td>0.0</td>\n",
       "      <td>40.0</td>\n",
       "      <td>25.0</td>\n",
       "      <td>8.0</td>\n",
       "      <td>0</td>\n",
       "      <td>0</td>\n",
       "    </tr>\n",
       "  </tbody>\n",
       "</table>\n",
       "<p>5 rows × 31 columns</p>\n",
       "</div>"
      ],
      "text/plain": [
       "       date  days road_name     link_id start_point end_point  direction  \\\n",
       "0  20180313     6     4.19로  1080012200     아카데미하우스  국립4.19묘지          0   \n",
       "1  20180313     6     4.19로  1080012200     아카데미하우스  국립4.19묘지          0   \n",
       "2  20180313     6     4.19로  1080012200     아카데미하우스  국립4.19묘지          0   \n",
       "3  20180313     6     4.19로  1080012200     아카데미하우스  국립4.19묘지          0   \n",
       "4  20180313     6     4.19로  1080012200     아카데미하우스  국립4.19묘지          0   \n",
       "\n",
       "   road_length  road_num  road_type  ...    NO2   PM10  PM2.5  cctv  kids  \\\n",
       "0         1179       1.0          2  ...  0.072  108.0   69.0   0.0   0.0   \n",
       "1         1179       1.0          2  ...  0.070  111.0   66.0   0.0   0.0   \n",
       "2         1179       1.0          2  ...  0.056   79.0   50.0   0.0   0.0   \n",
       "3         1179       1.0          2  ...  0.065   82.0   49.0   0.0   0.0   \n",
       "4         1179       1.0          2  ...  0.024   33.0   15.0   0.0   0.0   \n",
       "\n",
       "   speed_limit  entrance  signal  special  vacation  \n",
       "0         40.0      25.0     8.0        0         0  \n",
       "1         40.0      25.0     8.0        0         0  \n",
       "2         40.0      25.0     8.0        0         0  \n",
       "3         40.0      25.0     8.0        0         0  \n",
       "4         40.0      25.0     8.0        0         0  \n",
       "\n",
       "[5 rows x 31 columns]"
      ]
     },
     "execution_count": 7,
     "metadata": {},
     "output_type": "execute_result"
    }
   ],
   "source": [
    "from sklearn.preprocessing import LabelEncoder\n",
    "\n",
    "lb_make = LabelEncoder()\n",
    "car[\"days\"] = lb_make.fit_transform(car[\"days\"])\n",
    "car[\"direction\"] = lb_make.fit_transform(car[\"direction\"])\n",
    "car[\"road_type\"] = lb_make.fit_transform(car[\"road_type\"])\n",
    "car[\"urban_suburb\"] = lb_make.fit_transform(car[\"urban_suburb\"])\n",
    "car[\"district\"] = lb_make.fit_transform(car[\"district\"])\n",
    "car[\"time\"] = lb_make.fit_transform(car[\"time\"])\n",
    "\n",
    "print(car.shape)\n",
    "car.head()"
   ]
  },
  {
   "cell_type": "code",
   "execution_count": 32,
   "metadata": {},
   "outputs": [],
   "source": [
    "X_data = car.drop(['date','road_name','link_id','value','start_point','end_point'],axis=1,inplace=False)\n",
    "y_target = car['value']\n",
    "X_train , X_test , y_train , y_test = train_test_split(X_data , y_target ,test_size=0.3, random_state=156)"
   ]
  },
  {
   "cell_type": "code",
   "execution_count": 14,
   "metadata": {},
   "outputs": [
    {
     "data": {
      "text/plain": [
       "(2862913, 43)"
      ]
     },
     "execution_count": 14,
     "metadata": {},
     "output_type": "execute_result"
    }
   ],
   "source": [
    "X_train.shape"
   ]
  },
  {
   "cell_type": "code",
   "execution_count": 9,
   "metadata": {},
   "outputs": [],
   "source": [
    "def get_model_predict(model, X_train, X_test, y_train, y_test, is_expm1=False):\n",
    "    model.fit(X_train, y_train)\n",
    "    pred = model.predict(X_test)\n",
    "    if is_expm1 :\n",
    "        y_test = np.expm1(y_test)\n",
    "        pred = np.expm1(pred)\n",
    "    mse = mean_squared_error(y_test, pred)    \n",
    "    r2 = r2_score(y_test, pred)   \n",
    "    \n",
    "    print('###',model.__class__.__name__,'###')\n",
    "    print('MSE: {0:.3f}, R2: {1:.3F}'.format(mse, r2*100))"
   ]
  },
  {
   "cell_type": "code",
   "execution_count": 33,
   "metadata": {},
   "outputs": [
    {
     "name": "stdout",
     "output_type": "stream",
     "text": [
      "### LinearRegression ###\n",
      "MSE: 117.622, R2: 28.801\n"
     ]
    }
   ],
   "source": [
    "from sklearn.linear_model import LinearRegression\n",
    "lr = LinearRegression(n_jobs=-1)\n",
    "get_model_predict(lr,X_train, X_test, y_train, y_test) # 날씨만 merge했을 때 - MSE: 132.951, R2: 17.872"
   ]
  },
  {
   "cell_type": "code",
   "execution_count": 46,
   "metadata": {},
   "outputs": [
    {
     "name": "stdout",
     "output_type": "stream",
     "text": [
      "### LinearRegression ###\n",
      "MSE: 85.439, R2: 48.282\n"
     ]
    }
   ],
   "source": [
    "X_data_ohe = pd.get_dummies(X_data, columns=['days','time','urban_suburb','road_type','direction'])\n",
    "X_train , X_test , y_train , y_test = train_test_split(X_data_ohe, y_target, test_size=0.3, random_state=156)\n",
    "\n",
    "lr = LinearRegression(n_jobs=-1)\n",
    "get_model_predict(lr,X_train, X_test, y_train, y_test)"
   ]
  },
  {
   "cell_type": "code",
   "execution_count": 47,
   "metadata": {},
   "outputs": [
    {
     "name": "stdout",
     "output_type": "stream",
     "text": [
      "### Ridge ###\n",
      "MSE: 85.439, R2: 48.282\n",
      "### Lasso ###\n",
      "MSE: 131.043, R2: 20.677\n"
     ]
    }
   ],
   "source": [
    "from sklearn.linear_model import LinearRegression, Ridge, Lasso\n",
    "ridge = Ridge()\n",
    "lasso = Lasso()\n",
    "get_model_predict(ridge,X_train, X_test, y_train, y_test)\n",
    "get_model_predict(lasso,X_train, X_test, y_train, y_test)"
   ]
  },
  {
   "cell_type": "code",
   "execution_count": 30,
   "metadata": {},
   "outputs": [
    {
     "data": {
      "text/html": [
       "<div>\n",
       "<style scoped>\n",
       "    .dataframe tbody tr th:only-of-type {\n",
       "        vertical-align: middle;\n",
       "    }\n",
       "\n",
       "    .dataframe tbody tr th {\n",
       "        vertical-align: top;\n",
       "    }\n",
       "\n",
       "    .dataframe thead th {\n",
       "        text-align: right;\n",
       "    }\n",
       "</style>\n",
       "<table border=\"1\" class=\"dataframe\">\n",
       "  <thead>\n",
       "    <tr style=\"text-align: right;\">\n",
       "      <th></th>\n",
       "      <th>X</th>\n",
       "      <th>coef</th>\n",
       "    </tr>\n",
       "  </thead>\n",
       "  <tbody>\n",
       "    <tr>\n",
       "      <th>7</th>\n",
       "      <td>SO2</td>\n",
       "      <td>81.395785</td>\n",
       "    </tr>\n",
       "    <tr>\n",
       "      <th>36</th>\n",
       "      <td>road_type_1</td>\n",
       "      <td>21.081082</td>\n",
       "    </tr>\n",
       "    <tr>\n",
       "      <th>25</th>\n",
       "      <td>time_0</td>\n",
       "      <td>7.094389</td>\n",
       "    </tr>\n",
       "    <tr>\n",
       "      <th>26</th>\n",
       "      <td>time_1</td>\n",
       "      <td>4.993473</td>\n",
       "    </tr>\n",
       "    <tr>\n",
       "      <th>22</th>\n",
       "      <td>days_4</td>\n",
       "      <td>3.184626</td>\n",
       "    </tr>\n",
       "  </tbody>\n",
       "</table>\n",
       "</div>"
      ],
      "text/plain": [
       "              X       coef\n",
       "7           SO2  81.395785\n",
       "36  road_type_1  21.081082\n",
       "25       time_0   7.094389\n",
       "26       time_1   4.993473\n",
       "22       days_4   3.184626"
      ]
     },
     "execution_count": 30,
     "metadata": {},
     "output_type": "execute_result"
    }
   ],
   "source": [
    "pd.DataFrame({'X':X_train.columns,'coef':lr.coef_}).sort_values('coef',ascending=False).head(5)"
   ]
  },
  {
   "cell_type": "markdown",
   "metadata": {},
   "source": [
    "## log 취했을 때"
   ]
  },
  {
   "cell_type": "code",
   "execution_count": 48,
   "metadata": {},
   "outputs": [
    {
     "name": "stdout",
     "output_type": "stream",
     "text": [
      "### LinearRegression ###\n",
      "MSE: 120.431, R2: 27.101\n"
     ]
    }
   ],
   "source": [
    "y_target_log = np.log1p(y_target)\n",
    "X_train , X_test , y_train , y_test = train_test_split(X_data , y_target_log ,test_size=0.3, random_state=156)\n",
    "\n",
    "lr = LinearRegression(n_jobs=-1)\n",
    "get_model_predict(lr,X_train, X_test, y_train, y_test,is_expm1=True)"
   ]
  },
  {
   "cell_type": "code",
   "execution_count": 49,
   "metadata": {},
   "outputs": [
    {
     "name": "stdout",
     "output_type": "stream",
     "text": [
      "### LinearRegression ###\n",
      "MSE: 85.439, R2: 48.282\n"
     ]
    }
   ],
   "source": [
    "X_train , X_test , y_train , y_test = train_test_split(X_data_ohe , y_target,test_size=0.3, random_state=156)\n",
    "\n",
    "lr = LinearRegression(n_jobs=-1)\n",
    "get_model_predict(lr,X_train, X_test, y_train, y_test) # 날씨만 merge했을 때 - MSE: 82.157, R2: 49.250"
   ]
  },
  {
   "cell_type": "code",
   "execution_count": null,
   "metadata": {},
   "outputs": [],
   "source": []
  }
 ],
 "metadata": {
  "kernelspec": {
   "display_name": "Python 3",
   "language": "python",
   "name": "python3"
  },
  "language_info": {
   "codemirror_mode": {
    "name": "ipython",
    "version": 3
   },
   "file_extension": ".py",
   "mimetype": "text/x-python",
   "name": "python",
   "nbconvert_exporter": "python",
   "pygments_lexer": "ipython3",
   "version": "3.5.2"
  }
 },
 "nbformat": 4,
 "nbformat_minor": 2
}
