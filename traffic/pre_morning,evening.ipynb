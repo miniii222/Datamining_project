{
 "cells": [
  {
   "cell_type": "code",
   "execution_count": 4,
   "metadata": {
    "ExecuteTime": {
     "end_time": "2019-06-05T05:17:21.625141Z",
     "start_time": "2019-06-05T05:17:21.617827Z"
    }
   },
   "outputs": [
    {
     "data": {
      "text/plain": [
       "['carspeed.csv',\n",
       " 'car_speed_36912.csv',\n",
       " 'evening_test.csv',\n",
       " 'evening_train.csv',\n",
       " 'morning_test.csv',\n",
       " 'morning_train.csv']"
      ]
     },
     "execution_count": 4,
     "metadata": {},
     "output_type": "execute_result"
    }
   ],
   "source": [
    "import pandas as pd\n",
    "import os\n",
    "os.listdir('../data/final')"
   ]
  },
  {
   "cell_type": "code",
   "execution_count": 2,
   "metadata": {
    "ExecuteTime": {
     "end_time": "2019-06-05T05:08:46.993663Z",
     "start_time": "2019-06-05T05:03:33.985783Z"
    }
   },
   "outputs": [
    {
     "data": {
      "text/plain": [
       "(7025495, 39)"
      ]
     },
     "execution_count": 2,
     "metadata": {},
     "output_type": "execute_result"
    }
   ],
   "source": [
    "carspeed = pd.read_csv('../data/final/carspeed.csv')\n",
    "carspeed.shape"
   ]
  },
  {
   "cell_type": "code",
   "execution_count": 3,
   "metadata": {
    "ExecuteTime": {
     "end_time": "2019-06-05T05:08:50.361084Z",
     "start_time": "2019-06-05T05:08:46.998449Z"
    }
   },
   "outputs": [
    {
     "data": {
      "text/plain": [
       "(5864850, 39)"
      ]
     },
     "execution_count": 3,
     "metadata": {},
     "output_type": "execute_result"
    }
   ],
   "source": [
    "carspeed = carspeed[~carspeed.days.isin(['토', '일'])]\n",
    "carspeed.shape"
   ]
  },
  {
   "cell_type": "code",
   "execution_count": 5,
   "metadata": {
    "ExecuteTime": {
     "end_time": "2019-06-05T05:19:59.314379Z",
     "start_time": "2019-06-05T05:17:31.403921Z"
    }
   },
   "outputs": [
    {
     "data": {
      "text/plain": [
       "(4089876, 31)"
      ]
     },
     "execution_count": 5,
     "metadata": {},
     "output_type": "execute_result"
    }
   ],
   "source": [
    "carspeed2 = pd.read_csv('../data/final/car_speed_36912.csv')\n",
    "carspeed2.shape"
   ]
  },
  {
   "cell_type": "markdown",
   "metadata": {},
   "source": [
    "# common link"
   ]
  },
  {
   "cell_type": "code",
   "execution_count": 6,
   "metadata": {
    "ExecuteTime": {
     "end_time": "2019-06-05T05:20:02.858987Z",
     "start_time": "2019-06-05T05:20:01.170368Z"
    }
   },
   "outputs": [
    {
     "data": {
      "text/plain": [
       "4527"
      ]
     },
     "execution_count": 6,
     "metadata": {},
     "output_type": "execute_result"
    }
   ],
   "source": [
    "common_link = set(carspeed.link_id).intersection(set(carspeed2.link_id))\n",
    "len(common_link)"
   ]
  },
  {
   "cell_type": "code",
   "execution_count": 7,
   "metadata": {
    "ExecuteTime": {
     "end_time": "2019-06-05T05:20:26.696804Z",
     "start_time": "2019-06-05T05:20:20.285213Z"
    }
   },
   "outputs": [
    {
     "name": "stdout",
     "output_type": "stream",
     "text": [
      "shape 1 :  (5864850, 39)\n",
      "shape 2 :  (3997528, 31)\n"
     ]
    }
   ],
   "source": [
    "carspeed = carspeed[carspeed.link_id.isin(common_link)]\n",
    "carspeed2 = carspeed2[carspeed2.link_id.isin(common_link)]\n",
    "\n",
    "print('shape 1 : ', carspeed.shape)\n",
    "print('shape 2 : ', carspeed2.shape)"
   ]
  },
  {
   "cell_type": "markdown",
   "metadata": {},
   "source": [
    "# intersection"
   ]
  },
  {
   "cell_type": "code",
   "execution_count": 9,
   "metadata": {
    "ExecuteTime": {
     "end_time": "2019-06-05T05:21:40.017264Z",
     "start_time": "2019-06-05T05:21:39.986293Z"
    }
   },
   "outputs": [
    {
     "data": {
      "text/html": [
       "<div>\n",
       "<style scoped>\n",
       "    .dataframe tbody tr th:only-of-type {\n",
       "        vertical-align: middle;\n",
       "    }\n",
       "\n",
       "    .dataframe tbody tr th {\n",
       "        vertical-align: top;\n",
       "    }\n",
       "\n",
       "    .dataframe thead th {\n",
       "        text-align: right;\n",
       "    }\n",
       "</style>\n",
       "<table border=\"1\" class=\"dataframe\">\n",
       "  <thead>\n",
       "    <tr style=\"text-align: right;\">\n",
       "      <th></th>\n",
       "      <th>road_name</th>\n",
       "      <th>direction</th>\n",
       "      <th>inter_num</th>\n",
       "    </tr>\n",
       "  </thead>\n",
       "  <tbody>\n",
       "    <tr>\n",
       "      <th>0</th>\n",
       "      <td>4.19로</td>\n",
       "      <td>상행</td>\n",
       "      <td>2.0</td>\n",
       "    </tr>\n",
       "    <tr>\n",
       "      <th>1</th>\n",
       "      <td>가락로</td>\n",
       "      <td>상행</td>\n",
       "      <td>4.0</td>\n",
       "    </tr>\n",
       "    <tr>\n",
       "      <th>2</th>\n",
       "      <td>가로공원로</td>\n",
       "      <td>상행</td>\n",
       "      <td>4.0</td>\n",
       "    </tr>\n",
       "    <tr>\n",
       "      <th>3</th>\n",
       "      <td>가로공원로76길</td>\n",
       "      <td>상행</td>\n",
       "      <td>1.0</td>\n",
       "    </tr>\n",
       "    <tr>\n",
       "      <th>4</th>\n",
       "      <td>가마산로</td>\n",
       "      <td>상행</td>\n",
       "      <td>10.0</td>\n",
       "    </tr>\n",
       "  </tbody>\n",
       "</table>\n",
       "</div>"
      ],
      "text/plain": [
       "  road_name direction  inter_num\n",
       "0     4.19로        상행        2.0\n",
       "1       가락로        상행        4.0\n",
       "2     가로공원로        상행        4.0\n",
       "3  가로공원로76길        상행        1.0\n",
       "4      가마산로        상행       10.0"
      ]
     },
     "execution_count": 9,
     "metadata": {},
     "output_type": "execute_result"
    }
   ],
   "source": [
    "intersection = pd.read_csv('../data/intersection.csv')\n",
    "intersection = intersection.melt(id_vars = '도로명')\n",
    "intersection.columns = ['road_name','direction','inter_num']\n",
    "intersection.head()"
   ]
  },
  {
   "cell_type": "code",
   "execution_count": 12,
   "metadata": {
    "ExecuteTime": {
     "end_time": "2019-06-05T05:23:38.387824Z",
     "start_time": "2019-06-05T05:23:30.662410Z"
    }
   },
   "outputs": [
    {
     "data": {
      "text/plain": [
       "(3997528, 32)"
      ]
     },
     "execution_count": 12,
     "metadata": {},
     "output_type": "execute_result"
    }
   ],
   "source": [
    "carspeed2 = pd.merge(carspeed2, intersection, how = 'left', left_on = ['road_name','direction'], right_on = ['road_name','direction'])\n",
    "carspeed2.shape"
   ]
  },
  {
   "cell_type": "markdown",
   "metadata": {},
   "source": [
    "# accident new"
   ]
  },
  {
   "cell_type": "code",
   "execution_count": 13,
   "metadata": {
    "ExecuteTime": {
     "end_time": "2019-06-05T05:25:06.961154Z",
     "start_time": "2019-06-05T05:25:06.922335Z"
    }
   },
   "outputs": [
    {
     "data": {
      "text/html": [
       "<div>\n",
       "<style scoped>\n",
       "    .dataframe tbody tr th:only-of-type {\n",
       "        vertical-align: middle;\n",
       "    }\n",
       "\n",
       "    .dataframe tbody tr th {\n",
       "        vertical-align: top;\n",
       "    }\n",
       "\n",
       "    .dataframe thead th {\n",
       "        text-align: right;\n",
       "    }\n",
       "</style>\n",
       "<table border=\"1\" class=\"dataframe\">\n",
       "  <thead>\n",
       "    <tr style=\"text-align: right;\">\n",
       "      <th></th>\n",
       "      <th>road_name</th>\n",
       "      <th>사망자수</th>\n",
       "      <th>중상자수</th>\n",
       "      <th>경상자수</th>\n",
       "      <th>부상신고자수</th>\n",
       "      <th>victims</th>\n",
       "      <th>severity</th>\n",
       "      <th>accident_count</th>\n",
       "    </tr>\n",
       "  </thead>\n",
       "  <tbody>\n",
       "    <tr>\n",
       "      <th>0</th>\n",
       "      <td>4.19로</td>\n",
       "      <td>0</td>\n",
       "      <td>3</td>\n",
       "      <td>15</td>\n",
       "      <td>1</td>\n",
       "      <td>19</td>\n",
       "      <td>55</td>\n",
       "      <td>13</td>\n",
       "    </tr>\n",
       "    <tr>\n",
       "      <th>1</th>\n",
       "      <td>63로</td>\n",
       "      <td>0</td>\n",
       "      <td>0</td>\n",
       "      <td>3</td>\n",
       "      <td>1</td>\n",
       "      <td>4</td>\n",
       "      <td>10</td>\n",
       "      <td>3</td>\n",
       "    </tr>\n",
       "    <tr>\n",
       "      <th>2</th>\n",
       "      <td>가락로</td>\n",
       "      <td>0</td>\n",
       "      <td>20</td>\n",
       "      <td>50</td>\n",
       "      <td>15</td>\n",
       "      <td>85</td>\n",
       "      <td>225</td>\n",
       "      <td>70</td>\n",
       "    </tr>\n",
       "  </tbody>\n",
       "</table>\n",
       "</div>"
      ],
      "text/plain": [
       "  road_name  사망자수  중상자수  경상자수  부상신고자수  victims  severity  accident_count\n",
       "0     4.19로     0     3    15       1       19        55              13\n",
       "1       63로     0     0     3       1        4        10               3\n",
       "2       가락로     0    20    50      15       85       225              70"
      ]
     },
     "execution_count": 13,
     "metadata": {},
     "output_type": "execute_result"
    }
   ],
   "source": [
    "accident_new = pd.read_csv('../data/accident_new.csv')\n",
    "accident_new.columns = ['road_name','사망자수','중상자수','경상자수','부상신고자수','victims','severity','accident_count']\n",
    "accident_new.head(3)"
   ]
  },
  {
   "cell_type": "code",
   "execution_count": 15,
   "metadata": {
    "ExecuteTime": {
     "end_time": "2019-06-05T05:27:00.654502Z",
     "start_time": "2019-06-05T05:26:56.944575Z"
    }
   },
   "outputs": [
    {
     "data": {
      "text/plain": [
       "(3997528, 39)"
      ]
     },
     "execution_count": 15,
     "metadata": {},
     "output_type": "execute_result"
    }
   ],
   "source": [
    "carspeed2 = pd.merge(carspeed2, accident_new, how = 'left', left_on = ['road_name'], right_on = ['road_name'])\n",
    "carspeed2.shape"
   ]
  },
  {
   "cell_type": "code",
   "execution_count": 16,
   "metadata": {
    "ExecuteTime": {
     "end_time": "2019-06-05T05:27:34.450125Z",
     "start_time": "2019-06-05T05:27:29.728243Z"
    }
   },
   "outputs": [
    {
     "data": {
      "text/plain": [
       "(2725244, 39)"
      ]
     },
     "execution_count": 16,
     "metadata": {},
     "output_type": "execute_result"
    }
   ],
   "source": [
    "carspeed2 = carspeed2[~carspeed2.days.isin(['토', '일'])]\n",
    "carspeed2.shape"
   ]
  },
  {
   "cell_type": "code",
   "execution_count": 17,
   "metadata": {
    "ExecuteTime": {
     "end_time": "2019-06-05T05:29:03.460398Z",
     "start_time": "2019-06-05T05:29:02.584248Z"
    }
   },
   "outputs": [],
   "source": [
    "carspeed2 = carspeed2[carspeed.columns]"
   ]
  },
  {
   "cell_type": "code",
   "execution_count": 19,
   "metadata": {
    "ExecuteTime": {
     "end_time": "2019-06-05T05:30:00.428254Z",
     "start_time": "2019-06-05T05:30:00.420528Z"
    }
   },
   "outputs": [
    {
     "data": {
      "text/plain": [
       "(8590094, 39)"
      ]
     },
     "execution_count": 19,
     "metadata": {},
     "output_type": "execute_result"
    }
   ],
   "source": [
    "carspeed = pd.concat([carspeed, carspeed2], axis = 0)\n",
    "carspeed.shape"
   ]
  },
  {
   "cell_type": "code",
   "execution_count": 23,
   "metadata": {
    "ExecuteTime": {
     "end_time": "2019-06-05T05:32:09.075737Z",
     "start_time": "2019-06-05T05:31:58.512769Z"
    }
   },
   "outputs": [],
   "source": [
    "morning = carspeed[(carspeed.time == 6)|(carspeed.time == 7)|(carspeed.time == 8)|(carspeed.time == 9)]\n",
    "evening = carspeed[(carspeed.time == 17)|(carspeed.time == 18)|(carspeed.time == 19)|(carspeed.time == 20)]"
   ]
  },
  {
   "cell_type": "code",
   "execution_count": 24,
   "metadata": {
    "ExecuteTime": {
     "end_time": "2019-06-05T05:32:10.018985Z",
     "start_time": "2019-06-05T05:32:09.996639Z"
    }
   },
   "outputs": [
    {
     "name": "stdout",
     "output_type": "stream",
     "text": [
      "morning 평균 속도 28.751670954960986\n",
      "evening 평균 속도 21.981790283716343\n",
      "morning shape :  (4296579, 39)\n",
      "evening shape :  (4293515, 39)\n"
     ]
    }
   ],
   "source": [
    "print('morning 평균 속도', morning.value.mean())\n",
    "print('evening 평균 속도', evening.value.mean())\n",
    "print('morning shape : ',morning.shape)\n",
    "print('evening shape : ',evening.shape)"
   ]
  },
  {
   "cell_type": "code",
   "execution_count": 25,
   "metadata": {
    "ExecuteTime": {
     "end_time": "2019-06-05T05:32:24.492215Z",
     "start_time": "2019-06-05T05:32:24.483613Z"
    }
   },
   "outputs": [],
   "source": [
    "del carspeed, carspeed2"
   ]
  },
  {
   "cell_type": "markdown",
   "metadata": {},
   "source": [
    "# tran, test split"
   ]
  },
  {
   "cell_type": "code",
   "execution_count": 21,
   "metadata": {
    "ExecuteTime": {
     "end_time": "2019-06-05T05:31:20.494383Z",
     "start_time": "2019-06-05T05:31:18.430321Z"
    }
   },
   "outputs": [],
   "source": [
    "from sklearn.model_selection import train_test_split"
   ]
  },
  {
   "cell_type": "markdown",
   "metadata": {},
   "source": [
    "## morning"
   ]
  },
  {
   "cell_type": "code",
   "execution_count": 26,
   "metadata": {
    "ExecuteTime": {
     "end_time": "2019-06-05T05:32:34.354320Z",
     "start_time": "2019-06-05T05:32:33.072374Z"
    }
   },
   "outputs": [],
   "source": [
    "y = morning.value\n",
    "X = morning.drop('value', axis = 1)"
   ]
  },
  {
   "cell_type": "code",
   "execution_count": 27,
   "metadata": {
    "ExecuteTime": {
     "end_time": "2019-06-05T05:32:48.636392Z",
     "start_time": "2019-06-05T05:32:38.995774Z"
    }
   },
   "outputs": [],
   "source": [
    "X_train, X_test, y_train, y_test = train_test_split(X, y, test_size = 0.3, random_state = 333 )"
   ]
  },
  {
   "cell_type": "code",
   "execution_count": 28,
   "metadata": {
    "ExecuteTime": {
     "end_time": "2019-06-05T05:32:49.890843Z",
     "start_time": "2019-06-05T05:32:48.640744Z"
    }
   },
   "outputs": [
    {
     "name": "stderr",
     "output_type": "stream",
     "text": [
      "C:\\Users\\wjssm\\Anaconda3\\lib\\site-packages\\ipykernel_launcher.py:1: SettingWithCopyWarning: \n",
      "A value is trying to be set on a copy of a slice from a DataFrame.\n",
      "Try using .loc[row_indexer,col_indexer] = value instead\n",
      "\n",
      "See the caveats in the documentation: http://pandas.pydata.org/pandas-docs/stable/indexing.html#indexing-view-versus-copy\n",
      "  \"\"\"Entry point for launching an IPython kernel.\n",
      "C:\\Users\\wjssm\\Anaconda3\\lib\\site-packages\\ipykernel_launcher.py:2: SettingWithCopyWarning: \n",
      "A value is trying to be set on a copy of a slice from a DataFrame.\n",
      "Try using .loc[row_indexer,col_indexer] = value instead\n",
      "\n",
      "See the caveats in the documentation: http://pandas.pydata.org/pandas-docs/stable/indexing.html#indexing-view-versus-copy\n",
      "  \n"
     ]
    }
   ],
   "source": [
    "X_train['y'] = y_train\n",
    "X_test['y'] = y_test"
   ]
  },
  {
   "cell_type": "code",
   "execution_count": 29,
   "metadata": {
    "ExecuteTime": {
     "end_time": "2019-06-05T05:32:52.058622Z",
     "start_time": "2019-06-05T05:32:52.051511Z"
    }
   },
   "outputs": [
    {
     "name": "stdout",
     "output_type": "stream",
     "text": [
      "train shape :  (3007605, 39)\n",
      "test shape :  (1288974, 39)\n"
     ]
    }
   ],
   "source": [
    "print('train shape : ', X_train.shape)\n",
    "print('test shape : ', X_test.shape)"
   ]
  },
  {
   "cell_type": "code",
   "execution_count": 30,
   "metadata": {
    "ExecuteTime": {
     "end_time": "2019-06-05T05:33:02.856825Z",
     "start_time": "2019-06-05T05:33:02.840931Z"
    }
   },
   "outputs": [],
   "source": [
    "X_train.columns = ['date', 'days', 'road_name', 'link_id', 'start_point', 'end_point',\n",
    "       'direction', 'road_length', 'road_num', 'road_type', 'urban_suburb',\n",
    "       'district', 'special', 'vacation', 'time', 'temperature', 'wind',\n",
    "       'rain', 'snow', 'cctv', 'kids', 'speed_limit', 'entrance', 'signal',\n",
    "       'SO2', 'CO', 'O3', 'NO2', 'PM10', 'PM2.5', 'inter_num', 'd1', 'd2',\n",
    "       'd3', 'd4', 'd_sum', 'severity', 'accident_count', 'y']\n",
    "X_test.columns = X_train.columns"
   ]
  },
  {
   "cell_type": "code",
   "execution_count": 31,
   "metadata": {
    "ExecuteTime": {
     "end_time": "2019-06-05T05:38:32.956228Z",
     "start_time": "2019-06-05T05:33:21.164462Z"
    }
   },
   "outputs": [],
   "source": [
    "X_train.to_csv('../data/final/morning_train.csv', index = False, encoding = 'utf-8')\n",
    "X_test.to_csv('../data/final/morning_test.csv', index = False, encoding = 'utf-8')"
   ]
  },
  {
   "cell_type": "markdown",
   "metadata": {},
   "source": [
    "## evening"
   ]
  },
  {
   "cell_type": "code",
   "execution_count": 32,
   "metadata": {
    "ExecuteTime": {
     "end_time": "2019-06-05T05:38:35.087113Z",
     "start_time": "2019-06-05T05:38:32.961461Z"
    }
   },
   "outputs": [],
   "source": [
    "y = evening.value\n",
    "X = evening.drop('value', axis = 1)"
   ]
  },
  {
   "cell_type": "code",
   "execution_count": 33,
   "metadata": {
    "ExecuteTime": {
     "end_time": "2019-06-05T05:38:53.586246Z",
     "start_time": "2019-06-05T05:38:43.216991Z"
    }
   },
   "outputs": [],
   "source": [
    "X_train, X_test, y_train, y_test = train_test_split(X, y, test_size = 0.3, random_state = 333 )"
   ]
  },
  {
   "cell_type": "code",
   "execution_count": 34,
   "metadata": {
    "ExecuteTime": {
     "end_time": "2019-06-05T05:38:54.007264Z",
     "start_time": "2019-06-05T05:38:53.590501Z"
    }
   },
   "outputs": [
    {
     "name": "stderr",
     "output_type": "stream",
     "text": [
      "C:\\Users\\wjssm\\Anaconda3\\lib\\site-packages\\ipykernel_launcher.py:1: SettingWithCopyWarning: \n",
      "A value is trying to be set on a copy of a slice from a DataFrame.\n",
      "Try using .loc[row_indexer,col_indexer] = value instead\n",
      "\n",
      "See the caveats in the documentation: http://pandas.pydata.org/pandas-docs/stable/indexing.html#indexing-view-versus-copy\n",
      "  \"\"\"Entry point for launching an IPython kernel.\n",
      "C:\\Users\\wjssm\\Anaconda3\\lib\\site-packages\\ipykernel_launcher.py:2: SettingWithCopyWarning: \n",
      "A value is trying to be set on a copy of a slice from a DataFrame.\n",
      "Try using .loc[row_indexer,col_indexer] = value instead\n",
      "\n",
      "See the caveats in the documentation: http://pandas.pydata.org/pandas-docs/stable/indexing.html#indexing-view-versus-copy\n",
      "  \n"
     ]
    }
   ],
   "source": [
    "X_train['y'] = y_train\n",
    "X_test['y'] = y_test"
   ]
  },
  {
   "cell_type": "code",
   "execution_count": 35,
   "metadata": {
    "ExecuteTime": {
     "end_time": "2019-06-05T05:38:54.022561Z",
     "start_time": "2019-06-05T05:38:54.011162Z"
    }
   },
   "outputs": [
    {
     "name": "stdout",
     "output_type": "stream",
     "text": [
      "train shape :  (3005460, 39)\n",
      "test shape :  (1288055, 39)\n"
     ]
    }
   ],
   "source": [
    "print('train shape : ', X_train.shape)\n",
    "print('test shape : ', X_test.shape)"
   ]
  },
  {
   "cell_type": "code",
   "execution_count": 36,
   "metadata": {
    "ExecuteTime": {
     "end_time": "2019-06-05T05:38:57.497909Z",
     "start_time": "2019-06-05T05:38:57.486172Z"
    }
   },
   "outputs": [],
   "source": [
    "X_train.columns = ['date', 'days', 'road_name', 'link_id', 'start_point', 'end_point',\n",
    "       'direction', 'road_length', 'road_num', 'road_type', 'urban_suburb',\n",
    "       'district', 'special', 'vacation', 'time', 'temperature', 'wind',\n",
    "       'rain', 'snow', 'cctv', 'kids', 'speed_limit', 'entrance', 'signal',\n",
    "       'SO2', 'CO', 'O3', 'NO2', 'PM10', 'PM2.5', 'inter_num', 'd1', 'd2',\n",
    "       'd3', 'd4', 'd_sum', 'severity', 'accident_count', 'y']\n",
    "X_test.columns = X_train.columns"
   ]
  },
  {
   "cell_type": "code",
   "execution_count": 37,
   "metadata": {
    "ExecuteTime": {
     "end_time": "2019-06-05T05:44:45.951032Z",
     "start_time": "2019-06-05T05:39:02.342910Z"
    }
   },
   "outputs": [],
   "source": [
    "X_train.to_csv('../data/final/evening_train.csv', index = False, encoding = 'utf-8')\n",
    "X_test.to_csv('../data/final/evening_test.csv', index = False, encoding = 'utf-8')"
   ]
  }
 ],
 "metadata": {
  "hide_input": false,
  "kernelspec": {
   "display_name": "Python 3",
   "language": "python",
   "name": "python3"
  },
  "language_info": {
   "codemirror_mode": {
    "name": "ipython",
    "version": 3
   },
   "file_extension": ".py",
   "mimetype": "text/x-python",
   "name": "python",
   "nbconvert_exporter": "python",
   "pygments_lexer": "ipython3",
   "version": "3.7.1"
  },
  "notify_time": "30",
  "toc": {
   "base_numbering": 1,
   "nav_menu": {},
   "number_sections": true,
   "sideBar": true,
   "skip_h1_title": false,
   "title_cell": "Table of Contents",
   "title_sidebar": "Contents",
   "toc_cell": false,
   "toc_position": {},
   "toc_section_display": true,
   "toc_window_display": false
  }
 },
 "nbformat": 4,
 "nbformat_minor": 2
}
