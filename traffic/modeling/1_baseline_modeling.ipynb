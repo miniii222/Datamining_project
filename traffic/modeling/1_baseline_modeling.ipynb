{
 "cells": [
  {
   "cell_type": "code",
   "execution_count": 1,
   "metadata": {
    "ExecuteTime": {
     "end_time": "2019-06-16T10:01:50.151637Z",
     "start_time": "2019-06-16T10:01:43.224050Z"
    }
   },
   "outputs": [
    {
     "data": {
      "text/plain": [
       "['carspeed.csv',\n",
       " 'car_ej.csv',\n",
       " 'car_sm.csv',\n",
       " 'real_final.csv',\n",
       " 'test.csv',\n",
       " 'train.csv']"
      ]
     },
     "execution_count": 1,
     "metadata": {},
     "output_type": "execute_result"
    }
   ],
   "source": [
    "import pandas as pd\n",
    "import numpy as np\n",
    "import os\n",
    "\n",
    "import matplotlib.pyplot as plt\n",
    "import seaborn as sns\n",
    "\n",
    "os.listdir('../../data/final/')"
   ]
  },
  {
   "cell_type": "code",
   "execution_count": 2,
   "metadata": {
    "ExecuteTime": {
     "end_time": "2019-06-16T10:01:50.168335Z",
     "start_time": "2019-06-16T10:01:50.158242Z"
    }
   },
   "outputs": [],
   "source": [
    "import warnings\n",
    "warnings.filterwarnings('ignore')\n",
    "from matplotlib import rc\n",
    "plt.rc('font', family='Malgun Gothic')\n",
    "plt.rc('axes', unicode_minus=False)"
   ]
  },
  {
   "cell_type": "code",
   "execution_count": 3,
   "metadata": {
    "ExecuteTime": {
     "end_time": "2019-06-16T10:02:50.739076Z",
     "start_time": "2019-06-16T10:01:50.175544Z"
    }
   },
   "outputs": [],
   "source": [
    "train = pd.read_csv('../../data/final/train.csv')\n",
    "test = pd.read_csv('../../data/final/test.csv')"
   ]
  },
  {
   "cell_type": "code",
   "execution_count": 4,
   "metadata": {
    "ExecuteTime": {
     "end_time": "2019-06-16T10:02:56.392014Z",
     "start_time": "2019-06-16T10:02:50.745822Z"
    }
   },
   "outputs": [
    {
     "data": {
      "text/html": [
       "<div>\n",
       "<style scoped>\n",
       "    .dataframe tbody tr th:only-of-type {\n",
       "        vertical-align: middle;\n",
       "    }\n",
       "\n",
       "    .dataframe tbody tr th {\n",
       "        vertical-align: top;\n",
       "    }\n",
       "\n",
       "    .dataframe thead th {\n",
       "        text-align: right;\n",
       "    }\n",
       "</style>\n",
       "<table border=\"1\" class=\"dataframe\">\n",
       "  <thead>\n",
       "    <tr style=\"text-align: right;\">\n",
       "      <th></th>\n",
       "      <th>date</th>\n",
       "      <th>link_id</th>\n",
       "      <th>road_length</th>\n",
       "      <th>road_num</th>\n",
       "      <th>holiday</th>\n",
       "      <th>special</th>\n",
       "      <th>vacation</th>\n",
       "      <th>time</th>\n",
       "      <th>inter_num</th>\n",
       "      <th>d1</th>\n",
       "      <th>d2</th>\n",
       "      <th>d3</th>\n",
       "      <th>d4</th>\n",
       "      <th>victims</th>\n",
       "      <th>severity</th>\n",
       "      <th>accident_count</th>\n",
       "      <th>temperature</th>\n",
       "      <th>wind</th>\n",
       "      <th>rain</th>\n",
       "      <th>snow</th>\n",
       "      <th>cctv</th>\n",
       "      <th>kids</th>\n",
       "      <th>speed_limit</th>\n",
       "      <th>entrance</th>\n",
       "      <th>signal</th>\n",
       "      <th>SO2</th>\n",
       "      <th>CO</th>\n",
       "      <th>O3</th>\n",
       "      <th>NO2</th>\n",
       "      <th>PM10</th>\n",
       "      <th>PM2.5</th>\n",
       "      <th>month</th>\n",
       "      <th>weekend</th>\n",
       "      <th>y</th>\n",
       "    </tr>\n",
       "  </thead>\n",
       "  <tbody>\n",
       "    <tr>\n",
       "      <th>count</th>\n",
       "      <td>1.042732e+06</td>\n",
       "      <td>1.042732e+06</td>\n",
       "      <td>1042732.000</td>\n",
       "      <td>1042732.000</td>\n",
       "      <td>1042732.000</td>\n",
       "      <td>1042732.000</td>\n",
       "      <td>1042732.000</td>\n",
       "      <td>1042732.000</td>\n",
       "      <td>1042732.000</td>\n",
       "      <td>1042732.000</td>\n",
       "      <td>1042732.000</td>\n",
       "      <td>1042732.000</td>\n",
       "      <td>1042732.000</td>\n",
       "      <td>1042732.000</td>\n",
       "      <td>1042732.000</td>\n",
       "      <td>1042732.000</td>\n",
       "      <td>1042732.000</td>\n",
       "      <td>1042732.000</td>\n",
       "      <td>1042732.000</td>\n",
       "      <td>1042732.000</td>\n",
       "      <td>1042732.000</td>\n",
       "      <td>1042732.000</td>\n",
       "      <td>1042732.000</td>\n",
       "      <td>1042732.000</td>\n",
       "      <td>1042732.000</td>\n",
       "      <td>1042732.000</td>\n",
       "      <td>1042732.000</td>\n",
       "      <td>1042732.000</td>\n",
       "      <td>1042732.000</td>\n",
       "      <td>1042732.000</td>\n",
       "      <td>1042732.000</td>\n",
       "      <td>1042732.000</td>\n",
       "      <td>1042732.000</td>\n",
       "      <td>1042732.000</td>\n",
       "    </tr>\n",
       "    <tr>\n",
       "      <th>mean</th>\n",
       "      <td>2.018067e+07</td>\n",
       "      <td>1.219876e+09</td>\n",
       "      <td>676.778</td>\n",
       "      <td>3.368</td>\n",
       "      <td>0.061</td>\n",
       "      <td>0.033</td>\n",
       "      <td>0.055</td>\n",
       "      <td>16.494</td>\n",
       "      <td>12.516</td>\n",
       "      <td>1.169</td>\n",
       "      <td>52.376</td>\n",
       "      <td>190.933</td>\n",
       "      <td>21.966</td>\n",
       "      <td>266.444</td>\n",
       "      <td>765.917</td>\n",
       "      <td>174.245</td>\n",
       "      <td>15.266</td>\n",
       "      <td>1.831</td>\n",
       "      <td>0.157</td>\n",
       "      <td>0.040</td>\n",
       "      <td>1.181</td>\n",
       "      <td>0.097</td>\n",
       "      <td>52.094</td>\n",
       "      <td>63.534</td>\n",
       "      <td>52.114</td>\n",
       "      <td>0.005</td>\n",
       "      <td>0.453</td>\n",
       "      <td>0.022</td>\n",
       "      <td>0.031</td>\n",
       "      <td>35.854</td>\n",
       "      <td>21.923</td>\n",
       "      <td>6.512</td>\n",
       "      <td>0.284</td>\n",
       "      <td>26.148</td>\n",
       "    </tr>\n",
       "    <tr>\n",
       "      <th>std</th>\n",
       "      <td>3.444210e+02</td>\n",
       "      <td>1.826371e+06</td>\n",
       "      <td>447.495</td>\n",
       "      <td>1.243</td>\n",
       "      <td>0.239</td>\n",
       "      <td>0.179</td>\n",
       "      <td>0.228</td>\n",
       "      <td>4.029</td>\n",
       "      <td>10.329</td>\n",
       "      <td>1.337</td>\n",
       "      <td>49.377</td>\n",
       "      <td>192.559</td>\n",
       "      <td>19.527</td>\n",
       "      <td>261.056</td>\n",
       "      <td>754.829</td>\n",
       "      <td>174.527</td>\n",
       "      <td>11.653</td>\n",
       "      <td>0.897</td>\n",
       "      <td>1.165</td>\n",
       "      <td>0.342</td>\n",
       "      <td>1.355</td>\n",
       "      <td>0.295</td>\n",
       "      <td>13.993</td>\n",
       "      <td>64.125</td>\n",
       "      <td>28.632</td>\n",
       "      <td>0.001</td>\n",
       "      <td>0.168</td>\n",
       "      <td>0.016</td>\n",
       "      <td>0.014</td>\n",
       "      <td>26.568</td>\n",
       "      <td>18.173</td>\n",
       "      <td>3.442</td>\n",
       "      <td>0.451</td>\n",
       "      <td>13.402</td>\n",
       "    </tr>\n",
       "    <tr>\n",
       "      <th>min</th>\n",
       "      <td>2.018010e+07</td>\n",
       "      <td>1.210003e+09</td>\n",
       "      <td>177.000</td>\n",
       "      <td>1.000</td>\n",
       "      <td>0.000</td>\n",
       "      <td>0.000</td>\n",
       "      <td>0.000</td>\n",
       "      <td>10.000</td>\n",
       "      <td>1.000</td>\n",
       "      <td>0.000</td>\n",
       "      <td>0.000</td>\n",
       "      <td>1.000</td>\n",
       "      <td>0.000</td>\n",
       "      <td>1.000</td>\n",
       "      <td>3.000</td>\n",
       "      <td>1.000</td>\n",
       "      <td>-15.700</td>\n",
       "      <td>0.000</td>\n",
       "      <td>0.000</td>\n",
       "      <td>0.000</td>\n",
       "      <td>0.000</td>\n",
       "      <td>0.000</td>\n",
       "      <td>30.000</td>\n",
       "      <td>0.000</td>\n",
       "      <td>0.000</td>\n",
       "      <td>0.003</td>\n",
       "      <td>0.200</td>\n",
       "      <td>0.001</td>\n",
       "      <td>0.007</td>\n",
       "      <td>3.000</td>\n",
       "      <td>1.000</td>\n",
       "      <td>1.000</td>\n",
       "      <td>0.000</td>\n",
       "      <td>1.110</td>\n",
       "    </tr>\n",
       "    <tr>\n",
       "      <th>25%</th>\n",
       "      <td>2.018040e+07</td>\n",
       "      <td>1.220009e+09</td>\n",
       "      <td>438.000</td>\n",
       "      <td>3.000</td>\n",
       "      <td>0.000</td>\n",
       "      <td>0.000</td>\n",
       "      <td>0.000</td>\n",
       "      <td>13.000</td>\n",
       "      <td>7.000</td>\n",
       "      <td>0.000</td>\n",
       "      <td>24.000</td>\n",
       "      <td>74.000</td>\n",
       "      <td>7.000</td>\n",
       "      <td>97.000</td>\n",
       "      <td>281.000</td>\n",
       "      <td>66.000</td>\n",
       "      <td>6.100</td>\n",
       "      <td>1.200</td>\n",
       "      <td>0.000</td>\n",
       "      <td>0.000</td>\n",
       "      <td>0.000</td>\n",
       "      <td>0.000</td>\n",
       "      <td>40.000</td>\n",
       "      <td>35.000</td>\n",
       "      <td>38.000</td>\n",
       "      <td>0.005</td>\n",
       "      <td>0.300</td>\n",
       "      <td>0.010</td>\n",
       "      <td>0.020</td>\n",
       "      <td>18.000</td>\n",
       "      <td>9.000</td>\n",
       "      <td>4.000</td>\n",
       "      <td>0.000</td>\n",
       "      <td>18.020</td>\n",
       "    </tr>\n",
       "    <tr>\n",
       "      <th>50%</th>\n",
       "      <td>2.018070e+07</td>\n",
       "      <td>1.220020e+09</td>\n",
       "      <td>598.000</td>\n",
       "      <td>3.000</td>\n",
       "      <td>0.000</td>\n",
       "      <td>0.000</td>\n",
       "      <td>0.000</td>\n",
       "      <td>16.000</td>\n",
       "      <td>10.000</td>\n",
       "      <td>1.000</td>\n",
       "      <td>39.000</td>\n",
       "      <td>103.000</td>\n",
       "      <td>17.000</td>\n",
       "      <td>141.000</td>\n",
       "      <td>403.000</td>\n",
       "      <td>99.000</td>\n",
       "      <td>16.700</td>\n",
       "      <td>1.800</td>\n",
       "      <td>0.000</td>\n",
       "      <td>0.000</td>\n",
       "      <td>1.000</td>\n",
       "      <td>0.000</td>\n",
       "      <td>60.000</td>\n",
       "      <td>55.000</td>\n",
       "      <td>44.000</td>\n",
       "      <td>0.005</td>\n",
       "      <td>0.400</td>\n",
       "      <td>0.019</td>\n",
       "      <td>0.028</td>\n",
       "      <td>31.000</td>\n",
       "      <td>17.000</td>\n",
       "      <td>7.000</td>\n",
       "      <td>0.000</td>\n",
       "      <td>23.250</td>\n",
       "    </tr>\n",
       "    <tr>\n",
       "      <th>75%</th>\n",
       "      <td>2.018093e+07</td>\n",
       "      <td>1.220029e+09</td>\n",
       "      <td>764.000</td>\n",
       "      <td>4.000</td>\n",
       "      <td>0.000</td>\n",
       "      <td>0.000</td>\n",
       "      <td>0.000</td>\n",
       "      <td>20.000</td>\n",
       "      <td>14.000</td>\n",
       "      <td>2.000</td>\n",
       "      <td>61.000</td>\n",
       "      <td>211.000</td>\n",
       "      <td>27.000</td>\n",
       "      <td>296.000</td>\n",
       "      <td>860.000</td>\n",
       "      <td>207.000</td>\n",
       "      <td>24.400</td>\n",
       "      <td>2.400</td>\n",
       "      <td>0.000</td>\n",
       "      <td>0.000</td>\n",
       "      <td>2.000</td>\n",
       "      <td>0.000</td>\n",
       "      <td>60.000</td>\n",
       "      <td>76.000</td>\n",
       "      <td>77.000</td>\n",
       "      <td>0.006</td>\n",
       "      <td>0.500</td>\n",
       "      <td>0.029</td>\n",
       "      <td>0.040</td>\n",
       "      <td>46.000</td>\n",
       "      <td>29.000</td>\n",
       "      <td>9.000</td>\n",
       "      <td>1.000</td>\n",
       "      <td>29.830</td>\n",
       "    </tr>\n",
       "    <tr>\n",
       "      <th>max</th>\n",
       "      <td>2.018123e+07</td>\n",
       "      <td>1.230004e+09</td>\n",
       "      <td>3084.000</td>\n",
       "      <td>7.000</td>\n",
       "      <td>1.000</td>\n",
       "      <td>1.000</td>\n",
       "      <td>1.000</td>\n",
       "      <td>23.000</td>\n",
       "      <td>45.000</td>\n",
       "      <td>5.000</td>\n",
       "      <td>215.000</td>\n",
       "      <td>799.000</td>\n",
       "      <td>81.000</td>\n",
       "      <td>1099.000</td>\n",
       "      <td>3171.000</td>\n",
       "      <td>749.000</td>\n",
       "      <td>39.300</td>\n",
       "      <td>7.100</td>\n",
       "      <td>29.500</td>\n",
       "      <td>8.800</td>\n",
       "      <td>6.000</td>\n",
       "      <td>1.000</td>\n",
       "      <td>80.000</td>\n",
       "      <td>301.000</td>\n",
       "      <td>115.000</td>\n",
       "      <td>0.015</td>\n",
       "      <td>1.500</td>\n",
       "      <td>0.139</td>\n",
       "      <td>0.109</td>\n",
       "      <td>302.000</td>\n",
       "      <td>139.000</td>\n",
       "      <td>12.000</td>\n",
       "      <td>1.000</td>\n",
       "      <td>114.420</td>\n",
       "    </tr>\n",
       "  </tbody>\n",
       "</table>\n",
       "</div>"
      ],
      "text/plain": [
       "               date       link_id  road_length     road_num      holiday  \\\n",
       "count  1.042732e+06  1.042732e+06  1042732.000  1042732.000  1042732.000   \n",
       "mean   2.018067e+07  1.219876e+09      676.778        3.368        0.061   \n",
       "std    3.444210e+02  1.826371e+06      447.495        1.243        0.239   \n",
       "min    2.018010e+07  1.210003e+09      177.000        1.000        0.000   \n",
       "25%    2.018040e+07  1.220009e+09      438.000        3.000        0.000   \n",
       "50%    2.018070e+07  1.220020e+09      598.000        3.000        0.000   \n",
       "75%    2.018093e+07  1.220029e+09      764.000        4.000        0.000   \n",
       "max    2.018123e+07  1.230004e+09     3084.000        7.000        1.000   \n",
       "\n",
       "           special     vacation         time    inter_num           d1  \\\n",
       "count  1042732.000  1042732.000  1042732.000  1042732.000  1042732.000   \n",
       "mean         0.033        0.055       16.494       12.516        1.169   \n",
       "std          0.179        0.228        4.029       10.329        1.337   \n",
       "min          0.000        0.000       10.000        1.000        0.000   \n",
       "25%          0.000        0.000       13.000        7.000        0.000   \n",
       "50%          0.000        0.000       16.000       10.000        1.000   \n",
       "75%          0.000        0.000       20.000       14.000        2.000   \n",
       "max          1.000        1.000       23.000       45.000        5.000   \n",
       "\n",
       "                d2           d3           d4      victims     severity  \\\n",
       "count  1042732.000  1042732.000  1042732.000  1042732.000  1042732.000   \n",
       "mean        52.376      190.933       21.966      266.444      765.917   \n",
       "std         49.377      192.559       19.527      261.056      754.829   \n",
       "min          0.000        1.000        0.000        1.000        3.000   \n",
       "25%         24.000       74.000        7.000       97.000      281.000   \n",
       "50%         39.000      103.000       17.000      141.000      403.000   \n",
       "75%         61.000      211.000       27.000      296.000      860.000   \n",
       "max        215.000      799.000       81.000     1099.000     3171.000   \n",
       "\n",
       "       accident_count  temperature         wind         rain         snow  \\\n",
       "count     1042732.000  1042732.000  1042732.000  1042732.000  1042732.000   \n",
       "mean          174.245       15.266        1.831        0.157        0.040   \n",
       "std           174.527       11.653        0.897        1.165        0.342   \n",
       "min             1.000      -15.700        0.000        0.000        0.000   \n",
       "25%            66.000        6.100        1.200        0.000        0.000   \n",
       "50%            99.000       16.700        1.800        0.000        0.000   \n",
       "75%           207.000       24.400        2.400        0.000        0.000   \n",
       "max           749.000       39.300        7.100       29.500        8.800   \n",
       "\n",
       "              cctv         kids  speed_limit     entrance       signal  \\\n",
       "count  1042732.000  1042732.000  1042732.000  1042732.000  1042732.000   \n",
       "mean         1.181        0.097       52.094       63.534       52.114   \n",
       "std          1.355        0.295       13.993       64.125       28.632   \n",
       "min          0.000        0.000       30.000        0.000        0.000   \n",
       "25%          0.000        0.000       40.000       35.000       38.000   \n",
       "50%          1.000        0.000       60.000       55.000       44.000   \n",
       "75%          2.000        0.000       60.000       76.000       77.000   \n",
       "max          6.000        1.000       80.000      301.000      115.000   \n",
       "\n",
       "               SO2           CO           O3          NO2         PM10  \\\n",
       "count  1042732.000  1042732.000  1042732.000  1042732.000  1042732.000   \n",
       "mean         0.005        0.453        0.022        0.031       35.854   \n",
       "std          0.001        0.168        0.016        0.014       26.568   \n",
       "min          0.003        0.200        0.001        0.007        3.000   \n",
       "25%          0.005        0.300        0.010        0.020       18.000   \n",
       "50%          0.005        0.400        0.019        0.028       31.000   \n",
       "75%          0.006        0.500        0.029        0.040       46.000   \n",
       "max          0.015        1.500        0.139        0.109      302.000   \n",
       "\n",
       "             PM2.5        month      weekend            y  \n",
       "count  1042732.000  1042732.000  1042732.000  1042732.000  \n",
       "mean        21.923        6.512        0.284       26.148  \n",
       "std         18.173        3.442        0.451       13.402  \n",
       "min          1.000        1.000        0.000        1.110  \n",
       "25%          9.000        4.000        0.000       18.020  \n",
       "50%         17.000        7.000        0.000       23.250  \n",
       "75%         29.000        9.000        1.000       29.830  \n",
       "max        139.000       12.000        1.000      114.420  "
      ]
     },
     "execution_count": 4,
     "metadata": {},
     "output_type": "execute_result"
    }
   ],
   "source": [
    "pd.set_option('display.max_columns', 500)\n",
    "round(train.describe(), 3)"
   ]
  },
  {
   "cell_type": "code",
   "execution_count": 5,
   "metadata": {
    "ExecuteTime": {
     "end_time": "2019-06-16T10:03:02.276834Z",
     "start_time": "2019-06-16T10:03:02.182227Z"
    }
   },
   "outputs": [
    {
     "name": "stdout",
     "output_type": "stream",
     "text": [
      "강남구에 있는 도로 개수 :  30\n"
     ]
    },
    {
     "data": {
      "text/plain": [
       "{'강남대로',\n",
       " '개포로',\n",
       " '광평로',\n",
       " '남부순환로',\n",
       " '논현로',\n",
       " '도곡로',\n",
       " '도산대로',\n",
       " '밤고개로',\n",
       " '봉은사로',\n",
       " '봉은사로114길',\n",
       " '분당수서로',\n",
       " '사임당로',\n",
       " '삼성로',\n",
       " '삼전로',\n",
       " '선릉로',\n",
       " '압구정로',\n",
       " '양재대로',\n",
       " '양재대로55길',\n",
       " '양재천로',\n",
       " '언주로',\n",
       " '역삼로',\n",
       " '영동대로',\n",
       " '올림픽대로',\n",
       " '일원로',\n",
       " '잠원로',\n",
       " '테헤란로',\n",
       " '테헤란로114길',\n",
       " '테헤란로115길',\n",
       " '학동로',\n",
       " '헌릉로'}"
      ]
     },
     "execution_count": 5,
     "metadata": {},
     "output_type": "execute_result"
    }
   ],
   "source": [
    "road_name_gangnam = set(list(set(train.road_name)) + list(set(test.road_name)))\n",
    "print('강남구에 있는 도로 개수 : ', len(road_name_gangnam))\n",
    "road_name_gangnam"
   ]
  },
  {
   "cell_type": "markdown",
   "metadata": {},
   "source": [
    "# accident data"
   ]
  },
  {
   "cell_type": "code",
   "execution_count": 6,
   "metadata": {
    "ExecuteTime": {
     "end_time": "2019-06-16T10:03:04.226410Z",
     "start_time": "2019-06-16T10:03:04.188507Z"
    }
   },
   "outputs": [
    {
     "data": {
      "text/html": [
       "<div>\n",
       "<style scoped>\n",
       "    .dataframe tbody tr th:only-of-type {\n",
       "        vertical-align: middle;\n",
       "    }\n",
       "\n",
       "    .dataframe tbody tr th {\n",
       "        vertical-align: top;\n",
       "    }\n",
       "\n",
       "    .dataframe thead th {\n",
       "        text-align: right;\n",
       "    }\n",
       "</style>\n",
       "<table border=\"1\" class=\"dataframe\">\n",
       "  <thead>\n",
       "    <tr style=\"text-align: right;\">\n",
       "      <th></th>\n",
       "      <th>도로명</th>\n",
       "      <th>사망자수</th>\n",
       "      <th>중상자수</th>\n",
       "      <th>경상자수</th>\n",
       "      <th>부상신고자수</th>\n",
       "      <th>victims</th>\n",
       "      <th>severity</th>\n",
       "      <th>count</th>\n",
       "    </tr>\n",
       "  </thead>\n",
       "  <tbody>\n",
       "    <tr>\n",
       "      <th>0</th>\n",
       "      <td>강남대로</td>\n",
       "      <td>3</td>\n",
       "      <td>69</td>\n",
       "      <td>338</td>\n",
       "      <td>28</td>\n",
       "      <td>438</td>\n",
       "      <td>1285</td>\n",
       "      <td>280</td>\n",
       "    </tr>\n",
       "    <tr>\n",
       "      <th>1</th>\n",
       "      <td>개포로</td>\n",
       "      <td>0</td>\n",
       "      <td>21</td>\n",
       "      <td>31</td>\n",
       "      <td>5</td>\n",
       "      <td>57</td>\n",
       "      <td>161</td>\n",
       "      <td>39</td>\n",
       "    </tr>\n",
       "    <tr>\n",
       "      <th>2</th>\n",
       "      <td>광평로</td>\n",
       "      <td>2</td>\n",
       "      <td>16</td>\n",
       "      <td>30</td>\n",
       "      <td>3</td>\n",
       "      <td>51</td>\n",
       "      <td>165</td>\n",
       "      <td>33</td>\n",
       "    </tr>\n",
       "    <tr>\n",
       "      <th>3</th>\n",
       "      <td>남부순환로</td>\n",
       "      <td>4</td>\n",
       "      <td>215</td>\n",
       "      <td>799</td>\n",
       "      <td>81</td>\n",
       "      <td>1099</td>\n",
       "      <td>3171</td>\n",
       "      <td>749</td>\n",
       "    </tr>\n",
       "    <tr>\n",
       "      <th>4</th>\n",
       "      <td>논현로</td>\n",
       "      <td>2</td>\n",
       "      <td>61</td>\n",
       "      <td>210</td>\n",
       "      <td>23</td>\n",
       "      <td>296</td>\n",
       "      <td>860</td>\n",
       "      <td>207</td>\n",
       "    </tr>\n",
       "  </tbody>\n",
       "</table>\n",
       "</div>"
      ],
      "text/plain": [
       "     도로명  사망자수  중상자수  경상자수  부상신고자수  victims  severity  count\n",
       "0   강남대로     3    69   338      28      438      1285    280\n",
       "1    개포로     0    21    31       5       57       161     39\n",
       "2    광평로     2    16    30       3       51       165     33\n",
       "3  남부순환로     4   215   799      81     1099      3171    749\n",
       "4    논현로     2    61   210      23      296       860    207"
      ]
     },
     "execution_count": 6,
     "metadata": {},
     "output_type": "execute_result"
    }
   ],
   "source": [
    "accident = pd.read_csv('../../data/accident_new.csv')\n",
    "accident = accident[accident.도로명.isin(road_name_gangnam)].reset_index(drop  = True)\n",
    "accident.head()"
   ]
  },
  {
   "cell_type": "code",
   "execution_count": 46,
   "metadata": {
    "ExecuteTime": {
     "end_time": "2019-06-08T05:21:14.023803Z",
     "start_time": "2019-06-08T05:21:11.569964Z"
    }
   },
   "outputs": [
    {
     "data": {
      "image/png": "[encoded data removed]",
      "text/plain": [
       "<Figure size 1080x576 with 8 Axes>"
      ]
     },
     "metadata": {
      "needs_background": "light"
     },
     "output_type": "display_data"
    }
   ],
   "source": [
    "cols = accident.columns[1:]\n",
    "\n",
    "fig, axs = plt.subplots(ncols=4, nrows = 2, figsize = (15,8))\n",
    "for i in range(len(cols)) :\n",
    "    sns.distplot(accident[cols[i]].values, ax = axs[i//4,i%4])\n",
    "    axs[i//4,i%4].set_xlabel(cols[i])"
   ]
  },
  {
   "cell_type": "code",
   "execution_count": 61,
   "metadata": {
    "ExecuteTime": {
     "end_time": "2019-06-08T05:36:56.556177Z",
     "start_time": "2019-06-08T05:36:56.543405Z"
    }
   },
   "outputs": [
    {
     "data": {
      "text/plain": [
       "0.00      1.00\n",
       "0.10     10.20\n",
       "0.20     30.80\n",
       "0.25     40.00\n",
       "0.50     82.00\n",
       "0.75    149.75\n",
       "0.80    190.20\n",
       "0.90    286.70\n",
       "1.00    749.00\n",
       "Name: count, dtype: float64"
      ]
     },
     "execution_count": 61,
     "metadata": {},
     "output_type": "execute_result"
    }
   ],
   "source": [
    "accident['count'].quantile([0,0.1,0.2,0.25,0.5,0.75,0.8,0.9,1])"
   ]
  },
  {
   "cell_type": "markdown",
   "metadata": {},
   "source": [
    "# FE"
   ]
  },
  {
   "cell_type": "code",
   "execution_count": 7,
   "metadata": {
    "ExecuteTime": {
     "end_time": "2019-06-16T10:03:17.442553Z",
     "start_time": "2019-06-16T10:03:15.789261Z"
    }
   },
   "outputs": [
    {
     "data": {
      "text/plain": [
       "(1489618, 44)"
      ]
     },
     "execution_count": 7,
     "metadata": {},
     "output_type": "execute_result"
    }
   ],
   "source": [
    "train['train'] = 1\n",
    "test['train'] = 0\n",
    "df = pd.concat([train, test])\n",
    "df['logy'] = np.log1p(df['y'])\n",
    "df.shape"
   ]
  },
  {
   "cell_type": "code",
   "execution_count": 8,
   "metadata": {
    "ExecuteTime": {
     "end_time": "2019-06-16T10:03:23.971165Z",
     "start_time": "2019-06-16T10:03:17.445481Z"
    }
   },
   "outputs": [],
   "source": [
    "from sklearn.preprocessing import LabelEncoder\n",
    "\n",
    "lb_make = LabelEncoder()\n",
    "df[\"days\"] = lb_make.fit_transform(df[\"days\"])\n",
    "df[\"direction\"] = lb_make.fit_transform(df[\"direction\"])\n",
    "df[\"road_type\"] = lb_make.fit_transform(df[\"road_type\"])\n",
    "df[\"urban_suburb\"] = lb_make.fit_transform(df[\"urban_suburb\"])\n",
    "df[\"district\"] = lb_make.fit_transform(df[\"district\"])\n",
    "df[\"time\"] = lb_make.fit_transform(df[\"time\"])"
   ]
  },
  {
   "cell_type": "code",
   "execution_count": 9,
   "metadata": {
    "ExecuteTime": {
     "end_time": "2019-06-16T10:03:33.542984Z",
     "start_time": "2019-06-16T10:03:23.975801Z"
    }
   },
   "outputs": [],
   "source": [
    "def rain_level(rain) :\n",
    "    if rain >= 30 :\n",
    "        return 3\n",
    "    else :\n",
    "        if rain >=15 :\n",
    "            return 2\n",
    "        else :\n",
    "            if rain >=3 :\n",
    "                return 1\n",
    "            else : return 0\n",
    "\n",
    "def dust_PM2_level(dust) :\n",
    "    if dust >= 76 :\n",
    "        return 3\n",
    "    else :\n",
    "        if dust >=36 :\n",
    "            return 2\n",
    "        else :\n",
    "            if dust >=16 :\n",
    "                return 1\n",
    "            else : return 0      \n",
    "\n",
    "def dust_PM10_level(dust) :\n",
    "    if dust >= 151 :\n",
    "        return 3\n",
    "    else :\n",
    "        if dust >=81 :\n",
    "            return 2\n",
    "        else :\n",
    "            if dust >=31 :\n",
    "                return 1\n",
    "            else : return 0\n",
    "\n",
    "def wind_level(wind) :\n",
    "    if wind >= 14 :\n",
    "        return 3\n",
    "    else :\n",
    "        if wind >=9 :\n",
    "            return 2\n",
    "        else :\n",
    "            if wind >=4 :\n",
    "                return 1\n",
    "            else : return 0\n",
    "\n",
    "def O3_level(O3) :\n",
    "    if O3 >= 0.151 :\n",
    "        return 3\n",
    "    else :\n",
    "        if O3 >=0.091 :\n",
    "            return 2\n",
    "        else :\n",
    "            if O3 >=0.031 :\n",
    "                return 1\n",
    "            else : return 0\n",
    "            \n",
    "df['dust_PM10_level'] = df['PM10'].apply(lambda x : dust_PM10_level(x))\n",
    "df['dust_PM2_level'] = df['PM2.5'].apply(lambda x : dust_PM2_level(x))\n",
    "df['rain_level'] = df['rain'].apply(lambda x : rain_level(x))       \n",
    "df['wind_level'] = df['wind'].apply(lambda x : wind_level(x))            \n",
    "df['O3_level'] = df['O3'].apply(lambda x : O3_level(x))"
   ]
  },
  {
   "cell_type": "code",
   "execution_count": 10,
   "metadata": {
    "ExecuteTime": {
     "end_time": "2019-06-16T10:03:33.702541Z",
     "start_time": "2019-06-16T10:03:33.548557Z"
    }
   },
   "outputs": [],
   "source": [
    "bins = [-40,-10,10,20,30,50]\n",
    "bins_names = [0,1,2,3,4] # 구간별 이름\n",
    "df['temp_level'] = pd.cut(df['temperature'], bins, labels=bins_names)"
   ]
  },
  {
   "cell_type": "code",
   "execution_count": 11,
   "metadata": {
    "ExecuteTime": {
     "end_time": "2019-06-16T10:03:35.413410Z",
     "start_time": "2019-06-16T10:03:33.704539Z"
    }
   },
   "outputs": [],
   "source": [
    "df = df.drop(['date','road_name','link_id','start_point','end_point'],axis = 1)"
   ]
  },
  {
   "cell_type": "code",
   "execution_count": 12,
   "metadata": {
    "ExecuteTime": {
     "end_time": "2019-06-16T10:03:36.131897Z",
     "start_time": "2019-06-16T10:03:35.418994Z"
    }
   },
   "outputs": [
    {
     "name": "stdout",
     "output_type": "stream",
     "text": [
      "train shape :  (1042732, 45)\n",
      "test shape :  (446886, 45)\n"
     ]
    }
   ],
   "source": [
    "train = df[df.train == 1]\n",
    "test = df[df.train == 0]\n",
    "\n",
    "print('train shape : ', train.shape)\n",
    "print('test shape : ', test.shape)"
   ]
  },
  {
   "cell_type": "markdown",
   "metadata": {},
   "source": [
    "# original data baseline model"
   ]
  },
  {
   "cell_type": "code",
   "execution_count": 130,
   "metadata": {
    "ExecuteTime": {
     "end_time": "2019-06-08T06:54:54.417525Z",
     "start_time": "2019-06-08T06:54:54.190678Z"
    }
   },
   "outputs": [],
   "source": [
    "base_cols = ['days', 'direction', 'road_length', 'road_num', 'road_type',\n",
    "       'urban_suburb', 'district', 'holiday', 'special', 'vacation', 'time',\n",
    "       'inter_num', 'd1', 'd2', 'd3', 'd4', 'victims', 'severity',\n",
    "       'accident_count', 'temperature', 'wind', 'rain', 'snow', 'cctv', 'kids',\n",
    "       'speed_limit', 'entrance', 'signal', 'SO2', 'CO', 'O3', 'NO2', 'PM10',\n",
    "       'PM2.5', 'month', 'weekend']\n",
    "\n",
    "X_base_train = train[base_cols]\n",
    "y_base_train = train['y']\n",
    "y_log_base_train = train['logy']\n",
    "\n",
    "X_base_test = test[base_cols]\n",
    "y_base_test = test['y']\n",
    "y_log_base_test = test['logy']"
   ]
  },
  {
   "cell_type": "code",
   "execution_count": 13,
   "metadata": {
    "ExecuteTime": {
     "end_time": "2019-06-16T10:03:36.240806Z",
     "start_time": "2019-06-16T10:03:36.136777Z"
    }
   },
   "outputs": [],
   "source": [
    "from sklearn.metrics import mean_squared_error\n",
    "\n",
    "def rmse(y_true, y_pred) : \n",
    "    return np.sqrt(mean_squared_error(y_true, y_pred))"
   ]
  },
  {
   "cell_type": "markdown",
   "metadata": {},
   "source": [
    "## linear regression"
   ]
  },
  {
   "cell_type": "code",
   "execution_count": 79,
   "metadata": {
    "ExecuteTime": {
     "end_time": "2019-06-08T06:01:41.873713Z",
     "start_time": "2019-06-08T06:01:41.868727Z"
    }
   },
   "outputs": [],
   "source": [
    "from sklearn.linear_model import LinearRegression\n",
    "lr = LinearRegression()"
   ]
  },
  {
   "cell_type": "code",
   "execution_count": null,
   "metadata": {},
   "outputs": [],
   "source": [
    "from sklearn.model_selection import KFold\n",
    "kf = KFold(n_splits=5, random_state=333)"
   ]
  },
  {
   "cell_type": "code",
   "execution_count": 160,
   "metadata": {
    "ExecuteTime": {
     "end_time": "2019-06-08T07:20:28.101517Z",
     "start_time": "2019-06-08T07:20:28.033701Z"
    }
   },
   "outputs": [],
   "source": [
    "def model_cv_test(model, train_X, train_y, test_X, test_y, is_log) :\n",
    "\n",
    "    train_rmse = []\n",
    "    valid_rmse = []\n",
    "    \n",
    "    print('##### {} #####'.format(model.__class__.__name__))\n",
    "        \n",
    "    for i, (train_idx, val_idx) in enumerate(kf.split(train_X)):\n",
    "        X_train, X_val = train_X.iloc[train_idx, :], train_X.iloc[val_idx, :]\n",
    "        y_train, y_val = train_y[train_idx], train_y[val_idx]\n",
    "\n",
    "        model.fit(X_train, y_train)\n",
    "        \n",
    "        if is_log :\n",
    "            y_train = np.expm1(y_train)\n",
    "            y_val = np.expm1(y_val)\n",
    "            pred_train = np.expm1(model.predict(X_train))\n",
    "            pred_valid = np.expm1(model.predict(X_val))\n",
    "        else :\n",
    "            pred_train = model.predict(X_train)\n",
    "            pred_valid = model.predict(X_val)\n",
    "\n",
    "        print('{0} fold train rmse : {1:.3f} valid rmse : {2:.3f}'.format(i, rmse(y_train, pred_train), rmse(y_val, pred_valid)))\n",
    "        \n",
    "        train_rmse.append(rmse(y_train, pred_train))\n",
    "        valid_rmse.append(rmse(y_val, pred_valid))\n",
    "\n",
    "    print('\\n')    \n",
    "    print('mean train rmse : {0:.3f} mean valid rmse : {1:.3f}'.format(np.mean(train_rmse), np.mean(valid_rmse)))\n",
    "\n",
    "    \n",
    "    model.fit(train_X, train_y)\n",
    "    \n",
    "    if is_log :\n",
    "        test_y = np.expm1(test_y)\n",
    "        pred_test = np.expm1(model.predict(test_X))\n",
    "    else :\n",
    "        pred_test = model.predict(test_X)\n",
    "    \n",
    "    print('test rmse {0:.3f} '.format(rmse(test_y, pred_test)))"
   ]
  },
  {
   "cell_type": "code",
   "execution_count": 161,
   "metadata": {
    "ExecuteTime": {
     "end_time": "2019-06-08T07:20:37.957672Z",
     "start_time": "2019-06-08T07:20:28.649380Z"
    }
   },
   "outputs": [
    {
     "name": "stdout",
     "output_type": "stream",
     "text": [
      "##### LinearRegression #####\n",
      "0 fold train rmse : 10.590 valid rmse : 10.631\n",
      "1 fold train rmse : 10.591 valid rmse : 10.628\n",
      "2 fold train rmse : 10.609 valid rmse : 10.546\n",
      "3 fold train rmse : 10.596 valid rmse : 10.600\n",
      "4 fold train rmse : 10.597 valid rmse : 10.578\n",
      "\n",
      "\n",
      "mean train rmse : 10.596 mean valid rmse : 10.597\n",
      "test rmse 10.602 \n"
     ]
    }
   ],
   "source": [
    "#log transformation\n",
    "model_cv_test(lr, X_base_train, y_log_base_train, X_base_test, y_log_base_test, True)"
   ]
  },
  {
   "cell_type": "code",
   "execution_count": 162,
   "metadata": {
    "ExecuteTime": {
     "end_time": "2019-06-08T07:20:47.027254Z",
     "start_time": "2019-06-08T07:20:37.961036Z"
    }
   },
   "outputs": [
    {
     "name": "stdout",
     "output_type": "stream",
     "text": [
      "##### LinearRegression #####\n",
      "0 fold train rmse : 10.323 valid rmse : 10.358\n",
      "1 fold train rmse : 10.325 valid rmse : 10.351\n",
      "2 fold train rmse : 10.342 valid rmse : 10.280\n",
      "3 fold train rmse : 10.328 valid rmse : 10.339\n",
      "4 fold train rmse : 10.331 valid rmse : 10.324\n",
      "\n",
      "\n",
      "mean train rmse : 10.330 mean valid rmse : 10.330\n",
      "test rmse 10.339 \n"
     ]
    }
   ],
   "source": [
    "model_cv_test(lr, X_base_train, y_base_train, X_base_test, y_base_test, False)"
   ]
  },
  {
   "cell_type": "markdown",
   "metadata": {},
   "source": [
    "## random forest"
   ]
  },
  {
   "cell_type": "code",
   "execution_count": 16,
   "metadata": {
    "ExecuteTime": {
     "end_time": "2019-06-16T10:04:04.312509Z",
     "start_time": "2019-06-16T10:04:03.966312Z"
    }
   },
   "outputs": [],
   "source": [
    "from sklearn.ensemble import RandomForestRegressor\n",
    "rf = RandomForestRegressor(n_jobs = -1)"
   ]
  },
  {
   "cell_type": "code",
   "execution_count": 120,
   "metadata": {
    "ExecuteTime": {
     "end_time": "2019-06-08T06:45:25.703034Z",
     "start_time": "2019-06-08T06:39:05.648023Z"
    }
   },
   "outputs": [
    {
     "name": "stdout",
     "output_type": "stream",
     "text": [
      "##### RandomForestRegressor #####\n"
     ]
    },
    {
     "name": "stderr",
     "output_type": "stream",
     "text": [
      "C:\\Users\\wjssm\\Anaconda3\\lib\\site-packages\\sklearn\\ensemble\\forest.py:246: FutureWarning: The default value of n_estimators will change from 10 in version 0.20 to 100 in 0.22.\n",
      "  \"10 in version 0.20 to 100 in 0.22.\", FutureWarning)\n"
     ]
    },
    {
     "name": "stdout",
     "output_type": "stream",
     "text": [
      "0 fold train rmse : 1.475 valid rmse : 3.460\n",
      "1 fold train rmse : 1.467 valid rmse : 3.450\n",
      "2 fold train rmse : 1.470 valid rmse : 3.455\n",
      "3 fold train rmse : 1.467 valid rmse : 3.474\n",
      "4 fold train rmse : 1.475 valid rmse : 3.438\n",
      "\n",
      "\n",
      "mean train rmse : 1.471 mean valid rmse : 3.455\n",
      "test rmse {0:.3f}:  3.345235238546796\n"
     ]
    }
   ],
   "source": [
    "model_cv_test(rf, X_base_train, y_base_train, X_base_test, y_base_test, False)"
   ]
  },
  {
   "cell_type": "code",
   "execution_count": 164,
   "metadata": {
    "ExecuteTime": {
     "end_time": "2019-06-08T07:28:17.150325Z",
     "start_time": "2019-06-08T07:21:50.257994Z"
    }
   },
   "outputs": [
    {
     "name": "stdout",
     "output_type": "stream",
     "text": [
      "##### RandomForestRegressor #####\n",
      "0 fold train rmse : 1.522 valid rmse : 3.506\n",
      "1 fold train rmse : 1.528 valid rmse : 3.490\n",
      "2 fold train rmse : 1.533 valid rmse : 3.515\n",
      "3 fold train rmse : 1.525 valid rmse : 3.531\n",
      "4 fold train rmse : 1.530 valid rmse : 3.502\n",
      "\n",
      "\n",
      "mean train rmse : 1.528 mean valid rmse : 3.509\n",
      "test rmse 3.388 \n"
     ]
    }
   ],
   "source": [
    "#log transformation\n",
    "model_cv_test(rf, X_base_train, y_log_base_train, X_base_test, y_log_base_test, True)"
   ]
  },
  {
   "cell_type": "code",
   "execution_count": 124,
   "metadata": {
    "ExecuteTime": {
     "end_time": "2019-06-08T06:49:46.241260Z",
     "start_time": "2019-06-08T06:48:27.341875Z"
    }
   },
   "outputs": [],
   "source": [
    "rf.fit(X_base_train,  y_base_train)\n",
    "rf_pred = rf.predict(X_base_test)"
   ]
  },
  {
   "cell_type": "code",
   "execution_count": 127,
   "metadata": {
    "ExecuteTime": {
     "end_time": "2019-06-08T06:51:35.094413Z",
     "start_time": "2019-06-08T06:51:29.349339Z"
    }
   },
   "outputs": [
    {
     "data": {
      "text/plain": [
       "<matplotlib.collections.PathCollection at 0x170a2a1b7b8>"
      ]
     },
     "execution_count": 127,
     "metadata": {},
     "output_type": "execute_result"
    },
    {
     "data": {
      "image/png": "[encoded data removed]",
      "text/plain": [
       "<Figure size 432x288 with 1 Axes>"
      ]
     },
     "metadata": {
      "needs_background": "light"
     },
     "output_type": "display_data"
    }
   ],
   "source": [
    "plt.scatter(y_base_test, rf_pred)"
   ]
  },
  {
   "cell_type": "code",
   "execution_count": 126,
   "metadata": {
    "ExecuteTime": {
     "end_time": "2019-06-08T06:50:37.139171Z",
     "start_time": "2019-06-08T06:50:36.726594Z"
    }
   },
   "outputs": [
    {
     "data": {
      "image/png": "[encoded data removed]",
      "text/plain": [
       "<Figure size 1080x504 with 1 Axes>"
      ]
     },
     "metadata": {
      "needs_background": "light"
     },
     "output_type": "display_data"
    }
   ],
   "source": [
    "plt.figure(figsize = (15,7))\n",
    "features = X_base_train.columns\n",
    "importances = rf.feature_importances_\n",
    "indices = np.argsort(importances)\n",
    "\n",
    "plt.title('Feature Importances')\n",
    "plt.barh(range(len(indices)), importances[indices], color='b', align='center')\n",
    "plt.yticks(range(len(indices)), [features[i] for i in indices])\n",
    "plt.xlabel('Relative Importance')\n",
    "plt.show()"
   ]
  },
  {
   "cell_type": "code",
   "execution_count": 165,
   "metadata": {
    "ExecuteTime": {
     "end_time": "2019-06-08T07:30:15.541402Z",
     "start_time": "2019-06-08T07:28:55.201137Z"
    }
   },
   "outputs": [
    {
     "data": {
      "text/plain": [
       "<matplotlib.collections.PathCollection at 0x170c4fa3da0>"
      ]
     },
     "execution_count": 165,
     "metadata": {},
     "output_type": "execute_result"
    },
    {
     "data": {
      "image/png": "[encoded data removed]",
      "text/plain": [
       "<Figure size 432x288 with 1 Axes>"
      ]
     },
     "metadata": {
      "needs_background": "light"
     },
     "output_type": "display_data"
    }
   ],
   "source": [
    "rf.fit(X_base_train,  y_log_base_train)\n",
    "rf_pred = np.expm1(rf.predict(X_base_test))\n",
    "\n",
    "plt.scatter(y_base_test, rf_pred)"
   ]
  },
  {
   "cell_type": "markdown",
   "metadata": {},
   "source": [
    "# add weather features"
   ]
  },
  {
   "cell_type": "code",
   "execution_count": 14,
   "metadata": {
    "ExecuteTime": {
     "end_time": "2019-06-16T10:03:54.316595Z",
     "start_time": "2019-06-16T10:03:53.918374Z"
    }
   },
   "outputs": [],
   "source": [
    "X_train = train.drop(['y','logy'], axis = 1)\n",
    "y_train = train['y']\n",
    "y_log_train = train['logy']\n",
    "\n",
    "X_test = test.drop(['y','logy'], axis = 1)\n",
    "y_test = test['y']\n",
    "y_log_test = test['logy']"
   ]
  },
  {
   "cell_type": "code",
   "execution_count": 172,
   "metadata": {
    "ExecuteTime": {
     "end_time": "2019-06-08T07:55:00.170337Z",
     "start_time": "2019-06-08T07:42:02.870683Z"
    }
   },
   "outputs": [
    {
     "name": "stdout",
     "output_type": "stream",
     "text": [
      "##### RandomForestRegressor #####\n",
      "0 fold train rmse : 1.477 valid rmse : 3.451\n",
      "1 fold train rmse : 1.477 valid rmse : 3.455\n",
      "2 fold train rmse : 1.472 valid rmse : 3.465\n",
      "3 fold train rmse : 1.470 valid rmse : 3.485\n",
      "4 fold train rmse : 1.479 valid rmse : 3.442\n",
      "\n",
      "\n",
      "mean train rmse : 1.475 mean valid rmse : 3.459\n",
      "test rmse 3.339 \n"
     ]
    }
   ],
   "source": [
    "model_cv_test(rf, X_train, y_train, X_test, y_test, False)"
   ]
  },
  {
   "cell_type": "code",
   "execution_count": 17,
   "metadata": {
    "ExecuteTime": {
     "end_time": "2019-06-16T10:06:53.919492Z",
     "start_time": "2019-06-16T10:04:12.446060Z"
    }
   },
   "outputs": [],
   "source": [
    "rf.fit(X_train, y_train)\n",
    "rf_pred = rf.predict(X_test)"
   ]
  },
  {
   "cell_type": "code",
   "execution_count": 174,
   "metadata": {
    "ExecuteTime": {
     "end_time": "2019-06-08T07:57:30.405971Z",
     "start_time": "2019-06-08T07:57:29.361729Z"
    }
   },
   "outputs": [
    {
     "data": {
      "image/png": "[encoded data removed]",
      "text/plain": [
       "<Figure size 1080x504 with 1 Axes>"
      ]
     },
     "metadata": {
      "needs_background": "light"
     },
     "output_type": "display_data"
    }
   ],
   "source": [
    "plt.figure(figsize = (15,7))\n",
    "features = X_train.columns\n",
    "importances = rf.feature_importances_\n",
    "indices = np.argsort(importances)\n",
    "\n",
    "plt.title('Feature Importances')\n",
    "plt.barh(range(len(indices)), importances[indices], color='b', align='center')\n",
    "plt.yticks(range(len(indices)), [features[i] for i in indices])\n",
    "plt.xlabel('Relative Importance')\n",
    "plt.show()"
   ]
  },
  {
   "cell_type": "code",
   "execution_count": 175,
   "metadata": {
    "ExecuteTime": {
     "end_time": "2019-06-08T08:11:43.995825Z",
     "start_time": "2019-06-08T07:58:43.430351Z"
    }
   },
   "outputs": [
    {
     "name": "stdout",
     "output_type": "stream",
     "text": [
      "##### RandomForestRegressor #####\n",
      "0 fold train rmse : 1.537 valid rmse : 3.512\n",
      "1 fold train rmse : 1.531 valid rmse : 3.485\n",
      "2 fold train rmse : 1.531 valid rmse : 3.502\n",
      "3 fold train rmse : 1.524 valid rmse : 3.529\n",
      "4 fold train rmse : 1.527 valid rmse : 3.501\n",
      "\n",
      "\n",
      "mean train rmse : 1.530 mean valid rmse : 3.506\n",
      "test rmse 3.402 \n"
     ]
    }
   ],
   "source": [
    "#log transformation\n",
    "model_cv_test(rf, X_train, y_log_train, X_test, y_log_test, True)"
   ]
  },
  {
   "cell_type": "markdown",
   "metadata": {},
   "source": [
    "# PDP"
   ]
  },
  {
   "cell_type": "code",
   "execution_count": 29,
   "metadata": {
    "ExecuteTime": {
     "end_time": "2019-06-16T10:20:47.715479Z",
     "start_time": "2019-06-16T10:20:47.707088Z"
    }
   },
   "outputs": [],
   "source": [
    "from sklearn.ensemble.partial_dependence import partial_dependence, plot_partial_dependence"
   ]
  },
  {
   "cell_type": "code",
   "execution_count": null,
   "metadata": {},
   "outputs": [],
   "source": [
    "rf.fit(X_train, y_train)\n",
    "rf_pred = rf.predict(X_test)"
   ]
  },
  {
   "cell_type": "code",
   "execution_count": 30,
   "metadata": {
    "ExecuteTime": {
     "end_time": "2019-06-16T10:21:41.094027Z",
     "start_time": "2019-06-16T10:21:41.083737Z"
    }
   },
   "outputs": [],
   "source": [
    "cols = ['CO','rain']"
   ]
  },
  {
   "cell_type": "code",
   "execution_count": 31,
   "metadata": {
    "ExecuteTime": {
     "end_time": "2019-06-16T10:22:18.634949Z",
     "start_time": "2019-06-16T10:22:18.587972Z"
    }
   },
   "outputs": [
    {
     "ename": "ValueError",
     "evalue": "gbrt has to be an instance of BaseGradientBoosting",
     "output_type": "error",
     "traceback": [
      "\u001b[1;31m---------------------------------------------------------------------------\u001b[0m",
      "\u001b[1;31mValueError\u001b[0m                                Traceback (most recent call last)",
      "\u001b[1;32m<ipython-input-31-fdde6c4eed23>\u001b[0m in \u001b[0;36m<module>\u001b[1;34m\u001b[0m\n\u001b[1;32m----> 1\u001b[1;33m \u001b[0mfig\u001b[0m\u001b[1;33m,\u001b[0m \u001b[0maxs\u001b[0m \u001b[1;33m=\u001b[0m \u001b[0mplot_partial_dependence\u001b[0m\u001b[1;33m(\u001b[0m\u001b[0mrf\u001b[0m\u001b[1;33m,\u001b[0m \u001b[0mX_train\u001b[0m\u001b[1;33m[\u001b[0m\u001b[0mcols\u001b[0m\u001b[1;33m]\u001b[0m\u001b[1;33m,\u001b[0m \u001b[0mcols\u001b[0m\u001b[1;33m,\u001b[0m \u001b[0mfeature_names\u001b[0m\u001b[1;33m=\u001b[0m\u001b[0mcols\u001b[0m\u001b[1;33m,\u001b[0m \u001b[0mn_predictors\u001b[0m\u001b[1;33m=\u001b[0m\u001b[1;36m2\u001b[0m\u001b[1;33m,\u001b[0m \u001b[0mfigsize\u001b[0m\u001b[1;33m=\u001b[0m\u001b[1;33m(\u001b[0m\u001b[1;36m9\u001b[0m\u001b[1;33m,\u001b[0m\u001b[1;36m5\u001b[0m\u001b[1;33m)\u001b[0m\u001b[1;33m)\u001b[0m\u001b[1;33m\u001b[0m\u001b[1;33m\u001b[0m\u001b[0m\n\u001b[0m",
      "\u001b[1;32m~\\Anaconda3\\lib\\site-packages\\sklearn\\ensemble\\partial_dependence.py\u001b[0m in \u001b[0;36mplot_partial_dependence\u001b[1;34m(gbrt, X, features, feature_names, label, n_cols, grid_resolution, percentiles, n_jobs, verbose, ax, line_kw, contour_kw, **fig_kw)\u001b[0m\n\u001b[0;32m    245\u001b[0m \u001b[1;33m\u001b[0m\u001b[0m\n\u001b[0;32m    246\u001b[0m     \u001b[1;32mif\u001b[0m \u001b[1;32mnot\u001b[0m \u001b[0misinstance\u001b[0m\u001b[1;33m(\u001b[0m\u001b[0mgbrt\u001b[0m\u001b[1;33m,\u001b[0m \u001b[0mBaseGradientBoosting\u001b[0m\u001b[1;33m)\u001b[0m\u001b[1;33m:\u001b[0m\u001b[1;33m\u001b[0m\u001b[1;33m\u001b[0m\u001b[0m\n\u001b[1;32m--> 247\u001b[1;33m         \u001b[1;32mraise\u001b[0m \u001b[0mValueError\u001b[0m\u001b[1;33m(\u001b[0m\u001b[1;34m'gbrt has to be an instance of BaseGradientBoosting'\u001b[0m\u001b[1;33m)\u001b[0m\u001b[1;33m\u001b[0m\u001b[1;33m\u001b[0m\u001b[0m\n\u001b[0m\u001b[0;32m    248\u001b[0m     \u001b[0mcheck_is_fitted\u001b[0m\u001b[1;33m(\u001b[0m\u001b[0mgbrt\u001b[0m\u001b[1;33m,\u001b[0m \u001b[1;34m'estimators_'\u001b[0m\u001b[1;33m)\u001b[0m\u001b[1;33m\u001b[0m\u001b[1;33m\u001b[0m\u001b[0m\n\u001b[0;32m    249\u001b[0m \u001b[1;33m\u001b[0m\u001b[0m\n",
      "\u001b[1;31mValueError\u001b[0m: gbrt has to be an instance of BaseGradientBoosting"
     ]
    }
   ],
   "source": [
    "fig, axs = plot_partial_dependence(rf, X_train[cols], cols, feature_names=cols, n_predictors=2, figsize=(9,5))"
   ]
  },
  {
   "cell_type": "markdown",
   "metadata": {},
   "source": [
    "# EDA"
   ]
  },
  {
   "cell_type": "code",
   "execution_count": 19,
   "metadata": {
    "ExecuteTime": {
     "end_time": "2019-06-16T10:12:53.815909Z",
     "start_time": "2019-06-16T10:12:53.806052Z"
    }
   },
   "outputs": [
    {
     "data": {
      "text/plain": [
       "Index(['days', 'direction', 'road_length', 'road_num', 'road_type',\n",
       "       'urban_suburb', 'district', 'holiday', 'special', 'vacation', 'time',\n",
       "       'inter_num', 'd1', 'd2', 'd3', 'd4', 'victims', 'severity',\n",
       "       'accident_count', 'temperature', 'wind', 'rain', 'snow', 'cctv', 'kids',\n",
       "       'speed_limit', 'entrance', 'signal', 'SO2', 'CO', 'O3', 'NO2', 'PM10',\n",
       "       'PM2.5', 'month', 'weekend', 'y', 'train', 'logy', 'dust_PM10_level',\n",
       "       'dust_PM2_level', 'rain_level', 'wind_level', 'O3_level', 'temp_level'],\n",
       "      dtype='object')"
      ]
     },
     "execution_count": 19,
     "metadata": {},
     "output_type": "execute_result"
    }
   ],
   "source": [
    "df.columns"
   ]
  },
  {
   "cell_type": "code",
   "execution_count": 20,
   "metadata": {
    "ExecuteTime": {
     "end_time": "2019-06-16T10:13:10.285872Z",
     "start_time": "2019-06-16T10:13:10.236304Z"
    }
   },
   "outputs": [
    {
     "data": {
      "text/html": [
       "<div>\n",
       "<style scoped>\n",
       "    .dataframe tbody tr th:only-of-type {\n",
       "        vertical-align: middle;\n",
       "    }\n",
       "\n",
       "    .dataframe tbody tr th {\n",
       "        vertical-align: top;\n",
       "    }\n",
       "\n",
       "    .dataframe thead th {\n",
       "        text-align: right;\n",
       "    }\n",
       "</style>\n",
       "<table border=\"1\" class=\"dataframe\">\n",
       "  <thead>\n",
       "    <tr style=\"text-align: right;\">\n",
       "      <th></th>\n",
       "      <th>days</th>\n",
       "      <th>direction</th>\n",
       "      <th>road_length</th>\n",
       "      <th>road_num</th>\n",
       "      <th>road_type</th>\n",
       "      <th>urban_suburb</th>\n",
       "      <th>district</th>\n",
       "      <th>holiday</th>\n",
       "      <th>special</th>\n",
       "      <th>vacation</th>\n",
       "      <th>time</th>\n",
       "      <th>inter_num</th>\n",
       "      <th>d1</th>\n",
       "      <th>d2</th>\n",
       "      <th>d3</th>\n",
       "      <th>d4</th>\n",
       "      <th>victims</th>\n",
       "      <th>severity</th>\n",
       "      <th>accident_count</th>\n",
       "      <th>temperature</th>\n",
       "      <th>wind</th>\n",
       "      <th>rain</th>\n",
       "      <th>snow</th>\n",
       "      <th>cctv</th>\n",
       "      <th>kids</th>\n",
       "      <th>speed_limit</th>\n",
       "      <th>entrance</th>\n",
       "      <th>signal</th>\n",
       "      <th>SO2</th>\n",
       "      <th>CO</th>\n",
       "      <th>O3</th>\n",
       "      <th>NO2</th>\n",
       "      <th>PM10</th>\n",
       "      <th>PM2.5</th>\n",
       "      <th>month</th>\n",
       "      <th>weekend</th>\n",
       "      <th>y</th>\n",
       "      <th>train</th>\n",
       "      <th>logy</th>\n",
       "      <th>dust_PM10_level</th>\n",
       "      <th>dust_PM2_level</th>\n",
       "      <th>rain_level</th>\n",
       "      <th>wind_level</th>\n",
       "      <th>O3_level</th>\n",
       "      <th>temp_level</th>\n",
       "    </tr>\n",
       "  </thead>\n",
       "  <tbody>\n",
       "    <tr>\n",
       "      <th>0</th>\n",
       "      <td>3</td>\n",
       "      <td>1</td>\n",
       "      <td>484</td>\n",
       "      <td>4.0</td>\n",
       "      <td>3</td>\n",
       "      <td>0</td>\n",
       "      <td>0</td>\n",
       "      <td>0</td>\n",
       "      <td>0</td>\n",
       "      <td>0</td>\n",
       "      <td>12</td>\n",
       "      <td>14.0</td>\n",
       "      <td>1</td>\n",
       "      <td>63</td>\n",
       "      <td>307</td>\n",
       "      <td>34</td>\n",
       "      <td>405</td>\n",
       "      <td>1156</td>\n",
       "      <td>246</td>\n",
       "      <td>10.5</td>\n",
       "      <td>1.1</td>\n",
       "      <td>0.0</td>\n",
       "      <td>0.0</td>\n",
       "      <td>1.0</td>\n",
       "      <td>0.0</td>\n",
       "      <td>60.0</td>\n",
       "      <td>76.0</td>\n",
       "      <td>68.0</td>\n",
       "      <td>0.007</td>\n",
       "      <td>0.6</td>\n",
       "      <td>0.002</td>\n",
       "      <td>0.055</td>\n",
       "      <td>36.0</td>\n",
       "      <td>20.0</td>\n",
       "      <td>11</td>\n",
       "      <td>0</td>\n",
       "      <td>28.16</td>\n",
       "      <td>1</td>\n",
       "      <td>3.372798</td>\n",
       "      <td>1</td>\n",
       "      <td>1</td>\n",
       "      <td>0</td>\n",
       "      <td>0</td>\n",
       "      <td>0</td>\n",
       "      <td>2</td>\n",
       "    </tr>\n",
       "    <tr>\n",
       "      <th>1</th>\n",
       "      <td>5</td>\n",
       "      <td>0</td>\n",
       "      <td>851</td>\n",
       "      <td>4.0</td>\n",
       "      <td>3</td>\n",
       "      <td>0</td>\n",
       "      <td>0</td>\n",
       "      <td>0</td>\n",
       "      <td>0</td>\n",
       "      <td>0</td>\n",
       "      <td>11</td>\n",
       "      <td>28.0</td>\n",
       "      <td>3</td>\n",
       "      <td>132</td>\n",
       "      <td>434</td>\n",
       "      <td>52</td>\n",
       "      <td>621</td>\n",
       "      <td>1786</td>\n",
       "      <td>419</td>\n",
       "      <td>31.8</td>\n",
       "      <td>1.9</td>\n",
       "      <td>0.0</td>\n",
       "      <td>0.0</td>\n",
       "      <td>0.0</td>\n",
       "      <td>0.0</td>\n",
       "      <td>50.0</td>\n",
       "      <td>64.0</td>\n",
       "      <td>115.0</td>\n",
       "      <td>0.006</td>\n",
       "      <td>0.3</td>\n",
       "      <td>0.020</td>\n",
       "      <td>0.027</td>\n",
       "      <td>29.0</td>\n",
       "      <td>21.0</td>\n",
       "      <td>7</td>\n",
       "      <td>1</td>\n",
       "      <td>36.57</td>\n",
       "      <td>1</td>\n",
       "      <td>3.626206</td>\n",
       "      <td>0</td>\n",
       "      <td>1</td>\n",
       "      <td>0</td>\n",
       "      <td>0</td>\n",
       "      <td>0</td>\n",
       "      <td>4</td>\n",
       "    </tr>\n",
       "    <tr>\n",
       "      <th>2</th>\n",
       "      <td>3</td>\n",
       "      <td>1</td>\n",
       "      <td>652</td>\n",
       "      <td>7.0</td>\n",
       "      <td>3</td>\n",
       "      <td>0</td>\n",
       "      <td>0</td>\n",
       "      <td>0</td>\n",
       "      <td>0</td>\n",
       "      <td>0</td>\n",
       "      <td>12</td>\n",
       "      <td>12.0</td>\n",
       "      <td>2</td>\n",
       "      <td>39</td>\n",
       "      <td>177</td>\n",
       "      <td>27</td>\n",
       "      <td>245</td>\n",
       "      <td>699</td>\n",
       "      <td>140</td>\n",
       "      <td>22.4</td>\n",
       "      <td>1.1</td>\n",
       "      <td>0.0</td>\n",
       "      <td>0.0</td>\n",
       "      <td>6.0</td>\n",
       "      <td>0.0</td>\n",
       "      <td>60.0</td>\n",
       "      <td>35.0</td>\n",
       "      <td>44.0</td>\n",
       "      <td>0.005</td>\n",
       "      <td>0.5</td>\n",
       "      <td>0.019</td>\n",
       "      <td>0.037</td>\n",
       "      <td>23.0</td>\n",
       "      <td>11.0</td>\n",
       "      <td>9</td>\n",
       "      <td>0</td>\n",
       "      <td>26.26</td>\n",
       "      <td>1</td>\n",
       "      <td>3.305420</td>\n",
       "      <td>0</td>\n",
       "      <td>0</td>\n",
       "      <td>0</td>\n",
       "      <td>0</td>\n",
       "      <td>0</td>\n",
       "      <td>3</td>\n",
       "    </tr>\n",
       "    <tr>\n",
       "      <th>3</th>\n",
       "      <td>5</td>\n",
       "      <td>1</td>\n",
       "      <td>291</td>\n",
       "      <td>2.0</td>\n",
       "      <td>3</td>\n",
       "      <td>0</td>\n",
       "      <td>0</td>\n",
       "      <td>0</td>\n",
       "      <td>0</td>\n",
       "      <td>0</td>\n",
       "      <td>2</td>\n",
       "      <td>7.0</td>\n",
       "      <td>0</td>\n",
       "      <td>43</td>\n",
       "      <td>158</td>\n",
       "      <td>21</td>\n",
       "      <td>222</td>\n",
       "      <td>624</td>\n",
       "      <td>139</td>\n",
       "      <td>27.7</td>\n",
       "      <td>1.9</td>\n",
       "      <td>0.0</td>\n",
       "      <td>0.0</td>\n",
       "      <td>0.0</td>\n",
       "      <td>0.0</td>\n",
       "      <td>60.0</td>\n",
       "      <td>61.0</td>\n",
       "      <td>42.0</td>\n",
       "      <td>0.005</td>\n",
       "      <td>0.5</td>\n",
       "      <td>0.030</td>\n",
       "      <td>0.026</td>\n",
       "      <td>50.0</td>\n",
       "      <td>38.0</td>\n",
       "      <td>6</td>\n",
       "      <td>1</td>\n",
       "      <td>18.26</td>\n",
       "      <td>1</td>\n",
       "      <td>2.958030</td>\n",
       "      <td>1</td>\n",
       "      <td>2</td>\n",
       "      <td>0</td>\n",
       "      <td>0</td>\n",
       "      <td>0</td>\n",
       "      <td>3</td>\n",
       "    </tr>\n",
       "    <tr>\n",
       "      <th>4</th>\n",
       "      <td>0</td>\n",
       "      <td>0</td>\n",
       "      <td>798</td>\n",
       "      <td>4.0</td>\n",
       "      <td>3</td>\n",
       "      <td>0</td>\n",
       "      <td>0</td>\n",
       "      <td>0</td>\n",
       "      <td>0</td>\n",
       "      <td>0</td>\n",
       "      <td>7</td>\n",
       "      <td>45.0</td>\n",
       "      <td>4</td>\n",
       "      <td>215</td>\n",
       "      <td>799</td>\n",
       "      <td>81</td>\n",
       "      <td>1099</td>\n",
       "      <td>3171</td>\n",
       "      <td>749</td>\n",
       "      <td>11.8</td>\n",
       "      <td>2.0</td>\n",
       "      <td>0.0</td>\n",
       "      <td>0.0</td>\n",
       "      <td>4.0</td>\n",
       "      <td>0.0</td>\n",
       "      <td>50.0</td>\n",
       "      <td>301.0</td>\n",
       "      <td>91.0</td>\n",
       "      <td>0.006</td>\n",
       "      <td>0.6</td>\n",
       "      <td>0.023</td>\n",
       "      <td>0.029</td>\n",
       "      <td>40.0</td>\n",
       "      <td>28.0</td>\n",
       "      <td>11</td>\n",
       "      <td>0</td>\n",
       "      <td>18.51</td>\n",
       "      <td>1</td>\n",
       "      <td>2.970927</td>\n",
       "      <td>1</td>\n",
       "      <td>1</td>\n",
       "      <td>0</td>\n",
       "      <td>0</td>\n",
       "      <td>0</td>\n",
       "      <td>2</td>\n",
       "    </tr>\n",
       "  </tbody>\n",
       "</table>\n",
       "</div>"
      ],
      "text/plain": [
       "   days  direction  road_length  road_num  road_type  urban_suburb  district  \\\n",
       "0     3          1          484       4.0          3             0         0   \n",
       "1     5          0          851       4.0          3             0         0   \n",
       "2     3          1          652       7.0          3             0         0   \n",
       "3     5          1          291       2.0          3             0         0   \n",
       "4     0          0          798       4.0          3             0         0   \n",
       "\n",
       "   holiday  special  vacation  time  inter_num  d1   d2   d3  d4  victims  \\\n",
       "0        0        0         0    12       14.0   1   63  307  34      405   \n",
       "1        0        0         0    11       28.0   3  132  434  52      621   \n",
       "2        0        0         0    12       12.0   2   39  177  27      245   \n",
       "3        0        0         0     2        7.0   0   43  158  21      222   \n",
       "4        0        0         0     7       45.0   4  215  799  81     1099   \n",
       "\n",
       "   severity  accident_count  temperature  wind  rain  snow  cctv  kids  \\\n",
       "0      1156             246         10.5   1.1   0.0   0.0   1.0   0.0   \n",
       "1      1786             419         31.8   1.9   0.0   0.0   0.0   0.0   \n",
       "2       699             140         22.4   1.1   0.0   0.0   6.0   0.0   \n",
       "3       624             139         27.7   1.9   0.0   0.0   0.0   0.0   \n",
       "4      3171             749         11.8   2.0   0.0   0.0   4.0   0.0   \n",
       "\n",
       "   speed_limit  entrance  signal    SO2   CO     O3    NO2  PM10  PM2.5  \\\n",
       "0         60.0      76.0    68.0  0.007  0.6  0.002  0.055  36.0   20.0   \n",
       "1         50.0      64.0   115.0  0.006  0.3  0.020  0.027  29.0   21.0   \n",
       "2         60.0      35.0    44.0  0.005  0.5  0.019  0.037  23.0   11.0   \n",
       "3         60.0      61.0    42.0  0.005  0.5  0.030  0.026  50.0   38.0   \n",
       "4         50.0     301.0    91.0  0.006  0.6  0.023  0.029  40.0   28.0   \n",
       "\n",
       "   month  weekend      y  train      logy  dust_PM10_level  dust_PM2_level  \\\n",
       "0     11        0  28.16      1  3.372798                1               1   \n",
       "1      7        1  36.57      1  3.626206                0               1   \n",
       "2      9        0  26.26      1  3.305420                0               0   \n",
       "3      6        1  18.26      1  2.958030                1               2   \n",
       "4     11        0  18.51      1  2.970927                1               1   \n",
       "\n",
       "   rain_level  wind_level  O3_level temp_level  \n",
       "0           0           0         0          2  \n",
       "1           0           0         0          4  \n",
       "2           0           0         0          3  \n",
       "3           0           0         0          3  \n",
       "4           0           0         0          2  "
      ]
     },
     "execution_count": 20,
     "metadata": {},
     "output_type": "execute_result"
    }
   ],
   "source": [
    "df.head()"
   ]
  },
  {
   "cell_type": "code",
   "execution_count": 25,
   "metadata": {
    "ExecuteTime": {
     "end_time": "2019-06-16T10:15:09.133170Z",
     "start_time": "2019-06-16T10:15:08.943664Z"
    }
   },
   "outputs": [
    {
     "data": {
      "text/html": [
       "<div>\n",
       "<style scoped>\n",
       "    .dataframe tbody tr th:only-of-type {\n",
       "        vertical-align: middle;\n",
       "    }\n",
       "\n",
       "    .dataframe tbody tr th {\n",
       "        vertical-align: top;\n",
       "    }\n",
       "\n",
       "    .dataframe thead tr th {\n",
       "        text-align: left;\n",
       "    }\n",
       "\n",
       "    .dataframe thead tr:last-of-type th {\n",
       "        text-align: right;\n",
       "    }\n",
       "</style>\n",
       "<table border=\"1\" class=\"dataframe\">\n",
       "  <thead>\n",
       "    <tr>\n",
       "      <th></th>\n",
       "      <th colspan=\"14\" halign=\"left\">y</th>\n",
       "    </tr>\n",
       "    <tr>\n",
       "      <th>time</th>\n",
       "      <th>0</th>\n",
       "      <th>1</th>\n",
       "      <th>2</th>\n",
       "      <th>3</th>\n",
       "      <th>4</th>\n",
       "      <th>5</th>\n",
       "      <th>6</th>\n",
       "      <th>7</th>\n",
       "      <th>8</th>\n",
       "      <th>9</th>\n",
       "      <th>10</th>\n",
       "      <th>11</th>\n",
       "      <th>12</th>\n",
       "      <th>13</th>\n",
       "    </tr>\n",
       "    <tr>\n",
       "      <th>rain_level</th>\n",
       "      <th></th>\n",
       "      <th></th>\n",
       "      <th></th>\n",
       "      <th></th>\n",
       "      <th></th>\n",
       "      <th></th>\n",
       "      <th></th>\n",
       "      <th></th>\n",
       "      <th></th>\n",
       "      <th></th>\n",
       "      <th></th>\n",
       "      <th></th>\n",
       "      <th></th>\n",
       "      <th></th>\n",
       "    </tr>\n",
       "  </thead>\n",
       "  <tbody>\n",
       "    <tr>\n",
       "      <th>0</th>\n",
       "      <td>28.050414</td>\n",
       "      <td>27.028479</td>\n",
       "      <td>26.700734</td>\n",
       "      <td>27.231871</td>\n",
       "      <td>26.665026</td>\n",
       "      <td>25.396308</td>\n",
       "      <td>24.688923</td>\n",
       "      <td>24.087525</td>\n",
       "      <td>23.115905</td>\n",
       "      <td>22.544989</td>\n",
       "      <td>24.154486</td>\n",
       "      <td>27.711775</td>\n",
       "      <td>29.240351</td>\n",
       "      <td>29.847486</td>\n",
       "    </tr>\n",
       "    <tr>\n",
       "      <th>1</th>\n",
       "      <td>25.518062</td>\n",
       "      <td>26.416831</td>\n",
       "      <td>25.094026</td>\n",
       "      <td>25.269478</td>\n",
       "      <td>24.532984</td>\n",
       "      <td>24.374485</td>\n",
       "      <td>20.344184</td>\n",
       "      <td>22.867149</td>\n",
       "      <td>21.556089</td>\n",
       "      <td>20.814891</td>\n",
       "      <td>22.005386</td>\n",
       "      <td>24.884090</td>\n",
       "      <td>27.591841</td>\n",
       "      <td>28.051700</td>\n",
       "    </tr>\n",
       "  </tbody>\n",
       "</table>\n",
       "</div>"
      ],
      "text/plain": [
       "                    y                                                         \\\n",
       "time               0          1          2          3          4          5    \n",
       "rain_level                                                                     \n",
       "0           28.050414  27.028479  26.700734  27.231871  26.665026  25.396308   \n",
       "1           25.518062  26.416831  25.094026  25.269478  24.532984  24.374485   \n",
       "\n",
       "                                                                              \\\n",
       "time               6          7          8          9          10         11   \n",
       "rain_level                                                                     \n",
       "0           24.688923  24.087525  23.115905  22.544989  24.154486  27.711775   \n",
       "1           20.344184  22.867149  21.556089  20.814891  22.005386  24.884090   \n",
       "\n",
       "                                  \n",
       "time               12         13  \n",
       "rain_level                        \n",
       "0           29.240351  29.847486  \n",
       "1           27.591841  28.051700  "
      ]
     },
     "execution_count": 25,
     "metadata": {},
     "output_type": "execute_result"
    }
   ],
   "source": [
    "#강수별, 시간대별 평균 속도\n",
    "rain_time = pd.DataFrame(df.groupby(['rain_level','time'])['y'].mean())\n",
    "rain_time = rain_time.unstack()\n",
    "rain_time = rain_time.iloc[:2,]\n",
    "rain_time"
   ]
  },
  {
   "cell_type": "code",
   "execution_count": 26,
   "metadata": {
    "ExecuteTime": {
     "end_time": "2019-06-16T10:15:40.781410Z",
     "start_time": "2019-06-16T10:15:40.333087Z"
    }
   },
   "outputs": [
    {
     "data": {
      "text/plain": [
       "[]"
      ]
     },
     "execution_count": 26,
     "metadata": {},
     "output_type": "execute_result"
    },
    {
     "data": {
      "image/png": "[encoded data removed]",
      "text/plain": [
       "<Figure size 1224x504 with 1 Axes>"
      ]
     },
     "metadata": {
      "needs_background": "light"
     },
     "output_type": "display_data"
    }
   ],
   "source": [
    "plt.figure(figsize=(17,7))\n",
    "rain_time.loc[0, :].plot(label = '0',ls=\"--\",marker=\"o\")\n",
    "rain_time.loc[1, :].plot(label = '1',ls=\"--\",marker=\"o\")\n",
    "\n",
    "\n",
    "plt.xlabel('time')\n",
    "plt.legend()\n",
    "plt.plot()"
   ]
  },
  {
   "cell_type": "code",
   "execution_count": 27,
   "metadata": {
    "ExecuteTime": {
     "end_time": "2019-06-16T10:16:46.134275Z",
     "start_time": "2019-06-16T10:16:45.915887Z"
    }
   },
   "outputs": [
    {
     "data": {
      "text/html": [
       "<div>\n",
       "<style scoped>\n",
       "    .dataframe tbody tr th:only-of-type {\n",
       "        vertical-align: middle;\n",
       "    }\n",
       "\n",
       "    .dataframe tbody tr th {\n",
       "        vertical-align: top;\n",
       "    }\n",
       "\n",
       "    .dataframe thead tr th {\n",
       "        text-align: left;\n",
       "    }\n",
       "\n",
       "    .dataframe thead tr:last-of-type th {\n",
       "        text-align: right;\n",
       "    }\n",
       "</style>\n",
       "<table border=\"1\" class=\"dataframe\">\n",
       "  <thead>\n",
       "    <tr>\n",
       "      <th></th>\n",
       "      <th colspan=\"14\" halign=\"left\">y</th>\n",
       "    </tr>\n",
       "    <tr>\n",
       "      <th>time</th>\n",
       "      <th>0</th>\n",
       "      <th>1</th>\n",
       "      <th>2</th>\n",
       "      <th>3</th>\n",
       "      <th>4</th>\n",
       "      <th>5</th>\n",
       "      <th>6</th>\n",
       "      <th>7</th>\n",
       "      <th>8</th>\n",
       "      <th>9</th>\n",
       "      <th>10</th>\n",
       "      <th>11</th>\n",
       "      <th>12</th>\n",
       "      <th>13</th>\n",
       "    </tr>\n",
       "    <tr>\n",
       "      <th>wind_level</th>\n",
       "      <th></th>\n",
       "      <th></th>\n",
       "      <th></th>\n",
       "      <th></th>\n",
       "      <th></th>\n",
       "      <th></th>\n",
       "      <th></th>\n",
       "      <th></th>\n",
       "      <th></th>\n",
       "      <th></th>\n",
       "      <th></th>\n",
       "      <th></th>\n",
       "      <th></th>\n",
       "      <th></th>\n",
       "    </tr>\n",
       "  </thead>\n",
       "  <tbody>\n",
       "    <tr>\n",
       "      <th>0</th>\n",
       "      <td>27.964138</td>\n",
       "      <td>27.015996</td>\n",
       "      <td>26.683640</td>\n",
       "      <td>27.188384</td>\n",
       "      <td>26.629172</td>\n",
       "      <td>25.403041</td>\n",
       "      <td>24.663493</td>\n",
       "      <td>24.100831</td>\n",
       "      <td>23.098169</td>\n",
       "      <td>22.524629</td>\n",
       "      <td>24.135203</td>\n",
       "      <td>27.655673</td>\n",
       "      <td>29.211857</td>\n",
       "      <td>29.828957</td>\n",
       "    </tr>\n",
       "    <tr>\n",
       "      <th>1</th>\n",
       "      <td>30.920937</td>\n",
       "      <td>25.571525</td>\n",
       "      <td>26.318135</td>\n",
       "      <td>27.011664</td>\n",
       "      <td>26.864978</td>\n",
       "      <td>24.944248</td>\n",
       "      <td>24.738921</td>\n",
       "      <td>21.980170</td>\n",
       "      <td>21.750034</td>\n",
       "      <td>21.720476</td>\n",
       "      <td>23.600583</td>\n",
       "      <td>25.651497</td>\n",
       "      <td>28.265200</td>\n",
       "      <td>28.694456</td>\n",
       "    </tr>\n",
       "  </tbody>\n",
       "</table>\n",
       "</div>"
      ],
      "text/plain": [
       "                    y                                                         \\\n",
       "time               0          1          2          3          4          5    \n",
       "wind_level                                                                     \n",
       "0           27.964138  27.015996  26.683640  27.188384  26.629172  25.403041   \n",
       "1           30.920937  25.571525  26.318135  27.011664  26.864978  24.944248   \n",
       "\n",
       "                                                                              \\\n",
       "time               6          7          8          9          10         11   \n",
       "wind_level                                                                     \n",
       "0           24.663493  24.100831  23.098169  22.524629  24.135203  27.655673   \n",
       "1           24.738921  21.980170  21.750034  21.720476  23.600583  25.651497   \n",
       "\n",
       "                                  \n",
       "time               12         13  \n",
       "wind_level                        \n",
       "0           29.211857  29.828957  \n",
       "1           28.265200  28.694456  "
      ]
     },
     "execution_count": 27,
     "metadata": {},
     "output_type": "execute_result"
    }
   ],
   "source": [
    "#강수별, 시간대별 평균 속도\n",
    "wind_time = pd.DataFrame(df.groupby(['wind_level','time'])['y'].mean())\n",
    "wind_time = wind_time.unstack()\n",
    "\n",
    "wind_time"
   ]
  },
  {
   "cell_type": "code",
   "execution_count": 28,
   "metadata": {
    "ExecuteTime": {
     "end_time": "2019-06-16T10:16:56.418546Z",
     "start_time": "2019-06-16T10:16:55.996515Z"
    }
   },
   "outputs": [
    {
     "data": {
      "text/plain": [
       "[]"
      ]
     },
     "execution_count": 28,
     "metadata": {},
     "output_type": "execute_result"
    },
    {
     "data": {
      "image/png": "[encoded data removed]",
      "text/plain": [
       "<Figure size 1224x504 with 1 Axes>"
      ]
     },
     "metadata": {
      "needs_background": "light"
     },
     "output_type": "display_data"
    }
   ],
   "source": [
    "plt.figure(figsize=(17,7))\n",
    "wind_time.loc[0, :].plot(label = '0',ls=\"--\",marker=\"o\")\n",
    "wind_time.loc[1, :].plot(label = '1',ls=\"--\",marker=\"o\")\n",
    "\n",
    "\n",
    "plt.xlabel('time')\n",
    "plt.legend()\n",
    "plt.plot()"
   ]
  }
 ],
 "metadata": {
  "hide_input": false,
  "kernelspec": {
   "display_name": "Python 3",
   "language": "python",
   "name": "python3"
  },
  "language_info": {
   "codemirror_mode": {
    "name": "ipython",
    "version": 3
   },
   "file_extension": ".py",
   "mimetype": "text/x-python",
   "name": "python",
   "nbconvert_exporter": "python",
   "pygments_lexer": "ipython3",
   "version": "3.7.1"
  },
  "notify_time": "30",
  "toc": {
   "base_numbering": 1,
   "nav_menu": {},
   "number_sections": true,
   "sideBar": true,
   "skip_h1_title": false,
   "title_cell": "Table of Contents",
   "title_sidebar": "Contents",
   "toc_cell": false,
   "toc_position": {},
   "toc_section_display": true,
   "toc_window_display": true
  }
 },
 "nbformat": 4,
 "nbformat_minor": 2
}
