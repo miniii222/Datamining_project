{
 "cells": [
  {
   "cell_type": "code",
   "execution_count": 1,
   "metadata": {
    "ExecuteTime": {
     "end_time": "2019-06-08T03:25:03.699290Z",
     "start_time": "2019-06-08T03:25:00.930053Z"
    }
   },
   "outputs": [
    {
     "data": {
      "text/plain": [
       "['carspeed.csv',\n",
       " 'car_ej.csv',\n",
       " 'car_sm.csv',\n",
       " 'real_final.csv',\n",
       " 'test.csv',\n",
       " 'train.csv']"
      ]
     },
     "execution_count": 1,
     "metadata": {},
     "output_type": "execute_result"
    }
   ],
   "source": [
    "import pandas as pd\n",
    "import numpy as np\n",
    "import os\n",
    "\n",
    "import matplotlib.pyplot as plt\n",
    "import seaborn as sns\n",
    "\n",
    "os.listdir('../../data/final/')"
   ]
  },
  {
   "cell_type": "code",
   "execution_count": 27,
   "metadata": {
    "ExecuteTime": {
     "end_time": "2019-06-08T03:41:37.808901Z",
     "start_time": "2019-06-08T03:41:37.801066Z"
    }
   },
   "outputs": [],
   "source": [
    "import warnings\n",
    "warnings.filterwarnings('ignore')\n",
    "from matplotlib import rc\n",
    "plt.rc('font', family='Malgun Gothic')\n",
    "plt.rc('axes', unicode_minus=False)"
   ]
  },
  {
   "cell_type": "code",
   "execution_count": 2,
   "metadata": {
    "ExecuteTime": {
     "end_time": "2019-06-08T03:26:14.871263Z",
     "start_time": "2019-06-08T03:25:03.705388Z"
    }
   },
   "outputs": [],
   "source": [
    "train = pd.read_csv('../../data/final/train.csv')\n",
    "test = pd.read_csv('../../data/final/test.csv')"
   ]
  },
  {
   "cell_type": "code",
   "execution_count": 3,
   "metadata": {
    "ExecuteTime": {
     "end_time": "2019-06-08T03:26:20.053717Z",
     "start_time": "2019-06-08T03:26:14.871263Z"
    }
   },
   "outputs": [
    {
     "data": {
      "text/html": [
       "<div>\n",
       "<style scoped>\n",
       "    .dataframe tbody tr th:only-of-type {\n",
       "        vertical-align: middle;\n",
       "    }\n",
       "\n",
       "    .dataframe tbody tr th {\n",
       "        vertical-align: top;\n",
       "    }\n",
       "\n",
       "    .dataframe thead th {\n",
       "        text-align: right;\n",
       "    }\n",
       "</style>\n",
       "<table border=\"1\" class=\"dataframe\">\n",
       "  <thead>\n",
       "    <tr style=\"text-align: right;\">\n",
       "      <th></th>\n",
       "      <th>date</th>\n",
       "      <th>link_id</th>\n",
       "      <th>road_length</th>\n",
       "      <th>road_num</th>\n",
       "      <th>holiday</th>\n",
       "      <th>special</th>\n",
       "      <th>vacation</th>\n",
       "      <th>time</th>\n",
       "      <th>inter_num</th>\n",
       "      <th>d1</th>\n",
       "      <th>d2</th>\n",
       "      <th>d3</th>\n",
       "      <th>d4</th>\n",
       "      <th>victims</th>\n",
       "      <th>severity</th>\n",
       "      <th>accident_count</th>\n",
       "      <th>temperature</th>\n",
       "      <th>wind</th>\n",
       "      <th>rain</th>\n",
       "      <th>snow</th>\n",
       "      <th>cctv</th>\n",
       "      <th>kids</th>\n",
       "      <th>speed_limit</th>\n",
       "      <th>entrance</th>\n",
       "      <th>signal</th>\n",
       "      <th>SO2</th>\n",
       "      <th>CO</th>\n",
       "      <th>O3</th>\n",
       "      <th>NO2</th>\n",
       "      <th>PM10</th>\n",
       "      <th>PM2.5</th>\n",
       "      <th>month</th>\n",
       "      <th>weekend</th>\n",
       "      <th>y</th>\n",
       "    </tr>\n",
       "  </thead>\n",
       "  <tbody>\n",
       "    <tr>\n",
       "      <th>count</th>\n",
       "      <td>1.042732e+06</td>\n",
       "      <td>1.042732e+06</td>\n",
       "      <td>1042732.000</td>\n",
       "      <td>1042732.000</td>\n",
       "      <td>1042732.000</td>\n",
       "      <td>1042732.000</td>\n",
       "      <td>1042732.000</td>\n",
       "      <td>1042732.000</td>\n",
       "      <td>1042732.000</td>\n",
       "      <td>1042732.000</td>\n",
       "      <td>1042732.000</td>\n",
       "      <td>1042732.000</td>\n",
       "      <td>1042732.000</td>\n",
       "      <td>1042732.000</td>\n",
       "      <td>1042732.000</td>\n",
       "      <td>1042732.000</td>\n",
       "      <td>1042732.000</td>\n",
       "      <td>1042732.000</td>\n",
       "      <td>1042732.000</td>\n",
       "      <td>1042732.000</td>\n",
       "      <td>1042732.000</td>\n",
       "      <td>1042732.000</td>\n",
       "      <td>1042732.000</td>\n",
       "      <td>1042732.000</td>\n",
       "      <td>1042732.000</td>\n",
       "      <td>1042732.000</td>\n",
       "      <td>1042732.000</td>\n",
       "      <td>1042732.000</td>\n",
       "      <td>1042732.000</td>\n",
       "      <td>1042732.000</td>\n",
       "      <td>1042732.000</td>\n",
       "      <td>1042732.000</td>\n",
       "      <td>1042732.000</td>\n",
       "      <td>1042732.000</td>\n",
       "    </tr>\n",
       "    <tr>\n",
       "      <th>mean</th>\n",
       "      <td>2.018067e+07</td>\n",
       "      <td>1.219876e+09</td>\n",
       "      <td>676.778</td>\n",
       "      <td>3.368</td>\n",
       "      <td>0.061</td>\n",
       "      <td>0.033</td>\n",
       "      <td>0.055</td>\n",
       "      <td>16.494</td>\n",
       "      <td>12.516</td>\n",
       "      <td>1.169</td>\n",
       "      <td>52.376</td>\n",
       "      <td>190.933</td>\n",
       "      <td>21.966</td>\n",
       "      <td>266.444</td>\n",
       "      <td>765.917</td>\n",
       "      <td>174.245</td>\n",
       "      <td>15.266</td>\n",
       "      <td>1.831</td>\n",
       "      <td>0.157</td>\n",
       "      <td>0.040</td>\n",
       "      <td>1.181</td>\n",
       "      <td>0.097</td>\n",
       "      <td>52.094</td>\n",
       "      <td>63.534</td>\n",
       "      <td>52.114</td>\n",
       "      <td>0.005</td>\n",
       "      <td>0.453</td>\n",
       "      <td>0.022</td>\n",
       "      <td>0.031</td>\n",
       "      <td>35.854</td>\n",
       "      <td>21.923</td>\n",
       "      <td>6.512</td>\n",
       "      <td>0.284</td>\n",
       "      <td>26.148</td>\n",
       "    </tr>\n",
       "    <tr>\n",
       "      <th>std</th>\n",
       "      <td>3.444210e+02</td>\n",
       "      <td>1.826371e+06</td>\n",
       "      <td>447.495</td>\n",
       "      <td>1.243</td>\n",
       "      <td>0.239</td>\n",
       "      <td>0.179</td>\n",
       "      <td>0.228</td>\n",
       "      <td>4.029</td>\n",
       "      <td>10.329</td>\n",
       "      <td>1.337</td>\n",
       "      <td>49.377</td>\n",
       "      <td>192.559</td>\n",
       "      <td>19.527</td>\n",
       "      <td>261.056</td>\n",
       "      <td>754.829</td>\n",
       "      <td>174.527</td>\n",
       "      <td>11.653</td>\n",
       "      <td>0.897</td>\n",
       "      <td>1.165</td>\n",
       "      <td>0.342</td>\n",
       "      <td>1.355</td>\n",
       "      <td>0.295</td>\n",
       "      <td>13.993</td>\n",
       "      <td>64.125</td>\n",
       "      <td>28.632</td>\n",
       "      <td>0.001</td>\n",
       "      <td>0.168</td>\n",
       "      <td>0.016</td>\n",
       "      <td>0.014</td>\n",
       "      <td>26.568</td>\n",
       "      <td>18.173</td>\n",
       "      <td>3.442</td>\n",
       "      <td>0.451</td>\n",
       "      <td>13.402</td>\n",
       "    </tr>\n",
       "    <tr>\n",
       "      <th>min</th>\n",
       "      <td>2.018010e+07</td>\n",
       "      <td>1.210003e+09</td>\n",
       "      <td>177.000</td>\n",
       "      <td>1.000</td>\n",
       "      <td>0.000</td>\n",
       "      <td>0.000</td>\n",
       "      <td>0.000</td>\n",
       "      <td>10.000</td>\n",
       "      <td>1.000</td>\n",
       "      <td>0.000</td>\n",
       "      <td>0.000</td>\n",
       "      <td>1.000</td>\n",
       "      <td>0.000</td>\n",
       "      <td>1.000</td>\n",
       "      <td>3.000</td>\n",
       "      <td>1.000</td>\n",
       "      <td>-15.700</td>\n",
       "      <td>0.000</td>\n",
       "      <td>0.000</td>\n",
       "      <td>0.000</td>\n",
       "      <td>0.000</td>\n",
       "      <td>0.000</td>\n",
       "      <td>30.000</td>\n",
       "      <td>0.000</td>\n",
       "      <td>0.000</td>\n",
       "      <td>0.003</td>\n",
       "      <td>0.200</td>\n",
       "      <td>0.001</td>\n",
       "      <td>0.007</td>\n",
       "      <td>3.000</td>\n",
       "      <td>1.000</td>\n",
       "      <td>1.000</td>\n",
       "      <td>0.000</td>\n",
       "      <td>1.110</td>\n",
       "    </tr>\n",
       "    <tr>\n",
       "      <th>25%</th>\n",
       "      <td>2.018040e+07</td>\n",
       "      <td>1.220009e+09</td>\n",
       "      <td>438.000</td>\n",
       "      <td>3.000</td>\n",
       "      <td>0.000</td>\n",
       "      <td>0.000</td>\n",
       "      <td>0.000</td>\n",
       "      <td>13.000</td>\n",
       "      <td>7.000</td>\n",
       "      <td>0.000</td>\n",
       "      <td>24.000</td>\n",
       "      <td>74.000</td>\n",
       "      <td>7.000</td>\n",
       "      <td>97.000</td>\n",
       "      <td>281.000</td>\n",
       "      <td>66.000</td>\n",
       "      <td>6.100</td>\n",
       "      <td>1.200</td>\n",
       "      <td>0.000</td>\n",
       "      <td>0.000</td>\n",
       "      <td>0.000</td>\n",
       "      <td>0.000</td>\n",
       "      <td>40.000</td>\n",
       "      <td>35.000</td>\n",
       "      <td>38.000</td>\n",
       "      <td>0.005</td>\n",
       "      <td>0.300</td>\n",
       "      <td>0.010</td>\n",
       "      <td>0.020</td>\n",
       "      <td>18.000</td>\n",
       "      <td>9.000</td>\n",
       "      <td>4.000</td>\n",
       "      <td>0.000</td>\n",
       "      <td>18.020</td>\n",
       "    </tr>\n",
       "    <tr>\n",
       "      <th>50%</th>\n",
       "      <td>2.018070e+07</td>\n",
       "      <td>1.220020e+09</td>\n",
       "      <td>598.000</td>\n",
       "      <td>3.000</td>\n",
       "      <td>0.000</td>\n",
       "      <td>0.000</td>\n",
       "      <td>0.000</td>\n",
       "      <td>16.000</td>\n",
       "      <td>10.000</td>\n",
       "      <td>1.000</td>\n",
       "      <td>39.000</td>\n",
       "      <td>103.000</td>\n",
       "      <td>17.000</td>\n",
       "      <td>141.000</td>\n",
       "      <td>403.000</td>\n",
       "      <td>99.000</td>\n",
       "      <td>16.700</td>\n",
       "      <td>1.800</td>\n",
       "      <td>0.000</td>\n",
       "      <td>0.000</td>\n",
       "      <td>1.000</td>\n",
       "      <td>0.000</td>\n",
       "      <td>60.000</td>\n",
       "      <td>55.000</td>\n",
       "      <td>44.000</td>\n",
       "      <td>0.005</td>\n",
       "      <td>0.400</td>\n",
       "      <td>0.019</td>\n",
       "      <td>0.028</td>\n",
       "      <td>31.000</td>\n",
       "      <td>17.000</td>\n",
       "      <td>7.000</td>\n",
       "      <td>0.000</td>\n",
       "      <td>23.250</td>\n",
       "    </tr>\n",
       "    <tr>\n",
       "      <th>75%</th>\n",
       "      <td>2.018093e+07</td>\n",
       "      <td>1.220029e+09</td>\n",
       "      <td>764.000</td>\n",
       "      <td>4.000</td>\n",
       "      <td>0.000</td>\n",
       "      <td>0.000</td>\n",
       "      <td>0.000</td>\n",
       "      <td>20.000</td>\n",
       "      <td>14.000</td>\n",
       "      <td>2.000</td>\n",
       "      <td>61.000</td>\n",
       "      <td>211.000</td>\n",
       "      <td>27.000</td>\n",
       "      <td>296.000</td>\n",
       "      <td>860.000</td>\n",
       "      <td>207.000</td>\n",
       "      <td>24.400</td>\n",
       "      <td>2.400</td>\n",
       "      <td>0.000</td>\n",
       "      <td>0.000</td>\n",
       "      <td>2.000</td>\n",
       "      <td>0.000</td>\n",
       "      <td>60.000</td>\n",
       "      <td>76.000</td>\n",
       "      <td>77.000</td>\n",
       "      <td>0.006</td>\n",
       "      <td>0.500</td>\n",
       "      <td>0.029</td>\n",
       "      <td>0.040</td>\n",
       "      <td>46.000</td>\n",
       "      <td>29.000</td>\n",
       "      <td>9.000</td>\n",
       "      <td>1.000</td>\n",
       "      <td>29.830</td>\n",
       "    </tr>\n",
       "    <tr>\n",
       "      <th>max</th>\n",
       "      <td>2.018123e+07</td>\n",
       "      <td>1.230004e+09</td>\n",
       "      <td>3084.000</td>\n",
       "      <td>7.000</td>\n",
       "      <td>1.000</td>\n",
       "      <td>1.000</td>\n",
       "      <td>1.000</td>\n",
       "      <td>23.000</td>\n",
       "      <td>45.000</td>\n",
       "      <td>5.000</td>\n",
       "      <td>215.000</td>\n",
       "      <td>799.000</td>\n",
       "      <td>81.000</td>\n",
       "      <td>1099.000</td>\n",
       "      <td>3171.000</td>\n",
       "      <td>749.000</td>\n",
       "      <td>39.300</td>\n",
       "      <td>7.100</td>\n",
       "      <td>29.500</td>\n",
       "      <td>8.800</td>\n",
       "      <td>6.000</td>\n",
       "      <td>1.000</td>\n",
       "      <td>80.000</td>\n",
       "      <td>301.000</td>\n",
       "      <td>115.000</td>\n",
       "      <td>0.015</td>\n",
       "      <td>1.500</td>\n",
       "      <td>0.139</td>\n",
       "      <td>0.109</td>\n",
       "      <td>302.000</td>\n",
       "      <td>139.000</td>\n",
       "      <td>12.000</td>\n",
       "      <td>1.000</td>\n",
       "      <td>114.420</td>\n",
       "    </tr>\n",
       "  </tbody>\n",
       "</table>\n",
       "</div>"
      ],
      "text/plain": [
       "               date       link_id  road_length     road_num      holiday  \\\n",
       "count  1.042732e+06  1.042732e+06  1042732.000  1042732.000  1042732.000   \n",
       "mean   2.018067e+07  1.219876e+09      676.778        3.368        0.061   \n",
       "std    3.444210e+02  1.826371e+06      447.495        1.243        0.239   \n",
       "min    2.018010e+07  1.210003e+09      177.000        1.000        0.000   \n",
       "25%    2.018040e+07  1.220009e+09      438.000        3.000        0.000   \n",
       "50%    2.018070e+07  1.220020e+09      598.000        3.000        0.000   \n",
       "75%    2.018093e+07  1.220029e+09      764.000        4.000        0.000   \n",
       "max    2.018123e+07  1.230004e+09     3084.000        7.000        1.000   \n",
       "\n",
       "           special     vacation         time    inter_num           d1  \\\n",
       "count  1042732.000  1042732.000  1042732.000  1042732.000  1042732.000   \n",
       "mean         0.033        0.055       16.494       12.516        1.169   \n",
       "std          0.179        0.228        4.029       10.329        1.337   \n",
       "min          0.000        0.000       10.000        1.000        0.000   \n",
       "25%          0.000        0.000       13.000        7.000        0.000   \n",
       "50%          0.000        0.000       16.000       10.000        1.000   \n",
       "75%          0.000        0.000       20.000       14.000        2.000   \n",
       "max          1.000        1.000       23.000       45.000        5.000   \n",
       "\n",
       "                d2           d3           d4      victims     severity  \\\n",
       "count  1042732.000  1042732.000  1042732.000  1042732.000  1042732.000   \n",
       "mean        52.376      190.933       21.966      266.444      765.917   \n",
       "std         49.377      192.559       19.527      261.056      754.829   \n",
       "min          0.000        1.000        0.000        1.000        3.000   \n",
       "25%         24.000       74.000        7.000       97.000      281.000   \n",
       "50%         39.000      103.000       17.000      141.000      403.000   \n",
       "75%         61.000      211.000       27.000      296.000      860.000   \n",
       "max        215.000      799.000       81.000     1099.000     3171.000   \n",
       "\n",
       "       accident_count  temperature         wind         rain         snow  \\\n",
       "count     1042732.000  1042732.000  1042732.000  1042732.000  1042732.000   \n",
       "mean          174.245       15.266        1.831        0.157        0.040   \n",
       "std           174.527       11.653        0.897        1.165        0.342   \n",
       "min             1.000      -15.700        0.000        0.000        0.000   \n",
       "25%            66.000        6.100        1.200        0.000        0.000   \n",
       "50%            99.000       16.700        1.800        0.000        0.000   \n",
       "75%           207.000       24.400        2.400        0.000        0.000   \n",
       "max           749.000       39.300        7.100       29.500        8.800   \n",
       "\n",
       "              cctv         kids  speed_limit     entrance       signal  \\\n",
       "count  1042732.000  1042732.000  1042732.000  1042732.000  1042732.000   \n",
       "mean         1.181        0.097       52.094       63.534       52.114   \n",
       "std          1.355        0.295       13.993       64.125       28.632   \n",
       "min          0.000        0.000       30.000        0.000        0.000   \n",
       "25%          0.000        0.000       40.000       35.000       38.000   \n",
       "50%          1.000        0.000       60.000       55.000       44.000   \n",
       "75%          2.000        0.000       60.000       76.000       77.000   \n",
       "max          6.000        1.000       80.000      301.000      115.000   \n",
       "\n",
       "               SO2           CO           O3          NO2         PM10  \\\n",
       "count  1042732.000  1042732.000  1042732.000  1042732.000  1042732.000   \n",
       "mean         0.005        0.453        0.022        0.031       35.854   \n",
       "std          0.001        0.168        0.016        0.014       26.568   \n",
       "min          0.003        0.200        0.001        0.007        3.000   \n",
       "25%          0.005        0.300        0.010        0.020       18.000   \n",
       "50%          0.005        0.400        0.019        0.028       31.000   \n",
       "75%          0.006        0.500        0.029        0.040       46.000   \n",
       "max          0.015        1.500        0.139        0.109      302.000   \n",
       "\n",
       "             PM2.5        month      weekend            y  \n",
       "count  1042732.000  1042732.000  1042732.000  1042732.000  \n",
       "mean        21.923        6.512        0.284       26.148  \n",
       "std         18.173        3.442        0.451       13.402  \n",
       "min          1.000        1.000        0.000        1.110  \n",
       "25%          9.000        4.000        0.000       18.020  \n",
       "50%         17.000        7.000        0.000       23.250  \n",
       "75%         29.000        9.000        1.000       29.830  \n",
       "max        139.000       12.000        1.000      114.420  "
      ]
     },
     "execution_count": 3,
     "metadata": {},
     "output_type": "execute_result"
    }
   ],
   "source": [
    "pd.set_option('display.max_columns', 500)\n",
    "round(train.describe(), 3)"
   ]
  },
  {
   "cell_type": "code",
   "execution_count": 47,
   "metadata": {
    "ExecuteTime": {
     "end_time": "2019-06-08T05:23:12.787377Z",
     "start_time": "2019-06-08T05:23:12.675081Z"
    }
   },
   "outputs": [
    {
     "name": "stdout",
     "output_type": "stream",
     "text": [
      "강남구에 있는 도로 개수 :  30\n"
     ]
    },
    {
     "data": {
      "text/plain": [
       "{'강남대로',\n",
       " '개포로',\n",
       " '광평로',\n",
       " '남부순환로',\n",
       " '논현로',\n",
       " '도곡로',\n",
       " '도산대로',\n",
       " '밤고개로',\n",
       " '봉은사로',\n",
       " '봉은사로114길',\n",
       " '분당수서로',\n",
       " '사임당로',\n",
       " '삼성로',\n",
       " '삼전로',\n",
       " '선릉로',\n",
       " '압구정로',\n",
       " '양재대로',\n",
       " '양재대로55길',\n",
       " '양재천로',\n",
       " '언주로',\n",
       " '역삼로',\n",
       " '영동대로',\n",
       " '올림픽대로',\n",
       " '일원로',\n",
       " '잠원로',\n",
       " '테헤란로',\n",
       " '테헤란로114길',\n",
       " '테헤란로115길',\n",
       " '학동로',\n",
       " '헌릉로'}"
      ]
     },
     "execution_count": 47,
     "metadata": {},
     "output_type": "execute_result"
    }
   ],
   "source": [
    "road_name_gangnam = set(list(set(train.road_name)) + list(set(test.road_name)))\n",
    "print('강남구에 있는 도로 개수 : ', len(road_name_gangnam))\n",
    "road_name_gangnam"
   ]
  },
  {
   "cell_type": "markdown",
   "metadata": {},
   "source": [
    "# accident data"
   ]
  },
  {
   "cell_type": "code",
   "execution_count": 22,
   "metadata": {
    "ExecuteTime": {
     "end_time": "2019-06-08T03:37:06.234312Z",
     "start_time": "2019-06-08T03:37:06.186204Z"
    }
   },
   "outputs": [
    {
     "data": {
      "text/html": [
       "<div>\n",
       "<style scoped>\n",
       "    .dataframe tbody tr th:only-of-type {\n",
       "        vertical-align: middle;\n",
       "    }\n",
       "\n",
       "    .dataframe tbody tr th {\n",
       "        vertical-align: top;\n",
       "    }\n",
       "\n",
       "    .dataframe thead th {\n",
       "        text-align: right;\n",
       "    }\n",
       "</style>\n",
       "<table border=\"1\" class=\"dataframe\">\n",
       "  <thead>\n",
       "    <tr style=\"text-align: right;\">\n",
       "      <th></th>\n",
       "      <th>도로명</th>\n",
       "      <th>사망자수</th>\n",
       "      <th>중상자수</th>\n",
       "      <th>경상자수</th>\n",
       "      <th>부상신고자수</th>\n",
       "      <th>victims</th>\n",
       "      <th>severity</th>\n",
       "      <th>count</th>\n",
       "    </tr>\n",
       "  </thead>\n",
       "  <tbody>\n",
       "    <tr>\n",
       "      <th>0</th>\n",
       "      <td>강남대로</td>\n",
       "      <td>3</td>\n",
       "      <td>69</td>\n",
       "      <td>338</td>\n",
       "      <td>28</td>\n",
       "      <td>438</td>\n",
       "      <td>1285</td>\n",
       "      <td>280</td>\n",
       "    </tr>\n",
       "    <tr>\n",
       "      <th>1</th>\n",
       "      <td>개포로</td>\n",
       "      <td>0</td>\n",
       "      <td>21</td>\n",
       "      <td>31</td>\n",
       "      <td>5</td>\n",
       "      <td>57</td>\n",
       "      <td>161</td>\n",
       "      <td>39</td>\n",
       "    </tr>\n",
       "    <tr>\n",
       "      <th>2</th>\n",
       "      <td>광평로</td>\n",
       "      <td>2</td>\n",
       "      <td>16</td>\n",
       "      <td>30</td>\n",
       "      <td>3</td>\n",
       "      <td>51</td>\n",
       "      <td>165</td>\n",
       "      <td>33</td>\n",
       "    </tr>\n",
       "    <tr>\n",
       "      <th>3</th>\n",
       "      <td>남부순환로</td>\n",
       "      <td>4</td>\n",
       "      <td>215</td>\n",
       "      <td>799</td>\n",
       "      <td>81</td>\n",
       "      <td>1099</td>\n",
       "      <td>3171</td>\n",
       "      <td>749</td>\n",
       "    </tr>\n",
       "    <tr>\n",
       "      <th>4</th>\n",
       "      <td>논현로</td>\n",
       "      <td>2</td>\n",
       "      <td>61</td>\n",
       "      <td>210</td>\n",
       "      <td>23</td>\n",
       "      <td>296</td>\n",
       "      <td>860</td>\n",
       "      <td>207</td>\n",
       "    </tr>\n",
       "  </tbody>\n",
       "</table>\n",
       "</div>"
      ],
      "text/plain": [
       "     도로명  사망자수  중상자수  경상자수  부상신고자수  victims  severity  count\n",
       "0   강남대로     3    69   338      28      438      1285    280\n",
       "1    개포로     0    21    31       5       57       161     39\n",
       "2    광평로     2    16    30       3       51       165     33\n",
       "3  남부순환로     4   215   799      81     1099      3171    749\n",
       "4    논현로     2    61   210      23      296       860    207"
      ]
     },
     "execution_count": 22,
     "metadata": {},
     "output_type": "execute_result"
    }
   ],
   "source": [
    "accident = pd.read_csv('../../data/accident_new.csv')\n",
    "accident = accident[accident.도로명.isin(road_name_gangnam)].reset_index(drop  = True)\n",
    "accident.head()"
   ]
  },
  {
   "cell_type": "code",
   "execution_count": 46,
   "metadata": {
    "ExecuteTime": {
     "end_time": "2019-06-08T05:21:14.023803Z",
     "start_time": "2019-06-08T05:21:11.569964Z"
    }
   },
   "outputs": [
    {
     "data": {
      "image/png": "[encoded data removed]",
      "text/plain": [
       "<Figure size 1080x576 with 8 Axes>"
      ]
     },
     "metadata": {
      "needs_background": "light"
     },
     "output_type": "display_data"
    }
   ],
   "source": [
    "cols = accident.columns[1:]\n",
    "\n",
    "fig, axs = plt.subplots(ncols=4, nrows = 2, figsize = (15,8))\n",
    "for i in range(len(cols)) :\n",
    "    sns.distplot(accident[cols[i]].values, ax = axs[i//4,i%4])\n",
    "    axs[i//4,i%4].set_xlabel(cols[i])"
   ]
  },
  {
   "cell_type": "code",
   "execution_count": 61,
   "metadata": {
    "ExecuteTime": {
     "end_time": "2019-06-08T05:36:56.556177Z",
     "start_time": "2019-06-08T05:36:56.543405Z"
    }
   },
   "outputs": [
    {
     "data": {
      "text/plain": [
       "0.00      1.00\n",
       "0.10     10.20\n",
       "0.20     30.80\n",
       "0.25     40.00\n",
       "0.50     82.00\n",
       "0.75    149.75\n",
       "0.80    190.20\n",
       "0.90    286.70\n",
       "1.00    749.00\n",
       "Name: count, dtype: float64"
      ]
     },
     "execution_count": 61,
     "metadata": {},
     "output_type": "execute_result"
    }
   ],
   "source": [
    "accident['count'].quantile([0,0.1,0.2,0.25,0.5,0.75,0.8,0.9,1])"
   ]
  },
  {
   "cell_type": "markdown",
   "metadata": {},
   "source": [
    "# FE"
   ]
  },
  {
   "cell_type": "code",
   "execution_count": 65,
   "metadata": {
    "ExecuteTime": {
     "end_time": "2019-06-08T05:41:20.440117Z",
     "start_time": "2019-06-08T05:41:18.886450Z"
    }
   },
   "outputs": [
    {
     "data": {
      "text/plain": [
       "(1489618, 43)"
      ]
     },
     "execution_count": 65,
     "metadata": {},
     "output_type": "execute_result"
    }
   ],
   "source": [
    "train['train'] = 1\n",
    "test['train'] = 0\n",
    "df = pd.concat([train, test])\n",
    "df['logy'] = np.log1p(df['y'])\n",
    "df.shape"
   ]
  },
  {
   "cell_type": "code",
   "execution_count": 66,
   "metadata": {
    "ExecuteTime": {
     "end_time": "2019-06-08T05:44:23.828310Z",
     "start_time": "2019-06-08T05:44:19.880169Z"
    }
   },
   "outputs": [],
   "source": [
    "from sklearn.preprocessing import LabelEncoder\n",
    "\n",
    "lb_make = LabelEncoder()\n",
    "df[\"days\"] = lb_make.fit_transform(df[\"days\"])\n",
    "df[\"direction\"] = lb_make.fit_transform(df[\"direction\"])\n",
    "df[\"road_type\"] = lb_make.fit_transform(df[\"road_type\"])\n",
    "df[\"urban_suburb\"] = lb_make.fit_transform(df[\"urban_suburb\"])\n",
    "df[\"district\"] = lb_make.fit_transform(df[\"district\"])\n",
    "df[\"time\"] = lb_make.fit_transform(df[\"time\"])"
   ]
  },
  {
   "cell_type": "code",
   "execution_count": 80,
   "metadata": {
    "ExecuteTime": {
     "end_time": "2019-06-08T06:12:14.971991Z",
     "start_time": "2019-06-08T06:12:10.139818Z"
    }
   },
   "outputs": [],
   "source": [
    "def rain_level(rain) :\n",
    "    if rain >= 30 :\n",
    "        return 3\n",
    "    else :\n",
    "        if rain >=15 :\n",
    "            return 2\n",
    "        else :\n",
    "            if rain >=3 :\n",
    "                return 1\n",
    "            else : return 0\n",
    "\n",
    "def dust_PM2_level(dust) :\n",
    "    if dust >= 76 :\n",
    "        return 3\n",
    "    else :\n",
    "        if dust >=36 :\n",
    "            return 2\n",
    "        else :\n",
    "            if dust >=16 :\n",
    "                return 1\n",
    "            else : return 0      \n",
    "\n",
    "def dust_PM10_level(dust) :\n",
    "    if dust >= 151 :\n",
    "        return 3\n",
    "    else :\n",
    "        if dust >=81 :\n",
    "            return 2\n",
    "        else :\n",
    "            if dust >=31 :\n",
    "                return 1\n",
    "            else : return 0\n",
    "\n",
    "def wind_level(wind) :\n",
    "    if wind >= 14 :\n",
    "        return 3\n",
    "    else :\n",
    "        if wind >=9 :\n",
    "            return 2\n",
    "        else :\n",
    "            if wind >=4 :\n",
    "                return 1\n",
    "            else : return 0\n",
    "\n",
    "def O3_level(O3) :\n",
    "    if O3 >= 0.151 :\n",
    "        return 3\n",
    "    else :\n",
    "        if O3 >=0.091 :\n",
    "            return 2\n",
    "        else :\n",
    "            if O3 >=0.031 :\n",
    "                return 1\n",
    "            else : return 0\n",
    "            \n",
    "df['dust_PM10_level'] = df['PM10'].apply(lambda x : dust_PM10_level(x))\n",
    "df['dust_PM2_level'] = df['PM2.5'].apply(lambda x : dust_PM2_level(x))\n",
    "df['rain_level'] = df['rain'].apply(lambda x : rain_level(x))       \n",
    "df['wind_level'] = df['wind'].apply(lambda x : wind_level(x))            \n",
    "df['O3_level'] = df['O3'].apply(lambda x : O3_level(x))"
   ]
  },
  {
   "cell_type": "code",
   "execution_count": 168,
   "metadata": {
    "ExecuteTime": {
     "end_time": "2019-06-08T07:40:29.409188Z",
     "start_time": "2019-06-08T07:40:29.271869Z"
    }
   },
   "outputs": [],
   "source": [
    "bins = [-40,-10,10,20,30,50]\n",
    "bins_names = [0,1,2,3,4] # 구간별 이름\n",
    "df['temp_level'] = pd.cut(df['temperature'], bins, labels=bins_names)\n"
   ]
  },
  {
   "cell_type": "code",
   "execution_count": 73,
   "metadata": {
    "ExecuteTime": {
     "end_time": "2019-06-08T05:56:37.643827Z",
     "start_time": "2019-06-08T05:56:37.234288Z"
    }
   },
   "outputs": [],
   "source": [
    "df = df.drop(['date','road_name','link_id','start_point','end_point'],axis = 1)"
   ]
  },
  {
   "cell_type": "code",
   "execution_count": 169,
   "metadata": {
    "ExecuteTime": {
     "end_time": "2019-06-08T07:40:34.283057Z",
     "start_time": "2019-06-08T07:40:33.454860Z"
    }
   },
   "outputs": [
    {
     "name": "stdout",
     "output_type": "stream",
     "text": [
      "train shape :  (1042732, 45)\n",
      "test shape :  (446886, 45)\n"
     ]
    }
   ],
   "source": [
    "train = df[df.train == 1]\n",
    "test = df[df.train == 0]\n",
    "\n",
    "print('train shape : ', train.shape)\n",
    "print('test shape : ', test.shape)"
   ]
  },
  {
   "cell_type": "markdown",
   "metadata": {},
   "source": [
    "# original data baseline model"
   ]
  },
  {
   "cell_type": "code",
   "execution_count": 130,
   "metadata": {
    "ExecuteTime": {
     "end_time": "2019-06-08T06:54:54.417525Z",
     "start_time": "2019-06-08T06:54:54.190678Z"
    }
   },
   "outputs": [],
   "source": [
    "base_cols = ['days', 'direction', 'road_length', 'road_num', 'road_type',\n",
    "       'urban_suburb', 'district', 'holiday', 'special', 'vacation', 'time',\n",
    "       'inter_num', 'd1', 'd2', 'd3', 'd4', 'victims', 'severity',\n",
    "       'accident_count', 'temperature', 'wind', 'rain', 'snow', 'cctv', 'kids',\n",
    "       'speed_limit', 'entrance', 'signal', 'SO2', 'CO', 'O3', 'NO2', 'PM10',\n",
    "       'PM2.5', 'month', 'weekend']\n",
    "\n",
    "X_base_train = train[base_cols]\n",
    "y_base_train = train['y']\n",
    "y_log_base_train = train['logy']\n",
    "\n",
    "X_base_test = test[base_cols]\n",
    "y_base_test = test['y']\n",
    "y_log_base_test = test['logy']"
   ]
  },
  {
   "cell_type": "code",
   "execution_count": 83,
   "metadata": {
    "ExecuteTime": {
     "end_time": "2019-06-08T06:12:39.224066Z",
     "start_time": "2019-06-08T06:12:39.219079Z"
    }
   },
   "outputs": [],
   "source": [
    "from sklearn.metrics import mean_squared_error\n",
    "\n",
    "def rmse(y_true, y_pred) : \n",
    "    return np.sqrt(mean_squared_error(y_true, y_pred))"
   ]
  },
  {
   "cell_type": "markdown",
   "metadata": {},
   "source": [
    "## linear regression"
   ]
  },
  {
   "cell_type": "code",
   "execution_count": 79,
   "metadata": {
    "ExecuteTime": {
     "end_time": "2019-06-08T06:01:41.873713Z",
     "start_time": "2019-06-08T06:01:41.868727Z"
    }
   },
   "outputs": [],
   "source": [
    "from sklearn.linear_model import LinearRegression\n",
    "lr = LinearRegression()"
   ]
  },
  {
   "cell_type": "code",
   "execution_count": null,
   "metadata": {},
   "outputs": [],
   "source": [
    "from sklearn.model_selection import KFold\n",
    "kf = KFold(n_splits=5, random_state=333)"
   ]
  },
  {
   "cell_type": "code",
   "execution_count": 160,
   "metadata": {
    "ExecuteTime": {
     "end_time": "2019-06-08T07:20:28.101517Z",
     "start_time": "2019-06-08T07:20:28.033701Z"
    }
   },
   "outputs": [],
   "source": [
    "def model_cv_test(model, train_X, train_y, test_X, test_y, is_log) :\n",
    "\n",
    "    train_rmse = []\n",
    "    valid_rmse = []\n",
    "    \n",
    "    print('##### {} #####'.format(model.__class__.__name__))\n",
    "        \n",
    "    for i, (train_idx, val_idx) in enumerate(kf.split(train_X)):\n",
    "        X_train, X_val = train_X.iloc[train_idx, :], train_X.iloc[val_idx, :]\n",
    "        y_train, y_val = train_y[train_idx], train_y[val_idx]\n",
    "\n",
    "        model.fit(X_train, y_train)\n",
    "        \n",
    "        if is_log :\n",
    "            y_train = np.expm1(y_train)\n",
    "            y_val = np.expm1(y_val)\n",
    "            pred_train = np.expm1(model.predict(X_train))\n",
    "            pred_valid = np.expm1(model.predict(X_val))\n",
    "        else :\n",
    "            pred_train = model.predict(X_train)\n",
    "            pred_valid = model.predict(X_val)\n",
    "\n",
    "        print('{0} fold train rmse : {1:.3f} valid rmse : {2:.3f}'.format(i, rmse(y_train, pred_train), rmse(y_val, pred_valid)))\n",
    "        \n",
    "        train_rmse.append(rmse(y_train, pred_train))\n",
    "        valid_rmse.append(rmse(y_val, pred_valid))\n",
    "\n",
    "    print('\\n')    \n",
    "    print('mean train rmse : {0:.3f} mean valid rmse : {1:.3f}'.format(np.mean(train_rmse), np.mean(valid_rmse)))\n",
    "\n",
    "    \n",
    "    model.fit(train_X, train_y)\n",
    "    \n",
    "    if is_log :\n",
    "        test_y = np.expm1(test_y)\n",
    "        pred_test = np.expm1(model.predict(test_X))\n",
    "    else :\n",
    "        pred_test = model.predict(test_X)\n",
    "    \n",
    "    print('test rmse {0:.3f} '.format(rmse(test_y, pred_test)))"
   ]
  },
  {
   "cell_type": "code",
   "execution_count": 161,
   "metadata": {
    "ExecuteTime": {
     "end_time": "2019-06-08T07:20:37.957672Z",
     "start_time": "2019-06-08T07:20:28.649380Z"
    }
   },
   "outputs": [
    {
     "name": "stdout",
     "output_type": "stream",
     "text": [
      "##### LinearRegression #####\n",
      "0 fold train rmse : 10.590 valid rmse : 10.631\n",
      "1 fold train rmse : 10.591 valid rmse : 10.628\n",
      "2 fold train rmse : 10.609 valid rmse : 10.546\n",
      "3 fold train rmse : 10.596 valid rmse : 10.600\n",
      "4 fold train rmse : 10.597 valid rmse : 10.578\n",
      "\n",
      "\n",
      "mean train rmse : 10.596 mean valid rmse : 10.597\n",
      "test rmse 10.602 \n"
     ]
    }
   ],
   "source": [
    "#log transformation\n",
    "model_cv_test(lr, X_base_train, y_log_base_train, X_base_test, y_log_base_test, True)"
   ]
  },
  {
   "cell_type": "code",
   "execution_count": 162,
   "metadata": {
    "ExecuteTime": {
     "end_time": "2019-06-08T07:20:47.027254Z",
     "start_time": "2019-06-08T07:20:37.961036Z"
    }
   },
   "outputs": [
    {
     "name": "stdout",
     "output_type": "stream",
     "text": [
      "##### LinearRegression #####\n",
      "0 fold train rmse : 10.323 valid rmse : 10.358\n",
      "1 fold train rmse : 10.325 valid rmse : 10.351\n",
      "2 fold train rmse : 10.342 valid rmse : 10.280\n",
      "3 fold train rmse : 10.328 valid rmse : 10.339\n",
      "4 fold train rmse : 10.331 valid rmse : 10.324\n",
      "\n",
      "\n",
      "mean train rmse : 10.330 mean valid rmse : 10.330\n",
      "test rmse 10.339 \n"
     ]
    }
   ],
   "source": [
    "model_cv_test(lr, X_base_train, y_base_train, X_base_test, y_base_test, False)"
   ]
  },
  {
   "cell_type": "markdown",
   "metadata": {},
   "source": [
    "## random forest"
   ]
  },
  {
   "cell_type": "code",
   "execution_count": 119,
   "metadata": {
    "ExecuteTime": {
     "end_time": "2019-06-08T06:39:05.005202Z",
     "start_time": "2019-06-08T06:39:05.000248Z"
    }
   },
   "outputs": [],
   "source": [
    "from sklearn.ensemble import RandomForestRegressor\n",
    "rf = RandomForestRegressor(n_jobs = -1)"
   ]
  },
  {
   "cell_type": "code",
   "execution_count": 120,
   "metadata": {
    "ExecuteTime": {
     "end_time": "2019-06-08T06:45:25.703034Z",
     "start_time": "2019-06-08T06:39:05.648023Z"
    }
   },
   "outputs": [
    {
     "name": "stdout",
     "output_type": "stream",
     "text": [
      "##### RandomForestRegressor #####\n"
     ]
    },
    {
     "name": "stderr",
     "output_type": "stream",
     "text": [
      "C:\\Users\\wjssm\\Anaconda3\\lib\\site-packages\\sklearn\\ensemble\\forest.py:246: FutureWarning: The default value of n_estimators will change from 10 in version 0.20 to 100 in 0.22.\n",
      "  \"10 in version 0.20 to 100 in 0.22.\", FutureWarning)\n"
     ]
    },
    {
     "name": "stdout",
     "output_type": "stream",
     "text": [
      "0 fold train rmse : 1.475 valid rmse : 3.460\n",
      "1 fold train rmse : 1.467 valid rmse : 3.450\n",
      "2 fold train rmse : 1.470 valid rmse : 3.455\n",
      "3 fold train rmse : 1.467 valid rmse : 3.474\n",
      "4 fold train rmse : 1.475 valid rmse : 3.438\n",
      "\n",
      "\n",
      "mean train rmse : 1.471 mean valid rmse : 3.455\n",
      "test rmse {0:.3f}:  3.345235238546796\n"
     ]
    }
   ],
   "source": [
    "model_cv_test(rf, X_base_train, y_base_train, X_base_test, y_base_test, False)"
   ]
  },
  {
   "cell_type": "code",
   "execution_count": 164,
   "metadata": {
    "ExecuteTime": {
     "end_time": "2019-06-08T07:28:17.150325Z",
     "start_time": "2019-06-08T07:21:50.257994Z"
    }
   },
   "outputs": [
    {
     "name": "stdout",
     "output_type": "stream",
     "text": [
      "##### RandomForestRegressor #####\n",
      "0 fold train rmse : 1.522 valid rmse : 3.506\n",
      "1 fold train rmse : 1.528 valid rmse : 3.490\n",
      "2 fold train rmse : 1.533 valid rmse : 3.515\n",
      "3 fold train rmse : 1.525 valid rmse : 3.531\n",
      "4 fold train rmse : 1.530 valid rmse : 3.502\n",
      "\n",
      "\n",
      "mean train rmse : 1.528 mean valid rmse : 3.509\n",
      "test rmse 3.388 \n"
     ]
    }
   ],
   "source": [
    "#log transformation\n",
    "model_cv_test(rf, X_base_train, y_log_base_train, X_base_test, y_log_base_test, True)"
   ]
  },
  {
   "cell_type": "code",
   "execution_count": 124,
   "metadata": {
    "ExecuteTime": {
     "end_time": "2019-06-08T06:49:46.241260Z",
     "start_time": "2019-06-08T06:48:27.341875Z"
    }
   },
   "outputs": [],
   "source": [
    "rf.fit(X_base_train,  y_base_train)\n",
    "rf_pred = rf.predict(X_base_test)"
   ]
  },
  {
   "cell_type": "code",
   "execution_count": 127,
   "metadata": {
    "ExecuteTime": {
     "end_time": "2019-06-08T06:51:35.094413Z",
     "start_time": "2019-06-08T06:51:29.349339Z"
    }
   },
   "outputs": [
    {
     "data": {
      "text/plain": [
       "<matplotlib.collections.PathCollection at 0x170a2a1b7b8>"
      ]
     },
     "execution_count": 127,
     "metadata": {},
     "output_type": "execute_result"
    },
    {
     "data": {
      "image/png": "[encoded data removed]",
      "text/plain": [
       "<Figure size 432x288 with 1 Axes>"
      ]
     },
     "metadata": {
      "needs_background": "light"
     },
     "output_type": "display_data"
    }
   ],
   "source": [
    "plt.scatter(y_base_test, rf_pred)"
   ]
  },
  {
   "cell_type": "code",
   "execution_count": 126,
   "metadata": {
    "ExecuteTime": {
     "end_time": "2019-06-08T06:50:37.139171Z",
     "start_time": "2019-06-08T06:50:36.726594Z"
    }
   },
   "outputs": [
    {
     "data": {
      "image/png": "[encoded data removed]",
      "text/plain": [
       "<Figure size 1080x504 with 1 Axes>"
      ]
     },
     "metadata": {
      "needs_background": "light"
     },
     "output_type": "display_data"
    }
   ],
   "source": [
    "plt.figure(figsize = (15,7))\n",
    "features = X_base_train.columns\n",
    "importances = rf.feature_importances_\n",
    "indices = np.argsort(importances)\n",
    "\n",
    "plt.title('Feature Importances')\n",
    "plt.barh(range(len(indices)), importances[indices], color='b', align='center')\n",
    "plt.yticks(range(len(indices)), [features[i] for i in indices])\n",
    "plt.xlabel('Relative Importance')\n",
    "plt.show()"
   ]
  },
  {
   "cell_type": "code",
   "execution_count": 165,
   "metadata": {
    "ExecuteTime": {
     "end_time": "2019-06-08T07:30:15.541402Z",
     "start_time": "2019-06-08T07:28:55.201137Z"
    }
   },
   "outputs": [
    {
     "data": {
      "text/plain": [
       "<matplotlib.collections.PathCollection at 0x170c4fa3da0>"
      ]
     },
     "execution_count": 165,
     "metadata": {},
     "output_type": "execute_result"
    },
    {
     "data": {
      "image/png": "[encoded data removed]",
      "text/plain": [
       "<Figure size 432x288 with 1 Axes>"
      ]
     },
     "metadata": {
      "needs_background": "light"
     },
     "output_type": "display_data"
    }
   ],
   "source": [
    "rf.fit(X_base_train,  y_log_base_train)\n",
    "rf_pred = np.expm1(rf.predict(X_base_test))\n",
    "\n",
    "plt.scatter(y_base_test, rf_pred)"
   ]
  },
  {
   "cell_type": "markdown",
   "metadata": {},
   "source": [
    "# add weather features"
   ]
  },
  {
   "cell_type": "code",
   "execution_count": 171,
   "metadata": {
    "ExecuteTime": {
     "end_time": "2019-06-08T07:41:45.493679Z",
     "start_time": "2019-06-08T07:41:45.101899Z"
    }
   },
   "outputs": [],
   "source": [
    "X_train = train.drop(['y','logy'], axis = 1)\n",
    "y_train = train['y']\n",
    "y_log_train = train['logy']\n",
    "\n",
    "X_test = test.drop(['y','logy'], axis = 1)\n",
    "y_test = test['y']\n",
    "y_log_test = test['logy']"
   ]
  },
  {
   "cell_type": "code",
   "execution_count": 172,
   "metadata": {
    "ExecuteTime": {
     "end_time": "2019-06-08T07:55:00.170337Z",
     "start_time": "2019-06-08T07:42:02.870683Z"
    }
   },
   "outputs": [
    {
     "name": "stdout",
     "output_type": "stream",
     "text": [
      "##### RandomForestRegressor #####\n",
      "0 fold train rmse : 1.477 valid rmse : 3.451\n",
      "1 fold train rmse : 1.477 valid rmse : 3.455\n",
      "2 fold train rmse : 1.472 valid rmse : 3.465\n",
      "3 fold train rmse : 1.470 valid rmse : 3.485\n",
      "4 fold train rmse : 1.479 valid rmse : 3.442\n",
      "\n",
      "\n",
      "mean train rmse : 1.475 mean valid rmse : 3.459\n",
      "test rmse 3.339 \n"
     ]
    }
   ],
   "source": [
    "model_cv_test(rf, X_train, y_train, X_test, y_test, False)"
   ]
  },
  {
   "cell_type": "code",
   "execution_count": 173,
   "metadata": {
    "ExecuteTime": {
     "end_time": "2019-06-08T07:57:29.360681Z",
     "start_time": "2019-06-08T07:55:00.175089Z"
    }
   },
   "outputs": [],
   "source": [
    "rf.fit(X_train, y_train)\n",
    "rf_pred = rf.predict(X_test)"
   ]
  },
  {
   "cell_type": "code",
   "execution_count": 174,
   "metadata": {
    "ExecuteTime": {
     "end_time": "2019-06-08T07:57:30.405971Z",
     "start_time": "2019-06-08T07:57:29.361729Z"
    }
   },
   "outputs": [
    {
     "data": {
      "image/png": "[encoded data removed]",
      "text/plain": [
       "<Figure size 1080x504 with 1 Axes>"
      ]
     },
     "metadata": {
      "needs_background": "light"
     },
     "output_type": "display_data"
    }
   ],
   "source": [
    "plt.figure(figsize = (15,7))\n",
    "features = X_train.columns\n",
    "importances = rf.feature_importances_\n",
    "indices = np.argsort(importances)\n",
    "\n",
    "plt.title('Feature Importances')\n",
    "plt.barh(range(len(indices)), importances[indices], color='b', align='center')\n",
    "plt.yticks(range(len(indices)), [features[i] for i in indices])\n",
    "plt.xlabel('Relative Importance')\n",
    "plt.show()"
   ]
  },
  {
   "cell_type": "code",
   "execution_count": 175,
   "metadata": {
    "ExecuteTime": {
     "end_time": "2019-06-08T08:11:43.995825Z",
     "start_time": "2019-06-08T07:58:43.430351Z"
    }
   },
   "outputs": [
    {
     "name": "stdout",
     "output_type": "stream",
     "text": [
      "##### RandomForestRegressor #####\n",
      "0 fold train rmse : 1.537 valid rmse : 3.512\n",
      "1 fold train rmse : 1.531 valid rmse : 3.485\n",
      "2 fold train rmse : 1.531 valid rmse : 3.502\n",
      "3 fold train rmse : 1.524 valid rmse : 3.529\n",
      "4 fold train rmse : 1.527 valid rmse : 3.501\n",
      "\n",
      "\n",
      "mean train rmse : 1.530 mean valid rmse : 3.506\n",
      "test rmse 3.402 \n"
     ]
    }
   ],
   "source": [
    "#log transformation\n",
    "model_cv_test(rf, X_train, y_log_train, X_test, y_log_test, True)"
   ]
  },
  {
   "cell_type": "code",
   "execution_count": null,
   "metadata": {},
   "outputs": [],
   "source": []
  }
 ],
 "metadata": {
  "hide_input": false,
  "kernelspec": {
   "display_name": "Python 3",
   "language": "python",
   "name": "python3"
  },
  "language_info": {
   "codemirror_mode": {
    "name": "ipython",
    "version": 3
   },
   "file_extension": ".py",
   "mimetype": "text/x-python",
   "name": "python",
   "nbconvert_exporter": "python",
   "pygments_lexer": "ipython3",
   "version": "3.7.1"
  },
  "notify_time": "30",
  "toc": {
   "base_numbering": 1,
   "nav_menu": {},
   "number_sections": true,
   "sideBar": true,
   "skip_h1_title": false,
   "title_cell": "Table of Contents",
   "title_sidebar": "Contents",
   "toc_cell": false,
   "toc_position": {},
   "toc_section_display": true,
   "toc_window_display": true
  }
 },
 "nbformat": 4,
 "nbformat_minor": 2
}
