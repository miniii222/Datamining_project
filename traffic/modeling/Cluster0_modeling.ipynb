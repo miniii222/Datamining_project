{
 "cells": [
  {
   "cell_type": "code",
   "execution_count": 1,
   "metadata": {},
   "outputs": [
    {
     "data": {
      "text/plain": [
       "['.ipynb_checkpoints',\n",
       " '300전사들.pptx',\n",
       " 'Cluster0_modeling.ipynb',\n",
       " 'Cluster1_modeling.ipynb',\n",
       " 'cluster_df.csv',\n",
       " 'Cluster_modeling_sohyun.ipynb',\n",
       " 'final_modeling1.ipynb',\n",
       " 'final_modeling2.ipynb',\n",
       " 'test.csv',\n",
       " 'train.csv']"
      ]
     },
     "execution_count": 1,
     "metadata": {},
     "output_type": "execute_result"
    }
   ],
   "source": [
    "import pandas as pd\n",
    "import numpy as np\n",
    "import os\n",
    "\n",
    "os.listdir('./')"
   ]
  },
  {
   "cell_type": "code",
   "execution_count": 2,
   "metadata": {},
   "outputs": [
    {
     "data": {
      "text/plain": [
       "(1489618, 44)"
      ]
     },
     "execution_count": 2,
     "metadata": {},
     "output_type": "execute_result"
    }
   ],
   "source": [
    "train = pd.read_csv('./train.csv')\n",
    "test = pd.read_csv('./test.csv')\n",
    "cluster_df = pd.read_csv('./cluster_df.csv')\n",
    "train['train'] = 1\n",
    "test['train'] = 0\n",
    "\n",
    "df = pd.concat([train, test])\n",
    "df = pd.merge(df, cluster_df, how = 'left')\n",
    "df.shape"
   ]
  },
  {
   "cell_type": "code",
   "execution_count": 3,
   "metadata": {
    "collapsed": true
   },
   "outputs": [],
   "source": [
    "import matplotlib.pyplot as plt\n",
    "import seaborn as sns"
   ]
  },
  {
   "cell_type": "code",
   "execution_count": 4,
   "metadata": {
    "collapsed": true
   },
   "outputs": [],
   "source": [
    "from sklearn.preprocessing import LabelEncoder\n",
    "\n",
    "lb_make = LabelEncoder()\n",
    "df[\"days\"] = lb_make.fit_transform(df[\"days\"])\n",
    "df[\"direction\"] = lb_make.fit_transform(df[\"direction\"])\n",
    "df[\"road_type\"] = lb_make.fit_transform(df[\"road_type\"])\n",
    "df[\"urban_suburb\"] = lb_make.fit_transform(df[\"urban_suburb\"])\n",
    "df[\"district\"] = lb_make.fit_transform(df[\"district\"])\n",
    "df[\"time\"] = lb_make.fit_transform(df[\"time\"])"
   ]
  },
  {
   "cell_type": "code",
   "execution_count": 5,
   "metadata": {
    "collapsed": true
   },
   "outputs": [],
   "source": [
    "def rain_level(rain) :\n",
    "    if rain >= 30 :\n",
    "        return 3\n",
    "    else :\n",
    "        if rain >=15 :\n",
    "            return 2\n",
    "        else :\n",
    "            if rain >=3 :\n",
    "                return 1\n",
    "            else : return 0\n",
    "\n",
    "def dust_PM2_level(dust) :\n",
    "    if dust >= 76 :\n",
    "        return 3\n",
    "    else :\n",
    "        if dust >=36 :\n",
    "            return 2\n",
    "        else :\n",
    "            if dust >=16 :\n",
    "                return 1\n",
    "            else : return 0      \n",
    "\n",
    "def dust_PM10_level(dust) :\n",
    "    if dust >= 151 :\n",
    "        return 3\n",
    "    else :\n",
    "        if dust >=81 :\n",
    "            return 2\n",
    "        else :\n",
    "            if dust >=31 :\n",
    "                return 1\n",
    "            else : return 0\n",
    "\n",
    "def wind_level(wind) :\n",
    "    if wind >= 14 :\n",
    "        return 3\n",
    "    else :\n",
    "        if wind >=9 :\n",
    "            return 2\n",
    "        else :\n",
    "            if wind >=4 :\n",
    "                return 1\n",
    "            else : return 0\n",
    "\n",
    "def O3_level(O3) :\n",
    "    if O3 >= 0.151 :\n",
    "        return 3\n",
    "    else :\n",
    "        if O3 >=0.091 :\n",
    "            return 2\n",
    "        else :\n",
    "            if O3 >=0.031 :\n",
    "                return 1\n",
    "            else : return 0\n",
    "            \n",
    "df['dust_PM10_level'] = df['PM10'].apply(lambda x : dust_PM10_level(x))\n",
    "df['dust_PM2_level'] = df['PM2.5'].apply(lambda x : dust_PM2_level(x))\n",
    "df['rain_level'] = df['rain'].apply(lambda x : rain_level(x))       \n",
    "df['wind_level'] = df['wind'].apply(lambda x : wind_level(x))            \n",
    "df['O3_level'] = df['O3'].apply(lambda x : O3_level(x))\n",
    "\n",
    "df['hsv'] = df['holiday'] + df['special'] + df['vacation']\n",
    "df['cctv_kids'] = df['cctv'] + df['kids']\n",
    "\n",
    "df['cctv_length'] = df['cctv'] / df['road_length']\n",
    "df['kids_length'] = df['kids'] / df['road_length']\n",
    "df['entrance_length'] = df['entrance'] / df['road_length']\n",
    "df['signal_length'] = df['signal'] / df['road_length']\n",
    "\n",
    "df['cctv_num'] = df['cctv'] / df['inter_num']\n",
    "df['kids_num'] = df['kids'] / df['inter_num']\n",
    "df['entrance_num'] = df['entrance'] / df['inter_num']\n",
    "df['signal_num'] = df['signal'] / df['inter_num']\n",
    "\n",
    "bins = [0,500,1000,1500,2000,4000]\n",
    "bins_names = [0,1,2,3,4] # 구간별 이름\n",
    "df['severity_level'] = pd.cut(df['severity'], bins, labels=bins_names)\n",
    "\n",
    "bins = [-40,-10,10,20,30,50]\n",
    "bins_names = [0,1,2,3,4] # 구간별 이름\n",
    "df['temp_level'] = pd.cut(df['temperature'], bins, labels=bins_names)"
   ]
  },
  {
   "cell_type": "code",
   "execution_count": 6,
   "metadata": {},
   "outputs": [
    {
     "data": {
      "text/plain": [
       "(1489618, 116)"
      ]
     },
     "execution_count": 6,
     "metadata": {},
     "output_type": "execute_result"
    }
   ],
   "source": [
    "cols = ['days','time','road_type','month','temp_level','rain_level','dust_PM10_level',\n",
    "       'dust_PM2_level', 'rain_level', 'wind_level', 'O3_level','severity_level']\n",
    "\n",
    "df_dummy = pd.get_dummies(df, columns=cols)\n",
    "df_dummy.shape"
   ]
  },
  {
   "cell_type": "code",
   "execution_count": 7,
   "metadata": {},
   "outputs": [
    {
     "data": {
      "text/plain": [
       "(1489618, 128)"
      ]
     },
     "execution_count": 7,
     "metadata": {},
     "output_type": "execute_result"
    }
   ],
   "source": [
    "df = pd.concat([df_dummy, df[cols]], axis = 1)\n",
    "df.shape"
   ]
  },
  {
   "cell_type": "code",
   "execution_count": 8,
   "metadata": {
    "collapsed": true
   },
   "outputs": [],
   "source": [
    "cols = ['d1', 'd2', 'd3', 'd4','victims', 'severity', 'accident_count']\n",
    "\n",
    "for col in cols :\n",
    "    df[col + '_length'] = df[col] / df['road_length']\n",
    "    df[col + '_num'] = df[col] / df['inter_num']"
   ]
  },
  {
   "cell_type": "code",
   "execution_count": 9,
   "metadata": {
    "collapsed": true
   },
   "outputs": [],
   "source": [
    "def seasonal(month) :\n",
    "    if (month <= 5) & (month >= 3):\n",
    "        return 0\n",
    "    elif (month >= 6) & (month >= 8):\n",
    "        return 1\n",
    "    elif (month >= 9) & (month >= 11):\n",
    "        return 2\n",
    "    else :\n",
    "        return 3\n",
    "df['season'] = df['month'].apply(lambda x : seasonal(x))"
   ]
  },
  {
   "cell_type": "markdown",
   "metadata": {},
   "source": [
    "# Cluster 0"
   ]
  },
  {
   "cell_type": "code",
   "execution_count": 10,
   "metadata": {},
   "outputs": [
    {
     "name": "stdout",
     "output_type": "stream",
     "text": [
      "train shape :  (461717, 135)\n",
      "test shape :  (197809, 135)\n"
     ]
    }
   ],
   "source": [
    "c0 = df[df.cluster == 0]\n",
    "c0.shape\n",
    "\n",
    "c0 = c0.drop(['date','road_name','link_id','start_point','end_point'],axis = 1)\n",
    "c0.drop(c0.var().index[c0.var() == 0],axis = 1, inplace = True)\n",
    "c0 = c0.reset_index(drop = True)\n",
    "\n",
    "train = c0[c0.train == 1]\n",
    "test = c0[c0.train == 0]\n",
    "\n",
    "print('train shape : ', train.shape)\n",
    "print('test shape : ', test.shape)"
   ]
  },
  {
   "cell_type": "code",
   "execution_count": 11,
   "metadata": {},
   "outputs": [
    {
     "name": "stdout",
     "output_type": "stream",
     "text": [
      "((461717, 133), (197809, 133)) ((461717,), (197809,))\n"
     ]
    }
   ],
   "source": [
    "X_train = train.drop(['y', 'train'], axis = 1)\n",
    "y_train = train.y\n",
    "\n",
    "X_test = test.drop(['y','train'], axis = 1)\n",
    "y_test = test.y\n",
    "\n",
    "print((X_train.shape, X_test.shape), (y_train.shape, y_test.shape))"
   ]
  },
  {
   "cell_type": "code",
   "execution_count": 12,
   "metadata": {
    "collapsed": true
   },
   "outputs": [],
   "source": [
    "from sklearn.metrics import mean_squared_error\n",
    "\n",
    "def rmse(y_true, y_pred) : \n",
    "    return np.sqrt(mean_squared_error(y_true, y_pred))"
   ]
  },
  {
   "cell_type": "code",
   "execution_count": 13,
   "metadata": {
    "collapsed": true
   },
   "outputs": [],
   "source": [
    "def rmse_print(model) :\n",
    "    model.fit(X_train, y_train)\n",
    "    y_pred = model.predict(X_test)\n",
    "    \n",
    "    print('{0} test rmse : {1:.3f}'.format(model.__class__.__name__, rmse(y_test, y_pred)))"
   ]
  },
  {
   "cell_type": "code",
   "execution_count": null,
   "metadata": {
    "collapsed": true
   },
   "outputs": [],
   "source": [
    "def model_cv_test(model, train_X, train_y, test_X, test_y, is_log) :\n",
    "\n",
    "    train_rmse = []\n",
    "    valid_rmse = []\n",
    "    \n",
    "    print('##### {} #####'.format(model.__class__.__name__))\n",
    "        \n",
    "    for i, (train_idx, val_idx) in enumerate(kf.split(train_X)):\n",
    "        X_train, X_val = train_X.iloc[train_idx, :], train_X.iloc[val_idx, :]\n",
    "        y_train, y_val = train_y[train_idx], train_y[val_idx]\n",
    "\n",
    "        model.fit(X_train, y_train)\n",
    "        \n",
    "        if is_log :\n",
    "            y_train = np.expm1(y_train)\n",
    "            y_val = np.expm1(y_val)\n",
    "            pred_train = np.expm1(model.predict(X_train))\n",
    "            pred_valid = np.expm1(model.predict(X_val))\n",
    "        else :\n",
    "            pred_train = model.predict(X_train)\n",
    "            pred_valid = model.predict(X_val)\n",
    "\n",
    "        print('{0} fold train rmse : {1:.3f} valid rmse : {2:.3f}'.format(i, rmse(y_train, pred_train), rmse(y_val, pred_valid)))\n",
    "        \n",
    "        train_rmse.append(rmse(y_train, pred_train))\n",
    "        valid_rmse.append(rmse(y_val, pred_valid))\n",
    "\n",
    "    print('\\n')    \n",
    "    print('mean train rmse : {0:.3f} mean valid rmse : {1:.3f}'.format(np.mean(train_rmse), np.mean(valid_rmse)))\n",
    "\n",
    "    \n",
    "    model.fit(train_X, train_y)\n",
    "    \n",
    "    if is_log :\n",
    "        test_y = np.expm1(test_y)\n",
    "        pred_test = np.expm1(model.predict(test_X))\n",
    "    else :\n",
    "        pred_test = model.predict(test_X)\n",
    "    \n",
    "    print('test rmse {0:.3f} '.format(rmse(test_y, pred_test)))"
   ]
  },
  {
   "cell_type": "code",
   "execution_count": null,
   "metadata": {
    "collapsed": true
   },
   "outputs": [],
   "source": [
    "from sklearn.model_selection import KFold\n",
    "kf = KFold(n_splits = 3, random_state = 333)"
   ]
  },
  {
   "cell_type": "markdown",
   "metadata": {},
   "source": [
    "# OLS"
   ]
  },
  {
   "cell_type": "code",
   "execution_count": 26,
   "metadata": {
    "collapsed": true
   },
   "outputs": [],
   "source": [
    "from sklearn.linear_model import LinearRegression, Lasso, Ridge\n",
    "lr = LinearRegression()"
   ]
  },
  {
   "cell_type": "code",
   "execution_count": 27,
   "metadata": {
    "collapsed": true
   },
   "outputs": [],
   "source": [
    "from sklearn.preprocessing import StandardScaler\n",
    "sc = StandardScaler()\n",
    "\n",
    "sc.fit(X_train)\n",
    "X_train_sc = pd.DataFrame(sc.transform(X_train))\n",
    "X_test_sc = pd.DataFrame(sc.transform(X_test))"
   ]
  },
  {
   "cell_type": "code",
   "execution_count": 29,
   "metadata": {},
   "outputs": [
    {
     "name": "stdout",
     "output_type": "stream",
     "text": [
      "##### LinearRegression #####\n",
      "0 fold train rmse : 7.997 valid rmse : 8.023\n",
      "1 fold train rmse : 8.014 valid rmse : 7.989\n",
      "2 fold train rmse : 8.003 valid rmse : 8.011\n",
      "\n",
      "\n",
      "mean train rmse : 8.005 mean valid rmse : 8.008\n",
      "test rmse 7.983 \n"
     ]
    }
   ],
   "source": [
    "model_cv_test(lr, X_train, y_train, X_test, y_test, False)"
   ]
  },
  {
   "cell_type": "markdown",
   "metadata": {},
   "source": [
    "# Ridge"
   ]
  },
  {
   "cell_type": "code",
   "execution_count": 30,
   "metadata": {},
   "outputs": [
    {
     "name": "stdout",
     "output_type": "stream",
     "text": [
      "##### Ridge #####\n",
      "0 fold train rmse : 7.999 valid rmse : 8.024\n",
      "1 fold train rmse : 8.016 valid rmse : 7.991\n",
      "2 fold train rmse : 8.005 valid rmse : 8.012\n",
      "\n",
      "\n",
      "mean train rmse : 8.007 mean valid rmse : 8.009\n",
      "test rmse 7.984 \n"
     ]
    }
   ],
   "source": [
    "ridge = Ridge()\n",
    "model_cv_test(ridge, X_train_sc, y_train, X_test_sc, y_test, False)"
   ]
  },
  {
   "cell_type": "code",
   "execution_count": 32,
   "metadata": {
    "collapsed": true
   },
   "outputs": [],
   "source": [
    "from sklearn.model_selection import cross_val_score\n",
    "cv = KFold(n_splits = 3, random_state = 333)\n",
    "from bayes_opt import BayesianOptimization"
   ]
  },
  {
   "cell_type": "code",
   "execution_count": 33,
   "metadata": {
    "collapsed": true
   },
   "outputs": [],
   "source": [
    "def RidgeCV(alpha) :\n",
    "    ridge = Ridge(alpha = alpha)\n",
    "    rmse = np.sqrt(-cross_val_score(ridge, X_train,y_train, scoring = 'neg_mean_squared_error', cv = cv))\n",
    "    return -rmse.mean()"
   ]
  },
  {
   "cell_type": "code",
   "execution_count": 34,
   "metadata": {},
   "outputs": [
    {
     "name": "stdout",
     "output_type": "stream",
     "text": [
      "|   iter    |  target   |   alpha   |\n",
      "-------------------------------------\n",
      "| \u001b[0m 1       \u001b[0m | \u001b[0m-8.301   \u001b[0m | \u001b[0m 4.17    \u001b[0m |\n",
      "| \u001b[0m 2       \u001b[0m | \u001b[0m-8.338   \u001b[0m | \u001b[0m 7.203   \u001b[0m |\n",
      "| \u001b[95m 3       \u001b[0m | \u001b[95m-8.018   \u001b[0m | \u001b[95m 0.001144\u001b[0m |\n",
      "| \u001b[0m 4       \u001b[0m | \u001b[0m-8.277   \u001b[0m | \u001b[0m 3.023   \u001b[0m |\n",
      "| \u001b[0m 5       \u001b[0m | \u001b[0m-8.216   \u001b[0m | \u001b[0m 1.468   \u001b[0m |\n",
      "| \u001b[0m 6       \u001b[0m | \u001b[0m-8.357   \u001b[0m | \u001b[0m 10.0    \u001b[0m |\n"
     ]
    },
    {
     "name": "stderr",
     "output_type": "stream",
     "text": [
      "c:\\users\\user\\appdata\\local\\programs\\python\\python35\\lib\\site-packages\\scipy\\linalg\\basic.py:223: RuntimeWarning: scipy.linalg.solve\n",
      "Ill-conditioned matrix detected. Result is not guaranteed to be accurate.\n",
      "Reciprocal condition number: 2.2841079607437454e-36\n",
      "  ' condition number: {}'.format(rcond), RuntimeWarning)\n"
     ]
    },
    {
     "name": "stdout",
     "output_type": "stream",
     "text": [
      "| \u001b[0m 7       \u001b[0m | \u001b[0m-1.206e+1\u001b[0m | \u001b[0m 4.441e-1\u001b[0m |\n",
      "| \u001b[0m 8       \u001b[0m | \u001b[0m-8.301   \u001b[0m | \u001b[0m 4.17    \u001b[0m |\n",
      "| \u001b[0m 9       \u001b[0m | \u001b[0m-8.277   \u001b[0m | \u001b[0m 3.023   \u001b[0m |\n",
      "| \u001b[0m 10      \u001b[0m | \u001b[0m-8.277   \u001b[0m | \u001b[0m 3.023   \u001b[0m |\n",
      "| \u001b[0m 11      \u001b[0m | \u001b[0m-8.216   \u001b[0m | \u001b[0m 1.468   \u001b[0m |\n",
      "| \u001b[0m 12      \u001b[0m | \u001b[0m-8.277   \u001b[0m | \u001b[0m 3.023   \u001b[0m |\n",
      "| \u001b[0m 13      \u001b[0m | \u001b[0m-8.357   \u001b[0m | \u001b[0m 10.0    \u001b[0m |\n",
      "| \u001b[0m 14      \u001b[0m | \u001b[0m-8.338   \u001b[0m | \u001b[0m 7.203   \u001b[0m |\n",
      "| \u001b[0m 15      \u001b[0m | \u001b[0m-8.338   \u001b[0m | \u001b[0m 7.203   \u001b[0m |\n",
      "| \u001b[0m 16      \u001b[0m | \u001b[0m-8.216   \u001b[0m | \u001b[0m 1.468   \u001b[0m |\n",
      "| \u001b[0m 17      \u001b[0m | \u001b[0m-8.216   \u001b[0m | \u001b[0m 1.468   \u001b[0m |\n",
      "| \u001b[0m 18      \u001b[0m | \u001b[0m-8.216   \u001b[0m | \u001b[0m 1.468   \u001b[0m |\n",
      "| \u001b[0m 19      \u001b[0m | \u001b[0m-8.357   \u001b[0m | \u001b[0m 10.0    \u001b[0m |\n",
      "| \u001b[0m 20      \u001b[0m | \u001b[0m-8.216   \u001b[0m | \u001b[0m 1.468   \u001b[0m |\n",
      "| \u001b[0m 21      \u001b[0m | \u001b[0m-8.216   \u001b[0m | \u001b[0m 1.468   \u001b[0m |\n",
      "| \u001b[0m 22      \u001b[0m | \u001b[0m-8.018   \u001b[0m | \u001b[0m 0.001151\u001b[0m |\n",
      "| \u001b[0m 23      \u001b[0m | \u001b[0m-8.357   \u001b[0m | \u001b[0m 10.0    \u001b[0m |\n",
      "| \u001b[0m 24      \u001b[0m | \u001b[0m-8.301   \u001b[0m | \u001b[0m 4.17    \u001b[0m |\n",
      "| \u001b[0m 25      \u001b[0m | \u001b[0m-8.301   \u001b[0m | \u001b[0m 4.17    \u001b[0m |\n",
      "| \u001b[0m 26      \u001b[0m | \u001b[0m-8.338   \u001b[0m | \u001b[0m 7.203   \u001b[0m |\n",
      "| \u001b[0m 27      \u001b[0m | \u001b[0m-8.216   \u001b[0m | \u001b[0m 1.468   \u001b[0m |\n",
      "| \u001b[0m 28      \u001b[0m | \u001b[0m-8.018   \u001b[0m | \u001b[0m 0.001144\u001b[0m |\n",
      "| \u001b[0m 29      \u001b[0m | \u001b[0m-8.357   \u001b[0m | \u001b[0m 10.0    \u001b[0m |\n",
      "| \u001b[0m 30      \u001b[0m | \u001b[0m-8.357   \u001b[0m | \u001b[0m 10.0    \u001b[0m |\n",
      "=====================================\n"
     ]
    }
   ],
   "source": [
    "pbounds = {'alpha' : (0,10)}\n",
    "\n",
    "Ridge_Bo = BayesianOptimization(f = RidgeCV, pbounds = pbounds, verbose = 2, random_state = 1)\n",
    "Ridge_Bo.maximize()"
   ]
  },
  {
   "cell_type": "code",
   "execution_count": 35,
   "metadata": {},
   "outputs": [
    {
     "name": "stdout",
     "output_type": "stream",
     "text": [
      "##### Ridge #####\n",
      "0 fold train rmse : 7.997 valid rmse : 8.023\n",
      "1 fold train rmse : 8.014 valid rmse : 7.989\n",
      "2 fold train rmse : 8.003 valid rmse : 8.011\n",
      "\n",
      "\n",
      "mean train rmse : 8.005 mean valid rmse : 8.008\n",
      "test rmse 7.983 \n"
     ]
    }
   ],
   "source": [
    "ridge = Ridge(alpha=Ridge_Bo.max['params']['alpha'])\n",
    "model_cv_test(ridge, X_train_sc, y_train, X_test_sc, y_test, False)"
   ]
  },
  {
   "cell_type": "code",
   "execution_count": 36,
   "metadata": {},
   "outputs": [
    {
     "name": "stdout",
     "output_type": "stream",
     "text": [
      "##### Ridge #####\n",
      "0 fold train rmse : 8.007 valid rmse : 8.034\n",
      "1 fold train rmse : 8.024 valid rmse : 7.999\n",
      "2 fold train rmse : 8.014 valid rmse : 8.019\n",
      "\n",
      "\n",
      "mean train rmse : 8.015 mean valid rmse : 8.018\n",
      "test rmse 7.994 \n"
     ]
    }
   ],
   "source": [
    "ridge = Ridge(alpha=Ridge_Bo.max['params']['alpha'])\n",
    "model_cv_test(ridge, X_train, y_train, X_test, y_test, False)"
   ]
  },
  {
   "cell_type": "markdown",
   "metadata": {},
   "source": [
    "# Lasso"
   ]
  },
  {
   "cell_type": "code",
   "execution_count": 37,
   "metadata": {},
   "outputs": [
    {
     "name": "stdout",
     "output_type": "stream",
     "text": [
      "##### Lasso #####\n",
      "0 fold train rmse : 9.755 valid rmse : 9.796\n",
      "1 fold train rmse : 9.776 valid rmse : 9.736\n",
      "2 fold train rmse : 9.772 valid rmse : 9.771\n",
      "\n",
      "\n",
      "mean train rmse : 9.768 mean valid rmse : 9.768\n",
      "test rmse 9.754 \n"
     ]
    }
   ],
   "source": [
    "lasso = Lasso()\n",
    "model_cv_test(lasso, X_train_sc, y_train, X_test_sc, y_test, False)"
   ]
  },
  {
   "cell_type": "markdown",
   "metadata": {},
   "source": [
    "# RandomForest"
   ]
  },
  {
   "cell_type": "code",
   "execution_count": 14,
   "metadata": {
    "collapsed": true
   },
   "outputs": [],
   "source": [
    "from sklearn.ensemble import RandomForestRegressor\n",
    "rf = RandomForestRegressor(n_jobs = -1)"
   ]
  },
  {
   "cell_type": "code",
   "execution_count": 42,
   "metadata": {},
   "outputs": [
    {
     "name": "stdout",
     "output_type": "stream",
     "text": [
      "##### RandomForestRegressor #####\n",
      "0 fold train rmse : 1.473 valid rmse : 3.461\n",
      "1 fold train rmse : 1.474 valid rmse : 3.485\n",
      "2 fold train rmse : 1.471 valid rmse : 3.477\n",
      "\n",
      "\n",
      "mean train rmse : 1.473 mean valid rmse : 3.474\n",
      "test rmse 3.287 \n"
     ]
    }
   ],
   "source": [
    "model_cv_test(rf, X_train, y_train, X_test, y_test, False)"
   ]
  },
  {
   "cell_type": "code",
   "execution_count": 60,
   "metadata": {},
   "outputs": [
    {
     "ename": "KeyboardInterrupt",
     "evalue": "",
     "output_type": "error",
     "traceback": [
      "\u001b[1;31m---------------------------------------------------------------------------\u001b[0m",
      "\u001b[1;31mKeyboardInterrupt\u001b[0m                         Traceback (most recent call last)",
      "\u001b[1;32m<ipython-input-60-7d452f7b5d97>\u001b[0m in \u001b[0;36m<module>\u001b[1;34m()\u001b[0m\n\u001b[1;32m----> 1\u001b[1;33m \u001b[0mrf\u001b[0m\u001b[1;33m.\u001b[0m\u001b[0mfit\u001b[0m\u001b[1;33m(\u001b[0m\u001b[0mX_train\u001b[0m\u001b[1;33m,\u001b[0m \u001b[0my_train\u001b[0m\u001b[1;33m)\u001b[0m\u001b[1;33m\u001b[0m\u001b[0m\n\u001b[0m\u001b[0;32m      2\u001b[0m \u001b[0mrf_pred\u001b[0m \u001b[1;33m=\u001b[0m \u001b[0mrf\u001b[0m\u001b[1;33m.\u001b[0m\u001b[0mpredict\u001b[0m\u001b[1;33m(\u001b[0m\u001b[0mX_test\u001b[0m\u001b[1;33m)\u001b[0m\u001b[1;33m\u001b[0m\u001b[0m\n\u001b[0;32m      3\u001b[0m \u001b[1;33m\u001b[0m\u001b[0m\n\u001b[0;32m      4\u001b[0m \u001b[0mplt\u001b[0m\u001b[1;33m.\u001b[0m\u001b[0mfigure\u001b[0m\u001b[1;33m(\u001b[0m\u001b[0mfigsize\u001b[0m \u001b[1;33m=\u001b[0m \u001b[1;33m(\u001b[0m\u001b[1;36m5\u001b[0m\u001b[1;33m,\u001b[0m\u001b[1;36m5\u001b[0m\u001b[1;33m)\u001b[0m\u001b[1;33m)\u001b[0m\u001b[1;33m\u001b[0m\u001b[0m\n\u001b[0;32m      5\u001b[0m \u001b[0msns\u001b[0m\u001b[1;33m.\u001b[0m\u001b[0mregplot\u001b[0m\u001b[1;33m(\u001b[0m\u001b[0my_test\u001b[0m\u001b[1;33m,\u001b[0m \u001b[0mrf_pred\u001b[0m\u001b[1;33m)\u001b[0m\u001b[1;33m\u001b[0m\u001b[0m\n",
      "\u001b[1;32mc:\\users\\user\\appdata\\local\\programs\\python\\python35\\lib\\site-packages\\sklearn\\ensemble\\forest.py\u001b[0m in \u001b[0;36mfit\u001b[1;34m(self, X, y, sample_weight)\u001b[0m\n\u001b[0;32m    324\u001b[0m                     \u001b[0mt\u001b[0m\u001b[1;33m,\u001b[0m \u001b[0mself\u001b[0m\u001b[1;33m,\u001b[0m \u001b[0mX\u001b[0m\u001b[1;33m,\u001b[0m \u001b[0my\u001b[0m\u001b[1;33m,\u001b[0m \u001b[0msample_weight\u001b[0m\u001b[1;33m,\u001b[0m \u001b[0mi\u001b[0m\u001b[1;33m,\u001b[0m \u001b[0mlen\u001b[0m\u001b[1;33m(\u001b[0m\u001b[0mtrees\u001b[0m\u001b[1;33m)\u001b[0m\u001b[1;33m,\u001b[0m\u001b[1;33m\u001b[0m\u001b[0m\n\u001b[0;32m    325\u001b[0m                     verbose=self.verbose, class_weight=self.class_weight)\n\u001b[1;32m--> 326\u001b[1;33m                 for i, t in enumerate(trees))\n\u001b[0m\u001b[0;32m    327\u001b[0m \u001b[1;33m\u001b[0m\u001b[0m\n\u001b[0;32m    328\u001b[0m             \u001b[1;31m# Collect newly grown trees\u001b[0m\u001b[1;33m\u001b[0m\u001b[1;33m\u001b[0m\u001b[0m\n",
      "\u001b[1;32mc:\\users\\user\\appdata\\local\\programs\\python\\python35\\lib\\site-packages\\sklearn\\externals\\joblib\\parallel.py\u001b[0m in \u001b[0;36m__call__\u001b[1;34m(self, iterable)\u001b[0m\n\u001b[0;32m    766\u001b[0m                 \u001b[1;31m# consumption.\u001b[0m\u001b[1;33m\u001b[0m\u001b[1;33m\u001b[0m\u001b[0m\n\u001b[0;32m    767\u001b[0m                 \u001b[0mself\u001b[0m\u001b[1;33m.\u001b[0m\u001b[0m_iterating\u001b[0m \u001b[1;33m=\u001b[0m \u001b[1;32mFalse\u001b[0m\u001b[1;33m\u001b[0m\u001b[0m\n\u001b[1;32m--> 768\u001b[1;33m             \u001b[0mself\u001b[0m\u001b[1;33m.\u001b[0m\u001b[0mretrieve\u001b[0m\u001b[1;33m(\u001b[0m\u001b[1;33m)\u001b[0m\u001b[1;33m\u001b[0m\u001b[0m\n\u001b[0m\u001b[0;32m    769\u001b[0m             \u001b[1;31m# Make sure that we get a last message telling us we are done\u001b[0m\u001b[1;33m\u001b[0m\u001b[1;33m\u001b[0m\u001b[0m\n\u001b[0;32m    770\u001b[0m             \u001b[0melapsed_time\u001b[0m \u001b[1;33m=\u001b[0m \u001b[0mtime\u001b[0m\u001b[1;33m.\u001b[0m\u001b[0mtime\u001b[0m\u001b[1;33m(\u001b[0m\u001b[1;33m)\u001b[0m \u001b[1;33m-\u001b[0m \u001b[0mself\u001b[0m\u001b[1;33m.\u001b[0m\u001b[0m_start_time\u001b[0m\u001b[1;33m\u001b[0m\u001b[0m\n",
      "\u001b[1;32mc:\\users\\user\\appdata\\local\\programs\\python\\python35\\lib\\site-packages\\sklearn\\externals\\joblib\\parallel.py\u001b[0m in \u001b[0;36mretrieve\u001b[1;34m(self)\u001b[0m\n\u001b[0;32m    717\u001b[0m                     \u001b[0mensure_ready\u001b[0m \u001b[1;33m=\u001b[0m \u001b[0mself\u001b[0m\u001b[1;33m.\u001b[0m\u001b[0m_managed_backend\u001b[0m\u001b[1;33m\u001b[0m\u001b[0m\n\u001b[0;32m    718\u001b[0m                     \u001b[0mbackend\u001b[0m\u001b[1;33m.\u001b[0m\u001b[0mabort_everything\u001b[0m\u001b[1;33m(\u001b[0m\u001b[0mensure_ready\u001b[0m\u001b[1;33m=\u001b[0m\u001b[0mensure_ready\u001b[0m\u001b[1;33m)\u001b[0m\u001b[1;33m\u001b[0m\u001b[0m\n\u001b[1;32m--> 719\u001b[1;33m                 \u001b[1;32mraise\u001b[0m \u001b[0mexception\u001b[0m\u001b[1;33m\u001b[0m\u001b[0m\n\u001b[0m\u001b[0;32m    720\u001b[0m \u001b[1;33m\u001b[0m\u001b[0m\n\u001b[0;32m    721\u001b[0m     \u001b[1;32mdef\u001b[0m \u001b[0m__call__\u001b[0m\u001b[1;33m(\u001b[0m\u001b[0mself\u001b[0m\u001b[1;33m,\u001b[0m \u001b[0miterable\u001b[0m\u001b[1;33m)\u001b[0m\u001b[1;33m:\u001b[0m\u001b[1;33m\u001b[0m\u001b[0m\n",
      "\u001b[1;32mc:\\users\\user\\appdata\\local\\programs\\python\\python35\\lib\\site-packages\\sklearn\\externals\\joblib\\parallel.py\u001b[0m in \u001b[0;36mretrieve\u001b[1;34m(self)\u001b[0m\n\u001b[0;32m    680\u001b[0m                 \u001b[1;31m# check if timeout supported in backend future implementation\u001b[0m\u001b[1;33m\u001b[0m\u001b[1;33m\u001b[0m\u001b[0m\n\u001b[0;32m    681\u001b[0m                 \u001b[1;32mif\u001b[0m \u001b[1;34m'timeout'\u001b[0m \u001b[1;32min\u001b[0m \u001b[0mgetfullargspec\u001b[0m\u001b[1;33m(\u001b[0m\u001b[0mjob\u001b[0m\u001b[1;33m.\u001b[0m\u001b[0mget\u001b[0m\u001b[1;33m)\u001b[0m\u001b[1;33m.\u001b[0m\u001b[0margs\u001b[0m\u001b[1;33m:\u001b[0m\u001b[1;33m\u001b[0m\u001b[0m\n\u001b[1;32m--> 682\u001b[1;33m                     \u001b[0mself\u001b[0m\u001b[1;33m.\u001b[0m\u001b[0m_output\u001b[0m\u001b[1;33m.\u001b[0m\u001b[0mextend\u001b[0m\u001b[1;33m(\u001b[0m\u001b[0mjob\u001b[0m\u001b[1;33m.\u001b[0m\u001b[0mget\u001b[0m\u001b[1;33m(\u001b[0m\u001b[0mtimeout\u001b[0m\u001b[1;33m=\u001b[0m\u001b[0mself\u001b[0m\u001b[1;33m.\u001b[0m\u001b[0mtimeout\u001b[0m\u001b[1;33m)\u001b[0m\u001b[1;33m)\u001b[0m\u001b[1;33m\u001b[0m\u001b[0m\n\u001b[0m\u001b[0;32m    683\u001b[0m                 \u001b[1;32melse\u001b[0m\u001b[1;33m:\u001b[0m\u001b[1;33m\u001b[0m\u001b[0m\n\u001b[0;32m    684\u001b[0m                     \u001b[0mself\u001b[0m\u001b[1;33m.\u001b[0m\u001b[0m_output\u001b[0m\u001b[1;33m.\u001b[0m\u001b[0mextend\u001b[0m\u001b[1;33m(\u001b[0m\u001b[0mjob\u001b[0m\u001b[1;33m.\u001b[0m\u001b[0mget\u001b[0m\u001b[1;33m(\u001b[0m\u001b[1;33m)\u001b[0m\u001b[1;33m)\u001b[0m\u001b[1;33m\u001b[0m\u001b[0m\n",
      "\u001b[1;32mc:\\users\\user\\appdata\\local\\programs\\python\\python35\\lib\\multiprocessing\\pool.py\u001b[0m in \u001b[0;36mget\u001b[1;34m(self, timeout)\u001b[0m\n\u001b[0;32m    600\u001b[0m \u001b[1;33m\u001b[0m\u001b[0m\n\u001b[0;32m    601\u001b[0m     \u001b[1;32mdef\u001b[0m \u001b[0mget\u001b[0m\u001b[1;33m(\u001b[0m\u001b[0mself\u001b[0m\u001b[1;33m,\u001b[0m \u001b[0mtimeout\u001b[0m\u001b[1;33m=\u001b[0m\u001b[1;32mNone\u001b[0m\u001b[1;33m)\u001b[0m\u001b[1;33m:\u001b[0m\u001b[1;33m\u001b[0m\u001b[0m\n\u001b[1;32m--> 602\u001b[1;33m         \u001b[0mself\u001b[0m\u001b[1;33m.\u001b[0m\u001b[0mwait\u001b[0m\u001b[1;33m(\u001b[0m\u001b[0mtimeout\u001b[0m\u001b[1;33m)\u001b[0m\u001b[1;33m\u001b[0m\u001b[0m\n\u001b[0m\u001b[0;32m    603\u001b[0m         \u001b[1;32mif\u001b[0m \u001b[1;32mnot\u001b[0m \u001b[0mself\u001b[0m\u001b[1;33m.\u001b[0m\u001b[0mready\u001b[0m\u001b[1;33m(\u001b[0m\u001b[1;33m)\u001b[0m\u001b[1;33m:\u001b[0m\u001b[1;33m\u001b[0m\u001b[0m\n\u001b[0;32m    604\u001b[0m             \u001b[1;32mraise\u001b[0m \u001b[0mTimeoutError\u001b[0m\u001b[1;33m\u001b[0m\u001b[0m\n",
      "\u001b[1;32mc:\\users\\user\\appdata\\local\\programs\\python\\python35\\lib\\multiprocessing\\pool.py\u001b[0m in \u001b[0;36mwait\u001b[1;34m(self, timeout)\u001b[0m\n\u001b[0;32m    597\u001b[0m \u001b[1;33m\u001b[0m\u001b[0m\n\u001b[0;32m    598\u001b[0m     \u001b[1;32mdef\u001b[0m \u001b[0mwait\u001b[0m\u001b[1;33m(\u001b[0m\u001b[0mself\u001b[0m\u001b[1;33m,\u001b[0m \u001b[0mtimeout\u001b[0m\u001b[1;33m=\u001b[0m\u001b[1;32mNone\u001b[0m\u001b[1;33m)\u001b[0m\u001b[1;33m:\u001b[0m\u001b[1;33m\u001b[0m\u001b[0m\n\u001b[1;32m--> 599\u001b[1;33m         \u001b[0mself\u001b[0m\u001b[1;33m.\u001b[0m\u001b[0m_event\u001b[0m\u001b[1;33m.\u001b[0m\u001b[0mwait\u001b[0m\u001b[1;33m(\u001b[0m\u001b[0mtimeout\u001b[0m\u001b[1;33m)\u001b[0m\u001b[1;33m\u001b[0m\u001b[0m\n\u001b[0m\u001b[0;32m    600\u001b[0m \u001b[1;33m\u001b[0m\u001b[0m\n\u001b[0;32m    601\u001b[0m     \u001b[1;32mdef\u001b[0m \u001b[0mget\u001b[0m\u001b[1;33m(\u001b[0m\u001b[0mself\u001b[0m\u001b[1;33m,\u001b[0m \u001b[0mtimeout\u001b[0m\u001b[1;33m=\u001b[0m\u001b[1;32mNone\u001b[0m\u001b[1;33m)\u001b[0m\u001b[1;33m:\u001b[0m\u001b[1;33m\u001b[0m\u001b[0m\n",
      "\u001b[1;32mc:\\users\\user\\appdata\\local\\programs\\python\\python35\\lib\\threading.py\u001b[0m in \u001b[0;36mwait\u001b[1;34m(self, timeout)\u001b[0m\n\u001b[0;32m    547\u001b[0m             \u001b[0msignaled\u001b[0m \u001b[1;33m=\u001b[0m \u001b[0mself\u001b[0m\u001b[1;33m.\u001b[0m\u001b[0m_flag\u001b[0m\u001b[1;33m\u001b[0m\u001b[0m\n\u001b[0;32m    548\u001b[0m             \u001b[1;32mif\u001b[0m \u001b[1;32mnot\u001b[0m \u001b[0msignaled\u001b[0m\u001b[1;33m:\u001b[0m\u001b[1;33m\u001b[0m\u001b[0m\n\u001b[1;32m--> 549\u001b[1;33m                 \u001b[0msignaled\u001b[0m \u001b[1;33m=\u001b[0m \u001b[0mself\u001b[0m\u001b[1;33m.\u001b[0m\u001b[0m_cond\u001b[0m\u001b[1;33m.\u001b[0m\u001b[0mwait\u001b[0m\u001b[1;33m(\u001b[0m\u001b[0mtimeout\u001b[0m\u001b[1;33m)\u001b[0m\u001b[1;33m\u001b[0m\u001b[0m\n\u001b[0m\u001b[0;32m    550\u001b[0m             \u001b[1;32mreturn\u001b[0m \u001b[0msignaled\u001b[0m\u001b[1;33m\u001b[0m\u001b[0m\n\u001b[0;32m    551\u001b[0m \u001b[1;33m\u001b[0m\u001b[0m\n",
      "\u001b[1;32mc:\\users\\user\\appdata\\local\\programs\\python\\python35\\lib\\threading.py\u001b[0m in \u001b[0;36mwait\u001b[1;34m(self, timeout)\u001b[0m\n\u001b[0;32m    291\u001b[0m         \u001b[1;32mtry\u001b[0m\u001b[1;33m:\u001b[0m    \u001b[1;31m# restore state no matter what (e.g., KeyboardInterrupt)\u001b[0m\u001b[1;33m\u001b[0m\u001b[0m\n\u001b[0;32m    292\u001b[0m             \u001b[1;32mif\u001b[0m \u001b[0mtimeout\u001b[0m \u001b[1;32mis\u001b[0m \u001b[1;32mNone\u001b[0m\u001b[1;33m:\u001b[0m\u001b[1;33m\u001b[0m\u001b[0m\n\u001b[1;32m--> 293\u001b[1;33m                 \u001b[0mwaiter\u001b[0m\u001b[1;33m.\u001b[0m\u001b[0macquire\u001b[0m\u001b[1;33m(\u001b[0m\u001b[1;33m)\u001b[0m\u001b[1;33m\u001b[0m\u001b[0m\n\u001b[0m\u001b[0;32m    294\u001b[0m                 \u001b[0mgotit\u001b[0m \u001b[1;33m=\u001b[0m \u001b[1;32mTrue\u001b[0m\u001b[1;33m\u001b[0m\u001b[0m\n\u001b[0;32m    295\u001b[0m             \u001b[1;32melse\u001b[0m\u001b[1;33m:\u001b[0m\u001b[1;33m\u001b[0m\u001b[0m\n",
      "\u001b[1;31mKeyboardInterrupt\u001b[0m: "
     ]
    }
   ],
   "source": [
    "rf.fit(X_train, y_train)\n",
    "rf_pred = rf.predict(X_test)\n",
    "\n",
    "plt.figure(figsize = (5,5))\n",
    "sns.regplot(y_test, rf_pred)\n",
    "plt.show()"
   ]
  },
  {
   "cell_type": "markdown",
   "metadata": {},
   "source": [
    "# XGBoost"
   ]
  },
  {
   "cell_type": "code",
   "execution_count": 44,
   "metadata": {
    "collapsed": true
   },
   "outputs": [],
   "source": [
    "from xgboost import XGBRegressor\n",
    "xgb = XGBRegressor(n_jobs = -1)"
   ]
  },
  {
   "cell_type": "code",
   "execution_count": 45,
   "metadata": {
    "collapsed": true
   },
   "outputs": [],
   "source": [
    "def model_cv_test2(model, train_X, train_y, test_X, test_y, is_log) :\n",
    "\n",
    "    train_rmse = []\n",
    "    valid_rmse = []\n",
    "    \n",
    "    print('##### {} #####'.format(model.__class__.__name__))\n",
    "        \n",
    "    for i, (train_idx, val_idx) in enumerate(kf.split(train_X)):\n",
    "        X_train, X_val = train_X[train_idx, :], train_X[val_idx, :]\n",
    "        y_train, y_val = train_y[train_idx], train_y[val_idx]\n",
    "\n",
    "        model.fit(X_train, y_train)\n",
    "        \n",
    "        if is_log :\n",
    "            y_train = np.expm1(y_train)\n",
    "            y_val = np.expm1(y_val)\n",
    "            pred_train = np.expm1(model.predict(X_train))\n",
    "            pred_valid = np.expm1(model.predict(X_val))\n",
    "        else :\n",
    "            pred_train = model.predict(X_train)\n",
    "            pred_valid = model.predict(X_val)\n",
    "\n",
    "        print('{0} fold train rmse : {1:.3f} valid rmse : {2:.3f}'.format(i, rmse(y_train, pred_train), rmse(y_val, pred_valid)))\n",
    "        \n",
    "        train_rmse.append(rmse(y_train, pred_train))\n",
    "        valid_rmse.append(rmse(y_val, pred_valid))\n",
    "\n",
    "    print('\\n')    \n",
    "    print('mean train rmse : {0:.3f} mean valid rmse : {1:.3f}'.format(np.mean(train_rmse), np.mean(valid_rmse)))\n",
    "\n",
    "    \n",
    "    model.fit(train_X, train_y)\n",
    "    \n",
    "    if is_log :\n",
    "        test_y = np.expm1(test_y)\n",
    "        pred_test = np.expm1(model.predict(test_X))\n",
    "    else :\n",
    "        pred_test = model.predict(test_X)\n",
    "    \n",
    "    print('test rmse {0:.3f} '.format(rmse(test_y, pred_test)))"
   ]
  },
  {
   "cell_type": "code",
   "execution_count": 46,
   "metadata": {},
   "outputs": [
    {
     "name": "stdout",
     "output_type": "stream",
     "text": [
      "##### XGBRegressor #####\n",
      "[01:19:06] WARNING: C:/Jenkins/workspace/xgboost-win64_release_0.90/src/objective/regression_obj.cu:152: reg:linear is now deprecated in favor of reg:squarederror.\n",
      "0 fold train rmse : 5.659 valid rmse : 5.701\n",
      "[01:19:46] WARNING: C:/Jenkins/workspace/xgboost-win64_release_0.90/src/objective/regression_obj.cu:152: reg:linear is now deprecated in favor of reg:squarederror.\n",
      "1 fold train rmse : 5.661 valid rmse : 5.656\n",
      "[01:20:24] WARNING: C:/Jenkins/workspace/xgboost-win64_release_0.90/src/objective/regression_obj.cu:152: reg:linear is now deprecated in favor of reg:squarederror.\n",
      "2 fold train rmse : 5.679 valid rmse : 5.663\n",
      "\n",
      "\n",
      "mean train rmse : 5.666 mean valid rmse : 5.673\n",
      "[01:21:01] WARNING: C:/Jenkins/workspace/xgboost-win64_release_0.90/src/objective/regression_obj.cu:152: reg:linear is now deprecated in favor of reg:squarederror.\n",
      "test rmse 5.644 \n"
     ]
    }
   ],
   "source": [
    "model_cv_test2(xgb, X_train.values, y_train, X_test.values, y_test, False)"
   ]
  },
  {
   "cell_type": "markdown",
   "metadata": {},
   "source": [
    "# lightGBM"
   ]
  },
  {
   "cell_type": "code",
   "execution_count": 47,
   "metadata": {
    "collapsed": true
   },
   "outputs": [],
   "source": [
    "from lightgbm import LGBMRegressor\n",
    "lgb = LGBMRegressor(n_jobs = -1)"
   ]
  },
  {
   "cell_type": "code",
   "execution_count": 48,
   "metadata": {},
   "outputs": [
    {
     "name": "stdout",
     "output_type": "stream",
     "text": [
      "##### LGBMRegressor #####\n",
      "0 fold train rmse : 4.172 valid rmse : 4.261\n",
      "1 fold train rmse : 4.201 valid rmse : 4.222\n",
      "2 fold train rmse : 4.207 valid rmse : 4.249\n",
      "\n",
      "\n",
      "mean train rmse : 4.193 mean valid rmse : 4.244\n",
      "test rmse 4.202 \n"
     ]
    }
   ],
   "source": [
    "model_cv_test(lgb, X_train, y_train, X_test, y_test, False)"
   ]
  },
  {
   "cell_type": "code",
   "execution_count": 49,
   "metadata": {
    "collapsed": true
   },
   "outputs": [],
   "source": [
    "def lgbCV(learning_rate, n_estimators, num_leaves, colsample_bytree, subsample, reg_alpha,reg_lambda) :\n",
    "    lgb = LGBMRegressor(learning_rate = learning_rate, colsample_bytree = colsample_bytree,\n",
    "                        n_estimators = int(n_estimators), num_leaves = int(num_leaves),\n",
    "                        subsample = subsample, reg_alpha = reg_alpha,reg_lambda = reg_lambda)\n",
    "    \n",
    "    rmse = np.sqrt(-cross_val_score(lgb, X_train,y_train, scoring = 'neg_mean_squared_error', cv = cv))\n",
    "    return -rmse.mean()"
   ]
  },
  {
   "cell_type": "code",
   "execution_count": 50,
   "metadata": {},
   "outputs": [
    {
     "name": "stdout",
     "output_type": "stream",
     "text": [
      "|   iter    |  target   | colsam... | learni... | n_esti... | num_le... | reg_alpha | reg_la... | subsample |\n",
      "-------------------------------------------------------------------------------------------------------------\n",
      "| \u001b[0m 1       \u001b[0m | \u001b[0m-5.318   \u001b[0m | \u001b[0m 0.3502  \u001b[0m | \u001b[0m 0.7206  \u001b[0m | \u001b[0m 20.11   \u001b[0m | \u001b[0m 8.837   \u001b[0m | \u001b[0m 1.117   \u001b[0m | \u001b[0m 1.046   \u001b[0m | \u001b[0m 0.2304  \u001b[0m |\n",
      "| \u001b[95m 2       \u001b[0m | \u001b[95m-3.765   \u001b[0m | \u001b[95m 0.3073  \u001b[0m | \u001b[95m 0.3974  \u001b[0m | \u001b[95m 548.0   \u001b[0m | \u001b[95m 10.71   \u001b[0m | \u001b[95m 1.548   \u001b[0m | \u001b[95m 1.102   \u001b[0m | \u001b[95m 0.7147  \u001b[0m |\n",
      "| \u001b[0m 3       \u001b[0m | \u001b[0m-3.937   \u001b[0m | \u001b[0m 0.1164  \u001b[0m | \u001b[0m 0.6708  \u001b[0m | \u001b[0m 429.0   \u001b[0m | \u001b[0m 12.94   \u001b[0m | \u001b[0m 1.112   \u001b[0m | \u001b[0m 1.099   \u001b[0m | \u001b[0m 0.6605  \u001b[0m |\n",
      "| \u001b[95m 4       \u001b[0m | \u001b[95m-3.442   \u001b[0m | \u001b[95m 0.681   \u001b[0m | \u001b[95m 0.3141  \u001b[0m | \u001b[95m 698.5   \u001b[0m | \u001b[95m 18.02   \u001b[0m | \u001b[95m 1.716   \u001b[0m | \u001b[95m 1.043   \u001b[0m | \u001b[95m 0.1273  \u001b[0m |\n",
      "| \u001b[0m 5       \u001b[0m | \u001b[0m-4.395   \u001b[0m | \u001b[0m 0.2019  \u001b[0m | \u001b[0m 0.8783  \u001b[0m | \u001b[0m 116.4   \u001b[0m | \u001b[0m 10.74   \u001b[0m | \u001b[0m 1.766   \u001b[0m | \u001b[0m 1.267   \u001b[0m | \u001b[0m 0.5843  \u001b[0m |\n",
      "| \u001b[0m 6       \u001b[0m | \u001b[0m-4.239   \u001b[0m | \u001b[0m 0.1     \u001b[0m | \u001b[0m 1.0     \u001b[0m | \u001b[0m 1e+03   \u001b[0m | \u001b[0m 4.0     \u001b[0m | \u001b[0m 1.0     \u001b[0m | \u001b[0m 1.5     \u001b[0m | \u001b[0m 0.8     \u001b[0m |\n",
      "| \u001b[0m 7       \u001b[0m | \u001b[0m-10.65   \u001b[0m | \u001b[0m 0.1     \u001b[0m | \u001b[0m 0.001   \u001b[0m | \u001b[0m 827.0   \u001b[0m | \u001b[0m 4.0     \u001b[0m | \u001b[0m 1.0     \u001b[0m | \u001b[0m 1.5     \u001b[0m | \u001b[0m 0.8     \u001b[0m |\n",
      "| \u001b[0m 8       \u001b[0m | \u001b[0m-3.448   \u001b[0m | \u001b[0m 0.6152  \u001b[0m | \u001b[0m 0.3408  \u001b[0m | \u001b[0m 697.5   \u001b[0m | \u001b[0m 17.93   \u001b[0m | \u001b[0m 1.715   \u001b[0m | \u001b[0m 1.053   \u001b[0m | \u001b[0m 0.1482  \u001b[0m |\n",
      "| \u001b[0m 9       \u001b[0m | \u001b[0m-3.762   \u001b[0m | \u001b[0m 0.2195  \u001b[0m | \u001b[0m 0.5245  \u001b[0m | \u001b[0m 493.0   \u001b[0m | \u001b[0m 11.75   \u001b[0m | \u001b[0m 1.346   \u001b[0m | \u001b[0m 1.101   \u001b[0m | \u001b[0m 0.6884  \u001b[0m |\n",
      "| \u001b[0m 10      \u001b[0m | \u001b[0m-9.214   \u001b[0m | \u001b[0m 0.7     \u001b[0m | \u001b[0m 0.001   \u001b[0m | \u001b[0m 613.1   \u001b[0m | \u001b[0m 20.0    \u001b[0m | \u001b[0m 1.0     \u001b[0m | \u001b[0m 1.0     \u001b[0m | \u001b[0m 0.1     \u001b[0m |\n",
      "| \u001b[0m 11      \u001b[0m | \u001b[0m-4.334   \u001b[0m | \u001b[0m 0.1076  \u001b[0m | \u001b[0m 0.5913  \u001b[0m | \u001b[0m 521.4   \u001b[0m | \u001b[0m 5.544   \u001b[0m | \u001b[0m 1.8     \u001b[0m | \u001b[0m 1.159   \u001b[0m | \u001b[0m 0.8     \u001b[0m |\n",
      "| \u001b[0m 12      \u001b[0m | \u001b[0m-3.822   \u001b[0m | \u001b[0m 0.1788  \u001b[0m | \u001b[0m 0.5875  \u001b[0m | \u001b[0m 462.2   \u001b[0m | \u001b[0m 12.63   \u001b[0m | \u001b[0m 1.216   \u001b[0m | \u001b[0m 1.097   \u001b[0m | \u001b[0m 0.6704  \u001b[0m |\n",
      "| \u001b[0m 13      \u001b[0m | \u001b[0m-4.358   \u001b[0m | \u001b[0m 0.1     \u001b[0m | \u001b[0m 1.0     \u001b[0m | \u001b[0m 722.8   \u001b[0m | \u001b[0m 4.0     \u001b[0m | \u001b[0m 1.0     \u001b[0m | \u001b[0m 1.5     \u001b[0m | \u001b[0m 0.8     \u001b[0m |\n",
      "| \u001b[0m 14      \u001b[0m | \u001b[0m-11.6    \u001b[0m | \u001b[0m 0.7     \u001b[0m | \u001b[0m 0.001   \u001b[0m | \u001b[0m 391.6   \u001b[0m | \u001b[0m 4.0     \u001b[0m | \u001b[0m 1.8     \u001b[0m | \u001b[0m 1.5     \u001b[0m | \u001b[0m 0.1     \u001b[0m |\n",
      "| \u001b[0m 15      \u001b[0m | \u001b[0m-3.969   \u001b[0m | \u001b[0m 0.1     \u001b[0m | \u001b[0m 1.0     \u001b[0m | \u001b[0m 444.3   \u001b[0m | \u001b[0m 20.0    \u001b[0m | \u001b[0m 1.0     \u001b[0m | \u001b[0m 1.0     \u001b[0m | \u001b[0m 0.8     \u001b[0m |\n",
      "| \u001b[0m 16      \u001b[0m | \u001b[0m-10.56   \u001b[0m | \u001b[0m 0.7     \u001b[0m | \u001b[0m 0.001   \u001b[0m | \u001b[0m 699.4   \u001b[0m | \u001b[0m 4.0     \u001b[0m | \u001b[0m 1.0     \u001b[0m | \u001b[0m 1.5     \u001b[0m | \u001b[0m 0.8     \u001b[0m |\n",
      "| \u001b[0m 17      \u001b[0m | \u001b[0m-3.895   \u001b[0m | \u001b[0m 0.1     \u001b[0m | \u001b[0m 1.0     \u001b[0m | \u001b[0m 697.8   \u001b[0m | \u001b[0m 20.0    \u001b[0m | \u001b[0m 1.0     \u001b[0m | \u001b[0m 1.5     \u001b[0m | \u001b[0m 0.8     \u001b[0m |\n",
      "| \u001b[0m 18      \u001b[0m | \u001b[0m-3.817   \u001b[0m | \u001b[0m 0.2049  \u001b[0m | \u001b[0m 0.5355  \u001b[0m | \u001b[0m 497.1   \u001b[0m | \u001b[0m 10.83   \u001b[0m | \u001b[0m 1.414   \u001b[0m | \u001b[0m 1.111   \u001b[0m | \u001b[0m 0.7046  \u001b[0m |\n",
      "| \u001b[0m 19      \u001b[0m | \u001b[0m-4.241   \u001b[0m | \u001b[0m 0.1     \u001b[0m | \u001b[0m 0.6132  \u001b[0m | \u001b[0m 493.9   \u001b[0m | \u001b[0m 6.786   \u001b[0m | \u001b[0m 1.8     \u001b[0m | \u001b[0m 1.0     \u001b[0m | \u001b[0m 0.8     \u001b[0m |\n",
      "| \u001b[0m 20      \u001b[0m | \u001b[0m-3.891   \u001b[0m | \u001b[0m 0.1088  \u001b[0m | \u001b[0m 0.8252  \u001b[0m | \u001b[0m 436.2   \u001b[0m | \u001b[0m 16.25   \u001b[0m | \u001b[0m 1.06    \u001b[0m | \u001b[0m 1.053   \u001b[0m | \u001b[0m 0.726   \u001b[0m |\n",
      "| \u001b[0m 21      \u001b[0m | \u001b[0m-3.787   \u001b[0m | \u001b[0m 0.1516  \u001b[0m | \u001b[0m 0.7246  \u001b[0m | \u001b[0m 455.7   \u001b[0m | \u001b[0m 15.05   \u001b[0m | \u001b[0m 1.143   \u001b[0m | \u001b[0m 1.065   \u001b[0m | \u001b[0m 0.7127  \u001b[0m |\n",
      "| \u001b[0m 22      \u001b[0m | \u001b[0m-3.871   \u001b[0m | \u001b[0m 0.1492  \u001b[0m | \u001b[0m 0.6297  \u001b[0m | \u001b[0m 446.6   \u001b[0m | \u001b[0m 12.83   \u001b[0m | \u001b[0m 1.166   \u001b[0m | \u001b[0m 1.097   \u001b[0m | \u001b[0m 0.6669  \u001b[0m |\n",
      "| \u001b[0m 23      \u001b[0m | \u001b[0m-4.14    \u001b[0m | \u001b[0m 0.196   \u001b[0m | \u001b[0m 0.3646  \u001b[0m | \u001b[0m 455.8   \u001b[0m | \u001b[0m 8.0     \u001b[0m | \u001b[0m 1.299   \u001b[0m | \u001b[0m 1.161   \u001b[0m | \u001b[0m 0.581   \u001b[0m |\n",
      "| \u001b[0m 24      \u001b[0m | \u001b[0m-4.075   \u001b[0m | \u001b[0m 0.1575  \u001b[0m | \u001b[0m 0.4319  \u001b[0m | \u001b[0m 436.9   \u001b[0m | \u001b[0m 8.562   \u001b[0m | \u001b[0m 1.232   \u001b[0m | \u001b[0m 1.157   \u001b[0m | \u001b[0m 0.5829  \u001b[0m |\n",
      "| \u001b[0m 25      \u001b[0m | \u001b[0m-3.806   \u001b[0m | \u001b[0m 0.2514  \u001b[0m | \u001b[0m 0.4516  \u001b[0m | \u001b[0m 540.6   \u001b[0m | \u001b[0m 9.263   \u001b[0m | \u001b[0m 1.619   \u001b[0m | \u001b[0m 1.118   \u001b[0m | \u001b[0m 0.7385  \u001b[0m |\n",
      "| \u001b[0m 26      \u001b[0m | \u001b[0m-3.531   \u001b[0m | \u001b[0m 0.508   \u001b[0m | \u001b[0m 0.6106  \u001b[0m | \u001b[0m 543.1   \u001b[0m | \u001b[0m 16.93   \u001b[0m | \u001b[0m 1.269   \u001b[0m | \u001b[0m 1.272   \u001b[0m | \u001b[0m 0.4936  \u001b[0m |\n",
      "| \u001b[0m 27      \u001b[0m | \u001b[0m-10.16   \u001b[0m | \u001b[0m 0.1     \u001b[0m | \u001b[0m 0.001   \u001b[0m | \u001b[0m 535.0   \u001b[0m | \u001b[0m 16.5    \u001b[0m | \u001b[0m 1.8     \u001b[0m | \u001b[0m 1.0     \u001b[0m | \u001b[0m 0.1     \u001b[0m |\n",
      "| \u001b[0m 28      \u001b[0m | \u001b[0m-3.72    \u001b[0m | \u001b[0m 0.7     \u001b[0m | \u001b[0m 1.0     \u001b[0m | \u001b[0m 544.7   \u001b[0m | \u001b[0m 13.29   \u001b[0m | \u001b[0m 1.0     \u001b[0m | \u001b[0m 1.5     \u001b[0m | \u001b[0m 0.8     \u001b[0m |\n",
      "| \u001b[0m 29      \u001b[0m | \u001b[0m-10.01   \u001b[0m | \u001b[0m 0.1078  \u001b[0m | \u001b[0m 0.001   \u001b[0m | \u001b[0m 547.1   \u001b[0m | \u001b[0m 17.49   \u001b[0m | \u001b[0m 1.8     \u001b[0m | \u001b[0m 1.0     \u001b[0m | \u001b[0m 0.3371  \u001b[0m |\n",
      "| \u001b[0m 30      \u001b[0m | \u001b[0m-3.676   \u001b[0m | \u001b[0m 0.6942  \u001b[0m | \u001b[0m 0.9402  \u001b[0m | \u001b[0m 542.7   \u001b[0m | \u001b[0m 15.03   \u001b[0m | \u001b[0m 1.017   \u001b[0m | \u001b[0m 1.436   \u001b[0m | \u001b[0m 0.6752  \u001b[0m |\n",
      "=============================================================================================================\n"
     ]
    }
   ],
   "source": [
    "pbounds = {\n",
    "    'learning_rate': (0.001,1),\n",
    "    'n_estimators': (20,1000),\n",
    "    'num_leaves': (4,20),\n",
    "    'colsample_bytree' : (0.1,0.7),\n",
    "    'subsample' : (0.1,0.8),\n",
    "    'reg_alpha' : (1,1.8),\n",
    "    'reg_lambda' : (1,1.5)\n",
    "    }\n",
    "\n",
    "lgb_Bo = BayesianOptimization(f = lgbCV, pbounds = pbounds, verbose = 2, random_state = 1)\n",
    "lgb_Bo.maximize()"
   ]
  },
  {
   "cell_type": "code",
   "execution_count": 52,
   "metadata": {},
   "outputs": [
    {
     "data": {
      "text/plain": [
       "{'params': {'colsample_bytree': 0.68095694543163843,\n",
       "  'learning_rate': 0.31411075398108362,\n",
       "  'n_estimators': 698.47616335592784,\n",
       "  'num_leaves': 18.022226436736613,\n",
       "  'reg_alpha': 1.7156853308030779,\n",
       "  'reg_lambda': 1.042522105684889,\n",
       "  'subsample': 0.12733834826301765},\n",
       " 'target': -3.4416905599925793}"
      ]
     },
     "execution_count": 52,
     "metadata": {},
     "output_type": "execute_result"
    }
   ],
   "source": [
    "lgb_Bo.max"
   ]
  },
  {
   "cell_type": "code",
   "execution_count": 53,
   "metadata": {},
   "outputs": [
    {
     "name": "stdout",
     "output_type": "stream",
     "text": [
      "##### LGBMRegressor #####\n",
      "0 fold train rmse : 3.012 valid rmse : 3.468\n",
      "1 fold train rmse : 3.017 valid rmse : 3.428\n",
      "2 fold train rmse : 3.012 valid rmse : 3.430\n",
      "\n",
      "\n",
      "mean train rmse : 3.014 mean valid rmse : 3.442\n",
      "test rmse 3.348 \n"
     ]
    }
   ],
   "source": [
    "lgb = LGBMRegressor(n_jobs = -1,colsample_bytree=lgb_Bo.max['params']['colsample_bytree'],\n",
    "                    learning_rate=lgb_Bo.max['params']['learning_rate'],\n",
    "                    n_estimators=698,\n",
    "                    num_leaves=18,\n",
    "                    reg_alpha=lgb_Bo.max['params']['reg_alpha'],\n",
    "                    reg_lambda=lgb_Bo.max['params']['reg_lambda'],\n",
    "                    subsample=lgb_Bo.max['params']['subsample'],\n",
    "           )\n",
    "\n",
    "model_cv_test(lgb, X_train, y_train, X_test, y_test, False)"
   ]
  },
  {
   "cell_type": "code",
   "execution_count": 57,
   "metadata": {
    "collapsed": true
   },
   "outputs": [],
   "source": [
    "lgb.fit(X_train, y_train)\n",
    "lgb_pred = lgb.predict(X_test)"
   ]
  },
  {
   "cell_type": "code",
   "execution_count": 59,
   "metadata": {},
   "outputs": [
    {
     "data": {
      "image/png": "[encoded data removed]",
      "text/plain": [
       "<matplotlib.figure.Figure at 0x1e425b908>"
      ]
     },
     "metadata": {},
     "output_type": "display_data"
    },
    {
     "data": {
      "image/png": "[encoded data removed]",
      "text/plain": [
       "<matplotlib.figure.Figure at 0xd860b080>"
      ]
     },
     "metadata": {},
     "output_type": "display_data"
    }
   ],
   "source": [
    "plt.figure(figsize = (5,5))\n",
    "sns.regplot(y_test, lgb_pred)\n",
    "plt.show()"
   ]
  }
 ],
 "metadata": {
  "kernelspec": {
   "display_name": "Python 3",
   "language": "python",
   "name": "python3"
  },
  "language_info": {
   "codemirror_mode": {
    "name": "ipython",
    "version": 3
   },
   "file_extension": ".py",
   "mimetype": "text/x-python",
   "name": "python",
   "nbconvert_exporter": "python",
   "pygments_lexer": "ipython3",
   "version": "3.5.3"
  }
 },
 "nbformat": 4,
 "nbformat_minor": 2
}
