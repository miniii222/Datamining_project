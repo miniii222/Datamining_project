{
 "cells": [
  {
   "cell_type": "code",
   "execution_count": 1,
   "metadata": {},
   "outputs": [
    {
     "data": {
      "text/plain": [
       "['.ipynb_checkpoints',\n",
       " '300전사들.pptx',\n",
       " 'Cluster0_modeling.ipynb',\n",
       " 'Cluster1_modeling.ipynb',\n",
       " 'cluster_df.csv',\n",
       " 'Cluster_modeling_sohyun.ipynb',\n",
       " 'final_modeling1.ipynb',\n",
       " 'final_modeling2.ipynb',\n",
       " 'test.csv',\n",
       " 'train.csv']"
      ]
     },
     "execution_count": 1,
     "metadata": {},
     "output_type": "execute_result"
    }
   ],
   "source": [
    "import pandas as pd\n",
    "import numpy as np\n",
    "import os\n",
    "\n",
    "os.listdir('./')"
   ]
  },
  {
   "cell_type": "code",
   "execution_count": 2,
   "metadata": {},
   "outputs": [
    {
     "data": {
      "text/plain": [
       "(1489618, 44)"
      ]
     },
     "execution_count": 2,
     "metadata": {},
     "output_type": "execute_result"
    }
   ],
   "source": [
    "train = pd.read_csv('./train.csv')\n",
    "test = pd.read_csv('./test.csv')\n",
    "cluster_df = pd.read_csv('./cluster_df.csv')\n",
    "train['train'] = 1\n",
    "test['train'] = 0\n",
    "\n",
    "df = pd.concat([train, test])\n",
    "df = pd.merge(df, cluster_df, how = 'left')\n",
    "df.shape"
   ]
  },
  {
   "cell_type": "code",
   "execution_count": 3,
   "metadata": {
    "collapsed": true
   },
   "outputs": [],
   "source": [
    "import matplotlib.pyplot as plt\n",
    "import seaborn as sns"
   ]
  },
  {
   "cell_type": "code",
   "execution_count": 241,
   "metadata": {},
   "outputs": [
    {
     "data": {
      "text/plain": [
       "2    760052\n",
       "0    659526\n",
       "1     70040\n",
       "Name: cluster, dtype: int64"
      ]
     },
     "execution_count": 241,
     "metadata": {},
     "output_type": "execute_result"
    }
   ],
   "source": [
    "df.cluster.value_counts()"
   ]
  },
  {
   "cell_type": "code",
   "execution_count": 4,
   "metadata": {
    "collapsed": true
   },
   "outputs": [],
   "source": [
    "from sklearn.preprocessing import LabelEncoder\n",
    "\n",
    "lb_make = LabelEncoder()\n",
    "df[\"days\"] = lb_make.fit_transform(df[\"days\"])\n",
    "df[\"direction\"] = lb_make.fit_transform(df[\"direction\"])\n",
    "df[\"road_type\"] = lb_make.fit_transform(df[\"road_type\"])\n",
    "df[\"urban_suburb\"] = lb_make.fit_transform(df[\"urban_suburb\"])\n",
    "df[\"district\"] = lb_make.fit_transform(df[\"district\"])\n",
    "df[\"time\"] = lb_make.fit_transform(df[\"time\"])"
   ]
  },
  {
   "cell_type": "code",
   "execution_count": 5,
   "metadata": {
    "collapsed": true
   },
   "outputs": [],
   "source": [
    "def rain_level(rain) :\n",
    "    if rain >= 30 :\n",
    "        return 3\n",
    "    else :\n",
    "        if rain >=15 :\n",
    "            return 2\n",
    "        else :\n",
    "            if rain >=3 :\n",
    "                return 1\n",
    "            else : return 0\n",
    "\n",
    "def dust_PM2_level(dust) :\n",
    "    if dust >= 76 :\n",
    "        return 3\n",
    "    else :\n",
    "        if dust >=36 :\n",
    "            return 2\n",
    "        else :\n",
    "            if dust >=16 :\n",
    "                return 1\n",
    "            else : return 0      \n",
    "\n",
    "def dust_PM10_level(dust) :\n",
    "    if dust >= 151 :\n",
    "        return 3\n",
    "    else :\n",
    "        if dust >=81 :\n",
    "            return 2\n",
    "        else :\n",
    "            if dust >=31 :\n",
    "                return 1\n",
    "            else : return 0\n",
    "\n",
    "def wind_level(wind) :\n",
    "    if wind >= 14 :\n",
    "        return 3\n",
    "    else :\n",
    "        if wind >=9 :\n",
    "            return 2\n",
    "        else :\n",
    "            if wind >=4 :\n",
    "                return 1\n",
    "            else : return 0\n",
    "\n",
    "def O3_level(O3) :\n",
    "    if O3 >= 0.151 :\n",
    "        return 3\n",
    "    else :\n",
    "        if O3 >=0.091 :\n",
    "            return 2\n",
    "        else :\n",
    "            if O3 >=0.031 :\n",
    "                return 1\n",
    "            else : return 0\n",
    "            \n",
    "df['dust_PM10_level'] = df['PM10'].apply(lambda x : dust_PM10_level(x))\n",
    "df['dust_PM2_level'] = df['PM2.5'].apply(lambda x : dust_PM2_level(x))\n",
    "df['rain_level'] = df['rain'].apply(lambda x : rain_level(x))       \n",
    "df['wind_level'] = df['wind'].apply(lambda x : wind_level(x))            \n",
    "df['O3_level'] = df['O3'].apply(lambda x : O3_level(x))"
   ]
  },
  {
   "cell_type": "code",
   "execution_count": 6,
   "metadata": {
    "collapsed": true
   },
   "outputs": [],
   "source": [
    "df['hsv'] = df['holiday'] + df['special'] + df['vacation']\n",
    "df['cctv_kids'] = df['cctv'] + df['kids']\n",
    "\n",
    "df['cctv_length'] = df['cctv'] / df['road_length']\n",
    "df['kids_length'] = df['kids'] / df['road_length']\n",
    "df['entrance_length'] = df['entrance'] / df['road_length']\n",
    "df['signal_length'] = df['signal'] / df['road_length']\n",
    "\n",
    "df['cctv_num'] = df['cctv'] / df['inter_num']\n",
    "df['kids_num'] = df['kids'] / df['inter_num']\n",
    "df['entrance_num'] = df['entrance'] / df['inter_num']\n",
    "df['signal_num'] = df['signal'] / df['inter_num']\n",
    "\n",
    "bins = [0,500,1000,1500,2000,4000]\n",
    "bins_names = [0,1,2,3,4] # 구간별 이름\n",
    "df['severity_level'] = pd.cut(df['severity'], bins, labels=bins_names)\n",
    "\n",
    "bins = [-40,-10,10,20,30,50]\n",
    "bins_names = [0,1,2,3,4] # 구간별 이름\n",
    "df['temp_level'] = pd.cut(df['temperature'], bins, labels=bins_names)"
   ]
  },
  {
   "cell_type": "code",
   "execution_count": 7,
   "metadata": {},
   "outputs": [
    {
     "data": {
      "text/plain": [
       "(1489618, 116)"
      ]
     },
     "execution_count": 7,
     "metadata": {},
     "output_type": "execute_result"
    }
   ],
   "source": [
    "cols = ['days','time','road_type','month','temp_level','rain_level','dust_PM10_level',\n",
    "       'dust_PM2_level', 'rain_level', 'wind_level', 'O3_level','severity_level']\n",
    "\n",
    "df_dummy = pd.get_dummies(df, columns=cols)\n",
    "df_dummy.shape"
   ]
  },
  {
   "cell_type": "code",
   "execution_count": 8,
   "metadata": {},
   "outputs": [
    {
     "data": {
      "text/plain": [
       "(1489618, 128)"
      ]
     },
     "execution_count": 8,
     "metadata": {},
     "output_type": "execute_result"
    }
   ],
   "source": [
    "df = pd.concat([df_dummy, df[cols]], axis = 1)\n",
    "df.shape"
   ]
  },
  {
   "cell_type": "code",
   "execution_count": 9,
   "metadata": {
    "collapsed": true
   },
   "outputs": [],
   "source": [
    "cols = ['d1', 'd2', 'd3', 'd4','victims', 'severity', 'accident_count']\n",
    "\n",
    "for col in cols :\n",
    "    df[col + '_length'] = df[col] / df['road_length']\n",
    "    df[col + '_num'] = df[col] / df['inter_num']"
   ]
  },
  {
   "cell_type": "code",
   "execution_count": 10,
   "metadata": {
    "collapsed": true
   },
   "outputs": [],
   "source": [
    "def seasonal(month) :\n",
    "    if (month <= 5) & (month >= 3):\n",
    "        return 0\n",
    "    elif (month >= 6) & (month >= 8):\n",
    "        return 1\n",
    "    elif (month >= 9) & (month >= 11):\n",
    "        return 2\n",
    "    else :\n",
    "        return 3\n",
    "df['season'] = df['month'].apply(lambda x : seasonal(x))"
   ]
  },
  {
   "cell_type": "markdown",
   "metadata": {},
   "source": [
    "# Cluster 1"
   ]
  },
  {
   "cell_type": "code",
   "execution_count": 11,
   "metadata": {},
   "outputs": [
    {
     "data": {
      "text/plain": [
       "(70040, 143)"
      ]
     },
     "execution_count": 11,
     "metadata": {},
     "output_type": "execute_result"
    }
   ],
   "source": [
    "c1 = df[df.cluster == 1]\n",
    "c1.shape"
   ]
  },
  {
   "cell_type": "code",
   "execution_count": 12,
   "metadata": {},
   "outputs": [
    {
     "name": "stdout",
     "output_type": "stream",
     "text": [
      "train shape :  (49099, 129)\n",
      "test shape :  (20941, 129)\n"
     ]
    }
   ],
   "source": [
    "c1 = c1.drop(['date','road_name','link_id','start_point','end_point'],axis = 1)\n",
    "c1.drop(c1.var().index[c1.var() == 0],axis = 1, inplace = True)\n",
    "c1 = c1.reset_index(drop = True)\n",
    "\n",
    "train = c1[c1.train == 1]\n",
    "test = c1[c1.train == 0]\n",
    "\n",
    "print('train shape : ', train.shape)\n",
    "print('test shape : ', test.shape)"
   ]
  },
  {
   "cell_type": "code",
   "execution_count": 13,
   "metadata": {},
   "outputs": [
    {
     "data": {
      "text/html": [
       "<div>\n",
       "<style>\n",
       "    .dataframe thead tr:only-child th {\n",
       "        text-align: right;\n",
       "    }\n",
       "\n",
       "    .dataframe thead th {\n",
       "        text-align: left;\n",
       "    }\n",
       "\n",
       "    .dataframe tbody tr th {\n",
       "        vertical-align: top;\n",
       "    }\n",
       "</style>\n",
       "<table border=\"1\" class=\"dataframe\">\n",
       "  <thead>\n",
       "    <tr style=\"text-align: right;\">\n",
       "      <th></th>\n",
       "    </tr>\n",
       "  </thead>\n",
       "  <tbody>\n",
       "  </tbody>\n",
       "</table>\n",
       "</div>"
      ],
      "text/plain": [
       "Empty DataFrame\n",
       "Columns: []\n",
       "Index: []"
      ]
     },
     "execution_count": 13,
     "metadata": {},
     "output_type": "execute_result"
    }
   ],
   "source": [
    "col_mask=c1.isnull().any(axis=0) \n",
    "row_mask=c1.isnull().any(axis=1)\n",
    "\n",
    "c1.loc[row_mask,col_mask]"
   ]
  },
  {
   "cell_type": "code",
   "execution_count": 14,
   "metadata": {},
   "outputs": [
    {
     "name": "stdout",
     "output_type": "stream",
     "text": [
      "((49099, 127), (20941, 127)) ((49099,), (20941,))\n"
     ]
    }
   ],
   "source": [
    "X_train = train.drop(['y', 'train'], axis = 1)\n",
    "y_train = train.y\n",
    "\n",
    "X_test = test.drop(['y','train'], axis = 1)\n",
    "y_test = test.y\n",
    "\n",
    "print((X_train.shape, X_test.shape), (y_train.shape, y_test.shape))"
   ]
  },
  {
   "cell_type": "code",
   "execution_count": 15,
   "metadata": {
    "collapsed": true
   },
   "outputs": [],
   "source": [
    "from sklearn.metrics import mean_squared_error\n",
    "\n",
    "def rmse(y_true, y_pred) : \n",
    "    return np.sqrt(mean_squared_error(y_true, y_pred))"
   ]
  },
  {
   "cell_type": "code",
   "execution_count": 105,
   "metadata": {
    "collapsed": true
   },
   "outputs": [],
   "source": [
    "def rmse_print(model) :\n",
    "    model.fit(X_train, y_train)\n",
    "    y_pred = model.predict(X_test)\n",
    "    \n",
    "    print('{0} test rmse : {1:.3f}'.format(model.__class__.__name__, rmse(y_test, y_pred)))"
   ]
  },
  {
   "cell_type": "code",
   "execution_count": 16,
   "metadata": {
    "collapsed": true
   },
   "outputs": [],
   "source": [
    "def model_cv_test(model, train_X, train_y, test_X, test_y, is_log) :\n",
    "\n",
    "    train_rmse = []\n",
    "    valid_rmse = []\n",
    "    \n",
    "    print('##### {} #####'.format(model.__class__.__name__))\n",
    "        \n",
    "    for i, (train_idx, val_idx) in enumerate(kf.split(train_X)):\n",
    "        X_train, X_val = train_X.iloc[train_idx, :], train_X.iloc[val_idx, :]\n",
    "        y_train, y_val = train_y[train_idx], train_y[val_idx]\n",
    "\n",
    "        model.fit(X_train, y_train)\n",
    "        \n",
    "        if is_log :\n",
    "            y_train = np.expm1(y_train)\n",
    "            y_val = np.expm1(y_val)\n",
    "            pred_train = np.expm1(model.predict(X_train))\n",
    "            pred_valid = np.expm1(model.predict(X_val))\n",
    "        else :\n",
    "            pred_train = model.predict(X_train)\n",
    "            pred_valid = model.predict(X_val)\n",
    "\n",
    "        print('{0} fold train rmse : {1:.3f} valid rmse : {2:.3f}'.format(i, rmse(y_train, pred_train), rmse(y_val, pred_valid)))\n",
    "        \n",
    "        train_rmse.append(rmse(y_train, pred_train))\n",
    "        valid_rmse.append(rmse(y_val, pred_valid))\n",
    "\n",
    "    print('\\n')    \n",
    "    print('mean train rmse : {0:.3f} mean valid rmse : {1:.3f}'.format(np.mean(train_rmse), np.mean(valid_rmse)))\n",
    "\n",
    "    \n",
    "    model.fit(train_X, train_y)\n",
    "    \n",
    "    if is_log :\n",
    "        test_y = np.expm1(test_y)\n",
    "        pred_test = np.expm1(model.predict(test_X))\n",
    "    else :\n",
    "        pred_test = model.predict(test_X)\n",
    "    \n",
    "    print('test rmse {0:.3f} '.format(rmse(test_y, pred_test)))"
   ]
  },
  {
   "cell_type": "code",
   "execution_count": 17,
   "metadata": {
    "collapsed": true
   },
   "outputs": [],
   "source": [
    "from sklearn.model_selection import KFold\n",
    "kf = KFold(n_splits = 3, random_state = 333)"
   ]
  },
  {
   "cell_type": "markdown",
   "metadata": {},
   "source": [
    "# OLS"
   ]
  },
  {
   "cell_type": "code",
   "execution_count": 223,
   "metadata": {
    "collapsed": true
   },
   "outputs": [],
   "source": [
    "from sklearn.linear_model import LinearRegression, Lasso, Ridge\n",
    "lr = LinearRegression()"
   ]
  },
  {
   "cell_type": "code",
   "execution_count": 253,
   "metadata": {
    "collapsed": true
   },
   "outputs": [],
   "source": [
    "from sklearn.preprocessing import StandardScaler\n",
    "sc = StandardScaler()\n",
    "\n",
    "sc.fit(X_train)\n",
    "X_train_sc = pd.DataFrame(sc.transform(X_train))\n",
    "X_test_sc = pd.DataFrame(sc.transform(X_test))"
   ]
  },
  {
   "cell_type": "code",
   "execution_count": 254,
   "metadata": {},
   "outputs": [
    {
     "name": "stdout",
     "output_type": "stream",
     "text": [
      "##### LinearRegression #####\n",
      "0 fold train rmse : 13.231 valid rmse : 13.210\n",
      "1 fold train rmse : 13.166 valid rmse : 13.304\n",
      "2 fold train rmse : 13.223 valid rmse : 13.190\n",
      "\n",
      "\n",
      "mean train rmse : 13.207 mean valid rmse : 13.235\n",
      "test rmse 13.220 \n"
     ]
    }
   ],
   "source": [
    "model_cv_test(lr, X_train_sc, y_train, X_test_sc, y_test, False)"
   ]
  },
  {
   "cell_type": "code",
   "execution_count": 259,
   "metadata": {},
   "outputs": [
    {
     "name": "stdout",
     "output_type": "stream",
     "text": [
      "##### LinearRegression #####\n",
      "0 fold train rmse : 13.215 valid rmse : 13.199\n",
      "1 fold train rmse : 13.164 valid rmse : 13.300\n",
      "2 fold train rmse : 13.223 valid rmse : 13.189\n",
      "\n",
      "\n",
      "mean train rmse : 13.201 mean valid rmse : 13.230\n",
      "test rmse 13.215 \n"
     ]
    }
   ],
   "source": [
    "model_cv_test(lr, X_train, y_train, X_test, y_test, False)"
   ]
  },
  {
   "cell_type": "markdown",
   "metadata": {},
   "source": [
    "# Ridge"
   ]
  },
  {
   "cell_type": "code",
   "execution_count": 258,
   "metadata": {},
   "outputs": [
    {
     "name": "stdout",
     "output_type": "stream",
     "text": [
      "##### Ridge #####\n",
      "0 fold train rmse : 14.518 valid rmse : 14.537\n",
      "1 fold train rmse : 14.469 valid rmse : 14.634\n",
      "2 fold train rmse : 14.549 valid rmse : 14.467\n",
      "\n",
      "\n",
      "mean train rmse : 14.512 mean valid rmse : 14.546\n",
      "test rmse 14.494 \n"
     ]
    }
   ],
   "source": [
    "ridge = Ridge()\n",
    "model_cv_test(ridge, X_train_sc, y_train, X_test_sc, y_test, False)"
   ]
  },
  {
   "cell_type": "code",
   "execution_count": 262,
   "metadata": {},
   "outputs": [
    {
     "name": "stdout",
     "output_type": "stream",
     "text": [
      "##### Ridge #####\n",
      "0 fold train rmse : 14.609 valid rmse : 14.634\n",
      "1 fold train rmse : 14.560 valid rmse : 14.730\n",
      "2 fold train rmse : 14.649 valid rmse : 14.554\n",
      "\n",
      "\n",
      "mean train rmse : 14.606 mean valid rmse : 14.639\n",
      "test rmse 14.609 \n"
     ]
    }
   ],
   "source": [
    "model_cv_test(ridge, X_train, y_train, X_test, y_test, False)"
   ]
  },
  {
   "cell_type": "code",
   "execution_count": 264,
   "metadata": {
    "collapsed": true
   },
   "outputs": [],
   "source": [
    "from sklearn.model_selection import cross_val_score"
   ]
  },
  {
   "cell_type": "code",
   "execution_count": 266,
   "metadata": {
    "collapsed": true
   },
   "outputs": [],
   "source": [
    "cv = KFold(n_splits = 3, random_state = 333)"
   ]
  },
  {
   "cell_type": "code",
   "execution_count": 268,
   "metadata": {
    "collapsed": true
   },
   "outputs": [],
   "source": [
    "from bayes_opt import BayesianOptimization"
   ]
  },
  {
   "cell_type": "code",
   "execution_count": 274,
   "metadata": {
    "collapsed": true
   },
   "outputs": [],
   "source": [
    "def RidgeCV(alpha) :\n",
    "    ridge = Ridge(alpha = alpha)\n",
    "    rmse = np.sqrt(-cross_val_score(ridge, X_train,y_train, scoring = 'neg_mean_squared_error', cv = cv))\n",
    "    return -rmse.mean()"
   ]
  },
  {
   "cell_type": "code",
   "execution_count": 275,
   "metadata": {},
   "outputs": [
    {
     "name": "stdout",
     "output_type": "stream",
     "text": [
      "|   iter    |  target   |   alpha   |\n",
      "-------------------------------------\n",
      "| \u001b[0m 1       \u001b[0m | \u001b[0m-14.64   \u001b[0m | \u001b[0m 4.17    \u001b[0m |\n",
      "| \u001b[0m 2       \u001b[0m | \u001b[0m-14.64   \u001b[0m | \u001b[0m 7.203   \u001b[0m |\n",
      "| \u001b[95m 3       \u001b[0m | \u001b[95m-14.48   \u001b[0m | \u001b[95m 0.001144\u001b[0m |\n",
      "| \u001b[0m 4       \u001b[0m | \u001b[0m-14.64   \u001b[0m | \u001b[0m 3.023   \u001b[0m |\n",
      "| \u001b[0m 5       \u001b[0m | \u001b[0m-14.64   \u001b[0m | \u001b[0m 1.468   \u001b[0m |\n",
      "| \u001b[0m 6       \u001b[0m | \u001b[0m-14.64   \u001b[0m | \u001b[0m 10.0    \u001b[0m |\n"
     ]
    },
    {
     "name": "stderr",
     "output_type": "stream",
     "text": [
      "c:\\users\\user\\appdata\\local\\programs\\python\\python35\\lib\\site-packages\\scipy\\linalg\\basic.py:223: RuntimeWarning: scipy.linalg.solve\n",
      "Ill-conditioned matrix detected. Result is not guaranteed to be accurate.\n",
      "Reciprocal condition number: 5.656356254025902e-50\n",
      "  ' condition number: {}'.format(rcond), RuntimeWarning)\n",
      "c:\\users\\user\\appdata\\local\\programs\\python\\python35\\lib\\site-packages\\scipy\\linalg\\basic.py:223: RuntimeWarning: scipy.linalg.solve\n",
      "Ill-conditioned matrix detected. Result is not guaranteed to be accurate.\n",
      "Reciprocal condition number: 1.1450943548984894e-78\n",
      "  ' condition number: {}'.format(rcond), RuntimeWarning)\n",
      "c:\\users\\user\\appdata\\local\\programs\\python\\python35\\lib\\site-packages\\scipy\\linalg\\basic.py:223: RuntimeWarning: scipy.linalg.solve\n",
      "Ill-conditioned matrix detected. Result is not guaranteed to be accurate.\n",
      "Reciprocal condition number: 1.3963537764739438e-49\n",
      "  ' condition number: {}'.format(rcond), RuntimeWarning)\n"
     ]
    },
    {
     "name": "stdout",
     "output_type": "stream",
     "text": [
      "| \u001b[0m 7       \u001b[0m | \u001b[0m-4.726e+7\u001b[0m | \u001b[0m 0.0     \u001b[0m |\n",
      "| \u001b[0m 8       \u001b[0m | \u001b[0m-14.64   \u001b[0m | \u001b[0m 4.17    \u001b[0m |\n",
      "| \u001b[0m 9       \u001b[0m | \u001b[0m-14.64   \u001b[0m | \u001b[0m 3.023   \u001b[0m |\n",
      "| \u001b[0m 10      \u001b[0m | \u001b[0m-14.64   \u001b[0m | \u001b[0m 3.023   \u001b[0m |\n",
      "| \u001b[0m 11      \u001b[0m | \u001b[0m-14.64   \u001b[0m | \u001b[0m 4.17    \u001b[0m |\n",
      "| \u001b[0m 12      \u001b[0m | \u001b[0m-14.64   \u001b[0m | \u001b[0m 3.023   \u001b[0m |\n",
      "| \u001b[0m 13      \u001b[0m | \u001b[0m-14.64   \u001b[0m | \u001b[0m 10.0    \u001b[0m |\n",
      "| \u001b[0m 14      \u001b[0m | \u001b[0m-14.48   \u001b[0m | \u001b[0m 0.001157\u001b[0m |\n",
      "| \u001b[0m 15      \u001b[0m | \u001b[0m-14.64   \u001b[0m | \u001b[0m 7.203   \u001b[0m |\n",
      "| \u001b[0m 16      \u001b[0m | \u001b[0m-14.64   \u001b[0m | \u001b[0m 1.468   \u001b[0m |\n",
      "| \u001b[0m 17      \u001b[0m | \u001b[0m-14.64   \u001b[0m | \u001b[0m 1.468   \u001b[0m |\n",
      "| \u001b[0m 18      \u001b[0m | \u001b[0m-14.64   \u001b[0m | \u001b[0m 1.468   \u001b[0m |\n",
      "| \u001b[0m 19      \u001b[0m | \u001b[0m-14.48   \u001b[0m | \u001b[0m 0.001155\u001b[0m |\n",
      "| \u001b[0m 20      \u001b[0m | \u001b[0m-14.48   \u001b[0m | \u001b[0m 0.001156\u001b[0m |\n",
      "| \u001b[0m 21      \u001b[0m | \u001b[0m-14.64   \u001b[0m | \u001b[0m 3.023   \u001b[0m |\n",
      "| \u001b[0m 22      \u001b[0m | \u001b[0m-14.48   \u001b[0m | \u001b[0m 0.001151\u001b[0m |\n",
      "| \u001b[0m 23      \u001b[0m | \u001b[0m-14.64   \u001b[0m | \u001b[0m 10.0    \u001b[0m |\n",
      "| \u001b[0m 24      \u001b[0m | \u001b[0m-14.64   \u001b[0m | \u001b[0m 4.17    \u001b[0m |\n",
      "| \u001b[0m 25      \u001b[0m | \u001b[0m-14.64   \u001b[0m | \u001b[0m 4.17    \u001b[0m |\n",
      "| \u001b[0m 26      \u001b[0m | \u001b[0m-14.64   \u001b[0m | \u001b[0m 1.468   \u001b[0m |\n",
      "| \u001b[0m 27      \u001b[0m | \u001b[0m-14.64   \u001b[0m | \u001b[0m 4.17    \u001b[0m |\n",
      "| \u001b[0m 28      \u001b[0m | \u001b[0m-14.48   \u001b[0m | \u001b[0m 0.001144\u001b[0m |\n",
      "| \u001b[0m 29      \u001b[0m | \u001b[0m-14.64   \u001b[0m | \u001b[0m 10.0    \u001b[0m |\n",
      "| \u001b[0m 30      \u001b[0m | \u001b[0m-14.64   \u001b[0m | \u001b[0m 10.0    \u001b[0m |\n",
      "=====================================\n"
     ]
    }
   ],
   "source": [
    "pbounds = {'alpha' : (0,10)}\n",
    "\n",
    "Ridge_Bo = BayesianOptimization(f = RidgeCV, pbounds = pbounds, verbose = 2, random_state = 1)\n",
    "Ridge_Bo.maximize()"
   ]
  },
  {
   "cell_type": "code",
   "execution_count": 276,
   "metadata": {},
   "outputs": [
    {
     "data": {
      "text/plain": [
       "{'params': {'alpha': 0.0011437481734488664}, 'target': -14.475294294815404}"
      ]
     },
     "execution_count": 276,
     "metadata": {},
     "output_type": "execute_result"
    }
   ],
   "source": [
    "Ridge_Bo.max"
   ]
  },
  {
   "cell_type": "code",
   "execution_count": 277,
   "metadata": {
    "scrolled": true
   },
   "outputs": [
    {
     "name": "stdout",
     "output_type": "stream",
     "text": [
      "##### Ridge #####\n",
      "0 fold train rmse : 13.239 valid rmse : 13.222\n",
      "1 fold train rmse : 13.188 valid rmse : 13.326\n",
      "2 fold train rmse : 13.246 valid rmse : 13.211\n",
      "\n",
      "\n",
      "mean train rmse : 13.224 mean valid rmse : 13.253\n",
      "test rmse 13.227 \n"
     ]
    }
   ],
   "source": [
    "ridge = Ridge(alpha=Ridge_Bo.max['params']['alpha'])\n",
    "model_cv_test(ridge, X_train_sc, y_train, X_test_sc, y_test, False)"
   ]
  },
  {
   "cell_type": "code",
   "execution_count": 278,
   "metadata": {},
   "outputs": [
    {
     "name": "stdout",
     "output_type": "stream",
     "text": [
      "##### Ridge #####\n",
      "0 fold train rmse : 14.450 valid rmse : 14.460\n",
      "1 fold train rmse : 14.401 valid rmse : 14.557\n",
      "2 fold train rmse : 14.472 valid rmse : 14.409\n",
      "\n",
      "\n",
      "mean train rmse : 14.441 mean valid rmse : 14.475\n",
      "test rmse 14.465 \n"
     ]
    }
   ],
   "source": [
    "ridge = Ridge(alpha=Ridge_Bo.max['params']['alpha'])\n",
    "model_cv_test(ridge, X_train, y_train, X_test, y_test, False)"
   ]
  },
  {
   "cell_type": "markdown",
   "metadata": {},
   "source": [
    "# Lasso"
   ]
  },
  {
   "cell_type": "code",
   "execution_count": 261,
   "metadata": {},
   "outputs": [
    {
     "name": "stdout",
     "output_type": "stream",
     "text": [
      "##### Lasso #####\n",
      "0 fold train rmse : 16.257 valid rmse : 16.323\n",
      "1 fold train rmse : 16.234 valid rmse : 16.310\n",
      "2 fold train rmse : 16.327 valid rmse : 16.204\n",
      "\n",
      "\n",
      "mean train rmse : 16.273 mean valid rmse : 16.279\n",
      "test rmse 16.325 \n"
     ]
    }
   ],
   "source": [
    "lasso = Lasso()\n",
    "model_cv_test(lasso, X_train_sc, y_train, X_test_sc, y_test, False)"
   ]
  },
  {
   "cell_type": "code",
   "execution_count": 263,
   "metadata": {},
   "outputs": [
    {
     "name": "stdout",
     "output_type": "stream",
     "text": [
      "##### Lasso #####\n",
      "0 fold train rmse : 16.682 valid rmse : 16.755\n",
      "1 fold train rmse : 16.651 valid rmse : 16.749\n",
      "2 fold train rmse : 16.739 valid rmse : 16.587\n",
      "\n",
      "\n",
      "mean train rmse : 16.691 mean valid rmse : 16.697\n",
      "test rmse 16.734 \n"
     ]
    }
   ],
   "source": [
    "model_cv_test(lasso, X_train, y_train, X_test, y_test, False)"
   ]
  },
  {
   "cell_type": "code",
   "execution_count": 279,
   "metadata": {
    "collapsed": true
   },
   "outputs": [],
   "source": [
    "def LassoCV(alpha) :\n",
    "    lasso = Lasso(alpha = alpha)\n",
    "    rmse = np.sqrt(-cross_val_score(lasso, X_train,y_train, scoring = 'neg_mean_squared_error', cv = cv))\n",
    "    return -rmse.mean()"
   ]
  },
  {
   "cell_type": "code",
   "execution_count": 280,
   "metadata": {},
   "outputs": [
    {
     "name": "stdout",
     "output_type": "stream",
     "text": [
      "|   iter    |  target   |   alpha   |\n",
      "-------------------------------------\n",
      "| \u001b[0m 1       \u001b[0m | \u001b[0m-17.87   \u001b[0m | \u001b[0m 4.17    \u001b[0m |\n",
      "| \u001b[0m 2       \u001b[0m | \u001b[0m-18.0    \u001b[0m | \u001b[0m 7.203   \u001b[0m |\n"
     ]
    },
    {
     "name": "stderr",
     "output_type": "stream",
     "text": [
      "c:\\users\\user\\appdata\\local\\programs\\python\\python35\\lib\\site-packages\\sklearn\\linear_model\\coordinate_descent.py:484: ConvergenceWarning: Objective did not converge. You might want to increase the number of iterations. Fitting data with very small alpha may cause precision problems.\n",
      "  ConvergenceWarning)\n",
      "c:\\users\\user\\appdata\\local\\programs\\python\\python35\\lib\\site-packages\\sklearn\\linear_model\\coordinate_descent.py:484: ConvergenceWarning: Objective did not converge. You might want to increase the number of iterations. Fitting data with very small alpha may cause precision problems.\n",
      "  ConvergenceWarning)\n",
      "c:\\users\\user\\appdata\\local\\programs\\python\\python35\\lib\\site-packages\\sklearn\\linear_model\\coordinate_descent.py:484: ConvergenceWarning: Objective did not converge. You might want to increase the number of iterations. Fitting data with very small alpha may cause precision problems.\n",
      "  ConvergenceWarning)\n"
     ]
    },
    {
     "name": "stdout",
     "output_type": "stream",
     "text": [
      "| \u001b[95m 3       \u001b[0m | \u001b[95m-14.64   \u001b[0m | \u001b[95m 0.001144\u001b[0m |\n",
      "| \u001b[0m 4       \u001b[0m | \u001b[0m-17.74   \u001b[0m | \u001b[0m 3.023   \u001b[0m |\n",
      "| \u001b[0m 5       \u001b[0m | \u001b[0m-17.06   \u001b[0m | \u001b[0m 1.468   \u001b[0m |\n",
      "| \u001b[0m 6       \u001b[0m | \u001b[0m-15.6    \u001b[0m | \u001b[0m 0.4102  \u001b[0m |\n",
      "| \u001b[0m 7       \u001b[0m | \u001b[0m-18.15   \u001b[0m | \u001b[0m 10.0    \u001b[0m |\n"
     ]
    },
    {
     "name": "stderr",
     "output_type": "stream",
     "text": [
      "c:\\users\\user\\appdata\\local\\programs\\python\\python35\\lib\\site-packages\\sklearn\\linear_model\\coordinate_descent.py:484: ConvergenceWarning: Objective did not converge. You might want to increase the number of iterations. Fitting data with very small alpha may cause precision problems.\n",
      "  ConvergenceWarning)\n",
      "c:\\users\\user\\appdata\\local\\programs\\python\\python35\\lib\\site-packages\\sklearn\\linear_model\\coordinate_descent.py:484: ConvergenceWarning: Objective did not converge. You might want to increase the number of iterations. Fitting data with very small alpha may cause precision problems.\n",
      "  ConvergenceWarning)\n",
      "c:\\users\\user\\appdata\\local\\programs\\python\\python35\\lib\\site-packages\\sklearn\\linear_model\\coordinate_descent.py:484: ConvergenceWarning: Objective did not converge. You might want to increase the number of iterations. Fitting data with very small alpha may cause precision problems.\n",
      "  ConvergenceWarning)\n"
     ]
    },
    {
     "name": "stdout",
     "output_type": "stream",
     "text": [
      "| \u001b[0m 8       \u001b[0m | \u001b[0m-14.75   \u001b[0m | \u001b[0m 0.08024 \u001b[0m |\n"
     ]
    },
    {
     "name": "stderr",
     "output_type": "stream",
     "text": [
      "c:\\users\\user\\appdata\\local\\programs\\python\\python35\\lib\\site-packages\\sklearn\\model_selection\\_validation.py:238: UserWarning: With alpha=0, this algorithm does not converge well. You are advised to use the LinearRegression estimator\n",
      "  estimator.fit(X_train, y_train, **fit_params)\n",
      "c:\\users\\user\\appdata\\local\\programs\\python\\python35\\lib\\site-packages\\sklearn\\linear_model\\coordinate_descent.py:470: UserWarning: Coordinate descent with alpha=0 may lead to unexpected results and is discouraged.\n",
      "  positive)\n",
      "c:\\users\\user\\appdata\\local\\programs\\python\\python35\\lib\\site-packages\\sklearn\\linear_model\\coordinate_descent.py:484: ConvergenceWarning: Objective did not converge. You might want to increase the number of iterations. Fitting data with very small alpha may cause precision problems.\n",
      "  ConvergenceWarning)\n",
      "c:\\users\\user\\appdata\\local\\programs\\python\\python35\\lib\\site-packages\\sklearn\\model_selection\\_validation.py:238: UserWarning: With alpha=0, this algorithm does not converge well. You are advised to use the LinearRegression estimator\n",
      "  estimator.fit(X_train, y_train, **fit_params)\n",
      "c:\\users\\user\\appdata\\local\\programs\\python\\python35\\lib\\site-packages\\sklearn\\linear_model\\coordinate_descent.py:470: UserWarning: Coordinate descent with alpha=0 may lead to unexpected results and is discouraged.\n",
      "  positive)\n",
      "c:\\users\\user\\appdata\\local\\programs\\python\\python35\\lib\\site-packages\\sklearn\\linear_model\\coordinate_descent.py:484: ConvergenceWarning: Objective did not converge. You might want to increase the number of iterations. Fitting data with very small alpha may cause precision problems.\n",
      "  ConvergenceWarning)\n",
      "c:\\users\\user\\appdata\\local\\programs\\python\\python35\\lib\\site-packages\\sklearn\\model_selection\\_validation.py:238: UserWarning: With alpha=0, this algorithm does not converge well. You are advised to use the LinearRegression estimator\n",
      "  estimator.fit(X_train, y_train, **fit_params)\n",
      "c:\\users\\user\\appdata\\local\\programs\\python\\python35\\lib\\site-packages\\sklearn\\linear_model\\coordinate_descent.py:470: UserWarning: Coordinate descent with alpha=0 may lead to unexpected results and is discouraged.\n",
      "  positive)\n",
      "c:\\users\\user\\appdata\\local\\programs\\python\\python35\\lib\\site-packages\\sklearn\\linear_model\\coordinate_descent.py:484: ConvergenceWarning: Objective did not converge. You might want to increase the number of iterations. Fitting data with very small alpha may cause precision problems.\n",
      "  ConvergenceWarning)\n"
     ]
    },
    {
     "name": "stdout",
     "output_type": "stream",
     "text": [
      "| \u001b[95m 9       \u001b[0m | \u001b[95m-14.64   \u001b[0m | \u001b[95m 0.0     \u001b[0m |\n"
     ]
    },
    {
     "name": "stderr",
     "output_type": "stream",
     "text": [
      "c:\\users\\user\\appdata\\local\\programs\\python\\python35\\lib\\site-packages\\sklearn\\linear_model\\coordinate_descent.py:484: ConvergenceWarning: Objective did not converge. You might want to increase the number of iterations. Fitting data with very small alpha may cause precision problems.\n",
      "  ConvergenceWarning)\n",
      "c:\\users\\user\\appdata\\local\\programs\\python\\python35\\lib\\site-packages\\sklearn\\linear_model\\coordinate_descent.py:484: ConvergenceWarning: Objective did not converge. You might want to increase the number of iterations. Fitting data with very small alpha may cause precision problems.\n",
      "  ConvergenceWarning)\n",
      "c:\\users\\user\\appdata\\local\\programs\\python\\python35\\lib\\site-packages\\sklearn\\linear_model\\coordinate_descent.py:484: ConvergenceWarning: Objective did not converge. You might want to increase the number of iterations. Fitting data with very small alpha may cause precision problems.\n",
      "  ConvergenceWarning)\n"
     ]
    },
    {
     "name": "stdout",
     "output_type": "stream",
     "text": [
      "| \u001b[95m 10      \u001b[0m | \u001b[95m-14.64   \u001b[0m | \u001b[95m 1.11e-16\u001b[0m |\n",
      "| \u001b[0m 11      \u001b[0m | \u001b[0m-14.64   \u001b[0m | \u001b[0m 1.11e-16\u001b[0m |\n"
     ]
    },
    {
     "name": "stderr",
     "output_type": "stream",
     "text": [
      "c:\\users\\user\\appdata\\local\\programs\\python\\python35\\lib\\site-packages\\sklearn\\linear_model\\coordinate_descent.py:484: ConvergenceWarning: Objective did not converge. You might want to increase the number of iterations. Fitting data with very small alpha may cause precision problems.\n",
      "  ConvergenceWarning)\n",
      "c:\\users\\user\\appdata\\local\\programs\\python\\python35\\lib\\site-packages\\sklearn\\linear_model\\coordinate_descent.py:484: ConvergenceWarning: Objective did not converge. You might want to increase the number of iterations. Fitting data with very small alpha may cause precision problems.\n",
      "  ConvergenceWarning)\n",
      "c:\\users\\user\\appdata\\local\\programs\\python\\python35\\lib\\site-packages\\sklearn\\linear_model\\coordinate_descent.py:484: ConvergenceWarning: Objective did not converge. You might want to increase the number of iterations. Fitting data with very small alpha may cause precision problems.\n",
      "  ConvergenceWarning)\n"
     ]
    },
    {
     "name": "stdout",
     "output_type": "stream",
     "text": [
      "| \u001b[95m 12      \u001b[0m | \u001b[95m-14.64   \u001b[0m | \u001b[95m 8.496e-1\u001b[0m |\n",
      "| \u001b[0m 13      \u001b[0m | \u001b[0m-14.64   \u001b[0m | \u001b[0m 8.496e-1\u001b[0m |\n"
     ]
    },
    {
     "name": "stderr",
     "output_type": "stream",
     "text": [
      "c:\\users\\user\\appdata\\local\\programs\\python\\python35\\lib\\site-packages\\sklearn\\linear_model\\coordinate_descent.py:484: ConvergenceWarning: Objective did not converge. You might want to increase the number of iterations. Fitting data with very small alpha may cause precision problems.\n",
      "  ConvergenceWarning)\n",
      "c:\\users\\user\\appdata\\local\\programs\\python\\python35\\lib\\site-packages\\sklearn\\linear_model\\coordinate_descent.py:484: ConvergenceWarning: Objective did not converge. You might want to increase the number of iterations. Fitting data with very small alpha may cause precision problems.\n",
      "  ConvergenceWarning)\n",
      "c:\\users\\user\\appdata\\local\\programs\\python\\python35\\lib\\site-packages\\sklearn\\linear_model\\coordinate_descent.py:484: ConvergenceWarning: Objective did not converge. You might want to increase the number of iterations. Fitting data with very small alpha may cause precision problems.\n",
      "  ConvergenceWarning)\n"
     ]
    },
    {
     "name": "stdout",
     "output_type": "stream",
     "text": [
      "| \u001b[95m 14      \u001b[0m | \u001b[95m-14.64   \u001b[0m | \u001b[95m 7.466e-0\u001b[0m |\n",
      "| \u001b[0m 15      \u001b[0m | \u001b[0m-14.64   \u001b[0m | \u001b[0m 7.466e-0\u001b[0m |\n"
     ]
    },
    {
     "name": "stderr",
     "output_type": "stream",
     "text": [
      "c:\\users\\user\\appdata\\local\\programs\\python\\python35\\lib\\site-packages\\sklearn\\linear_model\\coordinate_descent.py:484: ConvergenceWarning: Objective did not converge. You might want to increase the number of iterations. Fitting data with very small alpha may cause precision problems.\n",
      "  ConvergenceWarning)\n",
      "c:\\users\\user\\appdata\\local\\programs\\python\\python35\\lib\\site-packages\\sklearn\\linear_model\\coordinate_descent.py:484: ConvergenceWarning: Objective did not converge. You might want to increase the number of iterations. Fitting data with very small alpha may cause precision problems.\n",
      "  ConvergenceWarning)\n",
      "c:\\users\\user\\appdata\\local\\programs\\python\\python35\\lib\\site-packages\\sklearn\\linear_model\\coordinate_descent.py:484: ConvergenceWarning: Objective did not converge. You might want to increase the number of iterations. Fitting data with very small alpha may cause precision problems.\n",
      "  ConvergenceWarning)\n"
     ]
    },
    {
     "name": "stdout",
     "output_type": "stream",
     "text": [
      "| \u001b[0m 16      \u001b[0m | \u001b[0m-14.64   \u001b[0m | \u001b[0m 2.993e-0\u001b[0m |\n"
     ]
    },
    {
     "name": "stderr",
     "output_type": "stream",
     "text": [
      "c:\\users\\user\\appdata\\local\\programs\\python\\python35\\lib\\site-packages\\sklearn\\linear_model\\coordinate_descent.py:484: ConvergenceWarning: Objective did not converge. You might want to increase the number of iterations. Fitting data with very small alpha may cause precision problems.\n",
      "  ConvergenceWarning)\n",
      "c:\\users\\user\\appdata\\local\\programs\\python\\python35\\lib\\site-packages\\sklearn\\linear_model\\coordinate_descent.py:484: ConvergenceWarning: Objective did not converge. You might want to increase the number of iterations. Fitting data with very small alpha may cause precision problems.\n",
      "  ConvergenceWarning)\n",
      "c:\\users\\user\\appdata\\local\\programs\\python\\python35\\lib\\site-packages\\sklearn\\linear_model\\coordinate_descent.py:484: ConvergenceWarning: Objective did not converge. You might want to increase the number of iterations. Fitting data with very small alpha may cause precision problems.\n",
      "  ConvergenceWarning)\n"
     ]
    },
    {
     "name": "stdout",
     "output_type": "stream",
     "text": [
      "| \u001b[0m 17      \u001b[0m | \u001b[0m-14.64   \u001b[0m | \u001b[0m 1.193e-1\u001b[0m |\n",
      "| \u001b[0m 18      \u001b[0m | \u001b[0m-14.64   \u001b[0m | \u001b[0m 1.193e-1\u001b[0m |\n",
      "| \u001b[0m 19      \u001b[0m | \u001b[0m-14.64   \u001b[0m | \u001b[0m 1.193e-1\u001b[0m |\n",
      "| \u001b[0m 20      \u001b[0m | \u001b[0m-14.64   \u001b[0m | \u001b[0m 1.193e-1\u001b[0m |\n",
      "| \u001b[0m 21      \u001b[0m | \u001b[0m-14.64   \u001b[0m | \u001b[0m 1.193e-1\u001b[0m |\n",
      "| \u001b[0m 22      \u001b[0m | \u001b[0m-14.64   \u001b[0m | \u001b[0m 1.193e-1\u001b[0m |\n",
      "| \u001b[0m 23      \u001b[0m | \u001b[0m-14.64   \u001b[0m | \u001b[0m 1.193e-1\u001b[0m |\n"
     ]
    },
    {
     "name": "stderr",
     "output_type": "stream",
     "text": [
      "c:\\users\\user\\appdata\\local\\programs\\python\\python35\\lib\\site-packages\\sklearn\\linear_model\\coordinate_descent.py:484: ConvergenceWarning: Objective did not converge. You might want to increase the number of iterations. Fitting data with very small alpha may cause precision problems.\n",
      "  ConvergenceWarning)\n",
      "c:\\users\\user\\appdata\\local\\programs\\python\\python35\\lib\\site-packages\\sklearn\\linear_model\\coordinate_descent.py:484: ConvergenceWarning: Objective did not converge. You might want to increase the number of iterations. Fitting data with very small alpha may cause precision problems.\n",
      "  ConvergenceWarning)\n",
      "c:\\users\\user\\appdata\\local\\programs\\python\\python35\\lib\\site-packages\\sklearn\\linear_model\\coordinate_descent.py:484: ConvergenceWarning: Objective did not converge. You might want to increase the number of iterations. Fitting data with very small alpha may cause precision problems.\n",
      "  ConvergenceWarning)\n"
     ]
    },
    {
     "name": "stdout",
     "output_type": "stream",
     "text": [
      "| \u001b[95m 24      \u001b[0m | \u001b[95m-14.64   \u001b[0m | \u001b[95m 6.627e-0\u001b[0m |\n",
      "| \u001b[0m 25      \u001b[0m | \u001b[0m-17.93   \u001b[0m | \u001b[0m 5.653   \u001b[0m |\n"
     ]
    },
    {
     "name": "stderr",
     "output_type": "stream",
     "text": [
      "c:\\users\\user\\appdata\\local\\programs\\python\\python35\\lib\\site-packages\\sklearn\\linear_model\\coordinate_descent.py:484: ConvergenceWarning: Objective did not converge. You might want to increase the number of iterations. Fitting data with very small alpha may cause precision problems.\n",
      "  ConvergenceWarning)\n",
      "c:\\users\\user\\appdata\\local\\programs\\python\\python35\\lib\\site-packages\\sklearn\\linear_model\\coordinate_descent.py:484: ConvergenceWarning: Objective did not converge. You might want to increase the number of iterations. Fitting data with very small alpha may cause precision problems.\n",
      "  ConvergenceWarning)\n",
      "c:\\users\\user\\appdata\\local\\programs\\python\\python35\\lib\\site-packages\\sklearn\\linear_model\\coordinate_descent.py:484: ConvergenceWarning: Objective did not converge. You might want to increase the number of iterations. Fitting data with very small alpha may cause precision problems.\n",
      "  ConvergenceWarning)\n"
     ]
    },
    {
     "name": "stdout",
     "output_type": "stream",
     "text": [
      "| \u001b[0m 26      \u001b[0m | \u001b[0m-14.64   \u001b[0m | \u001b[0m 4.108e-0\u001b[0m |\n",
      "| \u001b[0m 27      \u001b[0m | \u001b[0m-14.64   \u001b[0m | \u001b[0m 4.108e-0\u001b[0m |\n",
      "| \u001b[0m 28      \u001b[0m | \u001b[0m-14.64   \u001b[0m | \u001b[0m 4.108e-0\u001b[0m |\n",
      "| \u001b[0m 29      \u001b[0m | \u001b[0m-14.64   \u001b[0m | \u001b[0m 4.108e-0\u001b[0m |\n"
     ]
    },
    {
     "name": "stderr",
     "output_type": "stream",
     "text": [
      "c:\\users\\user\\appdata\\local\\programs\\python\\python35\\lib\\site-packages\\sklearn\\linear_model\\coordinate_descent.py:484: ConvergenceWarning: Objective did not converge. You might want to increase the number of iterations. Fitting data with very small alpha may cause precision problems.\n",
      "  ConvergenceWarning)\n",
      "c:\\users\\user\\appdata\\local\\programs\\python\\python35\\lib\\site-packages\\sklearn\\linear_model\\coordinate_descent.py:484: ConvergenceWarning: Objective did not converge. You might want to increase the number of iterations. Fitting data with very small alpha may cause precision problems.\n",
      "  ConvergenceWarning)\n"
     ]
    },
    {
     "name": "stdout",
     "output_type": "stream",
     "text": [
      "| \u001b[0m 30      \u001b[0m | \u001b[0m-14.64   \u001b[0m | \u001b[0m 2.236e-0\u001b[0m |\n",
      "=====================================\n"
     ]
    },
    {
     "name": "stderr",
     "output_type": "stream",
     "text": [
      "c:\\users\\user\\appdata\\local\\programs\\python\\python35\\lib\\site-packages\\sklearn\\linear_model\\coordinate_descent.py:484: ConvergenceWarning: Objective did not converge. You might want to increase the number of iterations. Fitting data with very small alpha may cause precision problems.\n",
      "  ConvergenceWarning)\n"
     ]
    }
   ],
   "source": [
    "pbounds = {'alpha' : (0,10)}\n",
    "\n",
    "Lasso_Bo = BayesianOptimization(f = LassoCV, pbounds = pbounds, verbose = 2, random_state = 1)\n",
    "Lasso_Bo.maximize()"
   ]
  },
  {
   "cell_type": "code",
   "execution_count": 283,
   "metadata": {},
   "outputs": [
    {
     "data": {
      "text/plain": [
       "{'params': {'alpha': 6.6272277229793909e-08}, 'target': -14.637983019429313}"
      ]
     },
     "execution_count": 283,
     "metadata": {},
     "output_type": "execute_result"
    }
   ],
   "source": [
    "Lasso_Bo.max"
   ]
  },
  {
   "cell_type": "code",
   "execution_count": 284,
   "metadata": {},
   "outputs": [
    {
     "name": "stdout",
     "output_type": "stream",
     "text": [
      "##### Lasso #####\n"
     ]
    },
    {
     "name": "stderr",
     "output_type": "stream",
     "text": [
      "c:\\users\\user\\appdata\\local\\programs\\python\\python35\\lib\\site-packages\\sklearn\\linear_model\\coordinate_descent.py:484: ConvergenceWarning: Objective did not converge. You might want to increase the number of iterations. Fitting data with very small alpha may cause precision problems.\n",
      "  ConvergenceWarning)\n"
     ]
    },
    {
     "name": "stdout",
     "output_type": "stream",
     "text": [
      "0 fold train rmse : 14.607 valid rmse : 14.632\n",
      "1 fold train rmse : 14.558 valid rmse : 14.728\n",
      "2 fold train rmse : 14.647 valid rmse : 14.554\n",
      "\n",
      "\n",
      "mean train rmse : 14.604 mean valid rmse : 14.638\n",
      "test rmse 14.609 \n",
      "##### Lasso #####\n",
      "0 fold train rmse : 14.607 valid rmse : 14.632\n",
      "1 fold train rmse : 14.558 valid rmse : 14.728\n",
      "2 fold train rmse : 14.647 valid rmse : 14.554\n",
      "\n",
      "\n",
      "mean train rmse : 14.604 mean valid rmse : 14.638\n",
      "test rmse 14.609 \n"
     ]
    }
   ],
   "source": [
    "lasso = Lasso(alpha=Lasso_Bo.max['params']['alpha'])\n",
    "model_cv_test(lasso, X_train_sc, y_train, X_test_sc, y_test, False)\n",
    "model_cv_test(lasso, X_train, y_train, X_test, y_test, False)"
   ]
  },
  {
   "cell_type": "markdown",
   "metadata": {},
   "source": [
    "# RandomForest"
   ]
  },
  {
   "cell_type": "code",
   "execution_count": 285,
   "metadata": {
    "collapsed": true
   },
   "outputs": [],
   "source": [
    "from sklearn.ensemble import RandomForestRegressor\n",
    "rf = RandomForestRegressor(n_jobs = -1)"
   ]
  },
  {
   "cell_type": "code",
   "execution_count": 295,
   "metadata": {},
   "outputs": [
    {
     "name": "stdout",
     "output_type": "stream",
     "text": [
      "##### RandomForestRegressor #####\n",
      "0 fold train rmse : 3.057 valid rmse : 8.299\n",
      "1 fold train rmse : 3.064 valid rmse : 8.324\n",
      "2 fold train rmse : 3.083 valid rmse : 8.291\n",
      "\n",
      "\n",
      "mean train rmse : 3.068 mean valid rmse : 8.304\n",
      "test rmse 7.934 \n"
     ]
    }
   ],
   "source": [
    "rf = RandomForestRegressor(n_jobs = -1, n_estimators=500)\n",
    "model_cv_test(rf, X_train, y_train, X_test, y_test, False)"
   ]
  },
  {
   "cell_type": "markdown",
   "metadata": {},
   "source": [
    "# XGBoost"
   ]
  },
  {
   "cell_type": "code",
   "execution_count": 297,
   "metadata": {
    "collapsed": true
   },
   "outputs": [],
   "source": [
    "from xgboost import XGBRegressor\n",
    "xgb = XGBRegressor(n_jobs = -1)"
   ]
  },
  {
   "cell_type": "code",
   "execution_count": 300,
   "metadata": {
    "collapsed": true
   },
   "outputs": [],
   "source": [
    "def model_cv_test2(model, train_X, train_y, test_X, test_y, is_log) :\n",
    "\n",
    "    train_rmse = []\n",
    "    valid_rmse = []\n",
    "    \n",
    "    print('##### {} #####'.format(model.__class__.__name__))\n",
    "        \n",
    "    for i, (train_idx, val_idx) in enumerate(kf.split(train_X)):\n",
    "        X_train, X_val = train_X[train_idx, :], train_X[val_idx, :]\n",
    "        y_train, y_val = train_y[train_idx], train_y[val_idx]\n",
    "\n",
    "        model.fit(X_train, y_train)\n",
    "        \n",
    "        if is_log :\n",
    "            y_train = np.expm1(y_train)\n",
    "            y_val = np.expm1(y_val)\n",
    "            pred_train = np.expm1(model.predict(X_train))\n",
    "            pred_valid = np.expm1(model.predict(X_val))\n",
    "        else :\n",
    "            pred_train = model.predict(X_train)\n",
    "            pred_valid = model.predict(X_val)\n",
    "\n",
    "        print('{0} fold train rmse : {1:.3f} valid rmse : {2:.3f}'.format(i, rmse(y_train, pred_train), rmse(y_val, pred_valid)))\n",
    "        \n",
    "        train_rmse.append(rmse(y_train, pred_train))\n",
    "        valid_rmse.append(rmse(y_val, pred_valid))\n",
    "\n",
    "    print('\\n')    \n",
    "    print('mean train rmse : {0:.3f} mean valid rmse : {1:.3f}'.format(np.mean(train_rmse), np.mean(valid_rmse)))\n",
    "\n",
    "    \n",
    "    model.fit(train_X, train_y)\n",
    "    \n",
    "    if is_log :\n",
    "        test_y = np.expm1(test_y)\n",
    "        pred_test = np.expm1(model.predict(test_X))\n",
    "    else :\n",
    "        pred_test = model.predict(test_X)\n",
    "    \n",
    "    print('test rmse {0:.3f} '.format(rmse(test_y, pred_test)))"
   ]
  },
  {
   "cell_type": "code",
   "execution_count": 302,
   "metadata": {
    "collapsed": true
   },
   "outputs": [],
   "source": [
    "import warnings\n",
    "warnings.filterwarnings('ignore')"
   ]
  },
  {
   "cell_type": "code",
   "execution_count": 303,
   "metadata": {
    "collapsed": true
   },
   "outputs": [],
   "source": [
    "xgb = XGBRegressor(n_jobs = -1, n_estimators = 5000)"
   ]
  },
  {
   "cell_type": "code",
   "execution_count": 304,
   "metadata": {},
   "outputs": [
    {
     "name": "stdout",
     "output_type": "stream",
     "text": [
      "##### XGBRegressor #####\n",
      "[23:43:10] WARNING: C:/Jenkins/workspace/xgboost-win64_release_0.90/src/objective/regression_obj.cu:152: reg:linear is now deprecated in favor of reg:squarederror.\n",
      "0 fold train rmse : 7.303 valid rmse : 8.875\n",
      "[23:45:50] WARNING: C:/Jenkins/workspace/xgboost-win64_release_0.90/src/objective/regression_obj.cu:152: reg:linear is now deprecated in favor of reg:squarederror.\n",
      "1 fold train rmse : 7.271 valid rmse : 8.854\n",
      "[23:48:24] WARNING: C:/Jenkins/workspace/xgboost-win64_release_0.90/src/objective/regression_obj.cu:152: reg:linear is now deprecated in favor of reg:squarederror.\n",
      "2 fold train rmse : 7.276 valid rmse : 8.765\n",
      "\n",
      "\n",
      "mean train rmse : 7.284 mean valid rmse : 8.831\n",
      "[23:50:57] WARNING: C:/Jenkins/workspace/xgboost-win64_release_0.90/src/objective/regression_obj.cu:152: reg:linear is now deprecated in favor of reg:squarederror.\n",
      "test rmse 8.640 \n"
     ]
    }
   ],
   "source": [
    "model_cv_test2(xgb, X_train.values, y_train, X_test.values, y_test, False)"
   ]
  },
  {
   "cell_type": "markdown",
   "metadata": {},
   "source": [
    "# lightGBM"
   ]
  },
  {
   "cell_type": "code",
   "execution_count": 18,
   "metadata": {
    "collapsed": true
   },
   "outputs": [],
   "source": [
    "from lightgbm import LGBMRegressor\n",
    "lgb = LGBMRegressor(n_jobs = -1)"
   ]
  },
  {
   "cell_type": "code",
   "execution_count": 312,
   "metadata": {},
   "outputs": [
    {
     "name": "stdout",
     "output_type": "stream",
     "text": [
      "##### LGBMRegressor #####\n",
      "0 fold train rmse : 7.844 valid rmse : 8.451\n",
      "1 fold train rmse : 7.911 valid rmse : 8.397\n",
      "2 fold train rmse : 7.921 valid rmse : 8.343\n",
      "\n",
      "\n",
      "mean train rmse : 7.892 mean valid rmse : 8.397\n",
      "test rmse 8.237 \n"
     ]
    }
   ],
   "source": [
    "model_cv_test(lgb, X_train, y_train, X_test, y_test, False)"
   ]
  },
  {
   "cell_type": "code",
   "execution_count": 315,
   "metadata": {
    "collapsed": true
   },
   "outputs": [],
   "source": [
    "def lgbCV(learning_rate, n_estimators, num_leaves, colsample_bytree, subsample, reg_alpha,reg_lambda) :\n",
    "    lgb = LGBMRegressor(learning_rate = learning_rate, colsample_bytree = colsample_bytree,\n",
    "                        n_estimators = int(n_estimators), num_leaves = int(num_leaves),\n",
    "                        subsample = subsample, reg_alpha = reg_alpha,reg_lambda = reg_lambda)\n",
    "    \n",
    "    rmse = np.sqrt(-cross_val_score(lgb, X_train,y_train, scoring = 'neg_mean_squared_error', cv = cv))\n",
    "    return -rmse.mean()"
   ]
  },
  {
   "cell_type": "code",
   "execution_count": 317,
   "metadata": {},
   "outputs": [
    {
     "name": "stdout",
     "output_type": "stream",
     "text": [
      "|   iter    |  target   | colsam... | learni... | n_esti... | num_le... | reg_alpha | reg_la... | subsample |\n",
      "-------------------------------------------------------------------------------------------------------------\n",
      "| \u001b[0m 1       \u001b[0m | \u001b[0m-10.76   \u001b[0m | \u001b[0m 0.3502  \u001b[0m | \u001b[0m 0.7206  \u001b[0m | \u001b[0m 20.11   \u001b[0m | \u001b[0m 8.837   \u001b[0m | \u001b[0m 1.117   \u001b[0m | \u001b[0m 1.046   \u001b[0m | \u001b[0m 0.2304  \u001b[0m |\n",
      "| \u001b[95m 2       \u001b[0m | \u001b[95m-8.351   \u001b[0m | \u001b[95m 0.3073  \u001b[0m | \u001b[95m 0.3974  \u001b[0m | \u001b[95m 548.0   \u001b[0m | \u001b[95m 10.71   \u001b[0m | \u001b[95m 1.548   \u001b[0m | \u001b[95m 1.102   \u001b[0m | \u001b[95m 0.7147  \u001b[0m |\n",
      "| \u001b[0m 3       \u001b[0m | \u001b[0m-8.835   \u001b[0m | \u001b[0m 0.1164  \u001b[0m | \u001b[0m 0.6708  \u001b[0m | \u001b[0m 429.0   \u001b[0m | \u001b[0m 12.94   \u001b[0m | \u001b[0m 1.112   \u001b[0m | \u001b[0m 1.099   \u001b[0m | \u001b[0m 0.6605  \u001b[0m |\n",
      "| \u001b[95m 4       \u001b[0m | \u001b[95m-8.139   \u001b[0m | \u001b[95m 0.681   \u001b[0m | \u001b[95m 0.3141  \u001b[0m | \u001b[95m 698.5   \u001b[0m | \u001b[95m 18.02   \u001b[0m | \u001b[95m 1.716   \u001b[0m | \u001b[95m 1.043   \u001b[0m | \u001b[95m 0.1273  \u001b[0m |\n",
      "| \u001b[0m 5       \u001b[0m | \u001b[0m-9.189   \u001b[0m | \u001b[0m 0.2019  \u001b[0m | \u001b[0m 0.8783  \u001b[0m | \u001b[0m 116.4   \u001b[0m | \u001b[0m 10.74   \u001b[0m | \u001b[0m 1.766   \u001b[0m | \u001b[0m 1.267   \u001b[0m | \u001b[0m 0.5843  \u001b[0m |\n",
      "| \u001b[0m 6       \u001b[0m | \u001b[0m-9.262   \u001b[0m | \u001b[0m 0.1     \u001b[0m | \u001b[0m 1.0     \u001b[0m | \u001b[0m 805.4   \u001b[0m | \u001b[0m 4.0     \u001b[0m | \u001b[0m 1.0     \u001b[0m | \u001b[0m 1.5     \u001b[0m | \u001b[0m 0.8     \u001b[0m |\n",
      "| \u001b[0m 7       \u001b[0m | \u001b[0m-9.347   \u001b[0m | \u001b[0m 0.1     \u001b[0m | \u001b[0m 1.0     \u001b[0m | \u001b[0m 628.1   \u001b[0m | \u001b[0m 4.0     \u001b[0m | \u001b[0m 1.0     \u001b[0m | \u001b[0m 1.5     \u001b[0m | \u001b[0m 0.8     \u001b[0m |\n",
      "| \u001b[0m 8       \u001b[0m | \u001b[0m-9.255   \u001b[0m | \u001b[0m 0.6438  \u001b[0m | \u001b[0m 0.8674  \u001b[0m | \u001b[0m 699.0   \u001b[0m | \u001b[0m 17.12   \u001b[0m | \u001b[0m 1.327   \u001b[0m | \u001b[0m 1.106   \u001b[0m | \u001b[0m 0.5544  \u001b[0m |\n",
      "| \u001b[0m 9       \u001b[0m | \u001b[0m-8.651   \u001b[0m | \u001b[0m 0.1108  \u001b[0m | \u001b[0m 0.4194  \u001b[0m | \u001b[0m 910.5   \u001b[0m | \u001b[0m 7.491   \u001b[0m | \u001b[0m 1.109   \u001b[0m | \u001b[0m 1.06    \u001b[0m | \u001b[0m 0.5456  \u001b[0m |\n",
      "| \u001b[0m 10      \u001b[0m | \u001b[0m-9.118   \u001b[0m | \u001b[0m 0.2369  \u001b[0m | \u001b[0m 0.9645  \u001b[0m | \u001b[0m 409.3   \u001b[0m | \u001b[0m 10.87   \u001b[0m | \u001b[0m 1.653   \u001b[0m | \u001b[0m 1.232   \u001b[0m | \u001b[0m 0.1739  \u001b[0m |\n",
      "| \u001b[0m 11      \u001b[0m | \u001b[0m-8.441   \u001b[0m | \u001b[0m 0.3611  \u001b[0m | \u001b[0m 0.4804  \u001b[0m | \u001b[0m 490.4   \u001b[0m | \u001b[0m 8.138   \u001b[0m | \u001b[0m 1.493   \u001b[0m | \u001b[0m 1.149   \u001b[0m | \u001b[0m 0.5019  \u001b[0m |\n",
      "| \u001b[0m 12      \u001b[0m | \u001b[0m-9.486   \u001b[0m | \u001b[0m 0.1241  \u001b[0m | \u001b[0m 0.3538  \u001b[0m | \u001b[0m 101.9   \u001b[0m | \u001b[0m 12.37   \u001b[0m | \u001b[0m 1.24    \u001b[0m | \u001b[0m 1.133   \u001b[0m | \u001b[0m 0.2286  \u001b[0m |\n",
      "| \u001b[0m 13      \u001b[0m | \u001b[0m-8.526   \u001b[0m | \u001b[0m 0.6587  \u001b[0m | \u001b[0m 0.1566  \u001b[0m | \u001b[0m 942.9   \u001b[0m | \u001b[0m 6.652   \u001b[0m | \u001b[0m 1.431   \u001b[0m | \u001b[0m 1.292   \u001b[0m | \u001b[0m 0.117   \u001b[0m |\n",
      "| \u001b[0m 14      \u001b[0m | \u001b[0m-8.282   \u001b[0m | \u001b[0m 0.236   \u001b[0m | \u001b[0m 0.1755  \u001b[0m | \u001b[0m 780.7   \u001b[0m | \u001b[0m 12.4    \u001b[0m | \u001b[0m 1.592   \u001b[0m | \u001b[0m 1.153   \u001b[0m | \u001b[0m 0.1764  \u001b[0m |\n",
      "| \u001b[0m 15      \u001b[0m | \u001b[0m-8.842   \u001b[0m | \u001b[0m 0.101   \u001b[0m | \u001b[0m 0.7546  \u001b[0m | \u001b[0m 616.3   \u001b[0m | \u001b[0m 10.66   \u001b[0m | \u001b[0m 1.741   \u001b[0m | \u001b[0m 1.128   \u001b[0m | \u001b[0m 0.1164  \u001b[0m |\n",
      "| \u001b[0m 16      \u001b[0m | \u001b[0m-8.725   \u001b[0m | \u001b[0m 0.5012  \u001b[0m | \u001b[0m 0.7659  \u001b[0m | \u001b[0m 445.2   \u001b[0m | \u001b[0m 13.03   \u001b[0m | \u001b[0m 1.606   \u001b[0m | \u001b[0m 1.462   \u001b[0m | \u001b[0m 0.4355  \u001b[0m |\n",
      "| \u001b[0m 17      \u001b[0m | \u001b[0m-8.684   \u001b[0m | \u001b[0m 0.6923  \u001b[0m | \u001b[0m 0.4178  \u001b[0m | \u001b[0m 123.4   \u001b[0m | \u001b[0m 10.58   \u001b[0m | \u001b[0m 1.698   \u001b[0m | \u001b[0m 1.351   \u001b[0m | \u001b[0m 0.3856  \u001b[0m |\n",
      "| \u001b[0m 18      \u001b[0m | \u001b[0m-8.493   \u001b[0m | \u001b[0m 0.4853  \u001b[0m | \u001b[0m 0.6256  \u001b[0m | \u001b[0m 249.1   \u001b[0m | \u001b[0m 19.46   \u001b[0m | \u001b[0m 1.723   \u001b[0m | \u001b[0m 1.424   \u001b[0m | \u001b[0m 0.3773  \u001b[0m |\n",
      "| \u001b[0m 19      \u001b[0m | \u001b[0m-8.959   \u001b[0m | \u001b[0m 0.4835  \u001b[0m | \u001b[0m 0.8673  \u001b[0m | \u001b[0m 248.9   \u001b[0m | \u001b[0m 19.29   \u001b[0m | \u001b[0m 1.633   \u001b[0m | \u001b[0m 1.355   \u001b[0m | \u001b[0m 0.1612  \u001b[0m |\n",
      "| \u001b[0m 20      \u001b[0m | \u001b[0m-8.671   \u001b[0m | \u001b[0m 0.5103  \u001b[0m | \u001b[0m 0.6137  \u001b[0m | \u001b[0m 697.8   \u001b[0m | \u001b[0m 19.1    \u001b[0m | \u001b[0m 1.695   \u001b[0m | \u001b[0m 1.275   \u001b[0m | \u001b[0m 0.6259  \u001b[0m |\n",
      "| \u001b[0m 21      \u001b[0m | \u001b[0m-19.38   \u001b[0m | \u001b[0m 0.5045  \u001b[0m | \u001b[0m 0.001   \u001b[0m | \u001b[0m 250.3   \u001b[0m | \u001b[0m 20.0    \u001b[0m | \u001b[0m 1.8     \u001b[0m | \u001b[0m 1.5     \u001b[0m | \u001b[0m 0.8     \u001b[0m |\n",
      "| \u001b[0m 22      \u001b[0m | \u001b[0m-8.592   \u001b[0m | \u001b[0m 0.6814  \u001b[0m | \u001b[0m 0.5704  \u001b[0m | \u001b[0m 698.7   \u001b[0m | \u001b[0m 18.37   \u001b[0m | \u001b[0m 1.701   \u001b[0m | \u001b[0m 1.045   \u001b[0m | \u001b[0m 0.2657  \u001b[0m |\n",
      "| \u001b[0m 23      \u001b[0m | \u001b[0m-8.797   \u001b[0m | \u001b[0m 0.6174  \u001b[0m | \u001b[0m 0.679   \u001b[0m | \u001b[0m 698.1   \u001b[0m | \u001b[0m 18.45   \u001b[0m | \u001b[0m 1.556   \u001b[0m | \u001b[0m 1.057   \u001b[0m | \u001b[0m 0.2011  \u001b[0m |\n",
      "| \u001b[0m 24      \u001b[0m | \u001b[0m-9.477   \u001b[0m | \u001b[0m 0.6028  \u001b[0m | \u001b[0m 0.008483\u001b[0m | \u001b[0m 698.3   \u001b[0m | \u001b[0m 18.33   \u001b[0m | \u001b[0m 1.8     \u001b[0m | \u001b[0m 1.245   \u001b[0m | \u001b[0m 0.4546  \u001b[0m |\n",
      "| \u001b[0m 25      \u001b[0m | \u001b[0m-8.288   \u001b[0m | \u001b[0m 0.2415  \u001b[0m | \u001b[0m 0.3781  \u001b[0m | \u001b[0m 780.9   \u001b[0m | \u001b[0m 12.84   \u001b[0m | \u001b[0m 1.57    \u001b[0m | \u001b[0m 1.427   \u001b[0m | \u001b[0m 0.1066  \u001b[0m |\n",
      "| \u001b[0m 26      \u001b[0m | \u001b[0m-8.299   \u001b[0m | \u001b[0m 0.2426  \u001b[0m | \u001b[0m 0.3355  \u001b[0m | \u001b[0m 780.9   \u001b[0m | \u001b[0m 12.63   \u001b[0m | \u001b[0m 1.572   \u001b[0m | \u001b[0m 1.292   \u001b[0m | \u001b[0m 0.7251  \u001b[0m |\n",
      "| \u001b[0m 27      \u001b[0m | \u001b[0m-17.02   \u001b[0m | \u001b[0m 0.1     \u001b[0m | \u001b[0m 0.001   \u001b[0m | \u001b[0m 781.2   \u001b[0m | \u001b[0m 12.81   \u001b[0m | \u001b[0m 1.8     \u001b[0m | \u001b[0m 1.0     \u001b[0m | \u001b[0m 0.3267  \u001b[0m |\n",
      "| \u001b[0m 28      \u001b[0m | \u001b[0m-8.422   \u001b[0m | \u001b[0m 0.2344  \u001b[0m | \u001b[0m 0.1249  \u001b[0m | \u001b[0m 781.0   \u001b[0m | \u001b[0m 12.4    \u001b[0m | \u001b[0m 1.552   \u001b[0m | \u001b[0m 1.201   \u001b[0m | \u001b[0m 0.2958  \u001b[0m |\n",
      "| \u001b[0m 29      \u001b[0m | \u001b[0m-8.461   \u001b[0m | \u001b[0m 0.3949  \u001b[0m | \u001b[0m 0.07957 \u001b[0m | \u001b[0m 780.8   \u001b[0m | \u001b[0m 12.33   \u001b[0m | \u001b[0m 1.735   \u001b[0m | \u001b[0m 1.343   \u001b[0m | \u001b[0m 0.3322  \u001b[0m |\n",
      "| \u001b[0m 30      \u001b[0m | \u001b[0m-9.401   \u001b[0m | \u001b[0m 0.5649  \u001b[0m | \u001b[0m 0.9326  \u001b[0m | \u001b[0m 699.0   \u001b[0m | \u001b[0m 17.3    \u001b[0m | \u001b[0m 1.308   \u001b[0m | \u001b[0m 1.146   \u001b[0m | \u001b[0m 0.7516  \u001b[0m |\n",
      "=============================================================================================================\n"
     ]
    }
   ],
   "source": [
    "pbounds = {\n",
    "    'learning_rate': (0.001,1),\n",
    "    'n_estimators': (20,1000),\n",
    "    'num_leaves': (4,20),\n",
    "    'colsample_bytree' : (0.1,0.7),\n",
    "    'subsample' : (0.1,0.8),\n",
    "    'reg_alpha' : (1,1.8),\n",
    "    'reg_lambda' : (1,1.5)\n",
    "    }\n",
    "\n",
    "lgb_Bo = BayesianOptimization(f = lgbCV, pbounds = pbounds, verbose = 2, random_state = 1)\n",
    "lgb_Bo.maximize()"
   ]
  },
  {
   "cell_type": "code",
   "execution_count": 319,
   "metadata": {},
   "outputs": [
    {
     "name": "stdout",
     "output_type": "stream",
     "text": [
      "|   iter    |  target   | colsam... | learni... | n_esti... | num_le... | reg_alpha | reg_la... | subsample |\n",
      "-------------------------------------------------------------------------------------------------------------\n",
      "| \u001b[0m 31      \u001b[0m | \u001b[0m-8.391   \u001b[0m | \u001b[0m 0.2893  \u001b[0m | \u001b[0m 0.306   \u001b[0m | \u001b[0m 837.9   \u001b[0m | \u001b[0m 7.238   \u001b[0m | \u001b[0m 1.6     \u001b[0m | \u001b[0m 1.494   \u001b[0m | \u001b[0m 0.6237  \u001b[0m |\n",
      "| \u001b[0m 32      \u001b[0m | \u001b[0m-8.981   \u001b[0m | \u001b[0m 0.2683  \u001b[0m | \u001b[0m 0.3368  \u001b[0m | \u001b[0m 121.2   \u001b[0m | \u001b[0m 12.82   \u001b[0m | \u001b[0m 1.727   \u001b[0m | \u001b[0m 1.147   \u001b[0m | \u001b[0m 0.3014  \u001b[0m |\n",
      "| \u001b[0m 33      \u001b[0m | \u001b[0m-9.084   \u001b[0m | \u001b[0m 0.178   \u001b[0m | \u001b[0m 0.1058  \u001b[0m | \u001b[0m 685.3   \u001b[0m | \u001b[0m 9.751   \u001b[0m | \u001b[0m 1.212   \u001b[0m | \u001b[0m 1.246   \u001b[0m | \u001b[0m 0.1374  \u001b[0m |\n",
      "| \u001b[95m 34      \u001b[0m | \u001b[95m-8.133   \u001b[0m | \u001b[95m 0.4445  \u001b[0m | \u001b[95m 0.144   \u001b[0m | \u001b[95m 597.5   \u001b[0m | \u001b[95m 16.1    \u001b[0m | \u001b[95m 1.082   \u001b[0m | \u001b[95m 1.207   \u001b[0m | \u001b[95m 0.5861  \u001b[0m |\n",
      "| \u001b[0m 35      \u001b[0m | \u001b[0m-8.304   \u001b[0m | \u001b[0m 0.3485  \u001b[0m | \u001b[0m 0.115   \u001b[0m | \u001b[0m 545.2   \u001b[0m | \u001b[0m 15.63   \u001b[0m | \u001b[0m 1.412   \u001b[0m | \u001b[0m 1.472   \u001b[0m | \u001b[0m 0.5106  \u001b[0m |\n",
      "| \u001b[0m 36      \u001b[0m | \u001b[0m-8.442   \u001b[0m | \u001b[0m 0.1251  \u001b[0m | \u001b[0m 0.3656  \u001b[0m | \u001b[0m 780.8   \u001b[0m | \u001b[0m 12.57   \u001b[0m | \u001b[0m 1.346   \u001b[0m | \u001b[0m 1.244   \u001b[0m | \u001b[0m 0.3838  \u001b[0m |\n",
      "| \u001b[0m 37      \u001b[0m | \u001b[0m-8.149   \u001b[0m | \u001b[0m 0.4786  \u001b[0m | \u001b[0m 0.1297  \u001b[0m | \u001b[0m 781.0   \u001b[0m | \u001b[0m 12.39   \u001b[0m | \u001b[0m 1.344   \u001b[0m | \u001b[0m 1.408   \u001b[0m | \u001b[0m 0.5407  \u001b[0m |\n",
      "| \u001b[0m 38      \u001b[0m | \u001b[0m-8.188   \u001b[0m | \u001b[0m 0.3584  \u001b[0m | \u001b[0m 0.2787  \u001b[0m | \u001b[0m 780.8   \u001b[0m | \u001b[0m 12.47   \u001b[0m | \u001b[0m 1.497   \u001b[0m | \u001b[0m 1.37    \u001b[0m | \u001b[0m 0.4026  \u001b[0m |\n",
      "| \u001b[0m 39      \u001b[0m | \u001b[0m-8.134   \u001b[0m | \u001b[0m 0.3607  \u001b[0m | \u001b[0m 0.2128  \u001b[0m | \u001b[0m 597.5   \u001b[0m | \u001b[0m 16.34   \u001b[0m | \u001b[0m 1.193   \u001b[0m | \u001b[0m 1.247   \u001b[0m | \u001b[0m 0.5312  \u001b[0m |\n",
      "| \u001b[0m 40      \u001b[0m | \u001b[0m-8.285   \u001b[0m | \u001b[0m 0.2807  \u001b[0m | \u001b[0m 0.1424  \u001b[0m | \u001b[0m 780.8   \u001b[0m | \u001b[0m 12.23   \u001b[0m | \u001b[0m 1.399   \u001b[0m | \u001b[0m 1.241   \u001b[0m | \u001b[0m 0.4408  \u001b[0m |\n",
      "| \u001b[0m 41      \u001b[0m | \u001b[0m-8.276   \u001b[0m | \u001b[0m 0.4269  \u001b[0m | \u001b[0m 0.3972  \u001b[0m | \u001b[0m 597.2   \u001b[0m | \u001b[0m 16.19   \u001b[0m | \u001b[0m 1.318   \u001b[0m | \u001b[0m 1.266   \u001b[0m | \u001b[0m 0.5674  \u001b[0m |\n",
      "| \u001b[0m 42      \u001b[0m | \u001b[0m-8.251   \u001b[0m | \u001b[0m 0.7     \u001b[0m | \u001b[0m 0.4     \u001b[0m | \u001b[0m 698.5   \u001b[0m | \u001b[0m 18.2    \u001b[0m | \u001b[0m 1.441   \u001b[0m | \u001b[0m 1.0     \u001b[0m | \u001b[0m 0.1     \u001b[0m |\n",
      "| \u001b[95m 43      \u001b[0m | \u001b[95m-8.019   \u001b[0m | \u001b[95m 0.6219  \u001b[0m | \u001b[95m 0.2042  \u001b[0m | \u001b[95m 597.3   \u001b[0m | \u001b[95m 16.27   \u001b[0m | \u001b[95m 1.192   \u001b[0m | \u001b[95m 1.077   \u001b[0m | \u001b[95m 0.6384  \u001b[0m |\n",
      "| \u001b[0m 44      \u001b[0m | \u001b[0m-8.215   \u001b[0m | \u001b[0m 0.309   \u001b[0m | \u001b[0m 0.2041  \u001b[0m | \u001b[0m 780.9   \u001b[0m | \u001b[0m 12.33   \u001b[0m | \u001b[0m 1.38    \u001b[0m | \u001b[0m 1.416   \u001b[0m | \u001b[0m 0.1     \u001b[0m |\n",
      "| \u001b[0m 45      \u001b[0m | \u001b[0m-8.282   \u001b[0m | \u001b[0m 0.3505  \u001b[0m | \u001b[0m 0.3791  \u001b[0m | \u001b[0m 597.2   \u001b[0m | \u001b[0m 16.28   \u001b[0m | \u001b[0m 1.079   \u001b[0m | \u001b[0m 1.111   \u001b[0m | \u001b[0m 0.584   \u001b[0m |\n",
      "| \u001b[0m 46      \u001b[0m | \u001b[0m-8.147   \u001b[0m | \u001b[0m 0.6998  \u001b[0m | \u001b[0m 0.3663  \u001b[0m | \u001b[0m 597.5   \u001b[0m | \u001b[0m 16.16   \u001b[0m | \u001b[0m 1.06    \u001b[0m | \u001b[0m 1.157   \u001b[0m | \u001b[0m 0.4278  \u001b[0m |\n",
      "| \u001b[0m 47      \u001b[0m | \u001b[0m-8.055   \u001b[0m | \u001b[0m 0.585   \u001b[0m | \u001b[0m 0.2481  \u001b[0m | \u001b[0m 597.8   \u001b[0m | \u001b[0m 16.13   \u001b[0m | \u001b[0m 1.426   \u001b[0m | \u001b[0m 1.306   \u001b[0m | \u001b[0m 0.7435  \u001b[0m |\n",
      "| \u001b[0m 48      \u001b[0m | \u001b[0m-8.225   \u001b[0m | \u001b[0m 0.4839  \u001b[0m | \u001b[0m 0.4     \u001b[0m | \u001b[0m 597.6   \u001b[0m | \u001b[0m 16.16   \u001b[0m | \u001b[0m 1.34    \u001b[0m | \u001b[0m 1.01    \u001b[0m | \u001b[0m 0.6359  \u001b[0m |\n",
      "| \u001b[0m 49      \u001b[0m | \u001b[0m-8.062   \u001b[0m | \u001b[0m 0.6707  \u001b[0m | \u001b[0m 0.1567  \u001b[0m | \u001b[0m 597.7   \u001b[0m | \u001b[0m 15.69   \u001b[0m | \u001b[0m 1.359   \u001b[0m | \u001b[0m 1.421   \u001b[0m | \u001b[0m 0.5403  \u001b[0m |\n",
      "| \u001b[0m 50      \u001b[0m | \u001b[0m-8.156   \u001b[0m | \u001b[0m 0.3363  \u001b[0m | \u001b[0m 0.153   \u001b[0m | \u001b[0m 597.5   \u001b[0m | \u001b[0m 16.15   \u001b[0m | \u001b[0m 1.508   \u001b[0m | \u001b[0m 1.261   \u001b[0m | \u001b[0m 0.4892  \u001b[0m |\n",
      "| \u001b[0m 51      \u001b[0m | \u001b[0m-8.049   \u001b[0m | \u001b[0m 0.7     \u001b[0m | \u001b[0m 0.1673  \u001b[0m | \u001b[0m 597.5   \u001b[0m | \u001b[0m 16.08   \u001b[0m | \u001b[0m 1.355   \u001b[0m | \u001b[0m 1.456   \u001b[0m | \u001b[0m 0.5052  \u001b[0m |\n",
      "| \u001b[0m 52      \u001b[0m | \u001b[0m-8.081   \u001b[0m | \u001b[0m 0.4502  \u001b[0m | \u001b[0m 0.1791  \u001b[0m | \u001b[0m 597.2   \u001b[0m | \u001b[0m 15.58   \u001b[0m | \u001b[0m 1.416   \u001b[0m | \u001b[0m 1.421   \u001b[0m | \u001b[0m 0.5321  \u001b[0m |\n",
      "| \u001b[0m 53      \u001b[0m | \u001b[0m-8.255   \u001b[0m | \u001b[0m 0.2624  \u001b[0m | \u001b[0m 0.3344  \u001b[0m | \u001b[0m 597.5   \u001b[0m | \u001b[0m 15.58   \u001b[0m | \u001b[0m 1.722   \u001b[0m | \u001b[0m 1.276   \u001b[0m | \u001b[0m 0.6835  \u001b[0m |\n",
      "| \u001b[0m 54      \u001b[0m | \u001b[0m-8.283   \u001b[0m | \u001b[0m 0.3063  \u001b[0m | \u001b[0m 0.3666  \u001b[0m | \u001b[0m 597.5   \u001b[0m | \u001b[0m 15.7    \u001b[0m | \u001b[0m 1.272   \u001b[0m | \u001b[0m 1.11    \u001b[0m | \u001b[0m 0.1611  \u001b[0m |\n",
      "| \u001b[0m 55      \u001b[0m | \u001b[0m-8.056   \u001b[0m | \u001b[0m 0.6932  \u001b[0m | \u001b[0m 0.2038  \u001b[0m | \u001b[0m 597.5   \u001b[0m | \u001b[0m 15.46   \u001b[0m | \u001b[0m 1.618   \u001b[0m | \u001b[0m 1.071   \u001b[0m | \u001b[0m 0.5163  \u001b[0m |\n",
      "| \u001b[0m 56      \u001b[0m | \u001b[0m-8.14    \u001b[0m | \u001b[0m 0.6662  \u001b[0m | \u001b[0m 0.3389  \u001b[0m | \u001b[0m 597.7   \u001b[0m | \u001b[0m 16.09   \u001b[0m | \u001b[0m 1.659   \u001b[0m | \u001b[0m 1.295   \u001b[0m | \u001b[0m 0.356   \u001b[0m |\n",
      "| \u001b[0m 57      \u001b[0m | \u001b[0m-8.285   \u001b[0m | \u001b[0m 0.3385  \u001b[0m | \u001b[0m 0.1182  \u001b[0m | \u001b[0m 597.7   \u001b[0m | \u001b[0m 15.85   \u001b[0m | \u001b[0m 1.571   \u001b[0m | \u001b[0m 1.219   \u001b[0m | \u001b[0m 0.6942  \u001b[0m |\n",
      "| \u001b[0m 58      \u001b[0m | \u001b[0m-8.247   \u001b[0m | \u001b[0m 0.4499  \u001b[0m | \u001b[0m 0.4     \u001b[0m | \u001b[0m 780.8   \u001b[0m | \u001b[0m 12.72   \u001b[0m | \u001b[0m 1.242   \u001b[0m | \u001b[0m 1.5     \u001b[0m | \u001b[0m 0.8     \u001b[0m |\n",
      "| \u001b[0m 59      \u001b[0m | \u001b[0m-8.208   \u001b[0m | \u001b[0m 0.43    \u001b[0m | \u001b[0m 0.3396  \u001b[0m | \u001b[0m 597.3   \u001b[0m | \u001b[0m 15.37   \u001b[0m | \u001b[0m 1.781   \u001b[0m | \u001b[0m 1.291   \u001b[0m | \u001b[0m 0.2493  \u001b[0m |\n",
      "| \u001b[0m 60      \u001b[0m | \u001b[0m-8.09    \u001b[0m | \u001b[0m 0.5827  \u001b[0m | \u001b[0m 0.2832  \u001b[0m | \u001b[0m 596.9   \u001b[0m | \u001b[0m 15.74   \u001b[0m | \u001b[0m 1.75    \u001b[0m | \u001b[0m 1.281   \u001b[0m | \u001b[0m 0.7167  \u001b[0m |\n",
      "=============================================================================================================\n"
     ]
    }
   ],
   "source": [
    "lgb_Bo.set_bounds(new_bounds = {'learning_rate' : (0.1,0.4), 'num_leaves' : (7,20)})\n",
    "lgb_Bo.maximize()"
   ]
  },
  {
   "cell_type": "code",
   "execution_count": 320,
   "metadata": {},
   "outputs": [
    {
     "name": "stdout",
     "output_type": "stream",
     "text": [
      "|   iter    |  target   | colsam... | learni... | n_esti... | num_le... | reg_alpha | reg_la... | subsample |\n",
      "-------------------------------------------------------------------------------------------------------------\n",
      "| \u001b[95m 61      \u001b[0m | \u001b[95m-8.001   \u001b[0m | \u001b[95m 0.671   \u001b[0m | \u001b[95m 0.1412  \u001b[0m | \u001b[95m 569.6   \u001b[0m | \u001b[95m 19.04   \u001b[0m | \u001b[95m 1.318   \u001b[0m | \u001b[95m 1.083   \u001b[0m | \u001b[95m 0.671   \u001b[0m |\n",
      "| \u001b[0m 62      \u001b[0m | \u001b[0m-8.166   \u001b[0m | \u001b[0m 0.5043  \u001b[0m | \u001b[0m 0.3252  \u001b[0m | \u001b[0m 863.0   \u001b[0m | \u001b[0m 19.42   \u001b[0m | \u001b[0m 1.499   \u001b[0m | \u001b[0m 1.375   \u001b[0m | \u001b[0m 0.4396  \u001b[0m |\n",
      "| \u001b[0m 63      \u001b[0m | \u001b[0m-8.233   \u001b[0m | \u001b[0m 0.481   \u001b[0m | \u001b[0m 0.3688  \u001b[0m | \u001b[0m 714.0   \u001b[0m | \u001b[0m 19.82   \u001b[0m | \u001b[0m 1.531   \u001b[0m | \u001b[0m 1.311   \u001b[0m | \u001b[0m 0.3459  \u001b[0m |\n",
      "| \u001b[0m 64      \u001b[0m | \u001b[0m-8.029   \u001b[0m | \u001b[0m 0.6848  \u001b[0m | \u001b[0m 0.235   \u001b[0m | \u001b[0m 789.2   \u001b[0m | \u001b[0m 17.04   \u001b[0m | \u001b[0m 1.19    \u001b[0m | \u001b[0m 1.452   \u001b[0m | \u001b[0m 0.5295  \u001b[0m |\n",
      "| \u001b[0m 65      \u001b[0m | \u001b[0m-8.107   \u001b[0m | \u001b[0m 0.4009  \u001b[0m | \u001b[0m 0.2851  \u001b[0m | \u001b[0m 663.3   \u001b[0m | \u001b[0m 17.64   \u001b[0m | \u001b[0m 1.709   \u001b[0m | \u001b[0m 1.179   \u001b[0m | \u001b[0m 0.6634  \u001b[0m |\n",
      "| \u001b[0m 66      \u001b[0m | \u001b[0m-8.062   \u001b[0m | \u001b[0m 0.7     \u001b[0m | \u001b[0m 0.1494  \u001b[0m | \u001b[0m 597.2   \u001b[0m | \u001b[0m 15.85   \u001b[0m | \u001b[0m 1.549   \u001b[0m | \u001b[0m 1.051   \u001b[0m | \u001b[0m 0.3677  \u001b[0m |\n",
      "| \u001b[0m 67      \u001b[0m | \u001b[0m-8.231   \u001b[0m | \u001b[0m 0.7     \u001b[0m | \u001b[0m 0.4     \u001b[0m | \u001b[0m 597.3   \u001b[0m | \u001b[0m 15.68   \u001b[0m | \u001b[0m 1.287   \u001b[0m | \u001b[0m 1.121   \u001b[0m | \u001b[0m 0.7     \u001b[0m |\n",
      "| \u001b[0m 68      \u001b[0m | \u001b[0m-8.072   \u001b[0m | \u001b[0m 0.6262  \u001b[0m | \u001b[0m 0.2544  \u001b[0m | \u001b[0m 596.9   \u001b[0m | \u001b[0m 15.38   \u001b[0m | \u001b[0m 1.575   \u001b[0m | \u001b[0m 1.028   \u001b[0m | \u001b[0m 0.3041  \u001b[0m |\n",
      "| \u001b[0m 69      \u001b[0m | \u001b[0m-8.103   \u001b[0m | \u001b[0m 0.4653  \u001b[0m | \u001b[0m 0.2187  \u001b[0m | \u001b[0m 597.1   \u001b[0m | \u001b[0m 15.53   \u001b[0m | \u001b[0m 1.323   \u001b[0m | \u001b[0m 1.482   \u001b[0m | \u001b[0m 0.5682  \u001b[0m |\n",
      "| \u001b[0m 70      \u001b[0m | \u001b[0m-8.16    \u001b[0m | \u001b[0m 0.7     \u001b[0m | \u001b[0m 0.1     \u001b[0m | \u001b[0m 596.7   \u001b[0m | \u001b[0m 15.8    \u001b[0m | \u001b[0m 1.222   \u001b[0m | \u001b[0m 1.205   \u001b[0m | \u001b[0m 0.4773  \u001b[0m |\n",
      "| \u001b[0m 71      \u001b[0m | \u001b[0m-8.174   \u001b[0m | \u001b[0m 0.7     \u001b[0m | \u001b[0m 0.1     \u001b[0m | \u001b[0m 598.0   \u001b[0m | \u001b[0m 15.89   \u001b[0m | \u001b[0m 1.315   \u001b[0m | \u001b[0m 1.0     \u001b[0m | \u001b[0m 0.3     \u001b[0m |\n",
      "| \u001b[0m 72      \u001b[0m | \u001b[0m-8.21    \u001b[0m | \u001b[0m 0.4     \u001b[0m | \u001b[0m 0.3697  \u001b[0m | \u001b[0m 598.0   \u001b[0m | \u001b[0m 16.03   \u001b[0m | \u001b[0m 1.21    \u001b[0m | \u001b[0m 1.5     \u001b[0m | \u001b[0m 0.3     \u001b[0m |\n",
      "| \u001b[0m 73      \u001b[0m | \u001b[0m-8.158   \u001b[0m | \u001b[0m 0.5179  \u001b[0m | \u001b[0m 0.3535  \u001b[0m | \u001b[0m 701.4   \u001b[0m | \u001b[0m 16.78   \u001b[0m | \u001b[0m 1.475   \u001b[0m | \u001b[0m 1.356   \u001b[0m | \u001b[0m 0.3787  \u001b[0m |\n",
      "| \u001b[0m 74      \u001b[0m | \u001b[0m-8.168   \u001b[0m | \u001b[0m 0.7     \u001b[0m | \u001b[0m 0.1     \u001b[0m | \u001b[0m 597.0   \u001b[0m | \u001b[0m 15.15   \u001b[0m | \u001b[0m 1.684   \u001b[0m | \u001b[0m 1.314   \u001b[0m | \u001b[0m 0.7     \u001b[0m |\n",
      "| \u001b[0m 75      \u001b[0m | \u001b[0m-8.157   \u001b[0m | \u001b[0m 0.7     \u001b[0m | \u001b[0m 0.1     \u001b[0m | \u001b[0m 597.3   \u001b[0m | \u001b[0m 15.21   \u001b[0m | \u001b[0m 1.144   \u001b[0m | \u001b[0m 1.147   \u001b[0m | \u001b[0m 0.3     \u001b[0m |\n",
      "| \u001b[0m 76      \u001b[0m | \u001b[0m-8.229   \u001b[0m | \u001b[0m 0.7     \u001b[0m | \u001b[0m 0.4     \u001b[0m | \u001b[0m 597.6   \u001b[0m | \u001b[0m 15.04   \u001b[0m | \u001b[0m 1.42    \u001b[0m | \u001b[0m 1.5     \u001b[0m | \u001b[0m 0.5032  \u001b[0m |\n",
      "| \u001b[0m 77      \u001b[0m | \u001b[0m-8.224   \u001b[0m | \u001b[0m 0.7     \u001b[0m | \u001b[0m 0.4     \u001b[0m | \u001b[0m 596.7   \u001b[0m | \u001b[0m 15.14   \u001b[0m | \u001b[0m 1.317   \u001b[0m | \u001b[0m 1.5     \u001b[0m | \u001b[0m 0.3     \u001b[0m |\n",
      "| \u001b[0m 78      \u001b[0m | \u001b[0m-8.288   \u001b[0m | \u001b[0m 0.5594  \u001b[0m | \u001b[0m 0.4     \u001b[0m | \u001b[0m 598.1   \u001b[0m | \u001b[0m 15.44   \u001b[0m | \u001b[0m 1.642   \u001b[0m | \u001b[0m 1.309   \u001b[0m | \u001b[0m 0.3     \u001b[0m |\n",
      "| \u001b[0m 79      \u001b[0m | \u001b[0m-8.061   \u001b[0m | \u001b[0m 0.6967  \u001b[0m | \u001b[0m 0.1243  \u001b[0m | \u001b[0m 597.9   \u001b[0m | \u001b[0m 16.61   \u001b[0m | \u001b[0m 1.381   \u001b[0m | \u001b[0m 1.29    \u001b[0m | \u001b[0m 0.4057  \u001b[0m |\n",
      "| \u001b[0m 80      \u001b[0m | \u001b[0m-8.108   \u001b[0m | \u001b[0m 0.7     \u001b[0m | \u001b[0m 0.1     \u001b[0m | \u001b[0m 598.4   \u001b[0m | \u001b[0m 16.16   \u001b[0m | \u001b[0m 1.603   \u001b[0m | \u001b[0m 1.483   \u001b[0m | \u001b[0m 0.5281  \u001b[0m |\n",
      "| \u001b[0m 81      \u001b[0m | \u001b[0m-8.096   \u001b[0m | \u001b[0m 0.7     \u001b[0m | \u001b[0m 0.1     \u001b[0m | \u001b[0m 598.3   \u001b[0m | \u001b[0m 16.31   \u001b[0m | \u001b[0m 1.0     \u001b[0m | \u001b[0m 1.256   \u001b[0m | \u001b[0m 0.7     \u001b[0m |\n",
      "| \u001b[0m 82      \u001b[0m | \u001b[0m-8.342   \u001b[0m | \u001b[0m 0.4     \u001b[0m | \u001b[0m 0.1     \u001b[0m | \u001b[0m 596.4   \u001b[0m | \u001b[0m 15.34   \u001b[0m | \u001b[0m 1.503   \u001b[0m | \u001b[0m 1.27    \u001b[0m | \u001b[0m 0.7     \u001b[0m |\n",
      "| \u001b[0m 83      \u001b[0m | \u001b[0m-8.188   \u001b[0m | \u001b[0m 0.4     \u001b[0m | \u001b[0m 0.3585  \u001b[0m | \u001b[0m 598.4   \u001b[0m | \u001b[0m 16.42   \u001b[0m | \u001b[0m 1.455   \u001b[0m | \u001b[0m 1.0     \u001b[0m | \u001b[0m 0.5096  \u001b[0m |\n",
      "| \u001b[0m 84      \u001b[0m | \u001b[0m-8.223   \u001b[0m | \u001b[0m 0.7     \u001b[0m | \u001b[0m 0.4     \u001b[0m | \u001b[0m 598.5   \u001b[0m | \u001b[0m 15.77   \u001b[0m | \u001b[0m 1.235   \u001b[0m | \u001b[0m 1.167   \u001b[0m | \u001b[0m 0.7     \u001b[0m |\n",
      "| \u001b[0m 85      \u001b[0m | \u001b[0m-8.224   \u001b[0m | \u001b[0m 0.7     \u001b[0m | \u001b[0m 0.4     \u001b[0m | \u001b[0m 598.5   \u001b[0m | \u001b[0m 16.57   \u001b[0m | \u001b[0m 1.165   \u001b[0m | \u001b[0m 1.5     \u001b[0m | \u001b[0m 0.3     \u001b[0m |\n",
      "| \u001b[0m 86      \u001b[0m | \u001b[0m-8.233   \u001b[0m | \u001b[0m 0.7     \u001b[0m | \u001b[0m 0.4     \u001b[0m | \u001b[0m 596.5   \u001b[0m | \u001b[0m 15.73   \u001b[0m | \u001b[0m 1.8     \u001b[0m | \u001b[0m 1.5     \u001b[0m | \u001b[0m 0.3     \u001b[0m |\n",
      "| \u001b[0m 87      \u001b[0m | \u001b[0m-8.257   \u001b[0m | \u001b[0m 0.4     \u001b[0m | \u001b[0m 0.1     \u001b[0m | \u001b[0m 598.4   \u001b[0m | \u001b[0m 16.83   \u001b[0m | \u001b[0m 1.464   \u001b[0m | \u001b[0m 1.5     \u001b[0m | \u001b[0m 0.7     \u001b[0m |\n",
      "| \u001b[0m 88      \u001b[0m | \u001b[0m-8.096   \u001b[0m | \u001b[0m 0.7     \u001b[0m | \u001b[0m 0.1     \u001b[0m | \u001b[0m 596.9   \u001b[0m | \u001b[0m 16.43   \u001b[0m | \u001b[0m 1.8     \u001b[0m | \u001b[0m 1.302   \u001b[0m | \u001b[0m 0.3     \u001b[0m |\n",
      "| \u001b[0m 89      \u001b[0m | \u001b[0m-8.106   \u001b[0m | \u001b[0m 0.7     \u001b[0m | \u001b[0m 0.1     \u001b[0m | \u001b[0m 597.3   \u001b[0m | \u001b[0m 16.85   \u001b[0m | \u001b[0m 1.45    \u001b[0m | \u001b[0m 1.0     \u001b[0m | \u001b[0m 0.3     \u001b[0m |\n",
      "| \u001b[0m 90      \u001b[0m | \u001b[0m-8.293   \u001b[0m | \u001b[0m 0.4     \u001b[0m | \u001b[0m 0.1     \u001b[0m | \u001b[0m 598.9   \u001b[0m | \u001b[0m 16.2    \u001b[0m | \u001b[0m 1.191   \u001b[0m | \u001b[0m 1.47    \u001b[0m | \u001b[0m 0.7     \u001b[0m |\n",
      "=============================================================================================================\n"
     ]
    }
   ],
   "source": [
    "lgb_Bo.set_bounds(new_bounds = {'colsample_bytree' : (0.4,0.7), 'n_estimators' : (500,1000),\n",
    "                               'num_leaves' : (15,20),'subsample' : (0.3,0.7)})\n",
    "lgb_Bo.maximize()"
   ]
  },
  {
   "cell_type": "code",
   "execution_count": 313,
   "metadata": {},
   "outputs": [
    {
     "name": "stdout",
     "output_type": "stream",
     "text": [
      "##### LGBMRegressor #####\n",
      "0 fold train rmse : 5.987 valid rmse : 7.879\n",
      "1 fold train rmse : 6.144 valid rmse : 7.883\n",
      "2 fold train rmse : 6.055 valid rmse : 7.828\n",
      "\n",
      "\n",
      "mean train rmse : 6.062 mean valid rmse : 7.863\n",
      "test rmse 7.616 \n"
     ]
    }
   ],
   "source": [
    "lgb = LGBMRegressor(n_jobs = -1, n_estimators = 500)\n",
    "model_cv_test(lgb, X_train, y_train, X_test, y_test, False)"
   ]
  },
  {
   "cell_type": "code",
   "execution_count": 321,
   "metadata": {},
   "outputs": [
    {
     "data": {
      "text/plain": [
       "{'params': {'colsample_bytree': 0.67102057458636499,\n",
       "  'learning_rate': 0.14124241124387127,\n",
       "  'n_estimators': 569.6381736253793,\n",
       "  'num_leaves': 19.03695644354762,\n",
       "  'reg_alpha': 1.3181414695884268,\n",
       "  'reg_lambda': 1.0826770985584664,\n",
       "  'subsample': 0.67100343215841352},\n",
       " 'target': -8.0005599576949677}"
      ]
     },
     "execution_count": 321,
     "metadata": {},
     "output_type": "execute_result"
    }
   ],
   "source": [
    "lgb_Bo.max"
   ]
  },
  {
   "cell_type": "code",
   "execution_count": 323,
   "metadata": {},
   "outputs": [
    {
     "name": "stdout",
     "output_type": "stream",
     "text": [
      "##### LGBMRegressor #####\n",
      "0 fold train rmse : 6.369 valid rmse : 7.990\n",
      "1 fold train rmse : 6.374 valid rmse : 8.003\n",
      "2 fold train rmse : 6.467 valid rmse : 8.007\n",
      "\n",
      "\n",
      "mean train rmse : 6.403 mean valid rmse : 8.000\n",
      "test rmse 7.756 \n"
     ]
    }
   ],
   "source": [
    "lgb = LGBMRegressor(n_jobs = -1,colsample_bytree=lgb_Bo.max['params']['colsample_bytree'],\n",
    "                    learning_rate=lgb_Bo.max['params']['learning_rate'],\n",
    "                    n_estimators=570,\n",
    "                    num_leaves=19,\n",
    "                    reg_alpha=lgb_Bo.max['params']['reg_alpha'],\n",
    "                    reg_lambda=lgb_Bo.max['params']['reg_lambda'],\n",
    "                    subsample=lgb_Bo.max['params']['subsample'],\n",
    "           )\n",
    "\n",
    "model_cv_test(lgb, X_train, y_train, X_test, y_test, False)"
   ]
  },
  {
   "cell_type": "code",
   "execution_count": 19,
   "metadata": {
    "collapsed": true
   },
   "outputs": [],
   "source": [
    "lgb = LGBMRegressor(n_jobs = -1,colsample_bytree=0.67102057458636499,\n",
    "                    learning_rate=0.14124241124387127,\n",
    "                    n_estimators=570,\n",
    "                    num_leaves=19,\n",
    "                    reg_alpha=1.3181414695884268,\n",
    "                    reg_lambda=1.0826770985584664,\n",
    "                    subsample=0.67100343215841352,\n",
    "           )\n",
    "\n",
    "lgb.fit(X_train, y_train)\n",
    "lgb_pred = lgb.predict(X_test)"
   ]
  },
  {
   "cell_type": "code",
   "execution_count": 21,
   "metadata": {},
   "outputs": [
    {
     "data": {
      "image/png": "[encoded data removed]",
      "text/plain": [
       "<matplotlib.figure.Figure at 0x95f5e10>"
      ]
     },
     "metadata": {},
     "output_type": "display_data"
    },
    {
     "data": {
      "image/png": "[encoded data removed]",
      "text/plain": [
       "<matplotlib.figure.Figure at 0x97a1748>"
      ]
     },
     "metadata": {},
     "output_type": "display_data"
    }
   ],
   "source": [
    "plt.figure(figsize = (5,5))\n",
    "sns.regplot(y_test, lgb_pred)\n",
    "plt.show()"
   ]
  },
  {
   "cell_type": "code",
   "execution_count": 26,
   "metadata": {},
   "outputs": [
    {
     "data": {
      "image/png": "[encoded data removed]",
      "text/plain": [
       "<matplotlib.figure.Figure at 0x24cfa1d0>"
      ]
     },
     "metadata": {},
     "output_type": "display_data"
    }
   ],
   "source": [
    "feature_imp = pd.DataFrame(sorted(zip(lgb.feature_importances_, X_train.columns)), columns=['Value','Feature'])\n",
    "\n",
    "sns.set(font_scale = 2)\n",
    "plt.figure(figsize=(20, 10))\n",
    "sns.barplot(x=\"Value\", y=\"Feature\", data=feature_imp.sort_values(by=\"Value\", ascending=False)[:10])\n",
    "plt.title('LightGBM Features (avg over folds)')\n",
    "plt.tight_layout()\n",
    "plt.show()"
   ]
  }
 ],
 "metadata": {
  "kernelspec": {
   "display_name": "Python 3",
   "language": "python",
   "name": "python3"
  },
  "language_info": {
   "codemirror_mode": {
    "name": "ipython",
    "version": 3
   },
   "file_extension": ".py",
   "mimetype": "text/x-python",
   "name": "python",
   "nbconvert_exporter": "python",
   "pygments_lexer": "ipython3",
   "version": "3.5.3"
  }
 },
 "nbformat": 4,
 "nbformat_minor": 2
}
