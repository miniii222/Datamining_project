{
 "cells": [
  {
   "cell_type": "code",
   "execution_count": 29,
   "metadata": {},
   "outputs": [
    {
     "name": "stdout",
     "output_type": "stream",
     "text": [
      "12\n"
     ]
    },
    {
     "data": {
      "text/plain": [
       "['2018년 04월 서울시 차량통행속도.xlsx',\n",
       " '2018년 05월 서울시 차량통행속도.xlsx',\n",
       " '2018년 06월 서울시 차량통행속도.xlsx',\n",
       " '2018년 07월 서울시 차량통행속도.xlsx',\n",
       " '2018년 08월 서울시 차량통행속도.xlsx',\n",
       " '2018년 09월 서울시 차량통행속도.xlsx',\n",
       " '2018년 10월 서울시 차량통행속도.xlsx',\n",
       " '2018년 11월 서울시 차량통행속도.xlsx',\n",
       " '2018년 12월 서울시 차량통행속도.xlsx',\n",
       " '2019년 01월 서울시 차량통행속도.xlsx',\n",
       " '2019년 02월 서울시 차량통행속도.xlsx',\n",
       " '2019년 03월 서울시 차량통행속도.xlsx']"
      ]
     },
     "execution_count": 29,
     "metadata": {},
     "output_type": "execute_result"
    }
   ],
   "source": [
    "import glob\n",
    "import numpy as np\n",
    "from sklearn.model_selection import train_test_split\n",
    "from sklearn.metrics import mean_squared_error , r2_score\n",
    "lst = glob.glob('*서울시*.xlsx')\n",
    "print(len(lst))\n",
    "lst"
   ]
  },
  {
   "cell_type": "code",
   "execution_count": 14,
   "metadata": {},
   "outputs": [
    {
     "name": "stdout",
     "output_type": "stream",
     "text": [
      "Index(['일자', '요일', '도로명', '링크아이디', '방향', '거리', '기능유형구분', '도심/외곽구분', '권역구분',\n",
      "       '01시', '02시', '03시', '04시', '05시', '06시', '07시', '08시', '09시', '10시',\n",
      "       '11시', '12시', '13시', '14시', '15시', '16시', '17시', '18시', '19시', '20시',\n",
      "       '21시', '22시', '23시', '24시'],\n",
      "      dtype='object')\n"
     ]
    }
   ],
   "source": [
    "car4 = pd.read_excel('2018년 04월 서울시 차량통행속도.xlsx')\n",
    "car4.drop(['시점명','종점명'],axis=1,inplace=True)\n",
    "print(car4.columns)"
   ]
  },
  {
   "cell_type": "code",
   "execution_count": 13,
   "metadata": {},
   "outputs": [
    {
     "name": "stdout",
     "output_type": "stream",
     "text": [
      "Index(['일자', '요일', '도로명', '링크아이디', '방향', '거리', '차선수', '기능유형구분', '도심/외곽구분',\n",
      "       '권역구분', '01시', '02시', '03시', '04시', '05시', '06시', '07시', '08시', '09시',\n",
      "       '10시', '11시', '12시', '13시', '14시', '15시', '16시', '17시', '18시', '19시',\n",
      "       '20시', '21시', '22시', '23시', '24시'],\n",
      "      dtype='object')\n"
     ]
    }
   ],
   "source": [
    "car12 = pd.read_excel('2018년 12월 서울시 차량통행속도.xlsx')\n",
    "car12.drop(['도로명','시점명','종점명'],axis=1,inplace=True)\n",
    "print(car12.columns)"
   ]
  },
  {
   "cell_type": "code",
   "execution_count": 15,
   "metadata": {},
   "outputs": [
    {
     "data": {
      "text/html": [
       "<div>\n",
       "<style scoped>\n",
       "    .dataframe tbody tr th:only-of-type {\n",
       "        vertical-align: middle;\n",
       "    }\n",
       "\n",
       "    .dataframe tbody tr th {\n",
       "        vertical-align: top;\n",
       "    }\n",
       "\n",
       "    .dataframe thead th {\n",
       "        text-align: right;\n",
       "    }\n",
       "</style>\n",
       "<table border=\"1\" class=\"dataframe\">\n",
       "  <thead>\n",
       "    <tr style=\"text-align: right;\">\n",
       "      <th></th>\n",
       "      <th>일자</th>\n",
       "      <th>요일</th>\n",
       "      <th>도로명</th>\n",
       "      <th>링크아이디</th>\n",
       "      <th>방향</th>\n",
       "      <th>거리</th>\n",
       "      <th>차선수</th>\n",
       "      <th>기능유형구분</th>\n",
       "      <th>도심/외곽구분</th>\n",
       "      <th>권역구분</th>\n",
       "      <th>variable</th>\n",
       "      <th>value</th>\n",
       "    </tr>\n",
       "  </thead>\n",
       "  <tbody>\n",
       "    <tr>\n",
       "      <th>0</th>\n",
       "      <td>20181201</td>\n",
       "      <td>토</td>\n",
       "      <td>4.19로</td>\n",
       "      <td>1080012200</td>\n",
       "      <td>상행</td>\n",
       "      <td>1179</td>\n",
       "      <td>1</td>\n",
       "      <td>보조간선도로</td>\n",
       "      <td>외곽</td>\n",
       "      <td>강북구</td>\n",
       "      <td>01시</td>\n",
       "      <td>NaN</td>\n",
       "    </tr>\n",
       "    <tr>\n",
       "      <th>1</th>\n",
       "      <td>20181201</td>\n",
       "      <td>토</td>\n",
       "      <td>4.19로</td>\n",
       "      <td>1080012800</td>\n",
       "      <td>상행</td>\n",
       "      <td>352</td>\n",
       "      <td>1</td>\n",
       "      <td>보조간선도로</td>\n",
       "      <td>외곽</td>\n",
       "      <td>강북구</td>\n",
       "      <td>01시</td>\n",
       "      <td>NaN</td>\n",
       "    </tr>\n",
       "    <tr>\n",
       "      <th>2</th>\n",
       "      <td>20181201</td>\n",
       "      <td>토</td>\n",
       "      <td>4.19로</td>\n",
       "      <td>1080012700</td>\n",
       "      <td>하행</td>\n",
       "      <td>354</td>\n",
       "      <td>2</td>\n",
       "      <td>보조간선도로</td>\n",
       "      <td>외곽</td>\n",
       "      <td>강북구</td>\n",
       "      <td>01시</td>\n",
       "      <td>NaN</td>\n",
       "    </tr>\n",
       "    <tr>\n",
       "      <th>3</th>\n",
       "      <td>20181201</td>\n",
       "      <td>토</td>\n",
       "      <td>4.19로</td>\n",
       "      <td>1080012100</td>\n",
       "      <td>하행</td>\n",
       "      <td>1190</td>\n",
       "      <td>2</td>\n",
       "      <td>보조간선도로</td>\n",
       "      <td>외곽</td>\n",
       "      <td>강북구</td>\n",
       "      <td>01시</td>\n",
       "      <td>NaN</td>\n",
       "    </tr>\n",
       "    <tr>\n",
       "      <th>4</th>\n",
       "      <td>20181201</td>\n",
       "      <td>토</td>\n",
       "      <td>가락로</td>\n",
       "      <td>1230024700</td>\n",
       "      <td>상행</td>\n",
       "      <td>844</td>\n",
       "      <td>1</td>\n",
       "      <td>기타도로</td>\n",
       "      <td>외곽</td>\n",
       "      <td>송파구</td>\n",
       "      <td>01시</td>\n",
       "      <td>NaN</td>\n",
       "    </tr>\n",
       "  </tbody>\n",
       "</table>\n",
       "</div>"
      ],
      "text/plain": [
       "         일자 요일    도로명       링크아이디  방향    거리  차선수  기능유형구분 도심/외곽구분 권역구분  \\\n",
       "0  20181201  토  4.19로  1080012200  상행  1179    1  보조간선도로      외곽  강북구   \n",
       "1  20181201  토  4.19로  1080012800  상행   352    1  보조간선도로      외곽  강북구   \n",
       "2  20181201  토  4.19로  1080012700  하행   354    2  보조간선도로      외곽  강북구   \n",
       "3  20181201  토  4.19로  1080012100  하행  1190    2  보조간선도로      외곽  강북구   \n",
       "4  20181201  토    가락로  1230024700  상행   844    1    기타도로      외곽  송파구   \n",
       "\n",
       "  variable  value  \n",
       "0      01시    NaN  \n",
       "1      01시    NaN  \n",
       "2      01시    NaN  \n",
       "3      01시    NaN  \n",
       "4      01시    NaN  "
      ]
     },
     "execution_count": 15,
     "metadata": {},
     "output_type": "execute_result"
    }
   ],
   "source": [
    "car = pd.melt(car12, id_vars=car12.columns[:10])\n",
    "car.head()"
   ]
  },
  {
   "cell_type": "code",
   "execution_count": 27,
   "metadata": {},
   "outputs": [
    {
     "data": {
      "text/plain": [
       "일자            0\n",
       "요일            0\n",
       "도로명           0\n",
       "링크아이디         0\n",
       "방향            0\n",
       "거리            0\n",
       "차선수           0\n",
       "기능유형구분        0\n",
       "도심/외곽구분       0\n",
       "권역구분          0\n",
       "01시        5090\n",
       "02시        4921\n",
       "03시        5084\n",
       "04시        5016\n",
       "05시        5180\n",
       "06시        5249\n",
       "07시        5073\n",
       "08시        4955\n",
       "09시        4825\n",
       "10시        4834\n",
       "11시        9549\n",
       "12시         169\n",
       "13시         222\n",
       "14시         133\n",
       "15시         199\n",
       "16시         290\n",
       "17시         208\n",
       "18시         158\n",
       "19시         194\n",
       "20시         166\n",
       "21시         110\n",
       "22시         248\n",
       "23시         127\n",
       "24시         355\n",
       "dtype: int64"
      ]
     },
     "execution_count": 27,
     "metadata": {},
     "output_type": "execute_result"
    }
   ],
   "source": [
    "car12.isnull().sum()"
   ]
  },
  {
   "cell_type": "code",
   "execution_count": 42,
   "metadata": {},
   "outputs": [
    {
     "name": "stdout",
     "output_type": "stream",
     "text": [
      "(3519312, 11)\n"
     ]
    },
    {
     "data": {
      "text/html": [
       "<div>\n",
       "<style scoped>\n",
       "    .dataframe tbody tr th:only-of-type {\n",
       "        vertical-align: middle;\n",
       "    }\n",
       "\n",
       "    .dataframe tbody tr th {\n",
       "        vertical-align: top;\n",
       "    }\n",
       "\n",
       "    .dataframe thead th {\n",
       "        text-align: right;\n",
       "    }\n",
       "</style>\n",
       "<table border=\"1\" class=\"dataframe\">\n",
       "  <thead>\n",
       "    <tr style=\"text-align: right;\">\n",
       "      <th></th>\n",
       "      <th>일자</th>\n",
       "      <th>요일</th>\n",
       "      <th>링크아이디</th>\n",
       "      <th>방향</th>\n",
       "      <th>거리</th>\n",
       "      <th>차선수</th>\n",
       "      <th>기능유형구분</th>\n",
       "      <th>도심/외곽구분</th>\n",
       "      <th>권역구분</th>\n",
       "      <th>variable</th>\n",
       "      <th>value</th>\n",
       "    </tr>\n",
       "  </thead>\n",
       "  <tbody>\n",
       "    <tr>\n",
       "      <th>0</th>\n",
       "      <td>20181201</td>\n",
       "      <td>5</td>\n",
       "      <td>1504</td>\n",
       "      <td>0</td>\n",
       "      <td>1179</td>\n",
       "      <td>1</td>\n",
       "      <td>2</td>\n",
       "      <td>1</td>\n",
       "      <td>2</td>\n",
       "      <td>0</td>\n",
       "      <td>NaN</td>\n",
       "    </tr>\n",
       "    <tr>\n",
       "      <th>1</th>\n",
       "      <td>20181201</td>\n",
       "      <td>5</td>\n",
       "      <td>1510</td>\n",
       "      <td>0</td>\n",
       "      <td>352</td>\n",
       "      <td>1</td>\n",
       "      <td>2</td>\n",
       "      <td>1</td>\n",
       "      <td>2</td>\n",
       "      <td>0</td>\n",
       "      <td>NaN</td>\n",
       "    </tr>\n",
       "    <tr>\n",
       "      <th>2</th>\n",
       "      <td>20181201</td>\n",
       "      <td>5</td>\n",
       "      <td>1509</td>\n",
       "      <td>1</td>\n",
       "      <td>354</td>\n",
       "      <td>2</td>\n",
       "      <td>2</td>\n",
       "      <td>1</td>\n",
       "      <td>2</td>\n",
       "      <td>0</td>\n",
       "      <td>NaN</td>\n",
       "    </tr>\n",
       "    <tr>\n",
       "      <th>3</th>\n",
       "      <td>20181201</td>\n",
       "      <td>5</td>\n",
       "      <td>1503</td>\n",
       "      <td>1</td>\n",
       "      <td>1190</td>\n",
       "      <td>2</td>\n",
       "      <td>2</td>\n",
       "      <td>1</td>\n",
       "      <td>2</td>\n",
       "      <td>0</td>\n",
       "      <td>NaN</td>\n",
       "    </tr>\n",
       "    <tr>\n",
       "      <th>4</th>\n",
       "      <td>20181201</td>\n",
       "      <td>5</td>\n",
       "      <td>4274</td>\n",
       "      <td>0</td>\n",
       "      <td>844</td>\n",
       "      <td>1</td>\n",
       "      <td>0</td>\n",
       "      <td>1</td>\n",
       "      <td>17</td>\n",
       "      <td>0</td>\n",
       "      <td>NaN</td>\n",
       "    </tr>\n",
       "  </tbody>\n",
       "</table>\n",
       "</div>"
      ],
      "text/plain": [
       "         일자  요일  링크아이디  방향    거리  차선수  기능유형구분  도심/외곽구분  권역구분  variable  value\n",
       "0  20181201   5   1504   0  1179    1       2        1     2         0    NaN\n",
       "1  20181201   5   1510   0   352    1       2        1     2         0    NaN\n",
       "2  20181201   5   1509   1   354    2       2        1     2         0    NaN\n",
       "3  20181201   5   1503   1  1190    2       2        1     2         0    NaN\n",
       "4  20181201   5   4274   0   844    1       0        1    17         0    NaN"
      ]
     },
     "execution_count": 42,
     "metadata": {},
     "output_type": "execute_result"
    }
   ],
   "source": [
    "from sklearn.preprocessing import LabelEncoder\n",
    "\n",
    "lb_make = LabelEncoder()\n",
    "car[\"요일\"] = lb_make.fit_transform(car[\"요일\"])\n",
    "car[\"링크아이디\"] = lb_make.fit_transform(car[\"링크아이디\"])\n",
    "car[\"방향\"] = lb_make.fit_transform(car[\"방향\"])\n",
    "car[\"기능유형구분\"] = lb_make.fit_transform(car[\"기능유형구분\"])\n",
    "car[\"도심/외곽구분\"] = lb_make.fit_transform(car[\"도심/외곽구분\"])\n",
    "car[\"권역구분\"] = lb_make.fit_transform(car[\"권역구분\"])\n",
    "car[\"variable\"] = lb_make.fit_transform(car[\"variable\"])\n",
    "\n",
    "print(car.shape)\n",
    "car.head()"
   ]
  },
  {
   "cell_type": "code",
   "execution_count": 46,
   "metadata": {},
   "outputs": [
    {
     "name": "stdout",
     "output_type": "stream",
     "text": [
      "(3456957, 11)\n",
      "제거한 행의 갯수 : 62355\n"
     ]
    }
   ],
   "source": [
    "car_drop_na.dropna(axis=0)\n",
    "print(car_drop_na.shape)\n",
    "print('제거한 행의 갯수 :',car.shape[0]-car_drop_na.shape[0]) #6만개"
   ]
  },
  {
   "cell_type": "code",
   "execution_count": 57,
   "metadata": {},
   "outputs": [],
   "source": [
    "X_data = car_drop_na.drop(['일자','value'],axis=1,inplace=False)\n",
    "y_target = car_drop_na['value']\n",
    "X_train , X_test , y_train , y_test = train_test_split(X_data , y_target ,test_size=0.3, random_state=156)"
   ]
  },
  {
   "cell_type": "code",
   "execution_count": 48,
   "metadata": {},
   "outputs": [
    {
     "data": {
      "text/plain": [
       "<matplotlib.axes._subplots.AxesSubplot at 0x18a0725ac50>"
      ]
     },
     "execution_count": 48,
     "metadata": {},
     "output_type": "execute_result"
    },
    {
     "data": {
      "image/png": "[encoded data removed]",
      "text/plain": [
       "<Figure size 432x288 with 1 Axes>"
      ]
     },
     "metadata": {
      "needs_background": "light"
     },
     "output_type": "display_data"
    }
   ],
   "source": [
    "y_train.hist()"
   ]
  },
  {
   "cell_type": "code",
   "execution_count": 49,
   "metadata": {},
   "outputs": [
    {
     "data": {
      "text/plain": [
       "<matplotlib.axes._subplots.AxesSubplot at 0x18a075ceef0>"
      ]
     },
     "execution_count": 49,
     "metadata": {},
     "output_type": "execute_result"
    },
    {
     "data": {
      "image/png": "[encoded data removed]",
      "text/plain": [
       "<Figure size 432x288 with 1 Axes>"
      ]
     },
     "metadata": {
      "needs_background": "light"
     },
     "output_type": "display_data"
    }
   ],
   "source": [
    "np.log1p(y_train).hist()"
   ]
  },
  {
   "cell_type": "code",
   "execution_count": 62,
   "metadata": {},
   "outputs": [],
   "source": [
    "def get_model_predict(model, X_train, X_test, y_train, y_test, is_expm1=False):\n",
    "    model.fit(X_train, y_train)\n",
    "    pred = model.predict(X_test)\n",
    "    if is_expm1 :\n",
    "        y_test = np.expm1(y_test)\n",
    "        pred = np.expm1(pred)\n",
    "    mse = mean_squared_error(y_test, pred)    \n",
    "    r2 = r2_score(y_test, pred)   \n",
    "    \n",
    "    print('###',model.__class__.__name__,'###')\n",
    "    print('MSE: {0:.3f}, R2: {1:.3F}'.format(mse, r2*100))"
   ]
  },
  {
   "cell_type": "code",
   "execution_count": 64,
   "metadata": {},
   "outputs": [
    {
     "name": "stdout",
     "output_type": "stream",
     "text": [
      "### LinearRegression ###\n",
      "MSE: 148.080, R2: 20.348\n"
     ]
    }
   ],
   "source": [
    "from sklearn.linear_model import LinearRegression\n",
    "lr = LinearRegression(n_jobs=-1)\n",
    "get_model_predict(lr,X_train, X_test, y_train, y_test)"
   ]
  },
  {
   "cell_type": "code",
   "execution_count": 65,
   "metadata": {},
   "outputs": [
    {
     "name": "stdout",
     "output_type": "stream",
     "text": [
      "### LinearRegression ###\n",
      "MSE: 152.664, R2: 17.882\n"
     ]
    }
   ],
   "source": [
    "y_target_log = np.log1p(y_target)\n",
    "X_train , X_test , y_train , y_test = train_test_split(X_data , y_target_log ,test_size=0.3, random_state=156)\n",
    "\n",
    "lr = LinearRegression(n_jobs=-1)\n",
    "get_model_predict(lr,X_train, X_test, y_train, y_test,is_expm1=True)"
   ]
  },
  {
   "cell_type": "code",
   "execution_count": 69,
   "metadata": {},
   "outputs": [
    {
     "name": "stdout",
     "output_type": "stream",
     "text": [
      "### LinearRegression ###\n",
      "MSE: 142.863, R2: 23.154\n"
     ]
    }
   ],
   "source": [
    "X_data_ohe = pd.get_dummies(X_data, columns=['요일','variable'])\n",
    "\n",
    "X_train , X_test , y_train , y_test = train_test_split(X_data_ohe , y_target_log ,test_size=0.3, random_state=156)\n",
    "\n",
    "lr = LinearRegression(n_jobs=-1)\n",
    "get_model_predict(lr,X_train, X_test, y_train, y_test,is_expm1=True)"
   ]
  },
  {
   "cell_type": "code",
   "execution_count": 70,
   "metadata": {},
   "outputs": [
    {
     "name": "stdout",
     "output_type": "stream",
     "text": [
      "### LinearRegression ###\n",
      "MSE: 138.867, R2: 25.304\n"
     ]
    }
   ],
   "source": [
    "X_train , X_test , y_train , y_test = train_test_split(X_data_ohe , y_target,test_size=0.3, random_state=156)\n",
    "\n",
    "lr = LinearRegression(n_jobs=-1)\n",
    "get_model_predict(lr,X_train, X_test, y_train, y_test,is_expm1=False)"
   ]
  },
  {
   "cell_type": "code",
   "execution_count": null,
   "metadata": {},
   "outputs": [],
   "source": []
  }
 ],
 "metadata": {
  "kernelspec": {
   "display_name": "Python [default]",
   "language": "python",
   "name": "python3"
  },
  "language_info": {
   "codemirror_mode": {
    "name": "ipython",
    "version": 3
   },
   "file_extension": ".py",
   "mimetype": "text/x-python",
   "name": "python",
   "nbconvert_exporter": "python",
   "pygments_lexer": "ipython3",
   "version": "3.7.0"
  }
 },
 "nbformat": 4,
 "nbformat_minor": 2
}
