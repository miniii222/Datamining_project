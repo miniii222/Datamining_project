{
 "cells": [
  {
   "cell_type": "code",
   "execution_count": 3,
   "metadata": {
    "ExecuteTime": {
     "end_time": "2019-06-01T07:06:38.521267Z",
     "start_time": "2019-06-01T07:06:38.512396Z"
    }
   },
   "outputs": [
    {
     "data": {
      "text/plain": [
       "['201801_Seoul_traffic.csv',\n",
       " '201804_Seoul_traffic.csv',\n",
       " '201807_Seoul_traffic.csv',\n",
       " '201810_Seoul_traffic.csv',\n",
       " '2018년 01월 서울시 차량통행속도.xlsx',\n",
       " '2018년 04월 서울시 차량통행속도.xlsx',\n",
       " '2018년 07월 서울시 차량통행속도.xlsx',\n",
       " '2018년 10월 서울시 차량통행속도.xlsx',\n",
       " '2018년 11월 서울시 차량통행속도.xlsx',\n",
       " '2018년 12월 서울시 차량통행속도.xlsx',\n",
       " 'accident11.xlsx',\n",
       " 'dt_201903.csv',\n",
       " 'dt_total.csv',\n",
       " 'dust1.csv',\n",
       " 'gugucon.csv',\n",
       " 'holiday.csv',\n",
       " 'road_info.csv',\n",
       " 'weather',\n",
       " 'weather_merged.csv',\n",
       " '도로정보_TOTAL.xlsx',\n",
       " '미세먼지1.xls',\n",
       " '미세먼지10.xls',\n",
       " '미세먼지4.xls',\n",
       " '미세먼지7.xls']"
      ]
     },
     "execution_count": 3,
     "metadata": {},
     "output_type": "execute_result"
    }
   ],
   "source": [
    "import pandas as pd\n",
    "import numpy as np\n",
    "import os\n",
    "\n",
    "os.listdir('../data')"
   ]
  },
  {
   "cell_type": "code",
   "execution_count": 11,
   "metadata": {
    "ExecuteTime": {
     "end_time": "2019-06-01T07:14:55.887449Z",
     "start_time": "2019-06-01T07:14:55.261727Z"
    }
   },
   "outputs": [
    {
     "data": {
      "text/html": [
       "<div>\n",
       "<style scoped>\n",
       "    .dataframe tbody tr th:only-of-type {\n",
       "        vertical-align: middle;\n",
       "    }\n",
       "\n",
       "    .dataframe tbody tr th {\n",
       "        vertical-align: top;\n",
       "    }\n",
       "\n",
       "    .dataframe thead th {\n",
       "        text-align: right;\n",
       "    }\n",
       "</style>\n",
       "<table border=\"1\" class=\"dataframe\">\n",
       "  <thead>\n",
       "    <tr style=\"text-align: right;\">\n",
       "      <th></th>\n",
       "      <th>date</th>\n",
       "      <th>time</th>\n",
       "      <th>측정소명</th>\n",
       "      <th>SO2</th>\n",
       "      <th>CO</th>\n",
       "      <th>O3</th>\n",
       "      <th>NO2</th>\n",
       "      <th>PM10</th>\n",
       "      <th>PM2.5</th>\n",
       "    </tr>\n",
       "  </thead>\n",
       "  <tbody>\n",
       "    <tr>\n",
       "      <th>0</th>\n",
       "      <td>2018-01-01</td>\n",
       "      <td>1</td>\n",
       "      <td>중구</td>\n",
       "      <td>0.004</td>\n",
       "      <td>0.5</td>\n",
       "      <td>0.020</td>\n",
       "      <td>0.020</td>\n",
       "      <td>34.0</td>\n",
       "      <td>19.0</td>\n",
       "    </tr>\n",
       "    <tr>\n",
       "      <th>1</th>\n",
       "      <td>2018-01-01</td>\n",
       "      <td>2</td>\n",
       "      <td>중구</td>\n",
       "      <td>0.004</td>\n",
       "      <td>0.4</td>\n",
       "      <td>0.024</td>\n",
       "      <td>0.016</td>\n",
       "      <td>27.0</td>\n",
       "      <td>14.0</td>\n",
       "    </tr>\n",
       "    <tr>\n",
       "      <th>2</th>\n",
       "      <td>2018-01-01</td>\n",
       "      <td>3</td>\n",
       "      <td>중구</td>\n",
       "      <td>0.004</td>\n",
       "      <td>0.4</td>\n",
       "      <td>0.018</td>\n",
       "      <td>0.022</td>\n",
       "      <td>26.0</td>\n",
       "      <td>14.0</td>\n",
       "    </tr>\n",
       "    <tr>\n",
       "      <th>3</th>\n",
       "      <td>2018-01-01</td>\n",
       "      <td>4</td>\n",
       "      <td>중구</td>\n",
       "      <td>0.004</td>\n",
       "      <td>0.5</td>\n",
       "      <td>0.010</td>\n",
       "      <td>0.030</td>\n",
       "      <td>26.0</td>\n",
       "      <td>15.0</td>\n",
       "    </tr>\n",
       "    <tr>\n",
       "      <th>4</th>\n",
       "      <td>2018-01-01</td>\n",
       "      <td>5</td>\n",
       "      <td>중구</td>\n",
       "      <td>0.004</td>\n",
       "      <td>0.6</td>\n",
       "      <td>0.011</td>\n",
       "      <td>0.029</td>\n",
       "      <td>28.0</td>\n",
       "      <td>16.0</td>\n",
       "    </tr>\n",
       "  </tbody>\n",
       "</table>\n",
       "</div>"
      ],
      "text/plain": [
       "         date  time 측정소명    SO2   CO     O3    NO2  PM10  PM2.5\n",
       "0  2018-01-01     1   중구  0.004  0.5  0.020  0.020  34.0   19.0\n",
       "1  2018-01-01     2   중구  0.004  0.4  0.024  0.016  27.0   14.0\n",
       "2  2018-01-01     3   중구  0.004  0.4  0.018  0.022  26.0   14.0\n",
       "3  2018-01-01     4   중구  0.004  0.5  0.010  0.030  26.0   15.0\n",
       "4  2018-01-01     5   중구  0.004  0.6  0.011  0.029  28.0   16.0"
      ]
     },
     "execution_count": 11,
     "metadata": {},
     "output_type": "execute_result"
    }
   ],
   "source": [
    "dust = pd.read_csv('../data/dust1.csv')\n",
    "dust.head()"
   ]
  },
  {
   "cell_type": "code",
   "execution_count": 12,
   "metadata": {
    "ExecuteTime": {
     "end_time": "2019-06-01T07:14:57.649983Z",
     "start_time": "2019-06-01T07:14:57.614330Z"
    }
   },
   "outputs": [
    {
     "data": {
      "text/plain": [
       "date        0\n",
       "time        0\n",
       "측정소명        0\n",
       "SO2      2878\n",
       "CO       2991\n",
       "O3       2514\n",
       "NO2      2394\n",
       "PM10     2517\n",
       "PM2.5    2298\n",
       "dtype: int64"
      ]
     },
     "execution_count": 12,
     "metadata": {},
     "output_type": "execute_result"
    }
   ],
   "source": [
    "dust.isnull().sum()"
   ]
  },
  {
   "cell_type": "markdown",
   "metadata": {},
   "source": [
    "# NA  처리 방법 1\n",
    "- date와 time을 일치시켜 다른 전체 지역의 평균값으로 대체"
   ]
  },
  {
   "cell_type": "code",
   "execution_count": 13,
   "metadata": {
    "ExecuteTime": {
     "end_time": "2019-06-01T07:16:55.063139Z",
     "start_time": "2019-06-01T07:16:55.055330Z"
    }
   },
   "outputs": [],
   "source": [
    "def NA_mean(col, date, time) :\n",
    "    return dust[(dust['date'] == date) & (dust['time'] == time)][col].mean()"
   ]
  },
  {
   "cell_type": "code",
   "execution_count": 19,
   "metadata": {
    "ExecuteTime": {
     "end_time": "2019-06-01T07:20:48.568541Z",
     "start_time": "2019-06-01T07:20:48.561080Z"
    }
   },
   "outputs": [],
   "source": [
    "cols = ['SO2','CO','O3','NO2','PM10','PM2.5']"
   ]
  },
  {
   "cell_type": "code",
   "execution_count": 31,
   "metadata": {
    "ExecuteTime": {
     "end_time": "2019-06-01T07:29:13.677975Z",
     "start_time": "2019-06-01T07:25:28.125515Z"
    }
   },
   "outputs": [],
   "source": [
    "for col in cols :\n",
    "    frame = dust[dust[col].isnull()]\n",
    "    mean_value = frame.apply(lambda x : NA_mean(col, x['date'],x['time']), axis =1)\n",
    "    dust.loc[mean_value.index, col] = mean_value"
   ]
  },
  {
   "cell_type": "code",
   "execution_count": 32,
   "metadata": {
    "ExecuteTime": {
     "end_time": "2019-06-01T07:29:13.752129Z",
     "start_time": "2019-06-01T07:29:13.682045Z"
    }
   },
   "outputs": [
    {
     "data": {
      "text/plain": [
       "date     0\n",
       "time     0\n",
       "측정소명     0\n",
       "SO2      0\n",
       "CO       0\n",
       "O3       0\n",
       "NO2      0\n",
       "PM10     0\n",
       "PM2.5    0\n",
       "dtype: int64"
      ]
     },
     "execution_count": 32,
     "metadata": {},
     "output_type": "execute_result"
    }
   ],
   "source": [
    "dust.isnull().sum()"
   ]
  },
  {
   "cell_type": "code",
   "execution_count": 34,
   "metadata": {
    "ExecuteTime": {
     "end_time": "2019-06-01T07:36:53.677935Z",
     "start_time": "2019-06-01T07:36:53.652831Z"
    }
   },
   "outputs": [
    {
     "data": {
      "text/plain": [
       "동작구     2952\n",
       "서대문구    2952\n",
       "양천구     2952\n",
       "도봉구     2952\n",
       "금천구     2952\n",
       "동대문구    2952\n",
       "서초구     2952\n",
       "구로구     2952\n",
       "용산구     2952\n",
       "마포구     2952\n",
       "강동구     2952\n",
       "중구      2952\n",
       "종로구     2952\n",
       "성북구     2952\n",
       "강서구     2952\n",
       "광진구     2952\n",
       "영등포구    2952\n",
       "성동구     2952\n",
       "강남구     2952\n",
       "노원구     2952\n",
       "강북구     2952\n",
       "중랑구     2952\n",
       "송파구     2952\n",
       "관악구     2952\n",
       "은평구     2952\n",
       "Name: 측정소명, dtype: int64"
      ]
     },
     "execution_count": 34,
     "metadata": {},
     "output_type": "execute_result"
    }
   ],
   "source": [
    "dust.측정소명.value_counts()"
   ]
  },
  {
   "cell_type": "code",
   "execution_count": 33,
   "metadata": {
    "ExecuteTime": {
     "end_time": "2019-06-01T07:36:29.073827Z",
     "start_time": "2019-06-01T07:36:29.045168Z"
    }
   },
   "outputs": [
    {
     "data": {
      "text/html": [
       "<div>\n",
       "<style scoped>\n",
       "    .dataframe tbody tr th:only-of-type {\n",
       "        vertical-align: middle;\n",
       "    }\n",
       "\n",
       "    .dataframe tbody tr th {\n",
       "        vertical-align: top;\n",
       "    }\n",
       "\n",
       "    .dataframe thead th {\n",
       "        text-align: right;\n",
       "    }\n",
       "</style>\n",
       "<table border=\"1\" class=\"dataframe\">\n",
       "  <thead>\n",
       "    <tr style=\"text-align: right;\">\n",
       "      <th></th>\n",
       "      <th>date</th>\n",
       "      <th>time</th>\n",
       "      <th>측정소명</th>\n",
       "      <th>SO2</th>\n",
       "      <th>CO</th>\n",
       "      <th>O3</th>\n",
       "      <th>NO2</th>\n",
       "      <th>PM10</th>\n",
       "      <th>PM2.5</th>\n",
       "    </tr>\n",
       "  </thead>\n",
       "  <tbody>\n",
       "    <tr>\n",
       "      <th>0</th>\n",
       "      <td>2018-01-01</td>\n",
       "      <td>1</td>\n",
       "      <td>중구</td>\n",
       "      <td>0.004</td>\n",
       "      <td>0.5</td>\n",
       "      <td>0.020</td>\n",
       "      <td>0.020</td>\n",
       "      <td>34.0</td>\n",
       "      <td>19.0</td>\n",
       "    </tr>\n",
       "    <tr>\n",
       "      <th>1</th>\n",
       "      <td>2018-01-01</td>\n",
       "      <td>2</td>\n",
       "      <td>중구</td>\n",
       "      <td>0.004</td>\n",
       "      <td>0.4</td>\n",
       "      <td>0.024</td>\n",
       "      <td>0.016</td>\n",
       "      <td>27.0</td>\n",
       "      <td>14.0</td>\n",
       "    </tr>\n",
       "    <tr>\n",
       "      <th>2</th>\n",
       "      <td>2018-01-01</td>\n",
       "      <td>3</td>\n",
       "      <td>중구</td>\n",
       "      <td>0.004</td>\n",
       "      <td>0.4</td>\n",
       "      <td>0.018</td>\n",
       "      <td>0.022</td>\n",
       "      <td>26.0</td>\n",
       "      <td>14.0</td>\n",
       "    </tr>\n",
       "    <tr>\n",
       "      <th>3</th>\n",
       "      <td>2018-01-01</td>\n",
       "      <td>4</td>\n",
       "      <td>중구</td>\n",
       "      <td>0.004</td>\n",
       "      <td>0.5</td>\n",
       "      <td>0.010</td>\n",
       "      <td>0.030</td>\n",
       "      <td>26.0</td>\n",
       "      <td>15.0</td>\n",
       "    </tr>\n",
       "    <tr>\n",
       "      <th>4</th>\n",
       "      <td>2018-01-01</td>\n",
       "      <td>5</td>\n",
       "      <td>중구</td>\n",
       "      <td>0.004</td>\n",
       "      <td>0.6</td>\n",
       "      <td>0.011</td>\n",
       "      <td>0.029</td>\n",
       "      <td>28.0</td>\n",
       "      <td>16.0</td>\n",
       "    </tr>\n",
       "  </tbody>\n",
       "</table>\n",
       "</div>"
      ],
      "text/plain": [
       "         date  time 측정소명    SO2   CO     O3    NO2  PM10  PM2.5\n",
       "0  2018-01-01     1   중구  0.004  0.5  0.020  0.020  34.0   19.0\n",
       "1  2018-01-01     2   중구  0.004  0.4  0.024  0.016  27.0   14.0\n",
       "2  2018-01-01     3   중구  0.004  0.4  0.018  0.022  26.0   14.0\n",
       "3  2018-01-01     4   중구  0.004  0.5  0.010  0.030  26.0   15.0\n",
       "4  2018-01-01     5   중구  0.004  0.6  0.011  0.029  28.0   16.0"
      ]
     },
     "execution_count": 33,
     "metadata": {},
     "output_type": "execute_result"
    }
   ],
   "source": [
    "dust.head()"
   ]
  },
  {
   "cell_type": "code",
   "execution_count": 35,
   "metadata": {
    "ExecuteTime": {
     "end_time": "2019-06-01T07:37:05.362815Z",
     "start_time": "2019-06-01T07:37:03.838709Z"
    }
   },
   "outputs": [],
   "source": [
    "#dust.to_csv('../data/dust_final.csv', index = False)"
   ]
  }
 ],
 "metadata": {
  "hide_input": false,
  "kernelspec": {
   "display_name": "Python 3",
   "language": "python",
   "name": "python3"
  },
  "language_info": {
   "codemirror_mode": {
    "name": "ipython",
    "version": 3
   },
   "file_extension": ".py",
   "mimetype": "text/x-python",
   "name": "python",
   "nbconvert_exporter": "python",
   "pygments_lexer": "ipython3",
   "version": "3.7.1"
  },
  "toc": {
   "base_numbering": 1,
   "nav_menu": {},
   "number_sections": true,
   "sideBar": true,
   "skip_h1_title": false,
   "title_cell": "Table of Contents",
   "title_sidebar": "Contents",
   "toc_cell": false,
   "toc_position": {},
   "toc_section_display": true,
   "toc_window_display": false
  }
 },
 "nbformat": 4,
 "nbformat_minor": 2
}
