{
 "cells": [
  {
   "cell_type": "code",
   "execution_count": 9,
   "metadata": {
    "ExecuteTime": {
     "end_time": "2019-06-06T12:20:31.367684Z",
     "start_time": "2019-06-06T12:20:31.361700Z"
    }
   },
   "outputs": [
    {
     "data": {
      "text/plain": [
       "['201801_Seoul_traffic.csv',\n",
       " '201804_Seoul_traffic.csv',\n",
       " '201807_Seoul_traffic.csv',\n",
       " '201809_Seoul_traffic.csv',\n",
       " '201810_Seoul_traffic.csv',\n",
       " '201812_Seoul_traffic.csv',\n",
       " 'accident11.xlsx',\n",
       " 'accident_new.csv',\n",
       " 'dust1.csv',\n",
       " 'dust_final.csv',\n",
       " 'final',\n",
       " 'gugucon.csv',\n",
       " 'holiday.csv',\n",
       " 'intersection.csv',\n",
       " 'road_info.csv',\n",
       " 'weather_merged.csv',\n",
       " '미세먼지1.xls',\n",
       " '미세먼지10.xls',\n",
       " '미세먼지4.xls',\n",
       " '미세먼지7.xls']"
      ]
     },
     "execution_count": 9,
     "metadata": {},
     "output_type": "execute_result"
    }
   ],
   "source": [
    "import pandas as pd\n",
    "import numpy as np\n",
    "import os\n",
    "\n",
    "os.listdir('../data')"
   ]
  },
  {
   "cell_type": "code",
   "execution_count": 49,
   "metadata": {
    "ExecuteTime": {
     "end_time": "2019-06-06T12:45:24.441161Z",
     "start_time": "2019-06-06T12:45:21.665761Z"
    }
   },
   "outputs": [
    {
     "name": "stdout",
     "output_type": "stream",
     "text": [
      "carspeed1 shape :  (147466, 21)\n",
      "carspeed4 shape :  (15191, 24)\n",
      "carspeed7 shape :  (15701, 24)\n",
      "carspeed9 shape :  (15207, 25)\n",
      "carspeed10 shape :  (15717, 25)\n",
      "carspeed12 shape :  (15713, 25)\n"
     ]
    }
   ],
   "source": [
    "file_list = os.listdir('../data')[:6]\n",
    "\n",
    "carspeed1 = pd.read_csv('../data/' + file_list[0])\n",
    "carspeed4 = pd.read_csv('../data/' + file_list[1])\n",
    "carspeed7 = pd.read_csv('../data/' + file_list[2])\n",
    "carspeed9 = pd.read_csv('../data/' + file_list[3])\n",
    "carspeed10 = pd.read_csv('../data/' + file_list[4])\n",
    "carspeed12 = pd.read_csv('../data/' + file_list[5])\n",
    "\n",
    "print('carspeed1 shape : ', carspeed1.shape)\n",
    "print('carspeed4 shape : ', carspeed4.shape)\n",
    "print('carspeed7 shape : ', carspeed7.shape)\n",
    "print('carspeed9 shape : ', carspeed9.shape)\n",
    "print('carspeed10 shape : ', carspeed10.shape)\n",
    "print('carspeed12 shape : ', carspeed12.shape)"
   ]
  },
  {
   "cell_type": "markdown",
   "metadata": {},
   "source": [
    "# common link"
   ]
  },
  {
   "cell_type": "code",
   "execution_count": 50,
   "metadata": {
    "ExecuteTime": {
     "end_time": "2019-06-06T12:45:24.537902Z",
     "start_time": "2019-06-06T12:45:24.507982Z"
    }
   },
   "outputs": [
    {
     "data": {
      "text/plain": [
       "507"
      ]
     },
     "execution_count": 50,
     "metadata": {},
     "output_type": "execute_result"
    }
   ],
   "source": [
    "common_link = set(carspeed1.link_id).intersection(set(carspeed4.link_id)).intersection(set(carspeed7.link_id)).intersection(set(carspeed9.link_id)).intersection(set(carspeed10.link_id)).intersection(set(carspeed12.link_id))\n",
    "len(common_link)"
   ]
  },
  {
   "cell_type": "code",
   "execution_count": 51,
   "metadata": {
    "ExecuteTime": {
     "end_time": "2019-06-06T12:45:25.415245Z",
     "start_time": "2019-06-06T12:45:25.351420Z"
    }
   },
   "outputs": [
    {
     "name": "stdout",
     "output_type": "stream",
     "text": [
      "carspeed1 shape :  (15688, 21)\n",
      "carspeed4 shape :  (15191, 24)\n",
      "carspeed7 shape :  (15701, 24)\n",
      "carspeed9 shape :  (15207, 25)\n",
      "carspeed10 shape :  (15717, 25)\n",
      "carspeed12 shape :  (15713, 25)\n"
     ]
    }
   ],
   "source": [
    "carspeed1 = carspeed1[carspeed1.link_id.isin(common_link)].reset_index(drop = True)\n",
    "carspeed4 = carspeed4[carspeed4.link_id.isin(common_link)].reset_index(drop = True)\n",
    "carspeed7 = carspeed7[carspeed7.link_id.isin(common_link)].reset_index(drop = True)\n",
    "carspeed9 = carspeed9[carspeed9.link_id.isin(common_link)].reset_index(drop = True)\n",
    "carspeed10 = carspeed10[carspeed10.link_id.isin(common_link)].reset_index(drop = True)\n",
    "carspeed12 = carspeed12[carspeed12.link_id.isin(common_link)].reset_index(drop = True)\n",
    "\n",
    "print('carspeed1 shape : ', carspeed1.shape)\n",
    "print('carspeed4 shape : ', carspeed4.shape)\n",
    "print('carspeed7 shape : ', carspeed7.shape)\n",
    "print('carspeed9 shape : ', carspeed9.shape)\n",
    "print('carspeed10 shape : ', carspeed10.shape)\n",
    "print('carspeed12 shape : ', carspeed12.shape)"
   ]
  },
  {
   "cell_type": "code",
   "execution_count": null,
   "metadata": {},
   "outputs": [],
   "source": []
  }
 ],
 "metadata": {
  "hide_input": false,
  "kernelspec": {
   "display_name": "Python 3",
   "language": "python",
   "name": "python3"
  },
  "language_info": {
   "codemirror_mode": {
    "name": "ipython",
    "version": 3
   },
   "file_extension": ".py",
   "mimetype": "text/x-python",
   "name": "python",
   "nbconvert_exporter": "python",
   "pygments_lexer": "ipython3",
   "version": "3.7.1"
  },
  "notify_time": "30",
  "toc": {
   "base_numbering": 1,
   "nav_menu": {},
   "number_sections": true,
   "sideBar": true,
   "skip_h1_title": false,
   "title_cell": "Table of Contents",
   "title_sidebar": "Contents",
   "toc_cell": false,
   "toc_position": {},
   "toc_section_display": true,
   "toc_window_display": false
  }
 },
 "nbformat": 4,
 "nbformat_minor": 2
}
