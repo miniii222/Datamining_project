{
 "cells": [
  {
   "cell_type": "code",
   "execution_count": 1,
   "metadata": {},
   "outputs": [
    {
     "name": "stdout",
     "output_type": "stream",
     "text": [
      "Index(['일자', '요일', '도로명', '링크아이디', '시점명', '종점명', '방향', '거리', '차선수', '기능유형구분',\n",
      "       '도심/외곽구분', '권역구분', '01시', '02시', '03시', '04시', '05시', '06시', '07시',\n",
      "       '08시', '09시', '10시', '11시', '12시', '13시', '14시', '15시', '16시', '17시',\n",
      "       '18시', '19시', '20시', '21시', '22시', '23시', '24시'],\n",
      "      dtype='object')\n"
     ]
    }
   ],
   "source": [
    "import glob\n",
    "import numpy as np\n",
    "import pandas as pd\n",
    "from sklearn.model_selection import train_test_split\n",
    "from sklearn.metrics import mean_squared_error , r2_score\n",
    "\n",
    "car12 = pd.read_excel('2018년 12월 서울시 차량통행속도.xlsx')\n",
    "print(car12.columns)"
   ]
  },
  {
   "cell_type": "code",
   "execution_count": 2,
   "metadata": {},
   "outputs": [
    {
     "data": {
      "text/html": [
       "<div>\n",
       "<style scoped>\n",
       "    .dataframe tbody tr th:only-of-type {\n",
       "        vertical-align: middle;\n",
       "    }\n",
       "\n",
       "    .dataframe tbody tr th {\n",
       "        vertical-align: top;\n",
       "    }\n",
       "\n",
       "    .dataframe thead th {\n",
       "        text-align: right;\n",
       "    }\n",
       "</style>\n",
       "<table border=\"1\" class=\"dataframe\">\n",
       "  <thead>\n",
       "    <tr style=\"text-align: right;\">\n",
       "      <th></th>\n",
       "      <th>지점</th>\n",
       "      <th>일시</th>\n",
       "      <th>temperature</th>\n",
       "      <th>wind</th>\n",
       "      <th>rain</th>\n",
       "      <th>일자</th>\n",
       "      <th>district</th>\n",
       "      <th>id</th>\n",
       "      <th>time</th>\n",
       "      <th>snow</th>\n",
       "    </tr>\n",
       "  </thead>\n",
       "  <tbody>\n",
       "    <tr>\n",
       "      <th>0</th>\n",
       "      <td>400</td>\n",
       "      <td>2018-01-01 00:00:00</td>\n",
       "      <td>-0.7</td>\n",
       "      <td>1.1</td>\n",
       "      <td>0.0</td>\n",
       "      <td>2018-01-01</td>\n",
       "      <td>강남구</td>\n",
       "      <td>400</td>\n",
       "      <td>0</td>\n",
       "      <td>0.0</td>\n",
       "    </tr>\n",
       "    <tr>\n",
       "      <th>1</th>\n",
       "      <td>400</td>\n",
       "      <td>2018-01-01 01:00:00</td>\n",
       "      <td>-0.9</td>\n",
       "      <td>0.9</td>\n",
       "      <td>0.0</td>\n",
       "      <td>2018-01-01</td>\n",
       "      <td>강남구</td>\n",
       "      <td>400</td>\n",
       "      <td>1</td>\n",
       "      <td>0.0</td>\n",
       "    </tr>\n",
       "    <tr>\n",
       "      <th>2</th>\n",
       "      <td>400</td>\n",
       "      <td>2018-01-01 02:00:00</td>\n",
       "      <td>-1.0</td>\n",
       "      <td>1.1</td>\n",
       "      <td>0.0</td>\n",
       "      <td>2018-01-01</td>\n",
       "      <td>강남구</td>\n",
       "      <td>400</td>\n",
       "      <td>2</td>\n",
       "      <td>0.0</td>\n",
       "    </tr>\n",
       "  </tbody>\n",
       "</table>\n",
       "</div>"
      ],
      "text/plain": [
       "    지점                   일시  temperature  wind  rain          일자 district  \\\n",
       "0  400  2018-01-01 00:00:00         -0.7   1.1   0.0  2018-01-01      강남구   \n",
       "1  400  2018-01-01 01:00:00         -0.9   0.9   0.0  2018-01-01      강남구   \n",
       "2  400  2018-01-01 02:00:00         -1.0   1.1   0.0  2018-01-01      강남구   \n",
       "\n",
       "    id  time  snow  \n",
       "0  400     0   0.0  \n",
       "1  400     1   0.0  \n",
       "2  400     2   0.0  "
      ]
     },
     "execution_count": 2,
     "metadata": {},
     "output_type": "execute_result"
    }
   ],
   "source": [
    "weather = pd.read_csv('weather_merged.csv')\n",
    "weather.head(3)"
   ]
  },
  {
   "cell_type": "code",
   "execution_count": 3,
   "metadata": {},
   "outputs": [],
   "source": [
    "weather['date'] = weather['일자'].apply(lambda x: int(x.replace(\"-\",\"\")))\n",
    "weather['time'] = weather['일시'].apply(lambda x: x[11:13]) + \"시\"\n",
    "weather.drop(['지점','일자','일시','id'],axis=1,inplace=True)"
   ]
  },
  {
   "cell_type": "code",
   "execution_count": 4,
   "metadata": {},
   "outputs": [
    {
     "data": {
      "text/html": [
       "<div>\n",
       "<style scoped>\n",
       "    .dataframe tbody tr th:only-of-type {\n",
       "        vertical-align: middle;\n",
       "    }\n",
       "\n",
       "    .dataframe tbody tr th {\n",
       "        vertical-align: top;\n",
       "    }\n",
       "\n",
       "    .dataframe thead th {\n",
       "        text-align: right;\n",
       "    }\n",
       "</style>\n",
       "<table border=\"1\" class=\"dataframe\">\n",
       "  <thead>\n",
       "    <tr style=\"text-align: right;\">\n",
       "      <th></th>\n",
       "      <th>temperature</th>\n",
       "      <th>wind</th>\n",
       "      <th>rain</th>\n",
       "      <th>district</th>\n",
       "      <th>time</th>\n",
       "      <th>snow</th>\n",
       "      <th>date</th>\n",
       "    </tr>\n",
       "  </thead>\n",
       "  <tbody>\n",
       "    <tr>\n",
       "      <th>0</th>\n",
       "      <td>-0.7</td>\n",
       "      <td>1.1</td>\n",
       "      <td>0.0</td>\n",
       "      <td>강남구</td>\n",
       "      <td>00시</td>\n",
       "      <td>0.0</td>\n",
       "      <td>20180101</td>\n",
       "    </tr>\n",
       "    <tr>\n",
       "      <th>1</th>\n",
       "      <td>-0.9</td>\n",
       "      <td>0.9</td>\n",
       "      <td>0.0</td>\n",
       "      <td>강남구</td>\n",
       "      <td>01시</td>\n",
       "      <td>0.0</td>\n",
       "      <td>20180101</td>\n",
       "    </tr>\n",
       "    <tr>\n",
       "      <th>2</th>\n",
       "      <td>-1.0</td>\n",
       "      <td>1.1</td>\n",
       "      <td>0.0</td>\n",
       "      <td>강남구</td>\n",
       "      <td>02시</td>\n",
       "      <td>0.0</td>\n",
       "      <td>20180101</td>\n",
       "    </tr>\n",
       "  </tbody>\n",
       "</table>\n",
       "</div>"
      ],
      "text/plain": [
       "   temperature  wind  rain district time  snow      date\n",
       "0         -0.7   1.1   0.0      강남구  00시   0.0  20180101\n",
       "1         -0.9   0.9   0.0      강남구  01시   0.0  20180101\n",
       "2         -1.0   1.1   0.0      강남구  02시   0.0  20180101"
      ]
     },
     "execution_count": 4,
     "metadata": {},
     "output_type": "execute_result"
    }
   ],
   "source": [
    "weather.head(3)"
   ]
  },
  {
   "cell_type": "code",
   "execution_count": 5,
   "metadata": {},
   "outputs": [
    {
     "data": {
      "text/html": [
       "<div>\n",
       "<style scoped>\n",
       "    .dataframe tbody tr th:only-of-type {\n",
       "        vertical-align: middle;\n",
       "    }\n",
       "\n",
       "    .dataframe tbody tr th {\n",
       "        vertical-align: top;\n",
       "    }\n",
       "\n",
       "    .dataframe thead th {\n",
       "        text-align: right;\n",
       "    }\n",
       "</style>\n",
       "<table border=\"1\" class=\"dataframe\">\n",
       "  <thead>\n",
       "    <tr style=\"text-align: right;\">\n",
       "      <th></th>\n",
       "      <th>date</th>\n",
       "      <th>days</th>\n",
       "      <th>road_name</th>\n",
       "      <th>link_id</th>\n",
       "      <th>start_point</th>\n",
       "      <th>end_point</th>\n",
       "      <th>direction</th>\n",
       "      <th>road_length</th>\n",
       "      <th>road_num</th>\n",
       "      <th>road_type</th>\n",
       "      <th>urban_suburb</th>\n",
       "      <th>district</th>\n",
       "      <th>time</th>\n",
       "      <th>value</th>\n",
       "    </tr>\n",
       "  </thead>\n",
       "  <tbody>\n",
       "    <tr>\n",
       "      <th>0</th>\n",
       "      <td>20181201</td>\n",
       "      <td>토</td>\n",
       "      <td>4.19로</td>\n",
       "      <td>1080012200</td>\n",
       "      <td>아카데미하우스</td>\n",
       "      <td>국립4.19묘지</td>\n",
       "      <td>상행</td>\n",
       "      <td>1179</td>\n",
       "      <td>1</td>\n",
       "      <td>보조간선도로</td>\n",
       "      <td>외곽</td>\n",
       "      <td>강북구</td>\n",
       "      <td>01시</td>\n",
       "      <td>NaN</td>\n",
       "    </tr>\n",
       "    <tr>\n",
       "      <th>1</th>\n",
       "      <td>20181201</td>\n",
       "      <td>토</td>\n",
       "      <td>4.19로</td>\n",
       "      <td>1080012800</td>\n",
       "      <td>국립4.19묘지</td>\n",
       "      <td>국립4.19묘지입구</td>\n",
       "      <td>상행</td>\n",
       "      <td>352</td>\n",
       "      <td>1</td>\n",
       "      <td>보조간선도로</td>\n",
       "      <td>외곽</td>\n",
       "      <td>강북구</td>\n",
       "      <td>01시</td>\n",
       "      <td>NaN</td>\n",
       "    </tr>\n",
       "    <tr>\n",
       "      <th>2</th>\n",
       "      <td>20181201</td>\n",
       "      <td>토</td>\n",
       "      <td>4.19로</td>\n",
       "      <td>1080012700</td>\n",
       "      <td>국립4.19묘지입구</td>\n",
       "      <td>국립4.19묘지</td>\n",
       "      <td>하행</td>\n",
       "      <td>354</td>\n",
       "      <td>2</td>\n",
       "      <td>보조간선도로</td>\n",
       "      <td>외곽</td>\n",
       "      <td>강북구</td>\n",
       "      <td>01시</td>\n",
       "      <td>NaN</td>\n",
       "    </tr>\n",
       "  </tbody>\n",
       "</table>\n",
       "</div>"
      ],
      "text/plain": [
       "       date days road_name     link_id start_point   end_point direction  \\\n",
       "0  20181201    토     4.19로  1080012200     아카데미하우스    국립4.19묘지        상행   \n",
       "1  20181201    토     4.19로  1080012800    국립4.19묘지  국립4.19묘지입구        상행   \n",
       "2  20181201    토     4.19로  1080012700  국립4.19묘지입구    국립4.19묘지        하행   \n",
       "\n",
       "   road_length  road_num road_type urban_suburb district time  value  \n",
       "0         1179         1    보조간선도로           외곽      강북구  01시    NaN  \n",
       "1          352         1    보조간선도로           외곽      강북구  01시    NaN  \n",
       "2          354         2    보조간선도로           외곽      강북구  01시    NaN  "
      ]
     },
     "execution_count": 5,
     "metadata": {},
     "output_type": "execute_result"
    }
   ],
   "source": [
    "car = pd.melt(car12, id_vars=car12.columns[:12])\n",
    "car.columns = ['date','days','road_name','link_id','start_point','end_point','direction','road_length','road_num',\n",
    "                    'road_type','urban_suburb','district','time','value']\n",
    "car.head(3)"
   ]
  },
  {
   "cell_type": "code",
   "execution_count": 6,
   "metadata": {},
   "outputs": [],
   "source": [
    "car = pd.merge(car,weather,on=['district','time','date'])\n",
    "car.drop(['date','road_name','start_point','end_point'],axis=1,inplace=True)"
   ]
  },
  {
   "cell_type": "code",
   "execution_count": 16,
   "metadata": {},
   "outputs": [
    {
     "name": "stdout",
     "output_type": "stream",
     "text": [
      "(2511270, 14)\n"
     ]
    },
    {
     "data": {
      "text/html": [
       "<div>\n",
       "<style scoped>\n",
       "    .dataframe tbody tr th:only-of-type {\n",
       "        vertical-align: middle;\n",
       "    }\n",
       "\n",
       "    .dataframe tbody tr th {\n",
       "        vertical-align: top;\n",
       "    }\n",
       "\n",
       "    .dataframe thead th {\n",
       "        text-align: right;\n",
       "    }\n",
       "</style>\n",
       "<table border=\"1\" class=\"dataframe\">\n",
       "  <thead>\n",
       "    <tr style=\"text-align: right;\">\n",
       "      <th></th>\n",
       "      <th>days</th>\n",
       "      <th>link_id</th>\n",
       "      <th>direction</th>\n",
       "      <th>road_length</th>\n",
       "      <th>road_num</th>\n",
       "      <th>road_type</th>\n",
       "      <th>urban_suburb</th>\n",
       "      <th>district</th>\n",
       "      <th>time</th>\n",
       "      <th>value</th>\n",
       "      <th>temperature</th>\n",
       "      <th>wind</th>\n",
       "      <th>rain</th>\n",
       "      <th>snow</th>\n",
       "    </tr>\n",
       "  </thead>\n",
       "  <tbody>\n",
       "    <tr>\n",
       "      <th>709179</th>\n",
       "      <td>일</td>\n",
       "      <td>1080012200</td>\n",
       "      <td>상행</td>\n",
       "      <td>1179</td>\n",
       "      <td>1</td>\n",
       "      <td>보조간선도로</td>\n",
       "      <td>외곽</td>\n",
       "      <td>강북구</td>\n",
       "      <td>06시</td>\n",
       "      <td>43.77</td>\n",
       "      <td>2.4</td>\n",
       "      <td>0.7</td>\n",
       "      <td>0.0</td>\n",
       "      <td>0.0</td>\n",
       "    </tr>\n",
       "    <tr>\n",
       "      <th>709180</th>\n",
       "      <td>일</td>\n",
       "      <td>1080012800</td>\n",
       "      <td>상행</td>\n",
       "      <td>352</td>\n",
       "      <td>1</td>\n",
       "      <td>보조간선도로</td>\n",
       "      <td>외곽</td>\n",
       "      <td>강북구</td>\n",
       "      <td>06시</td>\n",
       "      <td>21.77</td>\n",
       "      <td>2.4</td>\n",
       "      <td>0.7</td>\n",
       "      <td>0.0</td>\n",
       "      <td>0.0</td>\n",
       "    </tr>\n",
       "    <tr>\n",
       "      <th>709181</th>\n",
       "      <td>일</td>\n",
       "      <td>1080012700</td>\n",
       "      <td>하행</td>\n",
       "      <td>354</td>\n",
       "      <td>2</td>\n",
       "      <td>보조간선도로</td>\n",
       "      <td>외곽</td>\n",
       "      <td>강북구</td>\n",
       "      <td>06시</td>\n",
       "      <td>26.80</td>\n",
       "      <td>2.4</td>\n",
       "      <td>0.7</td>\n",
       "      <td>0.0</td>\n",
       "      <td>0.0</td>\n",
       "    </tr>\n",
       "  </tbody>\n",
       "</table>\n",
       "</div>"
      ],
      "text/plain": [
       "       days     link_id direction  road_length  road_num road_type  \\\n",
       "709179    일  1080012200        상행         1179         1    보조간선도로   \n",
       "709180    일  1080012800        상행          352         1    보조간선도로   \n",
       "709181    일  1080012700        하행          354         2    보조간선도로   \n",
       "\n",
       "       urban_suburb district time  value  temperature  wind  rain  snow  \n",
       "709179           외곽      강북구  06시  43.77          2.4   0.7   0.0   0.0  \n",
       "709180           외곽      강북구  06시  21.77          2.4   0.7   0.0   0.0  \n",
       "709181           외곽      강북구  06시  26.80          2.4   0.7   0.0   0.0  "
      ]
     },
     "execution_count": 16,
     "metadata": {},
     "output_type": "execute_result"
    }
   ],
   "source": [
    "car = car[(car['time']!=\"01시\") & (car['time']!=\"02시\") & (car['time']!=\"03시\") & (car['time']!=\"04시\") & (car['time']!=\"05시\")]\n",
    "car = car.dropna(axis=0)\n",
    "print(car.shape)\n",
    "car.head(3)"
   ]
  },
  {
   "cell_type": "code",
   "execution_count": 13,
   "metadata": {},
   "outputs": [],
   "source": []
  },
  {
   "cell_type": "code",
   "execution_count": null,
   "metadata": {},
   "outputs": [],
   "source": [
    "import matplotlib.pyplot as plt\n",
    "import seaborn as sns\n",
    "sns.regplot(x=car[\"wind\"], y=car[\"value\"])\n",
    "plt.show()\n",
    "\n",
    "sns.regplot(x=car[\"rain\"], y=car[\"value\"])\n",
    "plt.show()"
   ]
  },
  {
   "cell_type": "code",
   "execution_count": 18,
   "metadata": {},
   "outputs": [
    {
     "name": "stdout",
     "output_type": "stream",
     "text": [
      "(2511270, 14)\n"
     ]
    },
    {
     "data": {
      "text/html": [
       "<div>\n",
       "<style scoped>\n",
       "    .dataframe tbody tr th:only-of-type {\n",
       "        vertical-align: middle;\n",
       "    }\n",
       "\n",
       "    .dataframe tbody tr th {\n",
       "        vertical-align: top;\n",
       "    }\n",
       "\n",
       "    .dataframe thead th {\n",
       "        text-align: right;\n",
       "    }\n",
       "</style>\n",
       "<table border=\"1\" class=\"dataframe\">\n",
       "  <thead>\n",
       "    <tr style=\"text-align: right;\">\n",
       "      <th></th>\n",
       "      <th>days</th>\n",
       "      <th>link_id</th>\n",
       "      <th>direction</th>\n",
       "      <th>road_length</th>\n",
       "      <th>road_num</th>\n",
       "      <th>road_type</th>\n",
       "      <th>urban_suburb</th>\n",
       "      <th>district</th>\n",
       "      <th>time</th>\n",
       "      <th>value</th>\n",
       "      <th>temperature</th>\n",
       "      <th>wind</th>\n",
       "      <th>rain</th>\n",
       "      <th>snow</th>\n",
       "    </tr>\n",
       "  </thead>\n",
       "  <tbody>\n",
       "    <tr>\n",
       "      <th>709179</th>\n",
       "      <td>4</td>\n",
       "      <td>1080012200</td>\n",
       "      <td>0</td>\n",
       "      <td>1179</td>\n",
       "      <td>1</td>\n",
       "      <td>2</td>\n",
       "      <td>1</td>\n",
       "      <td>2</td>\n",
       "      <td>0</td>\n",
       "      <td>43.77</td>\n",
       "      <td>2.4</td>\n",
       "      <td>0.7</td>\n",
       "      <td>0.0</td>\n",
       "      <td>0.0</td>\n",
       "    </tr>\n",
       "    <tr>\n",
       "      <th>709180</th>\n",
       "      <td>4</td>\n",
       "      <td>1080012800</td>\n",
       "      <td>0</td>\n",
       "      <td>352</td>\n",
       "      <td>1</td>\n",
       "      <td>2</td>\n",
       "      <td>1</td>\n",
       "      <td>2</td>\n",
       "      <td>0</td>\n",
       "      <td>21.77</td>\n",
       "      <td>2.4</td>\n",
       "      <td>0.7</td>\n",
       "      <td>0.0</td>\n",
       "      <td>0.0</td>\n",
       "    </tr>\n",
       "    <tr>\n",
       "      <th>709181</th>\n",
       "      <td>4</td>\n",
       "      <td>1080012700</td>\n",
       "      <td>1</td>\n",
       "      <td>354</td>\n",
       "      <td>2</td>\n",
       "      <td>2</td>\n",
       "      <td>1</td>\n",
       "      <td>2</td>\n",
       "      <td>0</td>\n",
       "      <td>26.80</td>\n",
       "      <td>2.4</td>\n",
       "      <td>0.7</td>\n",
       "      <td>0.0</td>\n",
       "      <td>0.0</td>\n",
       "    </tr>\n",
       "    <tr>\n",
       "      <th>709182</th>\n",
       "      <td>4</td>\n",
       "      <td>1080012100</td>\n",
       "      <td>1</td>\n",
       "      <td>1190</td>\n",
       "      <td>2</td>\n",
       "      <td>2</td>\n",
       "      <td>1</td>\n",
       "      <td>2</td>\n",
       "      <td>0</td>\n",
       "      <td>52.60</td>\n",
       "      <td>2.4</td>\n",
       "      <td>0.7</td>\n",
       "      <td>0.0</td>\n",
       "      <td>0.0</td>\n",
       "    </tr>\n",
       "    <tr>\n",
       "      <th>709183</th>\n",
       "      <td>4</td>\n",
       "      <td>1080010300</td>\n",
       "      <td>0</td>\n",
       "      <td>868</td>\n",
       "      <td>3</td>\n",
       "      <td>2</td>\n",
       "      <td>1</td>\n",
       "      <td>2</td>\n",
       "      <td>0</td>\n",
       "      <td>24.08</td>\n",
       "      <td>2.4</td>\n",
       "      <td>0.7</td>\n",
       "      <td>0.0</td>\n",
       "      <td>0.0</td>\n",
       "    </tr>\n",
       "  </tbody>\n",
       "</table>\n",
       "</div>"
      ],
      "text/plain": [
       "        days     link_id  direction  road_length  road_num  road_type  \\\n",
       "709179     4  1080012200          0         1179         1          2   \n",
       "709180     4  1080012800          0          352         1          2   \n",
       "709181     4  1080012700          1          354         2          2   \n",
       "709182     4  1080012100          1         1190         2          2   \n",
       "709183     4  1080010300          0          868         3          2   \n",
       "\n",
       "        urban_suburb  district  time  value  temperature  wind  rain  snow  \n",
       "709179             1         2     0  43.77          2.4   0.7   0.0   0.0  \n",
       "709180             1         2     0  21.77          2.4   0.7   0.0   0.0  \n",
       "709181             1         2     0  26.80          2.4   0.7   0.0   0.0  \n",
       "709182             1         2     0  52.60          2.4   0.7   0.0   0.0  \n",
       "709183             1         2     0  24.08          2.4   0.7   0.0   0.0  "
      ]
     },
     "execution_count": 18,
     "metadata": {},
     "output_type": "execute_result"
    }
   ],
   "source": [
    "from sklearn.preprocessing import LabelEncoder\n",
    "\n",
    "lb_make = LabelEncoder()\n",
    "car[\"days\"] = lb_make.fit_transform(car[\"days\"])\n",
    "car[\"direction\"] = lb_make.fit_transform(car[\"direction\"])\n",
    "car[\"road_type\"] = lb_make.fit_transform(car[\"road_type\"])\n",
    "car[\"urban_suburb\"] = lb_make.fit_transform(car[\"urban_suburb\"])\n",
    "car[\"district\"] = lb_make.fit_transform(car[\"district\"])\n",
    "car[\"time\"] = lb_make.fit_transform(car[\"time\"])\n",
    "\n",
    "print(car.shape)\n",
    "car.head()"
   ]
  },
  {
   "cell_type": "code",
   "execution_count": 19,
   "metadata": {},
   "outputs": [],
   "source": [
    "X_data = car.drop(['link_id','value'],axis=1,inplace=False)\n",
    "y_target = car['value']\n",
    "X_train , X_test , y_train , y_test = train_test_split(X_data , y_target ,test_size=0.3, random_state=156)"
   ]
  },
  {
   "cell_type": "code",
   "execution_count": 20,
   "metadata": {},
   "outputs": [],
   "source": [
    "def get_model_predict(model, X_train, X_test, y_train, y_test, is_expm1=False):\n",
    "    model.fit(X_train, y_train)\n",
    "    pred = model.predict(X_test)\n",
    "    if is_expm1 :\n",
    "        y_test = np.expm1(y_test)\n",
    "        pred = np.expm1(pred)\n",
    "    mse = mean_squared_error(y_test, pred)    \n",
    "    r2 = r2_score(y_test, pred)   \n",
    "    \n",
    "    print('###',model.__class__.__name__,'###')\n",
    "    print('MSE: {0:.3f}, R2: {1:.3F}'.format(mse, r2*100))"
   ]
  },
  {
   "cell_type": "code",
   "execution_count": 21,
   "metadata": {},
   "outputs": [
    {
     "name": "stdout",
     "output_type": "stream",
     "text": [
      "### LinearRegression ###\n",
      "MSE: 132.951, R2: 17.872\n"
     ]
    }
   ],
   "source": [
    "from sklearn.linear_model import LinearRegression\n",
    "lr = LinearRegression(n_jobs=-1)\n",
    "get_model_predict(lr,X_train, X_test, y_train, y_test)"
   ]
  },
  {
   "cell_type": "code",
   "execution_count": 22,
   "metadata": {},
   "outputs": [
    {
     "name": "stdout",
     "output_type": "stream",
     "text": [
      "### LinearRegression ###\n",
      "MSE: 137.558, R2: 15.026\n"
     ]
    }
   ],
   "source": [
    "y_target_log = np.log1p(y_target)\n",
    "X_train , X_test , y_train , y_test = train_test_split(X_data , y_target_log ,test_size=0.3, random_state=156)\n",
    "\n",
    "lr = LinearRegression(n_jobs=-1)\n",
    "get_model_predict(lr,X_train, X_test, y_train, y_test,is_expm1=True)"
   ]
  },
  {
   "cell_type": "code",
   "execution_count": 27,
   "metadata": {},
   "outputs": [
    {
     "name": "stdout",
     "output_type": "stream",
     "text": [
      "### LinearRegression ###\n",
      "MSE: 83.635, R2: 48.336\n"
     ]
    }
   ],
   "source": [
    "X_data_ohe = pd.get_dummies(X_data, columns=['days','time','urban_suburb','road_type','direction'])\n",
    "\n",
    "X_train , X_test , y_train , y_test = train_test_split(X_data_ohe , y_target_log ,test_size=0.3, random_state=156)\n",
    "\n",
    "lr = LinearRegression(n_jobs=-1)\n",
    "get_model_predict(lr,X_train, X_test, y_train, y_test,is_expm1=True)"
   ]
  },
  {
   "cell_type": "code",
   "execution_count": 28,
   "metadata": {},
   "outputs": [
    {
     "name": "stdout",
     "output_type": "stream",
     "text": [
      "### LinearRegression ###\n",
      "MSE: 82.157, R2: 49.250\n"
     ]
    }
   ],
   "source": [
    "X_train , X_test , y_train , y_test = train_test_split(X_data_ohe , y_target,test_size=0.3, random_state=156)\n",
    "\n",
    "lr = LinearRegression(n_jobs=-1)\n",
    "get_model_predict(lr,X_train, X_test, y_train, y_test,is_expm1=False)"
   ]
  },
  {
   "cell_type": "code",
   "execution_count": 29,
   "metadata": {},
   "outputs": [
    {
     "data": {
      "text/plain": [
       "(1757889, 39)"
      ]
     },
     "execution_count": 29,
     "metadata": {},
     "output_type": "execute_result"
    }
   ],
   "source": [
    "X_train.shape"
   ]
  },
  {
   "cell_type": "code",
   "execution_count": null,
   "metadata": {},
   "outputs": [],
   "source": []
  }
 ],
 "metadata": {
  "kernelspec": {
   "display_name": "Python [default]",
   "language": "python",
   "name": "python3"
  },
  "language_info": {
   "codemirror_mode": {
    "name": "ipython",
    "version": 3
   },
   "file_extension": ".py",
   "mimetype": "text/x-python",
   "name": "python",
   "nbconvert_exporter": "python",
   "pygments_lexer": "ipython3",
   "version": "3.7.0"
  }
 },
 "nbformat": 4,
 "nbformat_minor": 2
}
