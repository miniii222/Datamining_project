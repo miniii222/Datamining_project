{
 "cells": [
  {
   "cell_type": "code",
   "execution_count": 40,
   "metadata": {
    "ExecuteTime": {
     "end_time": "2019-05-28T02:26:02.848070Z",
     "start_time": "2019-05-28T02:26:02.843212Z"
    }
   },
   "outputs": [],
   "source": [
    "import pandas as pd\n",
    "import os\n",
    "file_list = os.listdir('../data/weather')"
   ]
  },
  {
   "cell_type": "code",
   "execution_count": 41,
   "metadata": {
    "ExecuteTime": {
     "end_time": "2019-05-28T02:26:03.450445Z",
     "start_time": "2019-05-28T02:26:03.439766Z"
    }
   },
   "outputs": [
    {
     "data": {
      "text/plain": [
       "['20190527202616.csv',\n",
       " 'snow_2018.csv',\n",
       " 'snow_2019.csv',\n",
       " 'SURFACE_AWS_400_HR_2018_2018_2019.csv',\n",
       " 'SURFACE_AWS_401_HR_2018_2018_2019.csv',\n",
       " 'SURFACE_AWS_402_HR_2018_2018_2019.csv',\n",
       " 'SURFACE_AWS_403_HR_2018_2018_2019.csv',\n",
       " 'SURFACE_AWS_404_HR_2018_2018_2019.csv',\n",
       " 'SURFACE_AWS_405_HR_2018_2018_2019.csv',\n",
       " 'SURFACE_AWS_406_HR_2018_2018_2019.csv',\n",
       " 'SURFACE_AWS_407_HR_2018_2018_2019.csv',\n",
       " 'SURFACE_AWS_408_HR_2018_2018_2019.csv',\n",
       " 'SURFACE_AWS_409_HR_2018_2018_2019.csv',\n",
       " 'SURFACE_AWS_410_HR_2018_2018_2019.csv',\n",
       " 'SURFACE_AWS_411_HR_2018_2018_2019.csv',\n",
       " 'SURFACE_AWS_412_HR_2018_2018_2019.csv',\n",
       " 'SURFACE_AWS_413_HR_2018_2018_2019.csv',\n",
       " 'SURFACE_AWS_414_HR_2018_2018_2019.csv',\n",
       " 'SURFACE_AWS_415_HR_2018_2018_2019.csv',\n",
       " 'SURFACE_AWS_416_HR_2018_2018_2019.csv',\n",
       " 'SURFACE_AWS_417_HR_2018_2018_2019.csv',\n",
       " 'SURFACE_AWS_418_HR_2018_2018_2019.csv',\n",
       " 'SURFACE_AWS_419_HR_2018_2018_2019.csv',\n",
       " 'SURFACE_AWS_421_HR_2018_2018_2019.csv',\n",
       " 'SURFACE_AWS_422_HR_2018_2018_2019.csv',\n",
       " 'SURFACE_AWS_423_HR_2018_2018_2019.csv',\n",
       " 'SURFACE_AWS_424_HR_2018_2018_2019.csv',\n",
       " 'SURFACE_AWS_425_HR_2018_2018_2019.csv',\n",
       " 'SURFACE_AWS_509_HR_2018_2018_2019.csv',\n",
       " 'SURFACE_AWS_510_HR_2018_2018_2019.csv',\n",
       " 'SURFACE_AWS_889_HR_2018_2018_2019.csv']"
      ]
     },
     "execution_count": 41,
     "metadata": {},
     "output_type": "execute_result"
    }
   ],
   "source": [
    "file_list"
   ]
  },
  {
   "cell_type": "markdown",
   "metadata": {},
   "source": [
    "# 2018"
   ]
  },
  {
   "cell_type": "code",
   "execution_count": 3,
   "metadata": {
    "ExecuteTime": {
     "end_time": "2019-05-28T02:04:11.155242Z",
     "start_time": "2019-05-28T02:04:08.645895Z"
    }
   },
   "outputs": [
    {
     "name": "stdout",
     "output_type": "stream",
     "text": [
      "SURFACE_AWS_400_HR_2018_2018_2019.csv : 79\n",
      "SURFACE_AWS_401_HR_2018_2018_2019.csv : 29\n",
      "SURFACE_AWS_402_HR_2018_2018_2019.csv : 63\n",
      "SURFACE_AWS_403_HR_2018_2018_2019.csv : 77\n",
      "SURFACE_AWS_404_HR_2018_2018_2019.csv : 117\n",
      "SURFACE_AWS_405_HR_2018_2018_2019.csv : 87\n",
      "SURFACE_AWS_406_HR_2018_2018_2019.csv : 89\n",
      "SURFACE_AWS_407_HR_2018_2018_2019.csv : 30\n",
      "SURFACE_AWS_408_HR_2018_2018_2019.csv : 118\n",
      "SURFACE_AWS_409_HR_2018_2018_2019.csv : 52\n",
      "SURFACE_AWS_410_HR_2018_2018_2019.csv : 310\n",
      "SURFACE_AWS_411_HR_2018_2018_2019.csv : 80\n",
      "SURFACE_AWS_412_HR_2018_2018_2019.csv : 80\n",
      "SURFACE_AWS_413_HR_2018_2018_2019.csv : 216\n",
      "SURFACE_AWS_414_HR_2018_2018_2019.csv : 93\n",
      "SURFACE_AWS_415_HR_2018_2018_2019.csv : 85\n",
      "SURFACE_AWS_416_HR_2018_2018_2019.csv : 290\n",
      "SURFACE_AWS_417_HR_2018_2018_2019.csv : 115\n",
      "SURFACE_AWS_418_HR_2018_2018_2019.csv : 20\n",
      "SURFACE_AWS_419_HR_2018_2018_2019.csv : 131\n",
      "SURFACE_AWS_421_HR_2018_2018_2019.csv : 100\n",
      "SURFACE_AWS_422_HR_2018_2018_2019.csv : 378\n",
      "SURFACE_AWS_423_HR_2018_2018_2019.csv : 45\n",
      "SURFACE_AWS_424_HR_2018_2018_2019.csv : 76\n",
      "SURFACE_AWS_425_HR_2018_2018_2019.csv : 214\n",
      "SURFACE_AWS_509_HR_2018_2018_2019.csv : 85\n",
      "SURFACE_AWS_510_HR_2018_2018_2019.csv : 107\n",
      "SURFACE_AWS_889_HR_2018_2018_2019.csv : 74\n"
     ]
    }
   ],
   "source": [
    "weather_2018 = pd.DataFrame()\n",
    "for fl in file_list[3:] :\n",
    "    path = '../data/weather/'\n",
    "    d1 = pd.read_csv(path + fl, encoding = \"utf-8\",usecols = [0,1,2,4,5], parse_dates  = [1])\n",
    "    print(fl,':',d1.isnull().sum().sum())\n",
    "    weather_2018 = pd.concat([weather_2018, d1])"
   ]
  },
  {
   "cell_type": "code",
   "execution_count": 4,
   "metadata": {
    "ExecuteTime": {
     "end_time": "2019-05-28T02:04:11.172296Z",
     "start_time": "2019-05-28T02:04:11.161218Z"
    }
   },
   "outputs": [
    {
     "data": {
      "text/plain": [
       "(243391, 5)"
      ]
     },
     "execution_count": 4,
     "metadata": {},
     "output_type": "execute_result"
    }
   ],
   "source": [
    "weather_2018.shape"
   ]
  },
  {
   "cell_type": "code",
   "execution_count": 5,
   "metadata": {
    "ExecuteTime": {
     "end_time": "2019-05-28T02:04:12.409708Z",
     "start_time": "2019-05-28T02:04:12.386860Z"
    }
   },
   "outputs": [
    {
     "data": {
      "text/html": [
       "<div>\n",
       "<style scoped>\n",
       "    .dataframe tbody tr th:only-of-type {\n",
       "        vertical-align: middle;\n",
       "    }\n",
       "\n",
       "    .dataframe tbody tr th {\n",
       "        vertical-align: top;\n",
       "    }\n",
       "\n",
       "    .dataframe thead th {\n",
       "        text-align: right;\n",
       "    }\n",
       "</style>\n",
       "<table border=\"1\" class=\"dataframe\">\n",
       "  <thead>\n",
       "    <tr style=\"text-align: right;\">\n",
       "      <th></th>\n",
       "      <th>지점</th>\n",
       "      <th>일시</th>\n",
       "      <th>기온(°C)</th>\n",
       "      <th>풍속(m/s)</th>\n",
       "      <th>강수량(mm)</th>\n",
       "    </tr>\n",
       "  </thead>\n",
       "  <tbody>\n",
       "    <tr>\n",
       "      <th>0</th>\n",
       "      <td>400</td>\n",
       "      <td>2018-01-01 00:00:00</td>\n",
       "      <td>-0.7</td>\n",
       "      <td>1.1</td>\n",
       "      <td>0.0</td>\n",
       "    </tr>\n",
       "    <tr>\n",
       "      <th>1</th>\n",
       "      <td>400</td>\n",
       "      <td>2018-01-01 01:00:00</td>\n",
       "      <td>-0.9</td>\n",
       "      <td>0.9</td>\n",
       "      <td>0.0</td>\n",
       "    </tr>\n",
       "    <tr>\n",
       "      <th>2</th>\n",
       "      <td>400</td>\n",
       "      <td>2018-01-01 02:00:00</td>\n",
       "      <td>-1.0</td>\n",
       "      <td>1.1</td>\n",
       "      <td>0.0</td>\n",
       "    </tr>\n",
       "    <tr>\n",
       "      <th>3</th>\n",
       "      <td>400</td>\n",
       "      <td>2018-01-01 03:00:00</td>\n",
       "      <td>-1.1</td>\n",
       "      <td>1.5</td>\n",
       "      <td>0.0</td>\n",
       "    </tr>\n",
       "    <tr>\n",
       "      <th>4</th>\n",
       "      <td>400</td>\n",
       "      <td>2018-01-01 04:00:00</td>\n",
       "      <td>-1.1</td>\n",
       "      <td>1.8</td>\n",
       "      <td>0.0</td>\n",
       "    </tr>\n",
       "  </tbody>\n",
       "</table>\n",
       "</div>"
      ],
      "text/plain": [
       "    지점                  일시  기온(°C)  풍속(m/s)  강수량(mm)\n",
       "0  400 2018-01-01 00:00:00    -0.7      1.1      0.0\n",
       "1  400 2018-01-01 01:00:00    -0.9      0.9      0.0\n",
       "2  400 2018-01-01 02:00:00    -1.0      1.1      0.0\n",
       "3  400 2018-01-01 03:00:00    -1.1      1.5      0.0\n",
       "4  400 2018-01-01 04:00:00    -1.1      1.8      0.0"
      ]
     },
     "execution_count": 5,
     "metadata": {},
     "output_type": "execute_result"
    }
   ],
   "source": [
    "weather_2018.head()"
   ]
  },
  {
   "cell_type": "code",
   "execution_count": 6,
   "metadata": {
    "ExecuteTime": {
     "end_time": "2019-05-28T02:04:14.988478Z",
     "start_time": "2019-05-28T02:04:14.953528Z"
    }
   },
   "outputs": [
    {
     "data": {
      "text/plain": [
       "지점            0\n",
       "일시            0\n",
       "기온(°C)      260\n",
       "풍속(m/s)     857\n",
       "강수량(mm)    2123\n",
       "dtype: int64"
      ]
     },
     "execution_count": 6,
     "metadata": {},
     "output_type": "execute_result"
    }
   ],
   "source": [
    "weather_2018.isnull().sum()"
   ]
  },
  {
   "cell_type": "code",
   "execution_count": 7,
   "metadata": {
    "ExecuteTime": {
     "end_time": "2019-05-28T02:04:15.439809Z",
     "start_time": "2019-05-28T02:04:15.431966Z"
    }
   },
   "outputs": [],
   "source": [
    "weather_2018.columns = ['지점','일시','temperature','wind','rain']"
   ]
  },
  {
   "cell_type": "code",
   "execution_count": 8,
   "metadata": {
    "ExecuteTime": {
     "end_time": "2019-05-28T02:04:15.840040Z",
     "start_time": "2019-05-28T02:04:15.793334Z"
    }
   },
   "outputs": [
    {
     "name": "stdout",
     "output_type": "stream",
     "text": [
      "<class 'pandas.core.frame.DataFrame'>\n",
      "Int64Index: 243391 entries, 0 to 8738\n",
      "Data columns (total 5 columns):\n",
      "지점             243391 non-null int64\n",
      "일시             243391 non-null datetime64[ns]\n",
      "temperature    243131 non-null float64\n",
      "wind           242534 non-null float64\n",
      "rain           241268 non-null float64\n",
      "dtypes: datetime64[ns](1), float64(3), int64(1)\n",
      "memory usage: 11.1 MB\n"
     ]
    }
   ],
   "source": [
    "weather_2018.info()"
   ]
  },
  {
   "cell_type": "markdown",
   "metadata": {},
   "source": [
    "# 2019"
   ]
  },
  {
   "cell_type": "code",
   "execution_count": 9,
   "metadata": {
    "ExecuteTime": {
     "end_time": "2019-05-28T02:04:17.161689Z",
     "start_time": "2019-05-28T02:04:16.689046Z"
    },
    "scrolled": true
   },
   "outputs": [
    {
     "data": {
      "text/html": [
       "<div>\n",
       "<style scoped>\n",
       "    .dataframe tbody tr th:only-of-type {\n",
       "        vertical-align: middle;\n",
       "    }\n",
       "\n",
       "    .dataframe tbody tr th {\n",
       "        vertical-align: top;\n",
       "    }\n",
       "\n",
       "    .dataframe thead th {\n",
       "        text-align: right;\n",
       "    }\n",
       "</style>\n",
       "<table border=\"1\" class=\"dataframe\">\n",
       "  <thead>\n",
       "    <tr style=\"text-align: right;\">\n",
       "      <th></th>\n",
       "      <th>지점</th>\n",
       "      <th>일시</th>\n",
       "      <th>기온(°C)</th>\n",
       "      <th>풍속(m/s)</th>\n",
       "      <th>강수량(mm)</th>\n",
       "    </tr>\n",
       "  </thead>\n",
       "  <tbody>\n",
       "    <tr>\n",
       "      <th>0</th>\n",
       "      <td>400</td>\n",
       "      <td>2019-01-01 01:00:00</td>\n",
       "      <td>-3.7</td>\n",
       "      <td>0.5</td>\n",
       "      <td>0.0</td>\n",
       "    </tr>\n",
       "    <tr>\n",
       "      <th>1</th>\n",
       "      <td>400</td>\n",
       "      <td>2019-01-01 02:00:00</td>\n",
       "      <td>-4.1</td>\n",
       "      <td>0.8</td>\n",
       "      <td>0.0</td>\n",
       "    </tr>\n",
       "    <tr>\n",
       "      <th>2</th>\n",
       "      <td>400</td>\n",
       "      <td>2019-01-01 03:00:00</td>\n",
       "      <td>-4.4</td>\n",
       "      <td>0.5</td>\n",
       "      <td>0.0</td>\n",
       "    </tr>\n",
       "    <tr>\n",
       "      <th>3</th>\n",
       "      <td>400</td>\n",
       "      <td>2019-01-01 04:00:00</td>\n",
       "      <td>-4.8</td>\n",
       "      <td>1.6</td>\n",
       "      <td>0.0</td>\n",
       "    </tr>\n",
       "    <tr>\n",
       "      <th>4</th>\n",
       "      <td>400</td>\n",
       "      <td>2019-01-01 05:00:00</td>\n",
       "      <td>-5.1</td>\n",
       "      <td>1.1</td>\n",
       "      <td>0.0</td>\n",
       "    </tr>\n",
       "  </tbody>\n",
       "</table>\n",
       "</div>"
      ],
      "text/plain": [
       "    지점                  일시  기온(°C)  풍속(m/s)  강수량(mm)\n",
       "0  400 2019-01-01 01:00:00    -3.7      0.5      0.0\n",
       "1  400 2019-01-01 02:00:00    -4.1      0.8      0.0\n",
       "2  400 2019-01-01 03:00:00    -4.4      0.5      0.0\n",
       "3  400 2019-01-01 04:00:00    -4.8      1.6      0.0\n",
       "4  400 2019-01-01 05:00:00    -5.1      1.1      0.0"
      ]
     },
     "execution_count": 9,
     "metadata": {},
     "output_type": "execute_result"
    }
   ],
   "source": [
    "weather_2019 = pd.read_csv(path + file_list[0], encoding = \"utf-8\", parse_dates = [1])\n",
    "weather_2019.head()"
   ]
  },
  {
   "cell_type": "code",
   "execution_count": 10,
   "metadata": {
    "ExecuteTime": {
     "end_time": "2019-05-28T02:04:17.178228Z",
     "start_time": "2019-05-28T02:04:17.167606Z"
    }
   },
   "outputs": [],
   "source": [
    "weather_2019.columns = ['지점','일시','temperature','wind','rain']"
   ]
  },
  {
   "cell_type": "markdown",
   "metadata": {},
   "source": [
    "# 2018 + 2019"
   ]
  },
  {
   "cell_type": "code",
   "execution_count": 11,
   "metadata": {
    "ExecuteTime": {
     "end_time": "2019-05-28T02:04:18.383106Z",
     "start_time": "2019-05-28T02:04:18.354582Z"
    }
   },
   "outputs": [
    {
     "data": {
      "text/html": [
       "<div>\n",
       "<style scoped>\n",
       "    .dataframe tbody tr th:only-of-type {\n",
       "        vertical-align: middle;\n",
       "    }\n",
       "\n",
       "    .dataframe tbody tr th {\n",
       "        vertical-align: top;\n",
       "    }\n",
       "\n",
       "    .dataframe thead th {\n",
       "        text-align: right;\n",
       "    }\n",
       "</style>\n",
       "<table border=\"1\" class=\"dataframe\">\n",
       "  <thead>\n",
       "    <tr style=\"text-align: right;\">\n",
       "      <th></th>\n",
       "      <th>지점</th>\n",
       "      <th>일시</th>\n",
       "      <th>temperature</th>\n",
       "      <th>wind</th>\n",
       "      <th>rain</th>\n",
       "    </tr>\n",
       "  </thead>\n",
       "  <tbody>\n",
       "    <tr>\n",
       "      <th>0</th>\n",
       "      <td>400</td>\n",
       "      <td>2018-01-01 00:00:00</td>\n",
       "      <td>-0.7</td>\n",
       "      <td>1.1</td>\n",
       "      <td>0.0</td>\n",
       "    </tr>\n",
       "    <tr>\n",
       "      <th>1</th>\n",
       "      <td>400</td>\n",
       "      <td>2018-01-01 01:00:00</td>\n",
       "      <td>-0.9</td>\n",
       "      <td>0.9</td>\n",
       "      <td>0.0</td>\n",
       "    </tr>\n",
       "    <tr>\n",
       "      <th>2</th>\n",
       "      <td>400</td>\n",
       "      <td>2018-01-01 02:00:00</td>\n",
       "      <td>-1.0</td>\n",
       "      <td>1.1</td>\n",
       "      <td>0.0</td>\n",
       "    </tr>\n",
       "    <tr>\n",
       "      <th>3</th>\n",
       "      <td>400</td>\n",
       "      <td>2018-01-01 03:00:00</td>\n",
       "      <td>-1.1</td>\n",
       "      <td>1.5</td>\n",
       "      <td>0.0</td>\n",
       "    </tr>\n",
       "    <tr>\n",
       "      <th>4</th>\n",
       "      <td>400</td>\n",
       "      <td>2018-01-01 04:00:00</td>\n",
       "      <td>-1.1</td>\n",
       "      <td>1.8</td>\n",
       "      <td>0.0</td>\n",
       "    </tr>\n",
       "  </tbody>\n",
       "</table>\n",
       "</div>"
      ],
      "text/plain": [
       "    지점                  일시  temperature  wind  rain\n",
       "0  400 2018-01-01 00:00:00         -0.7   1.1   0.0\n",
       "1  400 2018-01-01 01:00:00         -0.9   0.9   0.0\n",
       "2  400 2018-01-01 02:00:00         -1.0   1.1   0.0\n",
       "3  400 2018-01-01 03:00:00         -1.1   1.5   0.0\n",
       "4  400 2018-01-01 04:00:00         -1.1   1.8   0.0"
      ]
     },
     "execution_count": 11,
     "metadata": {},
     "output_type": "execute_result"
    }
   ],
   "source": [
    "weather = pd.concat([weather_2018, weather_2019], axis = 0)\n",
    "weather.head()"
   ]
  },
  {
   "cell_type": "code",
   "execution_count": 12,
   "metadata": {
    "ExecuteTime": {
     "end_time": "2019-05-28T02:04:18.977475Z",
     "start_time": "2019-05-28T02:04:18.954863Z"
    }
   },
   "outputs": [
    {
     "data": {
      "text/html": [
       "<div>\n",
       "<style scoped>\n",
       "    .dataframe tbody tr th:only-of-type {\n",
       "        vertical-align: middle;\n",
       "    }\n",
       "\n",
       "    .dataframe tbody tr th {\n",
       "        vertical-align: top;\n",
       "    }\n",
       "\n",
       "    .dataframe thead th {\n",
       "        text-align: right;\n",
       "    }\n",
       "</style>\n",
       "<table border=\"1\" class=\"dataframe\">\n",
       "  <thead>\n",
       "    <tr style=\"text-align: right;\">\n",
       "      <th></th>\n",
       "      <th>지점</th>\n",
       "      <th>일시</th>\n",
       "      <th>temperature</th>\n",
       "      <th>wind</th>\n",
       "      <th>rain</th>\n",
       "    </tr>\n",
       "  </thead>\n",
       "  <tbody>\n",
       "    <tr>\n",
       "      <th>0</th>\n",
       "      <td>400</td>\n",
       "      <td>2018-01-01 00:00:00</td>\n",
       "      <td>-0.7</td>\n",
       "      <td>1.1</td>\n",
       "      <td>0.0</td>\n",
       "    </tr>\n",
       "    <tr>\n",
       "      <th>1</th>\n",
       "      <td>400</td>\n",
       "      <td>2018-01-01 01:00:00</td>\n",
       "      <td>-0.9</td>\n",
       "      <td>0.9</td>\n",
       "      <td>0.0</td>\n",
       "    </tr>\n",
       "    <tr>\n",
       "      <th>2</th>\n",
       "      <td>400</td>\n",
       "      <td>2018-01-01 02:00:00</td>\n",
       "      <td>-1.0</td>\n",
       "      <td>1.1</td>\n",
       "      <td>0.0</td>\n",
       "    </tr>\n",
       "    <tr>\n",
       "      <th>3</th>\n",
       "      <td>400</td>\n",
       "      <td>2018-01-01 03:00:00</td>\n",
       "      <td>-1.1</td>\n",
       "      <td>1.5</td>\n",
       "      <td>0.0</td>\n",
       "    </tr>\n",
       "    <tr>\n",
       "      <th>4</th>\n",
       "      <td>400</td>\n",
       "      <td>2018-01-01 04:00:00</td>\n",
       "      <td>-1.1</td>\n",
       "      <td>1.8</td>\n",
       "      <td>0.0</td>\n",
       "    </tr>\n",
       "  </tbody>\n",
       "</table>\n",
       "</div>"
      ],
      "text/plain": [
       "    지점                  일시  temperature  wind  rain\n",
       "0  400 2018-01-01 00:00:00         -0.7   1.1   0.0\n",
       "1  400 2018-01-01 01:00:00         -0.9   0.9   0.0\n",
       "2  400 2018-01-01 02:00:00         -1.0   1.1   0.0\n",
       "3  400 2018-01-01 03:00:00         -1.1   1.5   0.0\n",
       "4  400 2018-01-01 04:00:00         -1.1   1.8   0.0"
      ]
     },
     "execution_count": 12,
     "metadata": {},
     "output_type": "execute_result"
    }
   ],
   "source": [
    "weather = weather.reset_index(drop=True)\n",
    "weather.head()"
   ]
  },
  {
   "cell_type": "code",
   "execution_count": 13,
   "metadata": {
    "ExecuteTime": {
     "end_time": "2019-05-28T02:04:19.754952Z",
     "start_time": "2019-05-28T02:04:19.553028Z"
    }
   },
   "outputs": [
    {
     "data": {
      "text/html": [
       "<div>\n",
       "<style scoped>\n",
       "    .dataframe tbody tr th:only-of-type {\n",
       "        vertical-align: middle;\n",
       "    }\n",
       "\n",
       "    .dataframe tbody tr th {\n",
       "        vertical-align: top;\n",
       "    }\n",
       "\n",
       "    .dataframe thead th {\n",
       "        text-align: right;\n",
       "    }\n",
       "</style>\n",
       "<table border=\"1\" class=\"dataframe\">\n",
       "  <thead>\n",
       "    <tr style=\"text-align: right;\">\n",
       "      <th></th>\n",
       "      <th>지점</th>\n",
       "      <th>일시</th>\n",
       "      <th>temperature</th>\n",
       "      <th>wind</th>\n",
       "      <th>rain</th>\n",
       "      <th>일자</th>\n",
       "    </tr>\n",
       "  </thead>\n",
       "  <tbody>\n",
       "    <tr>\n",
       "      <th>0</th>\n",
       "      <td>400</td>\n",
       "      <td>2018-01-01 00:00:00</td>\n",
       "      <td>-0.7</td>\n",
       "      <td>1.1</td>\n",
       "      <td>0.0</td>\n",
       "      <td>2018-01-01</td>\n",
       "    </tr>\n",
       "    <tr>\n",
       "      <th>1</th>\n",
       "      <td>400</td>\n",
       "      <td>2018-01-01 01:00:00</td>\n",
       "      <td>-0.9</td>\n",
       "      <td>0.9</td>\n",
       "      <td>0.0</td>\n",
       "      <td>2018-01-01</td>\n",
       "    </tr>\n",
       "    <tr>\n",
       "      <th>2</th>\n",
       "      <td>400</td>\n",
       "      <td>2018-01-01 02:00:00</td>\n",
       "      <td>-1.0</td>\n",
       "      <td>1.1</td>\n",
       "      <td>0.0</td>\n",
       "      <td>2018-01-01</td>\n",
       "    </tr>\n",
       "    <tr>\n",
       "      <th>3</th>\n",
       "      <td>400</td>\n",
       "      <td>2018-01-01 03:00:00</td>\n",
       "      <td>-1.1</td>\n",
       "      <td>1.5</td>\n",
       "      <td>0.0</td>\n",
       "      <td>2018-01-01</td>\n",
       "    </tr>\n",
       "    <tr>\n",
       "      <th>4</th>\n",
       "      <td>400</td>\n",
       "      <td>2018-01-01 04:00:00</td>\n",
       "      <td>-1.1</td>\n",
       "      <td>1.8</td>\n",
       "      <td>0.0</td>\n",
       "      <td>2018-01-01</td>\n",
       "    </tr>\n",
       "  </tbody>\n",
       "</table>\n",
       "</div>"
      ],
      "text/plain": [
       "    지점                  일시  temperature  wind  rain          일자\n",
       "0  400 2018-01-01 00:00:00         -0.7   1.1   0.0  2018-01-01\n",
       "1  400 2018-01-01 01:00:00         -0.9   0.9   0.0  2018-01-01\n",
       "2  400 2018-01-01 02:00:00         -1.0   1.1   0.0  2018-01-01\n",
       "3  400 2018-01-01 03:00:00         -1.1   1.5   0.0  2018-01-01\n",
       "4  400 2018-01-01 04:00:00         -1.1   1.8   0.0  2018-01-01"
      ]
     },
     "execution_count": 13,
     "metadata": {},
     "output_type": "execute_result"
    }
   ],
   "source": [
    "weather['일자'] = weather['일시'].dt.date\n",
    "weather.head()"
   ]
  },
  {
   "cell_type": "code",
   "execution_count": 14,
   "metadata": {
    "ExecuteTime": {
     "end_time": "2019-05-28T02:04:21.244182Z",
     "start_time": "2019-05-28T02:04:20.609994Z"
    }
   },
   "outputs": [
    {
     "data": {
      "text/plain": [
       "지점             0.000000\n",
       "일시             0.000000\n",
       "temperature    0.000890\n",
       "wind           0.002776\n",
       "rain           0.008071\n",
       "일자             0.000000\n",
       "dtype: float64"
      ]
     },
     "execution_count": 14,
     "metadata": {},
     "output_type": "execute_result"
    }
   ],
   "source": [
    "weather.isnull().sum()/len(weather)"
   ]
  },
  {
   "cell_type": "code",
   "execution_count": 17,
   "metadata": {
    "ExecuteTime": {
     "end_time": "2019-05-28T02:04:29.793683Z",
     "start_time": "2019-05-28T02:04:29.127109Z"
    }
   },
   "outputs": [
    {
     "data": {
      "text/plain": [
       "<matplotlib.axes._subplots.AxesSubplot at 0x297ed90b940>"
      ]
     },
     "execution_count": 17,
     "metadata": {},
     "output_type": "execute_result"
    },
    {
     "data": {
      "image/png": "[encoded data removed]",
      "text/plain": [
       "<Figure size 432x288 with 1 Axes>"
      ]
     },
     "metadata": {
      "needs_background": "light"
     },
     "output_type": "display_data"
    }
   ],
   "source": [
    "weather['wind'].plot.hist(bins = 100)"
   ]
  },
  {
   "cell_type": "code",
   "execution_count": 16,
   "metadata": {
    "ExecuteTime": {
     "end_time": "2019-05-28T02:04:26.091192Z",
     "start_time": "2019-05-28T02:04:22.500609Z"
    }
   },
   "outputs": [
    {
     "name": "stderr",
     "output_type": "stream",
     "text": [
      "C:\\Users\\wjssm\\Anaconda3\\lib\\site-packages\\scipy\\stats\\stats.py:1713: FutureWarning: Using a non-tuple sequence for multidimensional indexing is deprecated; use `arr[tuple(seq)]` instead of `arr[seq]`. In the future this will be interpreted as an array index, `arr[np.array(seq)]`, which will result either in an error or a different result.\n",
      "  return np.add.reduce(sorted[indexer] * weights, axis=axis) / sumval\n"
     ]
    },
    {
     "data": {
      "text/plain": [
       "<matplotlib.axes._subplots.AxesSubplot at 0x297ed2f3860>"
      ]
     },
     "execution_count": 16,
     "metadata": {},
     "output_type": "execute_result"
    },
    {
     "data": {
      "image/png": "[encoded data removed]",
      "text/plain": [
       "<Figure size 432x288 with 1 Axes>"
      ]
     },
     "metadata": {
      "needs_background": "light"
     },
     "output_type": "display_data"
    }
   ],
   "source": [
    "import seaborn as sns\n",
    "sns.distplot(weather['wind'].dropna(axis = 0))"
   ]
  },
  {
   "cell_type": "markdown",
   "metadata": {},
   "source": [
    "# gugucon"
   ]
  },
  {
   "cell_type": "code",
   "execution_count": 18,
   "metadata": {
    "ExecuteTime": {
     "end_time": "2019-05-28T02:04:32.870757Z",
     "start_time": "2019-05-28T02:04:32.861686Z"
    }
   },
   "outputs": [
    {
     "data": {
      "text/plain": [
       "['2018년 10월 서울시 차량통행속도.xlsx',\n",
       " '2018년 11월 서울시 차량통행속도.xlsx',\n",
       " '2018년 12월 서울시 차량통행속도.xlsx',\n",
       " '20190510142013.csv',\n",
       " '2019년 01월 서울시 차량통행속도.xlsx',\n",
       " '2019년 02월 서울시 차량통행속도.xlsx',\n",
       " '2019년 03월 서울시 차량통행속도.xlsx',\n",
       " 'dt_201903.csv',\n",
       " 'gugucon.csv',\n",
       " 'weather',\n",
       " '도로정보_TOTAL.xlsx']"
      ]
     },
     "execution_count": 18,
     "metadata": {},
     "output_type": "execute_result"
    }
   ],
   "source": [
    "os.listdir('../data')"
   ]
  },
  {
   "cell_type": "code",
   "execution_count": 19,
   "metadata": {
    "ExecuteTime": {
     "end_time": "2019-05-28T02:04:33.418687Z",
     "start_time": "2019-05-28T02:04:33.399230Z"
    }
   },
   "outputs": [
    {
     "data": {
      "text/html": [
       "<div>\n",
       "<style scoped>\n",
       "    .dataframe tbody tr th:only-of-type {\n",
       "        vertical-align: middle;\n",
       "    }\n",
       "\n",
       "    .dataframe tbody tr th {\n",
       "        vertical-align: top;\n",
       "    }\n",
       "\n",
       "    .dataframe thead th {\n",
       "        text-align: right;\n",
       "    }\n",
       "</style>\n",
       "<table border=\"1\" class=\"dataframe\">\n",
       "  <thead>\n",
       "    <tr style=\"text-align: right;\">\n",
       "      <th></th>\n",
       "      <th>district</th>\n",
       "      <th>id</th>\n",
       "    </tr>\n",
       "  </thead>\n",
       "  <tbody>\n",
       "    <tr>\n",
       "      <th>0</th>\n",
       "      <td>강남구</td>\n",
       "      <td>400</td>\n",
       "    </tr>\n",
       "    <tr>\n",
       "      <th>1</th>\n",
       "      <td>서초구</td>\n",
       "      <td>401</td>\n",
       "    </tr>\n",
       "    <tr>\n",
       "      <th>2</th>\n",
       "      <td>강동구</td>\n",
       "      <td>402</td>\n",
       "    </tr>\n",
       "    <tr>\n",
       "      <th>3</th>\n",
       "      <td>송파구</td>\n",
       "      <td>403</td>\n",
       "    </tr>\n",
       "    <tr>\n",
       "      <th>4</th>\n",
       "      <td>강서구</td>\n",
       "      <td>404</td>\n",
       "    </tr>\n",
       "    <tr>\n",
       "      <th>5</th>\n",
       "      <td>양천구</td>\n",
       "      <td>405</td>\n",
       "    </tr>\n",
       "    <tr>\n",
       "      <th>6</th>\n",
       "      <td>도봉구</td>\n",
       "      <td>406</td>\n",
       "    </tr>\n",
       "    <tr>\n",
       "      <th>7</th>\n",
       "      <td>노원구</td>\n",
       "      <td>407</td>\n",
       "    </tr>\n",
       "    <tr>\n",
       "      <th>8</th>\n",
       "      <td>동대문구</td>\n",
       "      <td>408</td>\n",
       "    </tr>\n",
       "    <tr>\n",
       "      <th>9</th>\n",
       "      <td>중랑구</td>\n",
       "      <td>409</td>\n",
       "    </tr>\n",
       "    <tr>\n",
       "      <th>10</th>\n",
       "      <td>서대문구</td>\n",
       "      <td>412</td>\n",
       "    </tr>\n",
       "    <tr>\n",
       "      <th>11</th>\n",
       "      <td>광진구</td>\n",
       "      <td>413</td>\n",
       "    </tr>\n",
       "    <tr>\n",
       "      <th>12</th>\n",
       "      <td>성북구</td>\n",
       "      <td>414</td>\n",
       "    </tr>\n",
       "    <tr>\n",
       "      <th>13</th>\n",
       "      <td>용산구</td>\n",
       "      <td>415</td>\n",
       "    </tr>\n",
       "    <tr>\n",
       "      <th>14</th>\n",
       "      <td>은평구</td>\n",
       "      <td>416</td>\n",
       "    </tr>\n",
       "    <tr>\n",
       "      <th>15</th>\n",
       "      <td>금천구</td>\n",
       "      <td>417</td>\n",
       "    </tr>\n",
       "    <tr>\n",
       "      <th>16</th>\n",
       "      <td>중구</td>\n",
       "      <td>419</td>\n",
       "    </tr>\n",
       "    <tr>\n",
       "      <th>17</th>\n",
       "      <td>성동구</td>\n",
       "      <td>421</td>\n",
       "    </tr>\n",
       "    <tr>\n",
       "      <th>18</th>\n",
       "      <td>구로구</td>\n",
       "      <td>423</td>\n",
       "    </tr>\n",
       "    <tr>\n",
       "      <th>19</th>\n",
       "      <td>강북구</td>\n",
       "      <td>424</td>\n",
       "    </tr>\n",
       "    <tr>\n",
       "      <th>20</th>\n",
       "      <td>관악구</td>\n",
       "      <td>509</td>\n",
       "    </tr>\n",
       "    <tr>\n",
       "      <th>21</th>\n",
       "      <td>영등포구</td>\n",
       "      <td>510</td>\n",
       "    </tr>\n",
       "    <tr>\n",
       "      <th>22</th>\n",
       "      <td>동작구</td>\n",
       "      <td>889</td>\n",
       "    </tr>\n",
       "    <tr>\n",
       "      <th>23</th>\n",
       "      <td>마포구</td>\n",
       "      <td>418</td>\n",
       "    </tr>\n",
       "    <tr>\n",
       "      <th>24</th>\n",
       "      <td>종로구</td>\n",
       "      <td>419</td>\n",
       "    </tr>\n",
       "  </tbody>\n",
       "</table>\n",
       "</div>"
      ],
      "text/plain": [
       "   district   id\n",
       "0       강남구  400\n",
       "1       서초구  401\n",
       "2       강동구  402\n",
       "3       송파구  403\n",
       "4       강서구  404\n",
       "5       양천구  405\n",
       "6       도봉구  406\n",
       "7       노원구  407\n",
       "8      동대문구  408\n",
       "9       중랑구  409\n",
       "10     서대문구  412\n",
       "11      광진구  413\n",
       "12      성북구  414\n",
       "13      용산구  415\n",
       "14      은평구  416\n",
       "15      금천구  417\n",
       "16       중구  419\n",
       "17      성동구  421\n",
       "18      구로구  423\n",
       "19      강북구  424\n",
       "20      관악구  509\n",
       "21     영등포구  510\n",
       "22      동작구  889\n",
       "23      마포구  418\n",
       "24      종로구  419"
      ]
     },
     "execution_count": 19,
     "metadata": {},
     "output_type": "execute_result"
    }
   ],
   "source": [
    "gugu = pd.read_csv('../data/gugucon.csv')\n",
    "gugu"
   ]
  },
  {
   "cell_type": "code",
   "execution_count": 20,
   "metadata": {
    "ExecuteTime": {
     "end_time": "2019-05-28T02:04:34.490688Z",
     "start_time": "2019-05-28T02:04:34.350370Z"
    }
   },
   "outputs": [
    {
     "data": {
      "text/html": [
       "<div>\n",
       "<style scoped>\n",
       "    .dataframe tbody tr th:only-of-type {\n",
       "        vertical-align: middle;\n",
       "    }\n",
       "\n",
       "    .dataframe tbody tr th {\n",
       "        vertical-align: top;\n",
       "    }\n",
       "\n",
       "    .dataframe thead th {\n",
       "        text-align: right;\n",
       "    }\n",
       "</style>\n",
       "<table border=\"1\" class=\"dataframe\">\n",
       "  <thead>\n",
       "    <tr style=\"text-align: right;\">\n",
       "      <th></th>\n",
       "      <th>지점</th>\n",
       "      <th>일시</th>\n",
       "      <th>temperature</th>\n",
       "      <th>wind</th>\n",
       "      <th>rain</th>\n",
       "      <th>일자</th>\n",
       "      <th>district</th>\n",
       "      <th>id</th>\n",
       "      <th>time</th>\n",
       "    </tr>\n",
       "  </thead>\n",
       "  <tbody>\n",
       "    <tr>\n",
       "      <th>0</th>\n",
       "      <td>400</td>\n",
       "      <td>2018-01-01 00:00:00</td>\n",
       "      <td>-0.7</td>\n",
       "      <td>1.1</td>\n",
       "      <td>0.0</td>\n",
       "      <td>2018-01-01</td>\n",
       "      <td>강남구</td>\n",
       "      <td>400</td>\n",
       "      <td>0</td>\n",
       "    </tr>\n",
       "    <tr>\n",
       "      <th>1</th>\n",
       "      <td>400</td>\n",
       "      <td>2018-01-01 01:00:00</td>\n",
       "      <td>-0.9</td>\n",
       "      <td>0.9</td>\n",
       "      <td>0.0</td>\n",
       "      <td>2018-01-01</td>\n",
       "      <td>강남구</td>\n",
       "      <td>400</td>\n",
       "      <td>1</td>\n",
       "    </tr>\n",
       "    <tr>\n",
       "      <th>2</th>\n",
       "      <td>400</td>\n",
       "      <td>2018-01-01 02:00:00</td>\n",
       "      <td>-1.0</td>\n",
       "      <td>1.1</td>\n",
       "      <td>0.0</td>\n",
       "      <td>2018-01-01</td>\n",
       "      <td>강남구</td>\n",
       "      <td>400</td>\n",
       "      <td>2</td>\n",
       "    </tr>\n",
       "    <tr>\n",
       "      <th>3</th>\n",
       "      <td>400</td>\n",
       "      <td>2018-01-01 03:00:00</td>\n",
       "      <td>-1.1</td>\n",
       "      <td>1.5</td>\n",
       "      <td>0.0</td>\n",
       "      <td>2018-01-01</td>\n",
       "      <td>강남구</td>\n",
       "      <td>400</td>\n",
       "      <td>3</td>\n",
       "    </tr>\n",
       "    <tr>\n",
       "      <th>4</th>\n",
       "      <td>400</td>\n",
       "      <td>2018-01-01 04:00:00</td>\n",
       "      <td>-1.1</td>\n",
       "      <td>1.8</td>\n",
       "      <td>0.0</td>\n",
       "      <td>2018-01-01</td>\n",
       "      <td>강남구</td>\n",
       "      <td>400</td>\n",
       "      <td>4</td>\n",
       "    </tr>\n",
       "  </tbody>\n",
       "</table>\n",
       "</div>"
      ],
      "text/plain": [
       "    지점                  일시  temperature  wind  rain          일자 district   id  \\\n",
       "0  400 2018-01-01 00:00:00         -0.7   1.1   0.0  2018-01-01      강남구  400   \n",
       "1  400 2018-01-01 01:00:00         -0.9   0.9   0.0  2018-01-01      강남구  400   \n",
       "2  400 2018-01-01 02:00:00         -1.0   1.1   0.0  2018-01-01      강남구  400   \n",
       "3  400 2018-01-01 03:00:00         -1.1   1.5   0.0  2018-01-01      강남구  400   \n",
       "4  400 2018-01-01 04:00:00         -1.1   1.8   0.0  2018-01-01      강남구  400   \n",
       "\n",
       "   time  \n",
       "0     0  \n",
       "1     1  \n",
       "2     2  \n",
       "3     3  \n",
       "4     4  "
      ]
     },
     "execution_count": 20,
     "metadata": {},
     "output_type": "execute_result"
    }
   ],
   "source": [
    "merged = pd.merge(weather, gugu, left_on='지점', right_on='id')\n",
    "merged['time'] = merged['일시'].dt.hour\n",
    "merged.head()"
   ]
  },
  {
   "cell_type": "markdown",
   "metadata": {},
   "source": [
    "# NA처리"
   ]
  },
  {
   "cell_type": "code",
   "execution_count": 21,
   "metadata": {
    "ExecuteTime": {
     "end_time": "2019-05-28T02:04:37.346948Z",
     "start_time": "2019-05-28T02:04:37.192565Z"
    }
   },
   "outputs": [
    {
     "data": {
      "text/plain": [
       "지점                0\n",
       "일시                0\n",
       "temperature     196\n",
       "wind            421\n",
       "rain           2270\n",
       "일자                0\n",
       "district          0\n",
       "id                0\n",
       "time              0\n",
       "dtype: int64"
      ]
     },
     "execution_count": 21,
     "metadata": {},
     "output_type": "execute_result"
    }
   ],
   "source": [
    "merged.isnull().sum()"
   ]
  },
  {
   "cell_type": "markdown",
   "metadata": {},
   "source": [
    "## 처리 방법1\n",
    "- 일자와 time을 일치시켜 다른 전체 지역의 평균값으로 대체"
   ]
  },
  {
   "cell_type": "code",
   "execution_count": 22,
   "metadata": {
    "ExecuteTime": {
     "end_time": "2019-05-28T02:04:38.886026Z",
     "start_time": "2019-05-28T02:04:38.876247Z"
    }
   },
   "outputs": [],
   "source": [
    "def temp_mean(date, time) :\n",
    "    return merged[(merged['일자'] == date) & (merged['time'] == time)]['temperature'].mean()\n",
    "\n",
    "def wind_mean(date, time) :\n",
    "    return merged[(merged['일자'] == date) & (merged['time'] == time)]['wind'].mean()\n",
    "\n",
    "def rain_mean(date, time) :\n",
    "    return merged[(merged['일자'] == date) & (merged['time'] == time)]['rain'].mean()"
   ]
  },
  {
   "cell_type": "code",
   "execution_count": 23,
   "metadata": {
    "ExecuteTime": {
     "end_time": "2019-05-28T02:06:58.877047Z",
     "start_time": "2019-05-28T02:04:39.233608Z"
    }
   },
   "outputs": [],
   "source": [
    "frame = merged[merged.temperature.isnull()]\n",
    "a1 = frame.apply(lambda x : temp_mean(x['일자'], x['time']), axis = 1)\n",
    "\n",
    "frame = merged[merged.wind.isnull()]\n",
    "a2 = frame.apply(lambda x : wind_mean(x['일자'], x['time']), axis = 1)\n",
    "\n",
    "frame = merged[merged.rain.isnull()]\n",
    "a3 = frame.apply(lambda x : rain_mean(x['일자'], x['time']), axis = 1)"
   ]
  },
  {
   "cell_type": "code",
   "execution_count": 24,
   "metadata": {
    "ExecuteTime": {
     "end_time": "2019-05-28T02:06:58.924475Z",
     "start_time": "2019-05-28T02:06:58.882321Z"
    }
   },
   "outputs": [],
   "source": [
    "merged.loc[a1.index, 'temperature'] = a1\n",
    "merged.loc[a2.index, 'wind'] = a2\n",
    "merged.loc[a3.index, 'rain'] = a3"
   ]
  },
  {
   "cell_type": "code",
   "execution_count": 25,
   "metadata": {
    "ExecuteTime": {
     "end_time": "2019-05-28T02:06:59.061580Z",
     "start_time": "2019-05-28T02:06:58.924475Z"
    }
   },
   "outputs": [
    {
     "data": {
      "text/plain": [
       "지점              0\n",
       "일시              0\n",
       "temperature     0\n",
       "wind           50\n",
       "rain           25\n",
       "일자              0\n",
       "district        0\n",
       "id              0\n",
       "time            0\n",
       "dtype: int64"
      ]
     },
     "execution_count": 25,
     "metadata": {},
     "output_type": "execute_result"
    }
   ],
   "source": [
    "merged.isnull().sum()"
   ]
  },
  {
   "cell_type": "markdown",
   "metadata": {},
   "source": [
    "## 처리 방법2\n",
    "- NA가 남아있는 일자는 모두 20181217 2시와 20시\n",
    "- 1시와 19시의 값으로 채우려고 했는데\n",
    "- 2018.12.17데이터는 NA가 너무 많아서 아예 지우자!"
   ]
  },
  {
   "cell_type": "code",
   "execution_count": 26,
   "metadata": {
    "ExecuteTime": {
     "end_time": "2019-05-28T02:06:59.100935Z",
     "start_time": "2019-05-28T02:06:59.067079Z"
    }
   },
   "outputs": [
    {
     "data": {
      "text/html": [
       "<div>\n",
       "<style scoped>\n",
       "    .dataframe tbody tr th:only-of-type {\n",
       "        vertical-align: middle;\n",
       "    }\n",
       "\n",
       "    .dataframe tbody tr th {\n",
       "        vertical-align: top;\n",
       "    }\n",
       "\n",
       "    .dataframe thead th {\n",
       "        text-align: right;\n",
       "    }\n",
       "</style>\n",
       "<table border=\"1\" class=\"dataframe\">\n",
       "  <thead>\n",
       "    <tr style=\"text-align: right;\">\n",
       "      <th></th>\n",
       "      <th>지점</th>\n",
       "      <th>일시</th>\n",
       "      <th>temperature</th>\n",
       "      <th>wind</th>\n",
       "      <th>rain</th>\n",
       "      <th>일자</th>\n",
       "      <th>district</th>\n",
       "      <th>id</th>\n",
       "      <th>time</th>\n",
       "    </tr>\n",
       "  </thead>\n",
       "  <tbody>\n",
       "    <tr>\n",
       "      <th>8370</th>\n",
       "      <td>400</td>\n",
       "      <td>2018-12-17 20:00:00</td>\n",
       "      <td>3.5</td>\n",
       "      <td>NaN</td>\n",
       "      <td>NaN</td>\n",
       "      <td>2018-12-17</td>\n",
       "      <td>강남구</td>\n",
       "      <td>400</td>\n",
       "      <td>20</td>\n",
       "    </tr>\n",
       "    <tr>\n",
       "      <th>19957</th>\n",
       "      <td>401</td>\n",
       "      <td>2018-12-17 20:00:00</td>\n",
       "      <td>3.4</td>\n",
       "      <td>NaN</td>\n",
       "      <td>NaN</td>\n",
       "      <td>2018-12-17</td>\n",
       "      <td>서초구</td>\n",
       "      <td>401</td>\n",
       "      <td>20</td>\n",
       "    </tr>\n",
       "    <tr>\n",
       "      <th>31546</th>\n",
       "      <td>402</td>\n",
       "      <td>2018-12-17 20:00:00</td>\n",
       "      <td>3.0</td>\n",
       "      <td>NaN</td>\n",
       "      <td>NaN</td>\n",
       "      <td>2018-12-17</td>\n",
       "      <td>강동구</td>\n",
       "      <td>402</td>\n",
       "      <td>20</td>\n",
       "    </tr>\n",
       "    <tr>\n",
       "      <th>43130</th>\n",
       "      <td>403</td>\n",
       "      <td>2018-12-17 20:00:00</td>\n",
       "      <td>3.9</td>\n",
       "      <td>NaN</td>\n",
       "      <td>NaN</td>\n",
       "      <td>2018-12-17</td>\n",
       "      <td>송파구</td>\n",
       "      <td>403</td>\n",
       "      <td>20</td>\n",
       "    </tr>\n",
       "    <tr>\n",
       "      <th>54685</th>\n",
       "      <td>404</td>\n",
       "      <td>2018-12-17 20:00:00</td>\n",
       "      <td>2.3</td>\n",
       "      <td>NaN</td>\n",
       "      <td>NaN</td>\n",
       "      <td>2018-12-17</td>\n",
       "      <td>강서구</td>\n",
       "      <td>404</td>\n",
       "      <td>20</td>\n",
       "    </tr>\n",
       "    <tr>\n",
       "      <th>66269</th>\n",
       "      <td>405</td>\n",
       "      <td>2018-12-17 20:00:00</td>\n",
       "      <td>3.2</td>\n",
       "      <td>NaN</td>\n",
       "      <td>NaN</td>\n",
       "      <td>2018-12-17</td>\n",
       "      <td>양천구</td>\n",
       "      <td>405</td>\n",
       "      <td>20</td>\n",
       "    </tr>\n",
       "    <tr>\n",
       "      <th>77868</th>\n",
       "      <td>406</td>\n",
       "      <td>2018-12-17 20:00:00</td>\n",
       "      <td>1.7</td>\n",
       "      <td>NaN</td>\n",
       "      <td>NaN</td>\n",
       "      <td>2018-12-17</td>\n",
       "      <td>도봉구</td>\n",
       "      <td>406</td>\n",
       "      <td>20</td>\n",
       "    </tr>\n",
       "    <tr>\n",
       "      <th>89459</th>\n",
       "      <td>407</td>\n",
       "      <td>2018-12-17 20:00:00</td>\n",
       "      <td>2.8</td>\n",
       "      <td>NaN</td>\n",
       "      <td>NaN</td>\n",
       "      <td>2018-12-17</td>\n",
       "      <td>노원구</td>\n",
       "      <td>407</td>\n",
       "      <td>20</td>\n",
       "    </tr>\n",
       "    <tr>\n",
       "      <th>101058</th>\n",
       "      <td>408</td>\n",
       "      <td>2018-12-17 20:00:00</td>\n",
       "      <td>3.3</td>\n",
       "      <td>NaN</td>\n",
       "      <td>NaN</td>\n",
       "      <td>2018-12-17</td>\n",
       "      <td>동대문구</td>\n",
       "      <td>408</td>\n",
       "      <td>20</td>\n",
       "    </tr>\n",
       "    <tr>\n",
       "      <th>112637</th>\n",
       "      <td>409</td>\n",
       "      <td>2018-12-17 20:00:00</td>\n",
       "      <td>3.3</td>\n",
       "      <td>NaN</td>\n",
       "      <td>NaN</td>\n",
       "      <td>2018-12-17</td>\n",
       "      <td>중랑구</td>\n",
       "      <td>409</td>\n",
       "      <td>20</td>\n",
       "    </tr>\n",
       "    <tr>\n",
       "      <th>124089</th>\n",
       "      <td>412</td>\n",
       "      <td>2018-12-17 20:00:00</td>\n",
       "      <td>0.8</td>\n",
       "      <td>NaN</td>\n",
       "      <td>NaN</td>\n",
       "      <td>2018-12-17</td>\n",
       "      <td>서대문구</td>\n",
       "      <td>412</td>\n",
       "      <td>20</td>\n",
       "    </tr>\n",
       "    <tr>\n",
       "      <th>135647</th>\n",
       "      <td>413</td>\n",
       "      <td>2018-12-17 20:00:00</td>\n",
       "      <td>3.3</td>\n",
       "      <td>NaN</td>\n",
       "      <td>NaN</td>\n",
       "      <td>2018-12-17</td>\n",
       "      <td>광진구</td>\n",
       "      <td>413</td>\n",
       "      <td>20</td>\n",
       "    </tr>\n",
       "    <tr>\n",
       "      <th>147237</th>\n",
       "      <td>414</td>\n",
       "      <td>2018-12-17 20:00:00</td>\n",
       "      <td>2.0</td>\n",
       "      <td>NaN</td>\n",
       "      <td>NaN</td>\n",
       "      <td>2018-12-17</td>\n",
       "      <td>성북구</td>\n",
       "      <td>414</td>\n",
       "      <td>20</td>\n",
       "    </tr>\n",
       "    <tr>\n",
       "      <th>158808</th>\n",
       "      <td>415</td>\n",
       "      <td>2018-12-17 20:00:00</td>\n",
       "      <td>3.0</td>\n",
       "      <td>NaN</td>\n",
       "      <td>NaN</td>\n",
       "      <td>2018-12-17</td>\n",
       "      <td>용산구</td>\n",
       "      <td>415</td>\n",
       "      <td>20</td>\n",
       "    </tr>\n",
       "    <tr>\n",
       "      <th>170251</th>\n",
       "      <td>416</td>\n",
       "      <td>2018-12-17 20:00:00</td>\n",
       "      <td>-2.9</td>\n",
       "      <td>NaN</td>\n",
       "      <td>NaN</td>\n",
       "      <td>2018-12-17</td>\n",
       "      <td>은평구</td>\n",
       "      <td>416</td>\n",
       "      <td>20</td>\n",
       "    </tr>\n",
       "    <tr>\n",
       "      <th>181798</th>\n",
       "      <td>417</td>\n",
       "      <td>2018-12-17 20:00:00</td>\n",
       "      <td>3.5</td>\n",
       "      <td>NaN</td>\n",
       "      <td>NaN</td>\n",
       "      <td>2018-12-17</td>\n",
       "      <td>금천구</td>\n",
       "      <td>417</td>\n",
       "      <td>20</td>\n",
       "    </tr>\n",
       "    <tr>\n",
       "      <th>193245</th>\n",
       "      <td>418</td>\n",
       "      <td>2018-12-17 20:00:00</td>\n",
       "      <td>3.0</td>\n",
       "      <td>NaN</td>\n",
       "      <td>NaN</td>\n",
       "      <td>2018-12-17</td>\n",
       "      <td>마포구</td>\n",
       "      <td>418</td>\n",
       "      <td>20</td>\n",
       "    </tr>\n",
       "    <tr>\n",
       "      <th>213199</th>\n",
       "      <td>419</td>\n",
       "      <td>2018-12-17 20:00:00</td>\n",
       "      <td>0.5</td>\n",
       "      <td>NaN</td>\n",
       "      <td>NaN</td>\n",
       "      <td>2018-12-17</td>\n",
       "      <td>중구</td>\n",
       "      <td>419</td>\n",
       "      <td>20</td>\n",
       "    </tr>\n",
       "    <tr>\n",
       "      <th>213200</th>\n",
       "      <td>419</td>\n",
       "      <td>2018-12-17 20:00:00</td>\n",
       "      <td>0.5</td>\n",
       "      <td>NaN</td>\n",
       "      <td>NaN</td>\n",
       "      <td>2018-12-17</td>\n",
       "      <td>종로구</td>\n",
       "      <td>419</td>\n",
       "      <td>20</td>\n",
       "    </tr>\n",
       "    <tr>\n",
       "      <th>227994</th>\n",
       "      <td>421</td>\n",
       "      <td>2018-12-17 20:00:00</td>\n",
       "      <td>3.8</td>\n",
       "      <td>NaN</td>\n",
       "      <td>NaN</td>\n",
       "      <td>2018-12-17</td>\n",
       "      <td>성동구</td>\n",
       "      <td>421</td>\n",
       "      <td>20</td>\n",
       "    </tr>\n",
       "    <tr>\n",
       "      <th>239574</th>\n",
       "      <td>423</td>\n",
       "      <td>2018-12-17 20:00:00</td>\n",
       "      <td>2.1</td>\n",
       "      <td>NaN</td>\n",
       "      <td>NaN</td>\n",
       "      <td>2018-12-17</td>\n",
       "      <td>구로구</td>\n",
       "      <td>423</td>\n",
       "      <td>20</td>\n",
       "    </tr>\n",
       "    <tr>\n",
       "      <th>251150</th>\n",
       "      <td>424</td>\n",
       "      <td>2018-12-17 20:00:00</td>\n",
       "      <td>2.9</td>\n",
       "      <td>NaN</td>\n",
       "      <td>NaN</td>\n",
       "      <td>2018-12-17</td>\n",
       "      <td>강북구</td>\n",
       "      <td>424</td>\n",
       "      <td>20</td>\n",
       "    </tr>\n",
       "    <tr>\n",
       "      <th>262740</th>\n",
       "      <td>509</td>\n",
       "      <td>2018-12-17 20:00:00</td>\n",
       "      <td>1.9</td>\n",
       "      <td>NaN</td>\n",
       "      <td>NaN</td>\n",
       "      <td>2018-12-17</td>\n",
       "      <td>관악구</td>\n",
       "      <td>509</td>\n",
       "      <td>20</td>\n",
       "    </tr>\n",
       "    <tr>\n",
       "      <th>274317</th>\n",
       "      <td>510</td>\n",
       "      <td>2018-12-17 20:00:00</td>\n",
       "      <td>3.4</td>\n",
       "      <td>NaN</td>\n",
       "      <td>NaN</td>\n",
       "      <td>2018-12-17</td>\n",
       "      <td>영등포구</td>\n",
       "      <td>510</td>\n",
       "      <td>20</td>\n",
       "    </tr>\n",
       "    <tr>\n",
       "      <th>285912</th>\n",
       "      <td>889</td>\n",
       "      <td>2018-12-17 20:00:00</td>\n",
       "      <td>3.5</td>\n",
       "      <td>NaN</td>\n",
       "      <td>NaN</td>\n",
       "      <td>2018-12-17</td>\n",
       "      <td>동작구</td>\n",
       "      <td>889</td>\n",
       "      <td>20</td>\n",
       "    </tr>\n",
       "  </tbody>\n",
       "</table>\n",
       "</div>"
      ],
      "text/plain": [
       "         지점                  일시  temperature  wind  rain          일자 district  \\\n",
       "8370    400 2018-12-17 20:00:00          3.5   NaN   NaN  2018-12-17      강남구   \n",
       "19957   401 2018-12-17 20:00:00          3.4   NaN   NaN  2018-12-17      서초구   \n",
       "31546   402 2018-12-17 20:00:00          3.0   NaN   NaN  2018-12-17      강동구   \n",
       "43130   403 2018-12-17 20:00:00          3.9   NaN   NaN  2018-12-17      송파구   \n",
       "54685   404 2018-12-17 20:00:00          2.3   NaN   NaN  2018-12-17      강서구   \n",
       "66269   405 2018-12-17 20:00:00          3.2   NaN   NaN  2018-12-17      양천구   \n",
       "77868   406 2018-12-17 20:00:00          1.7   NaN   NaN  2018-12-17      도봉구   \n",
       "89459   407 2018-12-17 20:00:00          2.8   NaN   NaN  2018-12-17      노원구   \n",
       "101058  408 2018-12-17 20:00:00          3.3   NaN   NaN  2018-12-17     동대문구   \n",
       "112637  409 2018-12-17 20:00:00          3.3   NaN   NaN  2018-12-17      중랑구   \n",
       "124089  412 2018-12-17 20:00:00          0.8   NaN   NaN  2018-12-17     서대문구   \n",
       "135647  413 2018-12-17 20:00:00          3.3   NaN   NaN  2018-12-17      광진구   \n",
       "147237  414 2018-12-17 20:00:00          2.0   NaN   NaN  2018-12-17      성북구   \n",
       "158808  415 2018-12-17 20:00:00          3.0   NaN   NaN  2018-12-17      용산구   \n",
       "170251  416 2018-12-17 20:00:00         -2.9   NaN   NaN  2018-12-17      은평구   \n",
       "181798  417 2018-12-17 20:00:00          3.5   NaN   NaN  2018-12-17      금천구   \n",
       "193245  418 2018-12-17 20:00:00          3.0   NaN   NaN  2018-12-17      마포구   \n",
       "213199  419 2018-12-17 20:00:00          0.5   NaN   NaN  2018-12-17       중구   \n",
       "213200  419 2018-12-17 20:00:00          0.5   NaN   NaN  2018-12-17      종로구   \n",
       "227994  421 2018-12-17 20:00:00          3.8   NaN   NaN  2018-12-17      성동구   \n",
       "239574  423 2018-12-17 20:00:00          2.1   NaN   NaN  2018-12-17      구로구   \n",
       "251150  424 2018-12-17 20:00:00          2.9   NaN   NaN  2018-12-17      강북구   \n",
       "262740  509 2018-12-17 20:00:00          1.9   NaN   NaN  2018-12-17      관악구   \n",
       "274317  510 2018-12-17 20:00:00          3.4   NaN   NaN  2018-12-17     영등포구   \n",
       "285912  889 2018-12-17 20:00:00          3.5   NaN   NaN  2018-12-17      동작구   \n",
       "\n",
       "         id  time  \n",
       "8370    400    20  \n",
       "19957   401    20  \n",
       "31546   402    20  \n",
       "43130   403    20  \n",
       "54685   404    20  \n",
       "66269   405    20  \n",
       "77868   406    20  \n",
       "89459   407    20  \n",
       "101058  408    20  \n",
       "112637  409    20  \n",
       "124089  412    20  \n",
       "135647  413    20  \n",
       "147237  414    20  \n",
       "158808  415    20  \n",
       "170251  416    20  \n",
       "181798  417    20  \n",
       "193245  418    20  \n",
       "213199  419    20  \n",
       "213200  419    20  \n",
       "227994  421    20  \n",
       "239574  423    20  \n",
       "251150  424    20  \n",
       "262740  509    20  \n",
       "274317  510    20  \n",
       "285912  889    20  "
      ]
     },
     "execution_count": 26,
     "metadata": {},
     "output_type": "execute_result"
    }
   ],
   "source": [
    "frame = merged[merged.rain.isnull()]\n",
    "frame"
   ]
  },
  {
   "cell_type": "code",
   "execution_count": 27,
   "metadata": {
    "ExecuteTime": {
     "end_time": "2019-05-28T02:06:59.110035Z",
     "start_time": "2019-05-28T02:06:59.104922Z"
    }
   },
   "outputs": [],
   "source": [
    "import datetime"
   ]
  },
  {
   "cell_type": "code",
   "execution_count": 28,
   "metadata": {
    "ExecuteTime": {
     "end_time": "2019-05-28T02:10:55.108959Z",
     "start_time": "2019-05-28T02:10:55.053565Z"
    }
   },
   "outputs": [
    {
     "data": {
      "text/plain": [
       "23    25\n",
       "22    25\n",
       "21    25\n",
       "20    25\n",
       "2     25\n",
       "1     25\n",
       "0     25\n",
       "Name: time, dtype: int64"
      ]
     },
     "execution_count": 28,
     "metadata": {},
     "output_type": "execute_result"
    }
   ],
   "source": [
    "merged[(merged['일자'] == datetime.date(2018, 12, 17)) ]['time'].value_counts()"
   ]
  },
  {
   "cell_type": "code",
   "execution_count": 32,
   "metadata": {
    "ExecuteTime": {
     "end_time": "2019-05-28T02:13:36.544368Z",
     "start_time": "2019-05-28T02:13:36.411771Z"
    }
   },
   "outputs": [
    {
     "data": {
      "text/html": [
       "<div>\n",
       "<style scoped>\n",
       "    .dataframe tbody tr th:only-of-type {\n",
       "        vertical-align: middle;\n",
       "    }\n",
       "\n",
       "    .dataframe tbody tr th {\n",
       "        vertical-align: top;\n",
       "    }\n",
       "\n",
       "    .dataframe thead th {\n",
       "        text-align: right;\n",
       "    }\n",
       "</style>\n",
       "<table border=\"1\" class=\"dataframe\">\n",
       "  <thead>\n",
       "    <tr style=\"text-align: right;\">\n",
       "      <th></th>\n",
       "      <th>지점</th>\n",
       "      <th>일시</th>\n",
       "      <th>temperature</th>\n",
       "      <th>wind</th>\n",
       "      <th>rain</th>\n",
       "      <th>일자</th>\n",
       "      <th>district</th>\n",
       "      <th>id</th>\n",
       "      <th>time</th>\n",
       "    </tr>\n",
       "  </thead>\n",
       "  <tbody>\n",
       "    <tr>\n",
       "      <th>0</th>\n",
       "      <td>400</td>\n",
       "      <td>2018-01-01 00:00:00</td>\n",
       "      <td>-0.7</td>\n",
       "      <td>1.1</td>\n",
       "      <td>0.0</td>\n",
       "      <td>2018-01-01</td>\n",
       "      <td>강남구</td>\n",
       "      <td>400</td>\n",
       "      <td>0</td>\n",
       "    </tr>\n",
       "    <tr>\n",
       "      <th>1</th>\n",
       "      <td>400</td>\n",
       "      <td>2018-01-01 01:00:00</td>\n",
       "      <td>-0.9</td>\n",
       "      <td>0.9</td>\n",
       "      <td>0.0</td>\n",
       "      <td>2018-01-01</td>\n",
       "      <td>강남구</td>\n",
       "      <td>400</td>\n",
       "      <td>1</td>\n",
       "    </tr>\n",
       "    <tr>\n",
       "      <th>2</th>\n",
       "      <td>400</td>\n",
       "      <td>2018-01-01 02:00:00</td>\n",
       "      <td>-1.0</td>\n",
       "      <td>1.1</td>\n",
       "      <td>0.0</td>\n",
       "      <td>2018-01-01</td>\n",
       "      <td>강남구</td>\n",
       "      <td>400</td>\n",
       "      <td>2</td>\n",
       "    </tr>\n",
       "    <tr>\n",
       "      <th>3</th>\n",
       "      <td>400</td>\n",
       "      <td>2018-01-01 03:00:00</td>\n",
       "      <td>-1.1</td>\n",
       "      <td>1.5</td>\n",
       "      <td>0.0</td>\n",
       "      <td>2018-01-01</td>\n",
       "      <td>강남구</td>\n",
       "      <td>400</td>\n",
       "      <td>3</td>\n",
       "    </tr>\n",
       "    <tr>\n",
       "      <th>4</th>\n",
       "      <td>400</td>\n",
       "      <td>2018-01-01 04:00:00</td>\n",
       "      <td>-1.1</td>\n",
       "      <td>1.8</td>\n",
       "      <td>0.0</td>\n",
       "      <td>2018-01-01</td>\n",
       "      <td>강남구</td>\n",
       "      <td>400</td>\n",
       "      <td>4</td>\n",
       "    </tr>\n",
       "  </tbody>\n",
       "</table>\n",
       "</div>"
      ],
      "text/plain": [
       "    지점                  일시  temperature  wind  rain          일자 district   id  \\\n",
       "0  400 2018-01-01 00:00:00         -0.7   1.1   0.0  2018-01-01      강남구  400   \n",
       "1  400 2018-01-01 01:00:00         -0.9   0.9   0.0  2018-01-01      강남구  400   \n",
       "2  400 2018-01-01 02:00:00         -1.0   1.1   0.0  2018-01-01      강남구  400   \n",
       "3  400 2018-01-01 03:00:00         -1.1   1.5   0.0  2018-01-01      강남구  400   \n",
       "4  400 2018-01-01 04:00:00         -1.1   1.8   0.0  2018-01-01      강남구  400   \n",
       "\n",
       "   time  \n",
       "0     0  \n",
       "1     1  \n",
       "2     2  \n",
       "3     3  \n",
       "4     4  "
      ]
     },
     "execution_count": 32,
     "metadata": {},
     "output_type": "execute_result"
    }
   ],
   "source": [
    "merged = merged.drop(merged[(merged['일자'] == datetime.date(2018, 12, 17)) ].index).reset_index(drop = True)\n",
    "merged.head()"
   ]
  },
  {
   "cell_type": "code",
   "execution_count": 55,
   "metadata": {
    "ExecuteTime": {
     "end_time": "2019-05-28T03:29:00.968200Z",
     "start_time": "2019-05-28T03:29:00.871762Z"
    }
   },
   "outputs": [
    {
     "data": {
      "text/plain": [
       "지점             0\n",
       "일시             0\n",
       "temperature    0\n",
       "wind           0\n",
       "rain           0\n",
       "일자             0\n",
       "district       0\n",
       "id             0\n",
       "time           0\n",
       "dtype: int64"
      ]
     },
     "execution_count": 55,
     "metadata": {},
     "output_type": "execute_result"
    }
   ],
   "source": [
    "merged.isnull().sum()"
   ]
  },
  {
   "cell_type": "markdown",
   "metadata": {},
   "source": [
    "# 적설량"
   ]
  },
  {
   "cell_type": "code",
   "execution_count": 71,
   "metadata": {
    "ExecuteTime": {
     "end_time": "2019-05-28T03:34:17.735888Z",
     "start_time": "2019-05-28T03:34:17.719975Z"
    }
   },
   "outputs": [],
   "source": [
    "snow_2018 = pd.read_csv(path + file_list[1], encoding = \"utf-8\", parse_dates = [0], usecols = [1,2])\n",
    "snow_2019 = pd.read_csv(path + file_list[2], encoding = \"utf-8\", parse_dates = [0], usecols = [1,2])"
   ]
  },
  {
   "cell_type": "code",
   "execution_count": 72,
   "metadata": {
    "ExecuteTime": {
     "end_time": "2019-05-28T03:34:20.535937Z",
     "start_time": "2019-05-28T03:34:20.527959Z"
    }
   },
   "outputs": [],
   "source": [
    "snow_2018['일자'] = snow_2018['일시'].dt.date\n",
    "snow_2018['time'] = snow_2018['일시'].dt.hour\n",
    "\n",
    "snow_2019['일자'] = snow_2019['일시'].dt.date\n",
    "snow_2019['time'] = snow_2019['일시'].dt.hour"
   ]
  },
  {
   "cell_type": "code",
   "execution_count": 73,
   "metadata": {
    "ExecuteTime": {
     "end_time": "2019-05-28T03:34:30.856610Z",
     "start_time": "2019-05-28T03:34:30.848664Z"
    }
   },
   "outputs": [
    {
     "data": {
      "text/plain": [
       "2018-01-08     5\n",
       "2018-01-09    16\n",
       "2018-01-10    17\n",
       "2018-01-13     5\n",
       "2018-01-22     7\n",
       "2018-01-23    24\n",
       "2018-01-24    24\n",
       "2018-01-25    24\n",
       "2018-01-26    24\n",
       "2018-01-27    15\n",
       "2018-01-30     7\n",
       "2018-01-31    24\n",
       "2018-02-01    15\n",
       "2018-02-03     9\n",
       "2018-02-23    14\n",
       "2018-11-24    17\n",
       "2018-11-25    24\n",
       "2018-11-26    10\n",
       "2018-12-13     6\n",
       "2018-12-16     1\n",
       "Name: 일자, dtype: int64"
      ]
     },
     "execution_count": 73,
     "metadata": {},
     "output_type": "execute_result"
    }
   ],
   "source": [
    "snow_2018['일자'].value_counts().sort_index()"
   ]
  },
  {
   "cell_type": "code",
   "execution_count": 74,
   "metadata": {
    "ExecuteTime": {
     "end_time": "2019-05-28T03:34:33.262622Z",
     "start_time": "2019-05-28T03:34:33.254643Z"
    }
   },
   "outputs": [
    {
     "data": {
      "text/plain": [
       "2019-02-01     5\n",
       "2019-02-02    11\n",
       "2019-02-07     5\n",
       "2019-02-15    14\n",
       "2019-02-16    12\n",
       "2019-02-19    20\n",
       "2019-02-20    13\n",
       "Name: 일자, dtype: int64"
      ]
     },
     "execution_count": 74,
     "metadata": {},
     "output_type": "execute_result"
    }
   ],
   "source": [
    "snow_2019['일자'].value_counts().sort_index()"
   ]
  },
  {
   "cell_type": "markdown",
   "metadata": {},
   "source": [
    "- 2018년과 2019년에 적설량이 존재하는 날짜는 저정도!\n",
    "- 나머지는 눈이 쌓이지 않았다는 가정하에 0으로"
   ]
  },
  {
   "cell_type": "code",
   "execution_count": 81,
   "metadata": {
    "ExecuteTime": {
     "end_time": "2019-05-28T03:36:59.389452Z",
     "start_time": "2019-05-28T03:36:59.383468Z"
    }
   },
   "outputs": [
    {
     "data": {
      "text/plain": [
       "(288913, 9)"
      ]
     },
     "execution_count": 81,
     "metadata": {},
     "output_type": "execute_result"
    }
   ],
   "source": [
    "merged.shape"
   ]
  },
  {
   "cell_type": "code",
   "execution_count": 83,
   "metadata": {
    "ExecuteTime": {
     "end_time": "2019-05-28T03:37:21.841968Z",
     "start_time": "2019-05-28T03:37:21.704978Z"
    }
   },
   "outputs": [],
   "source": [
    "merged = pd.merge(merged, snow_2018, how = 'left')"
   ]
  },
  {
   "cell_type": "code",
   "execution_count": 87,
   "metadata": {
    "ExecuteTime": {
     "end_time": "2019-05-28T03:38:05.259248Z",
     "start_time": "2019-05-28T03:38:05.194360Z"
    }
   },
   "outputs": [],
   "source": [
    "merged = merged.fillna(0)"
   ]
  },
  {
   "cell_type": "code",
   "execution_count": 88,
   "metadata": {
    "ExecuteTime": {
     "end_time": "2019-05-28T03:38:12.709622Z",
     "start_time": "2019-05-28T03:38:12.632827Z"
    }
   },
   "outputs": [
    {
     "data": {
      "text/plain": [
       "지점             0\n",
       "일시             0\n",
       "temperature    0\n",
       "wind           0\n",
       "rain           0\n",
       "일자             0\n",
       "district       0\n",
       "id             0\n",
       "time           0\n",
       "snow           0\n",
       "dtype: int64"
      ]
     },
     "execution_count": 88,
     "metadata": {},
     "output_type": "execute_result"
    }
   ],
   "source": [
    "merged.isnull().sum()"
   ]
  },
  {
   "cell_type": "code",
   "execution_count": 89,
   "metadata": {
    "ExecuteTime": {
     "end_time": "2019-05-28T03:39:34.685378Z",
     "start_time": "2019-05-28T03:39:31.509886Z"
    }
   },
   "outputs": [],
   "source": [
    "#merged.to_csv('../data/weather_merged.csv',index = False)"
   ]
  }
 ],
 "metadata": {
  "hide_input": false,
  "kernelspec": {
   "display_name": "Python 3",
   "language": "python",
   "name": "python3"
  },
  "language_info": {
   "codemirror_mode": {
    "name": "ipython",
    "version": 3
   },
   "file_extension": ".py",
   "mimetype": "text/x-python",
   "name": "python",
   "nbconvert_exporter": "python",
   "pygments_lexer": "ipython3",
   "version": "3.7.1"
  },
  "toc": {
   "base_numbering": 1,
   "nav_menu": {},
   "number_sections": true,
   "sideBar": true,
   "skip_h1_title": false,
   "title_cell": "Table of Contents",
   "title_sidebar": "Contents",
   "toc_cell": false,
   "toc_position": {
    "height": "calc(100% - 180px)",
    "left": "10px",
    "top": "150px",
    "width": "279.273px"
   },
   "toc_section_display": true,
   "toc_window_display": true
  }
 },
 "nbformat": 4,
 "nbformat_minor": 2
}
