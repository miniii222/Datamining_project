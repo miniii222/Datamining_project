{
 "cells": [
  {
   "cell_type": "code",
   "execution_count": 1,
   "metadata": {
    "ExecuteTime": {
     "end_time": "2019-06-07T10:46:23.667658Z",
     "start_time": "2019-06-07T10:46:21.954792Z"
    }
   },
   "outputs": [
    {
     "data": {
      "text/plain": [
       "['accident11.xlsx',\n",
       " 'accident_new.csv',\n",
       " 'airpollution36912.csv',\n",
       " 'carspeed_201801.csv',\n",
       " 'carspeed_201804.csv',\n",
       " 'carspeed_201807.csv',\n",
       " 'carspeed_201809.csv',\n",
       " 'carspeed_201810.csv',\n",
       " 'carspeed_201812.csv',\n",
       " 'dust1.csv',\n",
       " 'dust_final.csv',\n",
       " 'final',\n",
       " 'gugucon.csv',\n",
       " 'holiday.csv',\n",
       " 'intersection.csv',\n",
       " 'road_info.csv',\n",
       " 'weather_merged.csv']"
      ]
     },
     "execution_count": 1,
     "metadata": {},
     "output_type": "execute_result"
    }
   ],
   "source": [
    "import pandas as pd\n",
    "import os\n",
    "\n",
    "os.listdir('../data')"
   ]
  },
  {
   "cell_type": "code",
   "execution_count": 69,
   "metadata": {
    "ExecuteTime": {
     "end_time": "2019-06-07T07:48:37.817759Z",
     "start_time": "2019-06-07T07:48:26.216961Z"
    }
   },
   "outputs": [
    {
     "name": "stdout",
     "output_type": "stream",
     "text": [
      "shape 1 :  (147466, 22)\n",
      "shape 4 :  (8940, 25)\n",
      "shape 7 :  (146543, 25)\n",
      "shape 9 :  (141827, 26)\n",
      "shape 10 :  (9238, 26)\n",
      "shape 12 :  (9238, 26)\n"
     ]
    }
   ],
   "source": [
    "carspeed1 = pd.read_csv('../data/carspeed_201801.csv')\n",
    "carspeed4 = pd.read_csv('../data/carspeed_201804.csv')\n",
    "carspeed7 = pd.read_csv('../data/carspeed_201807.csv')\n",
    "carspeed9 = pd.read_csv('../data/carspeed_201809.csv')\n",
    "carspeed10 = pd.read_csv('../data/carspeed_201810.csv')\n",
    "carspeed12 = pd.read_csv('../data/carspeed_201812.csv')\n",
    "\n",
    "print('shape 1 : ', carspeed1.shape)\n",
    "print('shape 4 : ', carspeed4.shape)\n",
    "print('shape 7 : ', carspeed7.shape)\n",
    "print('shape 9 : ', carspeed9.shape)\n",
    "print('shape 10 : ', carspeed10.shape)\n",
    "print('shape 12 : ', carspeed12.shape)"
   ]
  },
  {
   "cell_type": "code",
   "execution_count": 70,
   "metadata": {
    "ExecuteTime": {
     "end_time": "2019-06-07T07:48:37.834977Z",
     "start_time": "2019-06-07T07:48:37.823757Z"
    }
   },
   "outputs": [
    {
     "data": {
      "text/plain": [
       "Index(['일자', '요일', '도로명', '링크아이디', '시점명', '종점명', '방향', '거리', '기능유형구분',\n",
       "       '도심/외곽구분', '권역구분', '10시', '11시', '12시', '13시', '14시', '15시', '16시',\n",
       "       '17시', '18시', '19시', '20시', '21시', '22시', '23시'],\n",
       "      dtype='object')"
      ]
     },
     "execution_count": 70,
     "metadata": {},
     "output_type": "execute_result"
    }
   ],
   "source": [
    "carspeed7.columns"
   ]
  },
  {
   "cell_type": "markdown",
   "metadata": {},
   "source": [
    "# common link"
   ]
  },
  {
   "cell_type": "code",
   "execution_count": 71,
   "metadata": {
    "ExecuteTime": {
     "end_time": "2019-06-07T07:48:37.898633Z",
     "start_time": "2019-06-07T07:48:37.837251Z"
    }
   },
   "outputs": [
    {
     "data": {
      "text/plain": [
       "298"
      ]
     },
     "execution_count": 71,
     "metadata": {},
     "output_type": "execute_result"
    }
   ],
   "source": [
    "common_link = set(carspeed1.링크아이디).intersection(set(carspeed4.링크아이디)).intersection(set(carspeed7.링크아이디)).intersection(set(carspeed9.링크아이디)).intersection(set(carspeed10.링크아이디)).intersection(set(carspeed12.링크아이디))\n",
    "len(common_link)"
   ]
  },
  {
   "cell_type": "code",
   "execution_count": 72,
   "metadata": {
    "ExecuteTime": {
     "end_time": "2019-06-07T07:48:37.969144Z",
     "start_time": "2019-06-07T07:48:37.904246Z"
    },
    "scrolled": true
   },
   "outputs": [
    {
     "name": "stdout",
     "output_type": "stream",
     "text": [
      "shape 1 :  (9238, 22)\n",
      "shape 4 :  (8940, 25)\n",
      "shape 7 :  (9238, 25)\n",
      "shape 9 :  (8931, 26)\n",
      "shape 10 :  (9238, 26)\n",
      "shape 12 :  (9238, 26)\n"
     ]
    }
   ],
   "source": [
    "carspeed1 = carspeed1[carspeed1.링크아이디.isin(common_link)]\n",
    "carspeed4 = carspeed4[carspeed4.링크아이디.isin(common_link)]\n",
    "carspeed7 = carspeed7[carspeed7.링크아이디.isin(common_link)]\n",
    "carspeed9 = carspeed9[carspeed9.링크아이디.isin(common_link)]\n",
    "carspeed10 = carspeed10[carspeed10.링크아이디.isin(common_link)]\n",
    "carspeed12 = carspeed12[carspeed12.링크아이디.isin(common_link)]\n",
    "\n",
    "print('shape 1 : ', carspeed1.shape)\n",
    "print('shape 4 : ', carspeed4.shape)\n",
    "print('shape 7 : ', carspeed7.shape)\n",
    "print('shape 9 : ', carspeed9.shape)\n",
    "print('shape 10 : ', carspeed10.shape)\n",
    "print('shape 12 : ', carspeed12.shape)"
   ]
  },
  {
   "cell_type": "code",
   "execution_count": 73,
   "metadata": {
    "ExecuteTime": {
     "end_time": "2019-06-07T07:48:37.984326Z",
     "start_time": "2019-06-07T07:48:37.973991Z"
    }
   },
   "outputs": [
    {
     "data": {
      "text/plain": [
       "set()"
      ]
     },
     "execution_count": 73,
     "metadata": {},
     "output_type": "execute_result"
    }
   ],
   "source": [
    "set(carspeed12.columns) - set(carspeed9.columns)"
   ]
  },
  {
   "cell_type": "code",
   "execution_count": 74,
   "metadata": {
    "ExecuteTime": {
     "end_time": "2019-06-07T07:48:37.998725Z",
     "start_time": "2019-06-07T07:48:37.987388Z"
    }
   },
   "outputs": [
    {
     "data": {
      "text/plain": [
       "1230001500    30\n",
       "1230001600    30\n",
       "Name: 링크아이디, dtype: int64"
      ]
     },
     "execution_count": 74,
     "metadata": {},
     "output_type": "execute_result"
    }
   ],
   "source": [
    "carspeed9[carspeed9.차선수.isnull()].링크아이디.value_counts()"
   ]
  },
  {
   "cell_type": "code",
   "execution_count": 75,
   "metadata": {
    "ExecuteTime": {
     "end_time": "2019-06-07T07:48:38.091489Z",
     "start_time": "2019-06-07T07:48:38.002715Z"
    }
   },
   "outputs": [],
   "source": [
    "carspeed9.loc[carspeed9.링크아이디 == 1230001500, '차선수'] = 0\n",
    "carspeed9.loc[carspeed9.링크아이디 == 1230001600, '차선수'] = 0"
   ]
  },
  {
   "cell_type": "markdown",
   "metadata": {},
   "source": [
    "# road info"
   ]
  },
  {
   "cell_type": "code",
   "execution_count": 76,
   "metadata": {
    "ExecuteTime": {
     "end_time": "2019-06-07T07:48:40.117467Z",
     "start_time": "2019-06-07T07:48:40.088663Z"
    }
   },
   "outputs": [
    {
     "data": {
      "text/html": [
       "<div>\n",
       "<style scoped>\n",
       "    .dataframe tbody tr th:only-of-type {\n",
       "        vertical-align: middle;\n",
       "    }\n",
       "\n",
       "    .dataframe tbody tr th {\n",
       "        vertical-align: top;\n",
       "    }\n",
       "\n",
       "    .dataframe thead th {\n",
       "        text-align: right;\n",
       "    }\n",
       "</style>\n",
       "<table border=\"1\" class=\"dataframe\">\n",
       "  <thead>\n",
       "    <tr style=\"text-align: right;\">\n",
       "      <th></th>\n",
       "      <th>링크아이디</th>\n",
       "      <th>권역구분</th>\n",
       "      <th>기능유형구분</th>\n",
       "      <th>도심/외곽구분</th>\n",
       "      <th>차선수</th>\n",
       "    </tr>\n",
       "  </thead>\n",
       "  <tbody>\n",
       "    <tr>\n",
       "      <th>0</th>\n",
       "      <td>1210002700</td>\n",
       "      <td>강남구</td>\n",
       "      <td>주간선도로</td>\n",
       "      <td>외곽</td>\n",
       "      <td>4</td>\n",
       "    </tr>\n",
       "    <tr>\n",
       "      <th>1</th>\n",
       "      <td>1210006400</td>\n",
       "      <td>강남구</td>\n",
       "      <td>도시고속도로</td>\n",
       "      <td>외곽</td>\n",
       "      <td>5</td>\n",
       "    </tr>\n",
       "    <tr>\n",
       "      <th>2</th>\n",
       "      <td>1210007000</td>\n",
       "      <td>강남구</td>\n",
       "      <td>주간선도로</td>\n",
       "      <td>외곽</td>\n",
       "      <td>3</td>\n",
       "    </tr>\n",
       "  </tbody>\n",
       "</table>\n",
       "</div>"
      ],
      "text/plain": [
       "        링크아이디 권역구분  기능유형구분 도심/외곽구분  차선수\n",
       "0  1210002700  강남구   주간선도로      외곽    4\n",
       "1  1210006400  강남구  도시고속도로      외곽    5\n",
       "2  1210007000  강남구   주간선도로      외곽    3"
      ]
     },
     "execution_count": 76,
     "metadata": {},
     "output_type": "execute_result"
    }
   ],
   "source": [
    "road_features = carspeed12.groupby('링크아이디')['권역구분', '기능유형구분','도심/외곽구분','차선수'].first()\n",
    "road_features = road_features.reset_index()\n",
    "road_features.head(3)"
   ]
  },
  {
   "cell_type": "code",
   "execution_count": 77,
   "metadata": {
    "ExecuteTime": {
     "end_time": "2019-06-07T07:48:40.727521Z",
     "start_time": "2019-06-07T07:48:40.656735Z"
    }
   },
   "outputs": [
    {
     "name": "stdout",
     "output_type": "stream",
     "text": [
      "shape 1 :  (9238, 26)\n",
      "shape 4 :  (8940, 26)\n",
      "shape 7 :  (9238, 26)\n",
      "shape 9 :  (8931, 26)\n",
      "shape 10 :  (9238, 26)\n",
      "shape 12 :  (9238, 26)\n"
     ]
    }
   ],
   "source": [
    "carspeed1 = pd.merge(carspeed1, road_features[['링크아이디', '차선수','기능유형구분', '권역구분', '도심/외곽구분']], how = 'left')\n",
    "carspeed4 = pd.merge(carspeed4, road_features[['링크아이디', '차선수']], how = 'left')\n",
    "carspeed7 = pd.merge(carspeed7, road_features[['링크아이디', '차선수']], how = 'left')\n",
    "\n",
    "#column 순서\n",
    "carspeed1 = carspeed1.loc[:,carspeed12.columns]\n",
    "carspeed4 = carspeed4.loc[:,carspeed12.columns]\n",
    "carspeed7 = carspeed7.loc[:,carspeed12.columns]\n",
    "carspeed9 = carspeed9.loc[:,carspeed12.columns]\n",
    "carspeed10 = carspeed10.loc[:,carspeed12.columns]\n",
    "\n",
    "print('shape 1 : ', carspeed1.shape)\n",
    "print('shape 4 : ', carspeed4.shape)\n",
    "print('shape 7 : ', carspeed7.shape)\n",
    "print('shape 9 : ', carspeed9.shape)\n",
    "print('shape 10 : ', carspeed10.shape)\n",
    "print('shape 12 : ', carspeed12.shape)"
   ]
  },
  {
   "cell_type": "markdown",
   "metadata": {},
   "source": [
    "# data 합치기"
   ]
  },
  {
   "cell_type": "code",
   "execution_count": 78,
   "metadata": {
    "ExecuteTime": {
     "end_time": "2019-06-07T07:48:41.853864Z",
     "start_time": "2019-06-07T07:48:41.816650Z"
    }
   },
   "outputs": [],
   "source": [
    "carspeed = pd.concat([carspeed1, carspeed4, carspeed7, carspeed9, carspeed10, carspeed12])\n",
    "del carspeed1, carspeed4, carspeed7, carspeed9, carspeed10, carspeed12 #메모리 관리를 위해 각 월 별 데이터는 삭제"
   ]
  },
  {
   "cell_type": "code",
   "execution_count": 79,
   "metadata": {
    "ExecuteTime": {
     "end_time": "2019-06-07T07:48:42.632214Z",
     "start_time": "2019-06-07T07:48:42.544512Z"
    }
   },
   "outputs": [
    {
     "data": {
      "text/plain": [
       "일자           0\n",
       "요일           0\n",
       "도로명          0\n",
       "링크아이디        0\n",
       "시점명          0\n",
       "종점명          0\n",
       "방향           0\n",
       "거리           0\n",
       "차선수          0\n",
       "기능유형구분       0\n",
       "도심/외곽구분      0\n",
       "권역구분         0\n",
       "10시        303\n",
       "11시        603\n",
       "12시         24\n",
       "13시          3\n",
       "14시          1\n",
       "15시          1\n",
       "16시          1\n",
       "17시        299\n",
       "18시          4\n",
       "19시         21\n",
       "20시          7\n",
       "21시          4\n",
       "22시          4\n",
       "23시          3\n",
       "dtype: int64"
      ]
     },
     "execution_count": 79,
     "metadata": {},
     "output_type": "execute_result"
    }
   ],
   "source": [
    "carspeed.isnull().sum()"
   ]
  },
  {
   "cell_type": "markdown",
   "metadata": {},
   "source": [
    "# 중복값 삭제"
   ]
  },
  {
   "cell_type": "code",
   "execution_count": 80,
   "metadata": {
    "ExecuteTime": {
     "end_time": "2019-06-07T07:48:44.688663Z",
     "start_time": "2019-06-07T07:48:44.600516Z"
    }
   },
   "outputs": [
    {
     "data": {
      "text/plain": [
       "705"
      ]
     },
     "execution_count": 80,
     "metadata": {},
     "output_type": "execute_result"
    }
   ],
   "source": [
    "carspeed[['링크아이디','10시', '11시', '12시', '13시', '14시', '15시', '16시','17시', '18시', '19시', '20시', '21시', '22시', '23시']].duplicated().sum()"
   ]
  },
  {
   "cell_type": "code",
   "execution_count": 81,
   "metadata": {
    "ExecuteTime": {
     "end_time": "2019-06-07T07:48:45.095815Z",
     "start_time": "2019-06-07T07:48:44.963968Z"
    }
   },
   "outputs": [
    {
     "data": {
      "text/plain": [
       "(54070, 26)"
      ]
     },
     "execution_count": 81,
     "metadata": {},
     "output_type": "execute_result"
    }
   ],
   "source": [
    "col_dup = ['링크아이디','10시', '11시', '12시', '13시', '14시', '15시', '16시','17시', '18시', '19시',\n",
    "                            '20시', '21시', '22시', '23시']\n",
    "\n",
    "carspeed = carspeed.drop_duplicates(col_dup, keep = False)\n",
    "carspeed.shape"
   ]
  },
  {
   "cell_type": "markdown",
   "metadata": {},
   "source": [
    "# holiday"
   ]
  },
  {
   "cell_type": "code",
   "execution_count": 82,
   "metadata": {
    "ExecuteTime": {
     "end_time": "2019-06-07T07:48:47.996625Z",
     "start_time": "2019-06-07T07:48:47.969029Z"
    }
   },
   "outputs": [
    {
     "data": {
      "text/html": [
       "<div>\n",
       "<style scoped>\n",
       "    .dataframe tbody tr th:only-of-type {\n",
       "        vertical-align: middle;\n",
       "    }\n",
       "\n",
       "    .dataframe tbody tr th {\n",
       "        vertical-align: top;\n",
       "    }\n",
       "\n",
       "    .dataframe thead th {\n",
       "        text-align: right;\n",
       "    }\n",
       "</style>\n",
       "<table border=\"1\" class=\"dataframe\">\n",
       "  <thead>\n",
       "    <tr style=\"text-align: right;\">\n",
       "      <th></th>\n",
       "      <th>일자</th>\n",
       "      <th>holiday</th>\n",
       "      <th>special</th>\n",
       "      <th>vacation</th>\n",
       "    </tr>\n",
       "  </thead>\n",
       "  <tbody>\n",
       "    <tr>\n",
       "      <th>0</th>\n",
       "      <td>20180101</td>\n",
       "      <td>1</td>\n",
       "      <td>0</td>\n",
       "      <td>0</td>\n",
       "    </tr>\n",
       "    <tr>\n",
       "      <th>1</th>\n",
       "      <td>20180102</td>\n",
       "      <td>0</td>\n",
       "      <td>0</td>\n",
       "      <td>0</td>\n",
       "    </tr>\n",
       "    <tr>\n",
       "      <th>2</th>\n",
       "      <td>20180103</td>\n",
       "      <td>0</td>\n",
       "      <td>0</td>\n",
       "      <td>0</td>\n",
       "    </tr>\n",
       "  </tbody>\n",
       "</table>\n",
       "</div>"
      ],
      "text/plain": [
       "         일자  holiday  special  vacation\n",
       "0  20180101        1        0         0\n",
       "1  20180102        0        0         0\n",
       "2  20180103        0        0         0"
      ]
     },
     "execution_count": 82,
     "metadata": {},
     "output_type": "execute_result"
    }
   ],
   "source": [
    "holiday = pd.read_csv('../data/holiday.csv',sep = '\\t')\n",
    "holiday.rename(columns = {'date' : '일자'}, inplace = True)\n",
    "holiday.head(3)"
   ]
  },
  {
   "cell_type": "code",
   "execution_count": 83,
   "metadata": {
    "ExecuteTime": {
     "end_time": "2019-06-07T07:48:48.327872Z",
     "start_time": "2019-06-07T07:48:48.257337Z"
    }
   },
   "outputs": [
    {
     "data": {
      "text/plain": [
       "(54070, 29)"
      ]
     },
     "execution_count": 83,
     "metadata": {},
     "output_type": "execute_result"
    }
   ],
   "source": [
    "carspeed = pd.merge(carspeed, holiday, on = '일자')\n",
    "carspeed.shape"
   ]
  },
  {
   "cell_type": "markdown",
   "metadata": {},
   "source": [
    "# melt"
   ]
  },
  {
   "cell_type": "code",
   "execution_count": 84,
   "metadata": {
    "ExecuteTime": {
     "end_time": "2019-06-07T07:48:49.409259Z",
     "start_time": "2019-06-07T07:48:49.346900Z"
    }
   },
   "outputs": [
    {
     "data": {
      "text/html": [
       "<div>\n",
       "<style scoped>\n",
       "    .dataframe tbody tr th:only-of-type {\n",
       "        vertical-align: middle;\n",
       "    }\n",
       "\n",
       "    .dataframe tbody tr th {\n",
       "        vertical-align: top;\n",
       "    }\n",
       "\n",
       "    .dataframe thead th {\n",
       "        text-align: right;\n",
       "    }\n",
       "</style>\n",
       "<table border=\"1\" class=\"dataframe\">\n",
       "  <thead>\n",
       "    <tr style=\"text-align: right;\">\n",
       "      <th></th>\n",
       "      <th>일자</th>\n",
       "      <th>요일</th>\n",
       "      <th>도로명</th>\n",
       "      <th>링크아이디</th>\n",
       "      <th>시점명</th>\n",
       "      <th>종점명</th>\n",
       "      <th>방향</th>\n",
       "      <th>거리</th>\n",
       "      <th>차선수</th>\n",
       "      <th>기능유형구분</th>\n",
       "      <th>...</th>\n",
       "      <th>14시</th>\n",
       "      <th>15시</th>\n",
       "      <th>16시</th>\n",
       "      <th>17시</th>\n",
       "      <th>18시</th>\n",
       "      <th>19시</th>\n",
       "      <th>20시</th>\n",
       "      <th>21시</th>\n",
       "      <th>22시</th>\n",
       "      <th>23시</th>\n",
       "    </tr>\n",
       "  </thead>\n",
       "  <tbody>\n",
       "    <tr>\n",
       "      <th>0</th>\n",
       "      <td>20180101</td>\n",
       "      <td>월</td>\n",
       "      <td>강남대로</td>\n",
       "      <td>1220021100</td>\n",
       "      <td>우성아파트</td>\n",
       "      <td>강남역</td>\n",
       "      <td>상행</td>\n",
       "      <td>586</td>\n",
       "      <td>5.0</td>\n",
       "      <td>주간선도로</td>\n",
       "      <td>...</td>\n",
       "      <td>24.54</td>\n",
       "      <td>24.78</td>\n",
       "      <td>25.33</td>\n",
       "      <td>23.92</td>\n",
       "      <td>23.55</td>\n",
       "      <td>23.56</td>\n",
       "      <td>25.49</td>\n",
       "      <td>23.63</td>\n",
       "      <td>25.61</td>\n",
       "      <td>22.44</td>\n",
       "    </tr>\n",
       "    <tr>\n",
       "      <th>1</th>\n",
       "      <td>20180101</td>\n",
       "      <td>월</td>\n",
       "      <td>강남대로</td>\n",
       "      <td>1220016200</td>\n",
       "      <td>우성아파트</td>\n",
       "      <td>뱅뱅사거리</td>\n",
       "      <td>하행</td>\n",
       "      <td>414</td>\n",
       "      <td>5.0</td>\n",
       "      <td>주간선도로</td>\n",
       "      <td>...</td>\n",
       "      <td>30.99</td>\n",
       "      <td>28.08</td>\n",
       "      <td>27.79</td>\n",
       "      <td>26.96</td>\n",
       "      <td>28.18</td>\n",
       "      <td>27.47</td>\n",
       "      <td>27.71</td>\n",
       "      <td>27.42</td>\n",
       "      <td>26.72</td>\n",
       "      <td>28.18</td>\n",
       "    </tr>\n",
       "    <tr>\n",
       "      <th>2</th>\n",
       "      <td>20180101</td>\n",
       "      <td>월</td>\n",
       "      <td>개포로</td>\n",
       "      <td>1220020500</td>\n",
       "      <td>대청초교</td>\n",
       "      <td>대청역</td>\n",
       "      <td>상행</td>\n",
       "      <td>862</td>\n",
       "      <td>2.0</td>\n",
       "      <td>기타도로</td>\n",
       "      <td>...</td>\n",
       "      <td>22.22</td>\n",
       "      <td>28.02</td>\n",
       "      <td>23.21</td>\n",
       "      <td>20.56</td>\n",
       "      <td>20.66</td>\n",
       "      <td>24.62</td>\n",
       "      <td>23.78</td>\n",
       "      <td>28.08</td>\n",
       "      <td>32.25</td>\n",
       "      <td>28.37</td>\n",
       "    </tr>\n",
       "  </tbody>\n",
       "</table>\n",
       "<p>3 rows × 29 columns</p>\n",
       "</div>"
      ],
      "text/plain": [
       "         일자 요일   도로명       링크아이디    시점명    종점명  방향   거리  차선수 기능유형구분  ...    \\\n",
       "0  20180101  월  강남대로  1220021100  우성아파트    강남역  상행  586  5.0  주간선도로  ...     \n",
       "1  20180101  월  강남대로  1220016200  우성아파트  뱅뱅사거리  하행  414  5.0  주간선도로  ...     \n",
       "2  20180101  월   개포로  1220020500   대청초교    대청역  상행  862  2.0   기타도로  ...     \n",
       "\n",
       "     14시    15시    16시    17시    18시    19시    20시    21시    22시    23시  \n",
       "0  24.54  24.78  25.33  23.92  23.55  23.56  25.49  23.63  25.61  22.44  \n",
       "1  30.99  28.08  27.79  26.96  28.18  27.47  27.71  27.42  26.72  28.18  \n",
       "2  22.22  28.02  23.21  20.56  20.66  24.62  23.78  28.08  32.25  28.37  \n",
       "\n",
       "[3 rows x 29 columns]"
      ]
     },
     "execution_count": 84,
     "metadata": {},
     "output_type": "execute_result"
    }
   ],
   "source": [
    "col = list(carspeed.columns[:12]) + ['holiday','special', 'vacation'] + list(carspeed.columns[12:26])\n",
    "carspeed = carspeed[col] # y를 맨 뒤로 보내기 위한 작업\n",
    "carspeed.head(3)"
   ]
  },
  {
   "cell_type": "code",
   "execution_count": 85,
   "metadata": {
    "ExecuteTime": {
     "end_time": "2019-06-07T07:48:50.381825Z",
     "start_time": "2019-06-07T07:48:50.049865Z"
    }
   },
   "outputs": [
    {
     "name": "stdout",
     "output_type": "stream",
     "text": [
      "(756980, 17)\n"
     ]
    },
    {
     "data": {
      "text/html": [
       "<div>\n",
       "<style scoped>\n",
       "    .dataframe tbody tr th:only-of-type {\n",
       "        vertical-align: middle;\n",
       "    }\n",
       "\n",
       "    .dataframe tbody tr th {\n",
       "        vertical-align: top;\n",
       "    }\n",
       "\n",
       "    .dataframe thead th {\n",
       "        text-align: right;\n",
       "    }\n",
       "</style>\n",
       "<table border=\"1\" class=\"dataframe\">\n",
       "  <thead>\n",
       "    <tr style=\"text-align: right;\">\n",
       "      <th></th>\n",
       "      <th>일자</th>\n",
       "      <th>요일</th>\n",
       "      <th>도로명</th>\n",
       "      <th>링크아이디</th>\n",
       "      <th>시점명</th>\n",
       "      <th>종점명</th>\n",
       "      <th>방향</th>\n",
       "      <th>거리</th>\n",
       "      <th>차선수</th>\n",
       "      <th>기능유형구분</th>\n",
       "      <th>도심/외곽구분</th>\n",
       "      <th>권역구분</th>\n",
       "      <th>holiday</th>\n",
       "      <th>special</th>\n",
       "      <th>vacation</th>\n",
       "      <th>variable</th>\n",
       "      <th>value</th>\n",
       "    </tr>\n",
       "  </thead>\n",
       "  <tbody>\n",
       "    <tr>\n",
       "      <th>0</th>\n",
       "      <td>20180101</td>\n",
       "      <td>월</td>\n",
       "      <td>강남대로</td>\n",
       "      <td>1220021100</td>\n",
       "      <td>우성아파트</td>\n",
       "      <td>강남역</td>\n",
       "      <td>상행</td>\n",
       "      <td>586</td>\n",
       "      <td>5.0</td>\n",
       "      <td>주간선도로</td>\n",
       "      <td>외곽</td>\n",
       "      <td>강남구</td>\n",
       "      <td>1</td>\n",
       "      <td>0</td>\n",
       "      <td>0</td>\n",
       "      <td>10시</td>\n",
       "      <td>26.26</td>\n",
       "    </tr>\n",
       "    <tr>\n",
       "      <th>1</th>\n",
       "      <td>20180101</td>\n",
       "      <td>월</td>\n",
       "      <td>강남대로</td>\n",
       "      <td>1220016200</td>\n",
       "      <td>우성아파트</td>\n",
       "      <td>뱅뱅사거리</td>\n",
       "      <td>하행</td>\n",
       "      <td>414</td>\n",
       "      <td>5.0</td>\n",
       "      <td>주간선도로</td>\n",
       "      <td>외곽</td>\n",
       "      <td>강남구</td>\n",
       "      <td>1</td>\n",
       "      <td>0</td>\n",
       "      <td>0</td>\n",
       "      <td>10시</td>\n",
       "      <td>34.66</td>\n",
       "    </tr>\n",
       "    <tr>\n",
       "      <th>2</th>\n",
       "      <td>20180101</td>\n",
       "      <td>월</td>\n",
       "      <td>개포로</td>\n",
       "      <td>1220020500</td>\n",
       "      <td>대청초교</td>\n",
       "      <td>대청역</td>\n",
       "      <td>상행</td>\n",
       "      <td>862</td>\n",
       "      <td>2.0</td>\n",
       "      <td>기타도로</td>\n",
       "      <td>외곽</td>\n",
       "      <td>강남구</td>\n",
       "      <td>1</td>\n",
       "      <td>0</td>\n",
       "      <td>0</td>\n",
       "      <td>10시</td>\n",
       "      <td>24.66</td>\n",
       "    </tr>\n",
       "  </tbody>\n",
       "</table>\n",
       "</div>"
      ],
      "text/plain": [
       "         일자 요일   도로명       링크아이디    시점명    종점명  방향   거리  차선수 기능유형구분 도심/외곽구분  \\\n",
       "0  20180101  월  강남대로  1220021100  우성아파트    강남역  상행  586  5.0  주간선도로      외곽   \n",
       "1  20180101  월  강남대로  1220016200  우성아파트  뱅뱅사거리  하행  414  5.0  주간선도로      외곽   \n",
       "2  20180101  월   개포로  1220020500   대청초교    대청역  상행  862  2.0   기타도로      외곽   \n",
       "\n",
       "  권역구분  holiday  special  vacation variable  value  \n",
       "0  강남구        1        0         0      10시  26.26  \n",
       "1  강남구        1        0         0      10시  34.66  \n",
       "2  강남구        1        0         0      10시  24.66  "
      ]
     },
     "execution_count": 85,
     "metadata": {},
     "output_type": "execute_result"
    }
   ],
   "source": [
    "col = carspeed.columns[:15]\n",
    "carspeed = pd.melt(carspeed, id_vars= col)\n",
    "print(carspeed.shape)\n",
    "carspeed.head(3)"
   ]
  },
  {
   "cell_type": "code",
   "execution_count": 86,
   "metadata": {
    "ExecuteTime": {
     "end_time": "2019-06-07T07:48:51.967902Z",
     "start_time": "2019-06-07T07:48:50.896773Z"
    }
   },
   "outputs": [],
   "source": [
    "carspeed.columns = ['date','days','road_name','link_id','start_point','end_point','direction','road_length','road_num',\n",
    "                    'road_type','urban_suburb','district','holiday', 'special', 'vacation','time','y']\n",
    "carspeed.time = carspeed.time.apply(lambda x : int(x[:2]))"
   ]
  },
  {
   "cell_type": "code",
   "execution_count": 87,
   "metadata": {
    "ExecuteTime": {
     "end_time": "2019-06-07T07:48:51.983361Z",
     "start_time": "2019-06-07T07:48:51.972130Z"
    }
   },
   "outputs": [
    {
     "data": {
      "text/plain": [
       "(756980, 17)"
      ]
     },
     "execution_count": 87,
     "metadata": {},
     "output_type": "execute_result"
    }
   ],
   "source": [
    "carspeed.shape"
   ]
  },
  {
   "cell_type": "markdown",
   "metadata": {},
   "source": [
    "# intersection"
   ]
  },
  {
   "cell_type": "code",
   "execution_count": 88,
   "metadata": {
    "ExecuteTime": {
     "end_time": "2019-06-07T07:48:53.083725Z",
     "start_time": "2019-06-07T07:48:53.056025Z"
    }
   },
   "outputs": [
    {
     "data": {
      "text/html": [
       "<div>\n",
       "<style scoped>\n",
       "    .dataframe tbody tr th:only-of-type {\n",
       "        vertical-align: middle;\n",
       "    }\n",
       "\n",
       "    .dataframe tbody tr th {\n",
       "        vertical-align: top;\n",
       "    }\n",
       "\n",
       "    .dataframe thead th {\n",
       "        text-align: right;\n",
       "    }\n",
       "</style>\n",
       "<table border=\"1\" class=\"dataframe\">\n",
       "  <thead>\n",
       "    <tr style=\"text-align: right;\">\n",
       "      <th></th>\n",
       "      <th>road_name</th>\n",
       "      <th>direction</th>\n",
       "      <th>inter_num</th>\n",
       "    </tr>\n",
       "  </thead>\n",
       "  <tbody>\n",
       "    <tr>\n",
       "      <th>0</th>\n",
       "      <td>4.19로</td>\n",
       "      <td>상행</td>\n",
       "      <td>2.0</td>\n",
       "    </tr>\n",
       "    <tr>\n",
       "      <th>1</th>\n",
       "      <td>가락로</td>\n",
       "      <td>상행</td>\n",
       "      <td>4.0</td>\n",
       "    </tr>\n",
       "    <tr>\n",
       "      <th>2</th>\n",
       "      <td>가로공원로</td>\n",
       "      <td>상행</td>\n",
       "      <td>4.0</td>\n",
       "    </tr>\n",
       "  </tbody>\n",
       "</table>\n",
       "</div>"
      ],
      "text/plain": [
       "  road_name direction  inter_num\n",
       "0     4.19로        상행        2.0\n",
       "1       가락로        상행        4.0\n",
       "2     가로공원로        상행        4.0"
      ]
     },
     "execution_count": 88,
     "metadata": {},
     "output_type": "execute_result"
    }
   ],
   "source": [
    "intersection = pd.read_csv('../data/intersection.csv')\n",
    "intersection = intersection.melt(id_vars = '도로명')\n",
    "intersection.columns = ['road_name','direction','inter_num']\n",
    "intersection.head(3)"
   ]
  },
  {
   "cell_type": "code",
   "execution_count": 89,
   "metadata": {
    "ExecuteTime": {
     "end_time": "2019-06-07T07:48:54.618025Z",
     "start_time": "2019-06-07T07:48:53.536811Z"
    }
   },
   "outputs": [
    {
     "data": {
      "text/plain": [
       "(756980, 18)"
      ]
     },
     "execution_count": 89,
     "metadata": {},
     "output_type": "execute_result"
    }
   ],
   "source": [
    "carspeed = pd.merge(carspeed, intersection, how = 'left', left_on = ['road_name','direction'], right_on = ['road_name','direction'])\n",
    "carspeed.shape"
   ]
  },
  {
   "cell_type": "markdown",
   "metadata": {},
   "source": [
    "# accident_new"
   ]
  },
  {
   "cell_type": "code",
   "execution_count": 90,
   "metadata": {
    "ExecuteTime": {
     "end_time": "2019-06-07T07:48:54.648054Z",
     "start_time": "2019-06-07T07:48:54.620759Z"
    }
   },
   "outputs": [
    {
     "data": {
      "text/html": [
       "<div>\n",
       "<style scoped>\n",
       "    .dataframe tbody tr th:only-of-type {\n",
       "        vertical-align: middle;\n",
       "    }\n",
       "\n",
       "    .dataframe tbody tr th {\n",
       "        vertical-align: top;\n",
       "    }\n",
       "\n",
       "    .dataframe thead th {\n",
       "        text-align: right;\n",
       "    }\n",
       "</style>\n",
       "<table border=\"1\" class=\"dataframe\">\n",
       "  <thead>\n",
       "    <tr style=\"text-align: right;\">\n",
       "      <th></th>\n",
       "      <th>road_name</th>\n",
       "      <th>d1</th>\n",
       "      <th>d2</th>\n",
       "      <th>d3</th>\n",
       "      <th>d4</th>\n",
       "      <th>victims</th>\n",
       "      <th>severity</th>\n",
       "      <th>accident_count</th>\n",
       "    </tr>\n",
       "  </thead>\n",
       "  <tbody>\n",
       "    <tr>\n",
       "      <th>0</th>\n",
       "      <td>4.19로</td>\n",
       "      <td>0</td>\n",
       "      <td>3</td>\n",
       "      <td>15</td>\n",
       "      <td>1</td>\n",
       "      <td>19</td>\n",
       "      <td>55</td>\n",
       "      <td>13</td>\n",
       "    </tr>\n",
       "    <tr>\n",
       "      <th>1</th>\n",
       "      <td>63로</td>\n",
       "      <td>0</td>\n",
       "      <td>0</td>\n",
       "      <td>3</td>\n",
       "      <td>1</td>\n",
       "      <td>4</td>\n",
       "      <td>10</td>\n",
       "      <td>3</td>\n",
       "    </tr>\n",
       "    <tr>\n",
       "      <th>2</th>\n",
       "      <td>가락로</td>\n",
       "      <td>0</td>\n",
       "      <td>20</td>\n",
       "      <td>50</td>\n",
       "      <td>15</td>\n",
       "      <td>85</td>\n",
       "      <td>225</td>\n",
       "      <td>70</td>\n",
       "    </tr>\n",
       "  </tbody>\n",
       "</table>\n",
       "</div>"
      ],
      "text/plain": [
       "  road_name  d1  d2  d3  d4  victims  severity  accident_count\n",
       "0     4.19로   0   3  15   1       19        55              13\n",
       "1       63로   0   0   3   1        4        10               3\n",
       "2       가락로   0  20  50  15       85       225              70"
      ]
     },
     "execution_count": 90,
     "metadata": {},
     "output_type": "execute_result"
    }
   ],
   "source": [
    "accident_new = pd.read_csv('../data/accident_new.csv')\n",
    "accident_new.columns = ['road_name','d1','d2','d3','d4','victims','severity','accident_count']\n",
    "accident_new.head(3)"
   ]
  },
  {
   "cell_type": "code",
   "execution_count": 91,
   "metadata": {
    "ExecuteTime": {
     "end_time": "2019-06-07T07:48:57.858198Z",
     "start_time": "2019-06-07T07:48:57.265484Z"
    }
   },
   "outputs": [
    {
     "data": {
      "text/plain": [
       "(756980, 25)"
      ]
     },
     "execution_count": 91,
     "metadata": {},
     "output_type": "execute_result"
    }
   ],
   "source": [
    "carspeed = pd.merge(carspeed, accident_new, how = 'left', left_on = ['road_name'], right_on = ['road_name'])\n",
    "carspeed.shape"
   ]
  },
  {
   "cell_type": "markdown",
   "metadata": {},
   "source": [
    "# weather"
   ]
  },
  {
   "cell_type": "code",
   "execution_count": 92,
   "metadata": {
    "ExecuteTime": {
     "end_time": "2019-06-07T07:49:01.887354Z",
     "start_time": "2019-06-07T07:48:59.411355Z"
    }
   },
   "outputs": [
    {
     "data": {
      "text/html": [
       "<div>\n",
       "<style scoped>\n",
       "    .dataframe tbody tr th:only-of-type {\n",
       "        vertical-align: middle;\n",
       "    }\n",
       "\n",
       "    .dataframe tbody tr th {\n",
       "        vertical-align: top;\n",
       "    }\n",
       "\n",
       "    .dataframe thead th {\n",
       "        text-align: right;\n",
       "    }\n",
       "</style>\n",
       "<table border=\"1\" class=\"dataframe\">\n",
       "  <thead>\n",
       "    <tr style=\"text-align: right;\">\n",
       "      <th></th>\n",
       "      <th>temperature</th>\n",
       "      <th>wind</th>\n",
       "      <th>rain</th>\n",
       "      <th>date</th>\n",
       "      <th>district</th>\n",
       "      <th>time</th>\n",
       "      <th>snow</th>\n",
       "    </tr>\n",
       "  </thead>\n",
       "  <tbody>\n",
       "    <tr>\n",
       "      <th>1</th>\n",
       "      <td>-0.9</td>\n",
       "      <td>0.9</td>\n",
       "      <td>0.0</td>\n",
       "      <td>20180101</td>\n",
       "      <td>강남구</td>\n",
       "      <td>1</td>\n",
       "      <td>0.0</td>\n",
       "    </tr>\n",
       "    <tr>\n",
       "      <th>2</th>\n",
       "      <td>-1.0</td>\n",
       "      <td>1.1</td>\n",
       "      <td>0.0</td>\n",
       "      <td>20180101</td>\n",
       "      <td>강남구</td>\n",
       "      <td>2</td>\n",
       "      <td>0.0</td>\n",
       "    </tr>\n",
       "    <tr>\n",
       "      <th>3</th>\n",
       "      <td>-1.1</td>\n",
       "      <td>1.5</td>\n",
       "      <td>0.0</td>\n",
       "      <td>20180101</td>\n",
       "      <td>강남구</td>\n",
       "      <td>3</td>\n",
       "      <td>0.0</td>\n",
       "    </tr>\n",
       "    <tr>\n",
       "      <th>4</th>\n",
       "      <td>-1.1</td>\n",
       "      <td>1.8</td>\n",
       "      <td>0.0</td>\n",
       "      <td>20180101</td>\n",
       "      <td>강남구</td>\n",
       "      <td>4</td>\n",
       "      <td>0.0</td>\n",
       "    </tr>\n",
       "    <tr>\n",
       "      <th>5</th>\n",
       "      <td>-1.4</td>\n",
       "      <td>1.3</td>\n",
       "      <td>0.0</td>\n",
       "      <td>20180101</td>\n",
       "      <td>강남구</td>\n",
       "      <td>5</td>\n",
       "      <td>0.0</td>\n",
       "    </tr>\n",
       "  </tbody>\n",
       "</table>\n",
       "</div>"
      ],
      "text/plain": [
       "   temperature  wind  rain      date district  time  snow\n",
       "1         -0.9   0.9   0.0  20180101      강남구     1   0.0\n",
       "2         -1.0   1.1   0.0  20180101      강남구     2   0.0\n",
       "3         -1.1   1.5   0.0  20180101      강남구     3   0.0\n",
       "4         -1.1   1.8   0.0  20180101      강남구     4   0.0\n",
       "5         -1.4   1.3   0.0  20180101      강남구     5   0.0"
      ]
     },
     "execution_count": 92,
     "metadata": {},
     "output_type": "execute_result"
    }
   ],
   "source": [
    "weather = pd.read_csv('../data/weather_merged.csv')\n",
    "weather = weather[weather.time !=0]\n",
    "weather = weather.drop(['지점','일시', 'id'],axis = 1)\n",
    "weather.rename(columns = {'일자' : 'date'}, inplace = True)\n",
    "weather['date'] = weather['date'].str.replace('-','')\n",
    "weather.head()"
   ]
  },
  {
   "cell_type": "code",
   "execution_count": 93,
   "metadata": {
    "ExecuteTime": {
     "end_time": "2019-06-07T07:49:02.881396Z",
     "start_time": "2019-06-07T07:49:01.891725Z"
    }
   },
   "outputs": [
    {
     "data": {
      "text/plain": [
       "(756980, 25)"
      ]
     },
     "execution_count": 93,
     "metadata": {},
     "output_type": "execute_result"
    }
   ],
   "source": [
    "#type 맞춰주기\n",
    "carspeed.date = carspeed.date.astype(str)\n",
    "carspeed.shape"
   ]
  },
  {
   "cell_type": "code",
   "execution_count": 94,
   "metadata": {
    "ExecuteTime": {
     "end_time": "2019-06-07T07:49:03.687496Z",
     "start_time": "2019-06-07T07:49:02.885769Z"
    }
   },
   "outputs": [
    {
     "data": {
      "text/plain": [
       "(748706, 29)"
      ]
     },
     "execution_count": 94,
     "metadata": {},
     "output_type": "execute_result"
    }
   ],
   "source": [
    "carspeed = pd.merge(carspeed, weather,left_on=['date','time','district'], right_on=['date','time','district'],how = 'inner')\n",
    "carspeed.shape"
   ]
  },
  {
   "cell_type": "markdown",
   "metadata": {},
   "source": [
    "# 도로정보"
   ]
  },
  {
   "cell_type": "code",
   "execution_count": 95,
   "metadata": {
    "ExecuteTime": {
     "end_time": "2019-06-07T07:49:04.070780Z",
     "start_time": "2019-06-07T07:49:04.027755Z"
    }
   },
   "outputs": [
    {
     "data": {
      "text/html": [
       "<div>\n",
       "<style scoped>\n",
       "    .dataframe tbody tr th:only-of-type {\n",
       "        vertical-align: middle;\n",
       "    }\n",
       "\n",
       "    .dataframe tbody tr th {\n",
       "        vertical-align: top;\n",
       "    }\n",
       "\n",
       "    .dataframe thead th {\n",
       "        text-align: right;\n",
       "    }\n",
       "</style>\n",
       "<table border=\"1\" class=\"dataframe\">\n",
       "  <thead>\n",
       "    <tr style=\"text-align: right;\">\n",
       "      <th></th>\n",
       "      <th>link_id</th>\n",
       "      <th>cctv</th>\n",
       "      <th>kids</th>\n",
       "      <th>speed_limit</th>\n",
       "      <th>entrance</th>\n",
       "      <th>signal</th>\n",
       "    </tr>\n",
       "  </thead>\n",
       "  <tbody>\n",
       "    <tr>\n",
       "      <th>0</th>\n",
       "      <td>1180021600</td>\n",
       "      <td>0</td>\n",
       "      <td>1</td>\n",
       "      <td>30</td>\n",
       "      <td>21</td>\n",
       "      <td>30</td>\n",
       "    </tr>\n",
       "    <tr>\n",
       "      <th>1</th>\n",
       "      <td>1180021200</td>\n",
       "      <td>0</td>\n",
       "      <td>1</td>\n",
       "      <td>30</td>\n",
       "      <td>21</td>\n",
       "      <td>30</td>\n",
       "    </tr>\n",
       "    <tr>\n",
       "      <th>2</th>\n",
       "      <td>1180019600</td>\n",
       "      <td>0</td>\n",
       "      <td>0</td>\n",
       "      <td>30</td>\n",
       "      <td>21</td>\n",
       "      <td>30</td>\n",
       "    </tr>\n",
       "    <tr>\n",
       "      <th>3</th>\n",
       "      <td>1180018800</td>\n",
       "      <td>0</td>\n",
       "      <td>0</td>\n",
       "      <td>30</td>\n",
       "      <td>21</td>\n",
       "      <td>30</td>\n",
       "    </tr>\n",
       "    <tr>\n",
       "      <th>4</th>\n",
       "      <td>1180018900</td>\n",
       "      <td>0</td>\n",
       "      <td>0</td>\n",
       "      <td>30</td>\n",
       "      <td>21</td>\n",
       "      <td>30</td>\n",
       "    </tr>\n",
       "  </tbody>\n",
       "</table>\n",
       "</div>"
      ],
      "text/plain": [
       "      link_id  cctv  kids  speed_limit  entrance  signal\n",
       "0  1180021600     0     1           30        21      30\n",
       "1  1180021200     0     1           30        21      30\n",
       "2  1180019600     0     0           30        21      30\n",
       "3  1180018800     0     0           30        21      30\n",
       "4  1180018900     0     0           30        21      30"
      ]
     },
     "execution_count": 95,
     "metadata": {},
     "output_type": "execute_result"
    }
   ],
   "source": [
    "road_info = pd.read_csv('../data/road_info.csv')\n",
    "road_info.head()"
   ]
  },
  {
   "cell_type": "code",
   "execution_count": 96,
   "metadata": {
    "ExecuteTime": {
     "end_time": "2019-06-07T07:49:05.421458Z",
     "start_time": "2019-06-07T07:49:05.409022Z"
    }
   },
   "outputs": [
    {
     "data": {
      "text/plain": [
       "link_id        0\n",
       "cctv           0\n",
       "kids           0\n",
       "speed_limit    0\n",
       "entrance       0\n",
       "signal         0\n",
       "dtype: int64"
      ]
     },
     "execution_count": 96,
     "metadata": {},
     "output_type": "execute_result"
    }
   ],
   "source": [
    "road_info.isnull().sum()"
   ]
  },
  {
   "cell_type": "code",
   "execution_count": 97,
   "metadata": {
    "ExecuteTime": {
     "end_time": "2019-06-07T07:49:06.346805Z",
     "start_time": "2019-06-07T07:49:05.627358Z"
    }
   },
   "outputs": [
    {
     "data": {
      "text/plain": [
       "(748706, 34)"
      ]
     },
     "execution_count": 97,
     "metadata": {},
     "output_type": "execute_result"
    }
   ],
   "source": [
    "carspeed = pd.merge(carspeed, road_info, on = 'link_id')\n",
    "carspeed.shape"
   ]
  },
  {
   "cell_type": "code",
   "execution_count": 98,
   "metadata": {
    "ExecuteTime": {
     "end_time": "2019-06-07T07:49:09.252242Z",
     "start_time": "2019-06-07T07:49:07.584323Z"
    }
   },
   "outputs": [
    {
     "data": {
      "text/plain": [
       "date                0\n",
       "days                0\n",
       "road_name           0\n",
       "link_id             0\n",
       "start_point         0\n",
       "end_point           0\n",
       "direction           0\n",
       "road_length         0\n",
       "road_num            0\n",
       "road_type           0\n",
       "urban_suburb        0\n",
       "district            0\n",
       "holiday             0\n",
       "special             0\n",
       "vacation            0\n",
       "time                0\n",
       "y                 970\n",
       "inter_num           0\n",
       "d1                  0\n",
       "d2                  0\n",
       "d3                  0\n",
       "d4                  0\n",
       "victims             0\n",
       "severity            0\n",
       "accident_count      0\n",
       "temperature         0\n",
       "wind                0\n",
       "rain                0\n",
       "snow                0\n",
       "cctv                0\n",
       "kids                0\n",
       "speed_limit         0\n",
       "entrance            0\n",
       "signal              0\n",
       "dtype: int64"
      ]
     },
     "execution_count": 98,
     "metadata": {},
     "output_type": "execute_result"
    }
   ],
   "source": [
    "carspeed.isnull().sum()"
   ]
  },
  {
   "cell_type": "markdown",
   "metadata": {},
   "source": [
    "# 미세먼지"
   ]
  },
  {
   "cell_type": "code",
   "execution_count": 7,
   "metadata": {
    "ExecuteTime": {
     "end_time": "2019-06-07T10:49:32.019754Z",
     "start_time": "2019-06-07T10:49:31.550343Z"
    }
   },
   "outputs": [
    {
     "data": {
      "text/html": [
       "<div>\n",
       "<style scoped>\n",
       "    .dataframe tbody tr th:only-of-type {\n",
       "        vertical-align: middle;\n",
       "    }\n",
       "\n",
       "    .dataframe tbody tr th {\n",
       "        vertical-align: top;\n",
       "    }\n",
       "\n",
       "    .dataframe thead th {\n",
       "        text-align: right;\n",
       "    }\n",
       "</style>\n",
       "<table border=\"1\" class=\"dataframe\">\n",
       "  <thead>\n",
       "    <tr style=\"text-align: right;\">\n",
       "      <th></th>\n",
       "      <th>date</th>\n",
       "      <th>time</th>\n",
       "      <th>측정소명</th>\n",
       "      <th>SO2</th>\n",
       "      <th>CO</th>\n",
       "      <th>O3</th>\n",
       "      <th>NO2</th>\n",
       "      <th>PM10</th>\n",
       "      <th>PM2.5</th>\n",
       "    </tr>\n",
       "  </thead>\n",
       "  <tbody>\n",
       "    <tr>\n",
       "      <th>0</th>\n",
       "      <td>20180101</td>\n",
       "      <td>1</td>\n",
       "      <td>중구</td>\n",
       "      <td>0.004</td>\n",
       "      <td>0.5</td>\n",
       "      <td>0.020</td>\n",
       "      <td>0.020</td>\n",
       "      <td>34.0</td>\n",
       "      <td>19.0</td>\n",
       "    </tr>\n",
       "    <tr>\n",
       "      <th>1</th>\n",
       "      <td>20180101</td>\n",
       "      <td>2</td>\n",
       "      <td>중구</td>\n",
       "      <td>0.004</td>\n",
       "      <td>0.4</td>\n",
       "      <td>0.024</td>\n",
       "      <td>0.016</td>\n",
       "      <td>27.0</td>\n",
       "      <td>14.0</td>\n",
       "    </tr>\n",
       "    <tr>\n",
       "      <th>2</th>\n",
       "      <td>20180101</td>\n",
       "      <td>3</td>\n",
       "      <td>중구</td>\n",
       "      <td>0.004</td>\n",
       "      <td>0.4</td>\n",
       "      <td>0.018</td>\n",
       "      <td>0.022</td>\n",
       "      <td>26.0</td>\n",
       "      <td>14.0</td>\n",
       "    </tr>\n",
       "  </tbody>\n",
       "</table>\n",
       "</div>"
      ],
      "text/plain": [
       "       date  time 측정소명    SO2   CO     O3    NO2  PM10  PM2.5\n",
       "0  20180101     1   중구  0.004  0.5  0.020  0.020  34.0   19.0\n",
       "1  20180101     2   중구  0.004  0.4  0.024  0.016  27.0   14.0\n",
       "2  20180101     3   중구  0.004  0.4  0.018  0.022  26.0   14.0"
      ]
     },
     "execution_count": 7,
     "metadata": {},
     "output_type": "execute_result"
    }
   ],
   "source": [
    "#dt = pd.read_csv('../data/dt_total.csv')\n",
    "dust = pd.read_csv('../data/dust_final.csv')\n",
    "dust['date'] = dust.date.str.replace('-','').astype(int)\n",
    "dust.date = dust.date.apply(str)\n",
    "dust.head(3)"
   ]
  },
  {
   "cell_type": "code",
   "execution_count": 8,
   "metadata": {
    "ExecuteTime": {
     "end_time": "2019-06-07T10:49:32.570289Z",
     "start_time": "2019-06-07T10:49:32.227812Z"
    }
   },
   "outputs": [
    {
     "data": {
      "text/html": [
       "<div>\n",
       "<style scoped>\n",
       "    .dataframe tbody tr th:only-of-type {\n",
       "        vertical-align: middle;\n",
       "    }\n",
       "\n",
       "    .dataframe tbody tr th {\n",
       "        vertical-align: top;\n",
       "    }\n",
       "\n",
       "    .dataframe thead th {\n",
       "        text-align: right;\n",
       "    }\n",
       "</style>\n",
       "<table border=\"1\" class=\"dataframe\">\n",
       "  <thead>\n",
       "    <tr style=\"text-align: right;\">\n",
       "      <th></th>\n",
       "      <th>date</th>\n",
       "      <th>time</th>\n",
       "      <th>측정소명</th>\n",
       "      <th>SO2</th>\n",
       "      <th>CO</th>\n",
       "      <th>O3</th>\n",
       "      <th>NO2</th>\n",
       "      <th>PM10</th>\n",
       "      <th>PM2.5</th>\n",
       "    </tr>\n",
       "  </thead>\n",
       "  <tbody>\n",
       "    <tr>\n",
       "      <th>0</th>\n",
       "      <td>20180301</td>\n",
       "      <td>1</td>\n",
       "      <td>중구</td>\n",
       "      <td>0.003</td>\n",
       "      <td>0.6</td>\n",
       "      <td>0.023</td>\n",
       "      <td>0.029</td>\n",
       "      <td>7.0</td>\n",
       "      <td>4.0</td>\n",
       "    </tr>\n",
       "    <tr>\n",
       "      <th>1</th>\n",
       "      <td>20180301</td>\n",
       "      <td>2</td>\n",
       "      <td>중구</td>\n",
       "      <td>0.003</td>\n",
       "      <td>0.6</td>\n",
       "      <td>0.015</td>\n",
       "      <td>0.036</td>\n",
       "      <td>6.0</td>\n",
       "      <td>4.0</td>\n",
       "    </tr>\n",
       "    <tr>\n",
       "      <th>2</th>\n",
       "      <td>20180301</td>\n",
       "      <td>3</td>\n",
       "      <td>중구</td>\n",
       "      <td>0.003</td>\n",
       "      <td>0.5</td>\n",
       "      <td>0.026</td>\n",
       "      <td>0.024</td>\n",
       "      <td>10.0</td>\n",
       "      <td>7.0</td>\n",
       "    </tr>\n",
       "  </tbody>\n",
       "</table>\n",
       "</div>"
      ],
      "text/plain": [
       "       date  time 측정소명    SO2   CO     O3    NO2  PM10  PM2.5\n",
       "0  20180301     1   중구  0.003  0.6  0.023  0.029   7.0    4.0\n",
       "1  20180301     2   중구  0.003  0.6  0.015  0.036   6.0    4.0\n",
       "2  20180301     3   중구  0.003  0.5  0.026  0.024  10.0    7.0"
      ]
     },
     "execution_count": 8,
     "metadata": {},
     "output_type": "execute_result"
    }
   ],
   "source": [
    "dust2 = pd.read_csv('../data/airpollution36912.csv')\n",
    "dust2.head(3)"
   ]
  },
  {
   "cell_type": "code",
   "execution_count": 9,
   "metadata": {
    "ExecuteTime": {
     "end_time": "2019-06-07T10:49:34.311324Z",
     "start_time": "2019-06-07T10:49:34.241509Z"
    }
   },
   "outputs": [
    {
     "data": {
      "text/plain": [
       "date        0\n",
       "time        0\n",
       "측정소명        0\n",
       "SO2      1923\n",
       "CO       2219\n",
       "O3       2127\n",
       "NO2      1657\n",
       "PM10     1960\n",
       "PM2.5    2150\n",
       "dtype: int64"
      ]
     },
     "execution_count": 9,
     "metadata": {},
     "output_type": "execute_result"
    }
   ],
   "source": [
    "dust = pd.concat([dust, dust2])\n",
    "dust.isnull().sum()"
   ]
  },
  {
   "cell_type": "code",
   "execution_count": 10,
   "metadata": {
    "ExecuteTime": {
     "end_time": "2019-06-07T10:49:39.537755Z",
     "start_time": "2019-06-07T10:49:39.531771Z"
    }
   },
   "outputs": [],
   "source": [
    "def NA_mean(air, col, date, time) :\n",
    "    return air[(air['date'] == date) & (air['time'] == time)][col].mean()"
   ]
  },
  {
   "cell_type": "code",
   "execution_count": 11,
   "metadata": {
    "ExecuteTime": {
     "end_time": "2019-06-07T10:52:08.613717Z",
     "start_time": "2019-06-07T10:49:40.370432Z"
    }
   },
   "outputs": [],
   "source": [
    "cols = ['SO2','CO','O3','NO2','PM10','PM2.5']\n",
    "for col in cols :\n",
    "    frame = dust[dust[col].isnull()]\n",
    "    mean_value = frame.apply(lambda x : NA_mean(dust, col, x['date'],x['time']), axis =1)\n",
    "    dust.loc[mean_value.index, col] = mean_value"
   ]
  },
  {
   "cell_type": "code",
   "execution_count": 12,
   "metadata": {
    "ExecuteTime": {
     "end_time": "2019-06-07T10:52:08.628609Z",
     "start_time": "2019-06-07T10:52:08.613717Z"
    }
   },
   "outputs": [],
   "source": [
    "dust.columns = ['date', 'time', 'district', 'SO2', 'CO', 'O3', 'NO2', 'PM10', 'PM2.5']"
   ]
  },
  {
   "cell_type": "code",
   "execution_count": 13,
   "metadata": {
    "ExecuteTime": {
     "end_time": "2019-06-07T10:52:08.681469Z",
     "start_time": "2019-06-07T10:52:08.631602Z"
    }
   },
   "outputs": [
    {
     "data": {
      "text/plain": [
       "date        0\n",
       "time        0\n",
       "district    0\n",
       "SO2         0\n",
       "CO          0\n",
       "O3          0\n",
       "NO2         0\n",
       "PM10        0\n",
       "PM2.5       0\n",
       "dtype: int64"
      ]
     },
     "execution_count": 13,
     "metadata": {},
     "output_type": "execute_result"
    }
   ],
   "source": [
    "dust.isnull().sum()"
   ]
  },
  {
   "cell_type": "code",
   "execution_count": 14,
   "metadata": {
    "ExecuteTime": {
     "end_time": "2019-06-07T10:52:14.432210Z",
     "start_time": "2019-06-07T10:52:14.426226Z"
    }
   },
   "outputs": [
    {
     "data": {
      "text/plain": [
       "(147000, 9)"
      ]
     },
     "execution_count": 14,
     "metadata": {},
     "output_type": "execute_result"
    }
   ],
   "source": [
    "dust.shape"
   ]
  },
  {
   "cell_type": "code",
   "execution_count": 15,
   "metadata": {
    "ExecuteTime": {
     "end_time": "2019-06-07T10:52:25.654051Z",
     "start_time": "2019-06-07T10:52:25.649064Z"
    }
   },
   "outputs": [
    {
     "data": {
      "text/plain": [
       "(747736, 34)"
      ]
     },
     "execution_count": 15,
     "metadata": {},
     "output_type": "execute_result"
    }
   ],
   "source": [
    "car_sm.shape"
   ]
  },
  {
   "cell_type": "code",
   "execution_count": 16,
   "metadata": {
    "ExecuteTime": {
     "end_time": "2019-06-07T10:52:30.013502Z",
     "start_time": "2019-06-07T10:52:29.905013Z"
    }
   },
   "outputs": [
    {
     "data": {
      "text/plain": [
       "01    18600\n",
       "12    18600\n",
       "07    18600\n",
       "10    18600\n",
       "03    18600\n",
       "06    18000\n",
       "04    18000\n",
       "09    18000\n",
       "Name: date, dtype: int64"
      ]
     },
     "execution_count": 16,
     "metadata": {},
     "output_type": "execute_result"
    }
   ],
   "source": [
    "dust.date.apply(lambda x : str(x)[-4:-2]).value_counts()"
   ]
  },
  {
   "cell_type": "code",
   "execution_count": 17,
   "metadata": {
    "ExecuteTime": {
     "end_time": "2019-06-07T10:52:36.841816Z",
     "start_time": "2019-06-07T10:52:36.354706Z"
    }
   },
   "outputs": [
    {
     "data": {
      "text/plain": [
       "01    127508\n",
       "10    127382\n",
       "07    127344\n",
       "09    123534\n",
       "12    122758\n",
       "04    119210\n",
       "Name: date, dtype: int64"
      ]
     },
     "execution_count": 17,
     "metadata": {},
     "output_type": "execute_result"
    }
   ],
   "source": [
    "car_sm.date.apply(lambda x : str(x)[-4:-2]).value_counts()"
   ]
  },
  {
   "cell_type": "code",
   "execution_count": 22,
   "metadata": {
    "ExecuteTime": {
     "end_time": "2019-06-07T10:54:10.583122Z",
     "start_time": "2019-06-07T10:54:10.497288Z"
    }
   },
   "outputs": [],
   "source": [
    "dust.date = dust.date.apply(int)"
   ]
  },
  {
   "cell_type": "code",
   "execution_count": 26,
   "metadata": {
    "ExecuteTime": {
     "end_time": "2019-06-07T10:55:23.797162Z",
     "start_time": "2019-06-07T10:55:22.345896Z"
    }
   },
   "outputs": [
    {
     "data": {
      "text/plain": [
       "(747736, 40)"
      ]
     },
     "execution_count": 26,
     "metadata": {},
     "output_type": "execute_result"
    }
   ],
   "source": [
    "car_sm = pd.merge(car_sm, dust, on = ['date','time', 'district'])\n",
    "car_sm.shape"
   ]
  },
  {
   "cell_type": "code",
   "execution_count": 28,
   "metadata": {
    "ExecuteTime": {
     "end_time": "2019-06-07T10:56:26.844028Z",
     "start_time": "2019-06-07T10:56:00.859287Z"
    }
   },
   "outputs": [],
   "source": [
    "#car_sm.to_csv('../data/final/car_sm.csv', index = False)"
   ]
  },
  {
   "cell_type": "code",
   "execution_count": 27,
   "metadata": {
    "ExecuteTime": {
     "end_time": "2019-06-07T10:55:30.836251Z",
     "start_time": "2019-06-07T10:55:29.946577Z"
    }
   },
   "outputs": [
    {
     "data": {
      "text/plain": [
       "date              0\n",
       "days              0\n",
       "road_name         0\n",
       "link_id           0\n",
       "start_point       0\n",
       "end_point         0\n",
       "direction         0\n",
       "road_length       0\n",
       "road_num          0\n",
       "road_type         0\n",
       "urban_suburb      0\n",
       "district          0\n",
       "holiday           0\n",
       "special           0\n",
       "vacation          0\n",
       "time              0\n",
       "y                 0\n",
       "inter_num         0\n",
       "d1                0\n",
       "d2                0\n",
       "d3                0\n",
       "d4                0\n",
       "victims           0\n",
       "severity          0\n",
       "accident_count    0\n",
       "temperature       0\n",
       "wind              0\n",
       "rain              0\n",
       "snow              0\n",
       "cctv              0\n",
       "kids              0\n",
       "speed_limit       0\n",
       "entrance          0\n",
       "signal            0\n",
       "SO2               0\n",
       "CO                0\n",
       "O3                0\n",
       "NO2               0\n",
       "PM10              0\n",
       "PM2.5             0\n",
       "dtype: int64"
      ]
     },
     "execution_count": 27,
     "metadata": {},
     "output_type": "execute_result"
    }
   ],
   "source": [
    "car_sm.isnull().sum()"
   ]
  },
  {
   "cell_type": "markdown",
   "metadata": {},
   "source": [
    "# final drop"
   ]
  },
  {
   "cell_type": "code",
   "execution_count": 126,
   "metadata": {
    "ExecuteTime": {
     "end_time": "2019-06-07T08:07:11.420440Z",
     "start_time": "2019-06-07T08:07:09.848804Z"
    }
   },
   "outputs": [
    {
     "data": {
      "text/plain": [
       "(747736, 34)"
      ]
     },
     "execution_count": 126,
     "metadata": {},
     "output_type": "execute_result"
    }
   ],
   "source": [
    "carspeed.dropna(inplace = True)\n",
    "carspeed.shape"
   ]
  },
  {
   "cell_type": "code",
   "execution_count": 127,
   "metadata": {
    "ExecuteTime": {
     "end_time": "2019-06-07T08:09:14.445017Z",
     "start_time": "2019-06-07T08:08:30.232981Z"
    }
   },
   "outputs": [],
   "source": [
    "carspeed.to_csv('../data/final/car_sm.csv', index = False)"
   ]
  },
  {
   "cell_type": "markdown",
   "metadata": {},
   "source": [
    "# final merge"
   ]
  },
  {
   "cell_type": "code",
   "execution_count": 29,
   "metadata": {
    "ExecuteTime": {
     "end_time": "2019-06-07T10:57:10.475615Z",
     "start_time": "2019-06-07T10:56:38.049079Z"
    }
   },
   "outputs": [
    {
     "name": "stdout",
     "output_type": "stream",
     "text": [
      "(747736, 40)\n",
      "(741882, 40)\n"
     ]
    }
   ],
   "source": [
    "car_sm = pd.read_csv('../data/final/car_sm.csv')\n",
    "car_ej = pd.read_csv('../data/final/car_ej.csv')\n",
    "\n",
    "print(car_sm.shape)\n",
    "print(car_ej.shape)"
   ]
  },
  {
   "cell_type": "code",
   "execution_count": 30,
   "metadata": {
    "ExecuteTime": {
     "end_time": "2019-06-07T10:57:10.521491Z",
     "start_time": "2019-06-07T10:57:10.479605Z"
    }
   },
   "outputs": [
    {
     "data": {
      "text/html": [
       "<div>\n",
       "<style scoped>\n",
       "    .dataframe tbody tr th:only-of-type {\n",
       "        vertical-align: middle;\n",
       "    }\n",
       "\n",
       "    .dataframe tbody tr th {\n",
       "        vertical-align: top;\n",
       "    }\n",
       "\n",
       "    .dataframe thead th {\n",
       "        text-align: right;\n",
       "    }\n",
       "</style>\n",
       "<table border=\"1\" class=\"dataframe\">\n",
       "  <thead>\n",
       "    <tr style=\"text-align: right;\">\n",
       "      <th></th>\n",
       "      <th>date</th>\n",
       "      <th>days</th>\n",
       "      <th>road_name</th>\n",
       "      <th>link_id</th>\n",
       "      <th>start_point</th>\n",
       "      <th>end_point</th>\n",
       "      <th>direction</th>\n",
       "      <th>road_length</th>\n",
       "      <th>road_num</th>\n",
       "      <th>road_type</th>\n",
       "      <th>...</th>\n",
       "      <th>special</th>\n",
       "      <th>vacation</th>\n",
       "      <th>inter_num</th>\n",
       "      <th>d1</th>\n",
       "      <th>d2</th>\n",
       "      <th>d3</th>\n",
       "      <th>d4</th>\n",
       "      <th>victims</th>\n",
       "      <th>severity</th>\n",
       "      <th>accident_count</th>\n",
       "    </tr>\n",
       "  </thead>\n",
       "  <tbody>\n",
       "    <tr>\n",
       "      <th>0</th>\n",
       "      <td>20180201</td>\n",
       "      <td>목</td>\n",
       "      <td>강남대로</td>\n",
       "      <td>1220021100</td>\n",
       "      <td>우성아파트</td>\n",
       "      <td>강남역</td>\n",
       "      <td>상행</td>\n",
       "      <td>586</td>\n",
       "      <td>5.0</td>\n",
       "      <td>주간선도로</td>\n",
       "      <td>...</td>\n",
       "      <td>0</td>\n",
       "      <td>0</td>\n",
       "      <td>15.0</td>\n",
       "      <td>3</td>\n",
       "      <td>69</td>\n",
       "      <td>338</td>\n",
       "      <td>28</td>\n",
       "      <td>438</td>\n",
       "      <td>1285</td>\n",
       "      <td>280</td>\n",
       "    </tr>\n",
       "    <tr>\n",
       "      <th>1</th>\n",
       "      <td>20180201</td>\n",
       "      <td>목</td>\n",
       "      <td>강남대로</td>\n",
       "      <td>1220016200</td>\n",
       "      <td>우성아파트</td>\n",
       "      <td>뱅뱅사거리</td>\n",
       "      <td>하행</td>\n",
       "      <td>414</td>\n",
       "      <td>5.0</td>\n",
       "      <td>주간선도로</td>\n",
       "      <td>...</td>\n",
       "      <td>0</td>\n",
       "      <td>0</td>\n",
       "      <td>15.0</td>\n",
       "      <td>3</td>\n",
       "      <td>69</td>\n",
       "      <td>338</td>\n",
       "      <td>28</td>\n",
       "      <td>438</td>\n",
       "      <td>1285</td>\n",
       "      <td>280</td>\n",
       "    </tr>\n",
       "    <tr>\n",
       "      <th>2</th>\n",
       "      <td>20180201</td>\n",
       "      <td>목</td>\n",
       "      <td>개포로</td>\n",
       "      <td>1220020500</td>\n",
       "      <td>대청초교</td>\n",
       "      <td>대청역</td>\n",
       "      <td>상행</td>\n",
       "      <td>862</td>\n",
       "      <td>2.0</td>\n",
       "      <td>기타도로</td>\n",
       "      <td>...</td>\n",
       "      <td>0</td>\n",
       "      <td>0</td>\n",
       "      <td>8.0</td>\n",
       "      <td>0</td>\n",
       "      <td>21</td>\n",
       "      <td>31</td>\n",
       "      <td>5</td>\n",
       "      <td>57</td>\n",
       "      <td>161</td>\n",
       "      <td>39</td>\n",
       "    </tr>\n",
       "  </tbody>\n",
       "</table>\n",
       "<p>3 rows × 40 columns</p>\n",
       "</div>"
      ],
      "text/plain": [
       "       date days road_name     link_id start_point end_point direction  \\\n",
       "0  20180201    목      강남대로  1220021100       우성아파트       강남역        상행   \n",
       "1  20180201    목      강남대로  1220016200       우성아파트     뱅뱅사거리        하행   \n",
       "2  20180201    목       개포로  1220020500        대청초교       대청역        상행   \n",
       "\n",
       "   road_length  road_num road_type       ...       special vacation  \\\n",
       "0          586       5.0     주간선도로       ...             0        0   \n",
       "1          414       5.0     주간선도로       ...             0        0   \n",
       "2          862       2.0      기타도로       ...             0        0   \n",
       "\n",
       "   inter_num  d1  d2   d3  d4  victims  severity  accident_count  \n",
       "0       15.0   3  69  338  28      438      1285             280  \n",
       "1       15.0   3  69  338  28      438      1285             280  \n",
       "2        8.0   0  21   31   5       57       161              39  \n",
       "\n",
       "[3 rows x 40 columns]"
      ]
     },
     "execution_count": 30,
     "metadata": {},
     "output_type": "execute_result"
    }
   ],
   "source": [
    "car_ej.head(3)"
   ]
  },
  {
   "cell_type": "code",
   "execution_count": 31,
   "metadata": {
    "ExecuteTime": {
     "end_time": "2019-06-07T10:57:10.563380Z",
     "start_time": "2019-06-07T10:57:10.525481Z"
    }
   },
   "outputs": [
    {
     "data": {
      "text/html": [
       "<div>\n",
       "<style scoped>\n",
       "    .dataframe tbody tr th:only-of-type {\n",
       "        vertical-align: middle;\n",
       "    }\n",
       "\n",
       "    .dataframe tbody tr th {\n",
       "        vertical-align: top;\n",
       "    }\n",
       "\n",
       "    .dataframe thead th {\n",
       "        text-align: right;\n",
       "    }\n",
       "</style>\n",
       "<table border=\"1\" class=\"dataframe\">\n",
       "  <thead>\n",
       "    <tr style=\"text-align: right;\">\n",
       "      <th></th>\n",
       "      <th>date</th>\n",
       "      <th>days</th>\n",
       "      <th>road_name</th>\n",
       "      <th>link_id</th>\n",
       "      <th>start_point</th>\n",
       "      <th>end_point</th>\n",
       "      <th>direction</th>\n",
       "      <th>road_length</th>\n",
       "      <th>road_num</th>\n",
       "      <th>road_type</th>\n",
       "      <th>...</th>\n",
       "      <th>kids</th>\n",
       "      <th>speed_limit</th>\n",
       "      <th>entrance</th>\n",
       "      <th>signal</th>\n",
       "      <th>SO2</th>\n",
       "      <th>CO</th>\n",
       "      <th>O3</th>\n",
       "      <th>NO2</th>\n",
       "      <th>PM10</th>\n",
       "      <th>PM2.5</th>\n",
       "    </tr>\n",
       "  </thead>\n",
       "  <tbody>\n",
       "    <tr>\n",
       "      <th>0</th>\n",
       "      <td>20180101</td>\n",
       "      <td>월</td>\n",
       "      <td>강남대로</td>\n",
       "      <td>1220021100</td>\n",
       "      <td>우성아파트</td>\n",
       "      <td>강남역</td>\n",
       "      <td>상행</td>\n",
       "      <td>586</td>\n",
       "      <td>5.0</td>\n",
       "      <td>주간선도로</td>\n",
       "      <td>...</td>\n",
       "      <td>0</td>\n",
       "      <td>60</td>\n",
       "      <td>82</td>\n",
       "      <td>54</td>\n",
       "      <td>0.005</td>\n",
       "      <td>0.8</td>\n",
       "      <td>0.003</td>\n",
       "      <td>0.042</td>\n",
       "      <td>33.0</td>\n",
       "      <td>25.0</td>\n",
       "    </tr>\n",
       "    <tr>\n",
       "      <th>1</th>\n",
       "      <td>20180101</td>\n",
       "      <td>월</td>\n",
       "      <td>강남대로</td>\n",
       "      <td>1220016200</td>\n",
       "      <td>우성아파트</td>\n",
       "      <td>뱅뱅사거리</td>\n",
       "      <td>하행</td>\n",
       "      <td>414</td>\n",
       "      <td>5.0</td>\n",
       "      <td>주간선도로</td>\n",
       "      <td>...</td>\n",
       "      <td>0</td>\n",
       "      <td>60</td>\n",
       "      <td>82</td>\n",
       "      <td>54</td>\n",
       "      <td>0.005</td>\n",
       "      <td>0.8</td>\n",
       "      <td>0.003</td>\n",
       "      <td>0.042</td>\n",
       "      <td>33.0</td>\n",
       "      <td>25.0</td>\n",
       "    </tr>\n",
       "    <tr>\n",
       "      <th>2</th>\n",
       "      <td>20180101</td>\n",
       "      <td>월</td>\n",
       "      <td>개포로</td>\n",
       "      <td>1220020500</td>\n",
       "      <td>대청초교</td>\n",
       "      <td>대청역</td>\n",
       "      <td>상행</td>\n",
       "      <td>862</td>\n",
       "      <td>2.0</td>\n",
       "      <td>기타도로</td>\n",
       "      <td>...</td>\n",
       "      <td>0</td>\n",
       "      <td>30</td>\n",
       "      <td>19</td>\n",
       "      <td>53</td>\n",
       "      <td>0.005</td>\n",
       "      <td>0.8</td>\n",
       "      <td>0.003</td>\n",
       "      <td>0.042</td>\n",
       "      <td>33.0</td>\n",
       "      <td>25.0</td>\n",
       "    </tr>\n",
       "  </tbody>\n",
       "</table>\n",
       "<p>3 rows × 40 columns</p>\n",
       "</div>"
      ],
      "text/plain": [
       "       date days road_name     link_id start_point end_point direction  \\\n",
       "0  20180101    월      강남대로  1220021100       우성아파트       강남역        상행   \n",
       "1  20180101    월      강남대로  1220016200       우성아파트     뱅뱅사거리        하행   \n",
       "2  20180101    월       개포로  1220020500        대청초교       대청역        상행   \n",
       "\n",
       "   road_length  road_num road_type  ...   kids speed_limit  entrance  signal  \\\n",
       "0          586       5.0     주간선도로  ...      0          60        82      54   \n",
       "1          414       5.0     주간선도로  ...      0          60        82      54   \n",
       "2          862       2.0      기타도로  ...      0          30        19      53   \n",
       "\n",
       "     SO2   CO     O3    NO2  PM10  PM2.5  \n",
       "0  0.005  0.8  0.003  0.042  33.0   25.0  \n",
       "1  0.005  0.8  0.003  0.042  33.0   25.0  \n",
       "2  0.005  0.8  0.003  0.042  33.0   25.0  \n",
       "\n",
       "[3 rows x 40 columns]"
      ]
     },
     "execution_count": 31,
     "metadata": {},
     "output_type": "execute_result"
    }
   ],
   "source": [
    "car_sm.head(3)"
   ]
  },
  {
   "cell_type": "code",
   "execution_count": 39,
   "metadata": {
    "ExecuteTime": {
     "end_time": "2019-06-07T11:00:41.309129Z",
     "start_time": "2019-06-07T11:00:41.177786Z"
    }
   },
   "outputs": [],
   "source": [
    "car_ej.rename(columns = {'value' : 'y'}, inplace = True)"
   ]
  },
  {
   "cell_type": "code",
   "execution_count": 40,
   "metadata": {
    "ExecuteTime": {
     "end_time": "2019-06-07T11:01:05.455029Z",
     "start_time": "2019-06-07T11:01:05.306424Z"
    }
   },
   "outputs": [],
   "source": [
    "car_ej = car_ej[car_sm.columns]"
   ]
  },
  {
   "cell_type": "code",
   "execution_count": 42,
   "metadata": {
    "ExecuteTime": {
     "end_time": "2019-06-07T11:01:51.654989Z",
     "start_time": "2019-06-07T11:01:51.058933Z"
    }
   },
   "outputs": [
    {
     "data": {
      "text/plain": [
       "(1489618, 40)"
      ]
     },
     "execution_count": 42,
     "metadata": {},
     "output_type": "execute_result"
    }
   ],
   "source": [
    "real_final = pd.concat([car_sm, car_ej])\n",
    "real_final.shape"
   ]
  },
  {
   "cell_type": "code",
   "execution_count": 66,
   "metadata": {
    "ExecuteTime": {
     "end_time": "2019-06-07T11:36:46.860783Z",
     "start_time": "2019-06-07T11:35:43.706651Z"
    }
   },
   "outputs": [],
   "source": [
    "real_final.to_csv('../data/final/real_final.csv', index = False, encoding = 'utf-8')"
   ]
  },
  {
   "cell_type": "markdown",
   "metadata": {},
   "source": [
    "# train, test"
   ]
  },
  {
   "cell_type": "code",
   "execution_count": 53,
   "metadata": {
    "ExecuteTime": {
     "end_time": "2019-06-07T11:16:33.260584Z",
     "start_time": "2019-06-07T11:16:31.208279Z"
    }
   },
   "outputs": [],
   "source": [
    "real_final['month'] = real_final.date.apply(lambda x : int(str(x)[-4:-2]))\n",
    "real_final['weekend'] = real_final.days.apply(lambda x : 1 if (x == '토') | (x == '일') else 0)"
   ]
  },
  {
   "cell_type": "code",
   "execution_count": 55,
   "metadata": {
    "ExecuteTime": {
     "end_time": "2019-06-07T11:22:30.997280Z",
     "start_time": "2019-06-07T11:22:30.971348Z"
    }
   },
   "outputs": [
    {
     "data": {
      "text/html": [
       "<div>\n",
       "<style scoped>\n",
       "    .dataframe tbody tr th:only-of-type {\n",
       "        vertical-align: middle;\n",
       "    }\n",
       "\n",
       "    .dataframe tbody tr th {\n",
       "        vertical-align: top;\n",
       "    }\n",
       "\n",
       "    .dataframe thead th {\n",
       "        text-align: right;\n",
       "    }\n",
       "</style>\n",
       "<table border=\"1\" class=\"dataframe\">\n",
       "  <thead>\n",
       "    <tr style=\"text-align: right;\">\n",
       "      <th></th>\n",
       "      <th>date</th>\n",
       "      <th>days</th>\n",
       "      <th>road_name</th>\n",
       "      <th>link_id</th>\n",
       "      <th>start_point</th>\n",
       "      <th>end_point</th>\n",
       "      <th>direction</th>\n",
       "      <th>road_length</th>\n",
       "      <th>road_num</th>\n",
       "      <th>road_type</th>\n",
       "      <th>...</th>\n",
       "      <th>entrance</th>\n",
       "      <th>signal</th>\n",
       "      <th>SO2</th>\n",
       "      <th>CO</th>\n",
       "      <th>O3</th>\n",
       "      <th>NO2</th>\n",
       "      <th>PM10</th>\n",
       "      <th>PM2.5</th>\n",
       "      <th>month</th>\n",
       "      <th>weekend</th>\n",
       "    </tr>\n",
       "  </thead>\n",
       "  <tbody>\n",
       "    <tr>\n",
       "      <th>0</th>\n",
       "      <td>20180101</td>\n",
       "      <td>월</td>\n",
       "      <td>강남대로</td>\n",
       "      <td>1220021100</td>\n",
       "      <td>우성아파트</td>\n",
       "      <td>강남역</td>\n",
       "      <td>상행</td>\n",
       "      <td>586</td>\n",
       "      <td>5.0</td>\n",
       "      <td>주간선도로</td>\n",
       "      <td>...</td>\n",
       "      <td>82.0</td>\n",
       "      <td>54.0</td>\n",
       "      <td>0.005</td>\n",
       "      <td>0.8</td>\n",
       "      <td>0.003</td>\n",
       "      <td>0.042</td>\n",
       "      <td>33.0</td>\n",
       "      <td>25.0</td>\n",
       "      <td>1</td>\n",
       "      <td>0</td>\n",
       "    </tr>\n",
       "    <tr>\n",
       "      <th>1</th>\n",
       "      <td>20180101</td>\n",
       "      <td>월</td>\n",
       "      <td>강남대로</td>\n",
       "      <td>1220016200</td>\n",
       "      <td>우성아파트</td>\n",
       "      <td>뱅뱅사거리</td>\n",
       "      <td>하행</td>\n",
       "      <td>414</td>\n",
       "      <td>5.0</td>\n",
       "      <td>주간선도로</td>\n",
       "      <td>...</td>\n",
       "      <td>82.0</td>\n",
       "      <td>54.0</td>\n",
       "      <td>0.005</td>\n",
       "      <td>0.8</td>\n",
       "      <td>0.003</td>\n",
       "      <td>0.042</td>\n",
       "      <td>33.0</td>\n",
       "      <td>25.0</td>\n",
       "      <td>1</td>\n",
       "      <td>0</td>\n",
       "    </tr>\n",
       "    <tr>\n",
       "      <th>2</th>\n",
       "      <td>20180101</td>\n",
       "      <td>월</td>\n",
       "      <td>개포로</td>\n",
       "      <td>1220020500</td>\n",
       "      <td>대청초교</td>\n",
       "      <td>대청역</td>\n",
       "      <td>상행</td>\n",
       "      <td>862</td>\n",
       "      <td>2.0</td>\n",
       "      <td>기타도로</td>\n",
       "      <td>...</td>\n",
       "      <td>19.0</td>\n",
       "      <td>53.0</td>\n",
       "      <td>0.005</td>\n",
       "      <td>0.8</td>\n",
       "      <td>0.003</td>\n",
       "      <td>0.042</td>\n",
       "      <td>33.0</td>\n",
       "      <td>25.0</td>\n",
       "      <td>1</td>\n",
       "      <td>0</td>\n",
       "    </tr>\n",
       "  </tbody>\n",
       "</table>\n",
       "<p>3 rows × 42 columns</p>\n",
       "</div>"
      ],
      "text/plain": [
       "       date days road_name     link_id start_point end_point direction  \\\n",
       "0  20180101    월      강남대로  1220021100       우성아파트       강남역        상행   \n",
       "1  20180101    월      강남대로  1220016200       우성아파트     뱅뱅사거리        하행   \n",
       "2  20180101    월       개포로  1220020500        대청초교       대청역        상행   \n",
       "\n",
       "   road_length  road_num road_type   ...    entrance signal    SO2   CO  \\\n",
       "0          586       5.0     주간선도로   ...        82.0   54.0  0.005  0.8   \n",
       "1          414       5.0     주간선도로   ...        82.0   54.0  0.005  0.8   \n",
       "2          862       2.0      기타도로   ...        19.0   53.0  0.005  0.8   \n",
       "\n",
       "      O3    NO2  PM10  PM2.5  month  weekend  \n",
       "0  0.003  0.042  33.0   25.0      1        0  \n",
       "1  0.003  0.042  33.0   25.0      1        0  \n",
       "2  0.003  0.042  33.0   25.0      1        0  \n",
       "\n",
       "[3 rows x 42 columns]"
      ]
     },
     "execution_count": 55,
     "metadata": {},
     "output_type": "execute_result"
    }
   ],
   "source": [
    "real_final.head(3)"
   ]
  },
  {
   "cell_type": "code",
   "execution_count": 56,
   "metadata": {
    "ExecuteTime": {
     "end_time": "2019-06-07T11:23:10.907622Z",
     "start_time": "2019-06-07T11:23:10.900643Z"
    }
   },
   "outputs": [
    {
     "data": {
      "text/plain": [
       "Index(['date', 'days', 'road_name', 'link_id', 'start_point', 'end_point',\n",
       "       'direction', 'road_length', 'road_num', 'road_type', 'urban_suburb',\n",
       "       'district', 'holiday', 'special', 'vacation', 'time', 'y', 'inter_num',\n",
       "       'd1', 'd2', 'd3', 'd4', 'victims', 'severity', 'accident_count',\n",
       "       'temperature', 'wind', 'rain', 'snow', 'cctv', 'kids', 'speed_limit',\n",
       "       'entrance', 'signal', 'SO2', 'CO', 'O3', 'NO2', 'PM10', 'PM2.5',\n",
       "       'month', 'weekend'],\n",
       "      dtype='object')"
      ]
     },
     "execution_count": 56,
     "metadata": {},
     "output_type": "execute_result"
    }
   ],
   "source": [
    "real_final.columns"
   ]
  },
  {
   "cell_type": "code",
   "execution_count": 57,
   "metadata": {
    "ExecuteTime": {
     "end_time": "2019-06-07T11:26:36.424771Z",
     "start_time": "2019-06-07T11:26:35.901476Z"
    }
   },
   "outputs": [],
   "source": [
    "X = real_final.drop('y', axis = 1)\n",
    "y = real_final['y']"
   ]
  },
  {
   "cell_type": "code",
   "execution_count": 58,
   "metadata": {
    "ExecuteTime": {
     "end_time": "2019-06-07T11:26:56.784344Z",
     "start_time": "2019-06-07T11:26:56.780353Z"
    }
   },
   "outputs": [],
   "source": [
    "from sklearn.model_selection import train_test_split"
   ]
  },
  {
   "cell_type": "code",
   "execution_count": 62,
   "metadata": {
    "ExecuteTime": {
     "end_time": "2019-06-07T11:29:26.355513Z",
     "start_time": "2019-06-07T11:29:24.956126Z"
    }
   },
   "outputs": [],
   "source": [
    "X_train, X_test, y_train ,y_test = train_test_split(X,y, random_state = 333, test_size = 0.3)"
   ]
  },
  {
   "cell_type": "code",
   "execution_count": 65,
   "metadata": {
    "ExecuteTime": {
     "end_time": "2019-06-07T11:32:58.421711Z",
     "start_time": "2019-06-07T11:32:01.388013Z"
    }
   },
   "outputs": [],
   "source": [
    "train = pd.concat([X_train, y_train], axis = 1)\n",
    "test = pd.concat([X_test, y_test], axis = 1)\n",
    "\n",
    "train.to_csv('../data/final/train.csv', index = False, encoding = 'utf-8')\n",
    "test.to_csv('../data/final/test.csv', index = False, encoding = 'utf-8')"
   ]
  }
 ],
 "metadata": {
  "hide_input": false,
  "kernelspec": {
   "display_name": "Python 3",
   "language": "python",
   "name": "python3"
  },
  "language_info": {
   "codemirror_mode": {
    "name": "ipython",
    "version": 3
   },
   "file_extension": ".py",
   "mimetype": "text/x-python",
   "name": "python",
   "nbconvert_exporter": "python",
   "pygments_lexer": "ipython3",
   "version": "3.7.1"
  },
  "notify_time": "30",
  "toc": {
   "base_numbering": 1,
   "nav_menu": {},
   "number_sections": true,
   "sideBar": true,
   "skip_h1_title": false,
   "title_cell": "Table of Contents",
   "title_sidebar": "Contents",
   "toc_cell": false,
   "toc_position": {},
   "toc_section_display": true,
   "toc_window_display": true
  }
 },
 "nbformat": 4,
 "nbformat_minor": 2
}
