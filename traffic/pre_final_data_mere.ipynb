{
 "cells": [
  {
   "cell_type": "code",
   "execution_count": 2,
   "metadata": {
    "ExecuteTime": {
     "end_time": "2019-06-04T10:25:08.745340Z",
     "start_time": "2019-06-04T10:25:08.738524Z"
    }
   },
   "outputs": [
    {
     "data": {
      "text/plain": [
       "['carspeed.csv',\n",
       " 'carspeed_14710.csv',\n",
       " 'carspeed_25811.csv',\n",
       " 'car_speed_36912.csv']"
      ]
     },
     "execution_count": 2,
     "metadata": {},
     "output_type": "execute_result"
    }
   ],
   "source": [
    "import pandas as pd\n",
    "import os\n",
    "\n",
    "os.listdir('../data/final')"
   ]
  },
  {
   "cell_type": "code",
   "execution_count": 16,
   "metadata": {
    "ExecuteTime": {
     "end_time": "2019-06-04T10:48:40.133739Z",
     "start_time": "2019-06-04T10:41:58.323378Z"
    }
   },
   "outputs": [
    {
     "name": "stdout",
     "output_type": "stream",
     "text": [
      "shape 1 :  (7025495, 39)\n",
      "shape 2 :  (4089876, 31)\n"
     ]
    }
   ],
   "source": [
    "carspeed1 = pd.read_csv('../data/final/carspeed.csv')\n",
    "carspeed2 = pd.read_csv('../data/final/car_speed_36912.csv')\n",
    "print('shape 1 : ', carspeed1.shape)\n",
    "print('shape 2 : ', carspeed2.shape)"
   ]
  },
  {
   "cell_type": "code",
   "execution_count": 4,
   "metadata": {
    "ExecuteTime": {
     "end_time": "2019-06-03T10:28:16.506628Z",
     "start_time": "2019-06-03T10:24:11.594452Z"
    }
   },
   "outputs": [],
   "source": [
    "#carspeed1 = pd.read_csv('../data/final/carspeed_14710.csv')\n",
    "#carspeed2 = pd.read_csv('../data/final/carspeed_25811.csv')"
   ]
  },
  {
   "cell_type": "code",
   "execution_count": 7,
   "metadata": {
    "ExecuteTime": {
     "end_time": "2019-06-03T10:37:35.139542Z",
     "start_time": "2019-06-03T10:37:35.130929Z"
    },
    "scrolled": true
   },
   "outputs": [
    {
     "name": "stdout",
     "output_type": "stream",
     "text": [
      "shape 1 :  (4156794, 31)\n",
      "shape 2 :  (2954589, 31)\n"
     ]
    }
   ],
   "source": [
    "print('shape 1 : ', carspeed1.shape)\n",
    "print('shape 2 : ', carspeed2.shape)"
   ]
  },
  {
   "cell_type": "markdown",
   "metadata": {},
   "source": [
    "# common link"
   ]
  },
  {
   "cell_type": "code",
   "execution_count": 17,
   "metadata": {
    "ExecuteTime": {
     "end_time": "2019-06-04T10:48:56.255649Z",
     "start_time": "2019-06-04T10:48:54.552153Z"
    }
   },
   "outputs": [
    {
     "data": {
      "text/plain": [
       "4527"
      ]
     },
     "execution_count": 17,
     "metadata": {},
     "output_type": "execute_result"
    }
   ],
   "source": [
    "common_link = set(carspeed1.link_id).intersection(set(carspeed2.link_id))\n",
    "len(common_link)"
   ]
  },
  {
   "cell_type": "code",
   "execution_count": 18,
   "metadata": {
    "ExecuteTime": {
     "end_time": "2019-06-04T10:49:19.972921Z",
     "start_time": "2019-06-04T10:49:12.687304Z"
    }
   },
   "outputs": [
    {
     "name": "stdout",
     "output_type": "stream",
     "text": [
      "shape 1 :  (7025495, 39)\n",
      "shape 2 :  (3997528, 31)\n"
     ]
    }
   ],
   "source": [
    "carspeed1 = carspeed1[carspeed1.link_id.isin(common_link)]\n",
    "carspeed2 = carspeed2[carspeed2.link_id.isin(common_link)]\n",
    "\n",
    "print('shape 1 : ', carspeed1.shape)\n",
    "print('shape 2 : ', carspeed2.shape)"
   ]
  },
  {
   "cell_type": "code",
   "execution_count": 20,
   "metadata": {
    "ExecuteTime": {
     "end_time": "2019-06-04T10:49:37.365476Z",
     "start_time": "2019-06-04T10:49:37.357237Z"
    }
   },
   "outputs": [
    {
     "data": {
      "text/plain": [
       "Index(['date', 'days', 'road_name', 'link_id', 'start_point', 'end_point',\n",
       "       'direction', 'road_length', 'road_num', 'road_type', 'urban_suburb',\n",
       "       'district', 'special', 'vacation', 'time', 'value', 'temperature',\n",
       "       'wind', 'rain', 'snow', 'cctv', 'kids', 'speed_limit', 'entrance',\n",
       "       'signal', 'SO2', 'CO', 'O3', 'NO2', 'PM10', 'PM2.5', 'inter_num',\n",
       "       '사망자수', '중상자수', '경상자수', '부상신고자수', 'victims', 'severity',\n",
       "       'accident_count'],\n",
       "      dtype='object')"
      ]
     },
     "execution_count": 20,
     "metadata": {},
     "output_type": "execute_result"
    }
   ],
   "source": [
    "carspeed1.columns"
   ]
  },
  {
   "cell_type": "code",
   "execution_count": 22,
   "metadata": {
    "ExecuteTime": {
     "end_time": "2019-06-03T10:45:25.696512Z",
     "start_time": "2019-06-03T10:45:25.692544Z"
    }
   },
   "outputs": [],
   "source": [
    "del carspeed1, carspeed2"
   ]
  },
  {
   "cell_type": "markdown",
   "metadata": {},
   "source": [
    "# intersection"
   ]
  },
  {
   "cell_type": "code",
   "execution_count": 22,
   "metadata": {
    "ExecuteTime": {
     "end_time": "2019-06-04T10:50:26.774440Z",
     "start_time": "2019-06-04T10:50:26.765340Z"
    }
   },
   "outputs": [
    {
     "data": {
      "text/plain": [
       "['201801_Seoul_traffic.csv',\n",
       " '201804_Seoul_traffic.csv',\n",
       " '201807_Seoul_traffic.csv',\n",
       " '201810_Seoul_traffic.csv',\n",
       " 'accident11.xlsx',\n",
       " 'accident_new.csv',\n",
       " 'dt_201903.csv',\n",
       " 'dust1.csv',\n",
       " 'dust_final.csv',\n",
       " 'final',\n",
       " 'gugucon.csv',\n",
       " 'holiday.csv',\n",
       " 'intersection.csv',\n",
       " 'road_info.csv',\n",
       " 'weather_merged.csv',\n",
       " '미세먼지1.xls',\n",
       " '미세먼지10.xls',\n",
       " '미세먼지4.xls',\n",
       " '미세먼지7.xls']"
      ]
     },
     "execution_count": 22,
     "metadata": {},
     "output_type": "execute_result"
    }
   ],
   "source": [
    "os.listdir('../data')"
   ]
  },
  {
   "cell_type": "code",
   "execution_count": 23,
   "metadata": {
    "ExecuteTime": {
     "end_time": "2019-06-04T10:50:28.786111Z",
     "start_time": "2019-06-04T10:50:28.761668Z"
    }
   },
   "outputs": [
    {
     "data": {
      "text/html": [
       "<div>\n",
       "<style scoped>\n",
       "    .dataframe tbody tr th:only-of-type {\n",
       "        vertical-align: middle;\n",
       "    }\n",
       "\n",
       "    .dataframe tbody tr th {\n",
       "        vertical-align: top;\n",
       "    }\n",
       "\n",
       "    .dataframe thead th {\n",
       "        text-align: right;\n",
       "    }\n",
       "</style>\n",
       "<table border=\"1\" class=\"dataframe\">\n",
       "  <thead>\n",
       "    <tr style=\"text-align: right;\">\n",
       "      <th></th>\n",
       "      <th>도로명</th>\n",
       "      <th>상행</th>\n",
       "      <th>하행</th>\n",
       "    </tr>\n",
       "  </thead>\n",
       "  <tbody>\n",
       "    <tr>\n",
       "      <th>0</th>\n",
       "      <td>4.19로</td>\n",
       "      <td>2.0</td>\n",
       "      <td>2.0</td>\n",
       "    </tr>\n",
       "    <tr>\n",
       "      <th>1</th>\n",
       "      <td>가락로</td>\n",
       "      <td>4.0</td>\n",
       "      <td>4.0</td>\n",
       "    </tr>\n",
       "    <tr>\n",
       "      <th>2</th>\n",
       "      <td>가로공원로</td>\n",
       "      <td>4.0</td>\n",
       "      <td>4.0</td>\n",
       "    </tr>\n",
       "  </tbody>\n",
       "</table>\n",
       "</div>"
      ],
      "text/plain": [
       "     도로명   상행   하행\n",
       "0  4.19로  2.0  2.0\n",
       "1    가락로  4.0  4.0\n",
       "2  가로공원로  4.0  4.0"
      ]
     },
     "execution_count": 23,
     "metadata": {},
     "output_type": "execute_result"
    }
   ],
   "source": [
    "intersection = pd.read_csv('../data/intersection.csv')\n",
    "intersection.head(3)"
   ]
  },
  {
   "cell_type": "code",
   "execution_count": 24,
   "metadata": {
    "ExecuteTime": {
     "end_time": "2019-06-04T10:50:39.700004Z",
     "start_time": "2019-06-04T10:50:39.678109Z"
    }
   },
   "outputs": [
    {
     "data": {
      "text/html": [
       "<div>\n",
       "<style scoped>\n",
       "    .dataframe tbody tr th:only-of-type {\n",
       "        vertical-align: middle;\n",
       "    }\n",
       "\n",
       "    .dataframe tbody tr th {\n",
       "        vertical-align: top;\n",
       "    }\n",
       "\n",
       "    .dataframe thead th {\n",
       "        text-align: right;\n",
       "    }\n",
       "</style>\n",
       "<table border=\"1\" class=\"dataframe\">\n",
       "  <thead>\n",
       "    <tr style=\"text-align: right;\">\n",
       "      <th></th>\n",
       "      <th>road_name</th>\n",
       "      <th>direction</th>\n",
       "      <th>inter_num</th>\n",
       "    </tr>\n",
       "  </thead>\n",
       "  <tbody>\n",
       "    <tr>\n",
       "      <th>0</th>\n",
       "      <td>4.19로</td>\n",
       "      <td>상행</td>\n",
       "      <td>2.0</td>\n",
       "    </tr>\n",
       "    <tr>\n",
       "      <th>1</th>\n",
       "      <td>가락로</td>\n",
       "      <td>상행</td>\n",
       "      <td>4.0</td>\n",
       "    </tr>\n",
       "    <tr>\n",
       "      <th>2</th>\n",
       "      <td>가로공원로</td>\n",
       "      <td>상행</td>\n",
       "      <td>4.0</td>\n",
       "    </tr>\n",
       "    <tr>\n",
       "      <th>3</th>\n",
       "      <td>가로공원로76길</td>\n",
       "      <td>상행</td>\n",
       "      <td>1.0</td>\n",
       "    </tr>\n",
       "    <tr>\n",
       "      <th>4</th>\n",
       "      <td>가마산로</td>\n",
       "      <td>상행</td>\n",
       "      <td>10.0</td>\n",
       "    </tr>\n",
       "  </tbody>\n",
       "</table>\n",
       "</div>"
      ],
      "text/plain": [
       "  road_name direction  inter_num\n",
       "0     4.19로        상행        2.0\n",
       "1       가락로        상행        4.0\n",
       "2     가로공원로        상행        4.0\n",
       "3  가로공원로76길        상행        1.0\n",
       "4      가마산로        상행       10.0"
      ]
     },
     "execution_count": 24,
     "metadata": {},
     "output_type": "execute_result"
    }
   ],
   "source": [
    "intersection = intersection.melt(id_vars = '도로명')\n",
    "intersection.columns = ['road_name','direction','inter_num']\n",
    "intersection.head()"
   ]
  },
  {
   "cell_type": "code",
   "execution_count": 25,
   "metadata": {
    "ExecuteTime": {
     "end_time": "2019-06-04T10:50:43.576874Z",
     "start_time": "2019-06-04T10:50:43.537773Z"
    }
   },
   "outputs": [
    {
     "data": {
      "text/html": [
       "<div>\n",
       "<style scoped>\n",
       "    .dataframe tbody tr th:only-of-type {\n",
       "        vertical-align: middle;\n",
       "    }\n",
       "\n",
       "    .dataframe tbody tr th {\n",
       "        vertical-align: top;\n",
       "    }\n",
       "\n",
       "    .dataframe thead th {\n",
       "        text-align: right;\n",
       "    }\n",
       "</style>\n",
       "<table border=\"1\" class=\"dataframe\">\n",
       "  <thead>\n",
       "    <tr style=\"text-align: right;\">\n",
       "      <th></th>\n",
       "      <th>date</th>\n",
       "      <th>days</th>\n",
       "      <th>road_name</th>\n",
       "      <th>link_id</th>\n",
       "      <th>start_point</th>\n",
       "      <th>end_point</th>\n",
       "      <th>direction</th>\n",
       "      <th>road_length</th>\n",
       "      <th>road_num</th>\n",
       "      <th>road_type</th>\n",
       "      <th>...</th>\n",
       "      <th>NO2</th>\n",
       "      <th>PM10</th>\n",
       "      <th>PM2.5</th>\n",
       "      <th>cctv</th>\n",
       "      <th>kids</th>\n",
       "      <th>speed_limit</th>\n",
       "      <th>entrance</th>\n",
       "      <th>signal</th>\n",
       "      <th>special</th>\n",
       "      <th>vacation</th>\n",
       "    </tr>\n",
       "  </thead>\n",
       "  <tbody>\n",
       "    <tr>\n",
       "      <th>8</th>\n",
       "      <td>20180313</td>\n",
       "      <td>화</td>\n",
       "      <td>4.19로</td>\n",
       "      <td>1080012800</td>\n",
       "      <td>국립4.19묘지</td>\n",
       "      <td>국립4.19묘지입구</td>\n",
       "      <td>상행</td>\n",
       "      <td>352</td>\n",
       "      <td>1.0</td>\n",
       "      <td>보조간선도로</td>\n",
       "      <td>...</td>\n",
       "      <td>0.072</td>\n",
       "      <td>108.0</td>\n",
       "      <td>69.0</td>\n",
       "      <td>0.0</td>\n",
       "      <td>0.0</td>\n",
       "      <td>40.0</td>\n",
       "      <td>25.0</td>\n",
       "      <td>8.0</td>\n",
       "      <td>0</td>\n",
       "      <td>0</td>\n",
       "    </tr>\n",
       "    <tr>\n",
       "      <th>9</th>\n",
       "      <td>20180313</td>\n",
       "      <td>화</td>\n",
       "      <td>4.19로</td>\n",
       "      <td>1080012800</td>\n",
       "      <td>국립4.19묘지</td>\n",
       "      <td>국립4.19묘지입구</td>\n",
       "      <td>상행</td>\n",
       "      <td>352</td>\n",
       "      <td>1.0</td>\n",
       "      <td>보조간선도로</td>\n",
       "      <td>...</td>\n",
       "      <td>0.070</td>\n",
       "      <td>111.0</td>\n",
       "      <td>66.0</td>\n",
       "      <td>0.0</td>\n",
       "      <td>0.0</td>\n",
       "      <td>40.0</td>\n",
       "      <td>25.0</td>\n",
       "      <td>8.0</td>\n",
       "      <td>0</td>\n",
       "      <td>0</td>\n",
       "    </tr>\n",
       "    <tr>\n",
       "      <th>10</th>\n",
       "      <td>20180313</td>\n",
       "      <td>화</td>\n",
       "      <td>4.19로</td>\n",
       "      <td>1080012800</td>\n",
       "      <td>국립4.19묘지</td>\n",
       "      <td>국립4.19묘지입구</td>\n",
       "      <td>상행</td>\n",
       "      <td>352</td>\n",
       "      <td>1.0</td>\n",
       "      <td>보조간선도로</td>\n",
       "      <td>...</td>\n",
       "      <td>0.056</td>\n",
       "      <td>79.0</td>\n",
       "      <td>50.0</td>\n",
       "      <td>0.0</td>\n",
       "      <td>0.0</td>\n",
       "      <td>40.0</td>\n",
       "      <td>25.0</td>\n",
       "      <td>8.0</td>\n",
       "      <td>0</td>\n",
       "      <td>0</td>\n",
       "    </tr>\n",
       "  </tbody>\n",
       "</table>\n",
       "<p>3 rows × 31 columns</p>\n",
       "</div>"
      ],
      "text/plain": [
       "        date days road_name     link_id start_point   end_point direction  \\\n",
       "8   20180313    화     4.19로  1080012800    국립4.19묘지  국립4.19묘지입구        상행   \n",
       "9   20180313    화     4.19로  1080012800    국립4.19묘지  국립4.19묘지입구        상행   \n",
       "10  20180313    화     4.19로  1080012800    국립4.19묘지  국립4.19묘지입구        상행   \n",
       "\n",
       "    road_length  road_num road_type    ...       NO2   PM10  PM2.5  cctv  \\\n",
       "8           352       1.0    보조간선도로    ...     0.072  108.0   69.0   0.0   \n",
       "9           352       1.0    보조간선도로    ...     0.070  111.0   66.0   0.0   \n",
       "10          352       1.0    보조간선도로    ...     0.056   79.0   50.0   0.0   \n",
       "\n",
       "    kids  speed_limit  entrance  signal  special  vacation  \n",
       "8    0.0         40.0      25.0     8.0        0         0  \n",
       "9    0.0         40.0      25.0     8.0        0         0  \n",
       "10   0.0         40.0      25.0     8.0        0         0  \n",
       "\n",
       "[3 rows x 31 columns]"
      ]
     },
     "execution_count": 25,
     "metadata": {},
     "output_type": "execute_result"
    }
   ],
   "source": [
    "carspeed2.head(3)"
   ]
  },
  {
   "cell_type": "code",
   "execution_count": 26,
   "metadata": {
    "ExecuteTime": {
     "end_time": "2019-06-04T10:51:14.021256Z",
     "start_time": "2019-06-04T10:51:06.204971Z"
    }
   },
   "outputs": [
    {
     "data": {
      "text/plain": [
       "(3997528, 32)"
      ]
     },
     "execution_count": 26,
     "metadata": {},
     "output_type": "execute_result"
    }
   ],
   "source": [
    "carspeed2 = pd.merge(carspeed2, intersection, how = 'left', left_on = ['road_name','direction'], right_on = ['road_name','direction'])\n",
    "carspeed2.shape"
   ]
  },
  {
   "cell_type": "markdown",
   "metadata": {},
   "source": [
    "# accident_new"
   ]
  },
  {
   "cell_type": "code",
   "execution_count": 32,
   "metadata": {
    "ExecuteTime": {
     "end_time": "2019-06-03T10:57:58.777560Z",
     "start_time": "2019-06-03T10:57:58.769911Z"
    }
   },
   "outputs": [
    {
     "data": {
      "text/plain": [
       "['201801_Seoul_traffic.csv',\n",
       " '201804_Seoul_traffic.csv',\n",
       " '201807_Seoul_traffic.csv',\n",
       " '201810_Seoul_traffic.csv',\n",
       " 'accident11.xlsx',\n",
       " 'accident_new.csv',\n",
       " 'dt_201903.csv',\n",
       " 'dust1.csv',\n",
       " 'dust_final.csv',\n",
       " 'final',\n",
       " 'gugucon.csv',\n",
       " 'holiday.csv',\n",
       " 'intersection.csv',\n",
       " 'road_info.csv',\n",
       " 'weather_merged.csv',\n",
       " '미세먼지1.xls',\n",
       " '미세먼지10.xls',\n",
       " '미세먼지4.xls',\n",
       " '미세먼지7.xls']"
      ]
     },
     "execution_count": 32,
     "metadata": {},
     "output_type": "execute_result"
    }
   ],
   "source": [
    "os.listdir('../data')"
   ]
  },
  {
   "cell_type": "code",
   "execution_count": 27,
   "metadata": {
    "ExecuteTime": {
     "end_time": "2019-06-04T10:51:17.499597Z",
     "start_time": "2019-06-04T10:51:17.465429Z"
    }
   },
   "outputs": [
    {
     "data": {
      "text/html": [
       "<div>\n",
       "<style scoped>\n",
       "    .dataframe tbody tr th:only-of-type {\n",
       "        vertical-align: middle;\n",
       "    }\n",
       "\n",
       "    .dataframe tbody tr th {\n",
       "        vertical-align: top;\n",
       "    }\n",
       "\n",
       "    .dataframe thead th {\n",
       "        text-align: right;\n",
       "    }\n",
       "</style>\n",
       "<table border=\"1\" class=\"dataframe\">\n",
       "  <thead>\n",
       "    <tr style=\"text-align: right;\">\n",
       "      <th></th>\n",
       "      <th>road_name</th>\n",
       "      <th>사망자수</th>\n",
       "      <th>중상자수</th>\n",
       "      <th>경상자수</th>\n",
       "      <th>부상신고자수</th>\n",
       "      <th>victims</th>\n",
       "      <th>severity</th>\n",
       "      <th>accident_count</th>\n",
       "    </tr>\n",
       "  </thead>\n",
       "  <tbody>\n",
       "    <tr>\n",
       "      <th>0</th>\n",
       "      <td>4.19로</td>\n",
       "      <td>0</td>\n",
       "      <td>3</td>\n",
       "      <td>15</td>\n",
       "      <td>1</td>\n",
       "      <td>19</td>\n",
       "      <td>55</td>\n",
       "      <td>13</td>\n",
       "    </tr>\n",
       "    <tr>\n",
       "      <th>1</th>\n",
       "      <td>63로</td>\n",
       "      <td>0</td>\n",
       "      <td>0</td>\n",
       "      <td>3</td>\n",
       "      <td>1</td>\n",
       "      <td>4</td>\n",
       "      <td>10</td>\n",
       "      <td>3</td>\n",
       "    </tr>\n",
       "    <tr>\n",
       "      <th>2</th>\n",
       "      <td>가락로</td>\n",
       "      <td>0</td>\n",
       "      <td>20</td>\n",
       "      <td>50</td>\n",
       "      <td>15</td>\n",
       "      <td>85</td>\n",
       "      <td>225</td>\n",
       "      <td>70</td>\n",
       "    </tr>\n",
       "  </tbody>\n",
       "</table>\n",
       "</div>"
      ],
      "text/plain": [
       "  road_name  사망자수  중상자수  경상자수  부상신고자수  victims  severity  accident_count\n",
       "0     4.19로     0     3    15       1       19        55              13\n",
       "1       63로     0     0     3       1        4        10               3\n",
       "2       가락로     0    20    50      15       85       225              70"
      ]
     },
     "execution_count": 27,
     "metadata": {},
     "output_type": "execute_result"
    }
   ],
   "source": [
    "accident_new = pd.read_csv('../data/accident_new.csv')\n",
    "accident_new.columns = ['road_name','사망자수','중상자수','경상자수','부상신고자수','victims','severity','accident_count']\n",
    "accident_new.head(3)"
   ]
  },
  {
   "cell_type": "code",
   "execution_count": 28,
   "metadata": {
    "ExecuteTime": {
     "end_time": "2019-06-04T10:52:17.929935Z",
     "start_time": "2019-06-04T10:52:14.287898Z"
    }
   },
   "outputs": [
    {
     "data": {
      "text/html": [
       "<div>\n",
       "<style scoped>\n",
       "    .dataframe tbody tr th:only-of-type {\n",
       "        vertical-align: middle;\n",
       "    }\n",
       "\n",
       "    .dataframe tbody tr th {\n",
       "        vertical-align: top;\n",
       "    }\n",
       "\n",
       "    .dataframe thead th {\n",
       "        text-align: right;\n",
       "    }\n",
       "</style>\n",
       "<table border=\"1\" class=\"dataframe\">\n",
       "  <thead>\n",
       "    <tr style=\"text-align: right;\">\n",
       "      <th></th>\n",
       "      <th>date</th>\n",
       "      <th>days</th>\n",
       "      <th>road_name</th>\n",
       "      <th>link_id</th>\n",
       "      <th>start_point</th>\n",
       "      <th>end_point</th>\n",
       "      <th>direction</th>\n",
       "      <th>road_length</th>\n",
       "      <th>road_num</th>\n",
       "      <th>road_type</th>\n",
       "      <th>...</th>\n",
       "      <th>special</th>\n",
       "      <th>vacation</th>\n",
       "      <th>inter_num</th>\n",
       "      <th>사망자수</th>\n",
       "      <th>중상자수</th>\n",
       "      <th>경상자수</th>\n",
       "      <th>부상신고자수</th>\n",
       "      <th>victims</th>\n",
       "      <th>severity</th>\n",
       "      <th>accident_count</th>\n",
       "    </tr>\n",
       "  </thead>\n",
       "  <tbody>\n",
       "    <tr>\n",
       "      <th>0</th>\n",
       "      <td>20180313</td>\n",
       "      <td>화</td>\n",
       "      <td>4.19로</td>\n",
       "      <td>1080012800</td>\n",
       "      <td>국립4.19묘지</td>\n",
       "      <td>국립4.19묘지입구</td>\n",
       "      <td>상행</td>\n",
       "      <td>352</td>\n",
       "      <td>1.0</td>\n",
       "      <td>보조간선도로</td>\n",
       "      <td>...</td>\n",
       "      <td>0</td>\n",
       "      <td>0</td>\n",
       "      <td>2.0</td>\n",
       "      <td>0.0</td>\n",
       "      <td>3.0</td>\n",
       "      <td>15.0</td>\n",
       "      <td>1.0</td>\n",
       "      <td>19.0</td>\n",
       "      <td>55.0</td>\n",
       "      <td>13.0</td>\n",
       "    </tr>\n",
       "    <tr>\n",
       "      <th>1</th>\n",
       "      <td>20180313</td>\n",
       "      <td>화</td>\n",
       "      <td>4.19로</td>\n",
       "      <td>1080012800</td>\n",
       "      <td>국립4.19묘지</td>\n",
       "      <td>국립4.19묘지입구</td>\n",
       "      <td>상행</td>\n",
       "      <td>352</td>\n",
       "      <td>1.0</td>\n",
       "      <td>보조간선도로</td>\n",
       "      <td>...</td>\n",
       "      <td>0</td>\n",
       "      <td>0</td>\n",
       "      <td>2.0</td>\n",
       "      <td>0.0</td>\n",
       "      <td>3.0</td>\n",
       "      <td>15.0</td>\n",
       "      <td>1.0</td>\n",
       "      <td>19.0</td>\n",
       "      <td>55.0</td>\n",
       "      <td>13.0</td>\n",
       "    </tr>\n",
       "    <tr>\n",
       "      <th>2</th>\n",
       "      <td>20180313</td>\n",
       "      <td>화</td>\n",
       "      <td>4.19로</td>\n",
       "      <td>1080012800</td>\n",
       "      <td>국립4.19묘지</td>\n",
       "      <td>국립4.19묘지입구</td>\n",
       "      <td>상행</td>\n",
       "      <td>352</td>\n",
       "      <td>1.0</td>\n",
       "      <td>보조간선도로</td>\n",
       "      <td>...</td>\n",
       "      <td>0</td>\n",
       "      <td>0</td>\n",
       "      <td>2.0</td>\n",
       "      <td>0.0</td>\n",
       "      <td>3.0</td>\n",
       "      <td>15.0</td>\n",
       "      <td>1.0</td>\n",
       "      <td>19.0</td>\n",
       "      <td>55.0</td>\n",
       "      <td>13.0</td>\n",
       "    </tr>\n",
       "    <tr>\n",
       "      <th>3</th>\n",
       "      <td>20180313</td>\n",
       "      <td>화</td>\n",
       "      <td>4.19로</td>\n",
       "      <td>1080012800</td>\n",
       "      <td>국립4.19묘지</td>\n",
       "      <td>국립4.19묘지입구</td>\n",
       "      <td>상행</td>\n",
       "      <td>352</td>\n",
       "      <td>1.0</td>\n",
       "      <td>보조간선도로</td>\n",
       "      <td>...</td>\n",
       "      <td>0</td>\n",
       "      <td>0</td>\n",
       "      <td>2.0</td>\n",
       "      <td>0.0</td>\n",
       "      <td>3.0</td>\n",
       "      <td>15.0</td>\n",
       "      <td>1.0</td>\n",
       "      <td>19.0</td>\n",
       "      <td>55.0</td>\n",
       "      <td>13.0</td>\n",
       "    </tr>\n",
       "    <tr>\n",
       "      <th>4</th>\n",
       "      <td>20180313</td>\n",
       "      <td>화</td>\n",
       "      <td>4.19로</td>\n",
       "      <td>1080012800</td>\n",
       "      <td>국립4.19묘지</td>\n",
       "      <td>국립4.19묘지입구</td>\n",
       "      <td>상행</td>\n",
       "      <td>352</td>\n",
       "      <td>1.0</td>\n",
       "      <td>보조간선도로</td>\n",
       "      <td>...</td>\n",
       "      <td>0</td>\n",
       "      <td>0</td>\n",
       "      <td>2.0</td>\n",
       "      <td>0.0</td>\n",
       "      <td>3.0</td>\n",
       "      <td>15.0</td>\n",
       "      <td>1.0</td>\n",
       "      <td>19.0</td>\n",
       "      <td>55.0</td>\n",
       "      <td>13.0</td>\n",
       "    </tr>\n",
       "  </tbody>\n",
       "</table>\n",
       "<p>5 rows × 39 columns</p>\n",
       "</div>"
      ],
      "text/plain": [
       "       date days road_name     link_id start_point   end_point direction  \\\n",
       "0  20180313    화     4.19로  1080012800    국립4.19묘지  국립4.19묘지입구        상행   \n",
       "1  20180313    화     4.19로  1080012800    국립4.19묘지  국립4.19묘지입구        상행   \n",
       "2  20180313    화     4.19로  1080012800    국립4.19묘지  국립4.19묘지입구        상행   \n",
       "3  20180313    화     4.19로  1080012800    국립4.19묘지  국립4.19묘지입구        상행   \n",
       "4  20180313    화     4.19로  1080012800    국립4.19묘지  국립4.19묘지입구        상행   \n",
       "\n",
       "   road_length  road_num road_type       ...       special vacation  \\\n",
       "0          352       1.0    보조간선도로       ...             0        0   \n",
       "1          352       1.0    보조간선도로       ...             0        0   \n",
       "2          352       1.0    보조간선도로       ...             0        0   \n",
       "3          352       1.0    보조간선도로       ...             0        0   \n",
       "4          352       1.0    보조간선도로       ...             0        0   \n",
       "\n",
       "   inter_num  사망자수  중상자수  경상자수  부상신고자수  victims  severity  accident_count  \n",
       "0        2.0   0.0   3.0  15.0     1.0     19.0      55.0            13.0  \n",
       "1        2.0   0.0   3.0  15.0     1.0     19.0      55.0            13.0  \n",
       "2        2.0   0.0   3.0  15.0     1.0     19.0      55.0            13.0  \n",
       "3        2.0   0.0   3.0  15.0     1.0     19.0      55.0            13.0  \n",
       "4        2.0   0.0   3.0  15.0     1.0     19.0      55.0            13.0  \n",
       "\n",
       "[5 rows x 39 columns]"
      ]
     },
     "execution_count": 28,
     "metadata": {},
     "output_type": "execute_result"
    }
   ],
   "source": [
    "carspeed2 = pd.merge(carspeed2, accident_new, how = 'left', left_on = ['road_name'], right_on = ['road_name'])\n",
    "carspeed2.head()"
   ]
  },
  {
   "cell_type": "code",
   "execution_count": 29,
   "metadata": {
    "ExecuteTime": {
     "end_time": "2019-06-04T10:52:28.300381Z",
     "start_time": "2019-06-04T10:52:18.919120Z"
    }
   },
   "outputs": [
    {
     "data": {
      "text/plain": [
       "date                  0\n",
       "days                  0\n",
       "road_name             0\n",
       "link_id               0\n",
       "start_point           0\n",
       "end_point             0\n",
       "direction             0\n",
       "road_length           0\n",
       "road_num              0\n",
       "road_type             0\n",
       "urban_suburb          0\n",
       "district              0\n",
       "time                  0\n",
       "value                 0\n",
       "temperature           0\n",
       "wind                  0\n",
       "rain                  0\n",
       "snow                  0\n",
       "SO2                   0\n",
       "CO                    0\n",
       "O3                    0\n",
       "NO2                   0\n",
       "PM10                  0\n",
       "PM2.5                 0\n",
       "cctv                  0\n",
       "kids                  0\n",
       "speed_limit           0\n",
       "entrance              0\n",
       "signal                0\n",
       "special               0\n",
       "vacation              0\n",
       "inter_num             0\n",
       "사망자수              90065\n",
       "중상자수              90065\n",
       "경상자수              90065\n",
       "부상신고자수            90065\n",
       "victims           90065\n",
       "severity          90065\n",
       "accident_count    90065\n",
       "dtype: int64"
      ]
     },
     "execution_count": 29,
     "metadata": {},
     "output_type": "execute_result"
    }
   ],
   "source": [
    "carspeed2.isnull().sum()"
   ]
  },
  {
   "cell_type": "code",
   "execution_count": 30,
   "metadata": {
    "ExecuteTime": {
     "end_time": "2019-06-04T10:52:47.068790Z",
     "start_time": "2019-06-04T10:52:35.954582Z"
    }
   },
   "outputs": [
    {
     "data": {
      "text/plain": [
       "date              0\n",
       "days              0\n",
       "road_name         0\n",
       "link_id           0\n",
       "start_point       0\n",
       "end_point         0\n",
       "direction         0\n",
       "road_length       0\n",
       "road_num          0\n",
       "road_type         0\n",
       "urban_suburb      0\n",
       "district          0\n",
       "time              0\n",
       "value             0\n",
       "temperature       0\n",
       "wind              0\n",
       "rain              0\n",
       "snow              0\n",
       "SO2               0\n",
       "CO                0\n",
       "O3                0\n",
       "NO2               0\n",
       "PM10              0\n",
       "PM2.5             0\n",
       "cctv              0\n",
       "kids              0\n",
       "speed_limit       0\n",
       "entrance          0\n",
       "signal            0\n",
       "special           0\n",
       "vacation          0\n",
       "inter_num         0\n",
       "사망자수              0\n",
       "중상자수              0\n",
       "경상자수              0\n",
       "부상신고자수            0\n",
       "victims           0\n",
       "severity          0\n",
       "accident_count    0\n",
       "dtype: int64"
      ]
     },
     "execution_count": 30,
     "metadata": {},
     "output_type": "execute_result"
    }
   ],
   "source": [
    "carspeed2 = carspeed2.fillna(0)\n",
    "carspeed2.isnull().sum()"
   ]
  },
  {
   "cell_type": "code",
   "execution_count": 36,
   "metadata": {
    "ExecuteTime": {
     "end_time": "2019-06-04T10:54:29.381156Z",
     "start_time": "2019-06-04T10:54:29.373371Z"
    }
   },
   "outputs": [
    {
     "name": "stdout",
     "output_type": "stream",
     "text": [
      "0\n",
      "0\n"
     ]
    }
   ],
   "source": [
    "print(len(set(carspeed1) - set(carspeed2)))\n",
    "print(len(set(carspeed2) - set(carspeed1)))"
   ]
  },
  {
   "cell_type": "code",
   "execution_count": 37,
   "metadata": {
    "ExecuteTime": {
     "end_time": "2019-06-04T10:55:26.605687Z",
     "start_time": "2019-06-04T10:55:25.307779Z"
    }
   },
   "outputs": [],
   "source": [
    "carspeed2 = carspeed2[carspeed1.columns]"
   ]
  },
  {
   "cell_type": "code",
   "execution_count": 39,
   "metadata": {
    "ExecuteTime": {
     "end_time": "2019-06-04T10:57:05.943245Z",
     "start_time": "2019-06-04T10:56:25.902364Z"
    }
   },
   "outputs": [
    {
     "data": {
      "text/plain": [
       "date              0\n",
       "days              0\n",
       "road_name         0\n",
       "link_id           0\n",
       "start_point       0\n",
       "end_point         0\n",
       "direction         0\n",
       "road_length       0\n",
       "road_num          0\n",
       "road_type         0\n",
       "urban_suburb      0\n",
       "district          0\n",
       "special           0\n",
       "vacation          0\n",
       "time              0\n",
       "value             0\n",
       "temperature       0\n",
       "wind              0\n",
       "rain              0\n",
       "snow              0\n",
       "cctv              0\n",
       "kids              0\n",
       "speed_limit       0\n",
       "entrance          0\n",
       "signal            0\n",
       "SO2               0\n",
       "CO                0\n",
       "O3                0\n",
       "NO2               0\n",
       "PM10              0\n",
       "PM2.5             0\n",
       "inter_num         0\n",
       "사망자수              0\n",
       "중상자수              0\n",
       "경상자수              0\n",
       "부상신고자수            0\n",
       "victims           0\n",
       "severity          0\n",
       "accident_count    0\n",
       "dtype: int64"
      ]
     },
     "execution_count": 39,
     "metadata": {},
     "output_type": "execute_result"
    }
   ],
   "source": [
    "carspeed1 = pd.concat([carspeed1, carspeed2], axis = 0)\n",
    "carspeed1.isnull().sum()"
   ]
  },
  {
   "cell_type": "code",
   "execution_count": 40,
   "metadata": {
    "ExecuteTime": {
     "end_time": "2019-06-04T10:57:05.988270Z",
     "start_time": "2019-06-04T10:57:05.956695Z"
    }
   },
   "outputs": [
    {
     "data": {
      "text/plain": [
       "(11023023, 39)"
      ]
     },
     "execution_count": 40,
     "metadata": {},
     "output_type": "execute_result"
    }
   ],
   "source": [
    "carspeed1.shape"
   ]
  },
  {
   "cell_type": "code",
   "execution_count": 41,
   "metadata": {
    "ExecuteTime": {
     "end_time": "2019-06-04T10:57:29.047134Z",
     "start_time": "2019-06-04T10:57:29.039181Z"
    }
   },
   "outputs": [],
   "source": [
    "del carspeed2"
   ]
  },
  {
   "cell_type": "code",
   "execution_count": 43,
   "metadata": {
    "ExecuteTime": {
     "end_time": "2019-06-04T11:06:20.987063Z",
     "start_time": "2019-06-04T11:06:20.629163Z"
    }
   },
   "outputs": [
    {
     "data": {
      "text/plain": [
       "19    1382092\n",
       "18    1381816\n",
       "20    1377753\n",
       "17    1377520\n",
       "8     1376229\n",
       "9     1376123\n",
       "7     1375931\n",
       "6     1375559\n",
       "Name: time, dtype: int64"
      ]
     },
     "execution_count": 43,
     "metadata": {},
     "output_type": "execute_result"
    }
   ],
   "source": [
    "carspeed1.time.value_counts()"
   ]
  },
  {
   "cell_type": "markdown",
   "metadata": {},
   "source": [
    "# moring, evening"
   ]
  },
  {
   "cell_type": "code",
   "execution_count": 45,
   "metadata": {
    "ExecuteTime": {
     "end_time": "2019-06-04T11:10:08.126830Z",
     "start_time": "2019-06-04T11:10:02.861205Z"
    }
   },
   "outputs": [],
   "source": [
    "morning = carspeed1[(carspeed1.time == 6)|(carspeed1.time == 7)|(carspeed1.time == 8)|(carspeed1.time == 9)]\n",
    "evening = carspeed1[(carspeed1.time == 17)|(carspeed1.time == 18)|(carspeed1.time == 19)|(carspeed1.time == 20)]"
   ]
  },
  {
   "cell_type": "code",
   "execution_count": 49,
   "metadata": {
    "ExecuteTime": {
     "end_time": "2019-06-04T11:11:40.048509Z",
     "start_time": "2019-06-04T11:11:40.010470Z"
    }
   },
   "outputs": [
    {
     "name": "stdout",
     "output_type": "stream",
     "text": [
      "morning 평균 속도 29.432342018533877\n",
      "evening 평균 속도 22.4931594488351\n"
     ]
    }
   ],
   "source": [
    "print('morning 평균 속도', morning.value.mean())\n",
    "print('evening 평균 속도', evening.value.mean())"
   ]
  },
  {
   "cell_type": "code",
   "execution_count": 54,
   "metadata": {
    "ExecuteTime": {
     "end_time": "2019-06-04T11:18:11.734989Z",
     "start_time": "2019-06-04T11:18:11.726737Z"
    }
   },
   "outputs": [
    {
     "name": "stdout",
     "output_type": "stream",
     "text": [
      "morning shape :  (5503842, 39)\n",
      "evening shape :  (5519181, 39)\n"
     ]
    }
   ],
   "source": [
    "print('morning shape : ',morning.shape)\n",
    "print('evening shape : ',evening.shape)"
   ]
  },
  {
   "cell_type": "code",
   "execution_count": 52,
   "metadata": {
    "ExecuteTime": {
     "end_time": "2019-06-04T11:13:53.536218Z",
     "start_time": "2019-06-04T11:13:52.867100Z"
    }
   },
   "outputs": [
    {
     "data": {
      "text/plain": [
       "<matplotlib.axes._subplots.AxesSubplot at 0x18120d8e4e0>"
      ]
     },
     "execution_count": 52,
     "metadata": {},
     "output_type": "execute_result"
    },
    {
     "data": {
      "image/png": "[encoded data removed]",
      "text/plain": [
       "<Figure size 432x288 with 1 Axes>"
      ]
     },
     "metadata": {
      "needs_background": "light"
     },
     "output_type": "display_data"
    }
   ],
   "source": [
    "morning.value.hist(bins = 20)"
   ]
  },
  {
   "cell_type": "code",
   "execution_count": 53,
   "metadata": {
    "ExecuteTime": {
     "end_time": "2019-06-04T11:14:03.485665Z",
     "start_time": "2019-06-04T11:14:02.792654Z"
    }
   },
   "outputs": [
    {
     "data": {
      "text/plain": [
       "<matplotlib.axes._subplots.AxesSubplot at 0x18118fff668>"
      ]
     },
     "execution_count": 53,
     "metadata": {},
     "output_type": "execute_result"
    },
    {
     "data": {
      "image/png": "[encoded data removed]",
      "text/plain": [
       "<Figure size 432x288 with 1 Axes>"
      ]
     },
     "metadata": {
      "needs_background": "light"
     },
     "output_type": "display_data"
    }
   ],
   "source": [
    "evening.value.hist(bins = 20)"
   ]
  },
  {
   "cell_type": "markdown",
   "metadata": {},
   "source": [
    "# train, test split"
   ]
  },
  {
   "cell_type": "code",
   "execution_count": 81,
   "metadata": {
    "ExecuteTime": {
     "end_time": "2019-06-04T11:31:23.451546Z",
     "start_time": "2019-06-04T11:31:23.445312Z"
    }
   },
   "outputs": [],
   "source": [
    "from sklearn.model_selection import train_test_split"
   ]
  },
  {
   "cell_type": "markdown",
   "metadata": {},
   "source": [
    "## morning"
   ]
  },
  {
   "cell_type": "code",
   "execution_count": 82,
   "metadata": {
    "ExecuteTime": {
     "end_time": "2019-06-04T11:32:00.372951Z",
     "start_time": "2019-06-04T11:31:58.272973Z"
    }
   },
   "outputs": [],
   "source": [
    "y = morning.value\n",
    "X = morning.drop('value', axis = 1)"
   ]
  },
  {
   "cell_type": "code",
   "execution_count": 83,
   "metadata": {
    "ExecuteTime": {
     "end_time": "2019-06-04T11:33:13.321927Z",
     "start_time": "2019-06-04T11:33:00.413521Z"
    }
   },
   "outputs": [],
   "source": [
    "X_train, X_test, y_train, y_test = train_test_split(X, y, test_size = 0.3, random_state = 333 )"
   ]
  },
  {
   "cell_type": "code",
   "execution_count": 86,
   "metadata": {
    "ExecuteTime": {
     "end_time": "2019-06-04T11:34:20.012022Z",
     "start_time": "2019-06-04T11:34:19.417209Z"
    }
   },
   "outputs": [
    {
     "name": "stderr",
     "output_type": "stream",
     "text": [
      "C:\\Users\\wjssm\\Anaconda3\\lib\\site-packages\\ipykernel_launcher.py:1: SettingWithCopyWarning: \n",
      "A value is trying to be set on a copy of a slice from a DataFrame.\n",
      "Try using .loc[row_indexer,col_indexer] = value instead\n",
      "\n",
      "See the caveats in the documentation: http://pandas.pydata.org/pandas-docs/stable/indexing.html#indexing-view-versus-copy\n",
      "  \"\"\"Entry point for launching an IPython kernel.\n",
      "C:\\Users\\wjssm\\Anaconda3\\lib\\site-packages\\ipykernel_launcher.py:2: SettingWithCopyWarning: \n",
      "A value is trying to be set on a copy of a slice from a DataFrame.\n",
      "Try using .loc[row_indexer,col_indexer] = value instead\n",
      "\n",
      "See the caveats in the documentation: http://pandas.pydata.org/pandas-docs/stable/indexing.html#indexing-view-versus-copy\n",
      "  \n"
     ]
    }
   ],
   "source": [
    "X_train['y'] = y_train\n",
    "X_test['y'] = y_test"
   ]
  },
  {
   "cell_type": "code",
   "execution_count": 88,
   "metadata": {
    "ExecuteTime": {
     "end_time": "2019-06-04T11:34:51.644422Z",
     "start_time": "2019-06-04T11:34:51.638324Z"
    }
   },
   "outputs": [
    {
     "name": "stdout",
     "output_type": "stream",
     "text": [
      "train shape :  (3852689, 39)\n",
      "test shape :  (1651153, 39)\n"
     ]
    }
   ],
   "source": [
    "print('train shape : ', X_train.shape)\n",
    "print('test shape : ', X_test.shape)"
   ]
  },
  {
   "cell_type": "code",
   "execution_count": 92,
   "metadata": {
    "ExecuteTime": {
     "end_time": "2019-06-04T11:36:58.348284Z",
     "start_time": "2019-06-04T11:36:58.335331Z"
    }
   },
   "outputs": [],
   "source": [
    "X_train.columns = ['date', 'days', 'road_name', 'link_id', 'start_point', 'end_point',\n",
    "       'direction', 'road_length', 'road_num', 'road_type', 'urban_suburb',\n",
    "       'district', 'special', 'vacation', 'time', 'temperature', 'wind',\n",
    "       'rain', 'snow', 'cctv', 'kids', 'speed_limit', 'entrance', 'signal',\n",
    "       'SO2', 'CO', 'O3', 'NO2', 'PM10', 'PM2.5', 'inter_num', 'd1', 'd2',\n",
    "       'd3', 'd4', 'd_sum', 'severity', 'accident_count', 'y']\n",
    "X_test.columns = X_train.columns"
   ]
  },
  {
   "cell_type": "code",
   "execution_count": 94,
   "metadata": {
    "ExecuteTime": {
     "end_time": "2019-06-04T11:45:34.757303Z",
     "start_time": "2019-06-04T11:38:44.363028Z"
    }
   },
   "outputs": [],
   "source": [
    "X_train.to_csv('../data/final/morning_train.csv', index = False, encoding = 'utf-8')\n",
    "X_test.to_csv('../data/final/morning_test.csv', index = False, encoding = 'utf-8')"
   ]
  },
  {
   "cell_type": "markdown",
   "metadata": {},
   "source": [
    "## evening"
   ]
  },
  {
   "cell_type": "code",
   "execution_count": 95,
   "metadata": {
    "ExecuteTime": {
     "end_time": "2019-06-04T11:47:02.631280Z",
     "start_time": "2019-06-04T11:46:56.551238Z"
    }
   },
   "outputs": [],
   "source": [
    "y = evening.value\n",
    "X = evening.drop('value', axis = 1)"
   ]
  },
  {
   "cell_type": "code",
   "execution_count": 96,
   "metadata": {
    "ExecuteTime": {
     "end_time": "2019-06-04T11:48:16.427111Z",
     "start_time": "2019-06-04T11:47:59.947925Z"
    }
   },
   "outputs": [],
   "source": [
    "X_train, X_test, y_train, y_test = train_test_split(X, y, test_size = 0.3, random_state = 333 )"
   ]
  },
  {
   "cell_type": "code",
   "execution_count": 97,
   "metadata": {
    "ExecuteTime": {
     "end_time": "2019-06-04T11:48:19.981956Z",
     "start_time": "2019-06-04T11:48:16.448914Z"
    }
   },
   "outputs": [
    {
     "name": "stderr",
     "output_type": "stream",
     "text": [
      "C:\\Users\\wjssm\\Anaconda3\\lib\\site-packages\\ipykernel_launcher.py:1: SettingWithCopyWarning: \n",
      "A value is trying to be set on a copy of a slice from a DataFrame.\n",
      "Try using .loc[row_indexer,col_indexer] = value instead\n",
      "\n",
      "See the caveats in the documentation: http://pandas.pydata.org/pandas-docs/stable/indexing.html#indexing-view-versus-copy\n",
      "  \"\"\"Entry point for launching an IPython kernel.\n",
      "C:\\Users\\wjssm\\Anaconda3\\lib\\site-packages\\ipykernel_launcher.py:2: SettingWithCopyWarning: \n",
      "A value is trying to be set on a copy of a slice from a DataFrame.\n",
      "Try using .loc[row_indexer,col_indexer] = value instead\n",
      "\n",
      "See the caveats in the documentation: http://pandas.pydata.org/pandas-docs/stable/indexing.html#indexing-view-versus-copy\n",
      "  \n"
     ]
    }
   ],
   "source": [
    "X_train['y'] = y_train\n",
    "X_test['y'] = y_test"
   ]
  },
  {
   "cell_type": "code",
   "execution_count": 98,
   "metadata": {
    "ExecuteTime": {
     "end_time": "2019-06-04T11:48:22.010278Z",
     "start_time": "2019-06-04T11:48:22.004032Z"
    }
   },
   "outputs": [
    {
     "name": "stdout",
     "output_type": "stream",
     "text": [
      "train shape :  (3863426, 39)\n",
      "test shape :  (1655755, 39)\n"
     ]
    }
   ],
   "source": [
    "print('train shape : ', X_train.shape)\n",
    "print('test shape : ', X_test.shape)"
   ]
  },
  {
   "cell_type": "code",
   "execution_count": 99,
   "metadata": {
    "ExecuteTime": {
     "end_time": "2019-06-04T11:48:28.175365Z",
     "start_time": "2019-06-04T11:48:28.158218Z"
    }
   },
   "outputs": [],
   "source": [
    "X_train.columns = ['date', 'days', 'road_name', 'link_id', 'start_point', 'end_point',\n",
    "       'direction', 'road_length', 'road_num', 'road_type', 'urban_suburb',\n",
    "       'district', 'special', 'vacation', 'time', 'temperature', 'wind',\n",
    "       'rain', 'snow', 'cctv', 'kids', 'speed_limit', 'entrance', 'signal',\n",
    "       'SO2', 'CO', 'O3', 'NO2', 'PM10', 'PM2.5', 'inter_num', 'd1', 'd2',\n",
    "       'd3', 'd4', 'd_sum', 'severity', 'accident_count', 'y']\n",
    "X_test.columns = X_train.columns"
   ]
  },
  {
   "cell_type": "code",
   "execution_count": 101,
   "metadata": {
    "ExecuteTime": {
     "end_time": "2019-06-04T11:57:17.866552Z",
     "start_time": "2019-06-04T11:50:13.359024Z"
    }
   },
   "outputs": [],
   "source": [
    "X_train.to_csv('../data/final/evening_train.csv', index = False, encoding = 'utf-8')\n",
    "X_test.to_csv('../data/final/evening_test.csv', index = False, encoding = 'utf-8')"
   ]
  }
 ],
 "metadata": {
  "hide_input": false,
  "kernelspec": {
   "display_name": "Python 3",
   "language": "python",
   "name": "python3"
  },
  "language_info": {
   "codemirror_mode": {
    "name": "ipython",
    "version": 3
   },
   "file_extension": ".py",
   "mimetype": "text/x-python",
   "name": "python",
   "nbconvert_exporter": "python",
   "pygments_lexer": "ipython3",
   "version": "3.7.1"
  },
  "notify_time": "30",
  "toc": {
   "base_numbering": 1,
   "nav_menu": {},
   "number_sections": true,
   "sideBar": true,
   "skip_h1_title": false,
   "title_cell": "Table of Contents",
   "title_sidebar": "Contents",
   "toc_cell": false,
   "toc_position": {},
   "toc_section_display": true,
   "toc_window_display": true
  }
 },
 "nbformat": 4,
 "nbformat_minor": 2
}
