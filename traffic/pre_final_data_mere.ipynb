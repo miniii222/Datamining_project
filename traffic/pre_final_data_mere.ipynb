{
 "cells": [
  {
   "cell_type": "code",
   "execution_count": 3,
   "metadata": {
    "ExecuteTime": {
     "end_time": "2019-06-03T10:21:24.036208Z",
     "start_time": "2019-06-03T10:21:24.029070Z"
    }
   },
   "outputs": [
    {
     "data": {
      "text/plain": [
       "['carspeed_14710.csv', 'carspeed_25811.csv']"
      ]
     },
     "execution_count": 3,
     "metadata": {},
     "output_type": "execute_result"
    }
   ],
   "source": [
    "import pandas as pd\n",
    "import os\n",
    "\n",
    "os.listdir('../data/final')"
   ]
  },
  {
   "cell_type": "code",
   "execution_count": 4,
   "metadata": {
    "ExecuteTime": {
     "end_time": "2019-06-03T10:28:16.506628Z",
     "start_time": "2019-06-03T10:24:11.594452Z"
    }
   },
   "outputs": [],
   "source": [
    "carspeed1 = pd.read_csv('../data/final/carspeed_14710.csv')\n",
    "carspeed2 = pd.read_csv('../data/final/carspeed_25811.csv')"
   ]
  },
  {
   "cell_type": "code",
   "execution_count": 7,
   "metadata": {
    "ExecuteTime": {
     "end_time": "2019-06-03T10:37:35.139542Z",
     "start_time": "2019-06-03T10:37:35.130929Z"
    }
   },
   "outputs": [
    {
     "name": "stdout",
     "output_type": "stream",
     "text": [
      "shape 1 :  (4156794, 31)\n",
      "shape 2 :  (2954589, 31)\n"
     ]
    }
   ],
   "source": [
    "print('shape 1 : ', carspeed1.shape)\n",
    "print('shape 2 : ', carspeed2.shape)"
   ]
  },
  {
   "cell_type": "markdown",
   "metadata": {},
   "source": [
    "# common link"
   ]
  },
  {
   "cell_type": "code",
   "execution_count": 10,
   "metadata": {
    "ExecuteTime": {
     "end_time": "2019-06-03T10:39:00.532849Z",
     "start_time": "2019-06-03T10:38:59.222236Z"
    }
   },
   "outputs": [
    {
     "data": {
      "text/plain": [
       "4527"
      ]
     },
     "execution_count": 10,
     "metadata": {},
     "output_type": "execute_result"
    }
   ],
   "source": [
    "common_link = set(carspeed1.link_id).intersection(set(carspeed2.link_id))\n",
    "len(common_link)"
   ]
  },
  {
   "cell_type": "code",
   "execution_count": 12,
   "metadata": {
    "ExecuteTime": {
     "end_time": "2019-06-03T10:39:49.742881Z",
     "start_time": "2019-06-03T10:39:45.198210Z"
    }
   },
   "outputs": [],
   "source": [
    "carspeed1 = carspeed1[carspeed1.link_id.isin(common_link)]\n",
    "carspeed2 = carspeed2[carspeed2.link_id.isin(common_link)]"
   ]
  },
  {
   "cell_type": "code",
   "execution_count": 13,
   "metadata": {
    "ExecuteTime": {
     "end_time": "2019-06-03T10:39:54.004378Z",
     "start_time": "2019-06-03T10:39:53.997642Z"
    }
   },
   "outputs": [
    {
     "name": "stdout",
     "output_type": "stream",
     "text": [
      "shape 1 :  (4098912, 31)\n",
      "shape 2 :  (2926583, 31)\n"
     ]
    }
   ],
   "source": [
    "print('shape 1 : ', carspeed1.shape)\n",
    "print('shape 2 : ', carspeed2.shape)"
   ]
  },
  {
   "cell_type": "code",
   "execution_count": 19,
   "metadata": {
    "ExecuteTime": {
     "end_time": "2019-06-03T10:42:25.347792Z",
     "start_time": "2019-06-03T10:42:24.480659Z"
    }
   },
   "outputs": [],
   "source": [
    "carspeed2 = carspeed2[carspeed1.columns]"
   ]
  },
  {
   "cell_type": "code",
   "execution_count": 21,
   "metadata": {
    "ExecuteTime": {
     "end_time": "2019-06-03T10:44:38.612160Z",
     "start_time": "2019-06-03T10:44:33.748572Z"
    }
   },
   "outputs": [
    {
     "data": {
      "text/plain": [
       "(7025495, 31)"
      ]
     },
     "execution_count": 21,
     "metadata": {},
     "output_type": "execute_result"
    }
   ],
   "source": [
    "carspeed = pd.concat([carspeed1, carspeed2], axis = 0)\n",
    "carspeed.shape"
   ]
  },
  {
   "cell_type": "code",
   "execution_count": 22,
   "metadata": {
    "ExecuteTime": {
     "end_time": "2019-06-03T10:45:25.696512Z",
     "start_time": "2019-06-03T10:45:25.692544Z"
    }
   },
   "outputs": [],
   "source": [
    "del carspeed1, carspeed2"
   ]
  },
  {
   "cell_type": "markdown",
   "metadata": {},
   "source": [
    "# intersection"
   ]
  },
  {
   "cell_type": "code",
   "execution_count": 23,
   "metadata": {
    "ExecuteTime": {
     "end_time": "2019-06-03T10:47:59.634124Z",
     "start_time": "2019-06-03T10:47:59.624475Z"
    }
   },
   "outputs": [
    {
     "data": {
      "text/plain": [
       "['201801_Seoul_traffic.csv',\n",
       " '201804_Seoul_traffic.csv',\n",
       " '201807_Seoul_traffic.csv',\n",
       " '201810_Seoul_traffic.csv',\n",
       " 'accident11.xlsx',\n",
       " 'dt_201903.csv',\n",
       " 'dust1.csv',\n",
       " 'dust_final.csv',\n",
       " 'final',\n",
       " 'gugucon.csv',\n",
       " 'holiday.csv',\n",
       " 'intersection.csv',\n",
       " 'road_info.csv',\n",
       " 'weather_merged.csv',\n",
       " '미세먼지1.xls',\n",
       " '미세먼지10.xls',\n",
       " '미세먼지4.xls',\n",
       " '미세먼지7.xls']"
      ]
     },
     "execution_count": 23,
     "metadata": {},
     "output_type": "execute_result"
    }
   ],
   "source": [
    "os.listdir('../data')"
   ]
  },
  {
   "cell_type": "code",
   "execution_count": 28,
   "metadata": {
    "ExecuteTime": {
     "end_time": "2019-06-03T10:55:45.350675Z",
     "start_time": "2019-06-03T10:55:45.330250Z"
    }
   },
   "outputs": [
    {
     "data": {
      "text/html": [
       "<div>\n",
       "<style scoped>\n",
       "    .dataframe tbody tr th:only-of-type {\n",
       "        vertical-align: middle;\n",
       "    }\n",
       "\n",
       "    .dataframe tbody tr th {\n",
       "        vertical-align: top;\n",
       "    }\n",
       "\n",
       "    .dataframe thead th {\n",
       "        text-align: right;\n",
       "    }\n",
       "</style>\n",
       "<table border=\"1\" class=\"dataframe\">\n",
       "  <thead>\n",
       "    <tr style=\"text-align: right;\">\n",
       "      <th></th>\n",
       "      <th>도로명</th>\n",
       "      <th>상행</th>\n",
       "      <th>하행</th>\n",
       "    </tr>\n",
       "  </thead>\n",
       "  <tbody>\n",
       "    <tr>\n",
       "      <th>0</th>\n",
       "      <td>4.19로</td>\n",
       "      <td>2.0</td>\n",
       "      <td>2.0</td>\n",
       "    </tr>\n",
       "    <tr>\n",
       "      <th>1</th>\n",
       "      <td>가락로</td>\n",
       "      <td>4.0</td>\n",
       "      <td>4.0</td>\n",
       "    </tr>\n",
       "    <tr>\n",
       "      <th>2</th>\n",
       "      <td>가로공원로</td>\n",
       "      <td>4.0</td>\n",
       "      <td>4.0</td>\n",
       "    </tr>\n",
       "  </tbody>\n",
       "</table>\n",
       "</div>"
      ],
      "text/plain": [
       "     도로명   상행   하행\n",
       "0  4.19로  2.0  2.0\n",
       "1    가락로  4.0  4.0\n",
       "2  가로공원로  4.0  4.0"
      ]
     },
     "execution_count": 28,
     "metadata": {},
     "output_type": "execute_result"
    }
   ],
   "source": [
    "intersection = pd.read_csv('../data/intersection.csv')\n",
    "intersection.head(3)"
   ]
  },
  {
   "cell_type": "code",
   "execution_count": 29,
   "metadata": {
    "ExecuteTime": {
     "end_time": "2019-06-03T10:55:46.685212Z",
     "start_time": "2019-06-03T10:55:46.663686Z"
    }
   },
   "outputs": [
    {
     "data": {
      "text/html": [
       "<div>\n",
       "<style scoped>\n",
       "    .dataframe tbody tr th:only-of-type {\n",
       "        vertical-align: middle;\n",
       "    }\n",
       "\n",
       "    .dataframe tbody tr th {\n",
       "        vertical-align: top;\n",
       "    }\n",
       "\n",
       "    .dataframe thead th {\n",
       "        text-align: right;\n",
       "    }\n",
       "</style>\n",
       "<table border=\"1\" class=\"dataframe\">\n",
       "  <thead>\n",
       "    <tr style=\"text-align: right;\">\n",
       "      <th></th>\n",
       "      <th>road_name</th>\n",
       "      <th>direction</th>\n",
       "      <th>inter_num</th>\n",
       "    </tr>\n",
       "  </thead>\n",
       "  <tbody>\n",
       "    <tr>\n",
       "      <th>0</th>\n",
       "      <td>4.19로</td>\n",
       "      <td>상행</td>\n",
       "      <td>2.0</td>\n",
       "    </tr>\n",
       "    <tr>\n",
       "      <th>1</th>\n",
       "      <td>가락로</td>\n",
       "      <td>상행</td>\n",
       "      <td>4.0</td>\n",
       "    </tr>\n",
       "    <tr>\n",
       "      <th>2</th>\n",
       "      <td>가로공원로</td>\n",
       "      <td>상행</td>\n",
       "      <td>4.0</td>\n",
       "    </tr>\n",
       "    <tr>\n",
       "      <th>3</th>\n",
       "      <td>가로공원로76길</td>\n",
       "      <td>상행</td>\n",
       "      <td>1.0</td>\n",
       "    </tr>\n",
       "    <tr>\n",
       "      <th>4</th>\n",
       "      <td>가마산로</td>\n",
       "      <td>상행</td>\n",
       "      <td>10.0</td>\n",
       "    </tr>\n",
       "  </tbody>\n",
       "</table>\n",
       "</div>"
      ],
      "text/plain": [
       "  road_name direction  inter_num\n",
       "0     4.19로        상행        2.0\n",
       "1       가락로        상행        4.0\n",
       "2     가로공원로        상행        4.0\n",
       "3  가로공원로76길        상행        1.0\n",
       "4      가마산로        상행       10.0"
      ]
     },
     "execution_count": 29,
     "metadata": {},
     "output_type": "execute_result"
    }
   ],
   "source": [
    "intersection = intersection.melt(id_vars = '도로명')\n",
    "intersection.columns = ['road_name','direction','inter_num']\n",
    "intersection.head()"
   ]
  },
  {
   "cell_type": "code",
   "execution_count": 27,
   "metadata": {
    "ExecuteTime": {
     "end_time": "2019-06-03T10:51:46.702688Z",
     "start_time": "2019-06-03T10:51:46.659914Z"
    }
   },
   "outputs": [
    {
     "data": {
      "text/html": [
       "<div>\n",
       "<style scoped>\n",
       "    .dataframe tbody tr th:only-of-type {\n",
       "        vertical-align: middle;\n",
       "    }\n",
       "\n",
       "    .dataframe tbody tr th {\n",
       "        vertical-align: top;\n",
       "    }\n",
       "\n",
       "    .dataframe thead th {\n",
       "        text-align: right;\n",
       "    }\n",
       "</style>\n",
       "<table border=\"1\" class=\"dataframe\">\n",
       "  <thead>\n",
       "    <tr style=\"text-align: right;\">\n",
       "      <th></th>\n",
       "      <th>date</th>\n",
       "      <th>days</th>\n",
       "      <th>road_name</th>\n",
       "      <th>link_id</th>\n",
       "      <th>start_point</th>\n",
       "      <th>end_point</th>\n",
       "      <th>direction</th>\n",
       "      <th>road_length</th>\n",
       "      <th>road_num</th>\n",
       "      <th>road_type</th>\n",
       "      <th>...</th>\n",
       "      <th>kids</th>\n",
       "      <th>speed_limit</th>\n",
       "      <th>entrance</th>\n",
       "      <th>signal</th>\n",
       "      <th>SO2</th>\n",
       "      <th>CO</th>\n",
       "      <th>O3</th>\n",
       "      <th>NO2</th>\n",
       "      <th>PM10</th>\n",
       "      <th>PM2.5</th>\n",
       "    </tr>\n",
       "  </thead>\n",
       "  <tbody>\n",
       "    <tr>\n",
       "      <th>0</th>\n",
       "      <td>20180102</td>\n",
       "      <td>화</td>\n",
       "      <td>4.19로</td>\n",
       "      <td>1080012700</td>\n",
       "      <td>국립4.19묘지입구</td>\n",
       "      <td>국립4.19묘지</td>\n",
       "      <td>하행</td>\n",
       "      <td>354</td>\n",
       "      <td>2.0</td>\n",
       "      <td>보조간선도로</td>\n",
       "      <td>...</td>\n",
       "      <td>0.0</td>\n",
       "      <td>40.0</td>\n",
       "      <td>25.0</td>\n",
       "      <td>8.0</td>\n",
       "      <td>0.004</td>\n",
       "      <td>1.1</td>\n",
       "      <td>0.002</td>\n",
       "      <td>0.05</td>\n",
       "      <td>40.0</td>\n",
       "      <td>19.0</td>\n",
       "    </tr>\n",
       "    <tr>\n",
       "      <th>1</th>\n",
       "      <td>20180102</td>\n",
       "      <td>화</td>\n",
       "      <td>노해로</td>\n",
       "      <td>1080010300</td>\n",
       "      <td>광산사거리</td>\n",
       "      <td>대한병원</td>\n",
       "      <td>상행</td>\n",
       "      <td>868</td>\n",
       "      <td>3.0</td>\n",
       "      <td>보조간선도로</td>\n",
       "      <td>...</td>\n",
       "      <td>0.0</td>\n",
       "      <td>30.0</td>\n",
       "      <td>84.0</td>\n",
       "      <td>74.0</td>\n",
       "      <td>0.004</td>\n",
       "      <td>1.1</td>\n",
       "      <td>0.002</td>\n",
       "      <td>0.05</td>\n",
       "      <td>40.0</td>\n",
       "      <td>19.0</td>\n",
       "    </tr>\n",
       "    <tr>\n",
       "      <th>2</th>\n",
       "      <td>20180102</td>\n",
       "      <td>화</td>\n",
       "      <td>노해로</td>\n",
       "      <td>1080010400</td>\n",
       "      <td>대한병원</td>\n",
       "      <td>광산사거리</td>\n",
       "      <td>하행</td>\n",
       "      <td>819</td>\n",
       "      <td>2.0</td>\n",
       "      <td>보조간선도로</td>\n",
       "      <td>...</td>\n",
       "      <td>0.0</td>\n",
       "      <td>30.0</td>\n",
       "      <td>84.0</td>\n",
       "      <td>74.0</td>\n",
       "      <td>0.004</td>\n",
       "      <td>1.1</td>\n",
       "      <td>0.002</td>\n",
       "      <td>0.05</td>\n",
       "      <td>40.0</td>\n",
       "      <td>19.0</td>\n",
       "    </tr>\n",
       "  </tbody>\n",
       "</table>\n",
       "<p>3 rows × 31 columns</p>\n",
       "</div>"
      ],
      "text/plain": [
       "       date days road_name     link_id start_point end_point direction  \\\n",
       "0  20180102    화     4.19로  1080012700  국립4.19묘지입구  국립4.19묘지        하행   \n",
       "1  20180102    화       노해로  1080010300       광산사거리      대한병원        상행   \n",
       "2  20180102    화       노해로  1080010400        대한병원     광산사거리        하행   \n",
       "\n",
       "   road_length  road_num road_type  ...   kids speed_limit  entrance  signal  \\\n",
       "0          354       2.0    보조간선도로  ...    0.0        40.0      25.0     8.0   \n",
       "1          868       3.0    보조간선도로  ...    0.0        30.0      84.0    74.0   \n",
       "2          819       2.0    보조간선도로  ...    0.0        30.0      84.0    74.0   \n",
       "\n",
       "     SO2   CO     O3   NO2  PM10  PM2.5  \n",
       "0  0.004  1.1  0.002  0.05  40.0   19.0  \n",
       "1  0.004  1.1  0.002  0.05  40.0   19.0  \n",
       "2  0.004  1.1  0.002  0.05  40.0   19.0  \n",
       "\n",
       "[3 rows x 31 columns]"
      ]
     },
     "execution_count": 27,
     "metadata": {},
     "output_type": "execute_result"
    }
   ],
   "source": [
    "carspeed.head(3)"
   ]
  },
  {
   "cell_type": "code",
   "execution_count": 31,
   "metadata": {
    "ExecuteTime": {
     "end_time": "2019-06-03T10:56:55.105606Z",
     "start_time": "2019-06-03T10:56:49.074091Z"
    }
   },
   "outputs": [
    {
     "data": {
      "text/plain": [
       "(7025495, 32)"
      ]
     },
     "execution_count": 31,
     "metadata": {},
     "output_type": "execute_result"
    }
   ],
   "source": [
    "carspeed = pd.merge(carspeed, intersection, how = 'left', left_on = ['road_name','direction'], right_on = ['road_name','direction'])\n",
    "carspeed.shape"
   ]
  },
  {
   "cell_type": "markdown",
   "metadata": {},
   "source": [
    "# accident_new"
   ]
  },
  {
   "cell_type": "code",
   "execution_count": 32,
   "metadata": {
    "ExecuteTime": {
     "end_time": "2019-06-03T10:57:58.777560Z",
     "start_time": "2019-06-03T10:57:58.769911Z"
    }
   },
   "outputs": [
    {
     "data": {
      "text/plain": [
       "['201801_Seoul_traffic.csv',\n",
       " '201804_Seoul_traffic.csv',\n",
       " '201807_Seoul_traffic.csv',\n",
       " '201810_Seoul_traffic.csv',\n",
       " 'accident11.xlsx',\n",
       " 'accident_new.csv',\n",
       " 'dt_201903.csv',\n",
       " 'dust1.csv',\n",
       " 'dust_final.csv',\n",
       " 'final',\n",
       " 'gugucon.csv',\n",
       " 'holiday.csv',\n",
       " 'intersection.csv',\n",
       " 'road_info.csv',\n",
       " 'weather_merged.csv',\n",
       " '미세먼지1.xls',\n",
       " '미세먼지10.xls',\n",
       " '미세먼지4.xls',\n",
       " '미세먼지7.xls']"
      ]
     },
     "execution_count": 32,
     "metadata": {},
     "output_type": "execute_result"
    }
   ],
   "source": [
    "os.listdir('../data')"
   ]
  },
  {
   "cell_type": "code",
   "execution_count": 35,
   "metadata": {
    "ExecuteTime": {
     "end_time": "2019-06-03T11:03:18.647818Z",
     "start_time": "2019-06-03T11:03:18.612224Z"
    }
   },
   "outputs": [
    {
     "data": {
      "text/html": [
       "<div>\n",
       "<style scoped>\n",
       "    .dataframe tbody tr th:only-of-type {\n",
       "        vertical-align: middle;\n",
       "    }\n",
       "\n",
       "    .dataframe tbody tr th {\n",
       "        vertical-align: top;\n",
       "    }\n",
       "\n",
       "    .dataframe thead th {\n",
       "        text-align: right;\n",
       "    }\n",
       "</style>\n",
       "<table border=\"1\" class=\"dataframe\">\n",
       "  <thead>\n",
       "    <tr style=\"text-align: right;\">\n",
       "      <th></th>\n",
       "      <th>road_name</th>\n",
       "      <th>사망자수</th>\n",
       "      <th>중상자수</th>\n",
       "      <th>경상자수</th>\n",
       "      <th>부상신고자수</th>\n",
       "      <th>victims</th>\n",
       "      <th>severity</th>\n",
       "      <th>accident_count</th>\n",
       "    </tr>\n",
       "  </thead>\n",
       "  <tbody>\n",
       "    <tr>\n",
       "      <th>0</th>\n",
       "      <td>4.19로</td>\n",
       "      <td>0</td>\n",
       "      <td>3</td>\n",
       "      <td>15</td>\n",
       "      <td>1</td>\n",
       "      <td>19</td>\n",
       "      <td>55</td>\n",
       "      <td>13</td>\n",
       "    </tr>\n",
       "    <tr>\n",
       "      <th>1</th>\n",
       "      <td>63로</td>\n",
       "      <td>0</td>\n",
       "      <td>0</td>\n",
       "      <td>3</td>\n",
       "      <td>1</td>\n",
       "      <td>4</td>\n",
       "      <td>10</td>\n",
       "      <td>3</td>\n",
       "    </tr>\n",
       "    <tr>\n",
       "      <th>2</th>\n",
       "      <td>가락로</td>\n",
       "      <td>0</td>\n",
       "      <td>20</td>\n",
       "      <td>50</td>\n",
       "      <td>15</td>\n",
       "      <td>85</td>\n",
       "      <td>225</td>\n",
       "      <td>70</td>\n",
       "    </tr>\n",
       "  </tbody>\n",
       "</table>\n",
       "</div>"
      ],
      "text/plain": [
       "  road_name  사망자수  중상자수  경상자수  부상신고자수  victims  severity  accident_count\n",
       "0     4.19로     0     3    15       1       19        55              13\n",
       "1       63로     0     0     3       1        4        10               3\n",
       "2       가락로     0    20    50      15       85       225              70"
      ]
     },
     "execution_count": 35,
     "metadata": {},
     "output_type": "execute_result"
    }
   ],
   "source": [
    "accident_new = pd.read_csv('../data/accident_new.csv')\n",
    "accident_new.columns = ['road_name','사망자수','중상자수','경상자수','부상신고자수','victims','severity','accident_count']\n",
    "accident_new.head(3)"
   ]
  },
  {
   "cell_type": "code",
   "execution_count": 38,
   "metadata": {
    "ExecuteTime": {
     "end_time": "2019-06-03T11:06:04.310910Z",
     "start_time": "2019-06-03T11:05:50.959470Z"
    }
   },
   "outputs": [
    {
     "data": {
      "text/html": [
       "<div>\n",
       "<style scoped>\n",
       "    .dataframe tbody tr th:only-of-type {\n",
       "        vertical-align: middle;\n",
       "    }\n",
       "\n",
       "    .dataframe tbody tr th {\n",
       "        vertical-align: top;\n",
       "    }\n",
       "\n",
       "    .dataframe thead th {\n",
       "        text-align: right;\n",
       "    }\n",
       "</style>\n",
       "<table border=\"1\" class=\"dataframe\">\n",
       "  <thead>\n",
       "    <tr style=\"text-align: right;\">\n",
       "      <th></th>\n",
       "      <th>date</th>\n",
       "      <th>days</th>\n",
       "      <th>road_name</th>\n",
       "      <th>link_id</th>\n",
       "      <th>start_point</th>\n",
       "      <th>end_point</th>\n",
       "      <th>direction</th>\n",
       "      <th>road_length</th>\n",
       "      <th>road_num</th>\n",
       "      <th>road_type</th>\n",
       "      <th>...</th>\n",
       "      <th>PM10</th>\n",
       "      <th>PM2.5</th>\n",
       "      <th>inter_num</th>\n",
       "      <th>사망자수</th>\n",
       "      <th>중상자수</th>\n",
       "      <th>경상자수</th>\n",
       "      <th>부상신고자수</th>\n",
       "      <th>victims</th>\n",
       "      <th>severity</th>\n",
       "      <th>accident_count</th>\n",
       "    </tr>\n",
       "  </thead>\n",
       "  <tbody>\n",
       "    <tr>\n",
       "      <th>0</th>\n",
       "      <td>20180102</td>\n",
       "      <td>화</td>\n",
       "      <td>4.19로</td>\n",
       "      <td>1080012700</td>\n",
       "      <td>국립4.19묘지입구</td>\n",
       "      <td>국립4.19묘지</td>\n",
       "      <td>하행</td>\n",
       "      <td>354</td>\n",
       "      <td>2.0</td>\n",
       "      <td>보조간선도로</td>\n",
       "      <td>...</td>\n",
       "      <td>40.0</td>\n",
       "      <td>19.0</td>\n",
       "      <td>2.0</td>\n",
       "      <td>0.0</td>\n",
       "      <td>3.0</td>\n",
       "      <td>15.0</td>\n",
       "      <td>1.0</td>\n",
       "      <td>19.0</td>\n",
       "      <td>55.0</td>\n",
       "      <td>13.0</td>\n",
       "    </tr>\n",
       "    <tr>\n",
       "      <th>1</th>\n",
       "      <td>20180102</td>\n",
       "      <td>화</td>\n",
       "      <td>노해로</td>\n",
       "      <td>1080010300</td>\n",
       "      <td>광산사거리</td>\n",
       "      <td>대한병원</td>\n",
       "      <td>상행</td>\n",
       "      <td>868</td>\n",
       "      <td>3.0</td>\n",
       "      <td>보조간선도로</td>\n",
       "      <td>...</td>\n",
       "      <td>40.0</td>\n",
       "      <td>19.0</td>\n",
       "      <td>12.0</td>\n",
       "      <td>0.0</td>\n",
       "      <td>39.0</td>\n",
       "      <td>157.0</td>\n",
       "      <td>21.0</td>\n",
       "      <td>217.0</td>\n",
       "      <td>609.0</td>\n",
       "      <td>159.0</td>\n",
       "    </tr>\n",
       "    <tr>\n",
       "      <th>2</th>\n",
       "      <td>20180102</td>\n",
       "      <td>화</td>\n",
       "      <td>노해로</td>\n",
       "      <td>1080010400</td>\n",
       "      <td>대한병원</td>\n",
       "      <td>광산사거리</td>\n",
       "      <td>하행</td>\n",
       "      <td>819</td>\n",
       "      <td>2.0</td>\n",
       "      <td>보조간선도로</td>\n",
       "      <td>...</td>\n",
       "      <td>40.0</td>\n",
       "      <td>19.0</td>\n",
       "      <td>12.0</td>\n",
       "      <td>0.0</td>\n",
       "      <td>39.0</td>\n",
       "      <td>157.0</td>\n",
       "      <td>21.0</td>\n",
       "      <td>217.0</td>\n",
       "      <td>609.0</td>\n",
       "      <td>159.0</td>\n",
       "    </tr>\n",
       "    <tr>\n",
       "      <th>3</th>\n",
       "      <td>20180102</td>\n",
       "      <td>화</td>\n",
       "      <td>노해로</td>\n",
       "      <td>1080012400</td>\n",
       "      <td>광산사거리</td>\n",
       "      <td>숭미파출소</td>\n",
       "      <td>하행</td>\n",
       "      <td>538</td>\n",
       "      <td>2.0</td>\n",
       "      <td>보조간선도로</td>\n",
       "      <td>...</td>\n",
       "      <td>40.0</td>\n",
       "      <td>19.0</td>\n",
       "      <td>12.0</td>\n",
       "      <td>0.0</td>\n",
       "      <td>39.0</td>\n",
       "      <td>157.0</td>\n",
       "      <td>21.0</td>\n",
       "      <td>217.0</td>\n",
       "      <td>609.0</td>\n",
       "      <td>159.0</td>\n",
       "    </tr>\n",
       "    <tr>\n",
       "      <th>4</th>\n",
       "      <td>20180102</td>\n",
       "      <td>화</td>\n",
       "      <td>덕릉로</td>\n",
       "      <td>1080006600</td>\n",
       "      <td>한신대</td>\n",
       "      <td>화계사입구</td>\n",
       "      <td>상행</td>\n",
       "      <td>355</td>\n",
       "      <td>2.0</td>\n",
       "      <td>보조간선도로</td>\n",
       "      <td>...</td>\n",
       "      <td>40.0</td>\n",
       "      <td>19.0</td>\n",
       "      <td>23.0</td>\n",
       "      <td>1.0</td>\n",
       "      <td>69.0</td>\n",
       "      <td>168.0</td>\n",
       "      <td>18.0</td>\n",
       "      <td>256.0</td>\n",
       "      <td>741.0</td>\n",
       "      <td>186.0</td>\n",
       "    </tr>\n",
       "  </tbody>\n",
       "</table>\n",
       "<p>5 rows × 39 columns</p>\n",
       "</div>"
      ],
      "text/plain": [
       "       date days road_name     link_id start_point end_point direction  \\\n",
       "0  20180102    화     4.19로  1080012700  국립4.19묘지입구  국립4.19묘지        하행   \n",
       "1  20180102    화       노해로  1080010300       광산사거리      대한병원        상행   \n",
       "2  20180102    화       노해로  1080010400        대한병원     광산사거리        하행   \n",
       "3  20180102    화       노해로  1080012400       광산사거리     숭미파출소        하행   \n",
       "4  20180102    화       덕릉로  1080006600         한신대     화계사입구        상행   \n",
       "\n",
       "   road_length  road_num road_type       ...        PM10 PM2.5  inter_num  \\\n",
       "0          354       2.0    보조간선도로       ...        40.0  19.0        2.0   \n",
       "1          868       3.0    보조간선도로       ...        40.0  19.0       12.0   \n",
       "2          819       2.0    보조간선도로       ...        40.0  19.0       12.0   \n",
       "3          538       2.0    보조간선도로       ...        40.0  19.0       12.0   \n",
       "4          355       2.0    보조간선도로       ...        40.0  19.0       23.0   \n",
       "\n",
       "   사망자수  중상자수   경상자수  부상신고자수  victims  severity  accident_count  \n",
       "0   0.0   3.0   15.0     1.0     19.0      55.0            13.0  \n",
       "1   0.0  39.0  157.0    21.0    217.0     609.0           159.0  \n",
       "2   0.0  39.0  157.0    21.0    217.0     609.0           159.0  \n",
       "3   0.0  39.0  157.0    21.0    217.0     609.0           159.0  \n",
       "4   1.0  69.0  168.0    18.0    256.0     741.0           186.0  \n",
       "\n",
       "[5 rows x 39 columns]"
      ]
     },
     "execution_count": 38,
     "metadata": {},
     "output_type": "execute_result"
    }
   ],
   "source": [
    "carspeed = pd.merge(carspeed, accident_new, how = 'left', left_on = ['road_name'], right_on = ['road_name'])\n",
    "carspeed.head()"
   ]
  },
  {
   "cell_type": "code",
   "execution_count": 39,
   "metadata": {
    "ExecuteTime": {
     "end_time": "2019-06-03T11:06:23.264506Z",
     "start_time": "2019-06-03T11:06:04.317258Z"
    }
   },
   "outputs": [
    {
     "data": {
      "text/plain": [
       "date                   0\n",
       "days                   0\n",
       "road_name              0\n",
       "link_id                0\n",
       "start_point            0\n",
       "end_point              0\n",
       "direction              0\n",
       "road_length            0\n",
       "road_num               0\n",
       "road_type              0\n",
       "urban_suburb           0\n",
       "district               0\n",
       "special                0\n",
       "vacation               0\n",
       "time                   0\n",
       "value                  0\n",
       "temperature            0\n",
       "wind                   0\n",
       "rain                   0\n",
       "snow                   0\n",
       "cctv                   0\n",
       "kids                   0\n",
       "speed_limit            0\n",
       "entrance               0\n",
       "signal                 0\n",
       "SO2                    0\n",
       "CO                     0\n",
       "O3                     0\n",
       "NO2                    0\n",
       "PM10                   0\n",
       "PM2.5                  0\n",
       "inter_num              0\n",
       "사망자수              150327\n",
       "중상자수              150327\n",
       "경상자수              150327\n",
       "부상신고자수            150327\n",
       "victims           150327\n",
       "severity          150327\n",
       "accident_count    150327\n",
       "dtype: int64"
      ]
     },
     "execution_count": 39,
     "metadata": {},
     "output_type": "execute_result"
    }
   ],
   "source": [
    "carspeed.isnull().sum()"
   ]
  },
  {
   "cell_type": "code",
   "execution_count": 40,
   "metadata": {
    "ExecuteTime": {
     "end_time": "2019-06-03T11:08:18.016138Z",
     "start_time": "2019-06-03T11:07:57.473771Z"
    }
   },
   "outputs": [
    {
     "data": {
      "text/plain": [
       "date              0\n",
       "days              0\n",
       "road_name         0\n",
       "link_id           0\n",
       "start_point       0\n",
       "end_point         0\n",
       "direction         0\n",
       "road_length       0\n",
       "road_num          0\n",
       "road_type         0\n",
       "urban_suburb      0\n",
       "district          0\n",
       "special           0\n",
       "vacation          0\n",
       "time              0\n",
       "value             0\n",
       "temperature       0\n",
       "wind              0\n",
       "rain              0\n",
       "snow              0\n",
       "cctv              0\n",
       "kids              0\n",
       "speed_limit       0\n",
       "entrance          0\n",
       "signal            0\n",
       "SO2               0\n",
       "CO                0\n",
       "O3                0\n",
       "NO2               0\n",
       "PM10              0\n",
       "PM2.5             0\n",
       "inter_num         0\n",
       "사망자수              0\n",
       "중상자수              0\n",
       "경상자수              0\n",
       "부상신고자수            0\n",
       "victims           0\n",
       "severity          0\n",
       "accident_count    0\n",
       "dtype: int64"
      ]
     },
     "execution_count": 40,
     "metadata": {},
     "output_type": "execute_result"
    }
   ],
   "source": [
    "carspeed = carspeed.fillna(0)\n",
    "carspeed.isnull().sum()"
   ]
  },
  {
   "cell_type": "code",
   "execution_count": 41,
   "metadata": {
    "ExecuteTime": {
     "end_time": "2019-06-03T11:17:32.819979Z",
     "start_time": "2019-06-03T11:09:30.294800Z"
    }
   },
   "outputs": [],
   "source": [
    "#carspeed.to_csv('../data/final/carspeed.csv', index = False)"
   ]
  }
 ],
 "metadata": {
  "hide_input": false,
  "kernelspec": {
   "display_name": "Python 3",
   "language": "python",
   "name": "python3"
  },
  "language_info": {
   "codemirror_mode": {
    "name": "ipython",
    "version": 3
   },
   "file_extension": ".py",
   "mimetype": "text/x-python",
   "name": "python",
   "nbconvert_exporter": "python",
   "pygments_lexer": "ipython3",
   "version": "3.7.1"
  },
  "toc": {
   "base_numbering": 1,
   "nav_menu": {},
   "number_sections": true,
   "sideBar": true,
   "skip_h1_title": false,
   "title_cell": "Table of Contents",
   "title_sidebar": "Contents",
   "toc_cell": false,
   "toc_position": {},
   "toc_section_display": true,
   "toc_window_display": false
  }
 },
 "nbformat": 4,
 "nbformat_minor": 2
}
