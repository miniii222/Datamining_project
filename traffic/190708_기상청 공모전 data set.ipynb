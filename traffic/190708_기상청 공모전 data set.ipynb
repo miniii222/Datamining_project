{
 "cells": [
  {
   "cell_type": "code",
   "execution_count": 1,
   "metadata": {},
   "outputs": [
    {
     "data": {
      "text/plain": [
       "'C:\\\\대학원\\\\2019-1\\\\1.전공\\\\2.데이터마이닝\\\\project\\\\도로\\\\result'"
      ]
     },
     "execution_count": 1,
     "metadata": {},
     "output_type": "execute_result"
    }
   ],
   "source": [
    "import os\n",
    "\n",
    "os.chdir('C:/대학원/2019-1/1.전공/2.데이터마이닝/project/도로/result')\n",
    "os.getcwd()"
   ]
  },
  {
   "cell_type": "code",
   "execution_count": 20,
   "metadata": {},
   "outputs": [],
   "source": [
    "import pandas as pd\n",
    "\n",
    "doro_total = pd.read_csv('doro_total.csv',encoding='utf8')\n",
    "weather = pd.read_csv('weather_merged.csv')\n",
    "car1 = pd.read_csv('doro01.csv')\n",
    "car2 = pd.read_csv('doro02.csv')\n",
    "car3 = pd.read_csv('doro03.csv')\n",
    "car4 = pd.read_csv('doro04.csv')\n",
    "car5 = pd.read_csv('doro05.csv')\n",
    "car6 = pd.read_csv('doro06.csv')\n",
    "car7 = pd.read_csv('doro07.csv')\n",
    "car8 = pd.read_csv('doro08.csv')\n",
    "car9 = pd.read_csv('doro09.csv')\n",
    "car10 = pd.read_csv('doro10.csv')\n",
    "car11 = pd.read_csv('doro11.csv')\n",
    "car12 = pd.read_csv('doro12.csv')"
   ]
  },
  {
   "cell_type": "code",
   "execution_count": 3,
   "metadata": {},
   "outputs": [
    {
     "name": "stdout",
     "output_type": "stream",
     "text": [
      "32\n",
      "32\n",
      "32\n",
      "35\n",
      "35\n",
      "35\n",
      "35\n",
      "36\n",
      "36\n",
      "36\n",
      "36\n",
      "36\n"
     ]
    }
   ],
   "source": [
    "import numpy as np\n",
    "\n",
    "print(len(car1.columns))\n",
    "print(len(car2.columns))\n",
    "print(len(car3.columns))\n",
    "print(len(car4.columns))\n",
    "print(len(car5.columns))\n",
    "print(len(car6.columns))\n",
    "print(len(car7.columns))\n",
    "print(len(car8.columns))\n",
    "print(len(car9.columns))\n",
    "print(len(car10.columns))\n",
    "print(len(car11.columns))\n",
    "print(len(car12.columns))"
   ]
  },
  {
   "cell_type": "markdown",
   "metadata": {},
   "source": [
    "# 1. 공통값 도로 제거 & 공통 링크 id 추출"
   ]
  },
  {
   "cell_type": "code",
   "execution_count": 21,
   "metadata": {},
   "outputs": [],
   "source": [
    "dupli_col = ['링크아이디','01시', '02시', '03시', '04시', '05시', '06시', '07시',\n",
    "       '08시', '09시', '10시', '11시', '12시', '13시', '14시', '15시', '16시', '17시',\n",
    "       '18시', '19시', '20시', '21시', '22시', '23시', '24시']"
   ]
  },
  {
   "cell_type": "code",
   "execution_count": 22,
   "metadata": {},
   "outputs": [
    {
     "name": "stdout",
     "output_type": "stream",
     "text": [
      "original 1 : (147466, 32)\n",
      "after remove : (146056, 32)\n",
      "original 2 : (133153, 32)\n",
      "after remove : (131548, 32)\n",
      "original 3 : (147478, 32)\n",
      "after remove : (146124, 32)\n",
      "original 4 : (141867, 35)\n",
      "after remove : (140560, 35)\n",
      "original 5 : (146522, 35)\n",
      "after remove : (145254, 35)\n",
      "original 6 : (141801, 35)\n",
      "after remove : (140753, 35)\n",
      "original 7 : (146543, 35)\n",
      "after remove : (145302, 35)\n",
      "original 8 : (146070, 36)\n",
      "after remove : (145597, 36)\n",
      "original 9 : (141827, 36)\n",
      "after remove : (140868, 36)\n",
      "original 10 : (146631, 36)\n",
      "after remove : (145515, 36)\n",
      "original 11 : (141930, 36)\n",
      "after remove : (140842, 36)\n",
      "original 12 : (146638, 36)\n",
      "after remove : (145444, 36)\n"
     ]
    }
   ],
   "source": [
    "print('original 1 :',car1.shape)\n",
    "car1 = car1.drop_duplicates(dupli_col,keep=False)\n",
    "print('after remove :',car1.shape)\n",
    "\n",
    "print('original 2 :',car2.shape)\n",
    "car2 = car2.drop_duplicates(dupli_col,keep=False)\n",
    "print('after remove :',car2.shape)\n",
    "\n",
    "print('original 3 :',car3.shape)\n",
    "car3 = car3.drop_duplicates(dupli_col,keep=False)\n",
    "print('after remove :',car3.shape)\n",
    "\n",
    "print('original 4 :',car4.shape)\n",
    "car4 = car4.drop_duplicates(dupli_col,keep=False)\n",
    "print('after remove :',car4.shape)\n",
    "\n",
    "print('original 5 :',car5.shape)\n",
    "car5 = car5.drop_duplicates(dupli_col,keep=False)\n",
    "print('after remove :',car5.shape)\n",
    "\n",
    "print('original 6 :',car6.shape)\n",
    "car6 = car6.drop_duplicates(dupli_col,keep=False)\n",
    "print('after remove :',car6.shape)\n",
    "\n",
    "print('original 7 :',car7.shape)\n",
    "car7 = car7.drop_duplicates(dupli_col,keep=False)\n",
    "print('after remove :',car7.shape)\n",
    "\n",
    "print('original 8 :',car8.shape)\n",
    "car8 = car8.drop_duplicates(dupli_col,keep=False)\n",
    "print('after remove :',car8.shape)\n",
    "\n",
    "print('original 9 :',car9.shape)\n",
    "car9 = car9.drop_duplicates(dupli_col,keep=False)\n",
    "print('after remove :',car9.shape)\n",
    "\n",
    "print('original 10 :',car10.shape)\n",
    "car10 = car10.drop_duplicates(dupli_col,keep=False)\n",
    "print('after remove :',car10.shape)\n",
    "\n",
    "print('original 11 :',car11.shape)\n",
    "car11 = car11.drop_duplicates(dupli_col,keep=False)\n",
    "print('after remove :',car11.shape)\n",
    "\n",
    "print('original 12 :',car12.shape)\n",
    "car12 = car12.drop_duplicates(dupli_col,keep=False)\n",
    "print('after remove :',car12.shape)"
   ]
  },
  {
   "cell_type": "code",
   "execution_count": 23,
   "metadata": {},
   "outputs": [
    {
     "name": "stdout",
     "output_type": "stream",
     "text": [
      "공통 링크아이디 수 : 4702\n"
     ]
    }
   ],
   "source": [
    "common_obs = list(set(car1.링크아이디) & set(car2.링크아이디) & set(car3.링크아이디) & set(car4.링크아이디) & set(car5.링크아이디) & set(car6.링크아이디) & set(car7.링크아이디) & set(car8.링크아이디) & set(car9.링크아이디) & set(car10.링크아이디) & set(car11.링크아이디) & set(car12.링크아이디))\n",
    "print('공통 링크아이디 수 :',len(common_obs))"
   ]
  },
  {
   "cell_type": "code",
   "execution_count": 24,
   "metadata": {},
   "outputs": [],
   "source": [
    "car1 = car1[car1['링크아이디'].isin(common_obs)]\n",
    "car2 = car2[car2['링크아이디'].isin(common_obs)]\n",
    "car3 = car3[car3['링크아이디'].isin(common_obs)]\n",
    "car4 = car4[car4['링크아이디'].isin(common_obs)]\n",
    "car5 = car5[car5['링크아이디'].isin(common_obs)]\n",
    "car6 = car6[car6['링크아이디'].isin(common_obs)]\n",
    "car7 = car7[car7['링크아이디'].isin(common_obs)]\n",
    "car8 = car8[car8['링크아이디'].isin(common_obs)]\n",
    "car9 = car9[car9['링크아이디'].isin(common_obs)]\n",
    "car10 = car10[car10['링크아이디'].isin(common_obs)]\n",
    "car11 = car11[car11['링크아이디'].isin(common_obs)]\n",
    "car12 = car12[car12['링크아이디'].isin(common_obs)]"
   ]
  },
  {
   "cell_type": "markdown",
   "metadata": {},
   "source": [
    "# 2. 1~2월 & 3~7월 없는 변수 도로 링크 id 기준으로 생성하기"
   ]
  },
  {
   "cell_type": "code",
   "execution_count": 6,
   "metadata": {},
   "outputs": [
    {
     "data": {
      "text/plain": [
       "Index(['일자', '요일', '도로명', '링크아이디', '시점명', '종점명', '방향', '거리', '차선수', '기능유형구분',\n",
       "       '도심/외곽구분', '권역구분', '01시', '02시', '03시', '04시', '05시', '06시', '07시',\n",
       "       '08시', '09시', '10시', '11시', '12시', '13시', '14시', '15시', '16시', '17시',\n",
       "       '18시', '19시', '20시', '21시', '22시', '23시', '24시'],\n",
       "      dtype='object')"
      ]
     },
     "execution_count": 6,
     "metadata": {},
     "output_type": "execute_result"
    }
   ],
   "source": [
    "car11.columns"
   ]
  },
  {
   "cell_type": "code",
   "execution_count": 25,
   "metadata": {},
   "outputs": [
    {
     "data": {
      "text/plain": [
       "Index(['일자', '요일', '도로명', '링크아이디', '시점명', '종점명', '방향', '거리', '01시', '02시',\n",
       "       '03시', '04시', '05시', '06시', '07시', '08시', '09시', '10시', '11시', '12시',\n",
       "       '13시', '14시', '15시', '16시', '17시', '18시', '19시', '20시', '21시', '22시',\n",
       "       '23시', '24시'],\n",
       "      dtype='object')"
      ]
     },
     "execution_count": 25,
     "metadata": {},
     "output_type": "execute_result"
    }
   ],
   "source": [
    "car2.columns"
   ]
  },
  {
   "cell_type": "code",
   "execution_count": 26,
   "metadata": {},
   "outputs": [],
   "source": [
    "merge_col = car11[['링크아이디','차선수', '기능유형구분','도심/외곽구분', '권역구분']]\n",
    "merge_col = merge_col.drop_duplicates(['링크아이디'], keep='first')\n",
    "\n",
    "car1 = pd.merge(car1,merge_col,on='링크아이디')\n",
    "car1 = car1[car11.columns]\n",
    "car2 = pd.merge(car2,merge_col,on='링크아이디')\n",
    "car2 = car2[car11.columns]\n",
    "car3 = pd.merge(car3,merge_col,on='링크아이디')\n",
    "car3 = car3[car11.columns]\n",
    "\n",
    "car4 = pd.merge(car4,merge_col[['링크아이디','차선수']],on='링크아이디')\n",
    "car4 = car4[car11.columns]\n",
    "car5 = pd.merge(car5,merge_col[['링크아이디','차선수']],on='링크아이디')\n",
    "car5 = car5[car11.columns]\n",
    "car6 = pd.merge(car6,merge_col[['링크아이디','차선수']],on='링크아이디')\n",
    "car6 = car6[car11.columns]\n",
    "car7 = pd.merge(car7,merge_col[['링크아이디','차선수']],on='링크아이디')\n",
    "car7 = car7[car11.columns]"
   ]
  },
  {
   "cell_type": "code",
   "execution_count": 27,
   "metadata": {},
   "outputs": [
    {
     "data": {
      "text/html": [
       "<div>\n",
       "<style scoped>\n",
       "    .dataframe tbody tr th:only-of-type {\n",
       "        vertical-align: middle;\n",
       "    }\n",
       "\n",
       "    .dataframe tbody tr th {\n",
       "        vertical-align: top;\n",
       "    }\n",
       "\n",
       "    .dataframe thead th {\n",
       "        text-align: right;\n",
       "    }\n",
       "</style>\n",
       "<table border=\"1\" class=\"dataframe\">\n",
       "  <thead>\n",
       "    <tr style=\"text-align: right;\">\n",
       "      <th></th>\n",
       "      <th>일자</th>\n",
       "      <th>요일</th>\n",
       "      <th>도로명</th>\n",
       "      <th>링크아이디</th>\n",
       "      <th>시점명</th>\n",
       "      <th>종점명</th>\n",
       "      <th>방향</th>\n",
       "      <th>거리</th>\n",
       "      <th>차선수</th>\n",
       "      <th>기능유형구분</th>\n",
       "      <th>도심/외곽구분</th>\n",
       "      <th>권역구분</th>\n",
       "      <th>01시</th>\n",
       "      <th>02시</th>\n",
       "      <th>03시</th>\n",
       "      <th>04시</th>\n",
       "      <th>05시</th>\n",
       "      <th>06시</th>\n",
       "      <th>07시</th>\n",
       "      <th>08시</th>\n",
       "      <th>09시</th>\n",
       "      <th>10시</th>\n",
       "      <th>11시</th>\n",
       "      <th>12시</th>\n",
       "      <th>13시</th>\n",
       "      <th>14시</th>\n",
       "      <th>15시</th>\n",
       "      <th>16시</th>\n",
       "      <th>17시</th>\n",
       "      <th>18시</th>\n",
       "      <th>19시</th>\n",
       "      <th>20시</th>\n",
       "      <th>21시</th>\n",
       "      <th>22시</th>\n",
       "      <th>23시</th>\n",
       "      <th>24시</th>\n",
       "    </tr>\n",
       "  </thead>\n",
       "  <tbody>\n",
       "    <tr>\n",
       "      <th>0</th>\n",
       "      <td>20180201</td>\n",
       "      <td>목</td>\n",
       "      <td>4.19로</td>\n",
       "      <td>1080012800</td>\n",
       "      <td>국립4.19묘지</td>\n",
       "      <td>국립4.19묘지입구</td>\n",
       "      <td>상행</td>\n",
       "      <td>352</td>\n",
       "      <td>1</td>\n",
       "      <td>보조간선도로</td>\n",
       "      <td>외곽</td>\n",
       "      <td>강북구</td>\n",
       "      <td>17.86</td>\n",
       "      <td>23.72</td>\n",
       "      <td>25.38</td>\n",
       "      <td>31.38</td>\n",
       "      <td>28.73</td>\n",
       "      <td>25.19</td>\n",
       "      <td>20.11</td>\n",
       "      <td>14.39</td>\n",
       "      <td>13.59</td>\n",
       "      <td>13.32</td>\n",
       "      <td>14.78</td>\n",
       "      <td>14.94</td>\n",
       "      <td>16.96</td>\n",
       "      <td>12.11</td>\n",
       "      <td>12.49</td>\n",
       "      <td>14.42</td>\n",
       "      <td>14.26</td>\n",
       "      <td>12.57</td>\n",
       "      <td>11.66</td>\n",
       "      <td>13.80</td>\n",
       "      <td>13.62</td>\n",
       "      <td>17.99</td>\n",
       "      <td>13.74</td>\n",
       "      <td>15.71</td>\n",
       "    </tr>\n",
       "    <tr>\n",
       "      <th>1</th>\n",
       "      <td>20180202</td>\n",
       "      <td>금</td>\n",
       "      <td>4.19로</td>\n",
       "      <td>1080012800</td>\n",
       "      <td>국립4.19묘지</td>\n",
       "      <td>국립4.19묘지입구</td>\n",
       "      <td>상행</td>\n",
       "      <td>352</td>\n",
       "      <td>1</td>\n",
       "      <td>보조간선도로</td>\n",
       "      <td>외곽</td>\n",
       "      <td>강북구</td>\n",
       "      <td>18.83</td>\n",
       "      <td>20.48</td>\n",
       "      <td>19.01</td>\n",
       "      <td>25.27</td>\n",
       "      <td>20.52</td>\n",
       "      <td>26.52</td>\n",
       "      <td>17.87</td>\n",
       "      <td>18.81</td>\n",
       "      <td>12.70</td>\n",
       "      <td>12.97</td>\n",
       "      <td>15.87</td>\n",
       "      <td>14.52</td>\n",
       "      <td>14.06</td>\n",
       "      <td>12.37</td>\n",
       "      <td>13.07</td>\n",
       "      <td>10.79</td>\n",
       "      <td>12.09</td>\n",
       "      <td>12.42</td>\n",
       "      <td>11.95</td>\n",
       "      <td>11.45</td>\n",
       "      <td>11.97</td>\n",
       "      <td>14.06</td>\n",
       "      <td>12.59</td>\n",
       "      <td>12.46</td>\n",
       "    </tr>\n",
       "  </tbody>\n",
       "</table>\n",
       "</div>"
      ],
      "text/plain": [
       "         일자 요일    도로명       링크아이디       시점명         종점명  방향   거리  차선수  기능유형구분  \\\n",
       "0  20180201  목  4.19로  1080012800  국립4.19묘지  국립4.19묘지입구  상행  352    1  보조간선도로   \n",
       "1  20180202  금  4.19로  1080012800  국립4.19묘지  국립4.19묘지입구  상행  352    1  보조간선도로   \n",
       "\n",
       "  도심/외곽구분 권역구분    01시    02시    03시    04시    05시    06시    07시    08시    09시  \\\n",
       "0      외곽  강북구  17.86  23.72  25.38  31.38  28.73  25.19  20.11  14.39  13.59   \n",
       "1      외곽  강북구  18.83  20.48  19.01  25.27  20.52  26.52  17.87  18.81  12.70   \n",
       "\n",
       "     10시    11시    12시    13시    14시    15시    16시    17시    18시    19시  \\\n",
       "0  13.32  14.78  14.94  16.96  12.11  12.49  14.42  14.26  12.57  11.66   \n",
       "1  12.97  15.87  14.52  14.06  12.37  13.07  10.79  12.09  12.42  11.95   \n",
       "\n",
       "     20시    21시    22시    23시    24시  \n",
       "0  13.80  13.62  17.99  13.74  15.71  \n",
       "1  11.45  11.97  14.06  12.59  12.46  "
      ]
     },
     "execution_count": 27,
     "metadata": {},
     "output_type": "execute_result"
    }
   ],
   "source": [
    "pd.set_option('display.max_columns', 500)\n",
    "car2.head(2)"
   ]
  },
  {
   "cell_type": "code",
   "execution_count": 28,
   "metadata": {},
   "outputs": [
    {
     "name": "stdout",
     "output_type": "stream",
     "text": [
      "36\n",
      "36\n",
      "36\n",
      "36\n",
      "36\n",
      "36\n",
      "36\n",
      "36\n",
      "36\n",
      "36\n",
      "36\n",
      "36\n"
     ]
    }
   ],
   "source": [
    "print(len(car1.columns))\n",
    "print(len(car2.columns))\n",
    "print(len(car3.columns))\n",
    "print(len(car4.columns))\n",
    "print(len(car5.columns))\n",
    "print(len(car6.columns))\n",
    "print(len(car7.columns))\n",
    "print(len(car8.columns))\n",
    "print(len(car9.columns))\n",
    "print(len(car10.columns))\n",
    "print(len(car11.columns))\n",
    "print(len(car12.columns))"
   ]
  },
  {
   "cell_type": "markdown",
   "metadata": {},
   "source": [
    "# 3. 시간 00~05시 제거"
   ]
  },
  {
   "cell_type": "code",
   "execution_count": 29,
   "metadata": {},
   "outputs": [],
   "source": [
    "drop_col = ['01시', '02시', '03시', '04시', '05시', '24시']\n",
    "\n",
    "car1.drop(drop_col, axis=1, inplace=True)\n",
    "car2.drop(drop_col, axis=1, inplace=True)\n",
    "car3.drop(drop_col, axis=1, inplace=True)\n",
    "car4.drop(drop_col, axis=1, inplace=True)\n",
    "car5.drop(drop_col, axis=1, inplace=True)\n",
    "car6.drop(drop_col, axis=1, inplace=True)\n",
    "car7.drop(drop_col, axis=1, inplace=True)\n",
    "car8.drop(drop_col, axis=1, inplace=True)\n",
    "car9.drop(drop_col, axis=1, inplace=True)\n",
    "car10.drop(drop_col, axis=1, inplace=True)\n",
    "car11.drop(drop_col, axis=1, inplace=True)\n",
    "car12.drop(drop_col, axis=1, inplace=True)"
   ]
  },
  {
   "cell_type": "code",
   "execution_count": 32,
   "metadata": {},
   "outputs": [
    {
     "data": {
      "text/plain": [
       "Index(['일자', '요일', '도로명', '링크아이디', '시점명', '종점명', '방향', '거리', '차선수', '기능유형구분',\n",
       "       '도심/외곽구분', '권역구분', '06시', '07시', '08시', '09시', '10시', '11시', '12시',\n",
       "       '13시', '14시', '15시', '16시', '17시', '18시', '19시', '20시', '21시', '22시',\n",
       "       '23시'],\n",
       "      dtype='object')"
      ]
     },
     "execution_count": 32,
     "metadata": {},
     "output_type": "execute_result"
    }
   ],
   "source": [
    "car11.columns"
   ]
  },
  {
   "cell_type": "markdown",
   "metadata": {},
   "source": [
    "# 4. long form으로 만들기"
   ]
  },
  {
   "cell_type": "code",
   "execution_count": 34,
   "metadata": {},
   "outputs": [],
   "source": [
    "car1.columns = ['date','days','road_name','link_id','start_point','end_point','direction','road_length','road_num','road_type','urban_suburb','district','t6','t7','t8','t9','t10','t11','t12','t13','t14','t15','t16','t17','t18','t19','t20','t21','t22','t23']\n",
    "car2.columns = ['date','days','road_name','link_id','start_point','end_point','direction','road_length','road_num','road_type','urban_suburb','district','t6','t7','t8','t9','t10','t11','t12','t13','t14','t15','t16','t17','t18','t19','t20','t21','t22','t23']\n",
    "car3.columns = ['date','days','road_name','link_id','start_point','end_point','direction','road_length','road_num','road_type','urban_suburb','district','t6','t7','t8','t9','t10','t11','t12','t13','t14','t15','t16','t17','t18','t19','t20','t21','t22','t23']\n",
    "car4.columns = ['date','days','road_name','link_id','start_point','end_point','direction','road_length','road_num','road_type','urban_suburb','district','t6','t7','t8','t9','t10','t11','t12','t13','t14','t15','t16','t17','t18','t19','t20','t21','t22','t23']\n",
    "car5.columns = ['date','days','road_name','link_id','start_point','end_point','direction','road_length','road_num','road_type','urban_suburb','district','t6','t7','t8','t9','t10','t11','t12','t13','t14','t15','t16','t17','t18','t19','t20','t21','t22','t23']\n",
    "car6.columns = ['date','days','road_name','link_id','start_point','end_point','direction','road_length','road_num','road_type','urban_suburb','district','t6','t7','t8','t9','t10','t11','t12','t13','t14','t15','t16','t17','t18','t19','t20','t21','t22','t23']\n",
    "car7.columns = ['date','days','road_name','link_id','start_point','end_point','direction','road_length','road_num','road_type','urban_suburb','district','t6','t7','t8','t9','t10','t11','t12','t13','t14','t15','t16','t17','t18','t19','t20','t21','t22','t23']\n",
    "car8.columns = ['date','days','road_name','link_id','start_point','end_point','direction','road_length','road_num','road_type','urban_suburb','district','t6','t7','t8','t9','t10','t11','t12','t13','t14','t15','t16','t17','t18','t19','t20','t21','t22','t23']\n",
    "car9.columns = ['date','days','road_name','link_id','start_point','end_point','direction','road_length','road_num','road_type','urban_suburb','district','t6','t7','t8','t9','t10','t11','t12','t13','t14','t15','t16','t17','t18','t19','t20','t21','t22','t23']\n",
    "car10.columns = ['date','days','road_name','link_id','start_point','end_point','direction','road_length','road_num','road_type','urban_suburb','district','t6','t7','t8','t9','t10','t11','t12','t13','t14','t15','t16','t17','t18','t19','t20','t21','t22','t23']\n",
    "car11.columns = ['date','days','road_name','link_id','start_point','end_point','direction','road_length','road_num','road_type','urban_suburb','district','t6','t7','t8','t9','t10','t11','t12','t13','t14','t15','t16','t17','t18','t19','t20','t21','t22','t23']\n",
    "car12.columns = ['date','days','road_name','link_id','start_point','end_point','direction','road_length','road_num','road_type','urban_suburb','district','t6','t7','t8','t9','t10','t11','t12','t13','t14','t15','t16','t17','t18','t19','t20','t21','t22','t23']"
   ]
  },
  {
   "cell_type": "code",
   "execution_count": 33,
   "metadata": {},
   "outputs": [
    {
     "data": {
      "text/html": [
       "<div>\n",
       "<style scoped>\n",
       "    .dataframe tbody tr th:only-of-type {\n",
       "        vertical-align: middle;\n",
       "    }\n",
       "\n",
       "    .dataframe tbody tr th {\n",
       "        vertical-align: top;\n",
       "    }\n",
       "\n",
       "    .dataframe thead th {\n",
       "        text-align: right;\n",
       "    }\n",
       "</style>\n",
       "<table border=\"1\" class=\"dataframe\">\n",
       "  <thead>\n",
       "    <tr style=\"text-align: right;\">\n",
       "      <th></th>\n",
       "      <th>일자</th>\n",
       "      <th>요일</th>\n",
       "      <th>도로명</th>\n",
       "      <th>링크아이디</th>\n",
       "      <th>시점명</th>\n",
       "      <th>종점명</th>\n",
       "      <th>방향</th>\n",
       "      <th>거리</th>\n",
       "      <th>차선수</th>\n",
       "      <th>기능유형구분</th>\n",
       "      <th>도심/외곽구분</th>\n",
       "      <th>권역구분</th>\n",
       "      <th>06시</th>\n",
       "      <th>07시</th>\n",
       "      <th>08시</th>\n",
       "      <th>09시</th>\n",
       "      <th>10시</th>\n",
       "      <th>11시</th>\n",
       "      <th>12시</th>\n",
       "      <th>13시</th>\n",
       "      <th>14시</th>\n",
       "      <th>15시</th>\n",
       "      <th>16시</th>\n",
       "      <th>17시</th>\n",
       "      <th>18시</th>\n",
       "      <th>19시</th>\n",
       "      <th>20시</th>\n",
       "      <th>21시</th>\n",
       "      <th>22시</th>\n",
       "      <th>23시</th>\n",
       "    </tr>\n",
       "  </thead>\n",
       "  <tbody>\n",
       "    <tr>\n",
       "      <th>0</th>\n",
       "      <td>20180201</td>\n",
       "      <td>목</td>\n",
       "      <td>4.19로</td>\n",
       "      <td>1080012800</td>\n",
       "      <td>국립4.19묘지</td>\n",
       "      <td>국립4.19묘지입구</td>\n",
       "      <td>상행</td>\n",
       "      <td>352</td>\n",
       "      <td>1</td>\n",
       "      <td>보조간선도로</td>\n",
       "      <td>외곽</td>\n",
       "      <td>강북구</td>\n",
       "      <td>25.19</td>\n",
       "      <td>20.11</td>\n",
       "      <td>14.39</td>\n",
       "      <td>13.59</td>\n",
       "      <td>13.32</td>\n",
       "      <td>14.78</td>\n",
       "      <td>14.94</td>\n",
       "      <td>16.96</td>\n",
       "      <td>12.11</td>\n",
       "      <td>12.49</td>\n",
       "      <td>14.42</td>\n",
       "      <td>14.26</td>\n",
       "      <td>12.57</td>\n",
       "      <td>11.66</td>\n",
       "      <td>13.8</td>\n",
       "      <td>13.62</td>\n",
       "      <td>17.99</td>\n",
       "      <td>13.74</td>\n",
       "    </tr>\n",
       "  </tbody>\n",
       "</table>\n",
       "</div>"
      ],
      "text/plain": [
       "         일자 요일    도로명       링크아이디       시점명         종점명  방향   거리  차선수  기능유형구분  \\\n",
       "0  20180201  목  4.19로  1080012800  국립4.19묘지  국립4.19묘지입구  상행  352    1  보조간선도로   \n",
       "\n",
       "  도심/외곽구분 권역구분    06시    07시    08시    09시    10시    11시    12시    13시    14시  \\\n",
       "0      외곽  강북구  25.19  20.11  14.39  13.59  13.32  14.78  14.94  16.96  12.11   \n",
       "\n",
       "     15시    16시    17시    18시    19시   20시    21시    22시    23시  \n",
       "0  12.49  14.42  14.26  12.57  11.66  13.8  13.62  17.99  13.74  "
      ]
     },
     "execution_count": 33,
     "metadata": {},
     "output_type": "execute_result"
    }
   ],
   "source": [
    "car2.head(1)"
   ]
  },
  {
   "cell_type": "code",
   "execution_count": 35,
   "metadata": {},
   "outputs": [
    {
     "name": "stdout",
     "output_type": "stream",
     "text": [
      "['date', 'days', 'road_name', 'link_id', 'start_point', 'end_point', 'direction', 'road_length', 'road_num', 'road_type', 'urban_suburb', 'district']\n"
     ]
    }
   ],
   "source": [
    "print(list(car2.columns[:12]))"
   ]
  },
  {
   "cell_type": "code",
   "execution_count": 36,
   "metadata": {},
   "outputs": [],
   "source": [
    "melt_col = list(car2.columns[:12])\n",
    "\n",
    "car1 = pd.melt(car1, id_vars = melt_col)\n",
    "car2 = pd.melt(car2, id_vars = melt_col)\n",
    "car3 = pd.melt(car3, id_vars = melt_col)\n",
    "car4 = pd.melt(car4, id_vars = melt_col)\n",
    "car5 = pd.melt(car5, id_vars = melt_col)\n",
    "car6 = pd.melt(car6, id_vars = melt_col)\n",
    "car7 = pd.melt(car7, id_vars = melt_col)\n",
    "car8 = pd.melt(car8, id_vars = melt_col)\n",
    "car9 = pd.melt(car9, id_vars = melt_col)\n",
    "car10 = pd.melt(car10, id_vars = melt_col)\n",
    "car11 = pd.melt(car11, id_vars = melt_col)\n",
    "car12 = pd.melt(car12, id_vars = melt_col)"
   ]
  },
  {
   "cell_type": "code",
   "execution_count": 37,
   "metadata": {},
   "outputs": [
    {
     "data": {
      "text/html": [
       "<div>\n",
       "<style scoped>\n",
       "    .dataframe tbody tr th:only-of-type {\n",
       "        vertical-align: middle;\n",
       "    }\n",
       "\n",
       "    .dataframe tbody tr th {\n",
       "        vertical-align: top;\n",
       "    }\n",
       "\n",
       "    .dataframe thead th {\n",
       "        text-align: right;\n",
       "    }\n",
       "</style>\n",
       "<table border=\"1\" class=\"dataframe\">\n",
       "  <thead>\n",
       "    <tr style=\"text-align: right;\">\n",
       "      <th></th>\n",
       "      <th>date</th>\n",
       "      <th>days</th>\n",
       "      <th>road_name</th>\n",
       "      <th>link_id</th>\n",
       "      <th>start_point</th>\n",
       "      <th>end_point</th>\n",
       "      <th>direction</th>\n",
       "      <th>road_length</th>\n",
       "      <th>road_num</th>\n",
       "      <th>road_type</th>\n",
       "      <th>urban_suburb</th>\n",
       "      <th>district</th>\n",
       "      <th>variable</th>\n",
       "      <th>value</th>\n",
       "    </tr>\n",
       "  </thead>\n",
       "  <tbody>\n",
       "    <tr>\n",
       "      <th>0</th>\n",
       "      <td>20180201</td>\n",
       "      <td>목</td>\n",
       "      <td>4.19로</td>\n",
       "      <td>1080012800</td>\n",
       "      <td>국립4.19묘지</td>\n",
       "      <td>국립4.19묘지입구</td>\n",
       "      <td>상행</td>\n",
       "      <td>352</td>\n",
       "      <td>1</td>\n",
       "      <td>보조간선도로</td>\n",
       "      <td>외곽</td>\n",
       "      <td>강북구</td>\n",
       "      <td>t6</td>\n",
       "      <td>25.19</td>\n",
       "    </tr>\n",
       "    <tr>\n",
       "      <th>1</th>\n",
       "      <td>20180202</td>\n",
       "      <td>금</td>\n",
       "      <td>4.19로</td>\n",
       "      <td>1080012800</td>\n",
       "      <td>국립4.19묘지</td>\n",
       "      <td>국립4.19묘지입구</td>\n",
       "      <td>상행</td>\n",
       "      <td>352</td>\n",
       "      <td>1</td>\n",
       "      <td>보조간선도로</td>\n",
       "      <td>외곽</td>\n",
       "      <td>강북구</td>\n",
       "      <td>t6</td>\n",
       "      <td>26.52</td>\n",
       "    </tr>\n",
       "    <tr>\n",
       "      <th>2</th>\n",
       "      <td>20180203</td>\n",
       "      <td>토</td>\n",
       "      <td>4.19로</td>\n",
       "      <td>1080012800</td>\n",
       "      <td>국립4.19묘지</td>\n",
       "      <td>국립4.19묘지입구</td>\n",
       "      <td>상행</td>\n",
       "      <td>352</td>\n",
       "      <td>1</td>\n",
       "      <td>보조간선도로</td>\n",
       "      <td>외곽</td>\n",
       "      <td>강북구</td>\n",
       "      <td>t6</td>\n",
       "      <td>16.50</td>\n",
       "    </tr>\n",
       "  </tbody>\n",
       "</table>\n",
       "</div>"
      ],
      "text/plain": [
       "       date days road_name     link_id start_point   end_point direction  \\\n",
       "0  20180201    목     4.19로  1080012800    국립4.19묘지  국립4.19묘지입구        상행   \n",
       "1  20180202    금     4.19로  1080012800    국립4.19묘지  국립4.19묘지입구        상행   \n",
       "2  20180203    토     4.19로  1080012800    국립4.19묘지  국립4.19묘지입구        상행   \n",
       "\n",
       "   road_length  road_num road_type urban_suburb district variable  value  \n",
       "0          352         1    보조간선도로           외곽      강북구       t6  25.19  \n",
       "1          352         1    보조간선도로           외곽      강북구       t6  26.52  \n",
       "2          352         1    보조간선도로           외곽      강북구       t6  16.50  "
      ]
     },
     "execution_count": 37,
     "metadata": {},
     "output_type": "execute_result"
    }
   ],
   "source": [
    "car2.head(3)"
   ]
  },
  {
   "cell_type": "code",
   "execution_count": 38,
   "metadata": {},
   "outputs": [
    {
     "data": {
      "text/plain": [
       "Index(['date', 'days', 'road_name', 'link_id', 'start_point', 'end_point',\n",
       "       'direction', 'road_length', 'road_num', 'road_type', 'urban_suburb',\n",
       "       'district', 'variable', 'value'],\n",
       "      dtype='object')"
      ]
     },
     "execution_count": 38,
     "metadata": {},
     "output_type": "execute_result"
    }
   ],
   "source": [
    "car11.columns"
   ]
  },
  {
   "cell_type": "code",
   "execution_count": 39,
   "metadata": {},
   "outputs": [],
   "source": [
    "car1['variable'] = car1['variable'].str.replace('t','').astype(int)\n",
    "car2['variable'] = car2['variable'].str.replace('t','').astype(int)\n",
    "car3['variable'] = car3['variable'].str.replace('t','').astype(int)\n",
    "car4['variable'] = car4['variable'].str.replace('t','').astype(int)\n",
    "car5['variable'] = car5['variable'].str.replace('t','').astype(int)\n",
    "car6['variable'] = car6['variable'].str.replace('t','').astype(int)\n",
    "car7['variable'] = car7['variable'].str.replace('t','').astype(int)\n",
    "car8['variable'] = car8['variable'].str.replace('t','').astype(int)\n",
    "car9['variable'] = car9['variable'].str.replace('t','').astype(int)\n",
    "car10['variable'] = car10['variable'].str.replace('t','').astype(int)\n",
    "car11['variable'] = car11['variable'].str.replace('t','').astype(int)\n",
    "car12['variable'] = car12['variable'].str.replace('t','').astype(int)"
   ]
  },
  {
   "cell_type": "code",
   "execution_count": 40,
   "metadata": {},
   "outputs": [
    {
     "data": {
      "text/html": [
       "<div>\n",
       "<style scoped>\n",
       "    .dataframe tbody tr th:only-of-type {\n",
       "        vertical-align: middle;\n",
       "    }\n",
       "\n",
       "    .dataframe tbody tr th {\n",
       "        vertical-align: top;\n",
       "    }\n",
       "\n",
       "    .dataframe thead th {\n",
       "        text-align: right;\n",
       "    }\n",
       "</style>\n",
       "<table border=\"1\" class=\"dataframe\">\n",
       "  <thead>\n",
       "    <tr style=\"text-align: right;\">\n",
       "      <th></th>\n",
       "      <th>date</th>\n",
       "      <th>days</th>\n",
       "      <th>road_name</th>\n",
       "      <th>link_id</th>\n",
       "      <th>start_point</th>\n",
       "      <th>end_point</th>\n",
       "      <th>direction</th>\n",
       "      <th>road_length</th>\n",
       "      <th>road_num</th>\n",
       "      <th>road_type</th>\n",
       "      <th>urban_suburb</th>\n",
       "      <th>district</th>\n",
       "      <th>variable</th>\n",
       "      <th>value</th>\n",
       "    </tr>\n",
       "  </thead>\n",
       "  <tbody>\n",
       "    <tr>\n",
       "      <th>0</th>\n",
       "      <td>20180301</td>\n",
       "      <td>목</td>\n",
       "      <td>4.19로</td>\n",
       "      <td>1080012800</td>\n",
       "      <td>국립4.19묘지</td>\n",
       "      <td>국립4.19묘지입구</td>\n",
       "      <td>상행</td>\n",
       "      <td>352</td>\n",
       "      <td>1</td>\n",
       "      <td>보조간선도로</td>\n",
       "      <td>외곽</td>\n",
       "      <td>강북구</td>\n",
       "      <td>6</td>\n",
       "      <td>21.31</td>\n",
       "    </tr>\n",
       "  </tbody>\n",
       "</table>\n",
       "</div>"
      ],
      "text/plain": [
       "       date days road_name     link_id start_point   end_point direction  \\\n",
       "0  20180301    목     4.19로  1080012800    국립4.19묘지  국립4.19묘지입구        상행   \n",
       "\n",
       "   road_length  road_num road_type urban_suburb district  variable  value  \n",
       "0          352         1    보조간선도로           외곽      강북구         6  21.31  "
      ]
     },
     "execution_count": 40,
     "metadata": {},
     "output_type": "execute_result"
    }
   ],
   "source": [
    "car3.head(1)"
   ]
  },
  {
   "cell_type": "markdown",
   "metadata": {},
   "source": [
    "# 5. doro_total 변수 생성"
   ]
  },
  {
   "cell_type": "code",
   "execution_count": 41,
   "metadata": {},
   "outputs": [
    {
     "data": {
      "text/html": [
       "<div>\n",
       "<style scoped>\n",
       "    .dataframe tbody tr th:only-of-type {\n",
       "        vertical-align: middle;\n",
       "    }\n",
       "\n",
       "    .dataframe tbody tr th {\n",
       "        vertical-align: top;\n",
       "    }\n",
       "\n",
       "    .dataframe thead th {\n",
       "        text-align: right;\n",
       "    }\n",
       "</style>\n",
       "<table border=\"1\" class=\"dataframe\">\n",
       "  <thead>\n",
       "    <tr style=\"text-align: right;\">\n",
       "      <th></th>\n",
       "      <th>도로명</th>\n",
       "      <th>링크아이디</th>\n",
       "      <th>시점명</th>\n",
       "      <th>종점명</th>\n",
       "      <th>방향</th>\n",
       "      <th>CCTV</th>\n",
       "      <th>어린이</th>\n",
       "      <th>노인</th>\n",
       "      <th>장애인</th>\n",
       "      <th>생활도로</th>\n",
       "      <th>제한속도</th>\n",
       "      <th>진출입구</th>\n",
       "      <th>신호기</th>\n",
       "    </tr>\n",
       "  </thead>\n",
       "  <tbody>\n",
       "    <tr>\n",
       "      <th>0</th>\n",
       "      <td>문래로</td>\n",
       "      <td>1180021600</td>\n",
       "      <td>문래중교</td>\n",
       "      <td>영문초교</td>\n",
       "      <td>상행</td>\n",
       "      <td>0.0</td>\n",
       "      <td>1.0</td>\n",
       "      <td>0.0</td>\n",
       "      <td>0.0</td>\n",
       "      <td>0.0</td>\n",
       "      <td>30.0</td>\n",
       "      <td>21.0</td>\n",
       "      <td>30.0</td>\n",
       "    </tr>\n",
       "    <tr>\n",
       "      <th>1</th>\n",
       "      <td>문래로</td>\n",
       "      <td>1180021200</td>\n",
       "      <td>영문초교</td>\n",
       "      <td>문래역</td>\n",
       "      <td>상행</td>\n",
       "      <td>0.0</td>\n",
       "      <td>1.0</td>\n",
       "      <td>0.0</td>\n",
       "      <td>0.0</td>\n",
       "      <td>0.0</td>\n",
       "      <td>30.0</td>\n",
       "      <td>21.0</td>\n",
       "      <td>30.0</td>\n",
       "    </tr>\n",
       "    <tr>\n",
       "      <th>2</th>\n",
       "      <td>문래로</td>\n",
       "      <td>1180019600</td>\n",
       "      <td>문래역</td>\n",
       "      <td>영남교회</td>\n",
       "      <td>상행</td>\n",
       "      <td>0.0</td>\n",
       "      <td>0.0</td>\n",
       "      <td>0.0</td>\n",
       "      <td>0.0</td>\n",
       "      <td>0.0</td>\n",
       "      <td>30.0</td>\n",
       "      <td>21.0</td>\n",
       "      <td>30.0</td>\n",
       "    </tr>\n",
       "  </tbody>\n",
       "</table>\n",
       "</div>"
      ],
      "text/plain": [
       "   도로명       링크아이디   시점명   종점명  방향  CCTV  어린이   노인  장애인  생활도로  제한속도  진출입구  \\\n",
       "0  문래로  1180021600  문래중교  영문초교  상행   0.0  1.0  0.0  0.0   0.0  30.0  21.0   \n",
       "1  문래로  1180021200  영문초교   문래역  상행   0.0  1.0  0.0  0.0   0.0  30.0  21.0   \n",
       "2  문래로  1180019600   문래역  영남교회  상행   0.0  0.0  0.0  0.0   0.0  30.0  21.0   \n",
       "\n",
       "    신호기  \n",
       "0  30.0  \n",
       "1  30.0  \n",
       "2  30.0  "
      ]
     },
     "execution_count": 41,
     "metadata": {},
     "output_type": "execute_result"
    }
   ],
   "source": [
    "doro_total.head(3)"
   ]
  },
  {
   "cell_type": "code",
   "execution_count": 42,
   "metadata": {},
   "outputs": [],
   "source": [
    "doro_total.drop(['도로명','시점명','종점명','방향','노인','장애인','생활도로'],axis=1, inplace=True)"
   ]
  },
  {
   "cell_type": "code",
   "execution_count": 43,
   "metadata": {},
   "outputs": [
    {
     "data": {
      "text/html": [
       "<div>\n",
       "<style scoped>\n",
       "    .dataframe tbody tr th:only-of-type {\n",
       "        vertical-align: middle;\n",
       "    }\n",
       "\n",
       "    .dataframe tbody tr th {\n",
       "        vertical-align: top;\n",
       "    }\n",
       "\n",
       "    .dataframe thead th {\n",
       "        text-align: right;\n",
       "    }\n",
       "</style>\n",
       "<table border=\"1\" class=\"dataframe\">\n",
       "  <thead>\n",
       "    <tr style=\"text-align: right;\">\n",
       "      <th></th>\n",
       "      <th>링크아이디</th>\n",
       "      <th>CCTV</th>\n",
       "      <th>어린이</th>\n",
       "      <th>제한속도</th>\n",
       "      <th>진출입구</th>\n",
       "      <th>신호기</th>\n",
       "    </tr>\n",
       "  </thead>\n",
       "  <tbody>\n",
       "    <tr>\n",
       "      <th>0</th>\n",
       "      <td>1180021600</td>\n",
       "      <td>0.0</td>\n",
       "      <td>1.0</td>\n",
       "      <td>30.0</td>\n",
       "      <td>21.0</td>\n",
       "      <td>30.0</td>\n",
       "    </tr>\n",
       "  </tbody>\n",
       "</table>\n",
       "</div>"
      ],
      "text/plain": [
       "        링크아이디  CCTV  어린이  제한속도  진출입구   신호기\n",
       "0  1180021600   0.0  1.0  30.0  21.0  30.0"
      ]
     },
     "execution_count": 43,
     "metadata": {},
     "output_type": "execute_result"
    }
   ],
   "source": [
    "doro_total.head(1)"
   ]
  },
  {
   "cell_type": "code",
   "execution_count": 44,
   "metadata": {},
   "outputs": [],
   "source": [
    "doro_total.columns = ['link_id','cctv','kids','speed_limit','entrance','signal']"
   ]
  },
  {
   "cell_type": "code",
   "execution_count": 45,
   "metadata": {},
   "outputs": [],
   "source": [
    "car1 = pd.merge(car1, doro_total, on=['link_id'], how='inner')\n",
    "car2 = pd.merge(car2, doro_total, on=['link_id'], how='inner')\n",
    "car3 = pd.merge(car3, doro_total, on=['link_id'], how='inner')\n",
    "car4 = pd.merge(car4, doro_total, on=['link_id'], how='inner')\n",
    "car5 = pd.merge(car5, doro_total, on=['link_id'], how='inner')\n",
    "car6 = pd.merge(car6, doro_total, on=['link_id'], how='inner')\n",
    "car7 = pd.merge(car7, doro_total, on=['link_id'], how='inner')\n",
    "car8 = pd.merge(car8, doro_total, on=['link_id'], how='inner')\n",
    "car9 = pd.merge(car9, doro_total, on=['link_id'], how='inner')\n",
    "car10 = pd.merge(car10, doro_total, on=['link_id'], how='inner')\n",
    "car11 = pd.merge(car11, doro_total, on=['link_id'], how='inner')\n",
    "car12 = pd.merge(car12, doro_total, on=['link_id'], how='inner')"
   ]
  },
  {
   "cell_type": "code",
   "execution_count": 48,
   "metadata": {},
   "outputs": [
    {
     "data": {
      "text/html": [
       "<div>\n",
       "<style scoped>\n",
       "    .dataframe tbody tr th:only-of-type {\n",
       "        vertical-align: middle;\n",
       "    }\n",
       "\n",
       "    .dataframe tbody tr th {\n",
       "        vertical-align: top;\n",
       "    }\n",
       "\n",
       "    .dataframe thead th {\n",
       "        text-align: right;\n",
       "    }\n",
       "</style>\n",
       "<table border=\"1\" class=\"dataframe\">\n",
       "  <thead>\n",
       "    <tr style=\"text-align: right;\">\n",
       "      <th></th>\n",
       "      <th>date</th>\n",
       "      <th>days</th>\n",
       "      <th>road_name</th>\n",
       "      <th>link_id</th>\n",
       "      <th>start_point</th>\n",
       "      <th>end_point</th>\n",
       "      <th>direction</th>\n",
       "      <th>road_length</th>\n",
       "      <th>road_num</th>\n",
       "      <th>road_type</th>\n",
       "      <th>urban_suburb</th>\n",
       "      <th>district</th>\n",
       "      <th>variable</th>\n",
       "      <th>value</th>\n",
       "      <th>cctv</th>\n",
       "      <th>kids</th>\n",
       "      <th>speed_limit</th>\n",
       "      <th>entrance</th>\n",
       "      <th>signal</th>\n",
       "    </tr>\n",
       "  </thead>\n",
       "  <tbody>\n",
       "    <tr>\n",
       "      <th>0</th>\n",
       "      <td>20180901</td>\n",
       "      <td>토</td>\n",
       "      <td>4.19로</td>\n",
       "      <td>1080012200</td>\n",
       "      <td>아카데미하우스</td>\n",
       "      <td>국립4.19묘지</td>\n",
       "      <td>상행</td>\n",
       "      <td>1179</td>\n",
       "      <td>1.0</td>\n",
       "      <td>보조간선도로</td>\n",
       "      <td>외곽</td>\n",
       "      <td>강북구</td>\n",
       "      <td>6</td>\n",
       "      <td>NaN</td>\n",
       "      <td>0.0</td>\n",
       "      <td>0.0</td>\n",
       "      <td>40.0</td>\n",
       "      <td>25.0</td>\n",
       "      <td>8.0</td>\n",
       "    </tr>\n",
       "    <tr>\n",
       "      <th>1</th>\n",
       "      <td>20180902</td>\n",
       "      <td>일</td>\n",
       "      <td>4.19로</td>\n",
       "      <td>1080012200</td>\n",
       "      <td>아카데미하우스</td>\n",
       "      <td>국립4.19묘지</td>\n",
       "      <td>상행</td>\n",
       "      <td>1179</td>\n",
       "      <td>1.0</td>\n",
       "      <td>보조간선도로</td>\n",
       "      <td>외곽</td>\n",
       "      <td>강북구</td>\n",
       "      <td>6</td>\n",
       "      <td>NaN</td>\n",
       "      <td>0.0</td>\n",
       "      <td>0.0</td>\n",
       "      <td>40.0</td>\n",
       "      <td>25.0</td>\n",
       "      <td>8.0</td>\n",
       "    </tr>\n",
       "    <tr>\n",
       "      <th>2</th>\n",
       "      <td>20180903</td>\n",
       "      <td>월</td>\n",
       "      <td>4.19로</td>\n",
       "      <td>1080012200</td>\n",
       "      <td>아카데미하우스</td>\n",
       "      <td>국립4.19묘지</td>\n",
       "      <td>상행</td>\n",
       "      <td>1179</td>\n",
       "      <td>1.0</td>\n",
       "      <td>보조간선도로</td>\n",
       "      <td>외곽</td>\n",
       "      <td>강북구</td>\n",
       "      <td>6</td>\n",
       "      <td>NaN</td>\n",
       "      <td>0.0</td>\n",
       "      <td>0.0</td>\n",
       "      <td>40.0</td>\n",
       "      <td>25.0</td>\n",
       "      <td>8.0</td>\n",
       "    </tr>\n",
       "    <tr>\n",
       "      <th>3</th>\n",
       "      <td>20180904</td>\n",
       "      <td>화</td>\n",
       "      <td>4.19로</td>\n",
       "      <td>1080012200</td>\n",
       "      <td>아카데미하우스</td>\n",
       "      <td>국립4.19묘지</td>\n",
       "      <td>상행</td>\n",
       "      <td>1179</td>\n",
       "      <td>1.0</td>\n",
       "      <td>보조간선도로</td>\n",
       "      <td>외곽</td>\n",
       "      <td>강북구</td>\n",
       "      <td>6</td>\n",
       "      <td>NaN</td>\n",
       "      <td>0.0</td>\n",
       "      <td>0.0</td>\n",
       "      <td>40.0</td>\n",
       "      <td>25.0</td>\n",
       "      <td>8.0</td>\n",
       "    </tr>\n",
       "    <tr>\n",
       "      <th>4</th>\n",
       "      <td>20180907</td>\n",
       "      <td>금</td>\n",
       "      <td>4.19로</td>\n",
       "      <td>1080012200</td>\n",
       "      <td>아카데미하우스</td>\n",
       "      <td>국립4.19묘지</td>\n",
       "      <td>상행</td>\n",
       "      <td>1179</td>\n",
       "      <td>1.0</td>\n",
       "      <td>보조간선도로</td>\n",
       "      <td>외곽</td>\n",
       "      <td>강북구</td>\n",
       "      <td>6</td>\n",
       "      <td>43.17</td>\n",
       "      <td>0.0</td>\n",
       "      <td>0.0</td>\n",
       "      <td>40.0</td>\n",
       "      <td>25.0</td>\n",
       "      <td>8.0</td>\n",
       "    </tr>\n",
       "  </tbody>\n",
       "</table>\n",
       "</div>"
      ],
      "text/plain": [
       "       date days road_name     link_id start_point end_point direction  \\\n",
       "0  20180901    토     4.19로  1080012200     아카데미하우스  국립4.19묘지        상행   \n",
       "1  20180902    일     4.19로  1080012200     아카데미하우스  국립4.19묘지        상행   \n",
       "2  20180903    월     4.19로  1080012200     아카데미하우스  국립4.19묘지        상행   \n",
       "3  20180904    화     4.19로  1080012200     아카데미하우스  국립4.19묘지        상행   \n",
       "4  20180907    금     4.19로  1080012200     아카데미하우스  국립4.19묘지        상행   \n",
       "\n",
       "   road_length  road_num road_type urban_suburb district  variable  value  \\\n",
       "0         1179       1.0    보조간선도로           외곽      강북구         6    NaN   \n",
       "1         1179       1.0    보조간선도로           외곽      강북구         6    NaN   \n",
       "2         1179       1.0    보조간선도로           외곽      강북구         6    NaN   \n",
       "3         1179       1.0    보조간선도로           외곽      강북구         6    NaN   \n",
       "4         1179       1.0    보조간선도로           외곽      강북구         6  43.17   \n",
       "\n",
       "   cctv  kids  speed_limit  entrance  signal  \n",
       "0   0.0   0.0         40.0      25.0     8.0  \n",
       "1   0.0   0.0         40.0      25.0     8.0  \n",
       "2   0.0   0.0         40.0      25.0     8.0  \n",
       "3   0.0   0.0         40.0      25.0     8.0  \n",
       "4   0.0   0.0         40.0      25.0     8.0  "
      ]
     },
     "execution_count": 48,
     "metadata": {},
     "output_type": "execute_result"
    }
   ],
   "source": [
    "car9.head(5)"
   ]
  },
  {
   "cell_type": "code",
   "execution_count": 47,
   "metadata": {},
   "outputs": [
    {
     "data": {
      "text/html": [
       "<div>\n",
       "<style scoped>\n",
       "    .dataframe tbody tr th:only-of-type {\n",
       "        vertical-align: middle;\n",
       "    }\n",
       "\n",
       "    .dataframe tbody tr th {\n",
       "        vertical-align: top;\n",
       "    }\n",
       "\n",
       "    .dataframe thead th {\n",
       "        text-align: right;\n",
       "    }\n",
       "</style>\n",
       "<table border=\"1\" class=\"dataframe\">\n",
       "  <thead>\n",
       "    <tr style=\"text-align: right;\">\n",
       "      <th></th>\n",
       "      <th>date</th>\n",
       "      <th>days</th>\n",
       "      <th>road_name</th>\n",
       "      <th>link_id</th>\n",
       "      <th>start_point</th>\n",
       "      <th>end_point</th>\n",
       "      <th>direction</th>\n",
       "      <th>road_length</th>\n",
       "      <th>road_num</th>\n",
       "      <th>road_type</th>\n",
       "      <th>urban_suburb</th>\n",
       "      <th>district</th>\n",
       "      <th>variable</th>\n",
       "      <th>value</th>\n",
       "      <th>cctv</th>\n",
       "      <th>kids</th>\n",
       "      <th>speed_limit</th>\n",
       "      <th>entrance</th>\n",
       "      <th>signal</th>\n",
       "    </tr>\n",
       "  </thead>\n",
       "  <tbody>\n",
       "    <tr>\n",
       "      <th>0</th>\n",
       "      <td>20181001</td>\n",
       "      <td>월</td>\n",
       "      <td>4.19로</td>\n",
       "      <td>1080012200</td>\n",
       "      <td>아카데미하우스</td>\n",
       "      <td>국립4.19묘지</td>\n",
       "      <td>상행</td>\n",
       "      <td>1179</td>\n",
       "      <td>1</td>\n",
       "      <td>보조간선도로</td>\n",
       "      <td>외곽</td>\n",
       "      <td>강북구</td>\n",
       "      <td>6</td>\n",
       "      <td>43.47</td>\n",
       "      <td>0.0</td>\n",
       "      <td>0.0</td>\n",
       "      <td>40.0</td>\n",
       "      <td>25.0</td>\n",
       "      <td>8.0</td>\n",
       "    </tr>\n",
       "  </tbody>\n",
       "</table>\n",
       "</div>"
      ],
      "text/plain": [
       "       date days road_name     link_id start_point end_point direction  \\\n",
       "0  20181001    월     4.19로  1080012200     아카데미하우스  국립4.19묘지        상행   \n",
       "\n",
       "   road_length  road_num road_type urban_suburb district  variable  value  \\\n",
       "0         1179         1    보조간선도로           외곽      강북구         6  43.47   \n",
       "\n",
       "   cctv  kids  speed_limit  entrance  signal  \n",
       "0   0.0   0.0         40.0      25.0     8.0  "
      ]
     },
     "execution_count": 47,
     "metadata": {},
     "output_type": "execute_result"
    }
   ],
   "source": [
    "car10.head(1)"
   ]
  },
  {
   "cell_type": "markdown",
   "metadata": {},
   "source": [
    "# 6. accident 데이터 합치기"
   ]
  },
  {
   "cell_type": "code",
   "execution_count": 61,
   "metadata": {},
   "outputs": [],
   "source": [
    "accident_new = pd.read_csv('accident_new.csv',encoding='utf8')"
   ]
  },
  {
   "cell_type": "code",
   "execution_count": 62,
   "metadata": {},
   "outputs": [
    {
     "data": {
      "text/html": [
       "<div>\n",
       "<style scoped>\n",
       "    .dataframe tbody tr th:only-of-type {\n",
       "        vertical-align: middle;\n",
       "    }\n",
       "\n",
       "    .dataframe tbody tr th {\n",
       "        vertical-align: top;\n",
       "    }\n",
       "\n",
       "    .dataframe thead th {\n",
       "        text-align: right;\n",
       "    }\n",
       "</style>\n",
       "<table border=\"1\" class=\"dataframe\">\n",
       "  <thead>\n",
       "    <tr style=\"text-align: right;\">\n",
       "      <th></th>\n",
       "      <th>도로명</th>\n",
       "      <th>사망자수</th>\n",
       "      <th>중상자수</th>\n",
       "      <th>경상자수</th>\n",
       "      <th>부상신고자수</th>\n",
       "      <th>victims</th>\n",
       "      <th>severity</th>\n",
       "      <th>count</th>\n",
       "    </tr>\n",
       "  </thead>\n",
       "  <tbody>\n",
       "    <tr>\n",
       "      <th>0</th>\n",
       "      <td>4.19로</td>\n",
       "      <td>0</td>\n",
       "      <td>3</td>\n",
       "      <td>15</td>\n",
       "      <td>1</td>\n",
       "      <td>19</td>\n",
       "      <td>55</td>\n",
       "      <td>13</td>\n",
       "    </tr>\n",
       "  </tbody>\n",
       "</table>\n",
       "</div>"
      ],
      "text/plain": [
       "     도로명  사망자수  중상자수  경상자수  부상신고자수  victims  severity  count\n",
       "0  4.19로     0     3    15       1       19        55     13"
      ]
     },
     "execution_count": 62,
     "metadata": {},
     "output_type": "execute_result"
    }
   ],
   "source": [
    "accident_new.head(1)"
   ]
  },
  {
   "cell_type": "code",
   "execution_count": 63,
   "metadata": {},
   "outputs": [
    {
     "data": {
      "text/html": [
       "<div>\n",
       "<style scoped>\n",
       "    .dataframe tbody tr th:only-of-type {\n",
       "        vertical-align: middle;\n",
       "    }\n",
       "\n",
       "    .dataframe tbody tr th {\n",
       "        vertical-align: top;\n",
       "    }\n",
       "\n",
       "    .dataframe thead th {\n",
       "        text-align: right;\n",
       "    }\n",
       "</style>\n",
       "<table border=\"1\" class=\"dataframe\">\n",
       "  <thead>\n",
       "    <tr style=\"text-align: right;\">\n",
       "      <th></th>\n",
       "      <th>road_name</th>\n",
       "      <th>d1</th>\n",
       "      <th>d2</th>\n",
       "      <th>d3</th>\n",
       "      <th>d4</th>\n",
       "      <th>victims</th>\n",
       "      <th>severity</th>\n",
       "      <th>accident_count</th>\n",
       "    </tr>\n",
       "  </thead>\n",
       "  <tbody>\n",
       "    <tr>\n",
       "      <th>0</th>\n",
       "      <td>4.19로</td>\n",
       "      <td>0</td>\n",
       "      <td>3</td>\n",
       "      <td>15</td>\n",
       "      <td>1</td>\n",
       "      <td>19</td>\n",
       "      <td>55</td>\n",
       "      <td>13</td>\n",
       "    </tr>\n",
       "    <tr>\n",
       "      <th>1</th>\n",
       "      <td>63로</td>\n",
       "      <td>0</td>\n",
       "      <td>0</td>\n",
       "      <td>3</td>\n",
       "      <td>1</td>\n",
       "      <td>4</td>\n",
       "      <td>10</td>\n",
       "      <td>3</td>\n",
       "    </tr>\n",
       "    <tr>\n",
       "      <th>2</th>\n",
       "      <td>가락로</td>\n",
       "      <td>0</td>\n",
       "      <td>20</td>\n",
       "      <td>50</td>\n",
       "      <td>15</td>\n",
       "      <td>85</td>\n",
       "      <td>225</td>\n",
       "      <td>70</td>\n",
       "    </tr>\n",
       "  </tbody>\n",
       "</table>\n",
       "</div>"
      ],
      "text/plain": [
       "  road_name  d1  d2  d3  d4  victims  severity  accident_count\n",
       "0     4.19로   0   3  15   1       19        55              13\n",
       "1       63로   0   0   3   1        4        10               3\n",
       "2       가락로   0  20  50  15       85       225              70"
      ]
     },
     "execution_count": 63,
     "metadata": {},
     "output_type": "execute_result"
    }
   ],
   "source": [
    "accident_new.columns = ['road_name','d1','d2','d3','d4','victims','severity','accident_count']\n",
    "accident_new.head(3)"
   ]
  },
  {
   "cell_type": "code",
   "execution_count": 64,
   "metadata": {},
   "outputs": [],
   "source": [
    "car1 = pd.merge(car1, accident_new, how = 'left', left_on = ['road_name'], right_on = ['road_name'])\n",
    "car2 = pd.merge(car2, accident_new, how = 'left', left_on = ['road_name'], right_on = ['road_name'])\n",
    "car3 = pd.merge(car3, accident_new, how = 'left', left_on = ['road_name'], right_on = ['road_name'])\n",
    "car4 = pd.merge(car4, accident_new, how = 'left', left_on = ['road_name'], right_on = ['road_name'])\n",
    "car5 = pd.merge(car5, accident_new, how = 'left', left_on = ['road_name'], right_on = ['road_name'])\n",
    "car6 = pd.merge(car6, accident_new, how = 'left', left_on = ['road_name'], right_on = ['road_name'])\n",
    "car7 = pd.merge(car7, accident_new, how = 'left', left_on = ['road_name'], right_on = ['road_name'])\n",
    "car8 = pd.merge(car8, accident_new, how = 'left', left_on = ['road_name'], right_on = ['road_name'])\n",
    "car9 = pd.merge(car9, accident_new, how = 'left', left_on = ['road_name'], right_on = ['road_name'])\n",
    "car10 = pd.merge(car10, accident_new, how = 'left', left_on = ['road_name'], right_on = ['road_name'])\n",
    "car11 = pd.merge(car11, accident_new, how = 'left', left_on = ['road_name'], right_on = ['road_name'])\n",
    "car12 = pd.merge(car12, accident_new, how = 'left', left_on = ['road_name'], right_on = ['road_name'])"
   ]
  },
  {
   "cell_type": "code",
   "execution_count": 65,
   "metadata": {},
   "outputs": [
    {
     "data": {
      "text/html": [
       "<div>\n",
       "<style scoped>\n",
       "    .dataframe tbody tr th:only-of-type {\n",
       "        vertical-align: middle;\n",
       "    }\n",
       "\n",
       "    .dataframe tbody tr th {\n",
       "        vertical-align: top;\n",
       "    }\n",
       "\n",
       "    .dataframe thead th {\n",
       "        text-align: right;\n",
       "    }\n",
       "</style>\n",
       "<table border=\"1\" class=\"dataframe\">\n",
       "  <thead>\n",
       "    <tr style=\"text-align: right;\">\n",
       "      <th></th>\n",
       "      <th>date</th>\n",
       "      <th>days</th>\n",
       "      <th>road_name</th>\n",
       "      <th>link_id</th>\n",
       "      <th>start_point</th>\n",
       "      <th>end_point</th>\n",
       "      <th>direction</th>\n",
       "      <th>road_length</th>\n",
       "      <th>road_num</th>\n",
       "      <th>road_type</th>\n",
       "      <th>urban_suburb</th>\n",
       "      <th>district</th>\n",
       "      <th>variable</th>\n",
       "      <th>value</th>\n",
       "      <th>cctv</th>\n",
       "      <th>kids</th>\n",
       "      <th>speed_limit</th>\n",
       "      <th>entrance</th>\n",
       "      <th>signal</th>\n",
       "      <th>d1</th>\n",
       "      <th>d2</th>\n",
       "      <th>d3</th>\n",
       "      <th>d4</th>\n",
       "      <th>victims</th>\n",
       "      <th>severity</th>\n",
       "      <th>accident_count</th>\n",
       "    </tr>\n",
       "  </thead>\n",
       "  <tbody>\n",
       "    <tr>\n",
       "      <th>0</th>\n",
       "      <td>20180101</td>\n",
       "      <td>월</td>\n",
       "      <td>4.19로</td>\n",
       "      <td>1080012800</td>\n",
       "      <td>국립4.19묘지</td>\n",
       "      <td>국립4.19묘지입구</td>\n",
       "      <td>상행</td>\n",
       "      <td>352</td>\n",
       "      <td>1</td>\n",
       "      <td>보조간선도로</td>\n",
       "      <td>외곽</td>\n",
       "      <td>강북구</td>\n",
       "      <td>6</td>\n",
       "      <td>21.7</td>\n",
       "      <td>0.0</td>\n",
       "      <td>0.0</td>\n",
       "      <td>40.0</td>\n",
       "      <td>25.0</td>\n",
       "      <td>8.0</td>\n",
       "      <td>0.0</td>\n",
       "      <td>3.0</td>\n",
       "      <td>15.0</td>\n",
       "      <td>1.0</td>\n",
       "      <td>19.0</td>\n",
       "      <td>55.0</td>\n",
       "      <td>13.0</td>\n",
       "    </tr>\n",
       "  </tbody>\n",
       "</table>\n",
       "</div>"
      ],
      "text/plain": [
       "       date days road_name     link_id start_point   end_point direction  \\\n",
       "0  20180101    월     4.19로  1080012800    국립4.19묘지  국립4.19묘지입구        상행   \n",
       "\n",
       "   road_length  road_num road_type urban_suburb district  variable  value  \\\n",
       "0          352         1    보조간선도로           외곽      강북구         6   21.7   \n",
       "\n",
       "   cctv  kids  speed_limit  entrance  signal   d1   d2    d3   d4  victims  \\\n",
       "0   0.0   0.0         40.0      25.0     8.0  0.0  3.0  15.0  1.0     19.0   \n",
       "\n",
       "   severity  accident_count  \n",
       "0      55.0            13.0  "
      ]
     },
     "execution_count": 65,
     "metadata": {},
     "output_type": "execute_result"
    }
   ],
   "source": [
    "car1.head(1)"
   ]
  },
  {
   "cell_type": "code",
   "execution_count": 66,
   "metadata": {},
   "outputs": [
    {
     "name": "stdout",
     "output_type": "stream",
     "text": [
      "26\n",
      "26\n",
      "26\n",
      "26\n",
      "26\n",
      "26\n",
      "26\n",
      "26\n",
      "26\n",
      "26\n",
      "26\n",
      "26\n"
     ]
    }
   ],
   "source": [
    "print(len(car1.columns))\n",
    "print(len(car2.columns))\n",
    "print(len(car3.columns))\n",
    "print(len(car4.columns))\n",
    "print(len(car5.columns))\n",
    "print(len(car6.columns))\n",
    "print(len(car7.columns))\n",
    "print(len(car8.columns))\n",
    "print(len(car9.columns))\n",
    "print(len(car10.columns))\n",
    "print(len(car11.columns))\n",
    "print(len(car12.columns))"
   ]
  },
  {
   "cell_type": "markdown",
   "metadata": {},
   "source": [
    "# 7. intersection 변수 생성"
   ]
  },
  {
   "cell_type": "code",
   "execution_count": 68,
   "metadata": {},
   "outputs": [
    {
     "data": {
      "text/html": [
       "<div>\n",
       "<style scoped>\n",
       "    .dataframe tbody tr th:only-of-type {\n",
       "        vertical-align: middle;\n",
       "    }\n",
       "\n",
       "    .dataframe tbody tr th {\n",
       "        vertical-align: top;\n",
       "    }\n",
       "\n",
       "    .dataframe thead th {\n",
       "        text-align: right;\n",
       "    }\n",
       "</style>\n",
       "<table border=\"1\" class=\"dataframe\">\n",
       "  <thead>\n",
       "    <tr style=\"text-align: right;\">\n",
       "      <th></th>\n",
       "      <th>도로명</th>\n",
       "      <th>상행</th>\n",
       "      <th>하행</th>\n",
       "    </tr>\n",
       "  </thead>\n",
       "  <tbody>\n",
       "    <tr>\n",
       "      <th>0</th>\n",
       "      <td>4.19로</td>\n",
       "      <td>2.0</td>\n",
       "      <td>2.0</td>\n",
       "    </tr>\n",
       "    <tr>\n",
       "      <th>1</th>\n",
       "      <td>가락로</td>\n",
       "      <td>4.0</td>\n",
       "      <td>4.0</td>\n",
       "    </tr>\n",
       "    <tr>\n",
       "      <th>2</th>\n",
       "      <td>가로공원로</td>\n",
       "      <td>4.0</td>\n",
       "      <td>4.0</td>\n",
       "    </tr>\n",
       "  </tbody>\n",
       "</table>\n",
       "</div>"
      ],
      "text/plain": [
       "     도로명   상행   하행\n",
       "0  4.19로  2.0  2.0\n",
       "1    가락로  4.0  4.0\n",
       "2  가로공원로  4.0  4.0"
      ]
     },
     "execution_count": 68,
     "metadata": {},
     "output_type": "execute_result"
    }
   ],
   "source": [
    "intersection = pd.read_csv('intersection.csv')\n",
    "intersection.head(3)"
   ]
  },
  {
   "cell_type": "code",
   "execution_count": 69,
   "metadata": {},
   "outputs": [
    {
     "data": {
      "text/html": [
       "<div>\n",
       "<style scoped>\n",
       "    .dataframe tbody tr th:only-of-type {\n",
       "        vertical-align: middle;\n",
       "    }\n",
       "\n",
       "    .dataframe tbody tr th {\n",
       "        vertical-align: top;\n",
       "    }\n",
       "\n",
       "    .dataframe thead th {\n",
       "        text-align: right;\n",
       "    }\n",
       "</style>\n",
       "<table border=\"1\" class=\"dataframe\">\n",
       "  <thead>\n",
       "    <tr style=\"text-align: right;\">\n",
       "      <th></th>\n",
       "      <th>road_name</th>\n",
       "      <th>direction</th>\n",
       "      <th>inter_num</th>\n",
       "    </tr>\n",
       "  </thead>\n",
       "  <tbody>\n",
       "    <tr>\n",
       "      <th>0</th>\n",
       "      <td>4.19로</td>\n",
       "      <td>상행</td>\n",
       "      <td>2.0</td>\n",
       "    </tr>\n",
       "    <tr>\n",
       "      <th>1</th>\n",
       "      <td>가락로</td>\n",
       "      <td>상행</td>\n",
       "      <td>4.0</td>\n",
       "    </tr>\n",
       "    <tr>\n",
       "      <th>2</th>\n",
       "      <td>가로공원로</td>\n",
       "      <td>상행</td>\n",
       "      <td>4.0</td>\n",
       "    </tr>\n",
       "    <tr>\n",
       "      <th>3</th>\n",
       "      <td>가로공원로76길</td>\n",
       "      <td>상행</td>\n",
       "      <td>1.0</td>\n",
       "    </tr>\n",
       "    <tr>\n",
       "      <th>4</th>\n",
       "      <td>가마산로</td>\n",
       "      <td>상행</td>\n",
       "      <td>10.0</td>\n",
       "    </tr>\n",
       "  </tbody>\n",
       "</table>\n",
       "</div>"
      ],
      "text/plain": [
       "  road_name direction  inter_num\n",
       "0     4.19로        상행        2.0\n",
       "1       가락로        상행        4.0\n",
       "2     가로공원로        상행        4.0\n",
       "3  가로공원로76길        상행        1.0\n",
       "4      가마산로        상행       10.0"
      ]
     },
     "execution_count": 69,
     "metadata": {},
     "output_type": "execute_result"
    }
   ],
   "source": [
    "intersection = intersection.melt(id_vars = '도로명')\n",
    "intersection.columns = ['road_name','direction','inter_num']\n",
    "intersection.head()"
   ]
  },
  {
   "cell_type": "code",
   "execution_count": 70,
   "metadata": {},
   "outputs": [],
   "source": [
    "car1 = pd.merge(car1, intersection, how = 'left', left_on = ['road_name','direction'], right_on = ['road_name','direction'])\n",
    "car2 = pd.merge(car2, intersection, how = 'left', left_on = ['road_name','direction'], right_on = ['road_name','direction'])\n",
    "car3 = pd.merge(car3, intersection, how = 'left', left_on = ['road_name','direction'], right_on = ['road_name','direction'])\n",
    "car4 = pd.merge(car4, intersection, how = 'left', left_on = ['road_name','direction'], right_on = ['road_name','direction'])\n",
    "car5 = pd.merge(car5, intersection, how = 'left', left_on = ['road_name','direction'], right_on = ['road_name','direction'])\n",
    "car6 = pd.merge(car6, intersection, how = 'left', left_on = ['road_name','direction'], right_on = ['road_name','direction'])\n",
    "car7 = pd.merge(car7, intersection, how = 'left', left_on = ['road_name','direction'], right_on = ['road_name','direction'])\n",
    "car8 = pd.merge(car8, intersection, how = 'left', left_on = ['road_name','direction'], right_on = ['road_name','direction'])\n",
    "car9 = pd.merge(car9, intersection, how = 'left', left_on = ['road_name','direction'], right_on = ['road_name','direction'])\n",
    "car10 = pd.merge(car10, intersection, how = 'left', left_on = ['road_name','direction'], right_on = ['road_name','direction'])\n",
    "car11 = pd.merge(car11, intersection, how = 'left', left_on = ['road_name','direction'], right_on = ['road_name','direction'])\n",
    "car12 = pd.merge(car12, intersection, how = 'left', left_on = ['road_name','direction'], right_on = ['road_name','direction'])"
   ]
  },
  {
   "cell_type": "code",
   "execution_count": 71,
   "metadata": {},
   "outputs": [
    {
     "data": {
      "text/html": [
       "<div>\n",
       "<style scoped>\n",
       "    .dataframe tbody tr th:only-of-type {\n",
       "        vertical-align: middle;\n",
       "    }\n",
       "\n",
       "    .dataframe tbody tr th {\n",
       "        vertical-align: top;\n",
       "    }\n",
       "\n",
       "    .dataframe thead th {\n",
       "        text-align: right;\n",
       "    }\n",
       "</style>\n",
       "<table border=\"1\" class=\"dataframe\">\n",
       "  <thead>\n",
       "    <tr style=\"text-align: right;\">\n",
       "      <th></th>\n",
       "      <th>date</th>\n",
       "      <th>days</th>\n",
       "      <th>road_name</th>\n",
       "      <th>link_id</th>\n",
       "      <th>start_point</th>\n",
       "      <th>end_point</th>\n",
       "      <th>direction</th>\n",
       "      <th>road_length</th>\n",
       "      <th>road_num</th>\n",
       "      <th>road_type</th>\n",
       "      <th>urban_suburb</th>\n",
       "      <th>district</th>\n",
       "      <th>variable</th>\n",
       "      <th>value</th>\n",
       "      <th>cctv</th>\n",
       "      <th>kids</th>\n",
       "      <th>speed_limit</th>\n",
       "      <th>entrance</th>\n",
       "      <th>signal</th>\n",
       "      <th>d1</th>\n",
       "      <th>d2</th>\n",
       "      <th>d3</th>\n",
       "      <th>d4</th>\n",
       "      <th>victims</th>\n",
       "      <th>severity</th>\n",
       "      <th>accident_count</th>\n",
       "      <th>inter_num</th>\n",
       "    </tr>\n",
       "  </thead>\n",
       "  <tbody>\n",
       "    <tr>\n",
       "      <th>0</th>\n",
       "      <td>20180801</td>\n",
       "      <td>수</td>\n",
       "      <td>4.19로</td>\n",
       "      <td>1080012200</td>\n",
       "      <td>아카데미하우스</td>\n",
       "      <td>국립4.19묘지</td>\n",
       "      <td>상행</td>\n",
       "      <td>1179</td>\n",
       "      <td>1.0</td>\n",
       "      <td>보조간선도로</td>\n",
       "      <td>외곽</td>\n",
       "      <td>강북구</td>\n",
       "      <td>6</td>\n",
       "      <td>43.69</td>\n",
       "      <td>0.0</td>\n",
       "      <td>0.0</td>\n",
       "      <td>40.0</td>\n",
       "      <td>25.0</td>\n",
       "      <td>8.0</td>\n",
       "      <td>0.0</td>\n",
       "      <td>3.0</td>\n",
       "      <td>15.0</td>\n",
       "      <td>1.0</td>\n",
       "      <td>19.0</td>\n",
       "      <td>55.0</td>\n",
       "      <td>13.0</td>\n",
       "      <td>2.0</td>\n",
       "    </tr>\n",
       "  </tbody>\n",
       "</table>\n",
       "</div>"
      ],
      "text/plain": [
       "       date days road_name     link_id start_point end_point direction  \\\n",
       "0  20180801    수     4.19로  1080012200     아카데미하우스  국립4.19묘지        상행   \n",
       "\n",
       "   road_length  road_num road_type urban_suburb district  variable  value  \\\n",
       "0         1179       1.0    보조간선도로           외곽      강북구         6  43.69   \n",
       "\n",
       "   cctv  kids  speed_limit  entrance  signal   d1   d2    d3   d4  victims  \\\n",
       "0   0.0   0.0         40.0      25.0     8.0  0.0  3.0  15.0  1.0     19.0   \n",
       "\n",
       "   severity  accident_count  inter_num  \n",
       "0      55.0            13.0        2.0  "
      ]
     },
     "execution_count": 71,
     "metadata": {},
     "output_type": "execute_result"
    }
   ],
   "source": [
    "car8.head(1)"
   ]
  },
  {
   "cell_type": "markdown",
   "metadata": {},
   "source": [
    "# 8. 날씨 merge"
   ]
  },
  {
   "cell_type": "code",
   "execution_count": 73,
   "metadata": {},
   "outputs": [
    {
     "data": {
      "text/html": [
       "<div>\n",
       "<style scoped>\n",
       "    .dataframe tbody tr th:only-of-type {\n",
       "        vertical-align: middle;\n",
       "    }\n",
       "\n",
       "    .dataframe tbody tr th {\n",
       "        vertical-align: top;\n",
       "    }\n",
       "\n",
       "    .dataframe thead th {\n",
       "        text-align: right;\n",
       "    }\n",
       "</style>\n",
       "<table border=\"1\" class=\"dataframe\">\n",
       "  <thead>\n",
       "    <tr style=\"text-align: right;\">\n",
       "      <th></th>\n",
       "      <th>temperature</th>\n",
       "      <th>wind</th>\n",
       "      <th>rain</th>\n",
       "      <th>date</th>\n",
       "      <th>district</th>\n",
       "      <th>time</th>\n",
       "      <th>snow</th>\n",
       "    </tr>\n",
       "  </thead>\n",
       "  <tbody>\n",
       "    <tr>\n",
       "      <th>0</th>\n",
       "      <td>-0.7</td>\n",
       "      <td>1.1</td>\n",
       "      <td>0.0</td>\n",
       "      <td>20180101</td>\n",
       "      <td>강남구</td>\n",
       "      <td>0</td>\n",
       "      <td>0.0</td>\n",
       "    </tr>\n",
       "    <tr>\n",
       "      <th>1</th>\n",
       "      <td>-0.9</td>\n",
       "      <td>0.9</td>\n",
       "      <td>0.0</td>\n",
       "      <td>20180101</td>\n",
       "      <td>강남구</td>\n",
       "      <td>1</td>\n",
       "      <td>0.0</td>\n",
       "    </tr>\n",
       "  </tbody>\n",
       "</table>\n",
       "</div>"
      ],
      "text/plain": [
       "   temperature  wind  rain      date district  time  snow\n",
       "0         -0.7   1.1   0.0  20180101      강남구     0   0.0\n",
       "1         -0.9   0.9   0.0  20180101      강남구     1   0.0"
      ]
     },
     "execution_count": 73,
     "metadata": {},
     "output_type": "execute_result"
    }
   ],
   "source": [
    "weather.drop(['지점', '일시','id'],axis=1,inplace=True)\n",
    "weather['일자'] = weather['일자'].apply(lambda x: int(x.replace(\"-\",\"\")))\n",
    "weather = weather.rename(columns={'일자':'date'})\n",
    "weather.head(2)"
   ]
  },
  {
   "cell_type": "code",
   "execution_count": 75,
   "metadata": {},
   "outputs": [],
   "source": [
    "car1 = car1.rename(columns = {'variable': 'time'})\n",
    "car2 = car2.rename(columns = {'variable': 'time'})\n",
    "car3 = car3.rename(columns = {'variable': 'time'})\n",
    "car4 = car4.rename(columns = {'variable': 'time'})\n",
    "car5 = car5.rename(columns = {'variable': 'time'})\n",
    "car6 = car6.rename(columns = {'variable': 'time'})\n",
    "car7 = car7.rename(columns = {'variable': 'time'})\n",
    "car8 = car8.rename(columns = {'variable': 'time'})\n",
    "car9 = car9.rename(columns = {'variable': 'time'})\n",
    "car10 = car10.rename(columns = {'variable': 'time'})\n",
    "car11 = car11.rename(columns = {'variable': 'time'})\n",
    "car12 = car12.rename(columns = {'variable': 'time'})"
   ]
  },
  {
   "cell_type": "code",
   "execution_count": 76,
   "metadata": {},
   "outputs": [],
   "source": [
    "car1 = pd.merge(car1,weather,on=['date','district','time'],how='inner')\n",
    "car2 = pd.merge(car2,weather,on=['date','district','time'],how='inner')\n",
    "car3 = pd.merge(car3,weather,on=['date','district','time'],how='inner')\n",
    "car4 = pd.merge(car4,weather,on=['date','district','time'],how='inner')\n",
    "car5 = pd.merge(car5,weather,on=['date','district','time'],how='inner')\n",
    "car6 = pd.merge(car6,weather,on=['date','district','time'],how='inner')\n",
    "car7 = pd.merge(car7,weather,on=['date','district','time'],how='inner')\n",
    "car8 = pd.merge(car8,weather,on=['date','district','time'],how='inner')\n",
    "car9 = pd.merge(car9,weather,on=['date','district','time'],how='inner')\n",
    "car10 = pd.merge(car10,weather,on=['date','district','time'],how='inner')\n",
    "car11 = pd.merge(car11,weather,on=['date','district','time'],how='inner')\n",
    "car12 = pd.merge(car12,weather,on=['date','district','time'],how='inner')"
   ]
  },
  {
   "cell_type": "code",
   "execution_count": 77,
   "metadata": {},
   "outputs": [
    {
     "data": {
      "text/html": [
       "<div>\n",
       "<style scoped>\n",
       "    .dataframe tbody tr th:only-of-type {\n",
       "        vertical-align: middle;\n",
       "    }\n",
       "\n",
       "    .dataframe tbody tr th {\n",
       "        vertical-align: top;\n",
       "    }\n",
       "\n",
       "    .dataframe thead th {\n",
       "        text-align: right;\n",
       "    }\n",
       "</style>\n",
       "<table border=\"1\" class=\"dataframe\">\n",
       "  <thead>\n",
       "    <tr style=\"text-align: right;\">\n",
       "      <th></th>\n",
       "      <th>date</th>\n",
       "      <th>days</th>\n",
       "      <th>road_name</th>\n",
       "      <th>link_id</th>\n",
       "      <th>start_point</th>\n",
       "      <th>end_point</th>\n",
       "      <th>direction</th>\n",
       "      <th>road_length</th>\n",
       "      <th>road_num</th>\n",
       "      <th>road_type</th>\n",
       "      <th>urban_suburb</th>\n",
       "      <th>district</th>\n",
       "      <th>time</th>\n",
       "      <th>value</th>\n",
       "      <th>cctv</th>\n",
       "      <th>kids</th>\n",
       "      <th>speed_limit</th>\n",
       "      <th>entrance</th>\n",
       "      <th>signal</th>\n",
       "      <th>d1</th>\n",
       "      <th>d2</th>\n",
       "      <th>d3</th>\n",
       "      <th>d4</th>\n",
       "      <th>victims</th>\n",
       "      <th>severity</th>\n",
       "      <th>accident_count</th>\n",
       "      <th>inter_num</th>\n",
       "      <th>temperature</th>\n",
       "      <th>wind</th>\n",
       "      <th>rain</th>\n",
       "      <th>snow</th>\n",
       "    </tr>\n",
       "  </thead>\n",
       "  <tbody>\n",
       "    <tr>\n",
       "      <th>0</th>\n",
       "      <td>20180601</td>\n",
       "      <td>금</td>\n",
       "      <td>4.19로</td>\n",
       "      <td>1080012800</td>\n",
       "      <td>국립4.19묘지</td>\n",
       "      <td>국립4.19묘지입구</td>\n",
       "      <td>상행</td>\n",
       "      <td>352</td>\n",
       "      <td>1</td>\n",
       "      <td>보조간선도로</td>\n",
       "      <td>외곽</td>\n",
       "      <td>강북구</td>\n",
       "      <td>6</td>\n",
       "      <td>22.62</td>\n",
       "      <td>0.0</td>\n",
       "      <td>0.0</td>\n",
       "      <td>40.0</td>\n",
       "      <td>25.0</td>\n",
       "      <td>8.0</td>\n",
       "      <td>0.0</td>\n",
       "      <td>3.0</td>\n",
       "      <td>15.0</td>\n",
       "      <td>1.0</td>\n",
       "      <td>19.0</td>\n",
       "      <td>55.0</td>\n",
       "      <td>13.0</td>\n",
       "      <td>2.0</td>\n",
       "      <td>18.9</td>\n",
       "      <td>0.7</td>\n",
       "      <td>0.0</td>\n",
       "      <td>0.0</td>\n",
       "    </tr>\n",
       "  </tbody>\n",
       "</table>\n",
       "</div>"
      ],
      "text/plain": [
       "       date days road_name     link_id start_point   end_point direction  \\\n",
       "0  20180601    금     4.19로  1080012800    국립4.19묘지  국립4.19묘지입구        상행   \n",
       "\n",
       "   road_length  road_num road_type urban_suburb district  time  value  cctv  \\\n",
       "0          352         1    보조간선도로           외곽      강북구     6  22.62   0.0   \n",
       "\n",
       "   kids  speed_limit  entrance  signal   d1   d2    d3   d4  victims  \\\n",
       "0   0.0         40.0      25.0     8.0  0.0  3.0  15.0  1.0     19.0   \n",
       "\n",
       "   severity  accident_count  inter_num  temperature  wind  rain  snow  \n",
       "0      55.0            13.0        2.0         18.9   0.7   0.0   0.0  "
      ]
     },
     "execution_count": 77,
     "metadata": {},
     "output_type": "execute_result"
    }
   ],
   "source": [
    "car6.head(1)"
   ]
  },
  {
   "cell_type": "markdown",
   "metadata": {},
   "source": [
    "# 9. 미세먼지 merge"
   ]
  },
  {
   "cell_type": "code",
   "execution_count": 98,
   "metadata": {},
   "outputs": [],
   "source": [
    "air1 = pd.read_csv('air01.csv')\n",
    "air4 = pd.read_csv('air04.csv')\n",
    "air7 = pd.read_csv('air07.csv')\n",
    "air10 = pd.read_csv('air10.csv')\n",
    "\n",
    "air2 = pd.read_csv('air02.csv')\n",
    "air5 = pd.read_csv('air05.csv')\n",
    "air8 = pd.read_csv('air08.csv')\n",
    "air11 = pd.read_csv('air11.csv')\n",
    "\n",
    "air36912 = pd.read_csv('air36912.csv')"
   ]
  },
  {
   "cell_type": "code",
   "execution_count": 99,
   "metadata": {},
   "outputs": [],
   "source": [
    "air = pd.concat([air1, air4])\n",
    "air = pd.concat([air, air7])\n",
    "air = pd.concat([air, air10])\n",
    "air = pd.concat([air, air2])\n",
    "air = pd.concat([air, air5])\n",
    "air = pd.concat([air, air8])\n",
    "air = pd.concat([air, air11])\n",
    "air = pd.concat([air, air36912])\n",
    "air = pd.DataFrame(air)"
   ]
  },
  {
   "cell_type": "code",
   "execution_count": 100,
   "metadata": {},
   "outputs": [],
   "source": [
    "air.to_csv(\"air.csv\",index=False)"
   ]
  },
  {
   "cell_type": "code",
   "execution_count": 130,
   "metadata": {},
   "outputs": [],
   "source": [
    "air['date'] = air['날짜'].apply(lambda x: int(x[:10].replace(\"-\",\"\")))\n",
    "air['time'] = air['날짜'].apply(lambda x: int(x[-2:]))"
   ]
  },
  {
   "cell_type": "code",
   "execution_count": 131,
   "metadata": {},
   "outputs": [],
   "source": [
    "air.drop(['날짜','시도','측정소코드'],axis=1,inplace=True)"
   ]
  },
  {
   "cell_type": "code",
   "execution_count": 132,
   "metadata": {},
   "outputs": [],
   "source": [
    "air.columns = ['district','SO2','CO','O3','NO2','PM10','PM2.5','date','time']"
   ]
  },
  {
   "cell_type": "code",
   "execution_count": 133,
   "metadata": {},
   "outputs": [
    {
     "data": {
      "text/html": [
       "<div>\n",
       "<style scoped>\n",
       "    .dataframe tbody tr th:only-of-type {\n",
       "        vertical-align: middle;\n",
       "    }\n",
       "\n",
       "    .dataframe tbody tr th {\n",
       "        vertical-align: top;\n",
       "    }\n",
       "\n",
       "    .dataframe thead th {\n",
       "        text-align: right;\n",
       "    }\n",
       "</style>\n",
       "<table border=\"1\" class=\"dataframe\">\n",
       "  <thead>\n",
       "    <tr style=\"text-align: right;\">\n",
       "      <th></th>\n",
       "      <th>district</th>\n",
       "      <th>SO2</th>\n",
       "      <th>CO</th>\n",
       "      <th>O3</th>\n",
       "      <th>NO2</th>\n",
       "      <th>PM10</th>\n",
       "      <th>PM2.5</th>\n",
       "      <th>date</th>\n",
       "      <th>time</th>\n",
       "    </tr>\n",
       "  </thead>\n",
       "  <tbody>\n",
       "    <tr>\n",
       "      <th>0</th>\n",
       "      <td>중구</td>\n",
       "      <td>0.004</td>\n",
       "      <td>0.5</td>\n",
       "      <td>0.02</td>\n",
       "      <td>0.02</td>\n",
       "      <td>34.0</td>\n",
       "      <td>19.0</td>\n",
       "      <td>20180101</td>\n",
       "      <td>1</td>\n",
       "    </tr>\n",
       "  </tbody>\n",
       "</table>\n",
       "</div>"
      ],
      "text/plain": [
       "  district    SO2   CO    O3   NO2  PM10  PM2.5      date  time\n",
       "0       중구  0.004  0.5  0.02  0.02  34.0   19.0  20180101     1"
      ]
     },
     "execution_count": 133,
     "metadata": {},
     "output_type": "execute_result"
    }
   ],
   "source": [
    "air.head(1)"
   ]
  },
  {
   "cell_type": "code",
   "execution_count": 128,
   "metadata": {},
   "outputs": [],
   "source": [
    "air = air.reset_index(drop = True)"
   ]
  },
  {
   "cell_type": "code",
   "execution_count": 124,
   "metadata": {},
   "outputs": [
    {
     "data": {
      "text/plain": [
       "RangeIndex(start=0, stop=219000, step=1)"
      ]
     },
     "execution_count": 124,
     "metadata": {},
     "output_type": "execute_result"
    }
   ],
   "source": [
    "air.index"
   ]
  },
  {
   "cell_type": "code",
   "execution_count": 134,
   "metadata": {},
   "outputs": [],
   "source": [
    "def NA_mean(air, col, date, time) :\n",
    "    return air[(air['date'] == date) & (air['time'] == time)][col].mean()"
   ]
  },
  {
   "cell_type": "code",
   "execution_count": 135,
   "metadata": {},
   "outputs": [
    {
     "ename": "ValueError",
     "evalue": "cannot reindex from a duplicate axis",
     "output_type": "error",
     "traceback": [
      "\u001b[1;31m---------------------------------------------------------------------------\u001b[0m",
      "\u001b[1;31mValueError\u001b[0m                                Traceback (most recent call last)",
      "\u001b[1;32m<ipython-input-135-0bb27344d566>\u001b[0m in \u001b[0;36m<module>\u001b[1;34m\u001b[0m\n\u001b[0;32m      3\u001b[0m     \u001b[0mframe\u001b[0m \u001b[1;33m=\u001b[0m \u001b[0mair_merge\u001b[0m\u001b[1;33m[\u001b[0m\u001b[0mair_merge\u001b[0m\u001b[1;33m[\u001b[0m\u001b[0mcol\u001b[0m\u001b[1;33m]\u001b[0m\u001b[1;33m.\u001b[0m\u001b[0misnull\u001b[0m\u001b[1;33m(\u001b[0m\u001b[1;33m)\u001b[0m\u001b[1;33m]\u001b[0m\u001b[1;33m\u001b[0m\u001b[1;33m\u001b[0m\u001b[0m\n\u001b[0;32m      4\u001b[0m     \u001b[0mmean_value\u001b[0m \u001b[1;33m=\u001b[0m \u001b[0mframe\u001b[0m\u001b[1;33m.\u001b[0m\u001b[0mapply\u001b[0m\u001b[1;33m(\u001b[0m\u001b[1;32mlambda\u001b[0m \u001b[0mx\u001b[0m \u001b[1;33m:\u001b[0m \u001b[0mNA_mean\u001b[0m\u001b[1;33m(\u001b[0m\u001b[0mair_merge\u001b[0m\u001b[1;33m,\u001b[0m \u001b[0mcol\u001b[0m\u001b[1;33m,\u001b[0m \u001b[0mx\u001b[0m\u001b[1;33m[\u001b[0m\u001b[1;34m'date'\u001b[0m\u001b[1;33m]\u001b[0m\u001b[1;33m,\u001b[0m\u001b[0mx\u001b[0m\u001b[1;33m[\u001b[0m\u001b[1;34m'time'\u001b[0m\u001b[1;33m]\u001b[0m\u001b[1;33m)\u001b[0m\u001b[1;33m,\u001b[0m \u001b[0maxis\u001b[0m \u001b[1;33m=\u001b[0m\u001b[1;36m1\u001b[0m\u001b[1;33m)\u001b[0m\u001b[1;33m\u001b[0m\u001b[1;33m\u001b[0m\u001b[0m\n\u001b[1;32m----> 5\u001b[1;33m     \u001b[0mair_merge\u001b[0m\u001b[1;33m.\u001b[0m\u001b[0mloc\u001b[0m\u001b[1;33m[\u001b[0m\u001b[0mmean_value\u001b[0m\u001b[1;33m.\u001b[0m\u001b[0mindex\u001b[0m\u001b[1;33m,\u001b[0m \u001b[0mcol\u001b[0m\u001b[1;33m]\u001b[0m \u001b[1;33m=\u001b[0m \u001b[0mmean_value\u001b[0m\u001b[1;33m\u001b[0m\u001b[1;33m\u001b[0m\u001b[0m\n\u001b[0m",
      "\u001b[1;32m~\\Anaconda3\\lib\\site-packages\\pandas\\core\\indexing.py\u001b[0m in \u001b[0;36m__setitem__\u001b[1;34m(self, key, value)\u001b[0m\n\u001b[0;32m    187\u001b[0m             \u001b[0mkey\u001b[0m \u001b[1;33m=\u001b[0m \u001b[0mcom\u001b[0m\u001b[1;33m.\u001b[0m\u001b[0m_apply_if_callable\u001b[0m\u001b[1;33m(\u001b[0m\u001b[0mkey\u001b[0m\u001b[1;33m,\u001b[0m \u001b[0mself\u001b[0m\u001b[1;33m.\u001b[0m\u001b[0mobj\u001b[0m\u001b[1;33m)\u001b[0m\u001b[1;33m\u001b[0m\u001b[1;33m\u001b[0m\u001b[0m\n\u001b[0;32m    188\u001b[0m         \u001b[0mindexer\u001b[0m \u001b[1;33m=\u001b[0m \u001b[0mself\u001b[0m\u001b[1;33m.\u001b[0m\u001b[0m_get_setitem_indexer\u001b[0m\u001b[1;33m(\u001b[0m\u001b[0mkey\u001b[0m\u001b[1;33m)\u001b[0m\u001b[1;33m\u001b[0m\u001b[1;33m\u001b[0m\u001b[0m\n\u001b[1;32m--> 189\u001b[1;33m         \u001b[0mself\u001b[0m\u001b[1;33m.\u001b[0m\u001b[0m_setitem_with_indexer\u001b[0m\u001b[1;33m(\u001b[0m\u001b[0mindexer\u001b[0m\u001b[1;33m,\u001b[0m \u001b[0mvalue\u001b[0m\u001b[1;33m)\u001b[0m\u001b[1;33m\u001b[0m\u001b[1;33m\u001b[0m\u001b[0m\n\u001b[0m\u001b[0;32m    190\u001b[0m \u001b[1;33m\u001b[0m\u001b[0m\n\u001b[0;32m    191\u001b[0m     \u001b[1;32mdef\u001b[0m \u001b[0m_validate_key\u001b[0m\u001b[1;33m(\u001b[0m\u001b[0mself\u001b[0m\u001b[1;33m,\u001b[0m \u001b[0mkey\u001b[0m\u001b[1;33m,\u001b[0m \u001b[0maxis\u001b[0m\u001b[1;33m)\u001b[0m\u001b[1;33m:\u001b[0m\u001b[1;33m\u001b[0m\u001b[1;33m\u001b[0m\u001b[0m\n",
      "\u001b[1;32m~\\Anaconda3\\lib\\site-packages\\pandas\\core\\indexing.py\u001b[0m in \u001b[0;36m_setitem_with_indexer\u001b[1;34m(self, indexer, value)\u001b[0m\n\u001b[0;32m    467\u001b[0m \u001b[1;33m\u001b[0m\u001b[0m\n\u001b[0;32m    468\u001b[0m             \u001b[1;32mif\u001b[0m \u001b[0misinstance\u001b[0m\u001b[1;33m(\u001b[0m\u001b[0mvalue\u001b[0m\u001b[1;33m,\u001b[0m \u001b[0mABCSeries\u001b[0m\u001b[1;33m)\u001b[0m\u001b[1;33m:\u001b[0m\u001b[1;33m\u001b[0m\u001b[1;33m\u001b[0m\u001b[0m\n\u001b[1;32m--> 469\u001b[1;33m                 \u001b[0mvalue\u001b[0m \u001b[1;33m=\u001b[0m \u001b[0mself\u001b[0m\u001b[1;33m.\u001b[0m\u001b[0m_align_series\u001b[0m\u001b[1;33m(\u001b[0m\u001b[0mindexer\u001b[0m\u001b[1;33m,\u001b[0m \u001b[0mvalue\u001b[0m\u001b[1;33m)\u001b[0m\u001b[1;33m\u001b[0m\u001b[1;33m\u001b[0m\u001b[0m\n\u001b[0m\u001b[0;32m    470\u001b[0m \u001b[1;33m\u001b[0m\u001b[0m\n\u001b[0;32m    471\u001b[0m             \u001b[0minfo_idx\u001b[0m \u001b[1;33m=\u001b[0m \u001b[0mindexer\u001b[0m\u001b[1;33m[\u001b[0m\u001b[0minfo_axis\u001b[0m\u001b[1;33m]\u001b[0m\u001b[1;33m\u001b[0m\u001b[1;33m\u001b[0m\u001b[0m\n",
      "\u001b[1;32m~\\Anaconda3\\lib\\site-packages\\pandas\\core\\indexing.py\u001b[0m in \u001b[0;36m_align_series\u001b[1;34m(self, indexer, ser, multiindex_indexer)\u001b[0m\n\u001b[0;32m    732\u001b[0m                         \u001b[1;32mreturn\u001b[0m \u001b[0mser\u001b[0m\u001b[1;33m.\u001b[0m\u001b[0m_values\u001b[0m\u001b[1;33m.\u001b[0m\u001b[0mcopy\u001b[0m\u001b[1;33m(\u001b[0m\u001b[1;33m)\u001b[0m\u001b[1;33m\u001b[0m\u001b[1;33m\u001b[0m\u001b[0m\n\u001b[0;32m    733\u001b[0m \u001b[1;33m\u001b[0m\u001b[0m\n\u001b[1;32m--> 734\u001b[1;33m                     \u001b[1;32mreturn\u001b[0m \u001b[0mser\u001b[0m\u001b[1;33m.\u001b[0m\u001b[0mreindex\u001b[0m\u001b[1;33m(\u001b[0m\u001b[0mnew_ix\u001b[0m\u001b[1;33m)\u001b[0m\u001b[1;33m.\u001b[0m\u001b[0m_values\u001b[0m\u001b[1;33m\u001b[0m\u001b[1;33m\u001b[0m\u001b[0m\n\u001b[0m\u001b[0;32m    735\u001b[0m \u001b[1;33m\u001b[0m\u001b[0m\n\u001b[0;32m    736\u001b[0m                 \u001b[1;31m# 2 dims\u001b[0m\u001b[1;33m\u001b[0m\u001b[1;33m\u001b[0m\u001b[1;33m\u001b[0m\u001b[0m\n",
      "\u001b[1;32m~\\Anaconda3\\lib\\site-packages\\pandas\\core\\series.py\u001b[0m in \u001b[0;36mreindex\u001b[1;34m(self, index, **kwargs)\u001b[0m\n\u001b[0;32m   3323\u001b[0m     \u001b[1;33m@\u001b[0m\u001b[0mAppender\u001b[0m\u001b[1;33m(\u001b[0m\u001b[0mgeneric\u001b[0m\u001b[1;33m.\u001b[0m\u001b[0m_shared_docs\u001b[0m\u001b[1;33m[\u001b[0m\u001b[1;34m'reindex'\u001b[0m\u001b[1;33m]\u001b[0m \u001b[1;33m%\u001b[0m \u001b[0m_shared_doc_kwargs\u001b[0m\u001b[1;33m)\u001b[0m\u001b[1;33m\u001b[0m\u001b[1;33m\u001b[0m\u001b[0m\n\u001b[0;32m   3324\u001b[0m     \u001b[1;32mdef\u001b[0m \u001b[0mreindex\u001b[0m\u001b[1;33m(\u001b[0m\u001b[0mself\u001b[0m\u001b[1;33m,\u001b[0m \u001b[0mindex\u001b[0m\u001b[1;33m=\u001b[0m\u001b[1;32mNone\u001b[0m\u001b[1;33m,\u001b[0m \u001b[1;33m**\u001b[0m\u001b[0mkwargs\u001b[0m\u001b[1;33m)\u001b[0m\u001b[1;33m:\u001b[0m\u001b[1;33m\u001b[0m\u001b[1;33m\u001b[0m\u001b[0m\n\u001b[1;32m-> 3325\u001b[1;33m         \u001b[1;32mreturn\u001b[0m \u001b[0msuper\u001b[0m\u001b[1;33m(\u001b[0m\u001b[0mSeries\u001b[0m\u001b[1;33m,\u001b[0m \u001b[0mself\u001b[0m\u001b[1;33m)\u001b[0m\u001b[1;33m.\u001b[0m\u001b[0mreindex\u001b[0m\u001b[1;33m(\u001b[0m\u001b[0mindex\u001b[0m\u001b[1;33m=\u001b[0m\u001b[0mindex\u001b[0m\u001b[1;33m,\u001b[0m \u001b[1;33m**\u001b[0m\u001b[0mkwargs\u001b[0m\u001b[1;33m)\u001b[0m\u001b[1;33m\u001b[0m\u001b[1;33m\u001b[0m\u001b[0m\n\u001b[0m\u001b[0;32m   3326\u001b[0m \u001b[1;33m\u001b[0m\u001b[0m\n\u001b[0;32m   3327\u001b[0m     def drop(self, labels=None, axis=0, index=None, columns=None,\n",
      "\u001b[1;32m~\\Anaconda3\\lib\\site-packages\\pandas\\core\\generic.py\u001b[0m in \u001b[0;36mreindex\u001b[1;34m(self, *args, **kwargs)\u001b[0m\n\u001b[0;32m   3687\u001b[0m         \u001b[1;31m# perform the reindex on the axes\u001b[0m\u001b[1;33m\u001b[0m\u001b[1;33m\u001b[0m\u001b[1;33m\u001b[0m\u001b[0m\n\u001b[0;32m   3688\u001b[0m         return self._reindex_axes(axes, level, limit, tolerance, method,\n\u001b[1;32m-> 3689\u001b[1;33m                                   fill_value, copy).__finalize__(self)\n\u001b[0m\u001b[0;32m   3690\u001b[0m \u001b[1;33m\u001b[0m\u001b[0m\n\u001b[0;32m   3691\u001b[0m     def _reindex_axes(self, axes, level, limit, tolerance, method, fill_value,\n",
      "\u001b[1;32m~\\Anaconda3\\lib\\site-packages\\pandas\\core\\generic.py\u001b[0m in \u001b[0;36m_reindex_axes\u001b[1;34m(self, axes, level, limit, tolerance, method, fill_value, copy)\u001b[0m\n\u001b[0;32m   3705\u001b[0m             obj = obj._reindex_with_indexers({axis: [new_index, indexer]},\n\u001b[0;32m   3706\u001b[0m                                              \u001b[0mfill_value\u001b[0m\u001b[1;33m=\u001b[0m\u001b[0mfill_value\u001b[0m\u001b[1;33m,\u001b[0m\u001b[1;33m\u001b[0m\u001b[1;33m\u001b[0m\u001b[0m\n\u001b[1;32m-> 3707\u001b[1;33m                                              copy=copy, allow_dups=False)\n\u001b[0m\u001b[0;32m   3708\u001b[0m \u001b[1;33m\u001b[0m\u001b[0m\n\u001b[0;32m   3709\u001b[0m         \u001b[1;32mreturn\u001b[0m \u001b[0mobj\u001b[0m\u001b[1;33m\u001b[0m\u001b[1;33m\u001b[0m\u001b[0m\n",
      "\u001b[1;32m~\\Anaconda3\\lib\\site-packages\\pandas\\core\\generic.py\u001b[0m in \u001b[0;36m_reindex_with_indexers\u001b[1;34m(self, reindexers, fill_value, copy, allow_dups)\u001b[0m\n\u001b[0;32m   3808\u001b[0m                                                 \u001b[0mfill_value\u001b[0m\u001b[1;33m=\u001b[0m\u001b[0mfill_value\u001b[0m\u001b[1;33m,\u001b[0m\u001b[1;33m\u001b[0m\u001b[1;33m\u001b[0m\u001b[0m\n\u001b[0;32m   3809\u001b[0m                                                 \u001b[0mallow_dups\u001b[0m\u001b[1;33m=\u001b[0m\u001b[0mallow_dups\u001b[0m\u001b[1;33m,\u001b[0m\u001b[1;33m\u001b[0m\u001b[1;33m\u001b[0m\u001b[0m\n\u001b[1;32m-> 3810\u001b[1;33m                                                 copy=copy)\n\u001b[0m\u001b[0;32m   3811\u001b[0m \u001b[1;33m\u001b[0m\u001b[0m\n\u001b[0;32m   3812\u001b[0m         \u001b[1;32mif\u001b[0m \u001b[0mcopy\u001b[0m \u001b[1;32mand\u001b[0m \u001b[0mnew_data\u001b[0m \u001b[1;32mis\u001b[0m \u001b[0mself\u001b[0m\u001b[1;33m.\u001b[0m\u001b[0m_data\u001b[0m\u001b[1;33m:\u001b[0m\u001b[1;33m\u001b[0m\u001b[1;33m\u001b[0m\u001b[0m\n",
      "\u001b[1;32m~\\Anaconda3\\lib\\site-packages\\pandas\\core\\internals.py\u001b[0m in \u001b[0;36mreindex_indexer\u001b[1;34m(self, new_axis, indexer, axis, fill_value, allow_dups, copy)\u001b[0m\n\u001b[0;32m   4412\u001b[0m         \u001b[1;31m# some axes don't allow reindexing with dups\u001b[0m\u001b[1;33m\u001b[0m\u001b[1;33m\u001b[0m\u001b[1;33m\u001b[0m\u001b[0m\n\u001b[0;32m   4413\u001b[0m         \u001b[1;32mif\u001b[0m \u001b[1;32mnot\u001b[0m \u001b[0mallow_dups\u001b[0m\u001b[1;33m:\u001b[0m\u001b[1;33m\u001b[0m\u001b[1;33m\u001b[0m\u001b[0m\n\u001b[1;32m-> 4414\u001b[1;33m             \u001b[0mself\u001b[0m\u001b[1;33m.\u001b[0m\u001b[0maxes\u001b[0m\u001b[1;33m[\u001b[0m\u001b[0maxis\u001b[0m\u001b[1;33m]\u001b[0m\u001b[1;33m.\u001b[0m\u001b[0m_can_reindex\u001b[0m\u001b[1;33m(\u001b[0m\u001b[0mindexer\u001b[0m\u001b[1;33m)\u001b[0m\u001b[1;33m\u001b[0m\u001b[1;33m\u001b[0m\u001b[0m\n\u001b[0m\u001b[0;32m   4415\u001b[0m \u001b[1;33m\u001b[0m\u001b[0m\n\u001b[0;32m   4416\u001b[0m         \u001b[1;32mif\u001b[0m \u001b[0maxis\u001b[0m \u001b[1;33m>=\u001b[0m \u001b[0mself\u001b[0m\u001b[1;33m.\u001b[0m\u001b[0mndim\u001b[0m\u001b[1;33m:\u001b[0m\u001b[1;33m\u001b[0m\u001b[1;33m\u001b[0m\u001b[0m\n",
      "\u001b[1;32m~\\Anaconda3\\lib\\site-packages\\pandas\\core\\indexes\\base.py\u001b[0m in \u001b[0;36m_can_reindex\u001b[1;34m(self, indexer)\u001b[0m\n\u001b[0;32m   3574\u001b[0m         \u001b[1;31m# trying to reindex on an axis with duplicates\u001b[0m\u001b[1;33m\u001b[0m\u001b[1;33m\u001b[0m\u001b[1;33m\u001b[0m\u001b[0m\n\u001b[0;32m   3575\u001b[0m         \u001b[1;32mif\u001b[0m \u001b[1;32mnot\u001b[0m \u001b[0mself\u001b[0m\u001b[1;33m.\u001b[0m\u001b[0mis_unique\u001b[0m \u001b[1;32mand\u001b[0m \u001b[0mlen\u001b[0m\u001b[1;33m(\u001b[0m\u001b[0mindexer\u001b[0m\u001b[1;33m)\u001b[0m\u001b[1;33m:\u001b[0m\u001b[1;33m\u001b[0m\u001b[1;33m\u001b[0m\u001b[0m\n\u001b[1;32m-> 3576\u001b[1;33m             \u001b[1;32mraise\u001b[0m \u001b[0mValueError\u001b[0m\u001b[1;33m(\u001b[0m\u001b[1;34m\"cannot reindex from a duplicate axis\"\u001b[0m\u001b[1;33m)\u001b[0m\u001b[1;33m\u001b[0m\u001b[1;33m\u001b[0m\u001b[0m\n\u001b[0m\u001b[0;32m   3577\u001b[0m \u001b[1;33m\u001b[0m\u001b[0m\n\u001b[0;32m   3578\u001b[0m     def reindex(self, target, method=None, level=None, limit=None,\n",
      "\u001b[1;31mValueError\u001b[0m: cannot reindex from a duplicate axis"
     ]
    }
   ],
   "source": [
    "cols = ['SO2','CO','O3','NO2','PM10','PM2.5']\n",
    "for col in cols :\n",
    "    frame = air_merge[air_merge[col].isnull()]\n",
    "    mean_value = frame.apply(lambda x : NA_mean(air_merge, col, x['date'],x['time']), axis =1)\n",
    "    air_merge.loc[mean_value.index, col] = mean_value"
   ]
  },
  {
   "cell_type": "code",
   "execution_count": 93,
   "metadata": {},
   "outputs": [
    {
     "data": {
      "text/plain": [
       "district       0\n",
       "SO2         6916\n",
       "CO          7411\n",
       "O3          6219\n",
       "NO2         5572\n",
       "PM10        6927\n",
       "PM2.5       6646\n",
       "date           0\n",
       "time           0\n",
       "dtype: int64"
      ]
     },
     "execution_count": 93,
     "metadata": {},
     "output_type": "execute_result"
    }
   ],
   "source": [
    "air.isnull().sum()"
   ]
  },
  {
   "cell_type": "markdown",
   "metadata": {},
   "source": [
    "# 10. 1월~12월까지 concat"
   ]
  },
  {
   "cell_type": "code",
   "execution_count": null,
   "metadata": {},
   "outputs": [],
   "source": [
    "car = pd.concat([car1,car2])\n",
    "car = pd.concat([car, car3])\n",
    "car = pd.concat([car, car4])\n",
    "car = pd.concat([car, car5])\n",
    "car = pd.concat([car, car6])\n",
    "car = pd.concat([car, car7])\n",
    "car = pd.concat([car, car8])\n",
    "car = pd.concat([car, car9])\n",
    "car = pd.concat([car, car10])\n",
    "car = pd.concat([car, car11])\n",
    "car = pd.concat([car, car12])\n",
    "car = pd.DataFrame(car)\n",
    "print(car.shape)"
   ]
  },
  {
   "cell_type": "code",
   "execution_count": null,
   "metadata": {},
   "outputs": [],
   "source": []
  },
  {
   "cell_type": "markdown",
   "metadata": {},
   "source": [
    "# 11. holiday 변수 붙이기"
   ]
  },
  {
   "cell_type": "code",
   "execution_count": 113,
   "metadata": {},
   "outputs": [],
   "source": [
    "holiday = pd.read_csv('holiday.csv')\n",
    "holiday.columns = ['ee']"
   ]
  },
  {
   "cell_type": "code",
   "execution_count": 114,
   "metadata": {},
   "outputs": [
    {
     "data": {
      "text/html": [
       "<div>\n",
       "<style scoped>\n",
       "    .dataframe tbody tr th:only-of-type {\n",
       "        vertical-align: middle;\n",
       "    }\n",
       "\n",
       "    .dataframe tbody tr th {\n",
       "        vertical-align: top;\n",
       "    }\n",
       "\n",
       "    .dataframe thead th {\n",
       "        text-align: right;\n",
       "    }\n",
       "</style>\n",
       "<table border=\"1\" class=\"dataframe\">\n",
       "  <thead>\n",
       "    <tr style=\"text-align: right;\">\n",
       "      <th></th>\n",
       "      <th>ee</th>\n",
       "    </tr>\n",
       "  </thead>\n",
       "  <tbody>\n",
       "    <tr>\n",
       "      <th>0</th>\n",
       "      <td>20180101\\t1\\t0\\t0</td>\n",
       "    </tr>\n",
       "    <tr>\n",
       "      <th>1</th>\n",
       "      <td>20180102\\t0\\t0\\t0</td>\n",
       "    </tr>\n",
       "    <tr>\n",
       "      <th>2</th>\n",
       "      <td>20180103\\t0\\t0\\t0</td>\n",
       "    </tr>\n",
       "  </tbody>\n",
       "</table>\n",
       "</div>"
      ],
      "text/plain": [
       "                  ee\n",
       "0  20180101\\t1\\t0\\t0\n",
       "1  20180102\\t0\\t0\\t0\n",
       "2  20180103\\t0\\t0\\t0"
      ]
     },
     "execution_count": 114,
     "metadata": {},
     "output_type": "execute_result"
    }
   ],
   "source": [
    "holiday.head(3)"
   ]
  },
  {
   "cell_type": "code",
   "execution_count": 115,
   "metadata": {},
   "outputs": [
    {
     "data": {
      "text/html": [
       "<div>\n",
       "<style scoped>\n",
       "    .dataframe tbody tr th:only-of-type {\n",
       "        vertical-align: middle;\n",
       "    }\n",
       "\n",
       "    .dataframe tbody tr th {\n",
       "        vertical-align: top;\n",
       "    }\n",
       "\n",
       "    .dataframe thead th {\n",
       "        text-align: right;\n",
       "    }\n",
       "</style>\n",
       "<table border=\"1\" class=\"dataframe\">\n",
       "  <thead>\n",
       "    <tr style=\"text-align: right;\">\n",
       "      <th></th>\n",
       "      <th>date</th>\n",
       "      <th>holiday</th>\n",
       "      <th>special</th>\n",
       "      <th>vacation</th>\n",
       "    </tr>\n",
       "  </thead>\n",
       "  <tbody>\n",
       "    <tr>\n",
       "      <th>0</th>\n",
       "      <td>20180101</td>\n",
       "      <td>1</td>\n",
       "      <td>0</td>\n",
       "      <td>0</td>\n",
       "    </tr>\n",
       "    <tr>\n",
       "      <th>1</th>\n",
       "      <td>20180102</td>\n",
       "      <td>0</td>\n",
       "      <td>0</td>\n",
       "      <td>0</td>\n",
       "    </tr>\n",
       "  </tbody>\n",
       "</table>\n",
       "</div>"
      ],
      "text/plain": [
       "       date  holiday  special  vacation\n",
       "0  20180101        1        0         0\n",
       "1  20180102        0        0         0"
      ]
     },
     "execution_count": 115,
     "metadata": {},
     "output_type": "execute_result"
    }
   ],
   "source": [
    "holiday['date'] = holiday['ee'].apply(lambda x: int(x[:8]))\n",
    "holiday['holiday'] = holiday['ee'].apply(lambda x: int(x[9:10]))\n",
    "holiday['special'] = holiday['ee'].apply(lambda x: int(x[11:12]))\n",
    "holiday['vacation'] = holiday['ee'].apply(lambda x: int(x[13:14]))\n",
    "holiday.drop('ee',axis=1,inplace=True)\n",
    "holiday.head(2)"
   ]
  },
  {
   "cell_type": "code",
   "execution_count": null,
   "metadata": {},
   "outputs": [],
   "source": [
    "car2 = pd.merge(car2,holiday,on=['date'])\n",
    "car5 = pd.merge(car5,holiday,on=['date'])\n",
    "car8 = pd.merge(car8,holiday,on=['date'])\n",
    "car11 = pd.merge(car11,holiday,on=['date'])\n",
    "car3 = pd.merge(car3,holiday,on=['date'])\n",
    "car6 = pd.merge(car6,holiday,on=['date'])"
   ]
  }
 ],
 "metadata": {
  "kernelspec": {
   "display_name": "Python 3",
   "language": "python",
   "name": "python3"
  },
  "language_info": {
   "codemirror_mode": {
    "name": "ipython",
    "version": 3
   },
   "file_extension": ".py",
   "mimetype": "text/x-python",
   "name": "python",
   "nbconvert_exporter": "python",
   "pygments_lexer": "ipython3",
   "version": "3.7.1"
  }
 },
 "nbformat": 4,
 "nbformat_minor": 2
}
