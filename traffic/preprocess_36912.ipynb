{
 "cells": [
  {
   "cell_type": "code",
   "execution_count": 150,
   "metadata": {},
   "outputs": [],
   "source": [
    "import numpy as np\n",
    "import pandas as pd\n",
    "car3 = pd.read_csv(\"car_speed_03.csv\")\n",
    "car6 = pd.read_csv(\"car_speed_06.csv\")\n",
    "car9 = pd.read_csv(\"car_speed_09.csv\")\n",
    "car12 = pd.read_csv(\"car_speed_12.csv\")"
   ]
  },
  {
   "cell_type": "code",
   "execution_count": 151,
   "metadata": {
    "scrolled": true
   },
   "outputs": [
    {
     "name": "stdout",
     "output_type": "stream",
     "text": [
      "32\n",
      "35\n",
      "36\n",
      "36\n",
      "Index(['일자', '요일', '도로명', '링크아이디', '시점명', '종점명', '방향', '거리', '01시', '02시',\n",
      "       '03시', '04시', '05시', '06시', '07시', '08시', '09시', '10시', '11시', '12시',\n",
      "       '13시', '14시', '15시', '16시', '17시', '18시', '19시', '20시', '21시', '22시',\n",
      "       '23시', '24시'],\n",
      "      dtype='object')\n",
      "Index(['일자', '요일', '도로명', '링크아이디', '시점명', '종점명', '방향', '거리', '기능유형구분',\n",
      "       '도심/외곽구분', '권역구분', '01시', '02시', '03시', '04시', '05시', '06시', '07시',\n",
      "       '08시', '09시', '10시', '11시', '12시', '13시', '14시', '15시', '16시', '17시',\n",
      "       '18시', '19시', '20시', '21시', '22시', '23시', '24시'],\n",
      "      dtype='object')\n",
      "Index(['일자', '요일', '도로명', '링크아이디', '시점명', '종점명', '방향', '거리', '차선수', '기능유형구분',\n",
      "       '도심/외곽구분', '권역구분', '01시', '02시', '03시', '04시', '05시', '06시', '07시',\n",
      "       '08시', '09시', '10시', '11시', '12시', '13시', '14시', '15시', '16시', '17시',\n",
      "       '18시', '19시', '20시', '21시', '22시', '23시', '24시'],\n",
      "      dtype='object')\n"
     ]
    }
   ],
   "source": [
    "print(len(car3.columns))\n",
    "print(len(car6.columns))\n",
    "print(len(car9.columns))\n",
    "print(len(car12.columns))\n",
    "print(car3.columns)\n",
    "print(car6.columns)\n",
    "print(car12.columns)"
   ]
  },
  {
   "cell_type": "markdown",
   "metadata": {},
   "source": [
    "# 2. 출퇴근 시간 외 제거"
   ]
  },
  {
   "cell_type": "code",
   "execution_count": 152,
   "metadata": {},
   "outputs": [],
   "source": [
    "drop_col = ['01시', '02시', '03시', '04시', '05시', '10시', '11시', '12시', '13시', '14시', '15시', '16시', '21시', '22시', '23시', '24시']\n",
    "car3.drop(drop_col,axis=1,inplace=True)\n",
    "car6.drop(drop_col,axis=1,inplace=True)\n",
    "car9.drop(drop_col,axis=1,inplace=True)\n",
    "car12.drop(drop_col,axis=1,inplace=True)"
   ]
  },
  {
   "cell_type": "markdown",
   "metadata": {},
   "source": [
    "# 1. 공통 링크아이디만 추출"
   ]
  },
  {
   "cell_type": "code",
   "execution_count": 153,
   "metadata": {},
   "outputs": [
    {
     "name": "stdout",
     "output_type": "stream",
     "text": [
      "공통 링크아이디 수 : 4730\n"
     ]
    }
   ],
   "source": [
    "common_obs = list(set(car3.링크아이디) & set(car6.링크아이디)  & set(car9.링크아이디) & set(car12.링크아이디))\n",
    "print('공통 링크아이디 수 :',len(common_obs))"
   ]
  },
  {
   "cell_type": "code",
   "execution_count": 154,
   "metadata": {},
   "outputs": [],
   "source": [
    "car3 = car3[car3['링크아이디'].isin(common_obs)]\n",
    "car6 = car6[car6['링크아이디'].isin(common_obs)]\n",
    "car9 = car9[car9['링크아이디'].isin(common_obs)]\n",
    "car12 = car12[car12['링크아이디'].isin(common_obs)]"
   ]
  },
  {
   "cell_type": "code",
   "execution_count": 155,
   "metadata": {},
   "outputs": [],
   "source": [
    "merge_col = car12[['링크아이디','차선수', '기능유형구분','도심/외곽구분', '권역구분']]\n",
    "merge_col = merge_col.drop_duplicates(['링크아이디'], keep='first')\n",
    "\n",
    "car3 = pd.merge(car3,merge_col,on='링크아이디')\n",
    "car3 = car3[car12.columns]\n",
    "car6 = pd.merge(car6,merge_col[['링크아이디','차선수']],on='링크아이디')\n",
    "car6 = car6[car12.columns]"
   ]
  },
  {
   "cell_type": "markdown",
   "metadata": {},
   "source": [
    "# 3. 공통 값을 가지는 도로 제거"
   ]
  },
  {
   "cell_type": "code",
   "execution_count": 156,
   "metadata": {},
   "outputs": [
    {
     "data": {
      "text/plain": [
       "Index(['일자', '요일', '도로명', '링크아이디', '시점명', '종점명', '방향', '거리', '차선수', '기능유형구분',\n",
       "       '도심/외곽구분', '권역구분', '06시', '07시', '08시', '09시', '17시', '18시', '19시',\n",
       "       '20시'],\n",
       "      dtype='object')"
      ]
     },
     "execution_count": 156,
     "metadata": {},
     "output_type": "execute_result"
    }
   ],
   "source": [
    "car3.columns"
   ]
  },
  {
   "cell_type": "code",
   "execution_count": 157,
   "metadata": {},
   "outputs": [
    {
     "name": "stdout",
     "output_type": "stream",
     "text": [
      "original 3 : (146517, 20)\n",
      "after remove : (145024, 20)\n",
      "original 6 : (145024, 20)\n",
      "after remove : (140507, 20)\n",
      "original 9 : (141827, 20)\n",
      "after remove : (140667, 20)\n",
      "original 12 : (146603, 20)\n",
      "after remove : (145206, 20)\n"
     ]
    }
   ],
   "source": [
    "dupli_col = ['링크아이디','06시', '07시', '08시', '09시', '17시', '18시', '19시','20시']\n",
    "print('original 3 :',car3.shape)\n",
    "car3 = car3.drop_duplicates(dupli_col,keep=False)\n",
    "print('after remove :',car3.shape)\n",
    "print('original 6 :',car3.shape)\n",
    "car6 = car6.drop_duplicates(dupli_col,keep=False)\n",
    "print('after remove :',car6.shape)\n",
    "print('original 9 :',car9.shape)\n",
    "car9 = car9.drop_duplicates(dupli_col,keep=False)\n",
    "print('after remove :',car9.shape)\n",
    "print('original 12 :',car12.shape)\n",
    "car12 = car12.drop_duplicates(dupli_col,keep=False)\n",
    "print('after remove :',car12.shape)"
   ]
  },
  {
   "cell_type": "markdown",
   "metadata": {},
   "source": [
    "# 4. Melt"
   ]
  },
  {
   "cell_type": "code",
   "execution_count": 158,
   "metadata": {},
   "outputs": [
    {
     "data": {
      "text/plain": [
       "Index(['일자', '요일', '도로명', '링크아이디', '시점명', '종점명', '방향', '거리', '차선수', '기능유형구분',\n",
       "       '도심/외곽구분', '권역구분', '06시', '07시', '08시', '09시', '17시', '18시', '19시',\n",
       "       '20시'],\n",
       "      dtype='object')"
      ]
     },
     "execution_count": 158,
     "metadata": {},
     "output_type": "execute_result"
    }
   ],
   "source": [
    "car3.columns"
   ]
  },
  {
   "cell_type": "code",
   "execution_count": 159,
   "metadata": {},
   "outputs": [],
   "source": [
    "melt_col = list(car3.columns[:12])\n",
    "car3 = pd.melt(car3, id_vars = melt_col)\n",
    "car6 = pd.melt(car6, id_vars = melt_col)\n",
    "car9 = pd.melt(car9, id_vars = melt_col)\n",
    "car12 = pd.melt(car12, id_vars = melt_col)"
   ]
  },
  {
   "cell_type": "code",
   "execution_count": 160,
   "metadata": {},
   "outputs": [
    {
     "data": {
      "text/html": [
       "<div>\n",
       "<style scoped>\n",
       "    .dataframe tbody tr th:only-of-type {\n",
       "        vertical-align: middle;\n",
       "    }\n",
       "\n",
       "    .dataframe tbody tr th {\n",
       "        vertical-align: top;\n",
       "    }\n",
       "\n",
       "    .dataframe thead th {\n",
       "        text-align: right;\n",
       "    }\n",
       "</style>\n",
       "<table border=\"1\" class=\"dataframe\">\n",
       "  <thead>\n",
       "    <tr style=\"text-align: right;\">\n",
       "      <th></th>\n",
       "      <th>일자</th>\n",
       "      <th>요일</th>\n",
       "      <th>도로명</th>\n",
       "      <th>링크아이디</th>\n",
       "      <th>시점명</th>\n",
       "      <th>종점명</th>\n",
       "      <th>방향</th>\n",
       "      <th>거리</th>\n",
       "      <th>차선수</th>\n",
       "      <th>기능유형구분</th>\n",
       "      <th>도심/외곽구분</th>\n",
       "      <th>권역구분</th>\n",
       "      <th>variable</th>\n",
       "      <th>value</th>\n",
       "    </tr>\n",
       "  </thead>\n",
       "  <tbody>\n",
       "    <tr>\n",
       "      <th>0</th>\n",
       "      <td>20180313</td>\n",
       "      <td>화</td>\n",
       "      <td>4.19로</td>\n",
       "      <td>1080012200</td>\n",
       "      <td>아카데미하우스</td>\n",
       "      <td>국립4.19묘지</td>\n",
       "      <td>상행</td>\n",
       "      <td>1179</td>\n",
       "      <td>1</td>\n",
       "      <td>보조간선도로</td>\n",
       "      <td>외곽</td>\n",
       "      <td>강북구</td>\n",
       "      <td>06시</td>\n",
       "      <td>42.95</td>\n",
       "    </tr>\n",
       "    <tr>\n",
       "      <th>1</th>\n",
       "      <td>20180331</td>\n",
       "      <td>토</td>\n",
       "      <td>4.19로</td>\n",
       "      <td>1080012200</td>\n",
       "      <td>아카데미하우스</td>\n",
       "      <td>국립4.19묘지</td>\n",
       "      <td>상행</td>\n",
       "      <td>1179</td>\n",
       "      <td>1</td>\n",
       "      <td>보조간선도로</td>\n",
       "      <td>외곽</td>\n",
       "      <td>강북구</td>\n",
       "      <td>06시</td>\n",
       "      <td>41.73</td>\n",
       "    </tr>\n",
       "  </tbody>\n",
       "</table>\n",
       "</div>"
      ],
      "text/plain": [
       "         일자 요일    도로명       링크아이디      시점명       종점명  방향    거리  차선수  기능유형구분  \\\n",
       "0  20180313  화  4.19로  1080012200  아카데미하우스  국립4.19묘지  상행  1179    1  보조간선도로   \n",
       "1  20180331  토  4.19로  1080012200  아카데미하우스  국립4.19묘지  상행  1179    1  보조간선도로   \n",
       "\n",
       "  도심/외곽구분 권역구분 variable  value  \n",
       "0      외곽  강북구      06시  42.95  \n",
       "1      외곽  강북구      06시  41.73  "
      ]
     },
     "execution_count": 160,
     "metadata": {},
     "output_type": "execute_result"
    }
   ],
   "source": [
    "car3.head(2)"
   ]
  },
  {
   "cell_type": "code",
   "execution_count": 161,
   "metadata": {},
   "outputs": [],
   "source": [
    "car3['variable'] = car3['variable'].apply(lambda x: int(x.replace(\"시\",\"\")))\n",
    "car6['variable'] = car6['variable'].apply(lambda x: int(x.replace(\"시\",\"\")))\n",
    "car9['variable'] = car9['variable'].apply(lambda x: int(x.replace(\"시\",\"\")))\n",
    "car12['variable'] = car12['variable'].apply(lambda x: int(x.replace(\"시\",\"\")))"
   ]
  },
  {
   "cell_type": "code",
   "execution_count": 162,
   "metadata": {},
   "outputs": [],
   "source": [
    "car3.columns = ['date','days','road_name','link_id','start_point','end_point','direction','road_length','road_num','road_type','urban_suburb','district','time','value']\n",
    "car6.columns = ['date','days','road_name','link_id','start_point','end_point','direction','road_length','road_num','road_type','urban_suburb','district','time','value']\n",
    "car9.columns = ['date','days','road_name','link_id','start_point','end_point','direction','road_length','road_num','road_type','urban_suburb','district','time','value']\n",
    "car12.columns = ['date','days','road_name','link_id','start_point','end_point','direction','road_length','road_num','road_type','urban_suburb','district','time','value']"
   ]
  },
  {
   "cell_type": "code",
   "execution_count": 163,
   "metadata": {},
   "outputs": [
    {
     "name": "stdout",
     "output_type": "stream",
     "text": [
      "(1160192, 14)\n"
     ]
    },
    {
     "data": {
      "text/html": [
       "<div>\n",
       "<style scoped>\n",
       "    .dataframe tbody tr th:only-of-type {\n",
       "        vertical-align: middle;\n",
       "    }\n",
       "\n",
       "    .dataframe tbody tr th {\n",
       "        vertical-align: top;\n",
       "    }\n",
       "\n",
       "    .dataframe thead th {\n",
       "        text-align: right;\n",
       "    }\n",
       "</style>\n",
       "<table border=\"1\" class=\"dataframe\">\n",
       "  <thead>\n",
       "    <tr style=\"text-align: right;\">\n",
       "      <th></th>\n",
       "      <th>date</th>\n",
       "      <th>days</th>\n",
       "      <th>road_name</th>\n",
       "      <th>link_id</th>\n",
       "      <th>start_point</th>\n",
       "      <th>end_point</th>\n",
       "      <th>direction</th>\n",
       "      <th>road_length</th>\n",
       "      <th>road_num</th>\n",
       "      <th>road_type</th>\n",
       "      <th>urban_suburb</th>\n",
       "      <th>district</th>\n",
       "      <th>time</th>\n",
       "      <th>value</th>\n",
       "    </tr>\n",
       "  </thead>\n",
       "  <tbody>\n",
       "    <tr>\n",
       "      <th>0</th>\n",
       "      <td>20180313</td>\n",
       "      <td>화</td>\n",
       "      <td>4.19로</td>\n",
       "      <td>1080012200</td>\n",
       "      <td>아카데미하우스</td>\n",
       "      <td>국립4.19묘지</td>\n",
       "      <td>상행</td>\n",
       "      <td>1179</td>\n",
       "      <td>1</td>\n",
       "      <td>보조간선도로</td>\n",
       "      <td>외곽</td>\n",
       "      <td>강북구</td>\n",
       "      <td>6</td>\n",
       "      <td>42.95</td>\n",
       "    </tr>\n",
       "    <tr>\n",
       "      <th>1</th>\n",
       "      <td>20180331</td>\n",
       "      <td>토</td>\n",
       "      <td>4.19로</td>\n",
       "      <td>1080012200</td>\n",
       "      <td>아카데미하우스</td>\n",
       "      <td>국립4.19묘지</td>\n",
       "      <td>상행</td>\n",
       "      <td>1179</td>\n",
       "      <td>1</td>\n",
       "      <td>보조간선도로</td>\n",
       "      <td>외곽</td>\n",
       "      <td>강북구</td>\n",
       "      <td>6</td>\n",
       "      <td>41.73</td>\n",
       "    </tr>\n",
       "  </tbody>\n",
       "</table>\n",
       "</div>"
      ],
      "text/plain": [
       "       date days road_name     link_id start_point end_point direction  \\\n",
       "0  20180313    화     4.19로  1080012200     아카데미하우스  국립4.19묘지        상행   \n",
       "1  20180331    토     4.19로  1080012200     아카데미하우스  국립4.19묘지        상행   \n",
       "\n",
       "   road_length  road_num road_type urban_suburb district  time  value  \n",
       "0         1179         1    보조간선도로           외곽      강북구     6  42.95  \n",
       "1         1179         1    보조간선도로           외곽      강북구     6  41.73  "
      ]
     },
     "execution_count": 163,
     "metadata": {},
     "output_type": "execute_result"
    }
   ],
   "source": [
    "print(car3.shape) #100man\n",
    "car3.head(2)"
   ]
  },
  {
   "cell_type": "markdown",
   "metadata": {},
   "source": [
    "# 5. Weather"
   ]
  },
  {
   "cell_type": "code",
   "execution_count": 164,
   "metadata": {},
   "outputs": [
    {
     "data": {
      "text/html": [
       "<div>\n",
       "<style scoped>\n",
       "    .dataframe tbody tr th:only-of-type {\n",
       "        vertical-align: middle;\n",
       "    }\n",
       "\n",
       "    .dataframe tbody tr th {\n",
       "        vertical-align: top;\n",
       "    }\n",
       "\n",
       "    .dataframe thead th {\n",
       "        text-align: right;\n",
       "    }\n",
       "</style>\n",
       "<table border=\"1\" class=\"dataframe\">\n",
       "  <thead>\n",
       "    <tr style=\"text-align: right;\">\n",
       "      <th></th>\n",
       "      <th>temperature</th>\n",
       "      <th>wind</th>\n",
       "      <th>rain</th>\n",
       "      <th>date</th>\n",
       "      <th>district</th>\n",
       "      <th>time</th>\n",
       "      <th>snow</th>\n",
       "    </tr>\n",
       "  </thead>\n",
       "  <tbody>\n",
       "    <tr>\n",
       "      <th>0</th>\n",
       "      <td>-0.7</td>\n",
       "      <td>1.1</td>\n",
       "      <td>0.0</td>\n",
       "      <td>20180101</td>\n",
       "      <td>강남구</td>\n",
       "      <td>0</td>\n",
       "      <td>0.0</td>\n",
       "    </tr>\n",
       "    <tr>\n",
       "      <th>1</th>\n",
       "      <td>-0.9</td>\n",
       "      <td>0.9</td>\n",
       "      <td>0.0</td>\n",
       "      <td>20180101</td>\n",
       "      <td>강남구</td>\n",
       "      <td>1</td>\n",
       "      <td>0.0</td>\n",
       "    </tr>\n",
       "  </tbody>\n",
       "</table>\n",
       "</div>"
      ],
      "text/plain": [
       "   temperature  wind  rain      date district  time  snow\n",
       "0         -0.7   1.1   0.0  20180101      강남구     0   0.0\n",
       "1         -0.9   0.9   0.0  20180101      강남구     1   0.0"
      ]
     },
     "execution_count": 164,
     "metadata": {},
     "output_type": "execute_result"
    }
   ],
   "source": [
    "weather = pd.read_csv(\"weather_merged.csv\")\n",
    "weather.drop(['지점', '일시','id'],axis=1,inplace=True)\n",
    "weather['일자'] = weather['일자'].apply(lambda x: int(x.replace(\"-\",\"\")))\n",
    "weather = weather.rename(columns={'일자':'date'})\n",
    "weather.head(2)"
   ]
  },
  {
   "cell_type": "code",
   "execution_count": 165,
   "metadata": {},
   "outputs": [],
   "source": [
    "car3 = pd.merge(car3,weather,on=['date','district','time'],how='inner')\n",
    "car6 = pd.merge(car6,weather,on=['date','district','time'],how='inner')\n",
    "car9 = pd.merge(car9,weather,on=['date','district','time'],how='inner')\n",
    "car12 = pd.merge(car12,weather,on=['date','district','time'],how='inner')"
   ]
  },
  {
   "cell_type": "markdown",
   "metadata": {},
   "source": [
    "# 6. 공기오염도"
   ]
  },
  {
   "cell_type": "code",
   "execution_count": 166,
   "metadata": {},
   "outputs": [
    {
     "data": {
      "text/html": [
       "<div>\n",
       "<style scoped>\n",
       "    .dataframe tbody tr th:only-of-type {\n",
       "        vertical-align: middle;\n",
       "    }\n",
       "\n",
       "    .dataframe tbody tr th {\n",
       "        vertical-align: top;\n",
       "    }\n",
       "\n",
       "    .dataframe thead th {\n",
       "        text-align: right;\n",
       "    }\n",
       "</style>\n",
       "<table border=\"1\" class=\"dataframe\">\n",
       "  <thead>\n",
       "    <tr style=\"text-align: right;\">\n",
       "      <th></th>\n",
       "      <th>날짜</th>\n",
       "      <th>시도</th>\n",
       "      <th>측정소명</th>\n",
       "      <th>측정소코드</th>\n",
       "      <th>아황산가스</th>\n",
       "      <th>일산화탄소</th>\n",
       "      <th>오존</th>\n",
       "      <th>이산화질소</th>\n",
       "      <th>PM10</th>\n",
       "      <th>PM2.5</th>\n",
       "    </tr>\n",
       "  </thead>\n",
       "  <tbody>\n",
       "    <tr>\n",
       "      <th>0</th>\n",
       "      <td>2018-03-01 01</td>\n",
       "      <td>서울 중구</td>\n",
       "      <td>중구</td>\n",
       "      <td>111121</td>\n",
       "      <td>0.003</td>\n",
       "      <td>0.6</td>\n",
       "      <td>0.023</td>\n",
       "      <td>0.029</td>\n",
       "      <td>7.0</td>\n",
       "      <td>4.0</td>\n",
       "    </tr>\n",
       "    <tr>\n",
       "      <th>1</th>\n",
       "      <td>2018-03-01 02</td>\n",
       "      <td>서울 중구</td>\n",
       "      <td>중구</td>\n",
       "      <td>111121</td>\n",
       "      <td>0.003</td>\n",
       "      <td>0.6</td>\n",
       "      <td>0.015</td>\n",
       "      <td>0.036</td>\n",
       "      <td>6.0</td>\n",
       "      <td>4.0</td>\n",
       "    </tr>\n",
       "  </tbody>\n",
       "</table>\n",
       "</div>"
      ],
      "text/plain": [
       "              날짜     시도 측정소명   측정소코드  아황산가스  일산화탄소     오존  이산화질소  PM10  PM2.5\n",
       "0  2018-03-01 01  서울 중구   중구  111121  0.003    0.6  0.023  0.029   7.0    4.0\n",
       "1  2018-03-01 02  서울 중구   중구  111121  0.003    0.6  0.015  0.036   6.0    4.0"
      ]
     },
     "execution_count": 166,
     "metadata": {},
     "output_type": "execute_result"
    }
   ],
   "source": [
    "airpollution = pd.read_csv(\"airpollution36912.csv\")\n",
    "airpollution.head(2)"
   ]
  },
  {
   "cell_type": "code",
   "execution_count": 167,
   "metadata": {},
   "outputs": [],
   "source": [
    "airpollution['date'] = airpollution['날짜'].apply(lambda x: int(x[:10].replace(\"-\",\"\")))\n",
    "airpollution['time'] = airpollution['날짜'].apply(lambda x: int(x[-2:]))"
   ]
  },
  {
   "cell_type": "code",
   "execution_count": 168,
   "metadata": {},
   "outputs": [],
   "source": [
    "airpollution.drop(['날짜','시도','측정소코드'],axis=1,inplace=True)\n",
    "airpollution.columns = ['district','SO2','CO','O3','NO2','PM10','PM2.5','date','time']"
   ]
  },
  {
   "cell_type": "code",
   "execution_count": 169,
   "metadata": {},
   "outputs": [],
   "source": [
    "car3 = pd.merge(car3,airpollution,on=['date','district','time'])\n",
    "car6 = pd.merge(car6,airpollution,on=['date','district','time'])\n",
    "car9 = pd.merge(car9,airpollution,on=['date','district','time'])\n",
    "car12 = pd.merge(car12,airpollution,on=['date','district','time'])"
   ]
  },
  {
   "cell_type": "markdown",
   "metadata": {},
   "source": [
    "# 7. 도로 정보"
   ]
  },
  {
   "cell_type": "code",
   "execution_count": 177,
   "metadata": {},
   "outputs": [
    {
     "data": {
      "text/html": [
       "<div>\n",
       "<style scoped>\n",
       "    .dataframe tbody tr th:only-of-type {\n",
       "        vertical-align: middle;\n",
       "    }\n",
       "\n",
       "    .dataframe tbody tr th {\n",
       "        vertical-align: top;\n",
       "    }\n",
       "\n",
       "    .dataframe thead th {\n",
       "        text-align: right;\n",
       "    }\n",
       "</style>\n",
       "<table border=\"1\" class=\"dataframe\">\n",
       "  <thead>\n",
       "    <tr style=\"text-align: right;\">\n",
       "      <th></th>\n",
       "      <th>링크아이디</th>\n",
       "      <th>CCTV</th>\n",
       "      <th>어린이</th>\n",
       "      <th>제한속도</th>\n",
       "      <th>진출입구</th>\n",
       "      <th>신호기</th>\n",
       "    </tr>\n",
       "  </thead>\n",
       "  <tbody>\n",
       "    <tr>\n",
       "      <th>0</th>\n",
       "      <td>1180021600</td>\n",
       "      <td>0.0</td>\n",
       "      <td>1.0</td>\n",
       "      <td>30.0</td>\n",
       "      <td>21.0</td>\n",
       "      <td>30.0</td>\n",
       "    </tr>\n",
       "    <tr>\n",
       "      <th>1</th>\n",
       "      <td>1180021200</td>\n",
       "      <td>0.0</td>\n",
       "      <td>1.0</td>\n",
       "      <td>30.0</td>\n",
       "      <td>21.0</td>\n",
       "      <td>30.0</td>\n",
       "    </tr>\n",
       "  </tbody>\n",
       "</table>\n",
       "</div>"
      ],
      "text/plain": [
       "        링크아이디  CCTV  어린이  제한속도  진출입구   신호기\n",
       "0  1180021600   0.0  1.0  30.0  21.0  30.0\n",
       "1  1180021200   0.0  1.0  30.0  21.0  30.0"
      ]
     },
     "execution_count": 177,
     "metadata": {},
     "output_type": "execute_result"
    }
   ],
   "source": [
    "road = pd.read_csv(\"도로정보_TOTAL.csv\")\n",
    "road.drop(['도로명','시점명','종점명','방향','노인','장애인','생활도로'],axis=1,inplace=True)\n",
    "road.head(2)"
   ]
  },
  {
   "cell_type": "code",
   "execution_count": 178,
   "metadata": {},
   "outputs": [],
   "source": [
    "road.columns = ['link_id','cctv','kids','speed_limit','entrance','signal']"
   ]
  },
  {
   "cell_type": "code",
   "execution_count": 179,
   "metadata": {},
   "outputs": [
    {
     "data": {
      "text/plain": [
       "Index(['link_id', 'cctv', 'kids', 'speed_limit', 'entrance', 'signal'], dtype='object')"
      ]
     },
     "execution_count": 179,
     "metadata": {},
     "output_type": "execute_result"
    }
   ],
   "source": [
    "road.columns"
   ]
  },
  {
   "cell_type": "code",
   "execution_count": 180,
   "metadata": {},
   "outputs": [
    {
     "data": {
      "text/plain": [
       "Index(['date', 'days', 'road_name', 'link_id', 'start_point', 'end_point',\n",
       "       'direction', 'road_length', 'road_num', 'road_type', 'urban_suburb',\n",
       "       'district', 'time', 'value', 'temperature', 'wind', 'rain', 'snow',\n",
       "       'SO2', 'CO', 'O3', 'NO2', 'PM10', 'PM2.5'],\n",
       "      dtype='object')"
      ]
     },
     "execution_count": 180,
     "metadata": {},
     "output_type": "execute_result"
    }
   ],
   "source": [
    "car3.columns"
   ]
  },
  {
   "cell_type": "code",
   "execution_count": 183,
   "metadata": {},
   "outputs": [],
   "source": [
    "car3 = pd.merge(car3,road,on=['link_id'],how='inner')\n",
    "car6 = pd.merge(car6,road,on=['link_id'],how='inner')\n",
    "car9 = pd.merge(car9,road,on=['link_id'],how='inner')\n",
    "car12 = pd.merge(car12,road,on=['link_id'],how='inner')"
   ]
  },
  {
   "cell_type": "markdown",
   "metadata": {},
   "source": [
    "# 8. drop holiday & NA"
   ]
  },
  {
   "cell_type": "code",
   "execution_count": 186,
   "metadata": {},
   "outputs": [],
   "source": [
    "holiday = pd.read_csv('holiday.csv')\n",
    "holiday.columns = ['ee']"
   ]
  },
  {
   "cell_type": "code",
   "execution_count": 207,
   "metadata": {},
   "outputs": [
    {
     "data": {
      "text/html": [
       "<div>\n",
       "<style scoped>\n",
       "    .dataframe tbody tr th:only-of-type {\n",
       "        vertical-align: middle;\n",
       "    }\n",
       "\n",
       "    .dataframe tbody tr th {\n",
       "        vertical-align: top;\n",
       "    }\n",
       "\n",
       "    .dataframe thead th {\n",
       "        text-align: right;\n",
       "    }\n",
       "</style>\n",
       "<table border=\"1\" class=\"dataframe\">\n",
       "  <thead>\n",
       "    <tr style=\"text-align: right;\">\n",
       "      <th></th>\n",
       "      <th>date</th>\n",
       "      <th>holiday</th>\n",
       "      <th>special</th>\n",
       "      <th>vacation</th>\n",
       "    </tr>\n",
       "  </thead>\n",
       "  <tbody>\n",
       "    <tr>\n",
       "      <th>0</th>\n",
       "      <td>20180101</td>\n",
       "      <td>1</td>\n",
       "      <td>0</td>\n",
       "      <td>0</td>\n",
       "    </tr>\n",
       "    <tr>\n",
       "      <th>1</th>\n",
       "      <td>20180102</td>\n",
       "      <td>0</td>\n",
       "      <td>0</td>\n",
       "      <td>0</td>\n",
       "    </tr>\n",
       "  </tbody>\n",
       "</table>\n",
       "</div>"
      ],
      "text/plain": [
       "       date  holiday  special  vacation\n",
       "0  20180101        1        0         0\n",
       "1  20180102        0        0         0"
      ]
     },
     "execution_count": 207,
     "metadata": {},
     "output_type": "execute_result"
    }
   ],
   "source": [
    "holiday['date'] = holiday['ee'].apply(lambda x: int(x[:8]))\n",
    "holiday['holiday'] = holiday['ee'].apply(lambda x: int(x[9:10]))\n",
    "holiday['special'] = holiday['ee'].apply(lambda x: int(x[11:12]))\n",
    "holiday['vacation'] = holiday['ee'].apply(lambda x: int(x[13:14]))\n",
    "holiday.drop('ee',axis=1,inplace=True)\n",
    "holiday.head(2)"
   ]
  },
  {
   "cell_type": "code",
   "execution_count": 212,
   "metadata": {},
   "outputs": [
    {
     "name": "stdout",
     "output_type": "stream",
     "text": [
      "<class 'pandas.core.frame.DataFrame'>\n",
      "RangeIndex: 365 entries, 0 to 364\n",
      "Data columns (total 4 columns):\n",
      "date        365 non-null int64\n",
      "holiday     365 non-null int64\n",
      "special     365 non-null int64\n",
      "vacation    365 non-null int64\n",
      "dtypes: int64(4)\n",
      "memory usage: 11.5 KB\n"
     ]
    }
   ],
   "source": [
    "holiday.info()"
   ]
  },
  {
   "cell_type": "code",
   "execution_count": 217,
   "metadata": {},
   "outputs": [],
   "source": [
    "car3 = pd.merge(car3,holiday,on=['date'])\n",
    "car3 = car3[car3['holiday']==0]\n",
    "car6 = pd.merge(car6,holiday,on=['date'])\n",
    "car6 = car6[car6['holiday']==0]\n",
    "car9 = pd.merge(car9,holiday,on=['date'])\n",
    "car9 = car9[car9['holiday']==0]\n",
    "car12 = pd.merge(car12,holiday,on=['date'])\n",
    "car12 = car12[car12['holiday']==0]"
   ]
  },
  {
   "cell_type": "markdown",
   "metadata": {},
   "source": [
    "# 9. concat"
   ]
  },
  {
   "cell_type": "code",
   "execution_count": 5,
   "metadata": {},
   "outputs": [
    {
     "name": "stdout",
     "output_type": "stream",
     "text": [
      "(576748, 32)\n"
     ]
    }
   ],
   "source": [
    "car = pd.concat([car3,car6[car3.columns]])\n",
    "car = pd.concat([car,car9[car3.columns]])\n",
    "car = pd.concat([car,car12[car3.columns]])\n",
    "car = pd.DataFrame(car)\n",
    "print(car.shape)"
   ]
  }
 ],
 "metadata": {
  "kernelspec": {
   "display_name": "Python 3",
   "language": "python",
   "name": "python3"
  },
  "language_info": {
   "codemirror_mode": {
    "name": "ipython",
    "version": 3
   },
   "file_extension": ".py",
   "mimetype": "text/x-python",
   "name": "python",
   "nbconvert_exporter": "python",
   "pygments_lexer": "ipython3",
   "version": "3.5.2"
  }
 },
 "nbformat": 4,
 "nbformat_minor": 2
}
